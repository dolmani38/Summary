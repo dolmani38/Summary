{
  "nbformat": 4,
  "nbformat_minor": 0,
  "metadata": {
    "kernelspec": {
      "language": "python",
      "display_name": "Python 3",
      "name": "python3"
    },
    "language_info": {
      "name": "python",
      "version": "3.7.6",
      "mimetype": "text/x-python",
      "codemirror_mode": {
        "name": "ipython",
        "version": 3
      },
      "pygments_lexer": "ipython3",
      "nbconvert_exporter": "python",
      "file_extension": ".py"
    },
    "colab": {
      "name": "real_summary3.ipynb",
      "provenance": [],
      "include_colab_link": true
    },
    "accelerator": "GPU"
  },
  "cells": [
    {
      "cell_type": "markdown",
      "metadata": {
        "id": "view-in-github",
        "colab_type": "text"
      },
      "source": [
        "<a href=\"https://colab.research.google.com/github/dolmani38/Summary/blob/master/real_summary3.ipynb\" target=\"_parent\"><img src=\"https://colab.research.google.com/assets/colab-badge.svg\" alt=\"Open In Colab\"/></a>"
      ]
    },
    {
      "cell_type": "markdown",
      "metadata": {
        "id": "vz7O2Dt-VoI0"
      },
      "source": [
        "# **Beginners Guide to Text Generation using LSTMs**\n",
        "\n",
        "https://www.kaggle.com/shivamb/beginners-guide-to-text-generation-using-lstms\n",
        "\n",
        "참조 : https://github.com/williamSYSU/TextGAN-PyTorch\n"
      ]
    },
    {
      "cell_type": "code",
      "metadata": {
        "trusted": true,
        "id": "n2F_YwA-s-zL",
        "outputId": "d322fe2d-0d33-4b5f-868d-a64fe45bf9f5"
      },
      "source": [
        "!pip install sentence-transformers"
      ],
      "execution_count": null,
      "outputs": [
        {
          "output_type": "stream",
          "text": [
            "Collecting sentence-transformers\n",
            "  Downloading sentence-transformers-0.4.0.tar.gz (65 kB)\n",
            "\u001b[K     |████████████████████████████████| 65 kB 632 kB/s eta 0:00:011\n",
            "\u001b[?25hRequirement already satisfied: transformers<5.0.0,>=3.1.0 in /opt/conda/lib/python3.7/site-packages (from sentence-transformers) (3.5.1)\n",
            "Requirement already satisfied: tqdm in /opt/conda/lib/python3.7/site-packages (from sentence-transformers) (4.45.0)\n",
            "Requirement already satisfied: torch>=1.6.0 in /opt/conda/lib/python3.7/site-packages (from sentence-transformers) (1.7.0)\n",
            "Requirement already satisfied: numpy in /opt/conda/lib/python3.7/site-packages (from sentence-transformers) (1.18.5)\n",
            "Requirement already satisfied: scikit-learn in /opt/conda/lib/python3.7/site-packages (from sentence-transformers) (0.23.2)\n",
            "Requirement already satisfied: scipy in /opt/conda/lib/python3.7/site-packages (from sentence-transformers) (1.4.1)\n",
            "Requirement already satisfied: nltk in /opt/conda/lib/python3.7/site-packages (from sentence-transformers) (3.2.4)\n",
            "Requirement already satisfied: sentencepiece in /opt/conda/lib/python3.7/site-packages (from sentence-transformers) (0.1.91)\n",
            "Requirement already satisfied: six in /opt/conda/lib/python3.7/site-packages (from nltk->sentence-transformers) (1.14.0)\n",
            "Requirement already satisfied: threadpoolctl>=2.0.0 in /opt/conda/lib/python3.7/site-packages (from scikit-learn->sentence-transformers) (2.1.0)\n",
            "Requirement already satisfied: joblib>=0.11 in /opt/conda/lib/python3.7/site-packages (from scikit-learn->sentence-transformers) (0.14.1)\n",
            "Requirement already satisfied: numpy in /opt/conda/lib/python3.7/site-packages (from sentence-transformers) (1.18.5)\n",
            "Requirement already satisfied: scipy in /opt/conda/lib/python3.7/site-packages (from sentence-transformers) (1.4.1)\n",
            "Requirement already satisfied: numpy in /opt/conda/lib/python3.7/site-packages (from sentence-transformers) (1.18.5)\n",
            "Requirement already satisfied: future in /opt/conda/lib/python3.7/site-packages (from torch>=1.6.0->sentence-transformers) (0.18.2)\n",
            "Requirement already satisfied: typing_extensions in /opt/conda/lib/python3.7/site-packages (from torch>=1.6.0->sentence-transformers) (3.7.4.1)\n",
            "Requirement already satisfied: dataclasses in /opt/conda/lib/python3.7/site-packages (from torch>=1.6.0->sentence-transformers) (0.6)\n",
            "Requirement already satisfied: numpy in /opt/conda/lib/python3.7/site-packages (from sentence-transformers) (1.18.5)\n",
            "Requirement already satisfied: sacremoses in /opt/conda/lib/python3.7/site-packages (from transformers<5.0.0,>=3.1.0->sentence-transformers) (0.0.43)\n",
            "Requirement already satisfied: sentencepiece in /opt/conda/lib/python3.7/site-packages (from sentence-transformers) (0.1.91)\n",
            "Requirement already satisfied: regex!=2019.12.17 in /opt/conda/lib/python3.7/site-packages (from transformers<5.0.0,>=3.1.0->sentence-transformers) (2020.4.4)\n",
            "Requirement already satisfied: requests in /opt/conda/lib/python3.7/site-packages (from transformers<5.0.0,>=3.1.0->sentence-transformers) (2.23.0)\n",
            "Requirement already satisfied: protobuf in /opt/conda/lib/python3.7/site-packages (from transformers<5.0.0,>=3.1.0->sentence-transformers) (3.14.0)\n",
            "Requirement already satisfied: filelock in /opt/conda/lib/python3.7/site-packages (from transformers<5.0.0,>=3.1.0->sentence-transformers) (3.0.10)\n",
            "Requirement already satisfied: tokenizers==0.9.3 in /opt/conda/lib/python3.7/site-packages (from transformers<5.0.0,>=3.1.0->sentence-transformers) (0.9.3)\n",
            "Requirement already satisfied: tqdm in /opt/conda/lib/python3.7/site-packages (from sentence-transformers) (4.45.0)\n",
            "Requirement already satisfied: numpy in /opt/conda/lib/python3.7/site-packages (from sentence-transformers) (1.18.5)\n",
            "Requirement already satisfied: packaging in /opt/conda/lib/python3.7/site-packages (from transformers<5.0.0,>=3.1.0->sentence-transformers) (20.1)\n",
            "Requirement already satisfied: six in /opt/conda/lib/python3.7/site-packages (from nltk->sentence-transformers) (1.14.0)\n",
            "Requirement already satisfied: pyparsing>=2.0.2 in /opt/conda/lib/python3.7/site-packages (from packaging->transformers<5.0.0,>=3.1.0->sentence-transformers) (2.4.7)\n",
            "Requirement already satisfied: six in /opt/conda/lib/python3.7/site-packages (from nltk->sentence-transformers) (1.14.0)\n",
            "Requirement already satisfied: certifi>=2017.4.17 in /opt/conda/lib/python3.7/site-packages (from requests->transformers<5.0.0,>=3.1.0->sentence-transformers) (2020.12.5)\n",
            "Requirement already satisfied: urllib3!=1.25.0,!=1.25.1,<1.26,>=1.21.1 in /opt/conda/lib/python3.7/site-packages (from requests->transformers<5.0.0,>=3.1.0->sentence-transformers) (1.25.9)\n",
            "Requirement already satisfied: idna<3,>=2.5 in /opt/conda/lib/python3.7/site-packages (from requests->transformers<5.0.0,>=3.1.0->sentence-transformers) (2.9)\n",
            "Requirement already satisfied: chardet<4,>=3.0.2 in /opt/conda/lib/python3.7/site-packages (from requests->transformers<5.0.0,>=3.1.0->sentence-transformers) (3.0.4)\n",
            "Requirement already satisfied: tqdm in /opt/conda/lib/python3.7/site-packages (from sentence-transformers) (4.45.0)\n",
            "Requirement already satisfied: six in /opt/conda/lib/python3.7/site-packages (from nltk->sentence-transformers) (1.14.0)\n",
            "Requirement already satisfied: joblib>=0.11 in /opt/conda/lib/python3.7/site-packages (from scikit-learn->sentence-transformers) (0.14.1)\n",
            "Requirement already satisfied: regex!=2019.12.17 in /opt/conda/lib/python3.7/site-packages (from transformers<5.0.0,>=3.1.0->sentence-transformers) (2020.4.4)\n",
            "Requirement already satisfied: click in /opt/conda/lib/python3.7/site-packages (from sacremoses->transformers<5.0.0,>=3.1.0->sentence-transformers) (7.1.1)\n",
            "Building wheels for collected packages: sentence-transformers\n",
            "  Building wheel for sentence-transformers (setup.py) ... \u001b[?25ldone\n",
            "\u001b[?25h  Created wheel for sentence-transformers: filename=sentence_transformers-0.4.0-py3-none-any.whl size=102651 sha256=2f98a74d60169ba6644bb792a3462524331c80bd71667fe77418308e0f74d2b1\n",
            "  Stored in directory: /root/.cache/pip/wheels/2a/8d/08/4a10448945e7a511061172df2c2a890e0d359e9a2060d89c44\n",
            "Successfully built sentence-transformers\n",
            "Installing collected packages: sentence-transformers\n",
            "Successfully installed sentence-transformers-0.4.0\n",
            "\u001b[33mWARNING: You are using pip version 20.3.1; however, version 20.3.3 is available.\n",
            "You should consider upgrading via the '/opt/conda/bin/python3.7 -m pip install --upgrade pip' command.\u001b[0m\n"
          ],
          "name": "stdout"
        }
      ]
    },
    {
      "cell_type": "code",
      "metadata": {
        "id": "P1m66KMMVs-P",
        "trusted": true
      },
      "source": [
        "# keras module for building LSTM \n",
        "from keras.preprocessing.sequence import pad_sequences\n",
        "from keras.layers import Embedding, LSTM, Dense, Dropout\n",
        "from keras.preprocessing.text import Tokenizer\n",
        "from keras.callbacks import EarlyStopping\n",
        "from keras.models import Sequential\n",
        "import keras.utils as ku \n",
        "\n",
        "# set seeds for reproducability\n",
        "from tensorflow.random import set_seed\n",
        "from numpy.random import seed\n",
        "set_seed(2)\n",
        "seed(1)\n",
        "\n",
        "import pandas as pd\n",
        "import numpy as np\n",
        "import string, os \n",
        "\n",
        "import warnings\n",
        "warnings.filterwarnings(\"ignore\")\n",
        "warnings.simplefilter(action='ignore', category=FutureWarning)"
      ],
      "execution_count": null,
      "outputs": []
    },
    {
      "cell_type": "markdown",
      "metadata": {
        "id": "RFOzAn2BXr8m"
      },
      "source": [
        "* Text dataset을 만들기 위해 위키백과에서 스크랩핑...\n",
        "\n",
        "# 여기는 생략 가능"
      ]
    },
    {
      "cell_type": "code",
      "metadata": {
        "id": "SG3xfXYTW4Us",
        "trusted": true,
        "outputId": "62213ba5-973f-46ea-8380-e5593597d442"
      },
      "source": [
        "!pip install wikipedia\n",
        "import wikipedia as wiki\n",
        "wiki.set_lang('ko')"
      ],
      "execution_count": null,
      "outputs": [
        {
          "output_type": "stream",
          "text": [
            "Collecting wikipedia\n",
            "  Downloading wikipedia-1.4.0.tar.gz (27 kB)\n",
            "Requirement already satisfied: beautifulsoup4 in /opt/conda/lib/python3.7/site-packages (from wikipedia) (4.9.0)\n",
            "Requirement already satisfied: requests<3.0.0,>=2.0.0 in /opt/conda/lib/python3.7/site-packages (from wikipedia) (2.23.0)\n",
            "Requirement already satisfied: soupsieve>1.2 in /opt/conda/lib/python3.7/site-packages (from beautifulsoup4->wikipedia) (1.9.4)\n",
            "Requirement already satisfied: chardet<4,>=3.0.2 in /opt/conda/lib/python3.7/site-packages (from requests<3.0.0,>=2.0.0->wikipedia) (3.0.4)\n",
            "Requirement already satisfied: idna<3,>=2.5 in /opt/conda/lib/python3.7/site-packages (from requests<3.0.0,>=2.0.0->wikipedia) (2.9)\n",
            "Requirement already satisfied: certifi>=2017.4.17 in /opt/conda/lib/python3.7/site-packages (from requests<3.0.0,>=2.0.0->wikipedia) (2020.12.5)\n",
            "Requirement already satisfied: urllib3!=1.25.0,!=1.25.1,<1.26,>=1.21.1 in /opt/conda/lib/python3.7/site-packages (from requests<3.0.0,>=2.0.0->wikipedia) (1.25.9)\n",
            "Building wheels for collected packages: wikipedia\n",
            "  Building wheel for wikipedia (setup.py) ... \u001b[?25ldone\n",
            "\u001b[?25h  Created wheel for wikipedia: filename=wikipedia-1.4.0-py3-none-any.whl size=11685 sha256=c30ded6550c5864ef8ffdae7c93296e8fb09e0b76fc1ad2a2665284789e9e48f\n",
            "  Stored in directory: /root/.cache/pip/wheels/15/93/6d/5b2c68b8a64c7a7a04947b4ed6d89fb557dcc6bc27d1d7f3ba\n",
            "Successfully built wikipedia\n",
            "Installing collected packages: wikipedia\n",
            "Successfully installed wikipedia-1.4.0\n",
            "\u001b[33mWARNING: You are using pip version 20.3.1; however, version 20.3.3 is available.\n",
            "You should consider upgrading via the '/opt/conda/bin/python3.7 -m pip install --upgrade pip' command.\u001b[0m\n"
          ],
          "name": "stdout"
        }
      ]
    },
    {
      "cell_type": "code",
      "metadata": {
        "id": "dJophhN5V-JA",
        "trusted": true,
        "outputId": "8e9a7536-cdc6-45b3-d973-9473a21624ed"
      },
      "source": [
        "def __search_from_wiki(question,max_rank):\n",
        "  results = wiki.search(question,results=max_rank)\n",
        "  print(results)\n",
        "  contents = []\n",
        "  for result in results:\n",
        "    try:\n",
        "      page = wiki.page(result)\n",
        "      #print(f\"Top wiki result: {page}\")\n",
        "      text = page.content\n",
        "      ln = len(text)\n",
        "      print(ln)\n",
        "      if ln < 4000:\n",
        "        contents.append(text)\n",
        "      else:\n",
        "        contents.append(text[0:4000])\n",
        "    except Exception as ex:\n",
        "      print(ex)\n",
        "  return contents\n",
        "\n",
        "\n",
        "all_headlines = __search_from_wiki(\"전래동화\", 10)\n",
        "\n",
        "len(all_headlines)"
      ],
      "execution_count": null,
      "outputs": [
        {
          "output_type": "stream",
          "text": [
            "['동화', '신 전래동화', '꾸러기 수비대', '호시조라 미유키', '아동 문학', '한국의 사찰', '해와 달이 된 오누이', '잠자는 숲속의 미녀', '거북', '이한갈']\n",
            "685\n",
            "156\n",
            "1554\n",
            "1601\n",
            "678\n",
            "885\n",
            "392\n",
            "2037\n",
            "1377\n",
            "776\n"
          ],
          "name": "stdout"
        },
        {
          "output_type": "execute_result",
          "data": {
            "text/plain": [
              "10"
            ]
          },
          "metadata": {
            "tags": []
          },
          "execution_count": 4
        }
      ]
    },
    {
      "cell_type": "code",
      "metadata": {
        "id": "VRTkdqnDY4Ap",
        "trusted": true,
        "outputId": "6a45b09a-5103-461e-e74b-d2a693374984"
      },
      "source": [
        "all_headlines[3]"
      ],
      "execution_count": null,
      "outputs": [
        {
          "output_type": "execute_result",
          "data": {
            "text/plain": [
              "'호시조라 미유키(星空 (ほしぞら) みゆき 한국명:김다솜)는 토에이 애니메이션 제작의 애니메이션《스마일 프리큐어!》에 등장하는 가공의 인물이다. 애니메이션에서 목소리를 연기한 성우는 일본판은 후쿠엔 미사토, 한국판은 양정화이다.\\n\\n\\n== 개요 ==\\n프리큐어 시리즈 9번째 작품에 등장하는 7대째 프리큐어 전사 큐어 해피로 변신하는 인물. 가족은 부모님이 계시며, 외동딸이다. 머리 모양은 양갈래를 코로네와 소라빵모양처럼 작게 돌돌 말아 노란색 리본으로 묶고 있다.\\n그림책과 동화책 읽는 것을 가장 좋아하며, 모든지 \\'해피\\'한게 좋다는 항상 긍정적이고 해맑은 여중생이다. 첫사랑 상대는 피터팬과 백마 탄 왕자이며, 가장 좋아하는 책은 안데르센의 동화 신데렐라. 기분이 좋아 흥분하면 \"울트라 해피!(일본어: ウルトラハッピー!)\"라고 말하는 말버릇이 있다. 반면 조금 맘에 안들거나 할때는 입을 삐죽 내밀며 \"합뿌뿌~(일본어: ハップップー)\"라고 하기도 한다.\\n공부도 운동도 별로 못하고 덜렁이에 실수가 많지만, 결코 실망하는 법이 없이 한결같이 앞으로 전진하는 명랑하고 발랄한 성격인 소녀. 겉보기에는 미덥지 못하지만, 항상 모두를 행복하게 하기 위해 최선을 다하며 그 미소를 빼앗으려는 악당들에게도 과감히 맞서는 강하고 상냥한 마음은 친구들과 주변 사람들을 매료시키고있다. 한편 의외로 맘이 여리고 섬세해서 상처받기 쉬운 면도 있지만 눈물 보이는 것을 싫어하며 속으로 꾹꾹 누르며 항상 웃는 얼굴을 보여준다.\\n어릴 적에 순수하고 밝은 성격과 달리 친구만들기가 어려운 부끄럼많고 내성적인 성격이였으나, 예전에 할머니집에서 살았던 마을에서 만난 숲의 소녀 덕분에 자신감과 용기를 얻는 계기가 되었다.\\n다른 바보 3명과 달리 모든 과목을 못하는 것 같다. 16화에서는 다 아는 속담을 전래동화 드립을 쳤다.\\n\\n\\n== 큐어 해피 ==\\n성스러운 빛의 힘을 가진 프리큐어로서 변신한 모습. 이미지 색상은 분홍색.\\n\\n변신 주문은 \"프리큐어 스마일 차지!\"\\n변신 후 대사는 \"반짝반짝 빛나는 미래의 빛! 큐어 해피!\" (일본어: キラキラ輝く未来の光！ キュアハッピー！)필살기프리큐어 해피 샤워스마일 팩트에 모인 힘을 양 손에 담아 크게 하트를 그린 뒤, 하트 모양으로 만들어진 에너지를 손으로 하트 모양으로 담아서 적에게 날리며 정화한다.프리큐어 신데렐라 해피 샤워\\n프리큐어 해피 샤워 샤이닝\\n\\n\\n== 기타 ==\\n한국판 성우인 성우 양정화(투니버스 공채 1기)는 주연급 캐릭터 성우 중 최연장자로 기록되었다(1970년생).\\n전작인 YES! 프리큐어5의 주인공인 큐어 드림과 비슷한 점이 있다.(분홍색, 같은 학년, 주인공, 덜렁이+바보 등) 큐어 드림 본인은 아니지만 그의 아버지가 동화작가라는 점이 있어서 신데렐라와 같은 동화를 좋아하는 면에서는 간접적인 점이 있다.\\n13화 당시에 나왔던 미유키가 대흉(大凶)을 받아서 크게 충격을 받아 얼굴이 둥글넓적해지게 된 장면은 한국판에서도 무수정 및 무편집 상태로 그대로 방송되었다.\\n14화는 일본판 기준으로는 일본 국내 수학여행이기 때문에 미유키와 야요이가 일행들과 떨어진 에피소드 제목을 \\'(일본 국내)미아\\'로 표기하였으나 한국판에서는 일본으로 해외 수학여행을 했다는 설정에 따라 \\'국제 미아\\' 로 표기하였다.\\n\\n\\n== 각주 =='"
            ]
          },
          "metadata": {
            "tags": []
          },
          "execution_count": 5
        }
      ]
    },
    {
      "cell_type": "code",
      "metadata": {
        "id": "j1sUNX3FXqgp",
        "trusted": true,
        "outputId": "ad4204d2-117d-4645-8800-50bb95314245"
      },
      "source": [
        "def clean_text(txt):\n",
        "    txt = txt.replace('\\n','')\n",
        "    return txt \n",
        "\n",
        "corpus = [clean_text(x) for x in all_headlines]\n",
        "corpus[:10]"
      ],
      "execution_count": null,
      "outputs": [
        {
          "output_type": "execute_result",
          "data": {
            "text/plain": [
              "['동화(童話)란 어린이를 독자층으로 하는 이야기를 말한다. 아동 문학의 한 장르이다.판타지나 우화, 프로파간다와는 구분할 필요가 있다.== 나라별 동화 ==그리스의 이솝우화, 이탈리아의 피노키오, 독일의 헨젤과 그레텔 등 동화로 알려진 문학이 있다.=== 한국 ===한국에서는 흔히 어린이를 위한 옛날 이야기를 동화라고 이해하고 있다. 이와 같은 해석은 이 문학 유형이 갖고 있는 고유한 특성을 간접적으로 설명한다고 볼 수 있다. 왜냐하면 전통적 의미에서 동화는 한 지방이나 국가에서 세대를 거치면서 자기 나라말로 구전된 것에서 그 뿌리를 두고 있기 때문이다. 이러한 전통적 동화는 종류가 대단히 한정될 수밖에 없다. 현대에 들어서 동화의 창작은 간과할 수 없는 문학 작업으로 평가되고 있다.한국의 본격적인 창작동화는 1923년 마해송(馬海松)의 〈바위나리와 아기별〉이 발표되고, 이어서 《어린이》·《아이생활》·《별나라》 등 여러 잡지와 구연회(口演會)를 통하여 방정환·고한승(高漢承)·진장섭(秦長燮)·정인섭·이정호(李定鎬) 등 색동회 동인들과 기타 이주홍(李周洪) 등의 작가들이 창작활동을 활발히 전개함으로써 비로소 기반을 쌓게 되었다. 현재도 보리출판사, 사계절출판사, 예영커뮤니케이션 등 다수의 출판사에서 어린이들을 위한 창작동화들을 출판하고 있다.== 나라별 동화 작가 ==== 각주 ==',\n",
              " '《신 전래동화》는 2018년에 개봉한 대한민국의 영화이다.== 캐스팅 ==== 같이 보기 ==2018년 대한민국의 영화 목록== 외부 링크 ==신 전래동화 - 네이버 영화신 전래동화 - 다음 영화신 전래동화 - 무비스트신 전래동화 - 한국영화 데이터베이스',\n",
              " '《꾸러기 수비대》 (혹은《출동! 12레인저》)는 십이지를 소재로 한 애니메이션이다.일본에서는 《십이전지 폭렬 에토레인저》(十二戦支 爆烈エトレンジャー)라는 이름으로 NHK 위성 제2텔레비전을 통해 1995년에 방영되었다.== 개요 ==한국어 더빙판으로는 1996년 KBS 2TV에서 방영한 《꾸러기 수비대》와 투니버스에서 방영한 《출동! 12레인저》 두 가지가 있는데, KBS 2TV의 선행방송과 공중파방송이라는 이점으로 대한민국에서는 《꾸러기 수비대》라는 명칭으로 잘 알려져 있다. 1999년 11월 15일부터 2000년 1월 28일까지 iTV 인천방송에서 KBS 방영분을 재방영했고, 2004년에 재능TV에서 역시 KBS 방영분을 재방영하기도 했다.크루세이더 퀘스트와 콜라보레이션을 진행했다.== 스토리 ==이야기의 무대는 몽환(원더랜드)(일본어: ムーゲン)라는 수많은 동물 정령(요정)들이 사는 평화로운 이(異)차원의 세계다. 인간이 만들어낸 많은 이야기들이 노벨월드(동화나라)로 구성되어 하늘높이 솟은 노벨폴이 존재의 기둥인 세계이다. 그런데 무겐 바로 아래에 위치한 심해의 어둠 속에는 사령성(일본어: 妖魔城)이 있으며 이곳에서 사령왕 냔마(해라)(일본어: ニャンマー)가 노벨월드를 파괴하기 위해 곳곳에 사령 몬스터(블랙전사)들을 파견한다. 그 상태로는 노벨월드가 파괴되고, 무겐마저 붕괴되고 만다. 오오라 공주(오로라 공주)(일본어: オーラ姫)는 무겐의 수비신인 에토레인저(꾸러기 수비대)를 소집하여, 그들로 하여금 시공간 이동머신 키린다(알바트로스)(일본어: キリンダー)를 타고 노벨월드를 지키게 한다. 사령 몬스터는 자신이 침입한 노벨월드 속의 인물로 변신해 그 동화의 세계관을 망가뜨려 이야기의 진행을 저해하는 방법으로 노벨월드의 파괴를 꾀한다. 에토레인저가 각 노벨월드에 있을 수 있는 시간은 단 이틀뿐. 그 사이에 사령 몬스터를 찾아내어 \"정화\"시켜야만 한다. 망가진 노벨월드에서 에토레인저를 기다리는 것은...== 등장인물 ==== 방영 목록 ==십이전지 폭렬 에토레인저(꾸러기 수비대)에서 편집 또는 삭제된 부분은 다음과 같다.\\' 1화 - 이런 모험이 있어~? \\' , \\' 2화-쓰러트려라 사령 몬스터 \\' 는 일본의 전래동화 \\' 모모타로 \\' 이기 때문에 1화는 편집, 2화는 삭제되었다.\\' 7화 - 오늘 개점? 카구야 공주를 찾아라 \\' 도 일본의 전래동화(대나무 장수)이기 때문에 삭제되었다.\\' 17화 - 알라딘 할아버지와 마법의 램프 \\' 는 일본의 전래동화는 아니지만 배경이 일본의 \\' 에도시대 \\' 여서 삭제되었다.\\' 15화와 29화는 국내 방송은 분명히 했으나, 방영자료가 남아있지 않아, 인터넷이나, 비디오로도 더빙판을 찾을 수 없다. 비디오 테이프 손상으로 방영자료를 찾을 수 없는걸 수도...그 외에 \\' 4화 - 토끼 실례, 거북이 먼저 \\' , \\' 6화 - 결투! 웨스턴으로 서유기 \\' , \\' 14화 - 짚대 장자의 교환전투! \\' , \\' 38화 - 분노와 증오의 끝에서 \\' 등 여러 에피소드들이 편집되었다.== 각주 ==== 외부 링크 ==JEI 재능TV 공식 사이트꾸러기 수비대 일본판 사이트',\n",
              " '호시조라 미유키(星空 (ほしぞら) みゆき 한국명:김다솜)는 토에이 애니메이션 제작의 애니메이션《스마일 프리큐어!》에 등장하는 가공의 인물이다. 애니메이션에서 목소리를 연기한 성우는 일본판은 후쿠엔 미사토, 한국판은 양정화이다.== 개요 ==프리큐어 시리즈 9번째 작품에 등장하는 7대째 프리큐어 전사 큐어 해피로 변신하는 인물. 가족은 부모님이 계시며, 외동딸이다. 머리 모양은 양갈래를 코로네와 소라빵모양처럼 작게 돌돌 말아 노란색 리본으로 묶고 있다.그림책과 동화책 읽는 것을 가장 좋아하며, 모든지 \\'해피\\'한게 좋다는 항상 긍정적이고 해맑은 여중생이다. 첫사랑 상대는 피터팬과 백마 탄 왕자이며, 가장 좋아하는 책은 안데르센의 동화 신데렐라. 기분이 좋아 흥분하면 \"울트라 해피!(일본어: ウルトラハッピー!)\"라고 말하는 말버릇이 있다. 반면 조금 맘에 안들거나 할때는 입을 삐죽 내밀며 \"합뿌뿌~(일본어: ハップップー)\"라고 하기도 한다.공부도 운동도 별로 못하고 덜렁이에 실수가 많지만, 결코 실망하는 법이 없이 한결같이 앞으로 전진하는 명랑하고 발랄한 성격인 소녀. 겉보기에는 미덥지 못하지만, 항상 모두를 행복하게 하기 위해 최선을 다하며 그 미소를 빼앗으려는 악당들에게도 과감히 맞서는 강하고 상냥한 마음은 친구들과 주변 사람들을 매료시키고있다. 한편 의외로 맘이 여리고 섬세해서 상처받기 쉬운 면도 있지만 눈물 보이는 것을 싫어하며 속으로 꾹꾹 누르며 항상 웃는 얼굴을 보여준다.어릴 적에 순수하고 밝은 성격과 달리 친구만들기가 어려운 부끄럼많고 내성적인 성격이였으나, 예전에 할머니집에서 살았던 마을에서 만난 숲의 소녀 덕분에 자신감과 용기를 얻는 계기가 되었다.다른 바보 3명과 달리 모든 과목을 못하는 것 같다. 16화에서는 다 아는 속담을 전래동화 드립을 쳤다.== 큐어 해피 ==성스러운 빛의 힘을 가진 프리큐어로서 변신한 모습. 이미지 색상은 분홍색.변신 주문은 \"프리큐어 스마일 차지!\"변신 후 대사는 \"반짝반짝 빛나는 미래의 빛! 큐어 해피!\" (일본어: キラキラ輝く未来の光！ キュアハッピー！)필살기프리큐어 해피 샤워스마일 팩트에 모인 힘을 양 손에 담아 크게 하트를 그린 뒤, 하트 모양으로 만들어진 에너지를 손으로 하트 모양으로 담아서 적에게 날리며 정화한다.프리큐어 신데렐라 해피 샤워프리큐어 해피 샤워 샤이닝== 기타 ==한국판 성우인 성우 양정화(투니버스 공채 1기)는 주연급 캐릭터 성우 중 최연장자로 기록되었다(1970년생).전작인 YES! 프리큐어5의 주인공인 큐어 드림과 비슷한 점이 있다.(분홍색, 같은 학년, 주인공, 덜렁이+바보 등) 큐어 드림 본인은 아니지만 그의 아버지가 동화작가라는 점이 있어서 신데렐라와 같은 동화를 좋아하는 면에서는 간접적인 점이 있다.13화 당시에 나왔던 미유키가 대흉(大凶)을 받아서 크게 충격을 받아 얼굴이 둥글넓적해지게 된 장면은 한국판에서도 무수정 및 무편집 상태로 그대로 방송되었다.14화는 일본판 기준으로는 일본 국내 수학여행이기 때문에 미유키와 야요이가 일행들과 떨어진 에피소드 제목을 \\'(일본 국내)미아\\'로 표기하였으나 한국판에서는 일본으로 해외 수학여행을 했다는 설정에 따라 \\'국제 미아\\' 로 표기하였다.== 각주 ==',\n",
              " \"아동문학(兒童文學, Children's literature)은 어린이와 어린이의 마음을 갖고 있는 성인을 대상으로 한 문학으로, 어린이의 흥미를 불러일으키거나 교훈적인 내용을 소재로 하며, 대체로 평이한 문장에 그림이 곁들여진다.== 역사 ==고대 그리스의 이솝 우화나 아라비안 나이트는 아동문학으로서 창작되지는 않았지만 현대에서 어린이들에게 읽혀지고 있으며, 17세기에 들어서 순수하게 어린이를 위한 문학이 등장하였고, 19세기에 들어서 문학의 하나로서 자리잡았다.== 한국의 아동문학 ==《삼국유사》에는 백제 무왕이 아이들에게 부르게 했다는 〈서동요〉가 등장한다. 근·현대 이전에는 어린이들을 위해 출간된 문학작품은 없었으나, 각 지방에는 어린이들에게 들려주는 전래 동화가 전해졌다. 개화기와 일제강점기에는 이광수, 최남선 등 어린이를 위한 시나 소설을 창작하는 이들이 등장하였고, 1923년에는 방정환을 중심으로 《어린이》 잡지가 창간되었으나, 일제의 조선어말살정책으로 오래 지속되지 못하였다. 일제의 패망과 광복에 뒤이은 한국 전쟁 또한 아동문학 성장에 좋은 조건이 되지 못했다.== 종류 ==동화동시== 각주 ==== 외부 링크 ==아동문학, 《브리태니커백과》한국아동문학학회 홈페이지동화와번역 연구소 홈페이지, 동화와 번역 연구소는 한국의 유일한 동화연구소이다.\",\n",
              " '한국의 사찰은 한국에 불교가 전래되면서 설립되었으며, 최초의 사찰은 고구려 소수림왕때 지어진 이불란사와 초문사이다.문화관광부에 등록된 사찰의 개수는 926개이다.== 삼보사찰 ==삼보(三寶)는 불교에서 귀하게 여기는 세 가지 보물을 말하며, 부처님(佛)과 부처님이 설하신 법(法), 그리고 그 가르침에 따라 살아가는 스님(僧)을 의미한다.통도사 - 불보(佛寶) 사찰, 부처님의 진신사리를 봉안해인사 - 법보(法寶) 사찰, 부처님의 가르침인 팔만대장경 경판을 봉안송광사 - 승보(僧寶) 사찰, 부처님의 가르침에 따라 수행을 한 스님들중 16명이 국사(國師)의 지위에 오름== 오대 총림과 팔대 총림 ==한국 불교의 조계종에서는 다음의 다섯 사찰은 선원과 강원을 모두 갖추고 있으며 이들을 오대 총림이라 하였다.가야총림 해인사조계총림 송광사영축총림 통도사덕숭총림 수덕사고불총림 백양사2012년 11월 7일 대한불교 조계종 중앙종회는 제192회 정기회의에서 동화사 · 쌍계사 · 범어사의 세 사찰을 만장일치로 총림으로 추가 지정하였다. 이에 따라 팔대 총림이 있게 되었다.팔공총림 동화사쌍계총림 쌍계사금정총림 범어사== 사찰 목록 ==한국의 사찰 목록 (가나다순)한국의 사찰 목록 (지역별)위의 목록들은 2005년 문화관광부(현 문화체육관광부) 자료를 근거로 하여 보충하였으나 완전한 것은 아니다. 조선민주주의인민공화국 지역의 사찰은 단 1개만이 포함되어 있으며, 대한민국의 사찰 역시 빠져 있는 것이 부지기수이다.== 참고자료 ==“삼보사찰 (1) _ 삼보사찰이란”. 달마넷. 2008년 9월 28일에 원본 문서에서 보존된 문서. 2008년 4월 14일에 확인함. === 각주 ===== 외부 링크 ==아미타넷 사찰검색',\n",
              " '《해와 달이 된 오누이》은 대한민국의 전래동화이다. 《햇님 달님》(표준어: 해님 달님)으로도 불린다.== 역사 ==출판된 것은 1922년 잡지 《개벽》에 실린 주요섭의 《해와 달》이 최초이다.== 줄거리 ==산 속에 홀어머니와 오누이 가족이 살고 있었다. 어느 날 밤 떡을 이고 산길을 가는 어머니를 호랑이가 잡아먹었다. 호랑이는 오누이도 잡아먹기 위해 오누이의 집으로 찾아갔다. 오누이가 집문을 열어주도록 하기 위해 호랑이는 어머니 흉내를 냈지만, 오누이는 호랑이인 것을 알아차리고 도망가 나무 위로 올라갔다.나무 위에 올라간 오누이는 하늘에 동아줄을 내려 자신을 살려달라고 빌었다. 오누이는 동아줄을 타고 하늘로 올라가 여동생은 해가, 오빠는 달이 되었다.== 참고 문헌 ==',\n",
              " '잠자는 숲속의 미녀( - 美女, 프랑스어: La Belle au Bois dormant, \"The Beauty sleeping in the Wood\", 독일어: Dornröschen, \"Little Briar Rose\", 영어: The Sleeping Beauty)는 고전 동화이다. 샤를 페로의 동화집 및 그림 동화에 수록되었다. 페로는 1697년 《어미 거위 이야기》에 이 동화를 수록했다. 페로 이전인 1634년에 발간된 잠바티스타 바실레의 《Pentamerone》 중 39장 〈해, 달, 그리고 탈리아〉(Sole, Luna e Talia)에도 이 이야기의 요소가 포함되어 있다. 1812년 그림 형제는 독일 북부 포메라니아 지방의 전래 동화를 바탕으로 이 이야기를 자신들의 저서에 수록하였다.  톨킨 교수는 페로의 문화적 존재감은 굉장히 보편적이라, 만약 동화를 이름 대라고 질문하면, 대부분의 사람들이 페로의 모음집 중의 9개의 이야기 중 하나를 인용할 것이라 언급하였다. 그러나 톨킨의 세대 이후, 가장 유명한 \"잠자는 숲속의 미녀\"는 월트 디즈니의 만화영화가 되었고, 이는 페로의 원작에 기초를 둔 차이콥스키의 발레만큼이나 주목을 받았다.== 줄거리 ===== 그림 동화 ===아이를 간절히 원하던 어느 왕과 왕비가 귀여운 딸을 얻게 되었다. 공주의 탄생을 축하하기 위해 왕은 나라안의 마법사를 초대하기로 했다. 손님을 대접할 황금 접시가 12개밖에 없었기 때문에 부득이하게 왕은 열두 명의 마법사밖에 초대할 수가 없었다. 초대받은 마법사들은 한 사람씩 공주에게 마법을 걸어 아름다움, 지혜 등 훌륭한 선물을 주었다. 11번째의 마법사까지 선물을 주었을 때, 초대받지 못한 13번째 마법사가 나타나 \"공주는 방추에 찔려 죽을 것이다\" 라고 저주를 걸었다. 미처 선물을 주지 않았던 12번째 마법사는 그 저주를 풀 수는 없었지만 대신 죽음이 아닌 100년 동안의 깊은 잠이 들도록 바꾸었다. 왕은 나라안의 모든 방추를 불태우도록 했고, 이런 사실을 모른 채 공주는 무럭무럭 자라나 15세가 되었다. 혼자서 성을 돌아다니던 공주는 탑 꼭대기에서 실을 잣는 노파를 발견했고, 방추에 손을 찔려 깊은 잠에 빠졌다. 공주뿐만 아니라 왕과 왕비, 성 안의 모든 사람들이 잠이 들었고 성안은 가시덤불이 에워싸 아무도 들어갈 수 없게 되었다. 많은 왕자들이 공주를 구하기 위해 성으로 들어가려고 했지만 모두 실패했다. 100년이 지난 후 근처를 지나가던 한 왕자가 소문을 듣고 성을 찾아왔고, 그는 성으로 들어가 공주에게 입을 맞추었다. 잠에서 깨어난 공주는 왕자와 결혼해 행복하게 살았다.=== 페로 동화 ===페로의 동화에서는 마법사 대신 여덟 명의 요정이 등장한다. 공주가 잠이 든 후 슬픔에 빠진 왕과 왕비는 성을 떠나고, 나머지 사람들만이 요정의 마법에 의해 잠이 든다. 또한 공주는 왕자의 키스가 아닌 100년의 시간이 흘러 저절로 잠에서 깨어난다. 또한 페로의 버전에서는 결혼한 공주가 두 아이를 얻지만 시어머니인 왕비가 아이들을 잡아먹으려다가 실패한다는 이야기가 있었으나 그림 동화에서는 이 부분이 삭제되었다.== 분석 ==== 각색 ==== 각주 ==== 외부 링크 ==Little Briar-Rose and other variants from SurLaLune Fairy Tale sitePerrault\\'s version discussed by Waller Hastings in \"The sleeping beauty in the woods\"Perrault\\'s version also discussed by Waller Hastings in \"Sol, Luna, e Talia\"Free audio story of The Sleeping Beauty at StorynoryAudio of The Sleeping Beauty Part Two (The Queen Ogre) at StorynorySleeping Beauty by Jacob and Wilhelm Gimm숲속의 잠자는 공주1870 illustrated scanned book via Internet Archive',\n",
              " '거북(문화어: 거부기)은 거북목에 속하는 파충류를 일컫는다. 거북이의 가장 큰 종류로는 길이 250㎝, 몸무게 800㎏에 달하는 것도 있다.== 생태 ===== 보호수단 ===등딱지와 배딱지로 몸을 보호하고 있는데 이것들은 갈비뼈에서 분화된 연골로 이루어져 있다. 식물, 작은 물고기 등 다양한 것을 먹고 사는데, 특히 애완용 거북인 붉은귀거북은 생태계를 교란시킨다고 할 정도로 식탐이 대단하다.=== 사람과의 관계 ===전래동화에 남생이가 등장할 정도로 사람들에게 친숙한 동물이며 오랫동안 사는 동물로 유명하다. 특히 종류에 따라서는 200~300년 이상 생존하는 종도 존재한다. 그러한 인식 때문에 십장생 중에도 거북이가 들어가 있다.=== 성격 ===거북의 등은 단단한 껍질로 싸여 있고 아주 느리게 움직이며 이빨이 없고 비공격적이다. 거북의 암수를 구별하기 위해서는 몸을 뒤집어 항문을 보면 쉽게 알 수 있다. 수컷의 항문은 꼬리 끝 쪽에 있고,  거북의 암컷의 항문은 꼬리가 붙어 있는 부분에 있다.== 분류 ==거북목(Testudines)잠경아목(Cryptodira)늑대거북상과(Chelydroidea)늑대거북과(Chelydridae) - 2속 6종땅거북상과(Testudinoidea)땅거북과(Testudinidae)돌거북과(Geoemydidae)늪거북과(Emydidae)큰머리거북과(Platysternidae) - 1속 1종자라상과(Trionychoidea)돼지코거북과(Carettochelyidae) - 1속 1종자라과(Trionychidae)풀거북상과(Kinosternoidea)강거북과(Dermatemydidae)풀거북과(Kinosternidae)바다거북상과(Chelonioidea)바다거북과(Cheloniidae)장수거북과(Dermochelyidae)곡경아목(Pleurodira)뱀목거북상과(Chelidoidea)뱀목거북과(Chelidae)가로목거북상과(Pelomedusoidea)가로목거북과(Pelomedusidae)견목거북과(Podocnemididae)== 자라와 차이점 ==자라와 거북의 차이점은  등껍질의 무늬가 있고 없고의 차이이다.== 거북과 관련된 캐릭터 ==마리오 시리즈 - 엉금엉금, 쿠파헷지 - 번닌자 거북이디지몬 시리즈 - 왕거북몬록맨 X6 - 레이니 터틀로이드록맨 제로 4 - 히트 겐블럼포켓몬스터 - 거북왕, 코터스, 토대부기, 늑골라, 폭거북스, 갈가부기 계열== 같이 보기 ==자라== 각주 ==== 참고 문헌 ==== 외부 링크 == 위키미디어 공용에 거북 관련 미디어 분류가 있습니다. 위키생물종에 Testudines 관련 자료가 있습니다. 위키낱말사전에 거북 관련 글이 있습니다.',\n",
              " '이한갈(1971년 9월 1일 ~ )은 대한민국의 배우이다. 1996년 SBS 6기 공채 탤런트로 선발되었다.== 학력 ==경희대학교 체육학경희대학교 언론정보대학원 대중예술학 석사== 출연 작품 ===== 영화 ===《신 전래동화》 (2018년) - 아토 히로부미 역《두 사람이다》 (2007년)《무영검》 (2005년) - 철격대조장 역《바람의 파이터》 (2004년) - 히메지닌자  역《천년호》 (2003년) - 탈위 역《성냥팔이 소녀의 재림》 (2002년) - 오비련 오른팔 역《4발가락》 (2002년) - 곰탕 역《신라의 달밤》 (2001년) - 혁수 역《비천무》 (2000년) - 창룡 역《태백산맥》 (1994년)=== 드라마 ===《해치》 (2019년, SBS) - 민진헌 살수 역《그 겨울, 바람이 분다》 (2013년, SBS)《아테나: 전쟁의 여신》 (2010년, SBS) - 영호 역《근초고왕》 (2010년, KBS1) - 백제 싸울아비 역《대왕 세종》 (2008년, KBS) - 강휘 역《불멸의 이순신》 (2004년, KBS1) - 날발 역《천년지애》 (2003년, SBS)《결혼 이야기》 (2002년, KBS2)《행복의 시작》 (1996년, SBS)《8월의 신부》 (1996년, SBS)《엄마의 깃발》 (1996년, SBS)《부자유친》 (1996년, SBS)=== 예능 ===《도전! 지구탐험대》 (KBS2)== 각주 ==== 외부 링크 ==이한갈 - 한국영화 데이터베이스이한갈 프로필']"
            ]
          },
          "metadata": {
            "tags": []
          },
          "execution_count": 6
        }
      ]
    },
    {
      "cell_type": "code",
      "metadata": {
        "id": "QKmZrCJSZrz9",
        "trusted": true,
        "outputId": "2f29f509-8ed8-4314-d543-00ec3d68fa4f"
      },
      "source": [
        "\n",
        "tokenizer = Tokenizer()\n",
        "\n",
        "def get_sequence_of_tokens(corpus):\n",
        "    ## tokenization\n",
        "    tokenizer.fit_on_texts(corpus)\n",
        "    total_words = len(tokenizer.word_index) + 1\n",
        "    \n",
        "    ## convert data to sequence of tokens \n",
        "    input_sequences = []\n",
        "    for line in corpus:\n",
        "        token_list = tokenizer.texts_to_sequences([line])[0]\n",
        "        for i in range(1, len(token_list)):\n",
        "            n_gram_sequence = token_list[:i+1]\n",
        "            input_sequences.append(n_gram_sequence)\n",
        "    return input_sequences, total_words\n",
        "\n",
        "inp_sequences, total_words = get_sequence_of_tokens(corpus)\n",
        "inp_sequences[:10]"
      ],
      "execution_count": null,
      "outputs": [
        {
          "output_type": "execute_result",
          "data": {
            "text/plain": [
              "[[19, 234],\n",
              " [19, 234, 235],\n",
              " [19, 234, 235, 34],\n",
              " [19, 234, 235, 34, 236],\n",
              " [19, 234, 235, 34, 236, 237],\n",
              " [19, 234, 235, 34, 236, 237, 50],\n",
              " [19, 234, 235, 34, 236, 237, 50, 238],\n",
              " [19, 234, 235, 34, 236, 237, 50, 238, 239],\n",
              " [19, 234, 235, 34, 236, 237, 50, 238, 239, 84],\n",
              " [19, 234, 235, 34, 236, 237, 50, 238, 239, 84, 10]]"
            ]
          },
          "metadata": {
            "tags": []
          },
          "execution_count": 7
        }
      ]
    },
    {
      "cell_type": "code",
      "metadata": {
        "id": "HI7aIGwGii5c",
        "trusted": true,
        "outputId": "d2b4aaa7-604d-46c1-e0b8-19f8713508fe"
      },
      "source": [
        "len(inp_sequences)"
      ],
      "execution_count": null,
      "outputs": [
        {
          "output_type": "execute_result",
          "data": {
            "text/plain": [
              "2070"
            ]
          },
          "metadata": {
            "tags": []
          },
          "execution_count": 12
        }
      ]
    },
    {
      "cell_type": "code",
      "metadata": {
        "trusted": true,
        "id": "RaOzBZmgs-zT",
        "outputId": "b6348645-77fa-47e8-b401-159904f95fc5"
      },
      "source": [
        "total_words"
      ],
      "execution_count": null,
      "outputs": [
        {
          "output_type": "execute_result",
          "data": {
            "text/plain": [
              "1606"
            ]
          },
          "metadata": {
            "tags": []
          },
          "execution_count": 8
        }
      ]
    },
    {
      "cell_type": "code",
      "metadata": {
        "id": "uWiF05wBZwVb",
        "trusted": true
      },
      "source": [
        "def generate_padded_sequences(input_sequences):\n",
        "    max_sequence_len = max([len(x) for x in input_sequences])\n",
        "    input_sequences = np.array(pad_sequences(input_sequences, maxlen=max_sequence_len, padding='pre'))\n",
        "    \n",
        "    predictors, label = input_sequences[:,:-1],input_sequences[:,-1]\n",
        "    label = ku.to_categorical(label, num_classes=total_words)\n",
        "    return predictors, label, max_sequence_len\n",
        "\n",
        "predictors, label, max_sequence_len = generate_padded_sequences(inp_sequences)"
      ],
      "execution_count": null,
      "outputs": []
    },
    {
      "cell_type": "code",
      "metadata": {
        "trusted": true,
        "id": "jjYdDBAes-zU",
        "outputId": "44b8e9fc-55d1-471e-c254-0e6e78d8ba68"
      },
      "source": [
        "predictors.shape"
      ],
      "execution_count": null,
      "outputs": [
        {
          "output_type": "execute_result",
          "data": {
            "text/plain": [
              "(2070, 430)"
            ]
          },
          "metadata": {
            "tags": []
          },
          "execution_count": 10
        }
      ]
    },
    {
      "cell_type": "code",
      "metadata": {
        "trusted": true,
        "id": "uqwQrzN6s-zV",
        "outputId": "0167c1a9-435f-4116-a295-23966876907e"
      },
      "source": [
        "label.shape"
      ],
      "execution_count": null,
      "outputs": [
        {
          "output_type": "execute_result",
          "data": {
            "text/plain": [
              "(2070, 1606)"
            ]
          },
          "metadata": {
            "tags": []
          },
          "execution_count": 11
        }
      ]
    },
    {
      "cell_type": "code",
      "metadata": {
        "id": "Zd-Bn3daZ1_8",
        "trusted": true,
        "outputId": "0185bd9c-7572-47fb-cef3-d8009d3fe2fe"
      },
      "source": [
        "def create_model(max_sequence_len, total_words):\n",
        "    input_len = max_sequence_len - 1\n",
        "    model = Sequential()\n",
        "    \n",
        "    # Add Input Embedding Layer\n",
        "    model.add(Embedding(total_words, 10, input_length=input_len))\n",
        "    \n",
        "    # Add Hidden Layer 1 - LSTM Layer\n",
        "    model.add(LSTM(100))\n",
        "    model.add(Dropout(0.1))\n",
        "    \n",
        "    # Add Output Layer\n",
        "    model.add(Dense(total_words, activation='softmax'))\n",
        "\n",
        "    model.compile(loss='categorical_crossentropy', optimizer='adam')\n",
        "    \n",
        "    return model\n",
        "\n",
        "model = create_model(max_sequence_len, total_words)\n",
        "model.summary()"
      ],
      "execution_count": null,
      "outputs": [
        {
          "output_type": "stream",
          "text": [
            "Model: \"sequential\"\n",
            "_________________________________________________________________\n",
            "Layer (type)                 Output Shape              Param #   \n",
            "=================================================================\n",
            "embedding (Embedding)        (None, 430, 10)           16060     \n",
            "_________________________________________________________________\n",
            "lstm (LSTM)                  (None, 100)               44400     \n",
            "_________________________________________________________________\n",
            "dropout (Dropout)            (None, 100)               0         \n",
            "_________________________________________________________________\n",
            "dense (Dense)                (None, 1606)              162206    \n",
            "=================================================================\n",
            "Total params: 222,666\n",
            "Trainable params: 222,666\n",
            "Non-trainable params: 0\n",
            "_________________________________________________________________\n"
          ],
          "name": "stdout"
        }
      ]
    },
    {
      "cell_type": "code",
      "metadata": {
        "id": "YMEAkJFsZ8Q2",
        "trusted": true,
        "outputId": "30c26848-caac-449c-ec69-7ca87b770f53"
      },
      "source": [
        "model.fit(predictors, label, epochs=10, verbose=5)"
      ],
      "execution_count": null,
      "outputs": [
        {
          "output_type": "stream",
          "text": [
            "Epoch 1/10\n",
            "Epoch 2/10\n",
            "Epoch 3/10\n",
            "Epoch 4/10\n",
            "Epoch 5/10\n",
            "Epoch 6/10\n",
            "Epoch 7/10\n",
            "Epoch 8/10\n",
            "Epoch 9/10\n",
            "Epoch 10/10\n"
          ],
          "name": "stdout"
        },
        {
          "output_type": "execute_result",
          "data": {
            "text/plain": [
              "<tensorflow.python.keras.callbacks.History at 0x7f69d4609350>"
            ]
          },
          "metadata": {
            "tags": []
          },
          "execution_count": 13
        }
      ]
    },
    {
      "cell_type": "code",
      "metadata": {
        "id": "lETQV3uUaM-A",
        "trusted": true
      },
      "source": [
        "def generate_text(seed_text, next_words, model, max_sequence_len):\n",
        "    for _ in range(next_words):\n",
        "        token_list = tokenizer.texts_to_sequences([seed_text])[0]\n",
        "        token_list = pad_sequences([token_list], maxlen=max_sequence_len-1, padding='pre')\n",
        "        predicted = model.predict_classes(token_list, verbose=0)\n",
        "        output_word = \"\"\n",
        "        for word,index in tokenizer.word_index.items():\n",
        "            if index == predicted:\n",
        "                output_word = word\n",
        "                break\n",
        "        seed_text += \" \"+output_word\n",
        "    return seed_text.title()"
      ],
      "execution_count": null,
      "outputs": []
    },
    {
      "cell_type": "code",
      "metadata": {
        "id": "EaFXcN40bDYT",
        "trusted": true,
        "outputId": "c51fbe90-dc49-4de0-8628-987291406305"
      },
      "source": [
        "print (generate_text(\"b\", 20, model, max_sequence_len))\n"
      ],
      "execution_count": null,
      "outputs": [
        {
          "output_type": "stream",
          "text": [
            "B The The The The The The The The The The The The The The The The The The The The\n"
          ],
          "name": "stdout"
        }
      ]
    },
    {
      "cell_type": "code",
      "metadata": {
        "id": "mw0ROjbJhQV1",
        "trusted": true,
        "outputId": "8c20a3c3-e431-49db-b9fa-d18070a28f84"
      },
      "source": [
        "print (generate_text(\"이탈리아\", 30, model, max_sequence_len))"
      ],
      "execution_count": null,
      "outputs": [
        {
          "output_type": "stream",
          "text": [
            "이탈리아 The The The The The The The The The The The The The The The The The The The The The Sbs Sbs Sbs Sbs Sbs Sbs Sbs Sbs Sbs\n"
          ],
          "name": "stdout"
        }
      ]
    },
    {
      "cell_type": "markdown",
      "metadata": {
        "id": "8cLgLP9Ws-zX"
      },
      "source": [
        "# 여기서부터 본론..."
      ]
    },
    {
      "cell_type": "code",
      "metadata": {
        "trusted": true,
        "id": "BUH5iWxCs-zX",
        "outputId": "004ddeeb-4c7b-4e60-aeac-a5289bfd5700"
      },
      "source": [
        "from sentence_transformers import SentenceTransformer\n",
        "# embedder download...\n",
        "embedder = SentenceTransformer('xlm-r-large-en-ko-nli-ststb')"
      ],
      "execution_count": null,
      "outputs": [
        {
          "output_type": "stream",
          "text": [
            "100%|██████████| 1.80G/1.80G [00:46<00:00, 38.8MB/s]\n"
          ],
          "name": "stderr"
        }
      ]
    },
    {
      "cell_type": "code",
      "metadata": {
        "id": "9D0W9vI4FB1c",
        "trusted": true
      },
      "source": [
        "document = \"\"\"\n",
        "주호영 국민의힘 원내대표는 22일 고위공직자범죄수사처(공수처)법 개정과 가덕도 신공항 건설 등을 밀어붙이고 있는 문재인 정권과 더불어민주당을 향해 \"이제 끝이 보인다\"며 \"짓밟힌 풀들이 아우성 치는 국민적 저항에 직면할 것\"이라고 경고했다.\n",
        "주 원내대표는 이날 자신의 페이스북에 \"문재인 정권이 공수처법 개정을 위한 '군사작전'에 돌입하겠다고 엄포를 놓고 있다\"며 \"정의당을 끌어들이기 위해 꼼수 선거법에 묶어 '패스트트랙'이라는 불법·탈법으로 만들어낸 공수처법을 시행도 해보지 않고 고치려 하는 것\"이라고 지적했다.\n",
        "이어 주 원내대표는 \"야당 원내대표인 제게 문재인 대통령은 사람 좋아보이는 표정으로 '공수처는 야당의 동의 없이는 절대 출범할 수 없는 것'이라고 얘기했고, 야당이 유엔 안보리 상임이사국처럼 공수처장 임명에 '비토권'을 행사할 수 있는데 무얼 걱정하느냐고, 여당 사람들이 우리를 속였다\"며 \"거짓말이라는 비난을 개의치 않는 사람들\"이라고 꼬집었다.\n",
        "주 원내대표는 \"이해찬 전 민주당 대표가 얘기한 '민주당 20년 집권'의 토대가 올해 안에 완성된다\"며 \"탈원전과 동남권 신공항은 문 대통령이 대선 공약으로 내건 사업이니 여기에 불법이 있었다고 시비를 거는 것은 민주주의를 부정하는 것이라고 청와대 출신 윤건영 민주당 의원이 윽박지른다. 이제 '민주주의 없는 민주당'이 법위에 군림하는 '반민주'를 거리낌없이 획책하는 것\"이라고 언급했다.\n",
        "그러면서 주 원내대표는 \"표를 얻기 위해 나라 곳간을 다 허물어뜨렸고, 재정 운용에서 신중함은 사라졌다\"며 \"괴물 공수처가 출범하면 공무원 누구나 대통령과 권력이 지시하는 범죄행위에 거리낌 없이 가담할 것이다. 청와대와 권부 요직에 앉아 불법으로 각종 이권을 챙기는 권력자들에 대한 사건이 불거져도 공수처가 사건을 가져가 버리면 그만\"이라고 우려했다.\n",
        "주 원내대표는 \"문 대통령은 제게 '공수처는 고위 공직자들을 처벌하는 것인데 왜 야당이 반대하는지 이해할 수 없다'고 했는데, 그런 분이 청와대와 대통령 주변을 감시하는 특별감찰관은 취임 이후 지금까지 왜 임명하지 않았는가\"라며 \"공수처는 권력형 비리의 쓰레기 하치장, 종말 처리장이 될 것\"이라고 비판했다.\n",
        "문재인 정부를 향해 주 원내대표는 \"문 대통령과 그 사도들은 법치가 미치지 않는 무오류의 화신이 될 것\"이라며 \"오류를 인정하지 않는 존재가 바로 신이며 그 아래에는 자신들의 지도자를 목숨바쳐 지킴으로서 정의를 실현하겠다는 추종자들로 넘쳐 난다. 공수처는 지도자의 신성을 인정하지 않는 세력을 정죄하는 수단으로 전락할 것\"이라고 질타했다.\n",
        "주 원내대표는 \"저도 법조인이지만 대통령과 공수처장이 마음대로 검사들과 수사관들을 임명하는 이 끔찍한 사법기구가 어떤 일을 할지 두렵기만 하다\"며 \"공수처는 검찰과 경찰 위에 있는 사법기구로, 헌법과 법으로 독립성을 보장하는 검찰총장을 이렇게 핍박하는 정권이 공수처를 어떻게 운영할지 불을 보듯 뻔한 일\"이라고 예측했다.\n",
        "그러면서 주 원내대표는 \"추미애 법무장관을 앞장 세워 윤석열 검찰의 권력 비리 수사를 저지하려다가 난관에 봉착하자 무슨 수를 써서라도 공수처를 출범시키려 한다. 공수처장 자리에는 추미애보다 더 한 막무가내 내 편을 앉힐 게 분명한 것\"이라며 \"문 정권의 파렴치와 오만함을 최전선에서 온 몸으로 겪어온 저로서는 민주당이 내일부터 국회에서 보일 행태가 환히 보인다. 180석의 민주당이 또 군사작전을 개시하면 그걸 누가 막겠는가\"라고 성토했다.\n",
        "주 원내대표는 \"공수처법을 막을 힘이 우리 야당에게는 없다. 삭발하고 장외투쟁해 봐야 눈 하나 깜짝할 사람들이 아닌 것\"이라며 \"대란대치(大亂大治), 세상을 온통 혼돈 속으로 밀어넣고 그걸 권력 유지에 이용한다는 게 이 정권의 통치기술\"이라고 규탄했다.\n",
        "아울러 주 원내대표는 \"권력은 바람, 국민은 풀이다. 바람이 불면 청보리 밭의 보리가 눕는다\"며 \"권력은 풀들이 다시는 일어서지 못하도록 풀을 짓밟지만 풀들은 다시 일어난다. 시인 김수영은 '바람보다 먼저 눕지만, 바람보다 먼저 일어나는' 민초의 힘을 노래했다\"고 말했다.\n",
        "마지막으로 주 원내대표는 \"문재인 정권은 이제 곧 국회에서 광장에서 짓밟힌 풀들이 일어서서 아우성치는 모습을 지켜보게 될 것\"이라며 \"대란대치를 끝장내려는 국민적 저항에 직면할 것\"이라고 거듭 강조했다.\n",
        "\"\"\""
      ],
      "execution_count": null,
      "outputs": []
    },
    {
      "cell_type": "code",
      "metadata": {
        "id": "ocHnmjt4FRUF",
        "trusted": true
      },
      "source": [
        "tokenizer = Tokenizer()\n",
        "tokenizer.fit_on_texts([document])\n",
        "total_words = len(tokenizer.word_index) + 1"
      ],
      "execution_count": null,
      "outputs": []
    },
    {
      "cell_type": "code",
      "metadata": {
        "id": "c8OViY44Fk0J",
        "trusted": true,
        "outputId": "10695118-24ee-4ac7-efda-0da0fd2cf9d8"
      },
      "source": [
        "print(total_words)"
      ],
      "execution_count": null,
      "outputs": [
        {
          "output_type": "stream",
          "text": [
            "395\n"
          ],
          "name": "stdout"
        }
      ]
    },
    {
      "cell_type": "code",
      "metadata": {
        "id": "5PeHFwITF0Ux",
        "trusted": true,
        "outputId": "1e6c20b0-ec00-4f89-e0d5-8972fa9ffafd"
      },
      "source": [
        "word_set = []\n",
        "for word,index in tokenizer.word_index.items():\n",
        "    word_set.append(word)\n",
        "    \n",
        "word_set"
      ],
      "execution_count": null,
      "outputs": [
        {
          "output_type": "execute_result",
          "data": {
            "text/plain": [
              "['원내대표는',\n",
              " '주',\n",
              " '것',\n",
              " '이라고',\n",
              " '며',\n",
              " '문재인',\n",
              " '않는',\n",
              " '문',\n",
              " '이라며',\n",
              " '이제',\n",
              " '풀들이',\n",
              " '수',\n",
              " '대통령과',\n",
              " '공수처는',\n",
              " '될',\n",
              " '있는',\n",
              " '향해',\n",
              " '보인다',\n",
              " '짓밟힌',\n",
              " '국민적',\n",
              " '저항에',\n",
              " '직면할',\n",
              " '정권이',\n",
              " '위해',\n",
              " '공수처법을',\n",
              " '제게',\n",
              " '대통령은',\n",
              " \"'공수처는\",\n",
              " '없는',\n",
              " '야당이',\n",
              " '공수처장',\n",
              " '사람들이',\n",
              " '민주당',\n",
              " '그러면서',\n",
              " '공수처가',\n",
              " '청와대와',\n",
              " '왜',\n",
              " '그',\n",
              " '인정하지',\n",
              " '이',\n",
              " '공수처를',\n",
              " '권력',\n",
              " '게',\n",
              " '정권의',\n",
              " '민주당이',\n",
              " '국회에서',\n",
              " '그걸',\n",
              " '권력은',\n",
              " '먼저',\n",
              " '주호영',\n",
              " '국민의힘',\n",
              " '22일',\n",
              " '고위공직자범죄수사처',\n",
              " '공수처',\n",
              " '법',\n",
              " '개정과',\n",
              " '가덕도',\n",
              " '신공항',\n",
              " '건설',\n",
              " '등을',\n",
              " '밀어붙이고',\n",
              " '정권과',\n",
              " '더불어민주당을',\n",
              " '끝이',\n",
              " '아우성',\n",
              " '치는',\n",
              " '경고했다',\n",
              " '이날',\n",
              " '자신의',\n",
              " '페이스북에',\n",
              " '공수처법',\n",
              " '개정을',\n",
              " '위한',\n",
              " \"'군사작전'에\",\n",
              " '돌입하겠다고',\n",
              " '엄포를',\n",
              " '놓고',\n",
              " '있다',\n",
              " '정의당을',\n",
              " '끌어들이기',\n",
              " '꼼수',\n",
              " '선거법에',\n",
              " '묶어',\n",
              " \"'패스트트랙'이라는\",\n",
              " '불법·탈법으로',\n",
              " '만들어낸',\n",
              " '시행도',\n",
              " '해보지',\n",
              " '않고',\n",
              " '고치려',\n",
              " '하는',\n",
              " '지적했다',\n",
              " '이어',\n",
              " '야당',\n",
              " '원내대표인',\n",
              " '사람',\n",
              " '좋아보이는',\n",
              " '표정으로',\n",
              " '야당의',\n",
              " '동의',\n",
              " '없이는',\n",
              " '절대',\n",
              " '출범할',\n",
              " \"것'이라고\",\n",
              " '얘기했고',\n",
              " '유엔',\n",
              " '안보리',\n",
              " '상임이사국처럼',\n",
              " '임명에',\n",
              " \"'비토권'을\",\n",
              " '행사할',\n",
              " '있는데',\n",
              " '무얼',\n",
              " '걱정하느냐고',\n",
              " '여당',\n",
              " '우리를',\n",
              " '속였다',\n",
              " '거짓말이라는',\n",
              " '비난을',\n",
              " '개의치',\n",
              " '사람들',\n",
              " '꼬집었다',\n",
              " '이해찬',\n",
              " '전',\n",
              " '대표가',\n",
              " '얘기한',\n",
              " \"'민주당\",\n",
              " '20년',\n",
              " \"집권'의\",\n",
              " '토대가',\n",
              " '올해',\n",
              " '안에',\n",
              " '완성된다',\n",
              " '탈원전과',\n",
              " '동남권',\n",
              " '신공항은',\n",
              " '대통령이',\n",
              " '대선',\n",
              " '공약으로',\n",
              " '내건',\n",
              " '사업이니',\n",
              " '여기에',\n",
              " '불법이',\n",
              " '있었다고',\n",
              " '시비를',\n",
              " '거는',\n",
              " '것은',\n",
              " '민주주의를',\n",
              " '부정하는',\n",
              " '것이라고',\n",
              " '청와대',\n",
              " '출신',\n",
              " '윤건영',\n",
              " '의원이',\n",
              " '윽박지른다',\n",
              " \"'민주주의\",\n",
              " \"민주당'이\",\n",
              " '법위에',\n",
              " '군림하는',\n",
              " \"'반민주'를\",\n",
              " '거리낌없이',\n",
              " '획책하는',\n",
              " '언급했다',\n",
              " '표를',\n",
              " '얻기',\n",
              " '나라',\n",
              " '곳간을',\n",
              " '다',\n",
              " '허물어뜨렸고',\n",
              " '재정',\n",
              " '운용에서',\n",
              " '신중함은',\n",
              " '사라졌다',\n",
              " '괴물',\n",
              " '출범하면',\n",
              " '공무원',\n",
              " '누구나',\n",
              " '권력이',\n",
              " '지시하는',\n",
              " '범죄행위에',\n",
              " '거리낌',\n",
              " '없이',\n",
              " '가담할',\n",
              " '것이다',\n",
              " '권부',\n",
              " '요직에',\n",
              " '앉아',\n",
              " '불법으로',\n",
              " '각종',\n",
              " '이권을',\n",
              " '챙기는',\n",
              " '권력자들에',\n",
              " '대한',\n",
              " '사건이',\n",
              " '불거져도',\n",
              " '사건을',\n",
              " '가져가',\n",
              " '버리면',\n",
              " '그만',\n",
              " '우려했다',\n",
              " '고위',\n",
              " '공직자들을',\n",
              " '처벌하는',\n",
              " '것인데',\n",
              " '반대하는지',\n",
              " '이해할',\n",
              " \"없다'고\",\n",
              " '했는데',\n",
              " '그런',\n",
              " '분이',\n",
              " '대통령',\n",
              " '주변을',\n",
              " '감시하는',\n",
              " '특별감찰관은',\n",
              " '취임',\n",
              " '이후',\n",
              " '지금까지',\n",
              " '임명하지',\n",
              " '않았는가',\n",
              " '라며',\n",
              " '권력형',\n",
              " '비리의',\n",
              " '쓰레기',\n",
              " '하치장',\n",
              " '종말',\n",
              " '처리장이',\n",
              " '비판했다',\n",
              " '정부를',\n",
              " '사도들은',\n",
              " '법치가',\n",
              " '미치지',\n",
              " '무오류의',\n",
              " '화신이',\n",
              " '오류를',\n",
              " '존재가',\n",
              " '바로',\n",
              " '신이며',\n",
              " '아래에는',\n",
              " '자신들의',\n",
              " '지도자를',\n",
              " '목숨바쳐',\n",
              " '지킴으로서',\n",
              " '정의를',\n",
              " '실현하겠다는',\n",
              " '추종자들로',\n",
              " '넘쳐',\n",
              " '난다',\n",
              " '지도자의',\n",
              " '신성을',\n",
              " '세력을',\n",
              " '정죄하는',\n",
              " '수단으로',\n",
              " '전락할',\n",
              " '질타했다',\n",
              " '저도',\n",
              " '법조인이지만',\n",
              " '공수처장이',\n",
              " '마음대로',\n",
              " '검사들과',\n",
              " '수사관들을',\n",
              " '임명하는',\n",
              " '끔찍한',\n",
              " '사법기구가',\n",
              " '어떤',\n",
              " '일을',\n",
              " '할지',\n",
              " '두렵기만',\n",
              " '하다',\n",
              " '검찰과',\n",
              " '경찰',\n",
              " '위에',\n",
              " '사법기구로',\n",
              " '헌법과',\n",
              " '법으로',\n",
              " '독립성을',\n",
              " '보장하는',\n",
              " '검찰총장을',\n",
              " '이렇게',\n",
              " '핍박하는',\n",
              " '어떻게',\n",
              " '운영할지',\n",
              " '불을',\n",
              " '보듯',\n",
              " '뻔한',\n",
              " '일',\n",
              " '예측했다',\n",
              " '추미애',\n",
              " '법무장관을',\n",
              " '앞장',\n",
              " '세워',\n",
              " '윤석열',\n",
              " '검찰의',\n",
              " '비리',\n",
              " '수사를',\n",
              " '저지하려다가',\n",
              " '난관에',\n",
              " '봉착하자',\n",
              " '무슨',\n",
              " '수를',\n",
              " '써서라도',\n",
              " '출범시키려',\n",
              " '한다',\n",
              " '자리에는',\n",
              " '추미애보다',\n",
              " '더',\n",
              " '한',\n",
              " '막무가내',\n",
              " '내',\n",
              " '편을',\n",
              " '앉힐',\n",
              " '분명한',\n",
              " '파렴치와',\n",
              " '오만함을',\n",
              " '최전선에서',\n",
              " '온',\n",
              " '몸으로',\n",
              " '겪어온',\n",
              " '저로서는',\n",
              " '내일부터',\n",
              " '보일',\n",
              " '행태가',\n",
              " '환히',\n",
              " '180석의',\n",
              " '또',\n",
              " '군사작전을',\n",
              " '개시하면',\n",
              " '누가',\n",
              " '막겠는가',\n",
              " '라고',\n",
              " '성토했다',\n",
              " '막을',\n",
              " '힘이',\n",
              " '우리',\n",
              " '야당에게는',\n",
              " '없다',\n",
              " '삭발하고',\n",
              " '장외투쟁해',\n",
              " '봐야',\n",
              " '눈',\n",
              " '하나',\n",
              " '깜짝할',\n",
              " '아닌',\n",
              " '대란대치',\n",
              " '大亂大治',\n",
              " '세상을',\n",
              " '온통',\n",
              " '혼돈',\n",
              " '속으로',\n",
              " '밀어넣고',\n",
              " '유지에',\n",
              " '이용한다는',\n",
              " '통치기술',\n",
              " '규탄했다',\n",
              " '아울러',\n",
              " '바람',\n",
              " '국민은',\n",
              " '풀이다',\n",
              " '바람이',\n",
              " '불면',\n",
              " '청보리',\n",
              " '밭의',\n",
              " '보리가',\n",
              " '눕는다',\n",
              " '다시는',\n",
              " '일어서지',\n",
              " '못하도록',\n",
              " '풀을',\n",
              " '짓밟지만',\n",
              " '풀들은',\n",
              " '다시',\n",
              " '일어난다',\n",
              " '시인',\n",
              " '김수영은',\n",
              " \"'바람보다\",\n",
              " '눕지만',\n",
              " '바람보다',\n",
              " \"일어나는'\",\n",
              " '민초의',\n",
              " '힘을',\n",
              " '노래했다',\n",
              " '고',\n",
              " '말했다',\n",
              " '마지막으로',\n",
              " '정권은',\n",
              " '곧',\n",
              " '광장에서',\n",
              " '일어서서',\n",
              " '아우성치는',\n",
              " '모습을',\n",
              " '지켜보게',\n",
              " '대란대치를',\n",
              " '끝장내려는',\n",
              " '거듭',\n",
              " '강조했다']"
            ]
          },
          "metadata": {
            "tags": []
          },
          "execution_count": 8
        }
      ]
    },
    {
      "cell_type": "code",
      "metadata": {
        "id": "F740wH5sF9lG",
        "trusted": true
      },
      "source": [
        "import tensorflow as tf\n",
        "from tensorflow.keras.models import Model\n",
        "from tensorflow.keras.layers import (Input,\n",
        "                                     Dense, \n",
        "                                     BatchNormalization, \n",
        "                                     LeakyReLU,\n",
        "                                     Softmax,\n",
        "                                     Reshape, \n",
        "                                     Conv2DTranspose,\n",
        "                                     Conv2D,\n",
        "                                     Dropout,\n",
        "                                     Flatten)\n",
        "import matplotlib.pyplot as plt"
      ],
      "execution_count": null,
      "outputs": []
    },
    {
      "cell_type": "code",
      "metadata": {
        "trusted": true,
        "id": "OKH9DAGks-zb",
        "outputId": "9650ca3a-84f5-4327-ff38-5bc8a0e5732e"
      },
      "source": [
        "#w = tf.constant([[1,2,3,4,5,4,3,2,1],[1,2,3,4,5,4,3,2,1],[1,2,3,4,5,4,3,2,1],[1,2,3,4,5,4,3,2,1]])\n",
        "w = tf.random.normal([1,30,395])\n",
        "print(w.shape)\n",
        "def feature_encode(w):\n",
        "    #embeddings = tf.Variable(tf.zeros([w.shape[0],1024]))\n",
        "    embeddings = []\n",
        "    idx = 0\n",
        "    for z in w:\n",
        "        generated_text = \"\"\n",
        "        for v in z:\n",
        "            key = np.argmax(v)\n",
        "            #print(key)\n",
        "            generated_text += word_set[key] + ' '\n",
        "        print(generated_text)\n",
        "        embeddings.append(embedder.encode([generated_text],show_progress_bar=False)[0])\n",
        "        #embeddings[idx].assign(embedder.encode([generated_text],show_progress_bar=False)[0])\n",
        "        \n",
        "    return tf.Variable(embeddings)\n",
        "\n",
        "e = feature_encode(w)\n",
        "print(e.shape)\n"
      ],
      "execution_count": null,
      "outputs": [
        {
          "output_type": "stream",
          "text": [
            "(1, 30, 395)\n"
          ],
          "name": "stdout"
        },
        {
          "output_type": "error",
          "ename": "RuntimeError",
          "evalue": "CUDA out of memory. Tried to allocate 978.00 MiB (GPU 0; 15.90 GiB total capacity; 0 bytes already allocated; 923.75 MiB free; 0 bytes reserved in total by PyTorch)",
          "traceback": [
            "\u001b[0;31m---------------------------------------------------------------------------\u001b[0m",
            "\u001b[0;31mRuntimeError\u001b[0m                              Traceback (most recent call last)",
            "\u001b[0;32m<ipython-input-15-28afc883a5a5>\u001b[0m in \u001b[0;36m<module>\u001b[0;34m\u001b[0m\n\u001b[1;32m     17\u001b[0m     \u001b[0;32mreturn\u001b[0m \u001b[0mtf\u001b[0m\u001b[0;34m.\u001b[0m\u001b[0mVariable\u001b[0m\u001b[0;34m(\u001b[0m\u001b[0membeddings\u001b[0m\u001b[0;34m)\u001b[0m\u001b[0;34m\u001b[0m\u001b[0;34m\u001b[0m\u001b[0m\n\u001b[1;32m     18\u001b[0m \u001b[0;34m\u001b[0m\u001b[0m\n\u001b[0;32m---> 19\u001b[0;31m \u001b[0me\u001b[0m \u001b[0;34m=\u001b[0m \u001b[0mfeature_encode\u001b[0m\u001b[0;34m(\u001b[0m\u001b[0mw\u001b[0m\u001b[0;34m)\u001b[0m\u001b[0;34m\u001b[0m\u001b[0;34m\u001b[0m\u001b[0m\n\u001b[0m\u001b[1;32m     20\u001b[0m \u001b[0mprint\u001b[0m\u001b[0;34m(\u001b[0m\u001b[0me\u001b[0m\u001b[0;34m.\u001b[0m\u001b[0mshape\u001b[0m\u001b[0;34m)\u001b[0m\u001b[0;34m\u001b[0m\u001b[0;34m\u001b[0m\u001b[0m\n",
            "\u001b[0;32m<ipython-input-15-28afc883a5a5>\u001b[0m in \u001b[0;36mfeature_encode\u001b[0;34m(w)\u001b[0m\n\u001b[1;32m     12\u001b[0m             \u001b[0;31m#print(key)\u001b[0m\u001b[0;34m\u001b[0m\u001b[0;34m\u001b[0m\u001b[0;34m\u001b[0m\u001b[0m\n\u001b[1;32m     13\u001b[0m             \u001b[0mgenerated_text\u001b[0m \u001b[0;34m+=\u001b[0m \u001b[0mword_set\u001b[0m\u001b[0;34m[\u001b[0m\u001b[0mkey\u001b[0m\u001b[0;34m]\u001b[0m \u001b[0;34m+\u001b[0m \u001b[0;34m' '\u001b[0m\u001b[0;34m\u001b[0m\u001b[0;34m\u001b[0m\u001b[0m\n\u001b[0;32m---> 14\u001b[0;31m         \u001b[0membeddings\u001b[0m\u001b[0;34m.\u001b[0m\u001b[0mappend\u001b[0m\u001b[0;34m(\u001b[0m\u001b[0membedder\u001b[0m\u001b[0;34m.\u001b[0m\u001b[0mencode\u001b[0m\u001b[0;34m(\u001b[0m\u001b[0;34m[\u001b[0m\u001b[0mgenerated_text\u001b[0m\u001b[0;34m]\u001b[0m\u001b[0;34m,\u001b[0m\u001b[0mshow_progress_bar\u001b[0m\u001b[0;34m=\u001b[0m\u001b[0;32mFalse\u001b[0m\u001b[0;34m)\u001b[0m\u001b[0;34m[\u001b[0m\u001b[0;36m0\u001b[0m\u001b[0;34m]\u001b[0m\u001b[0;34m)\u001b[0m\u001b[0;34m\u001b[0m\u001b[0;34m\u001b[0m\u001b[0m\n\u001b[0m\u001b[1;32m     15\u001b[0m         \u001b[0;31m#embeddings[idx].assign(embedder.encode([generated_text],show_progress_bar=False)[0])\u001b[0m\u001b[0;34m\u001b[0m\u001b[0;34m\u001b[0m\u001b[0;34m\u001b[0m\u001b[0m\n\u001b[1;32m     16\u001b[0m \u001b[0;34m\u001b[0m\u001b[0m\n",
            "\u001b[0;32m/opt/conda/lib/python3.7/site-packages/sentence_transformers/SentenceTransformer.py\u001b[0m in \u001b[0;36mencode\u001b[0;34m(self, sentences, batch_size, show_progress_bar, output_value, convert_to_numpy, convert_to_tensor, is_pretokenized, device, num_workers)\u001b[0m\n\u001b[1;32m    162\u001b[0m             \u001b[0mdevice\u001b[0m \u001b[0;34m=\u001b[0m \u001b[0mself\u001b[0m\u001b[0;34m.\u001b[0m\u001b[0m_target_device\u001b[0m\u001b[0;34m\u001b[0m\u001b[0;34m\u001b[0m\u001b[0m\n\u001b[1;32m    163\u001b[0m \u001b[0;34m\u001b[0m\u001b[0m\n\u001b[0;32m--> 164\u001b[0;31m         \u001b[0mself\u001b[0m\u001b[0;34m.\u001b[0m\u001b[0mto\u001b[0m\u001b[0;34m(\u001b[0m\u001b[0mdevice\u001b[0m\u001b[0;34m)\u001b[0m\u001b[0;34m\u001b[0m\u001b[0;34m\u001b[0m\u001b[0m\n\u001b[0m\u001b[1;32m    165\u001b[0m \u001b[0;34m\u001b[0m\u001b[0m\n\u001b[1;32m    166\u001b[0m         \u001b[0mall_embeddings\u001b[0m \u001b[0;34m=\u001b[0m \u001b[0;34m[\u001b[0m\u001b[0;34m]\u001b[0m\u001b[0;34m\u001b[0m\u001b[0;34m\u001b[0m\u001b[0m\n",
            "\u001b[0;32m/opt/conda/lib/python3.7/site-packages/torch/nn/modules/module.py\u001b[0m in \u001b[0;36mto\u001b[0;34m(self, *args, **kwargs)\u001b[0m\n\u001b[1;32m    610\u001b[0m             \u001b[0;32mreturn\u001b[0m \u001b[0mt\u001b[0m\u001b[0;34m.\u001b[0m\u001b[0mto\u001b[0m\u001b[0;34m(\u001b[0m\u001b[0mdevice\u001b[0m\u001b[0;34m,\u001b[0m \u001b[0mdtype\u001b[0m \u001b[0;32mif\u001b[0m \u001b[0mt\u001b[0m\u001b[0;34m.\u001b[0m\u001b[0mis_floating_point\u001b[0m\u001b[0;34m(\u001b[0m\u001b[0;34m)\u001b[0m \u001b[0;32melse\u001b[0m \u001b[0;32mNone\u001b[0m\u001b[0;34m,\u001b[0m \u001b[0mnon_blocking\u001b[0m\u001b[0;34m)\u001b[0m\u001b[0;34m\u001b[0m\u001b[0;34m\u001b[0m\u001b[0m\n\u001b[1;32m    611\u001b[0m \u001b[0;34m\u001b[0m\u001b[0m\n\u001b[0;32m--> 612\u001b[0;31m         \u001b[0;32mreturn\u001b[0m \u001b[0mself\u001b[0m\u001b[0;34m.\u001b[0m\u001b[0m_apply\u001b[0m\u001b[0;34m(\u001b[0m\u001b[0mconvert\u001b[0m\u001b[0;34m)\u001b[0m\u001b[0;34m\u001b[0m\u001b[0;34m\u001b[0m\u001b[0m\n\u001b[0m\u001b[1;32m    613\u001b[0m \u001b[0;34m\u001b[0m\u001b[0m\n\u001b[1;32m    614\u001b[0m     def register_backward_hook(\n",
            "\u001b[0;32m/opt/conda/lib/python3.7/site-packages/torch/nn/modules/module.py\u001b[0m in \u001b[0;36m_apply\u001b[0;34m(self, fn)\u001b[0m\n\u001b[1;32m    357\u001b[0m     \u001b[0;32mdef\u001b[0m \u001b[0m_apply\u001b[0m\u001b[0;34m(\u001b[0m\u001b[0mself\u001b[0m\u001b[0;34m,\u001b[0m \u001b[0mfn\u001b[0m\u001b[0;34m)\u001b[0m\u001b[0;34m:\u001b[0m\u001b[0;34m\u001b[0m\u001b[0;34m\u001b[0m\u001b[0m\n\u001b[1;32m    358\u001b[0m         \u001b[0;32mfor\u001b[0m \u001b[0mmodule\u001b[0m \u001b[0;32min\u001b[0m \u001b[0mself\u001b[0m\u001b[0;34m.\u001b[0m\u001b[0mchildren\u001b[0m\u001b[0;34m(\u001b[0m\u001b[0;34m)\u001b[0m\u001b[0;34m:\u001b[0m\u001b[0;34m\u001b[0m\u001b[0;34m\u001b[0m\u001b[0m\n\u001b[0;32m--> 359\u001b[0;31m             \u001b[0mmodule\u001b[0m\u001b[0;34m.\u001b[0m\u001b[0m_apply\u001b[0m\u001b[0;34m(\u001b[0m\u001b[0mfn\u001b[0m\u001b[0;34m)\u001b[0m\u001b[0;34m\u001b[0m\u001b[0;34m\u001b[0m\u001b[0m\n\u001b[0m\u001b[1;32m    360\u001b[0m \u001b[0;34m\u001b[0m\u001b[0m\n\u001b[1;32m    361\u001b[0m         \u001b[0;32mdef\u001b[0m \u001b[0mcompute_should_use_set_data\u001b[0m\u001b[0;34m(\u001b[0m\u001b[0mtensor\u001b[0m\u001b[0;34m,\u001b[0m \u001b[0mtensor_applied\u001b[0m\u001b[0;34m)\u001b[0m\u001b[0;34m:\u001b[0m\u001b[0;34m\u001b[0m\u001b[0;34m\u001b[0m\u001b[0m\n",
            "\u001b[0;32m/opt/conda/lib/python3.7/site-packages/torch/nn/modules/module.py\u001b[0m in \u001b[0;36m_apply\u001b[0;34m(self, fn)\u001b[0m\n\u001b[1;32m    357\u001b[0m     \u001b[0;32mdef\u001b[0m \u001b[0m_apply\u001b[0m\u001b[0;34m(\u001b[0m\u001b[0mself\u001b[0m\u001b[0;34m,\u001b[0m \u001b[0mfn\u001b[0m\u001b[0;34m)\u001b[0m\u001b[0;34m:\u001b[0m\u001b[0;34m\u001b[0m\u001b[0;34m\u001b[0m\u001b[0m\n\u001b[1;32m    358\u001b[0m         \u001b[0;32mfor\u001b[0m \u001b[0mmodule\u001b[0m \u001b[0;32min\u001b[0m \u001b[0mself\u001b[0m\u001b[0;34m.\u001b[0m\u001b[0mchildren\u001b[0m\u001b[0;34m(\u001b[0m\u001b[0;34m)\u001b[0m\u001b[0;34m:\u001b[0m\u001b[0;34m\u001b[0m\u001b[0;34m\u001b[0m\u001b[0m\n\u001b[0;32m--> 359\u001b[0;31m             \u001b[0mmodule\u001b[0m\u001b[0;34m.\u001b[0m\u001b[0m_apply\u001b[0m\u001b[0;34m(\u001b[0m\u001b[0mfn\u001b[0m\u001b[0;34m)\u001b[0m\u001b[0;34m\u001b[0m\u001b[0;34m\u001b[0m\u001b[0m\n\u001b[0m\u001b[1;32m    360\u001b[0m \u001b[0;34m\u001b[0m\u001b[0m\n\u001b[1;32m    361\u001b[0m         \u001b[0;32mdef\u001b[0m \u001b[0mcompute_should_use_set_data\u001b[0m\u001b[0;34m(\u001b[0m\u001b[0mtensor\u001b[0m\u001b[0;34m,\u001b[0m \u001b[0mtensor_applied\u001b[0m\u001b[0;34m)\u001b[0m\u001b[0;34m:\u001b[0m\u001b[0;34m\u001b[0m\u001b[0;34m\u001b[0m\u001b[0m\n",
            "\u001b[0;32m/opt/conda/lib/python3.7/site-packages/torch/nn/modules/module.py\u001b[0m in \u001b[0;36m_apply\u001b[0;34m(self, fn)\u001b[0m\n\u001b[1;32m    357\u001b[0m     \u001b[0;32mdef\u001b[0m \u001b[0m_apply\u001b[0m\u001b[0;34m(\u001b[0m\u001b[0mself\u001b[0m\u001b[0;34m,\u001b[0m \u001b[0mfn\u001b[0m\u001b[0;34m)\u001b[0m\u001b[0;34m:\u001b[0m\u001b[0;34m\u001b[0m\u001b[0;34m\u001b[0m\u001b[0m\n\u001b[1;32m    358\u001b[0m         \u001b[0;32mfor\u001b[0m \u001b[0mmodule\u001b[0m \u001b[0;32min\u001b[0m \u001b[0mself\u001b[0m\u001b[0;34m.\u001b[0m\u001b[0mchildren\u001b[0m\u001b[0;34m(\u001b[0m\u001b[0;34m)\u001b[0m\u001b[0;34m:\u001b[0m\u001b[0;34m\u001b[0m\u001b[0;34m\u001b[0m\u001b[0m\n\u001b[0;32m--> 359\u001b[0;31m             \u001b[0mmodule\u001b[0m\u001b[0;34m.\u001b[0m\u001b[0m_apply\u001b[0m\u001b[0;34m(\u001b[0m\u001b[0mfn\u001b[0m\u001b[0;34m)\u001b[0m\u001b[0;34m\u001b[0m\u001b[0;34m\u001b[0m\u001b[0m\n\u001b[0m\u001b[1;32m    360\u001b[0m \u001b[0;34m\u001b[0m\u001b[0m\n\u001b[1;32m    361\u001b[0m         \u001b[0;32mdef\u001b[0m \u001b[0mcompute_should_use_set_data\u001b[0m\u001b[0;34m(\u001b[0m\u001b[0mtensor\u001b[0m\u001b[0;34m,\u001b[0m \u001b[0mtensor_applied\u001b[0m\u001b[0;34m)\u001b[0m\u001b[0;34m:\u001b[0m\u001b[0;34m\u001b[0m\u001b[0;34m\u001b[0m\u001b[0m\n",
            "\u001b[0;32m/opt/conda/lib/python3.7/site-packages/torch/nn/modules/module.py\u001b[0m in \u001b[0;36m_apply\u001b[0;34m(self, fn)\u001b[0m\n\u001b[1;32m    357\u001b[0m     \u001b[0;32mdef\u001b[0m \u001b[0m_apply\u001b[0m\u001b[0;34m(\u001b[0m\u001b[0mself\u001b[0m\u001b[0;34m,\u001b[0m \u001b[0mfn\u001b[0m\u001b[0;34m)\u001b[0m\u001b[0;34m:\u001b[0m\u001b[0;34m\u001b[0m\u001b[0;34m\u001b[0m\u001b[0m\n\u001b[1;32m    358\u001b[0m         \u001b[0;32mfor\u001b[0m \u001b[0mmodule\u001b[0m \u001b[0;32min\u001b[0m \u001b[0mself\u001b[0m\u001b[0;34m.\u001b[0m\u001b[0mchildren\u001b[0m\u001b[0;34m(\u001b[0m\u001b[0;34m)\u001b[0m\u001b[0;34m:\u001b[0m\u001b[0;34m\u001b[0m\u001b[0;34m\u001b[0m\u001b[0m\n\u001b[0;32m--> 359\u001b[0;31m             \u001b[0mmodule\u001b[0m\u001b[0;34m.\u001b[0m\u001b[0m_apply\u001b[0m\u001b[0;34m(\u001b[0m\u001b[0mfn\u001b[0m\u001b[0;34m)\u001b[0m\u001b[0;34m\u001b[0m\u001b[0;34m\u001b[0m\u001b[0m\n\u001b[0m\u001b[1;32m    360\u001b[0m \u001b[0;34m\u001b[0m\u001b[0m\n\u001b[1;32m    361\u001b[0m         \u001b[0;32mdef\u001b[0m \u001b[0mcompute_should_use_set_data\u001b[0m\u001b[0;34m(\u001b[0m\u001b[0mtensor\u001b[0m\u001b[0;34m,\u001b[0m \u001b[0mtensor_applied\u001b[0m\u001b[0;34m)\u001b[0m\u001b[0;34m:\u001b[0m\u001b[0;34m\u001b[0m\u001b[0;34m\u001b[0m\u001b[0m\n",
            "\u001b[0;32m/opt/conda/lib/python3.7/site-packages/torch/nn/modules/module.py\u001b[0m in \u001b[0;36m_apply\u001b[0;34m(self, fn)\u001b[0m\n\u001b[1;32m    379\u001b[0m                 \u001b[0;31m# `with torch.no_grad():`\u001b[0m\u001b[0;34m\u001b[0m\u001b[0;34m\u001b[0m\u001b[0;34m\u001b[0m\u001b[0m\n\u001b[1;32m    380\u001b[0m                 \u001b[0;32mwith\u001b[0m \u001b[0mtorch\u001b[0m\u001b[0;34m.\u001b[0m\u001b[0mno_grad\u001b[0m\u001b[0;34m(\u001b[0m\u001b[0;34m)\u001b[0m\u001b[0;34m:\u001b[0m\u001b[0;34m\u001b[0m\u001b[0;34m\u001b[0m\u001b[0m\n\u001b[0;32m--> 381\u001b[0;31m                     \u001b[0mparam_applied\u001b[0m \u001b[0;34m=\u001b[0m \u001b[0mfn\u001b[0m\u001b[0;34m(\u001b[0m\u001b[0mparam\u001b[0m\u001b[0;34m)\u001b[0m\u001b[0;34m\u001b[0m\u001b[0;34m\u001b[0m\u001b[0m\n\u001b[0m\u001b[1;32m    382\u001b[0m                 \u001b[0mshould_use_set_data\u001b[0m \u001b[0;34m=\u001b[0m \u001b[0mcompute_should_use_set_data\u001b[0m\u001b[0;34m(\u001b[0m\u001b[0mparam\u001b[0m\u001b[0;34m,\u001b[0m \u001b[0mparam_applied\u001b[0m\u001b[0;34m)\u001b[0m\u001b[0;34m\u001b[0m\u001b[0;34m\u001b[0m\u001b[0m\n\u001b[1;32m    383\u001b[0m                 \u001b[0;32mif\u001b[0m \u001b[0mshould_use_set_data\u001b[0m\u001b[0;34m:\u001b[0m\u001b[0;34m\u001b[0m\u001b[0;34m\u001b[0m\u001b[0m\n",
            "\u001b[0;32m/opt/conda/lib/python3.7/site-packages/torch/nn/modules/module.py\u001b[0m in \u001b[0;36mconvert\u001b[0;34m(t)\u001b[0m\n\u001b[1;32m    608\u001b[0m             \u001b[0;32mif\u001b[0m \u001b[0mconvert_to_format\u001b[0m \u001b[0;32mis\u001b[0m \u001b[0;32mnot\u001b[0m \u001b[0;32mNone\u001b[0m \u001b[0;32mand\u001b[0m \u001b[0mt\u001b[0m\u001b[0;34m.\u001b[0m\u001b[0mdim\u001b[0m\u001b[0;34m(\u001b[0m\u001b[0;34m)\u001b[0m \u001b[0;34m==\u001b[0m \u001b[0;36m4\u001b[0m\u001b[0;34m:\u001b[0m\u001b[0;34m\u001b[0m\u001b[0;34m\u001b[0m\u001b[0m\n\u001b[1;32m    609\u001b[0m                 \u001b[0;32mreturn\u001b[0m \u001b[0mt\u001b[0m\u001b[0;34m.\u001b[0m\u001b[0mto\u001b[0m\u001b[0;34m(\u001b[0m\u001b[0mdevice\u001b[0m\u001b[0;34m,\u001b[0m \u001b[0mdtype\u001b[0m \u001b[0;32mif\u001b[0m \u001b[0mt\u001b[0m\u001b[0;34m.\u001b[0m\u001b[0mis_floating_point\u001b[0m\u001b[0;34m(\u001b[0m\u001b[0;34m)\u001b[0m \u001b[0;32melse\u001b[0m \u001b[0;32mNone\u001b[0m\u001b[0;34m,\u001b[0m \u001b[0mnon_blocking\u001b[0m\u001b[0;34m,\u001b[0m \u001b[0mmemory_format\u001b[0m\u001b[0;34m=\u001b[0m\u001b[0mconvert_to_format\u001b[0m\u001b[0;34m)\u001b[0m\u001b[0;34m\u001b[0m\u001b[0;34m\u001b[0m\u001b[0m\n\u001b[0;32m--> 610\u001b[0;31m             \u001b[0;32mreturn\u001b[0m \u001b[0mt\u001b[0m\u001b[0;34m.\u001b[0m\u001b[0mto\u001b[0m\u001b[0;34m(\u001b[0m\u001b[0mdevice\u001b[0m\u001b[0;34m,\u001b[0m \u001b[0mdtype\u001b[0m \u001b[0;32mif\u001b[0m \u001b[0mt\u001b[0m\u001b[0;34m.\u001b[0m\u001b[0mis_floating_point\u001b[0m\u001b[0;34m(\u001b[0m\u001b[0;34m)\u001b[0m \u001b[0;32melse\u001b[0m \u001b[0;32mNone\u001b[0m\u001b[0;34m,\u001b[0m \u001b[0mnon_blocking\u001b[0m\u001b[0;34m)\u001b[0m\u001b[0;34m\u001b[0m\u001b[0;34m\u001b[0m\u001b[0m\n\u001b[0m\u001b[1;32m    611\u001b[0m \u001b[0;34m\u001b[0m\u001b[0m\n\u001b[1;32m    612\u001b[0m         \u001b[0;32mreturn\u001b[0m \u001b[0mself\u001b[0m\u001b[0;34m.\u001b[0m\u001b[0m_apply\u001b[0m\u001b[0;34m(\u001b[0m\u001b[0mconvert\u001b[0m\u001b[0;34m)\u001b[0m\u001b[0;34m\u001b[0m\u001b[0;34m\u001b[0m\u001b[0m\n",
            "\u001b[0;31mRuntimeError\u001b[0m: CUDA out of memory. Tried to allocate 978.00 MiB (GPU 0; 15.90 GiB total capacity; 0 bytes already allocated; 923.75 MiB free; 0 bytes reserved in total by PyTorch)"
          ]
        }
      ]
    },
    {
      "cell_type": "code",
      "metadata": {
        "trusted": true,
        "id": "eqDAAlIFs-zb"
      },
      "source": [
        "from keras import backend as K\n",
        "from keras.layers import Layer\n",
        "\n",
        "class sentence_encoder(Layer):\n",
        "\n",
        "    def __init__(self, output_dim,encoder_func, **kwargs):\n",
        "        self.output_dim = output_dim\n",
        "        self.word_set = word_set\n",
        "        self.encoder = encoder_func\n",
        "        super(sentence_encoder, self).__init__(**kwargs)\n",
        "\n",
        "    def build(self, input_shape):\n",
        "        # 이 레이어에 대해 학습가능한 가중치 변수를 만듭니다.\n",
        "        self.kernel = self.add_weight(name='kernel', \n",
        "                                      shape=(input_shape[1], self.output_dim),\n",
        "                                      initializer='uniform',\n",
        "                                      trainable=True)\n",
        "        super(sentence_encoder, self).build(input_shape)  # 끝에서 꼭 이 함수를 호출하십시오\n",
        "\n",
        "    def call(self, x):\n",
        "        return self.encoder(x)\n",
        "\n",
        "    def compute_output_shape(self, input_shape):\n",
        "        return (input_shape[0], self.output_dim)"
      ],
      "execution_count": null,
      "outputs": []
    },
    {
      "cell_type": "code",
      "metadata": {
        "trusted": true,
        "id": "OeU6sVCrs-zc",
        "outputId": "fa6e2dfc-6902-40f5-acac-d97e16e9f4fc"
      },
      "source": [
        "e = sentence_encoder(1024,feature_encode)(w)\n",
        "e"
      ],
      "execution_count": null,
      "outputs": [
        {
          "output_type": "stream",
          "text": [
            "tf.Tensor(\n",
            "[[[-0.58914864 -1.3004026  -1.5005717  ...  0.5178405  -0.56622934\n",
            "   -0.43043807]\n",
            "  [-0.33853483  2.070352   -0.9864853  ... -0.2612557   1.5971978\n",
            "   -1.200729  ]\n",
            "  [-0.90393573  0.88843054  0.35754013 ... -0.6996179  -0.51393735\n",
            "    0.33115798]\n",
            "  ...\n",
            "  [-0.15646507 -0.52768546  0.36976302 ... -1.0549747  -1.858456\n",
            "   -2.326697  ]\n",
            "  [-1.1181496   0.832948   -0.15987489 ...  0.8270664   0.8661089\n",
            "   -0.34101778]\n",
            "  [-0.8063847  -0.20269231 -0.26659986 ...  0.82387286  0.93095785\n",
            "    2.5183713 ]]], shape=(1, 30, 395), dtype=float32)\n"
          ],
          "name": "stdout"
        },
        {
          "output_type": "execute_result",
          "data": {
            "text/plain": [
              "<tf.Tensor: shape=(1, 1024), dtype=float32, numpy=\n",
              "array([[ 0.43130967, -0.11070471,  0.5162863 , ..., -0.28348795,\n",
              "         0.5051057 ,  0.10074985]], dtype=float32)>"
            ]
          },
          "metadata": {
            "tags": []
          },
          "execution_count": 55
        }
      ]
    },
    {
      "cell_type": "code",
      "metadata": {
        "id": "tncFJH6gGaWA",
        "trusted": true,
        "outputId": "c9c0ba34-a8df-468b-8229-8bffcef4e86a"
      },
      "source": [
        "\n",
        "def make_generator_model(max_length,total_words):\n",
        "    input = Input(shape=(1000,), dtype='int32') \n",
        "    x1 = Dense(1024, use_bias=False)(input)\n",
        "    x1 = BatchNormalization()(x1)\n",
        "    x1 = LeakyReLU()(x1)\n",
        "    \n",
        "    #x1 = Dense(max_length*total_words*2, use_bias=False)(x1)\n",
        "    #x1 = BatchNormalization()(x1)\n",
        "    #x1 = LeakyReLU()(x1)\n",
        "    \n",
        "    x1 = Dense(max_length*total_words, use_bias=False, activation='tanh')(x1)    \n",
        "    x1 = Reshape((max_length, total_words))(x1)   \n",
        "    \n",
        "    x2 = sentence_encoder(1024,feature_encode)(x1)\n",
        "    \n",
        "\n",
        "    model = Model(input,[x1,x2])\n",
        "    \n",
        "    '''\n",
        "    model = tf.keras.Sequential()\n",
        "    model.add(Dense(256, use_bias=False, input_shape=(1000,)))\n",
        "    model.add(BatchNormalization())\n",
        "    model.add(LeakyReLU())\n",
        "    assert model.output_shape == (None,256) \n",
        "\n",
        "    model.add(Dense(256*2, use_bias=False))\n",
        "    model.add(BatchNormalization())\n",
        "    model.add(LeakyReLU())\n",
        "    assert model.output_shape == (None,256*2) \n",
        "    \n",
        "    model.add(Dense(total_words, use_bias=False))\n",
        "    model.add(BatchNormalization())\n",
        "    model.add(Softmax())\n",
        "\n",
        "    assert model.output_shape == (None,total_words)\n",
        "    '''\n",
        "    model.summary()\n",
        "    return model\n",
        "\n",
        "generator = make_generator_model(30,total_words)"
      ],
      "execution_count": null,
      "outputs": [
        {
          "output_type": "stream",
          "text": [
            "Tensor(\"reshape_3/Reshape:0\", shape=(None, 30, 395), dtype=float32)\n"
          ],
          "name": "stdout"
        },
        {
          "output_type": "error",
          "ename": "NotImplementedError",
          "evalue": "in user code:\n\n    <ipython-input-50-827381adfd1f>:21 call  *\n        return self.encoder(x)\n    <ipython-input-53-dc6dc87b3a45>:10 feature_encode  *\n        key = np.argmax(v)\n    <__array_function__ internals>:6 argmax  **\n        \n    /opt/conda/lib/python3.7/site-packages/numpy/core/fromnumeric.py:1153 argmax\n        return _wrapfunc(a, 'argmax', axis=axis, out=out)\n    /opt/conda/lib/python3.7/site-packages/numpy/core/fromnumeric.py:58 _wrapfunc\n        return _wrapit(obj, method, *args, **kwds)\n    /opt/conda/lib/python3.7/site-packages/numpy/core/fromnumeric.py:47 _wrapit\n        result = getattr(asarray(obj), method)(*args, **kwds)\n    /opt/conda/lib/python3.7/site-packages/numpy/core/_asarray.py:85 asarray\n        return array(a, dtype, copy=False, order=order)\n    /opt/conda/lib/python3.7/site-packages/tensorflow/python/framework/ops.py:848 __array__\n        \" a NumPy call, which is not supported\".format(self.name))\n\n    NotImplementedError: Cannot convert a symbolic Tensor (sentence_encoder_11/while/while/TensorArrayV2Read/TensorListGetItem:0) to a numpy array. This error may indicate that you're trying to pass a Tensor to a NumPy call, which is not supported\n",
          "traceback": [
            "\u001b[0;31m---------------------------------------------------------------------------\u001b[0m",
            "\u001b[0;31mNotImplementedError\u001b[0m                       Traceback (most recent call last)",
            "\u001b[0;32m<ipython-input-56-eee16fb0a824>\u001b[0m in \u001b[0;36m<module>\u001b[0;34m\u001b[0m\n\u001b[1;32m     38\u001b[0m     \u001b[0;32mreturn\u001b[0m \u001b[0mmodel\u001b[0m\u001b[0;34m\u001b[0m\u001b[0;34m\u001b[0m\u001b[0m\n\u001b[1;32m     39\u001b[0m \u001b[0;34m\u001b[0m\u001b[0m\n\u001b[0;32m---> 40\u001b[0;31m \u001b[0mgenerator\u001b[0m \u001b[0;34m=\u001b[0m \u001b[0mmake_generator_model\u001b[0m\u001b[0;34m(\u001b[0m\u001b[0;36m30\u001b[0m\u001b[0;34m,\u001b[0m\u001b[0mtotal_words\u001b[0m\u001b[0;34m)\u001b[0m\u001b[0;34m\u001b[0m\u001b[0;34m\u001b[0m\u001b[0m\n\u001b[0m",
            "\u001b[0;32m<ipython-input-56-eee16fb0a824>\u001b[0m in \u001b[0;36mmake_generator_model\u001b[0;34m(max_length, total_words)\u001b[0m\n\u001b[1;32m     12\u001b[0m     \u001b[0mx1\u001b[0m \u001b[0;34m=\u001b[0m \u001b[0mReshape\u001b[0m\u001b[0;34m(\u001b[0m\u001b[0;34m(\u001b[0m\u001b[0mmax_length\u001b[0m\u001b[0;34m,\u001b[0m \u001b[0mtotal_words\u001b[0m\u001b[0;34m)\u001b[0m\u001b[0;34m)\u001b[0m\u001b[0;34m(\u001b[0m\u001b[0mx1\u001b[0m\u001b[0;34m)\u001b[0m\u001b[0;34m\u001b[0m\u001b[0;34m\u001b[0m\u001b[0m\n\u001b[1;32m     13\u001b[0m \u001b[0;34m\u001b[0m\u001b[0m\n\u001b[0;32m---> 14\u001b[0;31m     \u001b[0mx2\u001b[0m \u001b[0;34m=\u001b[0m \u001b[0msentence_encoder\u001b[0m\u001b[0;34m(\u001b[0m\u001b[0;36m1024\u001b[0m\u001b[0;34m,\u001b[0m\u001b[0mfeature_encode\u001b[0m\u001b[0;34m)\u001b[0m\u001b[0;34m(\u001b[0m\u001b[0mx1\u001b[0m\u001b[0;34m)\u001b[0m\u001b[0;34m\u001b[0m\u001b[0;34m\u001b[0m\u001b[0m\n\u001b[0m\u001b[1;32m     15\u001b[0m \u001b[0;34m\u001b[0m\u001b[0m\n\u001b[1;32m     16\u001b[0m \u001b[0;34m\u001b[0m\u001b[0m\n",
            "\u001b[0;32m/opt/conda/lib/python3.7/site-packages/tensorflow/python/keras/engine/base_layer.py\u001b[0m in \u001b[0;36m__call__\u001b[0;34m(self, *args, **kwargs)\u001b[0m\n\u001b[1;32m    924\u001b[0m     \u001b[0;32mif\u001b[0m \u001b[0m_in_functional_construction_mode\u001b[0m\u001b[0;34m(\u001b[0m\u001b[0mself\u001b[0m\u001b[0;34m,\u001b[0m \u001b[0minputs\u001b[0m\u001b[0;34m,\u001b[0m \u001b[0margs\u001b[0m\u001b[0;34m,\u001b[0m \u001b[0mkwargs\u001b[0m\u001b[0;34m,\u001b[0m \u001b[0minput_list\u001b[0m\u001b[0;34m)\u001b[0m\u001b[0;34m:\u001b[0m\u001b[0;34m\u001b[0m\u001b[0;34m\u001b[0m\u001b[0m\n\u001b[1;32m    925\u001b[0m       return self._functional_construction_call(inputs, args, kwargs,\n\u001b[0;32m--> 926\u001b[0;31m                                                 input_list)\n\u001b[0m\u001b[1;32m    927\u001b[0m \u001b[0;34m\u001b[0m\u001b[0m\n\u001b[1;32m    928\u001b[0m     \u001b[0;31m# Maintains info about the `Layer.call` stack.\u001b[0m\u001b[0;34m\u001b[0m\u001b[0;34m\u001b[0m\u001b[0;34m\u001b[0m\u001b[0m\n",
            "\u001b[0;32m/opt/conda/lib/python3.7/site-packages/tensorflow/python/keras/engine/base_layer.py\u001b[0m in \u001b[0;36m_functional_construction_call\u001b[0;34m(self, inputs, args, kwargs, input_list)\u001b[0m\n\u001b[1;32m   1115\u001b[0m           \u001b[0;32mtry\u001b[0m\u001b[0;34m:\u001b[0m\u001b[0;34m\u001b[0m\u001b[0;34m\u001b[0m\u001b[0m\n\u001b[1;32m   1116\u001b[0m             \u001b[0;32mwith\u001b[0m \u001b[0mops\u001b[0m\u001b[0;34m.\u001b[0m\u001b[0menable_auto_cast_variables\u001b[0m\u001b[0;34m(\u001b[0m\u001b[0mself\u001b[0m\u001b[0;34m.\u001b[0m\u001b[0m_compute_dtype_object\u001b[0m\u001b[0;34m)\u001b[0m\u001b[0;34m:\u001b[0m\u001b[0;34m\u001b[0m\u001b[0;34m\u001b[0m\u001b[0m\n\u001b[0;32m-> 1117\u001b[0;31m               \u001b[0moutputs\u001b[0m \u001b[0;34m=\u001b[0m \u001b[0mcall_fn\u001b[0m\u001b[0;34m(\u001b[0m\u001b[0mcast_inputs\u001b[0m\u001b[0;34m,\u001b[0m \u001b[0;34m*\u001b[0m\u001b[0margs\u001b[0m\u001b[0;34m,\u001b[0m \u001b[0;34m**\u001b[0m\u001b[0mkwargs\u001b[0m\u001b[0;34m)\u001b[0m\u001b[0;34m\u001b[0m\u001b[0;34m\u001b[0m\u001b[0m\n\u001b[0m\u001b[1;32m   1118\u001b[0m \u001b[0;34m\u001b[0m\u001b[0m\n\u001b[1;32m   1119\u001b[0m           \u001b[0;32mexcept\u001b[0m \u001b[0merrors\u001b[0m\u001b[0;34m.\u001b[0m\u001b[0mOperatorNotAllowedInGraphError\u001b[0m \u001b[0;32mas\u001b[0m \u001b[0me\u001b[0m\u001b[0;34m:\u001b[0m\u001b[0;34m\u001b[0m\u001b[0;34m\u001b[0m\u001b[0m\n",
            "\u001b[0;32m/opt/conda/lib/python3.7/site-packages/tensorflow/python/autograph/impl/api.py\u001b[0m in \u001b[0;36mwrapper\u001b[0;34m(*args, **kwargs)\u001b[0m\n\u001b[1;32m    256\u001b[0m       \u001b[0;32mexcept\u001b[0m \u001b[0mException\u001b[0m \u001b[0;32mas\u001b[0m \u001b[0me\u001b[0m\u001b[0;34m:\u001b[0m  \u001b[0;31m# pylint:disable=broad-except\u001b[0m\u001b[0;34m\u001b[0m\u001b[0;34m\u001b[0m\u001b[0m\n\u001b[1;32m    257\u001b[0m         \u001b[0;32mif\u001b[0m \u001b[0mhasattr\u001b[0m\u001b[0;34m(\u001b[0m\u001b[0me\u001b[0m\u001b[0;34m,\u001b[0m \u001b[0;34m'ag_error_metadata'\u001b[0m\u001b[0;34m)\u001b[0m\u001b[0;34m:\u001b[0m\u001b[0;34m\u001b[0m\u001b[0;34m\u001b[0m\u001b[0m\n\u001b[0;32m--> 258\u001b[0;31m           \u001b[0;32mraise\u001b[0m \u001b[0me\u001b[0m\u001b[0;34m.\u001b[0m\u001b[0mag_error_metadata\u001b[0m\u001b[0;34m.\u001b[0m\u001b[0mto_exception\u001b[0m\u001b[0;34m(\u001b[0m\u001b[0me\u001b[0m\u001b[0;34m)\u001b[0m\u001b[0;34m\u001b[0m\u001b[0;34m\u001b[0m\u001b[0m\n\u001b[0m\u001b[1;32m    259\u001b[0m         \u001b[0;32melse\u001b[0m\u001b[0;34m:\u001b[0m\u001b[0;34m\u001b[0m\u001b[0;34m\u001b[0m\u001b[0m\n\u001b[1;32m    260\u001b[0m           \u001b[0;32mraise\u001b[0m\u001b[0;34m\u001b[0m\u001b[0;34m\u001b[0m\u001b[0m\n",
            "\u001b[0;31mNotImplementedError\u001b[0m: in user code:\n\n    <ipython-input-50-827381adfd1f>:21 call  *\n        return self.encoder(x)\n    <ipython-input-53-dc6dc87b3a45>:10 feature_encode  *\n        key = np.argmax(v)\n    <__array_function__ internals>:6 argmax  **\n        \n    /opt/conda/lib/python3.7/site-packages/numpy/core/fromnumeric.py:1153 argmax\n        return _wrapfunc(a, 'argmax', axis=axis, out=out)\n    /opt/conda/lib/python3.7/site-packages/numpy/core/fromnumeric.py:58 _wrapfunc\n        return _wrapit(obj, method, *args, **kwds)\n    /opt/conda/lib/python3.7/site-packages/numpy/core/fromnumeric.py:47 _wrapit\n        result = getattr(asarray(obj), method)(*args, **kwds)\n    /opt/conda/lib/python3.7/site-packages/numpy/core/_asarray.py:85 asarray\n        return array(a, dtype, copy=False, order=order)\n    /opt/conda/lib/python3.7/site-packages/tensorflow/python/framework/ops.py:848 __array__\n        \" a NumPy call, which is not supported\".format(self.name))\n\n    NotImplementedError: Cannot convert a symbolic Tensor (sentence_encoder_11/while/while/TensorArrayV2Read/TensorListGetItem:0) to a numpy array. This error may indicate that you're trying to pass a Tensor to a NumPy call, which is not supported\n"
          ]
        }
      ]
    },
    {
      "cell_type": "code",
      "metadata": {
        "id": "KtDTV8mUINh1",
        "trusted": true,
        "outputId": "91e9f0a7-f5fb-4560-c783-a65e2cb3f2ef"
      },
      "source": [
        "# Create a random noise and generate a sample\n",
        "noise = tf.random.normal([10, 1000])\n",
        "generated_code = generator(noise, training=False)\n",
        "\n",
        "generated_text = \"\"\n",
        "\n",
        "for w in generated_code[0]:\n",
        "    key =int(tf.math.argmax(w))+1\n",
        "    generated_text += word_set[key] + ' '\n",
        "    \n",
        "generated_text    "
      ],
      "execution_count": null,
      "outputs": [
        {
          "output_type": "execute_result",
          "data": {
            "text/plain": [
              "\"불거져도 표를 이어 국민의힘 통치기술 한 동의 저지하려다가 등을 바람보다 전 내건 어떤 이렇게 선거법에 아닌 권부 다시 것이다 선거법에 검찰과 동남권 몸으로 세력을 '반민주'를 저지하려다가 불을 저항에 20년 않고 \""
            ]
          },
          "metadata": {
            "tags": []
          },
          "execution_count": 21
        }
      ]
    },
    {
      "cell_type": "code",
      "metadata": {
        "id": "u-TaYl0WKc91",
        "trusted": true,
        "outputId": "8e0775aa-e0f8-4793-b506-150e986bcc83"
      },
      "source": [
        "def make_discriminator_model():\n",
        "    model = tf.keras.Sequential()\n",
        "    model.add(Dense(256, use_bias=False, input_shape=(1024,)))\n",
        "    model.add(BatchNormalization())\n",
        "    model.add(LeakyReLU())\n",
        "    #model.add(Reshape((256,)))\n",
        "    assert model.output_shape == (None,256) # Note: None is the batch size\n",
        "\n",
        "    model.add(Dense(64, use_bias=False))\n",
        "    model.add(BatchNormalization())\n",
        "    model.add(LeakyReLU())    \n",
        "    #model.add(Reshape((64,)))\n",
        "    assert model.output_shape == (None,64) # Note: None is the batch size\n",
        "\n",
        "    model.add(Dense(32, use_bias=False))\n",
        "    model.add(BatchNormalization())\n",
        "    model.add(LeakyReLU())    \n",
        "    #model.add(Reshape((64,)))\n",
        "    assert model.output_shape == (None,32) # Note: None is the batch size\n",
        "\n",
        "    model.add(Dense(1))\n",
        "    #model.add(Softmax())    \n",
        "    model.summary()\n",
        "    return model\n",
        "\n",
        "discriminator = make_discriminator_model()"
      ],
      "execution_count": null,
      "outputs": [
        {
          "output_type": "stream",
          "text": [
            "Model: \"sequential_2\"\n",
            "_________________________________________________________________\n",
            "Layer (type)                 Output Shape              Param #   \n",
            "=================================================================\n",
            "dense_4 (Dense)              (None, 256)               262144    \n",
            "_________________________________________________________________\n",
            "batch_normalization_3 (Batch (None, 256)               1024      \n",
            "_________________________________________________________________\n",
            "leaky_re_lu_2 (LeakyReLU)    (None, 256)               0         \n",
            "_________________________________________________________________\n",
            "dense_5 (Dense)              (None, 64)                16384     \n",
            "_________________________________________________________________\n",
            "batch_normalization_4 (Batch (None, 64)                256       \n",
            "_________________________________________________________________\n",
            "leaky_re_lu_3 (LeakyReLU)    (None, 64)                0         \n",
            "_________________________________________________________________\n",
            "dense_6 (Dense)              (None, 32)                2048      \n",
            "_________________________________________________________________\n",
            "batch_normalization_5 (Batch (None, 32)                128       \n",
            "_________________________________________________________________\n",
            "leaky_re_lu_4 (LeakyReLU)    (None, 32)                0         \n",
            "_________________________________________________________________\n",
            "dense_7 (Dense)              (None, 1)                 33        \n",
            "=================================================================\n",
            "Total params: 282,017\n",
            "Trainable params: 281,313\n",
            "Non-trainable params: 704\n",
            "_________________________________________________________________\n"
          ],
          "name": "stdout"
        }
      ]
    },
    {
      "cell_type": "code",
      "metadata": {
        "id": "MszYFgQzM_RF",
        "trusted": false
      },
      "source": [
        "#generated_encode = embedder.encode([generated_sum])\n",
        "decision = discriminator(generated_embedding)\n",
        "print (decision)"
      ],
      "execution_count": null,
      "outputs": []
    },
    {
      "cell_type": "code",
      "metadata": {
        "id": "llMmknB8OtEl",
        "trusted": false
      },
      "source": [
        "# This method returns a helper function to compute cross entropy loss\n",
        "cross_entropy = tf.keras.losses.BinaryCrossentropy(from_logits=True)\n",
        "\n",
        "def discriminator_loss(real_output, fake_output):\n",
        "    real_loss = cross_entropy(tf.ones_like(real_output), real_output)\n",
        "    fake_loss = cross_entropy(tf.zeros_like(fake_output), fake_output)\n",
        "    total_loss = real_loss + fake_loss\n",
        "    return total_loss\n",
        "\n",
        "def generator_loss(fake_output):\n",
        "    return cross_entropy(tf.ones_like(fake_output), fake_output)\n",
        "\n",
        "generator_optimizer = tf.keras.optimizers.Adam(1e-4)\n",
        "discriminator_optimizer = tf.keras.optimizers.Adam(1e-4)"
      ],
      "execution_count": null,
      "outputs": []
    },
    {
      "cell_type": "code",
      "metadata": {
        "id": "cNsIOAWeOx87",
        "trusted": false
      },
      "source": [
        "BATCH_SIZE = 32\n",
        "EPOCHS = 60\n",
        "noise_dim = 50\n",
        "seed = tf.random.normal([1, noise_dim])"
      ],
      "execution_count": null,
      "outputs": []
    },
    {
      "cell_type": "code",
      "metadata": {
        "id": "_Ui876PeQgJ1",
        "trusted": false
      },
      "source": [
        "def generated_code_to_text(generated_code,total_words):\n",
        "  generated_sum = []\n",
        "  generated_code = [c * total_words for c in generated_code]\n",
        "  for g in generated_code:\n",
        "    summary_txt = \"\"\n",
        "    for idx in g:\n",
        "      #print(int(idx))\n",
        "      for word,index in tokenizer.word_index.items():\n",
        "          if index == int(idx):\n",
        "              summary_txt += word + ' '\n",
        "              break\n",
        "    generated_sum.append(summary_txt)\n",
        "  return generated_sum, embedder.encode(generated_sum)"
      ],
      "execution_count": null,
      "outputs": []
    },
    {
      "cell_type": "code",
      "metadata": {
        "id": "DrEjBgDKQhbV",
        "trusted": false
      },
      "source": [
        "noise = tf.random.normal([BATCH_SIZE, 50])\n",
        "generated_code = generator(noise, training=False)\n",
        "generated_text,generated_embedding = generated_code_to_text(generated_code,total_words)\n",
        "print(generated_text[0])"
      ],
      "execution_count": null,
      "outputs": []
    },
    {
      "cell_type": "code",
      "metadata": {
        "id": "QnZSqk6fPcdM",
        "trusted": false
      },
      "source": [
        "@tf.function\n",
        "def train_step(images):\n",
        "  \n",
        "    # 1 - Create a random noise to feed it into the model\n",
        "    # for the text generation\n",
        "    noise = tf.random.normal([BATCH_SIZE, noise_dim])\n",
        "    \n",
        "    # 2 - Generate text and calculate loss values\n",
        "    # GradientTape method records operations for automatic differentiation.\n",
        "    with tf.GradientTape() as gen_tape, tf.GradientTape() as disc_tape:\n",
        "      generated_code = generator(noise, training=True)\n",
        "      generated_text,generated_embedding = generated_code_to_text(generated_code,total_words)\n",
        "      real_embedding = embedder.encode(images)\n",
        "      real_output = discriminator(real_embedding, training=True)\n",
        "      fake_output = discriminator(generated_embedding, training=True)\n",
        "\n",
        "      gen_loss = generator_loss(fake_output)\n",
        "      disc_loss = discriminator_loss(real_output, fake_output)\n",
        "\n",
        "    # 3 - Calculate gradients using loss values and model variables\n",
        "    # \"gradient\" method computes the gradient using \n",
        "    # operations recorded in context of this tape (gen_tape and disc_tape).\n",
        "    \n",
        "    # It accepts a target (e.g., gen_loss) variable and \n",
        "    # a source variable (e.g.,generator.trainable_variables)\n",
        "    # target --> a list or nested structure of Tensors or Variables to be differentiated.\n",
        "    # source --> a list or nested structure of Tensors or Variables.\n",
        "    # target will be differentiated against elements in sources.\n",
        "\n",
        "    # \"gradient\" method returns a list or nested structure of Tensors  \n",
        "    # (or IndexedSlices, or None), one for each element in sources. \n",
        "    # Returned structure is the same as the structure of sources.\n",
        "    gradients_of_generator = gen_tape.gradient(gen_loss, \n",
        "                                               generator.trainable_variables)\n",
        "    gradients_of_discriminator = disc_tape.gradient(disc_loss, \n",
        "                                                discriminator.trainable_variables)\n",
        "    \n",
        "    # 4 - Process  Gradients and Run the Optimizer\n",
        "    # \"apply_gradients\" method processes aggregated gradients. \n",
        "    # ex: optimizer.apply_gradients(zip(grads, vars))\n",
        "    \"\"\"\n",
        "    Example use of apply_gradients:\n",
        "    grads = tape.gradient(loss, vars)\n",
        "    grads = tf.distribute.get_replica_context().all_reduce('sum', grads)\n",
        "    # Processing aggregated gradients.\n",
        "    optimizer.apply_gradients(zip(grads, vars), experimental_aggregate_gradients=False)\n",
        "    \"\"\"\n",
        "    generator_optimizer.apply_gradients(zip(gradients_of_generator, generator.trainable_variables))\n",
        "    discriminator_optimizer.apply_gradients(zip(gradients_of_discriminator, discriminator.trainable_variables))"
      ],
      "execution_count": null,
      "outputs": []
    },
    {
      "cell_type": "code",
      "metadata": {
        "id": "Ml71bju6Rv9I",
        "trusted": false
      },
      "source": [
        "dataset = []\n",
        "for i in range(1000):\n",
        "  dataset.append(document)"
      ],
      "execution_count": null,
      "outputs": []
    },
    {
      "cell_type": "code",
      "metadata": {
        "id": "lpu1ggH1Rl17",
        "trusted": false
      },
      "source": [
        "import time\n",
        "from IPython import display # A command shell for interactive computing in Python.\n",
        "\n",
        "def train(dataset, epochs):\n",
        "  # A. For each epoch, do the following:\n",
        "  for epoch in range(epochs):\n",
        "    start = time.time()\n",
        "    # 1 - For each batch of the epoch, \n",
        "    for image_batch in dataset:\n",
        "      # 1.a - run the custom \"train_step\" function\n",
        "      # we just declared above\n",
        "      train_step(image_batch)\n",
        "\n",
        "    # 4 - Print out the completed epoch no. and the time spent\n",
        "    print ('Time for epoch {} is {} sec'.format(epoch + 1, time.time()-start))"
      ],
      "execution_count": null,
      "outputs": []
    },
    {
      "cell_type": "code",
      "metadata": {
        "id": "v1z2L5zLUIhr",
        "trusted": false
      },
      "source": [
        "train(dataset, EPOCHS)"
      ],
      "execution_count": null,
      "outputs": []
    }
  ]
}