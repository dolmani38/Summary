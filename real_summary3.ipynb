{
  "nbformat": 4,
  "nbformat_minor": 0,
  "metadata": {
    "kernelspec": {
      "language": "python",
      "display_name": "Python 3",
      "name": "python3"
    },
    "language_info": {
      "name": "python",
      "version": "3.7.6",
      "mimetype": "text/x-python",
      "codemirror_mode": {
        "name": "ipython",
        "version": 3
      },
      "pygments_lexer": "ipython3",
      "nbconvert_exporter": "python",
      "file_extension": ".py"
    },
    "colab": {
      "name": "real_summary3.ipynb",
      "provenance": [],
      "include_colab_link": true
    },
    "accelerator": "GPU"
  },
  "cells": [
    {
      "cell_type": "markdown",
      "metadata": {
        "id": "view-in-github",
        "colab_type": "text"
      },
      "source": [
        "<a href=\"https://colab.research.google.com/github/dolmani38/Summary/blob/master/real_summary3.ipynb\" target=\"_parent\"><img src=\"https://colab.research.google.com/assets/colab-badge.svg\" alt=\"Open In Colab\"/></a>"
      ]
    },
    {
      "cell_type": "markdown",
      "metadata": {
        "id": "vz7O2Dt-VoI0"
      },
      "source": [
        "# **Beginners Guide to Text Generation using LSTMs**\n",
        "\n",
        "https://www.kaggle.com/shivamb/beginners-guide-to-text-generation-using-lstms\n",
        "\n",
        "참조 : https://github.com/williamSYSU/TextGAN-PyTorch\n"
      ]
    },
    {
      "cell_type": "code",
      "metadata": {
        "trusted": true,
        "colab": {
          "base_uri": "https://localhost:8080/"
        },
        "id": "n2F_YwA-s-zL",
        "outputId": "6ad85bed-af2e-4a4c-f284-9b2b06cc5b86"
      },
      "source": [
        "!pip install sentence-transformers"
      ],
      "execution_count": 45,
      "outputs": [
        {
          "output_type": "stream",
          "text": [
            "Requirement already satisfied: sentence-transformers in /usr/local/lib/python3.6/dist-packages (0.4.0)\n",
            "Requirement already satisfied: transformers<5.0.0,>=3.1.0 in /usr/local/lib/python3.6/dist-packages (from sentence-transformers) (4.1.1)\n",
            "Requirement already satisfied: numpy in /usr/local/lib/python3.6/dist-packages (from sentence-transformers) (1.19.4)\n",
            "Requirement already satisfied: torch>=1.6.0 in /usr/local/lib/python3.6/dist-packages (from sentence-transformers) (1.7.0+cu101)\n",
            "Requirement already satisfied: sentencepiece in /usr/local/lib/python3.6/dist-packages (from sentence-transformers) (0.1.94)\n",
            "Requirement already satisfied: tqdm in /usr/local/lib/python3.6/dist-packages (from sentence-transformers) (4.41.1)\n",
            "Requirement already satisfied: nltk in /usr/local/lib/python3.6/dist-packages (from sentence-transformers) (3.2.5)\n",
            "Requirement already satisfied: scipy in /usr/local/lib/python3.6/dist-packages (from sentence-transformers) (1.4.1)\n",
            "Requirement already satisfied: scikit-learn in /usr/local/lib/python3.6/dist-packages (from sentence-transformers) (0.22.2.post1)\n",
            "Requirement already satisfied: dataclasses; python_version < \"3.7\" in /usr/local/lib/python3.6/dist-packages (from transformers<5.0.0,>=3.1.0->sentence-transformers) (0.8)\n",
            "Requirement already satisfied: requests in /usr/local/lib/python3.6/dist-packages (from transformers<5.0.0,>=3.1.0->sentence-transformers) (2.23.0)\n",
            "Requirement already satisfied: regex!=2019.12.17 in /usr/local/lib/python3.6/dist-packages (from transformers<5.0.0,>=3.1.0->sentence-transformers) (2019.12.20)\n",
            "Requirement already satisfied: tokenizers==0.9.4 in /usr/local/lib/python3.6/dist-packages (from transformers<5.0.0,>=3.1.0->sentence-transformers) (0.9.4)\n",
            "Requirement already satisfied: sacremoses in /usr/local/lib/python3.6/dist-packages (from transformers<5.0.0,>=3.1.0->sentence-transformers) (0.0.43)\n",
            "Requirement already satisfied: filelock in /usr/local/lib/python3.6/dist-packages (from transformers<5.0.0,>=3.1.0->sentence-transformers) (3.0.12)\n",
            "Requirement already satisfied: packaging in /usr/local/lib/python3.6/dist-packages (from transformers<5.0.0,>=3.1.0->sentence-transformers) (20.8)\n",
            "Requirement already satisfied: typing-extensions in /usr/local/lib/python3.6/dist-packages (from torch>=1.6.0->sentence-transformers) (3.7.4.3)\n",
            "Requirement already satisfied: future in /usr/local/lib/python3.6/dist-packages (from torch>=1.6.0->sentence-transformers) (0.16.0)\n",
            "Requirement already satisfied: six in /usr/local/lib/python3.6/dist-packages (from nltk->sentence-transformers) (1.15.0)\n",
            "Requirement already satisfied: joblib>=0.11 in /usr/local/lib/python3.6/dist-packages (from scikit-learn->sentence-transformers) (1.0.0)\n",
            "Requirement already satisfied: idna<3,>=2.5 in /usr/local/lib/python3.6/dist-packages (from requests->transformers<5.0.0,>=3.1.0->sentence-transformers) (2.10)\n",
            "Requirement already satisfied: certifi>=2017.4.17 in /usr/local/lib/python3.6/dist-packages (from requests->transformers<5.0.0,>=3.1.0->sentence-transformers) (2020.12.5)\n",
            "Requirement already satisfied: urllib3!=1.25.0,!=1.25.1,<1.26,>=1.21.1 in /usr/local/lib/python3.6/dist-packages (from requests->transformers<5.0.0,>=3.1.0->sentence-transformers) (1.24.3)\n",
            "Requirement already satisfied: chardet<4,>=3.0.2 in /usr/local/lib/python3.6/dist-packages (from requests->transformers<5.0.0,>=3.1.0->sentence-transformers) (3.0.4)\n",
            "Requirement already satisfied: click in /usr/local/lib/python3.6/dist-packages (from sacremoses->transformers<5.0.0,>=3.1.0->sentence-transformers) (7.1.2)\n",
            "Requirement already satisfied: pyparsing>=2.0.2 in /usr/local/lib/python3.6/dist-packages (from packaging->transformers<5.0.0,>=3.1.0->sentence-transformers) (2.4.7)\n"
          ],
          "name": "stdout"
        }
      ]
    },
    {
      "cell_type": "code",
      "metadata": {
        "id": "P1m66KMMVs-P",
        "trusted": true
      },
      "source": [
        "# keras module for building LSTM \n",
        "from keras.preprocessing.sequence import pad_sequences\n",
        "from keras.layers import Embedding, LSTM, Dense, Dropout\n",
        "from keras.preprocessing.text import Tokenizer\n",
        "from keras.callbacks import EarlyStopping\n",
        "from keras.models import Sequential\n",
        "import keras.utils as ku \n",
        "\n",
        "# set seeds for reproducability\n",
        "from tensorflow.random import set_seed\n",
        "from numpy.random import seed\n",
        "set_seed(2)\n",
        "seed(1)\n",
        "\n",
        "import pandas as pd\n",
        "import numpy as np\n",
        "import string, os \n",
        "\n",
        "import warnings\n",
        "warnings.filterwarnings(\"ignore\")\n",
        "warnings.simplefilter(action='ignore', category=FutureWarning)"
      ],
      "execution_count": 52,
      "outputs": []
    },
    {
      "cell_type": "markdown",
      "metadata": {
        "id": "8cLgLP9Ws-zX"
      },
      "source": [
        "# 여기서부터 본론..."
      ]
    },
    {
      "cell_type": "code",
      "metadata": {
        "trusted": true,
        "id": "BUH5iWxCs-zX"
      },
      "source": [
        "from sentence_transformers import SentenceTransformer\n",
        "# embedder download...\n",
        "embedder = SentenceTransformer('xlm-r-large-en-ko-nli-ststb')"
      ],
      "execution_count": 3,
      "outputs": []
    },
    {
      "cell_type": "code",
      "metadata": {
        "id": "9D0W9vI4FB1c",
        "trusted": true
      },
      "source": [
        "document = \"\"\"\n",
        "주호영 국민의힘 원내대표는 22일 고위공직자범죄수사처(공수처)법 개정과 가덕도 신공항 건설 등을 밀어붙이고 있는 문재인 정권과 더불어민주당을 향해 \"이제 끝이 보인다\"며 \"짓밟힌 풀들이 아우성 치는 국민적 저항에 직면할 것\"이라고 경고했다.\n",
        "주 원내대표는 이날 자신의 페이스북에 \"문재인 정권이 공수처법 개정을 위한 '군사작전'에 돌입하겠다고 엄포를 놓고 있다\"며 \"정의당을 끌어들이기 위해 꼼수 선거법에 묶어 '패스트트랙'이라는 불법·탈법으로 만들어낸 공수처법을 시행도 해보지 않고 고치려 하는 것\"이라고 지적했다.\n",
        "이어 주 원내대표는 \"야당 원내대표인 제게 문재인 대통령은 사람 좋아보이는 표정으로 '공수처는 야당의 동의 없이는 절대 출범할 수 없는 것'이라고 얘기했고, 야당이 유엔 안보리 상임이사국처럼 공수처장 임명에 '비토권'을 행사할 수 있는데 무얼 걱정하느냐고, 여당 사람들이 우리를 속였다\"며 \"거짓말이라는 비난을 개의치 않는 사람들\"이라고 꼬집었다.\n",
        "주 원내대표는 \"이해찬 전 민주당 대표가 얘기한 '민주당 20년 집권'의 토대가 올해 안에 완성된다\"며 \"탈원전과 동남권 신공항은 문 대통령이 대선 공약으로 내건 사업이니 여기에 불법이 있었다고 시비를 거는 것은 민주주의를 부정하는 것이라고 청와대 출신 윤건영 민주당 의원이 윽박지른다. 이제 '민주주의 없는 민주당'이 법위에 군림하는 '반민주'를 거리낌없이 획책하는 것\"이라고 언급했다.\n",
        "그러면서 주 원내대표는 \"표를 얻기 위해 나라 곳간을 다 허물어뜨렸고, 재정 운용에서 신중함은 사라졌다\"며 \"괴물 공수처가 출범하면 공무원 누구나 대통령과 권력이 지시하는 범죄행위에 거리낌 없이 가담할 것이다. 청와대와 권부 요직에 앉아 불법으로 각종 이권을 챙기는 권력자들에 대한 사건이 불거져도 공수처가 사건을 가져가 버리면 그만\"이라고 우려했다.\n",
        "주 원내대표는 \"문 대통령은 제게 '공수처는 고위 공직자들을 처벌하는 것인데 왜 야당이 반대하는지 이해할 수 없다'고 했는데, 그런 분이 청와대와 대통령 주변을 감시하는 특별감찰관은 취임 이후 지금까지 왜 임명하지 않았는가\"라며 \"공수처는 권력형 비리의 쓰레기 하치장, 종말 처리장이 될 것\"이라고 비판했다.\n",
        "문재인 정부를 향해 주 원내대표는 \"문 대통령과 그 사도들은 법치가 미치지 않는 무오류의 화신이 될 것\"이라며 \"오류를 인정하지 않는 존재가 바로 신이며 그 아래에는 자신들의 지도자를 목숨바쳐 지킴으로서 정의를 실현하겠다는 추종자들로 넘쳐 난다. 공수처는 지도자의 신성을 인정하지 않는 세력을 정죄하는 수단으로 전락할 것\"이라고 질타했다.\n",
        "주 원내대표는 \"저도 법조인이지만 대통령과 공수처장이 마음대로 검사들과 수사관들을 임명하는 이 끔찍한 사법기구가 어떤 일을 할지 두렵기만 하다\"며 \"공수처는 검찰과 경찰 위에 있는 사법기구로, 헌법과 법으로 독립성을 보장하는 검찰총장을 이렇게 핍박하는 정권이 공수처를 어떻게 운영할지 불을 보듯 뻔한 일\"이라고 예측했다.\n",
        "그러면서 주 원내대표는 \"추미애 법무장관을 앞장 세워 윤석열 검찰의 권력 비리 수사를 저지하려다가 난관에 봉착하자 무슨 수를 써서라도 공수처를 출범시키려 한다. 공수처장 자리에는 추미애보다 더 한 막무가내 내 편을 앉힐 게 분명한 것\"이라며 \"문 정권의 파렴치와 오만함을 최전선에서 온 몸으로 겪어온 저로서는 민주당이 내일부터 국회에서 보일 행태가 환히 보인다. 180석의 민주당이 또 군사작전을 개시하면 그걸 누가 막겠는가\"라고 성토했다.\n",
        "주 원내대표는 \"공수처법을 막을 힘이 우리 야당에게는 없다. 삭발하고 장외투쟁해 봐야 눈 하나 깜짝할 사람들이 아닌 것\"이라며 \"대란대치(大亂大治), 세상을 온통 혼돈 속으로 밀어넣고 그걸 권력 유지에 이용한다는 게 이 정권의 통치기술\"이라고 규탄했다.\n",
        "아울러 주 원내대표는 \"권력은 바람, 국민은 풀이다. 바람이 불면 청보리 밭의 보리가 눕는다\"며 \"권력은 풀들이 다시는 일어서지 못하도록 풀을 짓밟지만 풀들은 다시 일어난다. 시인 김수영은 '바람보다 먼저 눕지만, 바람보다 먼저 일어나는' 민초의 힘을 노래했다\"고 말했다.\n",
        "마지막으로 주 원내대표는 \"문재인 정권은 이제 곧 국회에서 광장에서 짓밟힌 풀들이 일어서서 아우성치는 모습을 지켜보게 될 것\"이라며 \"대란대치를 끝장내려는 국민적 저항에 직면할 것\"이라고 거듭 강조했다.\n",
        "\"\"\""
      ],
      "execution_count": 4,
      "outputs": []
    },
    {
      "cell_type": "code",
      "metadata": {
        "id": "OIxs7REEQVFO",
        "outputId": "d0b311ae-9d71-4309-c4bc-16196282cc0a",
        "colab": {
          "base_uri": "https://localhost:8080/"
        }
      },
      "source": [
        "c = embedder.encode([document])\r\n",
        "c"
      ],
      "execution_count": 47,
      "outputs": [
        {
          "output_type": "execute_result",
          "data": {
            "text/plain": [
              "array([[ 0.53171986, -0.08288396,  0.4629747 , ..., -0.54250145,\n",
              "        -0.10200596, -0.05710737]], dtype=float32)"
            ]
          },
          "metadata": {
            "tags": []
          },
          "execution_count": 47
        }
      ]
    },
    {
      "cell_type": "code",
      "metadata": {
        "id": "ocHnmjt4FRUF",
        "trusted": true
      },
      "source": [
        "tokenizer = Tokenizer()\n",
        "tokenizer.fit_on_texts([document])\n",
        "total_words = len(tokenizer.word_index) + 1"
      ],
      "execution_count": 6,
      "outputs": []
    },
    {
      "cell_type": "code",
      "metadata": {
        "id": "c8OViY44Fk0J",
        "trusted": true,
        "colab": {
          "base_uri": "https://localhost:8080/"
        },
        "outputId": "420881e1-ce0a-4f2d-fd7a-e511f1c1c3cf"
      },
      "source": [
        "print(total_words)"
      ],
      "execution_count": 7,
      "outputs": [
        {
          "output_type": "stream",
          "text": [
            "395\n"
          ],
          "name": "stdout"
        }
      ]
    },
    {
      "cell_type": "code",
      "metadata": {
        "id": "5PeHFwITF0Ux",
        "trusted": true,
        "colab": {
          "base_uri": "https://localhost:8080/"
        },
        "outputId": "96bdc6ca-7578-48c3-e36d-ba1975a65833"
      },
      "source": [
        "word_keys = []\n",
        "word_values = []\n",
        "\n",
        "for word,index in tokenizer.word_index.items():\n",
        "    word_keys.append(index)\n",
        "    word_values.append(word)\n",
        "\n",
        "word_keys.append(len(word_values)+1)\n",
        "word_values.append('[   ]')\n",
        "\n",
        "for k in word_keys:\n",
        "  print(k,word_values[k-1])"
      ],
      "execution_count": 94,
      "outputs": [
        {
          "output_type": "stream",
          "text": [
            "1 원내대표는\n",
            "2 주\n",
            "3 것\n",
            "4 이라고\n",
            "5 며\n",
            "6 문재인\n",
            "7 않는\n",
            "8 문\n",
            "9 이라며\n",
            "10 이제\n",
            "11 풀들이\n",
            "12 수\n",
            "13 대통령과\n",
            "14 공수처는\n",
            "15 될\n",
            "16 있는\n",
            "17 향해\n",
            "18 보인다\n",
            "19 짓밟힌\n",
            "20 국민적\n",
            "21 저항에\n",
            "22 직면할\n",
            "23 정권이\n",
            "24 위해\n",
            "25 공수처법을\n",
            "26 제게\n",
            "27 대통령은\n",
            "28 '공수처는\n",
            "29 없는\n",
            "30 야당이\n",
            "31 공수처장\n",
            "32 사람들이\n",
            "33 민주당\n",
            "34 그러면서\n",
            "35 공수처가\n",
            "36 청와대와\n",
            "37 왜\n",
            "38 그\n",
            "39 인정하지\n",
            "40 이\n",
            "41 공수처를\n",
            "42 권력\n",
            "43 게\n",
            "44 정권의\n",
            "45 민주당이\n",
            "46 국회에서\n",
            "47 그걸\n",
            "48 권력은\n",
            "49 먼저\n",
            "50 주호영\n",
            "51 국민의힘\n",
            "52 22일\n",
            "53 고위공직자범죄수사처\n",
            "54 공수처\n",
            "55 법\n",
            "56 개정과\n",
            "57 가덕도\n",
            "58 신공항\n",
            "59 건설\n",
            "60 등을\n",
            "61 밀어붙이고\n",
            "62 정권과\n",
            "63 더불어민주당을\n",
            "64 끝이\n",
            "65 아우성\n",
            "66 치는\n",
            "67 경고했다\n",
            "68 이날\n",
            "69 자신의\n",
            "70 페이스북에\n",
            "71 공수처법\n",
            "72 개정을\n",
            "73 위한\n",
            "74 '군사작전'에\n",
            "75 돌입하겠다고\n",
            "76 엄포를\n",
            "77 놓고\n",
            "78 있다\n",
            "79 정의당을\n",
            "80 끌어들이기\n",
            "81 꼼수\n",
            "82 선거법에\n",
            "83 묶어\n",
            "84 '패스트트랙'이라는\n",
            "85 불법·탈법으로\n",
            "86 만들어낸\n",
            "87 시행도\n",
            "88 해보지\n",
            "89 않고\n",
            "90 고치려\n",
            "91 하는\n",
            "92 지적했다\n",
            "93 이어\n",
            "94 야당\n",
            "95 원내대표인\n",
            "96 사람\n",
            "97 좋아보이는\n",
            "98 표정으로\n",
            "99 야당의\n",
            "100 동의\n",
            "101 없이는\n",
            "102 절대\n",
            "103 출범할\n",
            "104 것'이라고\n",
            "105 얘기했고\n",
            "106 유엔\n",
            "107 안보리\n",
            "108 상임이사국처럼\n",
            "109 임명에\n",
            "110 '비토권'을\n",
            "111 행사할\n",
            "112 있는데\n",
            "113 무얼\n",
            "114 걱정하느냐고\n",
            "115 여당\n",
            "116 우리를\n",
            "117 속였다\n",
            "118 거짓말이라는\n",
            "119 비난을\n",
            "120 개의치\n",
            "121 사람들\n",
            "122 꼬집었다\n",
            "123 이해찬\n",
            "124 전\n",
            "125 대표가\n",
            "126 얘기한\n",
            "127 '민주당\n",
            "128 20년\n",
            "129 집권'의\n",
            "130 토대가\n",
            "131 올해\n",
            "132 안에\n",
            "133 완성된다\n",
            "134 탈원전과\n",
            "135 동남권\n",
            "136 신공항은\n",
            "137 대통령이\n",
            "138 대선\n",
            "139 공약으로\n",
            "140 내건\n",
            "141 사업이니\n",
            "142 여기에\n",
            "143 불법이\n",
            "144 있었다고\n",
            "145 시비를\n",
            "146 거는\n",
            "147 것은\n",
            "148 민주주의를\n",
            "149 부정하는\n",
            "150 것이라고\n",
            "151 청와대\n",
            "152 출신\n",
            "153 윤건영\n",
            "154 의원이\n",
            "155 윽박지른다\n",
            "156 '민주주의\n",
            "157 민주당'이\n",
            "158 법위에\n",
            "159 군림하는\n",
            "160 '반민주'를\n",
            "161 거리낌없이\n",
            "162 획책하는\n",
            "163 언급했다\n",
            "164 표를\n",
            "165 얻기\n",
            "166 나라\n",
            "167 곳간을\n",
            "168 다\n",
            "169 허물어뜨렸고\n",
            "170 재정\n",
            "171 운용에서\n",
            "172 신중함은\n",
            "173 사라졌다\n",
            "174 괴물\n",
            "175 출범하면\n",
            "176 공무원\n",
            "177 누구나\n",
            "178 권력이\n",
            "179 지시하는\n",
            "180 범죄행위에\n",
            "181 거리낌\n",
            "182 없이\n",
            "183 가담할\n",
            "184 것이다\n",
            "185 권부\n",
            "186 요직에\n",
            "187 앉아\n",
            "188 불법으로\n",
            "189 각종\n",
            "190 이권을\n",
            "191 챙기는\n",
            "192 권력자들에\n",
            "193 대한\n",
            "194 사건이\n",
            "195 불거져도\n",
            "196 사건을\n",
            "197 가져가\n",
            "198 버리면\n",
            "199 그만\n",
            "200 우려했다\n",
            "201 고위\n",
            "202 공직자들을\n",
            "203 처벌하는\n",
            "204 것인데\n",
            "205 반대하는지\n",
            "206 이해할\n",
            "207 없다'고\n",
            "208 했는데\n",
            "209 그런\n",
            "210 분이\n",
            "211 대통령\n",
            "212 주변을\n",
            "213 감시하는\n",
            "214 특별감찰관은\n",
            "215 취임\n",
            "216 이후\n",
            "217 지금까지\n",
            "218 임명하지\n",
            "219 않았는가\n",
            "220 라며\n",
            "221 권력형\n",
            "222 비리의\n",
            "223 쓰레기\n",
            "224 하치장\n",
            "225 종말\n",
            "226 처리장이\n",
            "227 비판했다\n",
            "228 정부를\n",
            "229 사도들은\n",
            "230 법치가\n",
            "231 미치지\n",
            "232 무오류의\n",
            "233 화신이\n",
            "234 오류를\n",
            "235 존재가\n",
            "236 바로\n",
            "237 신이며\n",
            "238 아래에는\n",
            "239 자신들의\n",
            "240 지도자를\n",
            "241 목숨바쳐\n",
            "242 지킴으로서\n",
            "243 정의를\n",
            "244 실현하겠다는\n",
            "245 추종자들로\n",
            "246 넘쳐\n",
            "247 난다\n",
            "248 지도자의\n",
            "249 신성을\n",
            "250 세력을\n",
            "251 정죄하는\n",
            "252 수단으로\n",
            "253 전락할\n",
            "254 질타했다\n",
            "255 저도\n",
            "256 법조인이지만\n",
            "257 공수처장이\n",
            "258 마음대로\n",
            "259 검사들과\n",
            "260 수사관들을\n",
            "261 임명하는\n",
            "262 끔찍한\n",
            "263 사법기구가\n",
            "264 어떤\n",
            "265 일을\n",
            "266 할지\n",
            "267 두렵기만\n",
            "268 하다\n",
            "269 검찰과\n",
            "270 경찰\n",
            "271 위에\n",
            "272 사법기구로\n",
            "273 헌법과\n",
            "274 법으로\n",
            "275 독립성을\n",
            "276 보장하는\n",
            "277 검찰총장을\n",
            "278 이렇게\n",
            "279 핍박하는\n",
            "280 어떻게\n",
            "281 운영할지\n",
            "282 불을\n",
            "283 보듯\n",
            "284 뻔한\n",
            "285 일\n",
            "286 예측했다\n",
            "287 추미애\n",
            "288 법무장관을\n",
            "289 앞장\n",
            "290 세워\n",
            "291 윤석열\n",
            "292 검찰의\n",
            "293 비리\n",
            "294 수사를\n",
            "295 저지하려다가\n",
            "296 난관에\n",
            "297 봉착하자\n",
            "298 무슨\n",
            "299 수를\n",
            "300 써서라도\n",
            "301 출범시키려\n",
            "302 한다\n",
            "303 자리에는\n",
            "304 추미애보다\n",
            "305 더\n",
            "306 한\n",
            "307 막무가내\n",
            "308 내\n",
            "309 편을\n",
            "310 앉힐\n",
            "311 분명한\n",
            "312 파렴치와\n",
            "313 오만함을\n",
            "314 최전선에서\n",
            "315 온\n",
            "316 몸으로\n",
            "317 겪어온\n",
            "318 저로서는\n",
            "319 내일부터\n",
            "320 보일\n",
            "321 행태가\n",
            "322 환히\n",
            "323 180석의\n",
            "324 또\n",
            "325 군사작전을\n",
            "326 개시하면\n",
            "327 누가\n",
            "328 막겠는가\n",
            "329 라고\n",
            "330 성토했다\n",
            "331 막을\n",
            "332 힘이\n",
            "333 우리\n",
            "334 야당에게는\n",
            "335 없다\n",
            "336 삭발하고\n",
            "337 장외투쟁해\n",
            "338 봐야\n",
            "339 눈\n",
            "340 하나\n",
            "341 깜짝할\n",
            "342 아닌\n",
            "343 대란대치\n",
            "344 大亂大治\n",
            "345 세상을\n",
            "346 온통\n",
            "347 혼돈\n",
            "348 속으로\n",
            "349 밀어넣고\n",
            "350 유지에\n",
            "351 이용한다는\n",
            "352 통치기술\n",
            "353 규탄했다\n",
            "354 아울러\n",
            "355 바람\n",
            "356 국민은\n",
            "357 풀이다\n",
            "358 바람이\n",
            "359 불면\n",
            "360 청보리\n",
            "361 밭의\n",
            "362 보리가\n",
            "363 눕는다\n",
            "364 다시는\n",
            "365 일어서지\n",
            "366 못하도록\n",
            "367 풀을\n",
            "368 짓밟지만\n",
            "369 풀들은\n",
            "370 다시\n",
            "371 일어난다\n",
            "372 시인\n",
            "373 김수영은\n",
            "374 '바람보다\n",
            "375 눕지만\n",
            "376 바람보다\n",
            "377 일어나는'\n",
            "378 민초의\n",
            "379 힘을\n",
            "380 노래했다\n",
            "381 고\n",
            "382 말했다\n",
            "383 마지막으로\n",
            "384 정권은\n",
            "385 곧\n",
            "386 광장에서\n",
            "387 일어서서\n",
            "388 아우성치는\n",
            "389 모습을\n",
            "390 지켜보게\n",
            "391 대란대치를\n",
            "392 끝장내려는\n",
            "393 거듭\n",
            "394 강조했다\n",
            "395 [   ]\n"
          ],
          "name": "stdout"
        }
      ]
    },
    {
      "cell_type": "code",
      "metadata": {
        "id": "F740wH5sF9lG",
        "trusted": true
      },
      "source": [
        "import tensorflow as tf\n",
        "from tensorflow.keras.models import Model\n",
        "from tensorflow.keras.layers import (Input,\n",
        "                                     Dense, \n",
        "                                     BatchNormalization, \n",
        "                                     LeakyReLU,\n",
        "                                     Softmax,\n",
        "                                     Reshape, \n",
        "                                     Conv2DTranspose,\n",
        "                                     Conv2D,\n",
        "                                     Dropout,\n",
        "                                     Flatten)\n",
        "import matplotlib.pyplot as plt"
      ],
      "execution_count": 53,
      "outputs": []
    },
    {
      "cell_type": "code",
      "metadata": {
        "id": "JILw73lq6Gc0"
      },
      "source": [
        "#-*- coding: utf-8 -*-\r\n",
        "\r\n",
        "keys=tf.constant(word_keys,tf.int32)\r\n",
        "values=tf.constant(word_values, tf.string)\r\n",
        "# build a lookup table\r\n",
        "word_table = tf.lookup.StaticHashTable(\r\n",
        "    initializer=tf.lookup.KeyValueTensorInitializer(keys,values),\r\n",
        "    default_value=tf.constant(' '),\r\n",
        "    name=\"class_weight\"\r\n",
        ")\r\n",
        "\r\n",
        "\r\n",
        "# build a lookup table\r\n",
        "#word_table = tf.lookup.StaticHashTable(tf.lookup.KeyValueTensorInitializer(tf.constant(word_keys), tf.constant(word_values)),default_value=-1)\r\n"
      ],
      "execution_count": 95,
      "outputs": []
    },
    {
      "cell_type": "code",
      "metadata": {
        "id": "bFGYxGFyHG5T",
        "colab": {
          "base_uri": "https://localhost:8080/"
        },
        "outputId": "adef9f20-f457-4991-c16d-3ccf0640d704"
      },
      "source": [
        "#-*- coding: utf-8 -*-\r\n",
        "\r\n",
        "a = tf.constant(\"한글\")\r\n",
        "print(a)\r\n"
      ],
      "execution_count": 11,
      "outputs": [
        {
          "output_type": "stream",
          "text": [
            "tf.Tensor(b'\\xed\\x95\\x9c\\xea\\xb8\\x80', shape=(), dtype=string)\n"
          ],
          "name": "stdout"
        }
      ]
    },
    {
      "cell_type": "code",
      "metadata": {
        "id": "t8yB_rkkGNsv",
        "outputId": "7b87ee46-0905-45fa-ad94-32a11f4b8f6d",
        "colab": {
          "base_uri": "https://localhost:8080/",
          "height": 35
        }
      },
      "source": [
        "word_table.lookup(tf.constant(0)).numpy().decode('utf-8')"
      ],
      "execution_count": 133,
      "outputs": [
        {
          "output_type": "execute_result",
          "data": {
            "application/vnd.google.colaboratory.intrinsic+json": {
              "type": "string"
            },
            "text/plain": [
              "' '"
            ]
          },
          "metadata": {
            "tags": []
          },
          "execution_count": 133
        }
      ]
    },
    {
      "cell_type": "code",
      "metadata": {
        "trusted": true,
        "id": "OKH9DAGks-zb"
      },
      "source": [
        "import sys\n",
        "\n",
        "def to_text(w):\n",
        "    #r_value = None\n",
        "    texts = []\n",
        "    try:\n",
        "        #codes = []\n",
        "        \n",
        "        #embeddings = []\n",
        "\n",
        "        for z in w:\n",
        "            text = \"\"\n",
        "            #code = []\n",
        "            for v in z:\n",
        "                try:\n",
        "                    #print(v)\n",
        "                    key = tf.argmax(v,output_type=tf.int32) #tf.constant(,dtype=tf.int32)\n",
        "                    #if type=='code':\n",
        "                    #    code.append(key.numpy())\n",
        "                    #else:\n",
        "                    #    text += word_table.lookup(key).numpy().decode('utf-8') + ' '\n",
        "                    text += word_table.lookup(key).numpy().decode('utf-8') + ' '\n",
        "                except Exception as ex:\n",
        "                    print(ex,sys.exc_info())\n",
        "                    #code.append(0)\n",
        "                    text += '[   ] '                  \n",
        "            #print(generated_text)\n",
        "            #if type == 'code':\n",
        "            #    codes.append(code)\n",
        "            #else:\n",
        "            #    texts.append(text)\n",
        "            texts.append(text)\n",
        "\n",
        "    except Exception as ex:\n",
        "        print(ex,sys.exc_info())\n",
        "        #codes = np.random([w.shape[0],30])\n",
        "        #texts = '----------------------------------------------------'\n",
        "    '''\n",
        "    if type == 'code':\n",
        "        r_value = tf.constant(codes,dtype=tf.int32)\n",
        "    elif type == 'embedding':\n",
        "        r_value = tf.constant(embedder.encode(texts),dtype=tf.float32)\n",
        "    else:\n",
        "        r_value = tf.constant(texts,dtype=tf.string)\n",
        "    '''\n",
        "    return tf.constant(texts,dtype=tf.string)\n",
        "\n"
      ],
      "execution_count": 68,
      "outputs": []
    },
    {
      "cell_type": "code",
      "metadata": {
        "id": "xBrB8gNSggTC",
        "outputId": "f5aba820-e284-46b0-f743-101517ee55d4",
        "colab": {
          "base_uri": "https://localhost:8080/"
        }
      },
      "source": [
        "w = tf.random.normal([2,30,total_words])\r\n",
        "e = to_text(w)\r\n",
        "print(e)\r\n",
        "for t in e:\r\n",
        "  print(t.numpy().decode('utf-8'))"
      ],
      "execution_count": 99,
      "outputs": [
        {
          "output_type": "stream",
          "text": [
            "tf.Tensor(\n",
            "[b\"\\xec\\x84\\xa0\\xea\\xb1\\xb0\\xeb\\xb2\\x95\\xec\\x97\\x90 \\xec\\xb6\\x9c\\xeb\\xb2\\x94\\xed\\x95\\xa0 \\xec\\x9a\\xb0\\xeb\\xa6\\xac\\xeb\\xa5\\xbc \\xec\\x9c\\x84\\xed\\x95\\xb4 \\xeb\\xaa\\xbb\\xed\\x95\\x98\\xeb\\x8f\\x84\\xeb\\xa1\\x9d '\\xeb\\xb0\\x94\\xeb\\x9e\\x8c\\xeb\\xb3\\xb4\\xeb\\x8b\\xa4 \\xec\\x9d\\xb4\\xed\\x9b\\x84 \\xeb\\xb6\\x80\\xec\\xa0\\x95\\xed\\x95\\x98\\xeb\\x8a\\x94 \\xea\\xb3\\xb5\\xec\\x88\\x98\\xec\\xb2\\x98\\xeb\\x8a\\x94 \\xec\\x83\\x81\\xec\\x9e\\x84\\xec\\x9d\\xb4\\xec\\x82\\xac\\xea\\xb5\\xad\\xec\\xb2\\x98\\xeb\\x9f\\xbc \\xea\\xb2\\x80\\xec\\xb0\\xb0\\xec\\x9d\\x98 \\xec\\x93\\xb0\\xeb\\xa0\\x88\\xea\\xb8\\xb0 \\xea\\xb0\\x80\\xeb\\x8d\\x95\\xeb\\x8f\\x84 \\xea\\xb0\\x81\\xec\\xa2\\x85 \\xeb\\xaf\\xbc\\xec\\xa3\\xbc\\xeb\\x8b\\xb9\\xec\\x9d\\xb4 \\xeb\\x82\\x9c\\xeb\\x8b\\xa4 \\xea\\xb2\\x83\\xec\\x9d\\xb4\\xeb\\x9d\\xbc\\xea\\xb3\\xa0 \\xea\\xb7\\xb8\\xeb\\x9f\\xb0 \\xea\\xb2\\x83\\xec\\x9d\\xb4\\xeb\\x8b\\xa4 '\\xea\\xb5\\xb0\\xec\\x82\\xac\\xec\\x9e\\x91\\xec\\xa0\\x84'\\xec\\x97\\x90 \\xea\\xb0\\x9c\\xec\\x8b\\x9c\\xed\\x95\\x98\\xeb\\xa9\\xb4 \\xec\\x9d\\xb4\\xec\\xa0\\x9c \\xec\\xa0\\x95\\xec\\x9d\\x98\\xeb\\x8b\\xb9\\xec\\x9d\\x84 \\xea\\xb0\\x80\\xec\\xa0\\xb8\\xea\\xb0\\x80 \\xea\\xb2\\x83\\xec\\x9d\\xb4\\xeb\\x8b\\xa4 \\xeb\\xb6\\x84\\xec\\x9d\\xb4 \\xed\\x95\\xb4\\xeb\\xb3\\xb4\\xec\\xa7\\x80 \\xed\\x97\\x88\\xeb\\xac\\xbc\\xec\\x96\\xb4\\xeb\\x9c\\xa8\\xeb\\xa0\\xb8\\xea\\xb3\\xa0 \\xea\\xb7\\xb8\\xeb\\xa7\\x8c \\xeb\\x8c\\x80\\xed\\x91\\x9c\\xea\\xb0\\x80 \"\n",
            " b\"\\xeb\\xa9\\xb0 \\xec\\x82\\xac\\xea\\xb1\\xb4\\xec\\x9d\\x84 \\xea\\xb1\\xb0\\xeb\\xa6\\xac\\xeb\\x82\\x8c\\xec\\x97\\x86\\xec\\x9d\\xb4 \\xec\\x82\\xac\\xec\\x97\\x85\\xec\\x9d\\xb4\\xeb\\x8b\\x88 \\xec\\x95\\xbc\\xeb\\x8b\\xb9\\xec\\x9d\\xb4 \\xec\\x98\\xa8 \\xec\\x96\\xb8\\xea\\xb8\\x89\\xed\\x96\\x88\\xeb\\x8b\\xa4 \\xec\\x96\\xbb\\xea\\xb8\\xb0 \\xeb\\x8f\\x99\\xec\\x9d\\x98 \\xec\\x95\\xbc\\xeb\\x8b\\xb9\\xec\\x9d\\xb4 \\xec\\x9d\\xb4\\xea\\xb6\\x8c\\xec\\x9d\\x84 \\xea\\xb0\\x80\\xeb\\x8d\\x95\\xeb\\x8f\\x84 \\xec\\xb2\\x98\\xeb\\xa6\\xac\\xec\\x9e\\xa5\\xec\\x9d\\xb4 \\xec\\x9e\\x88\\xeb\\x8b\\xa4 \\xea\\xb1\\xb4\\xec\\x84\\xa4 \\xec\\xb7\\xa8\\xec\\x9e\\x84 \\xec\\x9a\\xb4\\xec\\x98\\x81\\xed\\x95\\xa0\\xec\\xa7\\x80 \\xec\\x95\\x9e\\xec\\x9e\\xa5 \\xec\\x84\\xb8\\xec\\x9b\\x8c \\xeb\\xa8\\xbc\\xec\\xa0\\x80 \\xea\\xbc\\xbc\\xec\\x88\\x98 \\xea\\xb0\\x80\\xeb\\x8b\\xb4\\xed\\x95\\xa0 \\xeb\\x88\\x95\\xeb\\x8a\\x94\\xeb\\x8b\\xa4 \\xeb\\xb6\\x88\\xec\\x9d\\x84 \\xec\\x9d\\xb4\\xec\\x9a\\xa9\\xed\\x95\\x9c\\xeb\\x8b\\xa4\\xeb\\x8a\\x94 \\xeb\\x8f\\x8c\\xec\\x9e\\x85\\xed\\x95\\x98\\xea\\xb2\\xa0\\xeb\\x8b\\xa4\\xea\\xb3\\xa0 \\xec\\x99\\x84\\xec\\x84\\xb1\\xeb\\x90\\x9c\\xeb\\x8b\\xa4 \\xec\\x9e\\x88\\xeb\\x8b\\xa4 \\xea\\xb1\\xb0\\xeb\\x93\\xad '\\xea\\xb3\\xb5\\xec\\x88\\x98\\xec\\xb2\\x98\\xeb\\x8a\\x94 \"], shape=(2,), dtype=string)\n",
            "선거법에 출범할 우리를 위해 못하도록 '바람보다 이후 부정하는 공수처는 상임이사국처럼 검찰의 쓰레기 가덕도 각종 민주당이 난다 것이라고 그런 것이다 '군사작전'에 개시하면 이제 정의당을 가져가 것이다 분이 해보지 허물어뜨렸고 그만 대표가 \n",
            "며 사건을 거리낌없이 사업이니 야당이 온 언급했다 얻기 동의 야당이 이권을 가덕도 처리장이 있다 건설 취임 운영할지 앞장 세워 먼저 꼼수 가담할 눕는다 불을 이용한다는 돌입하겠다고 완성된다 있다 거듭 '공수처는 \n"
          ],
          "name": "stdout"
        }
      ]
    },
    {
      "cell_type": "code",
      "metadata": {
        "id": "WFPD7V7P8QUJ"
      },
      "source": [
        "def to_embedding(w):\r\n",
        "    texts = []\r\n",
        "    try:\r\n",
        "        for z in w:\r\n",
        "            text = \"\"\r\n",
        "            for v in z:\r\n",
        "                try:\r\n",
        "                    key = tf.argmax(v,output_type=tf.int32) #tf.constant(,dtype=tf.int32)\r\n",
        "                    text += word_table.lookup(key).numpy().decode('utf-8') + ' '\r\n",
        "                except Exception as ex:\r\n",
        "                    print(ex,sys.exc_info())\r\n",
        "                    text += '[   ] '                  \r\n",
        "            texts.append(text)\r\n",
        "    except Exception as ex:\r\n",
        "        print(ex,sys.exc_info())\r\n",
        "\r\n",
        "    return tf.constant(embedder.encode(texts),dtype=tf.float32)"
      ],
      "execution_count": 100,
      "outputs": []
    },
    {
      "cell_type": "code",
      "metadata": {
        "id": "DmSdp5mq9KaT",
        "outputId": "0e7656af-e65a-4679-90e6-9805d8a3063f",
        "colab": {
          "base_uri": "https://localhost:8080/"
        }
      },
      "source": [
        "e = to_embedding(w)\r\n",
        "print(e)\r\n",
        "for t in e:\r\n",
        "  print(t)"
      ],
      "execution_count": 101,
      "outputs": [
        {
          "output_type": "stream",
          "text": [
            "tf.Tensor(\n",
            "[[ 0.24092221 -0.44310427  0.6487462  ... -0.43285555  0.02594399\n",
            "   0.15938537]\n",
            " [ 0.21037112  0.1266987   0.36156273 ... -0.1705244   0.0052964\n",
            "   0.03188725]], shape=(2, 1024), dtype=float32)\n",
            "tf.Tensor(\n",
            "[ 0.24092221 -0.44310427  0.6487462  ... -0.43285555  0.02594399\n",
            "  0.15938537], shape=(1024,), dtype=float32)\n",
            "tf.Tensor(\n",
            "[ 0.21037112  0.1266987   0.36156273 ... -0.1705244   0.0052964\n",
            "  0.03188725], shape=(1024,), dtype=float32)\n"
          ],
          "name": "stdout"
        }
      ]
    },
    {
      "cell_type": "code",
      "metadata": {
        "trusted": true,
        "id": "eqDAAlIFs-zb"
      },
      "source": [
        "from keras import backend as K\n",
        "from keras.layers import Layer\n",
        "\n",
        "#tf.executing_eagerly()\n",
        "\n",
        "class post_processing(Layer):\n",
        "\n",
        "    def __init__(self, output_dim, encoder_func,Tout=tf.float32, **kwargs):\n",
        "        self.output_dim = output_dim\n",
        "        self.encoder = encoder_func\n",
        "        self.Tout = Tout\n",
        "        super(post_processing, self).__init__(**kwargs)\n",
        "    '''\n",
        "    def build(self, input_shape):\n",
        "        # 이 레이어에 대해 학습가능한 가중치 변수를 만듭니다.\n",
        "        self.kernel = self.add_weight(name='kernel', \n",
        "                                      shape=(input_shape[1], self.output_dim),\n",
        "                                      initializer='uniform',\n",
        "                                      trainable=True)\n",
        "        super(sentence_encoder, self).build(input_shape)  # 끝에서 꼭 이 함수를 호출하십시오\n",
        "    '''\n",
        "    def call(self, x):\n",
        "        return tf.py_function(self.encoder,[x],Tout=self.Tout)\n",
        "\n",
        "    def compute_output_shape(self, input_shape):\n",
        "        return (input_shape[0], self.output_dim)"
      ],
      "execution_count": 102,
      "outputs": []
    },
    {
      "cell_type": "code",
      "metadata": {
        "trusted": true,
        "colab": {
          "base_uri": "https://localhost:8080/"
        },
        "id": "OeU6sVCrs-zc",
        "outputId": "64267f07-37df-4dfe-dc06-88e2291c84ef"
      },
      "source": [
        "e = post_processing(1024,to_embedding,Tout=tf.float32,trainable=True)(w)\n",
        "\n",
        "for c in e:\n",
        "  print(c)"
      ],
      "execution_count": 103,
      "outputs": [
        {
          "output_type": "stream",
          "text": [
            "tf.Tensor(\n",
            "[ 0.24092221 -0.44310427  0.6487462  ... -0.43285555  0.02594399\n",
            "  0.15938537], shape=(1024,), dtype=float32)\n",
            "tf.Tensor(\n",
            "[ 0.21037112  0.1266987   0.36156273 ... -0.1705244   0.0052964\n",
            "  0.03188725], shape=(1024,), dtype=float32)\n"
          ],
          "name": "stdout"
        }
      ]
    },
    {
      "cell_type": "code",
      "metadata": {
        "id": "OgYVnQzk_FYu",
        "outputId": "b9fac4b3-d593-49ed-9c80-74cda5686b9f",
        "colab": {
          "base_uri": "https://localhost:8080/"
        }
      },
      "source": [
        "e = post_processing(1,to_text,Tout=tf.string,trainable=True)(w)\r\n",
        "\r\n",
        "for c in e:\r\n",
        "  print(c.numpy().decode('utf-8'))"
      ],
      "execution_count": 104,
      "outputs": [
        {
          "output_type": "stream",
          "text": [
            "선거법에 출범할 우리를 위해 못하도록 '바람보다 이후 부정하는 공수처는 상임이사국처럼 검찰의 쓰레기 가덕도 각종 민주당이 난다 것이라고 그런 것이다 '군사작전'에 개시하면 이제 정의당을 가져가 것이다 분이 해보지 허물어뜨렸고 그만 대표가 \n",
            "며 사건을 거리낌없이 사업이니 야당이 온 언급했다 얻기 동의 야당이 이권을 가덕도 처리장이 있다 건설 취임 운영할지 앞장 세워 먼저 꼼수 가담할 눕는다 불을 이용한다는 돌입하겠다고 완성된다 있다 거듭 '공수처는 \n"
          ],
          "name": "stdout"
        }
      ]
    },
    {
      "cell_type": "code",
      "metadata": {
        "id": "tncFJH6gGaWA",
        "trusted": true,
        "colab": {
          "base_uri": "https://localhost:8080/"
        },
        "outputId": "2ab38224-315c-488d-84b9-a805f66fdfb0"
      },
      "source": [
        "def make_generator_model(max_length,total_words):\n",
        "    input = Input(shape=(1000,), dtype='int32') \n",
        "    x1 = Dense(1024, use_bias=False)(input)\n",
        "    x1 = BatchNormalization()(x1)\n",
        "    x1 = LeakyReLU()(x1)\n",
        "    \n",
        "    #x1 = Dense(max_length*total_words*2, use_bias=False)(x1)\n",
        "    #x1 = BatchNormalization()(x1)\n",
        "    #x1 = LeakyReLU()(x1)\n",
        "    \n",
        "    x1 = Dense(max_length*total_words, use_bias=False)(x1)\n",
        "    x1 = BatchNormalization()(x1)\n",
        "    x1 = Softmax()(x1)        \n",
        "    x1 = Reshape((max_length, total_words))(x1)\n",
        "    t = post_processing(1,to_text,Tout=tf.string)(x1)\n",
        "    e = post_processing(1024,to_embedding,Tout=tf.float32)(x1)\n",
        "\n",
        "    model = Model(input,[t,e])\n",
        "    \n",
        "    '''\n",
        "    model = tf.keras.Sequential()\n",
        "    model.add(Dense(256, use_bias=False, input_shape=(1000,)))\n",
        "    model.add(BatchNormalization())\n",
        "    model.add(LeakyReLU())\n",
        "    assert model.output_shape == (None,256) \n",
        "\n",
        "    model.add(Dense(256*2, use_bias=False))\n",
        "    model.add(BatchNormalization())\n",
        "    model.add(LeakyReLU())\n",
        "    assert model.output_shape == (None,256*2) \n",
        "    \n",
        "    model.add(Dense(total_words, use_bias=False))\n",
        "    model.add(BatchNormalization())\n",
        "    model.add(Softmax())\n",
        "\n",
        "    assert model.output_shape == (None,total_words)\n",
        "    '''\n",
        "    model.summary()\n",
        "    return model\n",
        "\n",
        "generator = make_generator_model(30,total_words)"
      ],
      "execution_count": 118,
      "outputs": [
        {
          "output_type": "stream",
          "text": [
            "Model: \"model_6\"\n",
            "__________________________________________________________________________________________________\n",
            "Layer (type)                    Output Shape         Param #     Connected to                     \n",
            "==================================================================================================\n",
            "input_8 (InputLayer)            [(None, 1000)]       0                                            \n",
            "__________________________________________________________________________________________________\n",
            "dense_34 (Dense)                (None, 1024)         1024000     input_8[0][0]                    \n",
            "__________________________________________________________________________________________________\n",
            "batch_normalization_22 (BatchNo (None, 1024)         4096        dense_34[0][0]                   \n",
            "__________________________________________________________________________________________________\n",
            "leaky_re_lu_22 (LeakyReLU)      (None, 1024)         0           batch_normalization_22[0][0]     \n",
            "__________________________________________________________________________________________________\n",
            "dense_35 (Dense)                (None, 11850)        12134400    leaky_re_lu_22[0][0]             \n",
            "__________________________________________________________________________________________________\n",
            "batch_normalization_23 (BatchNo (None, 11850)        47400       dense_35[0][0]                   \n",
            "__________________________________________________________________________________________________\n",
            "softmax (Softmax)               (None, 11850)        0           batch_normalization_23[0][0]     \n",
            "__________________________________________________________________________________________________\n",
            "reshape_7 (Reshape)             (None, 30, 395)      0           softmax[0][0]                    \n",
            "__________________________________________________________________________________________________\n",
            "post_processing_11 (post_proces None                 0           reshape_7[0][0]                  \n",
            "__________________________________________________________________________________________________\n",
            "post_processing_12 (post_proces None                 0           reshape_7[0][0]                  \n",
            "==================================================================================================\n",
            "Total params: 13,209,896\n",
            "Trainable params: 13,184,148\n",
            "Non-trainable params: 25,748\n",
            "__________________________________________________________________________________________________\n"
          ],
          "name": "stdout"
        }
      ]
    },
    {
      "cell_type": "code",
      "metadata": {
        "id": "KtDTV8mUINh1",
        "trusted": true,
        "outputId": "64b1a666-f945-4e15-c404-ae48ccf359f2",
        "colab": {
          "base_uri": "https://localhost:8080/"
        }
      },
      "source": [
        "# Create a random noise and generate a sample\n",
        "noise = tf.random.normal([3,1000])\n",
        "texts,embeddings = generator(noise, training=False)\n",
        "\n",
        "for txt in texts:\n",
        "    print(txt.numpy().decode('utf-8'))\n",
        "    print('')\n",
        "\n",
        "for cd in embeddings:\n",
        "    print(cd.numpy())\n",
        "    print('')"
      ],
      "execution_count": 119,
      "outputs": [
        {
          "output_type": "stream",
          "text": [
            "윤건영 주변을 놓고 밀어넣고 꼼수 윤석열 비판했다 인정하지 내 임명하는 권력 최전선에서 건설 게 독립성을 법조인이지만 권력이 목숨바쳐 것'이라고 공직자들을 원내대표는 그런 허물어뜨렸고 없다'고 대통령 끝이 걱정하느냐고 사건이 정권은 뻔한 \n",
            "\n",
            "사람들이 최전선에서 개의치 끌어들이기 자신의 감시하는 하는 거짓말이라는 그걸 게 이해찬 '패스트트랙'이라는 사건이 완성된다 시인 두렵기만 김수영은 대란대치 출범시키려 대통령 신성을 추종자들로 大亂大治 않는 막겠는가 온통 사건을 혼돈 요직에 추종자들로 \n",
            "\n",
            "써서라도 22일 추종자들로 표정으로 공수처는 걱정하느냐고 표정으로 수단으로 원내대표인 처리장이 개의치 그걸 신중함은 얘기한 수사를 온 검찰의 막겠는가 22일 임명에 공수처장이 세워 것'이라고 우리를 앉힐 규탄했다 눕지만 힘이 있다 경고했다 \n",
            "\n",
            "[ 0.49488762 -0.47056934  0.39353213 ... -0.53949434  0.02929593\n",
            " -0.19521973]\n",
            "\n",
            "[ 0.5782575  -0.1370514   0.9492064  ...  0.08604667 -0.00169895\n",
            " -0.4184904 ]\n",
            "\n",
            "[ 0.49945843  0.22054337  0.33399284 ... -0.40973312 -0.2892311\n",
            " -0.17764106]\n",
            "\n"
          ],
          "name": "stdout"
        }
      ]
    },
    {
      "cell_type": "code",
      "metadata": {
        "id": "u-TaYl0WKc91",
        "trusted": true,
        "outputId": "78bfa159-98e7-46a6-d195-adf7b268210b",
        "colab": {
          "base_uri": "https://localhost:8080/"
        }
      },
      "source": [
        "def make_discriminator_model():\n",
        "    model = tf.keras.Sequential()\n",
        "    model.add(Dense(256, use_bias=False, input_shape=(1024,)))\n",
        "    model.add(BatchNormalization())\n",
        "    model.add(LeakyReLU())\n",
        "    #model.add(Reshape((256,)))\n",
        "    assert model.output_shape == (None,256) # Note: None is the batch size\n",
        "\n",
        "    model.add(Dense(64, use_bias=False))\n",
        "    model.add(BatchNormalization())\n",
        "    model.add(LeakyReLU())    \n",
        "    #model.add(Reshape((64,)))\n",
        "    assert model.output_shape == (None,64) # Note: None is the batch size\n",
        "\n",
        "    model.add(Dense(32, use_bias=False))\n",
        "    model.add(BatchNormalization())\n",
        "    model.add(LeakyReLU())    \n",
        "    #model.add(Reshape((64,)))\n",
        "    assert model.output_shape == (None,32) # Note: None is the batch size\n",
        "\n",
        "    model.add(Dense(1))\n",
        "    #model.add(Softmax())    \n",
        "    model.summary()\n",
        "    return model\n",
        "\n",
        "discriminator = make_discriminator_model()"
      ],
      "execution_count": 120,
      "outputs": [
        {
          "output_type": "stream",
          "text": [
            "Model: \"sequential_5\"\n",
            "_________________________________________________________________\n",
            "Layer (type)                 Output Shape              Param #   \n",
            "=================================================================\n",
            "dense_36 (Dense)             (None, 256)               262144    \n",
            "_________________________________________________________________\n",
            "batch_normalization_24 (Batc (None, 256)               1024      \n",
            "_________________________________________________________________\n",
            "leaky_re_lu_23 (LeakyReLU)   (None, 256)               0         \n",
            "_________________________________________________________________\n",
            "dense_37 (Dense)             (None, 64)                16384     \n",
            "_________________________________________________________________\n",
            "batch_normalization_25 (Batc (None, 64)                256       \n",
            "_________________________________________________________________\n",
            "leaky_re_lu_24 (LeakyReLU)   (None, 64)                0         \n",
            "_________________________________________________________________\n",
            "dense_38 (Dense)             (None, 32)                2048      \n",
            "_________________________________________________________________\n",
            "batch_normalization_26 (Batc (None, 32)                128       \n",
            "_________________________________________________________________\n",
            "leaky_re_lu_25 (LeakyReLU)   (None, 32)                0         \n",
            "_________________________________________________________________\n",
            "dense_39 (Dense)             (None, 1)                 33        \n",
            "=================================================================\n",
            "Total params: 282,017\n",
            "Trainable params: 281,313\n",
            "Non-trainable params: 704\n",
            "_________________________________________________________________\n"
          ],
          "name": "stdout"
        }
      ]
    },
    {
      "cell_type": "code",
      "metadata": {
        "id": "MszYFgQzM_RF",
        "trusted": false,
        "outputId": "6def0996-3559-4b21-d247-15db95a582b2",
        "colab": {
          "base_uri": "https://localhost:8080/"
        }
      },
      "source": [
        "#generated_encode = embedder.encode([generated_sum])\n",
        "decision = discriminator(embeddings)\n",
        "print (decision)"
      ],
      "execution_count": 121,
      "outputs": [
        {
          "output_type": "stream",
          "text": [
            "tf.Tensor(\n",
            "[[-0.23204869]\n",
            " [-0.48966113]\n",
            " [-0.3612647 ]], shape=(3, 1), dtype=float32)\n"
          ],
          "name": "stdout"
        }
      ]
    },
    {
      "cell_type": "code",
      "metadata": {
        "id": "llMmknB8OtEl",
        "trusted": false
      },
      "source": [
        "# This method returns a helper function to compute cross entropy loss\n",
        "cross_entropy = tf.keras.losses.BinaryCrossentropy(from_logits=True)\n",
        "\n",
        "def discriminator_loss(real_output, fake_output):\n",
        "    real_loss = cross_entropy(tf.ones_like(real_output), real_output)\n",
        "    fake_loss = cross_entropy(tf.zeros_like(fake_output), fake_output)\n",
        "    total_loss = real_loss + fake_loss\n",
        "    return total_loss\n",
        "\n",
        "def generator_loss(fake_output):\n",
        "    return cross_entropy(tf.ones_like(fake_output), fake_output)\n",
        "\n",
        "generator_optimizer = tf.keras.optimizers.Adam(1e-4)\n",
        "discriminator_optimizer = tf.keras.optimizers.Adam(1e-4)"
      ],
      "execution_count": 123,
      "outputs": []
    },
    {
      "cell_type": "code",
      "metadata": {
        "id": "cNsIOAWeOx87",
        "trusted": false
      },
      "source": [
        "BATCH_SIZE = 32\n",
        "EPOCHS = 60\n",
        "noise_dim = 1000\n",
        "seed = tf.random.normal([1, noise_dim])"
      ],
      "execution_count": 124,
      "outputs": []
    },
    {
      "cell_type": "code",
      "metadata": {
        "id": "QnZSqk6fPcdM",
        "trusted": false
      },
      "source": [
        "@tf.function\n",
        "def train_step(real_embedding):\n",
        "  \n",
        "    # 1 - Create a random noise to feed it into the model\n",
        "    # for the text generation\n",
        "    noise = tf.random.normal([BATCH_SIZE, noise_dim])\n",
        "    \n",
        "    # 2 - Generate text and calculate loss values\n",
        "    # GradientTape method records operations for automatic differentiation.\n",
        "    with tf.GradientTape() as gen_tape, tf.GradientTape() as disc_tape:\n",
        "      texts,embeddings = generator(noise, training=True)\n",
        "      real_output = discriminator(real_embedding, training=True)\n",
        "      fake_output = discriminator(embeddings, training=True)\n",
        "\n",
        "      gen_loss = generator_loss(fake_output)\n",
        "      disc_loss = discriminator_loss(real_output, fake_output)\n",
        "\n",
        "    # 3 - Calculate gradients using loss values and model variables\n",
        "    # \"gradient\" method computes the gradient using \n",
        "    # operations recorded in context of this tape (gen_tape and disc_tape).\n",
        "    \n",
        "    # It accepts a target (e.g., gen_loss) variable and \n",
        "    # a source variable (e.g.,generator.trainable_variables)\n",
        "    # target --> a list or nested structure of Tensors or Variables to be differentiated.\n",
        "    # source --> a list or nested structure of Tensors or Variables.\n",
        "    # target will be differentiated against elements in sources.\n",
        "\n",
        "    # \"gradient\" method returns a list or nested structure of Tensors  \n",
        "    # (or IndexedSlices, or None), one for each element in sources. \n",
        "    # Returned structure is the same as the structure of sources.\n",
        "    gradients_of_generator = gen_tape.gradient(gen_loss, \n",
        "                                               generator.trainable_variables)\n",
        "    gradients_of_discriminator = disc_tape.gradient(disc_loss, \n",
        "                                                discriminator.trainable_variables)\n",
        "    \n",
        "    # 4 - Process  Gradients and Run the Optimizer\n",
        "    # \"apply_gradients\" method processes aggregated gradients. \n",
        "    # ex: optimizer.apply_gradients(zip(grads, vars))\n",
        "    \"\"\"\n",
        "    Example use of apply_gradients:\n",
        "    grads = tape.gradient(loss, vars)\n",
        "    grads = tf.distribute.get_replica_context().all_reduce('sum', grads)\n",
        "    # Processing aggregated gradients.\n",
        "    optimizer.apply_gradients(zip(grads, vars), experimental_aggregate_gradients=False)\n",
        "    \"\"\"\n",
        "    generator_optimizer.apply_gradients(zip(gradients_of_generator, generator.trainable_variables))\n",
        "    discriminator_optimizer.apply_gradients(zip(gradients_of_discriminator, discriminator.trainable_variables))"
      ],
      "execution_count": 125,
      "outputs": []
    },
    {
      "cell_type": "code",
      "metadata": {
        "id": "Ml71bju6Rv9I",
        "trusted": false,
        "outputId": "10b46117-87dd-4537-9f88-565a1b034a89",
        "colab": {
          "base_uri": "https://localhost:8080/"
        }
      },
      "source": [
        "doc_emb = embedder.encode([document])[0]\n",
        "print(doc_emb.shape)\n",
        "dataset = []\n",
        "for i in range(10):\n",
        "  batch_set = []\n",
        "  for j in range(BATCH_SIZE):\n",
        "    batch_set.append(doc_emb)\n",
        "\n",
        "  batch_set = np.asarray(batch_set)\n",
        "  dataset.append(batch_set)"
      ],
      "execution_count": 126,
      "outputs": [
        {
          "output_type": "stream",
          "text": [
            "(1024,)\n"
          ],
          "name": "stdout"
        }
      ]
    },
    {
      "cell_type": "code",
      "metadata": {
        "id": "lpu1ggH1Rl17",
        "trusted": false
      },
      "source": [
        "import time\n",
        "from IPython import display # A command shell for interactive computing in Python.\n",
        "\n",
        "def train(dataset, epochs):\n",
        "  # A. For each epoch, do the following:\n",
        "  for epoch in range(epochs):\n",
        "    start = time.time()\n",
        "    # 1 - For each batch of the epoch, \n",
        "    for image_batch in dataset:\n",
        "      # 1.a - run the custom \"train_step\" function\n",
        "      # we just declared above\n",
        "      #print(image_batch.shape)\n",
        "      train_step(image_batch)\n",
        "\n",
        "    # 4 - Print out the completed epoch no. and the time spent\n",
        "    print ('Time for epoch {} is {} sec'.format(epoch + 1, time.time()-start))"
      ],
      "execution_count": 127,
      "outputs": []
    },
    {
      "cell_type": "code",
      "metadata": {
        "id": "v1z2L5zLUIhr",
        "trusted": false,
        "outputId": "63d286e5-6226-46c0-b622-0c31c492625d",
        "colab": {
          "base_uri": "https://localhost:8080/",
          "height": 781
        }
      },
      "source": [
        "train(dataset, EPOCHS)"
      ],
      "execution_count": 128,
      "outputs": [
        {
          "output_type": "error",
          "ename": "UnknownError",
          "evalue": "ignored",
          "traceback": [
            "\u001b[0;31m---------------------------------------------------------------------------\u001b[0m",
            "\u001b[0;31mUnknownError\u001b[0m                              Traceback (most recent call last)",
            "\u001b[0;32m<ipython-input-128-178de3cf74ec>\u001b[0m in \u001b[0;36m<module>\u001b[0;34m()\u001b[0m\n\u001b[0;32m----> 1\u001b[0;31m \u001b[0mtrain\u001b[0m\u001b[0;34m(\u001b[0m\u001b[0mdataset\u001b[0m\u001b[0;34m,\u001b[0m \u001b[0mEPOCHS\u001b[0m\u001b[0;34m)\u001b[0m\u001b[0;34m\u001b[0m\u001b[0;34m\u001b[0m\u001b[0m\n\u001b[0m",
            "\u001b[0;32m<ipython-input-127-15c9e9b1c814>\u001b[0m in \u001b[0;36mtrain\u001b[0;34m(dataset, epochs)\u001b[0m\n\u001b[1;32m     11\u001b[0m       \u001b[0;31m# we just declared above\u001b[0m\u001b[0;34m\u001b[0m\u001b[0;34m\u001b[0m\u001b[0;34m\u001b[0m\u001b[0m\n\u001b[1;32m     12\u001b[0m       \u001b[0;31m#print(image_batch.shape)\u001b[0m\u001b[0;34m\u001b[0m\u001b[0;34m\u001b[0m\u001b[0;34m\u001b[0m\u001b[0m\n\u001b[0;32m---> 13\u001b[0;31m       \u001b[0mtrain_step\u001b[0m\u001b[0;34m(\u001b[0m\u001b[0mimage_batch\u001b[0m\u001b[0;34m)\u001b[0m\u001b[0;34m\u001b[0m\u001b[0;34m\u001b[0m\u001b[0m\n\u001b[0m\u001b[1;32m     14\u001b[0m \u001b[0;34m\u001b[0m\u001b[0m\n\u001b[1;32m     15\u001b[0m     \u001b[0;31m# 4 - Print out the completed epoch no. and the time spent\u001b[0m\u001b[0;34m\u001b[0m\u001b[0;34m\u001b[0m\u001b[0;34m\u001b[0m\u001b[0m\n",
            "\u001b[0;32m/usr/local/lib/python3.6/dist-packages/tensorflow/python/eager/def_function.py\u001b[0m in \u001b[0;36m__call__\u001b[0;34m(self, *args, **kwds)\u001b[0m\n\u001b[1;32m    826\u001b[0m     \u001b[0mtracing_count\u001b[0m \u001b[0;34m=\u001b[0m \u001b[0mself\u001b[0m\u001b[0;34m.\u001b[0m\u001b[0mexperimental_get_tracing_count\u001b[0m\u001b[0;34m(\u001b[0m\u001b[0;34m)\u001b[0m\u001b[0;34m\u001b[0m\u001b[0;34m\u001b[0m\u001b[0m\n\u001b[1;32m    827\u001b[0m     \u001b[0;32mwith\u001b[0m \u001b[0mtrace\u001b[0m\u001b[0;34m.\u001b[0m\u001b[0mTrace\u001b[0m\u001b[0;34m(\u001b[0m\u001b[0mself\u001b[0m\u001b[0;34m.\u001b[0m\u001b[0m_name\u001b[0m\u001b[0;34m)\u001b[0m \u001b[0;32mas\u001b[0m \u001b[0mtm\u001b[0m\u001b[0;34m:\u001b[0m\u001b[0;34m\u001b[0m\u001b[0;34m\u001b[0m\u001b[0m\n\u001b[0;32m--> 828\u001b[0;31m       \u001b[0mresult\u001b[0m \u001b[0;34m=\u001b[0m \u001b[0mself\u001b[0m\u001b[0;34m.\u001b[0m\u001b[0m_call\u001b[0m\u001b[0;34m(\u001b[0m\u001b[0;34m*\u001b[0m\u001b[0margs\u001b[0m\u001b[0;34m,\u001b[0m \u001b[0;34m**\u001b[0m\u001b[0mkwds\u001b[0m\u001b[0;34m)\u001b[0m\u001b[0;34m\u001b[0m\u001b[0;34m\u001b[0m\u001b[0m\n\u001b[0m\u001b[1;32m    829\u001b[0m       \u001b[0mcompiler\u001b[0m \u001b[0;34m=\u001b[0m \u001b[0;34m\"xla\"\u001b[0m \u001b[0;32mif\u001b[0m \u001b[0mself\u001b[0m\u001b[0;34m.\u001b[0m\u001b[0m_experimental_compile\u001b[0m \u001b[0;32melse\u001b[0m \u001b[0;34m\"nonXla\"\u001b[0m\u001b[0;34m\u001b[0m\u001b[0;34m\u001b[0m\u001b[0m\n\u001b[1;32m    830\u001b[0m       \u001b[0mnew_tracing_count\u001b[0m \u001b[0;34m=\u001b[0m \u001b[0mself\u001b[0m\u001b[0;34m.\u001b[0m\u001b[0mexperimental_get_tracing_count\u001b[0m\u001b[0;34m(\u001b[0m\u001b[0;34m)\u001b[0m\u001b[0;34m\u001b[0m\u001b[0;34m\u001b[0m\u001b[0m\n",
            "\u001b[0;32m/usr/local/lib/python3.6/dist-packages/tensorflow/python/eager/def_function.py\u001b[0m in \u001b[0;36m_call\u001b[0;34m(self, *args, **kwds)\u001b[0m\n\u001b[1;32m    886\u001b[0m         \u001b[0;31m# Lifting succeeded, so variables are initialized and we can run the\u001b[0m\u001b[0;34m\u001b[0m\u001b[0;34m\u001b[0m\u001b[0;34m\u001b[0m\u001b[0m\n\u001b[1;32m    887\u001b[0m         \u001b[0;31m# stateless function.\u001b[0m\u001b[0;34m\u001b[0m\u001b[0;34m\u001b[0m\u001b[0;34m\u001b[0m\u001b[0m\n\u001b[0;32m--> 888\u001b[0;31m         \u001b[0;32mreturn\u001b[0m \u001b[0mself\u001b[0m\u001b[0;34m.\u001b[0m\u001b[0m_stateless_fn\u001b[0m\u001b[0;34m(\u001b[0m\u001b[0;34m*\u001b[0m\u001b[0margs\u001b[0m\u001b[0;34m,\u001b[0m \u001b[0;34m**\u001b[0m\u001b[0mkwds\u001b[0m\u001b[0;34m)\u001b[0m\u001b[0;34m\u001b[0m\u001b[0;34m\u001b[0m\u001b[0m\n\u001b[0m\u001b[1;32m    889\u001b[0m     \u001b[0;32melse\u001b[0m\u001b[0;34m:\u001b[0m\u001b[0;34m\u001b[0m\u001b[0;34m\u001b[0m\u001b[0m\n\u001b[1;32m    890\u001b[0m       \u001b[0m_\u001b[0m\u001b[0;34m,\u001b[0m \u001b[0m_\u001b[0m\u001b[0;34m,\u001b[0m \u001b[0m_\u001b[0m\u001b[0;34m,\u001b[0m \u001b[0mfiltered_flat_args\u001b[0m \u001b[0;34m=\u001b[0m\u001b[0;31m \u001b[0m\u001b[0;31m\\\u001b[0m\u001b[0;34m\u001b[0m\u001b[0;34m\u001b[0m\u001b[0m\n",
            "\u001b[0;32m/usr/local/lib/python3.6/dist-packages/tensorflow/python/eager/function.py\u001b[0m in \u001b[0;36m__call__\u001b[0;34m(self, *args, **kwargs)\u001b[0m\n\u001b[1;32m   2941\u001b[0m        filtered_flat_args) = self._maybe_define_function(args, kwargs)\n\u001b[1;32m   2942\u001b[0m     return graph_function._call_flat(\n\u001b[0;32m-> 2943\u001b[0;31m         filtered_flat_args, captured_inputs=graph_function.captured_inputs)  # pylint: disable=protected-access\n\u001b[0m\u001b[1;32m   2944\u001b[0m \u001b[0;34m\u001b[0m\u001b[0m\n\u001b[1;32m   2945\u001b[0m   \u001b[0;34m@\u001b[0m\u001b[0mproperty\u001b[0m\u001b[0;34m\u001b[0m\u001b[0;34m\u001b[0m\u001b[0m\n",
            "\u001b[0;32m/usr/local/lib/python3.6/dist-packages/tensorflow/python/eager/function.py\u001b[0m in \u001b[0;36m_call_flat\u001b[0;34m(self, args, captured_inputs, cancellation_manager)\u001b[0m\n\u001b[1;32m   1917\u001b[0m       \u001b[0;31m# No tape is watching; skip to running the function.\u001b[0m\u001b[0;34m\u001b[0m\u001b[0;34m\u001b[0m\u001b[0;34m\u001b[0m\u001b[0m\n\u001b[1;32m   1918\u001b[0m       return self._build_call_outputs(self._inference_function.call(\n\u001b[0;32m-> 1919\u001b[0;31m           ctx, args, cancellation_manager=cancellation_manager))\n\u001b[0m\u001b[1;32m   1920\u001b[0m     forward_backward = self._select_forward_and_backward_functions(\n\u001b[1;32m   1921\u001b[0m         \u001b[0margs\u001b[0m\u001b[0;34m,\u001b[0m\u001b[0;34m\u001b[0m\u001b[0;34m\u001b[0m\u001b[0m\n",
            "\u001b[0;32m/usr/local/lib/python3.6/dist-packages/tensorflow/python/eager/function.py\u001b[0m in \u001b[0;36mcall\u001b[0;34m(self, ctx, args, cancellation_manager)\u001b[0m\n\u001b[1;32m    558\u001b[0m               \u001b[0minputs\u001b[0m\u001b[0;34m=\u001b[0m\u001b[0margs\u001b[0m\u001b[0;34m,\u001b[0m\u001b[0;34m\u001b[0m\u001b[0;34m\u001b[0m\u001b[0m\n\u001b[1;32m    559\u001b[0m               \u001b[0mattrs\u001b[0m\u001b[0;34m=\u001b[0m\u001b[0mattrs\u001b[0m\u001b[0;34m,\u001b[0m\u001b[0;34m\u001b[0m\u001b[0;34m\u001b[0m\u001b[0m\n\u001b[0;32m--> 560\u001b[0;31m               ctx=ctx)\n\u001b[0m\u001b[1;32m    561\u001b[0m         \u001b[0;32melse\u001b[0m\u001b[0;34m:\u001b[0m\u001b[0;34m\u001b[0m\u001b[0;34m\u001b[0m\u001b[0m\n\u001b[1;32m    562\u001b[0m           outputs = execute.execute_with_cancellation(\n",
            "\u001b[0;32m/usr/local/lib/python3.6/dist-packages/tensorflow/python/eager/execute.py\u001b[0m in \u001b[0;36mquick_execute\u001b[0;34m(op_name, num_outputs, inputs, attrs, ctx, name)\u001b[0m\n\u001b[1;32m     58\u001b[0m     \u001b[0mctx\u001b[0m\u001b[0;34m.\u001b[0m\u001b[0mensure_initialized\u001b[0m\u001b[0;34m(\u001b[0m\u001b[0;34m)\u001b[0m\u001b[0;34m\u001b[0m\u001b[0;34m\u001b[0m\u001b[0m\n\u001b[1;32m     59\u001b[0m     tensors = pywrap_tfe.TFE_Py_Execute(ctx._handle, device_name, op_name,\n\u001b[0;32m---> 60\u001b[0;31m                                         inputs, attrs, num_outputs)\n\u001b[0m\u001b[1;32m     61\u001b[0m   \u001b[0;32mexcept\u001b[0m \u001b[0mcore\u001b[0m\u001b[0;34m.\u001b[0m\u001b[0m_NotOkStatusException\u001b[0m \u001b[0;32mas\u001b[0m \u001b[0me\u001b[0m\u001b[0;34m:\u001b[0m\u001b[0;34m\u001b[0m\u001b[0;34m\u001b[0m\u001b[0m\n\u001b[1;32m     62\u001b[0m     \u001b[0;32mif\u001b[0m \u001b[0mname\u001b[0m \u001b[0;32mis\u001b[0m \u001b[0;32mnot\u001b[0m \u001b[0;32mNone\u001b[0m\u001b[0;34m:\u001b[0m\u001b[0;34m\u001b[0m\u001b[0;34m\u001b[0m\u001b[0m\n",
            "\u001b[0;31mUnknownError\u001b[0m:  KeyError: b'pyfunc_78'\nTraceback (most recent call last):\n\n  File \"/usr/local/lib/python3.6/dist-packages/tensorflow/python/ops/script_ops.py\", line 247, in __call__\n    return func(device, token, args)\n\n  File \"/usr/local/lib/python3.6/dist-packages/tensorflow/python/ops/script_ops.py\", line 135, in __call__\n    ret = self._func(*args)\n\n  File \"/usr/local/lib/python3.6/dist-packages/tensorflow/python/autograph/impl/api.py\", line 620, in wrapper\n    return func(*args, **kwargs)\n\n  File \"/usr/local/lib/python3.6/dist-packages/tensorflow/python/ops/script_ops.py\", line 367, in eagerly_executed_grad\n    tape, eager_inputs, eager_outputs = tape_cache.pop(compat.as_bytes(token))\n\nKeyError: b'pyfunc_78'\n\n\n\t [[node gradient_tape/model_6/post_processing_12/EagerPyFunc_1 (defined at <ipython-input-125-32388a7e6aeb>:33) ]] [Op:__inference_train_step_155763]\n\nErrors may have originated from an input operation.\nInput Source operations connected to node gradient_tape/model_6/post_processing_12/EagerPyFunc_1:\n gradient_tape/model_6/post_processing_12/EagerPyFunc (defined at <ipython-input-125-32388a7e6aeb>:31)\t\n model_6/post_processing_12/EagerPyFunc (defined at <ipython-input-102-07e616ddb030>:23)\n\nFunction call stack:\ntrain_step\n"
          ]
        }
      ]
    }
  ]
}