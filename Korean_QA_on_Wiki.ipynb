{
  "nbformat": 4,
  "nbformat_minor": 0,
  "metadata": {
    "colab": {
      "name": "Untitled10.ipynb",
      "provenance": [],
      "authorship_tag": "ABX9TyMZ6tF23EfLNWoi2foSljjC",
      "include_colab_link": true
    },
    "kernelspec": {
      "name": "python3",
      "display_name": "Python 3"
    },
    "accelerator": "GPU",
    "widgets": {
      "application/vnd.jupyter.widget-state+json": {
        "dcc4e1627f6e41b9bed7b83d9e5948da": {
          "model_module": "@jupyter-widgets/controls",
          "model_name": "HBoxModel",
          "state": {
            "_view_name": "HBoxView",
            "_dom_classes": [],
            "_model_name": "HBoxModel",
            "_view_module": "@jupyter-widgets/controls",
            "_model_module_version": "1.5.0",
            "_view_count": null,
            "_view_module_version": "1.5.0",
            "box_style": "",
            "layout": "IPY_MODEL_84f7e67624b143ad99d2519c88dff8d5",
            "_model_module": "@jupyter-widgets/controls",
            "children": [
              "IPY_MODEL_8a4d0e679a304db781ae1de5fe2d2679",
              "IPY_MODEL_d51dc51402c54f998dfb7fec6ceb68e2"
            ]
          }
        },
        "84f7e67624b143ad99d2519c88dff8d5": {
          "model_module": "@jupyter-widgets/base",
          "model_name": "LayoutModel",
          "state": {
            "_view_name": "LayoutView",
            "grid_template_rows": null,
            "right": null,
            "justify_content": null,
            "_view_module": "@jupyter-widgets/base",
            "overflow": null,
            "_model_module_version": "1.2.0",
            "_view_count": null,
            "flex_flow": null,
            "width": null,
            "min_width": null,
            "border": null,
            "align_items": null,
            "bottom": null,
            "_model_module": "@jupyter-widgets/base",
            "top": null,
            "grid_column": null,
            "overflow_y": null,
            "overflow_x": null,
            "grid_auto_flow": null,
            "grid_area": null,
            "grid_template_columns": null,
            "flex": null,
            "_model_name": "LayoutModel",
            "justify_items": null,
            "grid_row": null,
            "max_height": null,
            "align_content": null,
            "visibility": null,
            "align_self": null,
            "height": null,
            "min_height": null,
            "padding": null,
            "grid_auto_rows": null,
            "grid_gap": null,
            "max_width": null,
            "order": null,
            "_view_module_version": "1.2.0",
            "grid_template_areas": null,
            "object_position": null,
            "object_fit": null,
            "grid_auto_columns": null,
            "margin": null,
            "display": null,
            "left": null
          }
        },
        "8a4d0e679a304db781ae1de5fe2d2679": {
          "model_module": "@jupyter-widgets/controls",
          "model_name": "FloatProgressModel",
          "state": {
            "_view_name": "ProgressView",
            "style": "IPY_MODEL_c7b47484014949cd975f2af8ba522f24",
            "_dom_classes": [],
            "description": "Downloading: 100%",
            "_model_name": "FloatProgressModel",
            "bar_style": "success",
            "max": 591,
            "_view_module": "@jupyter-widgets/controls",
            "_model_module_version": "1.5.0",
            "value": 591,
            "_view_count": null,
            "_view_module_version": "1.5.0",
            "orientation": "horizontal",
            "min": 0,
            "description_tooltip": null,
            "_model_module": "@jupyter-widgets/controls",
            "layout": "IPY_MODEL_49cb67d42d7340889864c04ff62a6bd8"
          }
        },
        "d51dc51402c54f998dfb7fec6ceb68e2": {
          "model_module": "@jupyter-widgets/controls",
          "model_name": "HTMLModel",
          "state": {
            "_view_name": "HTMLView",
            "style": "IPY_MODEL_aabb077a15cb4fd6b68ef30fe2e89adb",
            "_dom_classes": [],
            "description": "",
            "_model_name": "HTMLModel",
            "placeholder": "​",
            "_view_module": "@jupyter-widgets/controls",
            "_model_module_version": "1.5.0",
            "value": " 591/591 [00:05&lt;00:00, 106B/s]",
            "_view_count": null,
            "_view_module_version": "1.5.0",
            "description_tooltip": null,
            "_model_module": "@jupyter-widgets/controls",
            "layout": "IPY_MODEL_2c271a509f5344319ea922c11486d18c"
          }
        },
        "c7b47484014949cd975f2af8ba522f24": {
          "model_module": "@jupyter-widgets/controls",
          "model_name": "ProgressStyleModel",
          "state": {
            "_view_name": "StyleView",
            "_model_name": "ProgressStyleModel",
            "description_width": "initial",
            "_view_module": "@jupyter-widgets/base",
            "_model_module_version": "1.5.0",
            "_view_count": null,
            "_view_module_version": "1.2.0",
            "bar_color": null,
            "_model_module": "@jupyter-widgets/controls"
          }
        },
        "49cb67d42d7340889864c04ff62a6bd8": {
          "model_module": "@jupyter-widgets/base",
          "model_name": "LayoutModel",
          "state": {
            "_view_name": "LayoutView",
            "grid_template_rows": null,
            "right": null,
            "justify_content": null,
            "_view_module": "@jupyter-widgets/base",
            "overflow": null,
            "_model_module_version": "1.2.0",
            "_view_count": null,
            "flex_flow": null,
            "width": null,
            "min_width": null,
            "border": null,
            "align_items": null,
            "bottom": null,
            "_model_module": "@jupyter-widgets/base",
            "top": null,
            "grid_column": null,
            "overflow_y": null,
            "overflow_x": null,
            "grid_auto_flow": null,
            "grid_area": null,
            "grid_template_columns": null,
            "flex": null,
            "_model_name": "LayoutModel",
            "justify_items": null,
            "grid_row": null,
            "max_height": null,
            "align_content": null,
            "visibility": null,
            "align_self": null,
            "height": null,
            "min_height": null,
            "padding": null,
            "grid_auto_rows": null,
            "grid_gap": null,
            "max_width": null,
            "order": null,
            "_view_module_version": "1.2.0",
            "grid_template_areas": null,
            "object_position": null,
            "object_fit": null,
            "grid_auto_columns": null,
            "margin": null,
            "display": null,
            "left": null
          }
        },
        "aabb077a15cb4fd6b68ef30fe2e89adb": {
          "model_module": "@jupyter-widgets/controls",
          "model_name": "DescriptionStyleModel",
          "state": {
            "_view_name": "StyleView",
            "_model_name": "DescriptionStyleModel",
            "description_width": "",
            "_view_module": "@jupyter-widgets/base",
            "_model_module_version": "1.5.0",
            "_view_count": null,
            "_view_module_version": "1.2.0",
            "_model_module": "@jupyter-widgets/controls"
          }
        },
        "2c271a509f5344319ea922c11486d18c": {
          "model_module": "@jupyter-widgets/base",
          "model_name": "LayoutModel",
          "state": {
            "_view_name": "LayoutView",
            "grid_template_rows": null,
            "right": null,
            "justify_content": null,
            "_view_module": "@jupyter-widgets/base",
            "overflow": null,
            "_model_module_version": "1.2.0",
            "_view_count": null,
            "flex_flow": null,
            "width": null,
            "min_width": null,
            "border": null,
            "align_items": null,
            "bottom": null,
            "_model_module": "@jupyter-widgets/base",
            "top": null,
            "grid_column": null,
            "overflow_y": null,
            "overflow_x": null,
            "grid_auto_flow": null,
            "grid_area": null,
            "grid_template_columns": null,
            "flex": null,
            "_model_name": "LayoutModel",
            "justify_items": null,
            "grid_row": null,
            "max_height": null,
            "align_content": null,
            "visibility": null,
            "align_self": null,
            "height": null,
            "min_height": null,
            "padding": null,
            "grid_auto_rows": null,
            "grid_gap": null,
            "max_width": null,
            "order": null,
            "_view_module_version": "1.2.0",
            "grid_template_areas": null,
            "object_position": null,
            "object_fit": null,
            "grid_auto_columns": null,
            "margin": null,
            "display": null,
            "left": null
          }
        },
        "72eda016363b48d69f693757187002d9": {
          "model_module": "@jupyter-widgets/controls",
          "model_name": "HBoxModel",
          "state": {
            "_view_name": "HBoxView",
            "_dom_classes": [],
            "_model_name": "HBoxModel",
            "_view_module": "@jupyter-widgets/controls",
            "_model_module_version": "1.5.0",
            "_view_count": null,
            "_view_module_version": "1.5.0",
            "box_style": "",
            "layout": "IPY_MODEL_8f4e032c944649d2bfb1ae057e05bf0d",
            "_model_module": "@jupyter-widgets/controls",
            "children": [
              "IPY_MODEL_0b3a2c0d84a44d7a9d2482b015093bea",
              "IPY_MODEL_1d20f2184440466da21ffd7e45b2cb83"
            ]
          }
        },
        "8f4e032c944649d2bfb1ae057e05bf0d": {
          "model_module": "@jupyter-widgets/base",
          "model_name": "LayoutModel",
          "state": {
            "_view_name": "LayoutView",
            "grid_template_rows": null,
            "right": null,
            "justify_content": null,
            "_view_module": "@jupyter-widgets/base",
            "overflow": null,
            "_model_module_version": "1.2.0",
            "_view_count": null,
            "flex_flow": null,
            "width": null,
            "min_width": null,
            "border": null,
            "align_items": null,
            "bottom": null,
            "_model_module": "@jupyter-widgets/base",
            "top": null,
            "grid_column": null,
            "overflow_y": null,
            "overflow_x": null,
            "grid_auto_flow": null,
            "grid_area": null,
            "grid_template_columns": null,
            "flex": null,
            "_model_name": "LayoutModel",
            "justify_items": null,
            "grid_row": null,
            "max_height": null,
            "align_content": null,
            "visibility": null,
            "align_self": null,
            "height": null,
            "min_height": null,
            "padding": null,
            "grid_auto_rows": null,
            "grid_gap": null,
            "max_width": null,
            "order": null,
            "_view_module_version": "1.2.0",
            "grid_template_areas": null,
            "object_position": null,
            "object_fit": null,
            "grid_auto_columns": null,
            "margin": null,
            "display": null,
            "left": null
          }
        },
        "0b3a2c0d84a44d7a9d2482b015093bea": {
          "model_module": "@jupyter-widgets/controls",
          "model_name": "FloatProgressModel",
          "state": {
            "_view_name": "ProgressView",
            "style": "IPY_MODEL_71c53e1d2e26478baa01e3d431c63c9e",
            "_dom_classes": [],
            "description": "Downloading: 100%",
            "_model_name": "FloatProgressModel",
            "bar_style": "success",
            "max": 263327,
            "_view_module": "@jupyter-widgets/controls",
            "_model_module_version": "1.5.0",
            "value": 263327,
            "_view_count": null,
            "_view_module_version": "1.5.0",
            "orientation": "horizontal",
            "min": 0,
            "description_tooltip": null,
            "_model_module": "@jupyter-widgets/controls",
            "layout": "IPY_MODEL_6b5f3ee5bc0b436199ea54a84b8b322b"
          }
        },
        "1d20f2184440466da21ffd7e45b2cb83": {
          "model_module": "@jupyter-widgets/controls",
          "model_name": "HTMLModel",
          "state": {
            "_view_name": "HTMLView",
            "style": "IPY_MODEL_ad77a77911df4b0d9672adde4548eb6a",
            "_dom_classes": [],
            "description": "",
            "_model_name": "HTMLModel",
            "placeholder": "​",
            "_view_module": "@jupyter-widgets/controls",
            "_model_module_version": "1.5.0",
            "value": " 263k/263k [00:04&lt;00:00, 59.4kB/s]",
            "_view_count": null,
            "_view_module_version": "1.5.0",
            "description_tooltip": null,
            "_model_module": "@jupyter-widgets/controls",
            "layout": "IPY_MODEL_268ab7a949a546a8bbbd74e85012d423"
          }
        },
        "71c53e1d2e26478baa01e3d431c63c9e": {
          "model_module": "@jupyter-widgets/controls",
          "model_name": "ProgressStyleModel",
          "state": {
            "_view_name": "StyleView",
            "_model_name": "ProgressStyleModel",
            "description_width": "initial",
            "_view_module": "@jupyter-widgets/base",
            "_model_module_version": "1.5.0",
            "_view_count": null,
            "_view_module_version": "1.2.0",
            "bar_color": null,
            "_model_module": "@jupyter-widgets/controls"
          }
        },
        "6b5f3ee5bc0b436199ea54a84b8b322b": {
          "model_module": "@jupyter-widgets/base",
          "model_name": "LayoutModel",
          "state": {
            "_view_name": "LayoutView",
            "grid_template_rows": null,
            "right": null,
            "justify_content": null,
            "_view_module": "@jupyter-widgets/base",
            "overflow": null,
            "_model_module_version": "1.2.0",
            "_view_count": null,
            "flex_flow": null,
            "width": null,
            "min_width": null,
            "border": null,
            "align_items": null,
            "bottom": null,
            "_model_module": "@jupyter-widgets/base",
            "top": null,
            "grid_column": null,
            "overflow_y": null,
            "overflow_x": null,
            "grid_auto_flow": null,
            "grid_area": null,
            "grid_template_columns": null,
            "flex": null,
            "_model_name": "LayoutModel",
            "justify_items": null,
            "grid_row": null,
            "max_height": null,
            "align_content": null,
            "visibility": null,
            "align_self": null,
            "height": null,
            "min_height": null,
            "padding": null,
            "grid_auto_rows": null,
            "grid_gap": null,
            "max_width": null,
            "order": null,
            "_view_module_version": "1.2.0",
            "grid_template_areas": null,
            "object_position": null,
            "object_fit": null,
            "grid_auto_columns": null,
            "margin": null,
            "display": null,
            "left": null
          }
        },
        "ad77a77911df4b0d9672adde4548eb6a": {
          "model_module": "@jupyter-widgets/controls",
          "model_name": "DescriptionStyleModel",
          "state": {
            "_view_name": "StyleView",
            "_model_name": "DescriptionStyleModel",
            "description_width": "",
            "_view_module": "@jupyter-widgets/base",
            "_model_module_version": "1.5.0",
            "_view_count": null,
            "_view_module_version": "1.2.0",
            "_model_module": "@jupyter-widgets/controls"
          }
        },
        "268ab7a949a546a8bbbd74e85012d423": {
          "model_module": "@jupyter-widgets/base",
          "model_name": "LayoutModel",
          "state": {
            "_view_name": "LayoutView",
            "grid_template_rows": null,
            "right": null,
            "justify_content": null,
            "_view_module": "@jupyter-widgets/base",
            "overflow": null,
            "_model_module_version": "1.2.0",
            "_view_count": null,
            "flex_flow": null,
            "width": null,
            "min_width": null,
            "border": null,
            "align_items": null,
            "bottom": null,
            "_model_module": "@jupyter-widgets/base",
            "top": null,
            "grid_column": null,
            "overflow_y": null,
            "overflow_x": null,
            "grid_auto_flow": null,
            "grid_area": null,
            "grid_template_columns": null,
            "flex": null,
            "_model_name": "LayoutModel",
            "justify_items": null,
            "grid_row": null,
            "max_height": null,
            "align_content": null,
            "visibility": null,
            "align_self": null,
            "height": null,
            "min_height": null,
            "padding": null,
            "grid_auto_rows": null,
            "grid_gap": null,
            "max_width": null,
            "order": null,
            "_view_module_version": "1.2.0",
            "grid_template_areas": null,
            "object_position": null,
            "object_fit": null,
            "grid_auto_columns": null,
            "margin": null,
            "display": null,
            "left": null
          }
        },
        "f3ce09ee6f0848b594a29ff552a43f70": {
          "model_module": "@jupyter-widgets/controls",
          "model_name": "HBoxModel",
          "state": {
            "_view_name": "HBoxView",
            "_dom_classes": [],
            "_model_name": "HBoxModel",
            "_view_module": "@jupyter-widgets/controls",
            "_model_module_version": "1.5.0",
            "_view_count": null,
            "_view_module_version": "1.5.0",
            "box_style": "",
            "layout": "IPY_MODEL_143af5e76bd84adfb7f759f4dace0921",
            "_model_module": "@jupyter-widgets/controls",
            "children": [
              "IPY_MODEL_63950c818afd4ad8a83751ace60040ef",
              "IPY_MODEL_ba99c742fbe14b15a0dd782bcb4181bb"
            ]
          }
        },
        "143af5e76bd84adfb7f759f4dace0921": {
          "model_module": "@jupyter-widgets/base",
          "model_name": "LayoutModel",
          "state": {
            "_view_name": "LayoutView",
            "grid_template_rows": null,
            "right": null,
            "justify_content": null,
            "_view_module": "@jupyter-widgets/base",
            "overflow": null,
            "_model_module_version": "1.2.0",
            "_view_count": null,
            "flex_flow": null,
            "width": null,
            "min_width": null,
            "border": null,
            "align_items": null,
            "bottom": null,
            "_model_module": "@jupyter-widgets/base",
            "top": null,
            "grid_column": null,
            "overflow_y": null,
            "overflow_x": null,
            "grid_auto_flow": null,
            "grid_area": null,
            "grid_template_columns": null,
            "flex": null,
            "_model_name": "LayoutModel",
            "justify_items": null,
            "grid_row": null,
            "max_height": null,
            "align_content": null,
            "visibility": null,
            "align_self": null,
            "height": null,
            "min_height": null,
            "padding": null,
            "grid_auto_rows": null,
            "grid_gap": null,
            "max_width": null,
            "order": null,
            "_view_module_version": "1.2.0",
            "grid_template_areas": null,
            "object_position": null,
            "object_fit": null,
            "grid_auto_columns": null,
            "margin": null,
            "display": null,
            "left": null
          }
        },
        "63950c818afd4ad8a83751ace60040ef": {
          "model_module": "@jupyter-widgets/controls",
          "model_name": "FloatProgressModel",
          "state": {
            "_view_name": "ProgressView",
            "style": "IPY_MODEL_61664f34deff44e29c5eb980e2744a79",
            "_dom_classes": [],
            "description": "Downloading: 100%",
            "_model_name": "FloatProgressModel",
            "bar_style": "success",
            "max": 112,
            "_view_module": "@jupyter-widgets/controls",
            "_model_module_version": "1.5.0",
            "value": 112,
            "_view_count": null,
            "_view_module_version": "1.5.0",
            "orientation": "horizontal",
            "min": 0,
            "description_tooltip": null,
            "_model_module": "@jupyter-widgets/controls",
            "layout": "IPY_MODEL_e187665c6332430584481d027fefea5b"
          }
        },
        "ba99c742fbe14b15a0dd782bcb4181bb": {
          "model_module": "@jupyter-widgets/controls",
          "model_name": "HTMLModel",
          "state": {
            "_view_name": "HTMLView",
            "style": "IPY_MODEL_7d9d38cb0a50447da9ef1dfc6a1c84c5",
            "_dom_classes": [],
            "description": "",
            "_model_name": "HTMLModel",
            "placeholder": "​",
            "_view_module": "@jupyter-widgets/controls",
            "_model_module_version": "1.5.0",
            "value": " 112/112 [00:02&lt;00:00, 54.9B/s]",
            "_view_count": null,
            "_view_module_version": "1.5.0",
            "description_tooltip": null,
            "_model_module": "@jupyter-widgets/controls",
            "layout": "IPY_MODEL_643fad78f7cf45cf99fa1e66d3dbeeb9"
          }
        },
        "61664f34deff44e29c5eb980e2744a79": {
          "model_module": "@jupyter-widgets/controls",
          "model_name": "ProgressStyleModel",
          "state": {
            "_view_name": "StyleView",
            "_model_name": "ProgressStyleModel",
            "description_width": "initial",
            "_view_module": "@jupyter-widgets/base",
            "_model_module_version": "1.5.0",
            "_view_count": null,
            "_view_module_version": "1.2.0",
            "bar_color": null,
            "_model_module": "@jupyter-widgets/controls"
          }
        },
        "e187665c6332430584481d027fefea5b": {
          "model_module": "@jupyter-widgets/base",
          "model_name": "LayoutModel",
          "state": {
            "_view_name": "LayoutView",
            "grid_template_rows": null,
            "right": null,
            "justify_content": null,
            "_view_module": "@jupyter-widgets/base",
            "overflow": null,
            "_model_module_version": "1.2.0",
            "_view_count": null,
            "flex_flow": null,
            "width": null,
            "min_width": null,
            "border": null,
            "align_items": null,
            "bottom": null,
            "_model_module": "@jupyter-widgets/base",
            "top": null,
            "grid_column": null,
            "overflow_y": null,
            "overflow_x": null,
            "grid_auto_flow": null,
            "grid_area": null,
            "grid_template_columns": null,
            "flex": null,
            "_model_name": "LayoutModel",
            "justify_items": null,
            "grid_row": null,
            "max_height": null,
            "align_content": null,
            "visibility": null,
            "align_self": null,
            "height": null,
            "min_height": null,
            "padding": null,
            "grid_auto_rows": null,
            "grid_gap": null,
            "max_width": null,
            "order": null,
            "_view_module_version": "1.2.0",
            "grid_template_areas": null,
            "object_position": null,
            "object_fit": null,
            "grid_auto_columns": null,
            "margin": null,
            "display": null,
            "left": null
          }
        },
        "7d9d38cb0a50447da9ef1dfc6a1c84c5": {
          "model_module": "@jupyter-widgets/controls",
          "model_name": "DescriptionStyleModel",
          "state": {
            "_view_name": "StyleView",
            "_model_name": "DescriptionStyleModel",
            "description_width": "",
            "_view_module": "@jupyter-widgets/base",
            "_model_module_version": "1.5.0",
            "_view_count": null,
            "_view_module_version": "1.2.0",
            "_model_module": "@jupyter-widgets/controls"
          }
        },
        "643fad78f7cf45cf99fa1e66d3dbeeb9": {
          "model_module": "@jupyter-widgets/base",
          "model_name": "LayoutModel",
          "state": {
            "_view_name": "LayoutView",
            "grid_template_rows": null,
            "right": null,
            "justify_content": null,
            "_view_module": "@jupyter-widgets/base",
            "overflow": null,
            "_model_module_version": "1.2.0",
            "_view_count": null,
            "flex_flow": null,
            "width": null,
            "min_width": null,
            "border": null,
            "align_items": null,
            "bottom": null,
            "_model_module": "@jupyter-widgets/base",
            "top": null,
            "grid_column": null,
            "overflow_y": null,
            "overflow_x": null,
            "grid_auto_flow": null,
            "grid_area": null,
            "grid_template_columns": null,
            "flex": null,
            "_model_name": "LayoutModel",
            "justify_items": null,
            "grid_row": null,
            "max_height": null,
            "align_content": null,
            "visibility": null,
            "align_self": null,
            "height": null,
            "min_height": null,
            "padding": null,
            "grid_auto_rows": null,
            "grid_gap": null,
            "max_width": null,
            "order": null,
            "_view_module_version": "1.2.0",
            "grid_template_areas": null,
            "object_position": null,
            "object_fit": null,
            "grid_auto_columns": null,
            "margin": null,
            "display": null,
            "left": null
          }
        },
        "3ff02fc3b8d14369b68bdc936ae4f24a": {
          "model_module": "@jupyter-widgets/controls",
          "model_name": "HBoxModel",
          "state": {
            "_view_name": "HBoxView",
            "_dom_classes": [],
            "_model_name": "HBoxModel",
            "_view_module": "@jupyter-widgets/controls",
            "_model_module_version": "1.5.0",
            "_view_count": null,
            "_view_module_version": "1.5.0",
            "box_style": "",
            "layout": "IPY_MODEL_d7543b1dd1de449a837f57b00e43b0f7",
            "_model_module": "@jupyter-widgets/controls",
            "children": [
              "IPY_MODEL_914b04e8c16e486c8c1c330e534e0637",
              "IPY_MODEL_a6d256dfaf22406fb69cb0d7ddc8ea3f"
            ]
          }
        },
        "d7543b1dd1de449a837f57b00e43b0f7": {
          "model_module": "@jupyter-widgets/base",
          "model_name": "LayoutModel",
          "state": {
            "_view_name": "LayoutView",
            "grid_template_rows": null,
            "right": null,
            "justify_content": null,
            "_view_module": "@jupyter-widgets/base",
            "overflow": null,
            "_model_module_version": "1.2.0",
            "_view_count": null,
            "flex_flow": null,
            "width": null,
            "min_width": null,
            "border": null,
            "align_items": null,
            "bottom": null,
            "_model_module": "@jupyter-widgets/base",
            "top": null,
            "grid_column": null,
            "overflow_y": null,
            "overflow_x": null,
            "grid_auto_flow": null,
            "grid_area": null,
            "grid_template_columns": null,
            "flex": null,
            "_model_name": "LayoutModel",
            "justify_items": null,
            "grid_row": null,
            "max_height": null,
            "align_content": null,
            "visibility": null,
            "align_self": null,
            "height": null,
            "min_height": null,
            "padding": null,
            "grid_auto_rows": null,
            "grid_gap": null,
            "max_width": null,
            "order": null,
            "_view_module_version": "1.2.0",
            "grid_template_areas": null,
            "object_position": null,
            "object_fit": null,
            "grid_auto_columns": null,
            "margin": null,
            "display": null,
            "left": null
          }
        },
        "914b04e8c16e486c8c1c330e534e0637": {
          "model_module": "@jupyter-widgets/controls",
          "model_name": "FloatProgressModel",
          "state": {
            "_view_name": "ProgressView",
            "style": "IPY_MODEL_733f7f63b1144ae1a67928cca2df22c8",
            "_dom_classes": [],
            "description": "Downloading: 100%",
            "_model_name": "FloatProgressModel",
            "bar_style": "success",
            "max": 111,
            "_view_module": "@jupyter-widgets/controls",
            "_model_module_version": "1.5.0",
            "value": 111,
            "_view_count": null,
            "_view_module_version": "1.5.0",
            "orientation": "horizontal",
            "min": 0,
            "description_tooltip": null,
            "_model_module": "@jupyter-widgets/controls",
            "layout": "IPY_MODEL_e5738e5cdab24c38b40e2306ce4d0918"
          }
        },
        "a6d256dfaf22406fb69cb0d7ddc8ea3f": {
          "model_module": "@jupyter-widgets/controls",
          "model_name": "HTMLModel",
          "state": {
            "_view_name": "HTMLView",
            "style": "IPY_MODEL_ddc24824eca140a5916140414308345a",
            "_dom_classes": [],
            "description": "",
            "_model_name": "HTMLModel",
            "placeholder": "​",
            "_view_module": "@jupyter-widgets/controls",
            "_model_module_version": "1.5.0",
            "value": " 111/111 [00:00&lt;00:00, 178B/s]",
            "_view_count": null,
            "_view_module_version": "1.5.0",
            "description_tooltip": null,
            "_model_module": "@jupyter-widgets/controls",
            "layout": "IPY_MODEL_1c53a94233274123a382e252179c7768"
          }
        },
        "733f7f63b1144ae1a67928cca2df22c8": {
          "model_module": "@jupyter-widgets/controls",
          "model_name": "ProgressStyleModel",
          "state": {
            "_view_name": "StyleView",
            "_model_name": "ProgressStyleModel",
            "description_width": "initial",
            "_view_module": "@jupyter-widgets/base",
            "_model_module_version": "1.5.0",
            "_view_count": null,
            "_view_module_version": "1.2.0",
            "bar_color": null,
            "_model_module": "@jupyter-widgets/controls"
          }
        },
        "e5738e5cdab24c38b40e2306ce4d0918": {
          "model_module": "@jupyter-widgets/base",
          "model_name": "LayoutModel",
          "state": {
            "_view_name": "LayoutView",
            "grid_template_rows": null,
            "right": null,
            "justify_content": null,
            "_view_module": "@jupyter-widgets/base",
            "overflow": null,
            "_model_module_version": "1.2.0",
            "_view_count": null,
            "flex_flow": null,
            "width": null,
            "min_width": null,
            "border": null,
            "align_items": null,
            "bottom": null,
            "_model_module": "@jupyter-widgets/base",
            "top": null,
            "grid_column": null,
            "overflow_y": null,
            "overflow_x": null,
            "grid_auto_flow": null,
            "grid_area": null,
            "grid_template_columns": null,
            "flex": null,
            "_model_name": "LayoutModel",
            "justify_items": null,
            "grid_row": null,
            "max_height": null,
            "align_content": null,
            "visibility": null,
            "align_self": null,
            "height": null,
            "min_height": null,
            "padding": null,
            "grid_auto_rows": null,
            "grid_gap": null,
            "max_width": null,
            "order": null,
            "_view_module_version": "1.2.0",
            "grid_template_areas": null,
            "object_position": null,
            "object_fit": null,
            "grid_auto_columns": null,
            "margin": null,
            "display": null,
            "left": null
          }
        },
        "ddc24824eca140a5916140414308345a": {
          "model_module": "@jupyter-widgets/controls",
          "model_name": "DescriptionStyleModel",
          "state": {
            "_view_name": "StyleView",
            "_model_name": "DescriptionStyleModel",
            "description_width": "",
            "_view_module": "@jupyter-widgets/base",
            "_model_module_version": "1.5.0",
            "_view_count": null,
            "_view_module_version": "1.2.0",
            "_model_module": "@jupyter-widgets/controls"
          }
        },
        "1c53a94233274123a382e252179c7768": {
          "model_module": "@jupyter-widgets/base",
          "model_name": "LayoutModel",
          "state": {
            "_view_name": "LayoutView",
            "grid_template_rows": null,
            "right": null,
            "justify_content": null,
            "_view_module": "@jupyter-widgets/base",
            "overflow": null,
            "_model_module_version": "1.2.0",
            "_view_count": null,
            "flex_flow": null,
            "width": null,
            "min_width": null,
            "border": null,
            "align_items": null,
            "bottom": null,
            "_model_module": "@jupyter-widgets/base",
            "top": null,
            "grid_column": null,
            "overflow_y": null,
            "overflow_x": null,
            "grid_auto_flow": null,
            "grid_area": null,
            "grid_template_columns": null,
            "flex": null,
            "_model_name": "LayoutModel",
            "justify_items": null,
            "grid_row": null,
            "max_height": null,
            "align_content": null,
            "visibility": null,
            "align_self": null,
            "height": null,
            "min_height": null,
            "padding": null,
            "grid_auto_rows": null,
            "grid_gap": null,
            "max_width": null,
            "order": null,
            "_view_module_version": "1.2.0",
            "grid_template_areas": null,
            "object_position": null,
            "object_fit": null,
            "grid_auto_columns": null,
            "margin": null,
            "display": null,
            "left": null
          }
        },
        "5ec92dc9ac6845d78042444cc062ff1a": {
          "model_module": "@jupyter-widgets/controls",
          "model_name": "HBoxModel",
          "state": {
            "_view_name": "HBoxView",
            "_dom_classes": [],
            "_model_name": "HBoxModel",
            "_view_module": "@jupyter-widgets/controls",
            "_model_module_version": "1.5.0",
            "_view_count": null,
            "_view_module_version": "1.5.0",
            "box_style": "",
            "layout": "IPY_MODEL_d10c344e722d40be9b9d9209cc52051f",
            "_model_module": "@jupyter-widgets/controls",
            "children": [
              "IPY_MODEL_0439c87f1f9d439e921f1555b8a5b4b8",
              "IPY_MODEL_e3515348e105497aa0167b0bbad9533c"
            ]
          }
        },
        "d10c344e722d40be9b9d9209cc52051f": {
          "model_module": "@jupyter-widgets/base",
          "model_name": "LayoutModel",
          "state": {
            "_view_name": "LayoutView",
            "grid_template_rows": null,
            "right": null,
            "justify_content": null,
            "_view_module": "@jupyter-widgets/base",
            "overflow": null,
            "_model_module_version": "1.2.0",
            "_view_count": null,
            "flex_flow": null,
            "width": null,
            "min_width": null,
            "border": null,
            "align_items": null,
            "bottom": null,
            "_model_module": "@jupyter-widgets/base",
            "top": null,
            "grid_column": null,
            "overflow_y": null,
            "overflow_x": null,
            "grid_auto_flow": null,
            "grid_area": null,
            "grid_template_columns": null,
            "flex": null,
            "_model_name": "LayoutModel",
            "justify_items": null,
            "grid_row": null,
            "max_height": null,
            "align_content": null,
            "visibility": null,
            "align_self": null,
            "height": null,
            "min_height": null,
            "padding": null,
            "grid_auto_rows": null,
            "grid_gap": null,
            "max_width": null,
            "order": null,
            "_view_module_version": "1.2.0",
            "grid_template_areas": null,
            "object_position": null,
            "object_fit": null,
            "grid_auto_columns": null,
            "margin": null,
            "display": null,
            "left": null
          }
        },
        "0439c87f1f9d439e921f1555b8a5b4b8": {
          "model_module": "@jupyter-widgets/controls",
          "model_name": "FloatProgressModel",
          "state": {
            "_view_name": "ProgressView",
            "style": "IPY_MODEL_d38d1510a4124087a974e0f87310fde6",
            "_dom_classes": [],
            "description": "Downloading: 100%",
            "_model_name": "FloatProgressModel",
            "bar_style": "success",
            "max": 449418935,
            "_view_module": "@jupyter-widgets/controls",
            "_model_module_version": "1.5.0",
            "value": 449418935,
            "_view_count": null,
            "_view_module_version": "1.5.0",
            "orientation": "horizontal",
            "min": 0,
            "description_tooltip": null,
            "_model_module": "@jupyter-widgets/controls",
            "layout": "IPY_MODEL_e9ae32d124b344aba162e2867407b2ea"
          }
        },
        "e3515348e105497aa0167b0bbad9533c": {
          "model_module": "@jupyter-widgets/controls",
          "model_name": "HTMLModel",
          "state": {
            "_view_name": "HTMLView",
            "style": "IPY_MODEL_3539629a06d34e2aba73487ff1ec17cc",
            "_dom_classes": [],
            "description": "",
            "_model_name": "HTMLModel",
            "placeholder": "​",
            "_view_module": "@jupyter-widgets/controls",
            "_model_module_version": "1.5.0",
            "value": " 449M/449M [00:10&lt;00:00, 44.3MB/s]",
            "_view_count": null,
            "_view_module_version": "1.5.0",
            "description_tooltip": null,
            "_model_module": "@jupyter-widgets/controls",
            "layout": "IPY_MODEL_c505eb1206af4ff8b983ff733d14e48b"
          }
        },
        "d38d1510a4124087a974e0f87310fde6": {
          "model_module": "@jupyter-widgets/controls",
          "model_name": "ProgressStyleModel",
          "state": {
            "_view_name": "StyleView",
            "_model_name": "ProgressStyleModel",
            "description_width": "initial",
            "_view_module": "@jupyter-widgets/base",
            "_model_module_version": "1.5.0",
            "_view_count": null,
            "_view_module_version": "1.2.0",
            "bar_color": null,
            "_model_module": "@jupyter-widgets/controls"
          }
        },
        "e9ae32d124b344aba162e2867407b2ea": {
          "model_module": "@jupyter-widgets/base",
          "model_name": "LayoutModel",
          "state": {
            "_view_name": "LayoutView",
            "grid_template_rows": null,
            "right": null,
            "justify_content": null,
            "_view_module": "@jupyter-widgets/base",
            "overflow": null,
            "_model_module_version": "1.2.0",
            "_view_count": null,
            "flex_flow": null,
            "width": null,
            "min_width": null,
            "border": null,
            "align_items": null,
            "bottom": null,
            "_model_module": "@jupyter-widgets/base",
            "top": null,
            "grid_column": null,
            "overflow_y": null,
            "overflow_x": null,
            "grid_auto_flow": null,
            "grid_area": null,
            "grid_template_columns": null,
            "flex": null,
            "_model_name": "LayoutModel",
            "justify_items": null,
            "grid_row": null,
            "max_height": null,
            "align_content": null,
            "visibility": null,
            "align_self": null,
            "height": null,
            "min_height": null,
            "padding": null,
            "grid_auto_rows": null,
            "grid_gap": null,
            "max_width": null,
            "order": null,
            "_view_module_version": "1.2.0",
            "grid_template_areas": null,
            "object_position": null,
            "object_fit": null,
            "grid_auto_columns": null,
            "margin": null,
            "display": null,
            "left": null
          }
        },
        "3539629a06d34e2aba73487ff1ec17cc": {
          "model_module": "@jupyter-widgets/controls",
          "model_name": "DescriptionStyleModel",
          "state": {
            "_view_name": "StyleView",
            "_model_name": "DescriptionStyleModel",
            "description_width": "",
            "_view_module": "@jupyter-widgets/base",
            "_model_module_version": "1.5.0",
            "_view_count": null,
            "_view_module_version": "1.2.0",
            "_model_module": "@jupyter-widgets/controls"
          }
        },
        "c505eb1206af4ff8b983ff733d14e48b": {
          "model_module": "@jupyter-widgets/base",
          "model_name": "LayoutModel",
          "state": {
            "_view_name": "LayoutView",
            "grid_template_rows": null,
            "right": null,
            "justify_content": null,
            "_view_module": "@jupyter-widgets/base",
            "overflow": null,
            "_model_module_version": "1.2.0",
            "_view_count": null,
            "flex_flow": null,
            "width": null,
            "min_width": null,
            "border": null,
            "align_items": null,
            "bottom": null,
            "_model_module": "@jupyter-widgets/base",
            "top": null,
            "grid_column": null,
            "overflow_y": null,
            "overflow_x": null,
            "grid_auto_flow": null,
            "grid_area": null,
            "grid_template_columns": null,
            "flex": null,
            "_model_name": "LayoutModel",
            "justify_items": null,
            "grid_row": null,
            "max_height": null,
            "align_content": null,
            "visibility": null,
            "align_self": null,
            "height": null,
            "min_height": null,
            "padding": null,
            "grid_auto_rows": null,
            "grid_gap": null,
            "max_width": null,
            "order": null,
            "_view_module_version": "1.2.0",
            "grid_template_areas": null,
            "object_position": null,
            "object_fit": null,
            "grid_auto_columns": null,
            "margin": null,
            "display": null,
            "left": null
          }
        }
      }
    }
  },
  "cells": [
    {
      "cell_type": "markdown",
      "metadata": {
        "id": "view-in-github",
        "colab_type": "text"
      },
      "source": [
        "<a href=\"https://colab.research.google.com/github/dolmani38/Summary/blob/master/Korean_QA_on_Wiki.ipynb\" target=\"_parent\"><img src=\"https://colab.research.google.com/assets/colab-badge.svg\" alt=\"Open In Colab\"/></a>"
      ]
    },
    {
      "cell_type": "markdown",
      "metadata": {
        "id": "T6x4Nsa-fZkw"
      },
      "source": [
        "## Building a QA System with BERT on Wikipedia\r\n",
        "\r\n",
        "https://qa.fastforwardlabs.com/pytorch/hugging%20face/wikipedia/bert/transformers/2020/05/19/Getting_Started_with_QA.html"
      ]
    },
    {
      "cell_type": "markdown",
      "metadata": {
        "id": "SixlAqFJfbK9"
      },
      "source": [
        "위의 내용을 한국어 QA로 변경\r\n",
        "\r\n",
        "지식 base = wiki+네이버(view,kin,news)"
      ]
    },
    {
      "cell_type": "code",
      "metadata": {
        "colab": {
          "base_uri": "https://localhost:8080/"
        },
        "id": "1cKYlcdVfekg",
        "outputId": "3fdfacc1-5018-4a1f-a815-9523ea7f4a6f"
      },
      "source": [
        "!pip install transformers==3\r\n",
        "!pip install wikipedia\r\n",
        "!pip install sentence-transformers"
      ],
      "execution_count": 1,
      "outputs": [
        {
          "output_type": "stream",
          "text": [
            "Collecting transformers==3\n",
            "\u001b[?25l  Downloading https://files.pythonhosted.org/packages/9c/35/1c3f6e62d81f5f0daff1384e6d5e6c5758682a8357ebc765ece2b9def62b/transformers-3.0.0-py3-none-any.whl (754kB)\n",
            "\u001b[K     |████████████████████████████████| 757kB 4.2MB/s \n",
            "\u001b[?25hRequirement already satisfied: dataclasses; python_version < \"3.7\" in /usr/local/lib/python3.6/dist-packages (from transformers==3) (0.8)\n",
            "Requirement already satisfied: packaging in /usr/local/lib/python3.6/dist-packages (from transformers==3) (20.8)\n",
            "Requirement already satisfied: regex!=2019.12.17 in /usr/local/lib/python3.6/dist-packages (from transformers==3) (2019.12.20)\n",
            "Collecting tokenizers==0.8.0-rc4\n",
            "\u001b[?25l  Downloading https://files.pythonhosted.org/packages/e8/bd/e5abec46af977c8a1375c1dca7cb1e5b3ec392ef279067af7f6bc50491a0/tokenizers-0.8.0rc4-cp36-cp36m-manylinux1_x86_64.whl (3.0MB)\n",
            "\u001b[K     |████████████████████████████████| 3.0MB 39.9MB/s \n",
            "\u001b[?25hCollecting sacremoses\n",
            "\u001b[?25l  Downloading https://files.pythonhosted.org/packages/7d/34/09d19aff26edcc8eb2a01bed8e98f13a1537005d31e95233fd48216eed10/sacremoses-0.0.43.tar.gz (883kB)\n",
            "\u001b[K     |████████████████████████████████| 890kB 36.9MB/s \n",
            "\u001b[?25hRequirement already satisfied: tqdm>=4.27 in /usr/local/lib/python3.6/dist-packages (from transformers==3) (4.41.1)\n",
            "Requirement already satisfied: requests in /usr/local/lib/python3.6/dist-packages (from transformers==3) (2.23.0)\n",
            "Collecting sentencepiece\n",
            "\u001b[?25l  Downloading https://files.pythonhosted.org/packages/e5/2d/6d4ca4bef9a67070fa1cac508606328329152b1df10bdf31fb6e4e727894/sentencepiece-0.1.94-cp36-cp36m-manylinux2014_x86_64.whl (1.1MB)\n",
            "\u001b[K     |████████████████████████████████| 1.1MB 37.4MB/s \n",
            "\u001b[?25hRequirement already satisfied: filelock in /usr/local/lib/python3.6/dist-packages (from transformers==3) (3.0.12)\n",
            "Requirement already satisfied: numpy in /usr/local/lib/python3.6/dist-packages (from transformers==3) (1.19.4)\n",
            "Requirement already satisfied: pyparsing>=2.0.2 in /usr/local/lib/python3.6/dist-packages (from packaging->transformers==3) (2.4.7)\n",
            "Requirement already satisfied: six in /usr/local/lib/python3.6/dist-packages (from sacremoses->transformers==3) (1.15.0)\n",
            "Requirement already satisfied: click in /usr/local/lib/python3.6/dist-packages (from sacremoses->transformers==3) (7.1.2)\n",
            "Requirement already satisfied: joblib in /usr/local/lib/python3.6/dist-packages (from sacremoses->transformers==3) (1.0.0)\n",
            "Requirement already satisfied: chardet<4,>=3.0.2 in /usr/local/lib/python3.6/dist-packages (from requests->transformers==3) (3.0.4)\n",
            "Requirement already satisfied: idna<3,>=2.5 in /usr/local/lib/python3.6/dist-packages (from requests->transformers==3) (2.10)\n",
            "Requirement already satisfied: urllib3!=1.25.0,!=1.25.1,<1.26,>=1.21.1 in /usr/local/lib/python3.6/dist-packages (from requests->transformers==3) (1.24.3)\n",
            "Requirement already satisfied: certifi>=2017.4.17 in /usr/local/lib/python3.6/dist-packages (from requests->transformers==3) (2020.12.5)\n",
            "Building wheels for collected packages: sacremoses\n",
            "  Building wheel for sacremoses (setup.py) ... \u001b[?25l\u001b[?25hdone\n",
            "  Created wheel for sacremoses: filename=sacremoses-0.0.43-cp36-none-any.whl size=893261 sha256=715b729b206719ef262d581f371acbafffeb5297980d4b7d365551378d08fb34\n",
            "  Stored in directory: /root/.cache/pip/wheels/29/3c/fd/7ce5c3f0666dab31a50123635e6fb5e19ceb42ce38d4e58f45\n",
            "Successfully built sacremoses\n",
            "Installing collected packages: tokenizers, sacremoses, sentencepiece, transformers\n",
            "Successfully installed sacremoses-0.0.43 sentencepiece-0.1.94 tokenizers-0.8.0rc4 transformers-3.0.0\n",
            "Collecting wikipedia\n",
            "  Downloading https://files.pythonhosted.org/packages/67/35/25e68fbc99e672127cc6fbb14b8ec1ba3dfef035bf1e4c90f78f24a80b7d/wikipedia-1.4.0.tar.gz\n",
            "Requirement already satisfied: beautifulsoup4 in /usr/local/lib/python3.6/dist-packages (from wikipedia) (4.6.3)\n",
            "Requirement already satisfied: requests<3.0.0,>=2.0.0 in /usr/local/lib/python3.6/dist-packages (from wikipedia) (2.23.0)\n",
            "Requirement already satisfied: chardet<4,>=3.0.2 in /usr/local/lib/python3.6/dist-packages (from requests<3.0.0,>=2.0.0->wikipedia) (3.0.4)\n",
            "Requirement already satisfied: idna<3,>=2.5 in /usr/local/lib/python3.6/dist-packages (from requests<3.0.0,>=2.0.0->wikipedia) (2.10)\n",
            "Requirement already satisfied: urllib3!=1.25.0,!=1.25.1,<1.26,>=1.21.1 in /usr/local/lib/python3.6/dist-packages (from requests<3.0.0,>=2.0.0->wikipedia) (1.24.3)\n",
            "Requirement already satisfied: certifi>=2017.4.17 in /usr/local/lib/python3.6/dist-packages (from requests<3.0.0,>=2.0.0->wikipedia) (2020.12.5)\n",
            "Building wheels for collected packages: wikipedia\n",
            "  Building wheel for wikipedia (setup.py) ... \u001b[?25l\u001b[?25hdone\n",
            "  Created wheel for wikipedia: filename=wikipedia-1.4.0-cp36-none-any.whl size=11686 sha256=d0302eb491ffb99e2f12d854a0f78de2879dedf51901c26a936acb01d0748352\n",
            "  Stored in directory: /root/.cache/pip/wheels/87/2a/18/4e471fd96d12114d16fe4a446d00c3b38fb9efcb744bd31f4a\n",
            "Successfully built wikipedia\n",
            "Installing collected packages: wikipedia\n",
            "Successfully installed wikipedia-1.4.0\n",
            "Collecting sentence-transformers\n",
            "\u001b[?25l  Downloading https://files.pythonhosted.org/packages/f5/5a/6e41e8383913dd2ba923cdcd02be2e03911595f4d2f9de559ecbed80d2d3/sentence-transformers-0.3.9.tar.gz (64kB)\n",
            "\u001b[K     |████████████████████████████████| 71kB 3.5MB/s \n",
            "\u001b[?25hCollecting transformers<3.6.0,>=3.1.0\n",
            "\u001b[?25l  Downloading https://files.pythonhosted.org/packages/3a/83/e74092e7f24a08d751aa59b37a9fc572b2e4af3918cb66f7766c3affb1b4/transformers-3.5.1-py3-none-any.whl (1.3MB)\n",
            "\u001b[K     |████████████████████████████████| 1.3MB 7.8MB/s \n",
            "\u001b[?25hRequirement already satisfied: tqdm in /usr/local/lib/python3.6/dist-packages (from sentence-transformers) (4.41.1)\n",
            "Requirement already satisfied: torch>=1.6.0 in /usr/local/lib/python3.6/dist-packages (from sentence-transformers) (1.7.0+cu101)\n",
            "Requirement already satisfied: numpy in /usr/local/lib/python3.6/dist-packages (from sentence-transformers) (1.19.4)\n",
            "Requirement already satisfied: scikit-learn in /usr/local/lib/python3.6/dist-packages (from sentence-transformers) (0.22.2.post1)\n",
            "Requirement already satisfied: scipy in /usr/local/lib/python3.6/dist-packages (from sentence-transformers) (1.4.1)\n",
            "Requirement already satisfied: nltk in /usr/local/lib/python3.6/dist-packages (from sentence-transformers) (3.2.5)\n",
            "Requirement already satisfied: requests in /usr/local/lib/python3.6/dist-packages (from transformers<3.6.0,>=3.1.0->sentence-transformers) (2.23.0)\n",
            "Collecting tokenizers==0.9.3\n",
            "\u001b[?25l  Downloading https://files.pythonhosted.org/packages/4c/34/b39eb9994bc3c999270b69c9eea40ecc6f0e97991dba28282b9fd32d44ee/tokenizers-0.9.3-cp36-cp36m-manylinux1_x86_64.whl (2.9MB)\n",
            "\u001b[K     |████████████████████████████████| 2.9MB 38.8MB/s \n",
            "\u001b[?25hRequirement already satisfied: regex!=2019.12.17 in /usr/local/lib/python3.6/dist-packages (from transformers<3.6.0,>=3.1.0->sentence-transformers) (2019.12.20)\n",
            "Requirement already satisfied: packaging in /usr/local/lib/python3.6/dist-packages (from transformers<3.6.0,>=3.1.0->sentence-transformers) (20.8)\n",
            "Requirement already satisfied: sacremoses in /usr/local/lib/python3.6/dist-packages (from transformers<3.6.0,>=3.1.0->sentence-transformers) (0.0.43)\n",
            "Requirement already satisfied: dataclasses; python_version < \"3.7\" in /usr/local/lib/python3.6/dist-packages (from transformers<3.6.0,>=3.1.0->sentence-transformers) (0.8)\n",
            "Requirement already satisfied: protobuf in /usr/local/lib/python3.6/dist-packages (from transformers<3.6.0,>=3.1.0->sentence-transformers) (3.12.4)\n",
            "Collecting sentencepiece==0.1.91\n",
            "\u001b[?25l  Downloading https://files.pythonhosted.org/packages/d4/a4/d0a884c4300004a78cca907a6ff9a5e9fe4f090f5d95ab341c53d28cbc58/sentencepiece-0.1.91-cp36-cp36m-manylinux1_x86_64.whl (1.1MB)\n",
            "\u001b[K     |████████████████████████████████| 1.1MB 40.8MB/s \n",
            "\u001b[?25hRequirement already satisfied: filelock in /usr/local/lib/python3.6/dist-packages (from transformers<3.6.0,>=3.1.0->sentence-transformers) (3.0.12)\n",
            "Requirement already satisfied: future in /usr/local/lib/python3.6/dist-packages (from torch>=1.6.0->sentence-transformers) (0.16.0)\n",
            "Requirement already satisfied: typing-extensions in /usr/local/lib/python3.6/dist-packages (from torch>=1.6.0->sentence-transformers) (3.7.4.3)\n",
            "Requirement already satisfied: joblib>=0.11 in /usr/local/lib/python3.6/dist-packages (from scikit-learn->sentence-transformers) (1.0.0)\n",
            "Requirement already satisfied: six in /usr/local/lib/python3.6/dist-packages (from nltk->sentence-transformers) (1.15.0)\n",
            "Requirement already satisfied: chardet<4,>=3.0.2 in /usr/local/lib/python3.6/dist-packages (from requests->transformers<3.6.0,>=3.1.0->sentence-transformers) (3.0.4)\n",
            "Requirement already satisfied: certifi>=2017.4.17 in /usr/local/lib/python3.6/dist-packages (from requests->transformers<3.6.0,>=3.1.0->sentence-transformers) (2020.12.5)\n",
            "Requirement already satisfied: idna<3,>=2.5 in /usr/local/lib/python3.6/dist-packages (from requests->transformers<3.6.0,>=3.1.0->sentence-transformers) (2.10)\n",
            "Requirement already satisfied: urllib3!=1.25.0,!=1.25.1,<1.26,>=1.21.1 in /usr/local/lib/python3.6/dist-packages (from requests->transformers<3.6.0,>=3.1.0->sentence-transformers) (1.24.3)\n",
            "Requirement already satisfied: pyparsing>=2.0.2 in /usr/local/lib/python3.6/dist-packages (from packaging->transformers<3.6.0,>=3.1.0->sentence-transformers) (2.4.7)\n",
            "Requirement already satisfied: click in /usr/local/lib/python3.6/dist-packages (from sacremoses->transformers<3.6.0,>=3.1.0->sentence-transformers) (7.1.2)\n",
            "Requirement already satisfied: setuptools in /usr/local/lib/python3.6/dist-packages (from protobuf->transformers<3.6.0,>=3.1.0->sentence-transformers) (50.3.2)\n",
            "Building wheels for collected packages: sentence-transformers\n",
            "  Building wheel for sentence-transformers (setup.py) ... \u001b[?25l\u001b[?25hdone\n",
            "  Created wheel for sentence-transformers: filename=sentence_transformers-0.3.9-cp36-none-any.whl size=101035 sha256=9d8f96a2b7fd041ee89a96a2f41f31a32e4602f981736c57dc43d568699dd10e\n",
            "  Stored in directory: /root/.cache/pip/wheels/fc/89/43/f2f5bc00b03ef9724b0f6254a97eaf159a4c4ddc024b33e07a\n",
            "Successfully built sentence-transformers\n",
            "Installing collected packages: tokenizers, sentencepiece, transformers, sentence-transformers\n",
            "  Found existing installation: tokenizers 0.8.0rc4\n",
            "    Uninstalling tokenizers-0.8.0rc4:\n",
            "      Successfully uninstalled tokenizers-0.8.0rc4\n",
            "  Found existing installation: sentencepiece 0.1.94\n",
            "    Uninstalling sentencepiece-0.1.94:\n",
            "      Successfully uninstalled sentencepiece-0.1.94\n",
            "  Found existing installation: transformers 3.0.0\n",
            "    Uninstalling transformers-3.0.0:\n",
            "      Successfully uninstalled transformers-3.0.0\n",
            "Successfully installed sentence-transformers-0.3.9 sentencepiece-0.1.91 tokenizers-0.9.3 transformers-3.5.1\n"
          ],
          "name": "stdout"
        }
      ]
    },
    {
      "cell_type": "markdown",
      "metadata": {
        "id": "HtsH2Rm6VSMt"
      },
      "source": [
        "##한국어 SQUAD\r\n",
        "KorQuAD 2.0 사용 https://korquad.github.io/\r\n",
        "\r\n",
        "##영어 + 한국어 BERT 모델의 사용\r\n",
        "\r\n",
        "#Extending Sentence Embeddings Models to New Languages\r\n",
        "\r\n",
        "**Available Pre-trained Models**\r\n",
        "\r\n",
        "*   **distiluse-base-multilingual-cased**: Supported languages: Arabic, Chinese, Dutch, English, French, German, Italian, Korean, Polish, Portuguese, Russian, Spanish, Turkish. Model is based on DistilBERT-multi-lingual.\r\n",
        "*   **xlm-r-base-en-ko-nli-ststb**: Supported languages: English, Korean. Performance on Korean STSbenchmark: 81.47\r\n",
        "*   **xlm-r-large-en-ko-nli-ststb**: Supported languages: English, Korean. Performance on Korean STSbenchmark: 84.05 --> 이거 사용!\r\n",
        "\r\n",
        "\r\n",
        "참조:https://github.com/UKPLab/sentence-transformers/blob/master/docs/pretrained-models/multilingual-models.md\r\n",
        "\r\n"
      ]
    },
    {
      "cell_type": "code",
      "metadata": {
        "colab": {
          "base_uri": "https://localhost:8080/",
          "height": 289,
          "referenced_widgets": [
            "dcc4e1627f6e41b9bed7b83d9e5948da",
            "84f7e67624b143ad99d2519c88dff8d5",
            "8a4d0e679a304db781ae1de5fe2d2679",
            "d51dc51402c54f998dfb7fec6ceb68e2",
            "c7b47484014949cd975f2af8ba522f24",
            "49cb67d42d7340889864c04ff62a6bd8",
            "aabb077a15cb4fd6b68ef30fe2e89adb",
            "2c271a509f5344319ea922c11486d18c",
            "72eda016363b48d69f693757187002d9",
            "8f4e032c944649d2bfb1ae057e05bf0d",
            "0b3a2c0d84a44d7a9d2482b015093bea",
            "1d20f2184440466da21ffd7e45b2cb83",
            "71c53e1d2e26478baa01e3d431c63c9e",
            "6b5f3ee5bc0b436199ea54a84b8b322b",
            "ad77a77911df4b0d9672adde4548eb6a",
            "268ab7a949a546a8bbbd74e85012d423",
            "f3ce09ee6f0848b594a29ff552a43f70",
            "143af5e76bd84adfb7f759f4dace0921",
            "63950c818afd4ad8a83751ace60040ef",
            "ba99c742fbe14b15a0dd782bcb4181bb",
            "61664f34deff44e29c5eb980e2744a79",
            "e187665c6332430584481d027fefea5b",
            "7d9d38cb0a50447da9ef1dfc6a1c84c5",
            "643fad78f7cf45cf99fa1e66d3dbeeb9",
            "3ff02fc3b8d14369b68bdc936ae4f24a",
            "d7543b1dd1de449a837f57b00e43b0f7",
            "914b04e8c16e486c8c1c330e534e0637",
            "a6d256dfaf22406fb69cb0d7ddc8ea3f",
            "733f7f63b1144ae1a67928cca2df22c8",
            "e5738e5cdab24c38b40e2306ce4d0918",
            "ddc24824eca140a5916140414308345a",
            "1c53a94233274123a382e252179c7768",
            "5ec92dc9ac6845d78042444cc062ff1a",
            "d10c344e722d40be9b9d9209cc52051f",
            "0439c87f1f9d439e921f1555b8a5b4b8",
            "e3515348e105497aa0167b0bbad9533c",
            "d38d1510a4124087a974e0f87310fde6",
            "e9ae32d124b344aba162e2867407b2ea",
            "3539629a06d34e2aba73487ff1ec17cc",
            "c505eb1206af4ff8b983ff733d14e48b"
          ]
        },
        "id": "hwgl-wMvf13B",
        "outputId": "1083db7d-8264-49fe-e2cf-7891677764d5"
      },
      "source": [
        "from sentence_transformers import SentenceTransformer\r\n",
        "from transformers import AutoTokenizer, AutoModelForQuestionAnswering\r\n",
        "\r\n",
        "SQUAD_MODEL = \"monologg/koelectra-base-v3-finetuned-korquad\"\r\n",
        "STS_MODEL = \"xlm-r-large-en-ko-nli-ststb\"\r\n",
        "\r\n",
        "tokenizer = AutoTokenizer.from_pretrained(SQUAD_MODEL)\r\n",
        "model = AutoModelForQuestionAnswering.from_pretrained(SQUAD_MODEL)\r\n",
        "#reader = DocumentReader(SQUAD_MODEL) \r\n",
        "embedder = SentenceTransformer(STS_MODEL)"
      ],
      "execution_count": 2,
      "outputs": [
        {
          "output_type": "display_data",
          "data": {
            "application/vnd.jupyter.widget-view+json": {
              "model_id": "dcc4e1627f6e41b9bed7b83d9e5948da",
              "version_minor": 0,
              "version_major": 2
            },
            "text/plain": [
              "HBox(children=(FloatProgress(value=0.0, description='Downloading', max=591.0, style=ProgressStyle(description_…"
            ]
          },
          "metadata": {
            "tags": []
          }
        },
        {
          "output_type": "stream",
          "text": [
            "\n"
          ],
          "name": "stdout"
        },
        {
          "output_type": "display_data",
          "data": {
            "application/vnd.jupyter.widget-view+json": {
              "model_id": "72eda016363b48d69f693757187002d9",
              "version_minor": 0,
              "version_major": 2
            },
            "text/plain": [
              "HBox(children=(FloatProgress(value=0.0, description='Downloading', max=263327.0, style=ProgressStyle(descripti…"
            ]
          },
          "metadata": {
            "tags": []
          }
        },
        {
          "output_type": "stream",
          "text": [
            "\n"
          ],
          "name": "stdout"
        },
        {
          "output_type": "display_data",
          "data": {
            "application/vnd.jupyter.widget-view+json": {
              "model_id": "f3ce09ee6f0848b594a29ff552a43f70",
              "version_minor": 0,
              "version_major": 2
            },
            "text/plain": [
              "HBox(children=(FloatProgress(value=0.0, description='Downloading', max=112.0, style=ProgressStyle(description_…"
            ]
          },
          "metadata": {
            "tags": []
          }
        },
        {
          "output_type": "stream",
          "text": [
            "\n"
          ],
          "name": "stdout"
        },
        {
          "output_type": "display_data",
          "data": {
            "application/vnd.jupyter.widget-view+json": {
              "model_id": "3ff02fc3b8d14369b68bdc936ae4f24a",
              "version_minor": 0,
              "version_major": 2
            },
            "text/plain": [
              "HBox(children=(FloatProgress(value=0.0, description='Downloading', max=111.0, style=ProgressStyle(description_…"
            ]
          },
          "metadata": {
            "tags": []
          }
        },
        {
          "output_type": "stream",
          "text": [
            "\n"
          ],
          "name": "stdout"
        },
        {
          "output_type": "display_data",
          "data": {
            "application/vnd.jupyter.widget-view+json": {
              "model_id": "5ec92dc9ac6845d78042444cc062ff1a",
              "version_minor": 0,
              "version_major": 2
            },
            "text/plain": [
              "HBox(children=(FloatProgress(value=0.0, description='Downloading', max=449418935.0, style=ProgressStyle(descri…"
            ]
          },
          "metadata": {
            "tags": []
          }
        },
        {
          "output_type": "stream",
          "text": [
            "\n"
          ],
          "name": "stdout"
        },
        {
          "output_type": "stream",
          "text": [
            "100%|██████████| 1.80G/1.80G [05:38<00:00, 5.30MB/s]\n"
          ],
          "name": "stderr"
        }
      ]
    },
    {
      "cell_type": "code",
      "metadata": {
        "id": "msXss3LjHNCD"
      },
      "source": [
        "class AnswerVoter:\r\n",
        "  def __init__(self, threshold_score=3,max_rank=2):\r\n",
        "    self.answes = {}\r\n",
        "    self.threshold_score= threshold_score\r\n",
        "    self.max_rank = max_rank\r\n",
        "\r\n",
        "  def add_ans(self,ans,score,src=''):\r\n",
        "    key = ans.replace(' ','')\r\n",
        "    if score > self.threshold_score:\r\n",
        "      print(' --- Candidate answer:',ans,score)\r\n",
        "      if key in self.answes:\r\n",
        "        self.answes[key][1] += score\r\n",
        "        if src in self.answes[key][2]:\r\n",
        "          pass\r\n",
        "        else:\r\n",
        "          self.answes[key][2].append(src)\r\n",
        "      else:\r\n",
        "        self.answes[key] = [ans,score,[src]]\r\n",
        "\r\n",
        "  def get_ans(self):\r\n",
        "    answer = []\r\n",
        "    sorted_x = sorted(self.answes.items(), key=lambda kv: kv[1][1],reverse=True)\r\n",
        "    for i in range(min(self.max_rank,len(sorted_x))):\r\n",
        "      answer.append(sorted_x[i])\r\n",
        "\r\n",
        "    return answer\r\n",
        "\r\n",
        "  def print(self):\r\n",
        "    answer = self.get_ans()\r\n",
        "    for ans in answer:\r\n",
        "      print('Answer:',ans[1][0], ' score:',ans[1][1], ' source:',ans[1][2])\r\n",
        "      #print('Answer:',ans)"
      ],
      "execution_count": 37,
      "outputs": []
    },
    {
      "cell_type": "code",
      "metadata": {
        "id": "CuJx_UnCJ_5f",
        "outputId": "901a37b4-2db4-4fca-bbe6-d4f7234fff8b",
        "colab": {
          "base_uri": "https://localhost:8080/"
        }
      },
      "source": [
        "av = AnswerVoter()\r\n",
        "\r\n",
        "av.add_ans('8명',4.2,'aaaaa')\r\n",
        "av.add_ans('8 명',4.5,'bbbb')\r\n",
        "av.add_ans('18명',3.5)\r\n",
        "av.add_ans('18 명',3.1)\r\n",
        "av.add_ans('118명',3.1)\r\n",
        "av.add_ans('118 명',3.0)\r\n",
        "\r\n",
        "#ans = av.get_ans()\r\n",
        "\r\n",
        "av.print()"
      ],
      "execution_count": 38,
      "outputs": [
        {
          "output_type": "stream",
          "text": [
            " --- Candidate answer: 8명 4.2\n",
            " --- Candidate answer: 8 명 4.5\n",
            " --- Candidate answer: 18명 3.5\n",
            " --- Candidate answer: 18 명 3.1\n",
            " --- Candidate answer: 118명 3.1\n",
            "Answer: 8명  score: 8.7  source: ['aaaaa', 'bbbb']\n",
            "Answer: 18명  score: 6.6  source: ['']\n"
          ],
          "name": "stdout"
        }
      ]
    },
    {
      "cell_type": "code",
      "metadata": {
        "id": "Q8Q6ylSQ073J"
      },
      "source": [
        "import wikipedia as wiki\r\n",
        "import pprint as pp\r\n",
        "from collections import OrderedDict\r\n",
        "\r\n",
        "class DocumentReader:\r\n",
        "    def __init__(self, _tokenizer, _model):\r\n",
        "        #self.READER_PATH = pretrained_model_name_or_path\r\n",
        "        self.tokenizer = _tokenizer #AutoTokenizer.from_pretrained(self.READER_PATH)\r\n",
        "        self.model = _model #AutoModelForQuestionAnswering.from_pretrained(self.READER_PATH)\r\n",
        "        self.max_len = self.model.config.max_position_embeddings\r\n",
        "        self.chunked = False\r\n",
        "\r\n",
        "    def tokenize(self, question, text):\r\n",
        "        self.inputs = self.tokenizer.encode_plus(question, text, add_special_tokens=True, return_tensors=\"pt\")\r\n",
        "        self.input_ids = self.inputs[\"input_ids\"].tolist()[0]\r\n",
        "\r\n",
        "        if len(self.input_ids) > self.max_len:\r\n",
        "            self.inputs = self.chunkify()\r\n",
        "            self.chunked = True\r\n",
        "\r\n",
        "    def chunkify(self):\r\n",
        "        \"\"\" \r\n",
        "        Break up a long article into chunks that fit within the max token\r\n",
        "        requirement for that Transformer model. \r\n",
        "\r\n",
        "        Calls to BERT / RoBERTa / ALBERT require the following format:\r\n",
        "        [CLS] question tokens [SEP] context tokens [SEP].\r\n",
        "        \"\"\"\r\n",
        "\r\n",
        "        # create question mask based on token_type_ids\r\n",
        "        # value is 0 for question tokens, 1 for context tokens\r\n",
        "        qmask = self.inputs['token_type_ids'].lt(1)\r\n",
        "        qt = torch.masked_select(self.inputs['input_ids'], qmask)\r\n",
        "        chunk_size = self.max_len - qt.size()[0] - 1 # the \"-1\" accounts for\r\n",
        "        # having to add an ending [SEP] token to the end\r\n",
        "\r\n",
        "        # create a dict of dicts; each sub-dict mimics the structure of pre-chunked model input\r\n",
        "        chunked_input = OrderedDict()\r\n",
        "        for k,v in self.inputs.items():\r\n",
        "            q = torch.masked_select(v, qmask)\r\n",
        "            c = torch.masked_select(v, ~qmask)\r\n",
        "            chunks = torch.split(c, chunk_size)\r\n",
        "            \r\n",
        "            for i, chunk in enumerate(chunks):\r\n",
        "                if i not in chunked_input:\r\n",
        "                    chunked_input[i] = {}\r\n",
        "\r\n",
        "                thing = torch.cat((q, chunk))\r\n",
        "                if i != len(chunks)-1:\r\n",
        "                    if k == 'input_ids':\r\n",
        "                        thing = torch.cat((thing, torch.tensor([102])))\r\n",
        "                    else:\r\n",
        "                        thing = torch.cat((thing, torch.tensor([1])))\r\n",
        "\r\n",
        "                chunked_input[i][k] = torch.unsqueeze(thing, dim=0)\r\n",
        "        return chunked_input\r\n",
        "\r\n",
        "    def get_answer(self,answer,src):\r\n",
        "        if self.chunked:\r\n",
        "            \r\n",
        "            for k, chunk in self.inputs.items():\r\n",
        "                answer_start_scores, answer_end_scores = self.model(**chunk)\r\n",
        "\r\n",
        "                answer_start = torch.argmax(answer_start_scores)\r\n",
        "                answer_end = torch.argmax(answer_end_scores) + 1\r\n",
        "                ans = self.convert_ids_to_string(chunk['input_ids'][0][answer_start:answer_end])\r\n",
        "                if ans.startswith(('[CLS]','[SEP]',' ','°')) or ans=='':\r\n",
        "                    #raise Exception('No Answer')\r\n",
        "                    pass\r\n",
        "                else:\r\n",
        "                    score = float(torch.max(answer_start_scores))\r\n",
        "                    #print(ans,score)\r\n",
        "                    answer.add_ans(ans,score,src)\r\n",
        "                    #answer += ans + ', '\r\n",
        "                    #print(ans,torch.max(answer_start_scores),torch.max(answer_end_scores))\r\n",
        "                    #break\r\n",
        "        else:\r\n",
        "            answer_start_scores, answer_end_scores = self.model(**self.inputs)\r\n",
        "\r\n",
        "            answer_start = torch.argmax(answer_start_scores)  # get the most likely beginning of answer with the argmax of the score\r\n",
        "            answer_end = torch.argmax(answer_end_scores) + 1  # get the most likely end of answer with the argmax of the score\r\n",
        "        \r\n",
        "            ans = self.convert_ids_to_string(self.inputs['input_ids'][0][\r\n",
        "                                              answer_start:answer_end])\r\n",
        "            \r\n",
        "            if ans in ['',' ','  ']:\r\n",
        "              pass\r\n",
        "            else:\r\n",
        "              score = float(torch.max(answer_start_scores))\r\n",
        "              #print(ans,score)\r\n",
        "              answer.add_ans(ans,score,src)\r\n",
        "        if len(answer) == 0:\r\n",
        "          raise Error(\"No Answer\") \r\n",
        "        return answer\r\n",
        "        \r\n",
        "    def convert_ids_to_string(self, input_ids):\r\n",
        "        return self.tokenizer.convert_tokens_to_string(self.tokenizer.convert_ids_to_tokens(input_ids))"
      ],
      "execution_count": 39,
      "outputs": []
    },
    {
      "cell_type": "code",
      "metadata": {
        "id": "_tD9xyTjf_AD"
      },
      "source": [
        "import torch\r\n",
        "from transformers import AutoTokenizer, AutoModelForQuestionAnswering\r\n",
        "import wikipedia as wiki\r\n",
        "import pprint as pp\r\n",
        "from collections import OrderedDict\r\n",
        "import scipy\r\n",
        "import requests\r\n",
        "from bs4 import BeautifulSoup\r\n",
        "\r\n",
        "class Korean_QA_on_Wiki:\r\n",
        "  def __init__(self, document_reader,sentence_embedder):\r\n",
        "    self.reader = document_reader\r\n",
        "    self.embedder = sentence_embedder\r\n",
        "    wiki.set_lang('ko')\r\n",
        "\r\n",
        "  def __search_from_wiki(self,question,max_rank):\r\n",
        "    results = wiki.search(question,results=max_rank)\r\n",
        "    contents = []\r\n",
        "    for result in results:\r\n",
        "      try:\r\n",
        "        page = wiki.page(result)\r\n",
        "        #print(f\"Top wiki result: {page}\")\r\n",
        "        text = page.content\r\n",
        "        contents.append((text,page))\r\n",
        "      except Exception as ex:\r\n",
        "        print(ex)\r\n",
        "    return contents\r\n",
        "\r\n",
        "  def __search_from_naver(self,question,max_rank):\r\n",
        "    contents = []\r\n",
        "    url = 'https://search.naver.com/search.naver'\r\n",
        "    for w in ['view','kin','news']:\r\n",
        "      params = {'query': question,'where': w,}\r\n",
        "      response = requests.get(url, params=params)\r\n",
        "      html = response.text\r\n",
        "      #뷰티풀소프의 인자값 지정\r\n",
        "      soup = BeautifulSoup(html, 'html.parser')\r\n",
        "      #쪼개기\r\n",
        "      #title_list = soup.find_all('a', href=True)\r\n",
        "      title_list = soup.select('.api_txt_lines')\r\n",
        "      #print(title_list)\r\n",
        "      tmp = []\r\n",
        "      for tag in title_list:\r\n",
        "        tmp.append(tag.text)\r\n",
        "      contents.append((''.join(tmp),url + '?where='+w))\r\n",
        "      tmp.clear()\r\n",
        "    #print(contents)      \r\n",
        "    return contents\r\n",
        "\r\n",
        "\r\n",
        "\r\n",
        "  def question(self, questions, max_rank = 5):\r\n",
        "    answers = {}\r\n",
        "    for question in questions:\r\n",
        "        print(f\"Question: {question}\")\r\n",
        "        contents = []\r\n",
        "        contents.extend(self.__search_from_wiki(question,max_rank))\r\n",
        "        contents.extend(self.__search_from_naver(question,max_rank))\r\n",
        "        print('-- Source count : ', len(contents))\r\n",
        "        corpus_embeddings = self.embedder.encode([a for (a,b) in contents],show_progress_bar=False) \r\n",
        "        query_embeddings = self.embedder.encode([question])\r\n",
        "        distances = scipy.spatial.distance.cdist(query_embeddings, corpus_embeddings, \"cosine\")[0]\r\n",
        "\r\n",
        "        results = zip(range(len(distances)), distances)\r\n",
        "        results = sorted(results, key=lambda x: x[1])\r\n",
        "        answer = AnswerVoter()\r\n",
        "        for idx, distance in results:\r\n",
        "            text = contents[idx][0]\r\n",
        "            print('-- source :', contents[idx][1])\r\n",
        "            try:\r\n",
        "                self.reader.tokenize(question, text)\r\n",
        "                self.reader.get_answer(answer,contents[idx][1])\r\n",
        "                #answer.add_src(contents[idx][1])\r\n",
        "                #t = (self.reader.get_answer(answer),contents[idx][1])\r\n",
        "                #print(f\"Answer: {t[0]}\", f\" from {t[1]}\")\r\n",
        "                #answer_list.append(t)\r\n",
        "                \r\n",
        "            except Exception as ex:\r\n",
        "                pass    \r\n",
        "        answers[question] = answer.get_ans()\r\n",
        "        answer.print()\r\n",
        "        print(' ')\r\n",
        "    return answers\r\n"
      ],
      "execution_count": 44,
      "outputs": []
    },
    {
      "cell_type": "code",
      "metadata": {
        "id": "r5Uu_CZhgFVk"
      },
      "source": [
        "kqaw = Korean_QA_on_Wiki(DocumentReader(tokenizer,model),embedder)"
      ],
      "execution_count": 45,
      "outputs": []
    },
    {
      "cell_type": "code",
      "metadata": {
        "colab": {
          "base_uri": "https://localhost:8080/"
        },
        "id": "rCnEX6uzgHn5",
        "outputId": "ba81bde1-18a0-417c-dcc9-9818d78bb94b"
      },
      "source": [
        "answers = kqaw.question([\"북한에서 실질적인 권력자는 누구인가?\",\r\n",
        "                           \"세계에서 가장 넓은 호수는?\",\r\n",
        "                           \"오로라가 가장 잘 보이는 곳은?\",\r\n",
        "                           \"심장이 죄어오듯이 아프면 의심되는 병은 무엇인가?\",\r\n",
        "                           \"항문에서 피가 나는 병은 무엇인가?\",\r\n",
        "                           \"김재규는 박정희를 왜 죽였는가?\",\r\n",
        "                           \"케네디를 죽인 암살범은 누구인가?\",\r\n",
        "                           \"술 취하지 않는 방법은?\",\r\n",
        "                           \"사람을 사랑해서 생기는 병은?\",\r\n",
        "                           \"부모는 자식을 왜 사랑하는가?\",\r\n",
        "                           \"나의 와이프는 나를 사랑하는가?\",\r\n",
        "                           \"신은 존재 하는가?\",\r\n",
        "                           \"사람의 인생에서 가장 소중한 것은 무엇인가?\",\r\n",
        "                           \"바람난 여자는 다시 돌아올 수 있는가?\",\r\n",
        "                           \"위가 쓰리고 아플 때 어떤 약을 복용해야 하는가?\",\r\n",
        "                           \"눈알이 빠지면 어떻게 되는가?\"])"
      ],
      "execution_count": 6,
      "outputs": [
        {
          "output_type": "stream",
          "text": [
            "Question: 북한에서 실질적인 권력자는 누구인가?\n",
            "Answer: 누군가요 ? . . . 김정은은 그냥 얼굴마담인가요 ? 그럼 실질적인 북한권력의 주인이 누군가요 ? 김일성의 모습과 말투를 따라하는 김정은은 그냥 권력의 끝자락을 쥐고 있는 젊은이일 뿐인가요 ? 지금 북한의 권력구조에 대해 정통한 분 . . . 알려주세요 . . 북한의 실질적인 권력자가 누구인지 ? ? 언론 이나 관계기관의 발표 등을 종합해 볼 때 현재로서는 북한의 최고 권력자는 김정일의 대를 이은 김정은이라고 봐야 할 것입니다 . 김정은은 김정일 사망 후 권력을 인계받은 수 8개월동안 권력 안정화 작업을 진행중에 있으며 나름대로 성과를 거두고 있는것으로 알려지고 있습니다 . 그 . . . 6 . 25전쟁과 북한에 관한 건데요 . . . . 그리고 서울1945를 보면서 그 누구더라 그사람이 죽자 최운혁이 괴로워하면서 북으로 넘어갔는데 아 몽양 은 생각나는데 하여튼, 훅스, 원의,   from https://search.naver.com/search.naver?where=kin\n",
            "Answer: 김정은, 김정일,   from https://search.naver.com/search.naver?where=news\n",
            "Answer: 박정희, 박상희, 대통령,   from <WikipediaPage '박정희'>\n",
            "Answer: 김정일, 장성택,   from <WikipediaPage '장성택'>\n",
            "Answer: 이미, 김일성, 만주 빨치산 출신자들이, 김일성, 김용범, 김일성, 김일성, 김일성, 간혹,   from <WikipediaPage '김일성'>\n",
            "Answer: 반드시 법적 책임을 져야 할 것 ” 이라고 경고했다 . 박지원 의원 측은 박 대표 개인 소셜미디어 계정에 “ 가짜뉴스 프레임으로 진실을 덮을 수 없음을 경고한다 ” 는 국민의당 논평을 공유했다 . 또한 국민의당 측은 4 . 17 오거돈 부산 상임선대위원장 발언 녹취록을 공개했다 . 이 녹취록에 대해 문 후보 선대위의 홍익표 수석대변인은 \" 국민의당이 공개한 동영상은 4월 17일의 영상이다 . 세월호의 본 인양 작업이 시작된 것은 3월 22일 , 세월호의 육상 거치 작업이 마무리된 날짜는 4월 11일로 , 4월 17일 녹화된 영상은 세월호가 인양되고 난 이후라는 말씀을 우선 드린다 \" 고 밝혔다 . 2017년 5월 3일 , SBS 김성준 보도본부장이 세월호 인양 관련 의혹 보도에 대해 사과했다 . 김성준 보도본부장은 3일 공식 보도자료를 통해 “ 세월호 가족과 더불어민주당 문재인 후보 , 그리고 시청자 여러분께 진심으로 사과드린다 ” 고 밝혔다 . 한편 전국언론노조 SBS본부 측이 SBS 보도와 관련해 성명을 냈다 . 노조는 자체적으로 해당 기사의 취재 경위와 교정 이력 등을 확인했다고 밝혔다 . 초고 때 담겼던 박근혜 정권 시절 인양 지원과 눈치 보기를 지적하는 문장과 인터뷰가 데스킹 과정에서 즉 , 담당부장이 기사를 고치는 과정에서 통째로 삭제됐다고 했다 . 또 제목도 당초 ' 인양 고의 지연 의혹 , 다음달 본격 조사 ' 에서 ' 차기 정권과 거래 ? 인양 지연 의혹 조사 ' 라는 자극적 내용으로 변경됐다고 했다 . 노조는 기사에 등장하는 공무원에 대해서도 확인한 결과 , 해수부 소속은 맞 °, 노무현, 이미, 이미,   from <WikipediaPage '문재인에 대한 비판'>\n",
            "Answer: 김정은, 리병철, 영주, 부시, 폭력,   from https://search.naver.com/search.naver?where=view\n",
            " \n",
            "Question: 세계에서 가장 넓은 호수는?\n",
            "Answer: 카스피해, 슈피리어 ( Superior ) 호수, 비와호,   from https://search.naver.com/search.naver?where=kin\n",
            "Answer: 슈피리어, 바이칼 호는 세계에서 가장 넓은 호수가 되지 . . . ' Go Go 카카오프렌즈 17 . 러시아 편 ' 세계에서 가장 큰 러시아 역사 문화 속으로 고고 ! ! ^ - ^ 베트남에서 무사히 퍼즐을 저장한 카카오프렌즈는 이제 세계에서 가장 넓은 러시아로 여행을 떠나게 . . . 차이콥스키의 ' 백조의 호수 ' 이야기에 맞춰 발레를 하는 모습이 정말 우스꽝스럽네요 . ㅎㅎ 딸램이 깔깔거리며 . . . 하나투어와 환바이칼 열차를 타고 지구의 푸른눈 , 세계의 저수지 바이칼호수 알혼섬의 신비속으로 . . . 세계에서 가장 넓은 호수인 바이칼 호수, 일산 호수,   from https://search.naver.com/search.naver?where=view\n",
            "Answer: 티베트 자치구 남초 호, 차르한 염호,   from <WikipediaPage '염호'>\n",
            "Answer: 카스피 해, 탕가니카 호수,   from <WikipediaPage '호수'>\n",
            "Answer: 보스토크호,   from <WikipediaPage '보스토크호'>\n",
            "Answer: 탈레너이 호수 . 탈레너이 호수,   from https://search.naver.com/search.naver?where=news\n",
            "Answer: 바이칼 호, 중국,   from <WikipediaPage '아시아'>\n",
            "Answer: 나일강, 나세르 호,   from <WikipediaPage '나일강'>\n",
            "Answer: 티티카카 호,   from <WikipediaPage '남아메리카'>\n",
            " \n",
            "Question: 오로라가 가장 잘 보이는 곳은?\n",
            "Answer: 계란형 지대, 계란형 지대, 계란형 지대,   from https://search.naver.com/search.naver?where=kin\n",
            "Answer: 일본,   from https://search.naver.com/search.naver?where=news\n",
            "Answer: [UNK] line, 약간, 이미,   from <WikipediaPage '지구 대기권'>\n",
            "Answer: 목성의 양극, 적어도, 최소, 종종, 적도 지역, 이오의 자기장 ( 영어 ) 이오의 최소 표면 온도 수수께끼 ( 영어 ) 이오의 산 데이터베이스 ( 영어 ) 카시니 호에 의해 관측된 이오의 오로라 연구 ( 영어 ) 제이슨 페리 이오,   from <WikipediaPage '이오 (위성)'>\n",
            "Answer: 남극및 북극 양극지방,   from <WikipediaPage '오로라'>\n",
            "Answer: 북극권,   from <WikipediaPage '흑점'>\n",
            "Answer: 아이슬란드 , 그린란드 , 핀란드, 옐로나이프, 아이슬란드의 남부 지방,   from https://search.naver.com/search.naver?where=view\n",
            "Answer: 지구의 중위도나 고위도,   from <WikipediaPage '태양'>\n",
            "Answer: 지구상에서는 단지 소행성 형태의 천체로만 보인다 . 하지만 , 혜성이 태양에 가까이 오면 , 태양으로부터 복사되는 열에 의해 그 표면이 증발하기 시작한다 . 증발된 가스와 먼지는 매우 크고 희박한 대기가 되어 핵의 주위를 구형으로 감싸게 되는데 , 이를 ' 코마 ' 라 부른다 . 그리고 , 태양으로부터의 복사 압력과 태양풍에 의해 , 태양과 반대쪽 방향으로 꼬리가 만들어진다 °,   from <WikipediaPage '혜성'>\n",
            " \n",
            "Question: 심장이 죄어오듯이 아프면 의심되는 병은 무엇인가?\n",
            "Answer: 류마티스 관절염, 급성심근경색, 여성질환, 갑상선 질환, 입원뇌수막염,   from https://search.naver.com/search.naver?where=view\n",
            "Answer: 다소, 조현병, 조현병,   from <WikipediaPage '조현병'>\n",
            "Answer: 가끔, 절대로, 가끔씩 카테리나의 부탁을 받아 임무에 투입되기도 한다 . 수녀답지 않게 굉장히 요염하고 아름다우며 , 성격 역시 도발적이면서도 상냥하고 자애로운 성격 . 아벨에게 강한 연정을 품고 있었지만 , 그럴 때마다 늘 그의 마음 속에 있는 너무나도 슬프고 침침한 어둠을 봐야 했기 때문에 그의 어둠을 품어줄 만한 자신이 없어서 결국 아벨을 포기했다 . 고향 카탈루니아에서 , 이자크가 일으킨 ' 사일런트 노이즈 ' 사건을 조사하기 위해 아벨과 같이 임무에 파견되었으나 결국 ' 사일런트 노이즈 ' 로 인한 도시 붕괴로 인해 건물이 무너져 그 안에서 안타깝게 사망함 . 기술 엔파시 ( empathy ) : 노엘이 지닌 특수 능력 , 눈을 감고 정신을 집중하면 타인의 감정이나 정신 상태를 ' 색깔 ' 로 구분해 볼 수 있다 . 인간이 남기고 간 흔적을 빠짐없이 조사가 가능하며 , 사람이 없는 사무실에서도 여기서 어떤 일이 있었는지 대강 알아낼 수 있는 신비한 능력 , 노엘은 이 능력으로 인해 정탐이나 은신 , 조사 , 수색 계열 임무에서는 스페셜리스트로 통한다 . = = = 교황청 교리성성 이단심문국 = = = 프란체스코 디 메디치 ( Franchesco Di Medichi ) 성우 : 코스기 쥬로타 / 정승욱 교황청 교리성성 장관 . 추기경으로 피렌체 공 . 교황청의 내정 , 신앙 , 국방을 사실상 관리하고 있는 인물이며 , 전임 교황 그레고리오 30세와 하급 기사의 아내 사이에서 태어난 사생아로 알렉산데르와 카테리나의 이복 형 ( 오빠 ) 에 해당된다 . 정의를 이상 °, 아예, 가끔,   from <WikipediaPage '트리니티 블러드'>\n",
            "Answer: 최소 연령 ( 32세 ) 바로 위였기에 대단한 영예이었다 . 이는 그의 아버지가 통치 중인 플라비우스 왕조의 성장에 도움이 됐던 , 아버지 경력의 유명세 덕으로 인하여 , 집정관 계급에 오르게 됐고 파트리키가 되었다는 것으로 설명될 수 있다 . 이 시기 무렵에 , 트라야누스는 다마스쿠스의 아폴로도루스와 같이 로마로 복귀했고 또한 님에 있는 로마 정착지 출신 귀족 여성 폼페이아 플로티나와 혼인했으며 , 이 결혼에서 끝내 자식은 없었다 . 트라야누스가 동성애 쪽 성향이 있다는 것이 율리아누스와 카시우스 디오 같은 작가들에게 언급되었다 . 트라야누스의 추정상 연인들로는 하드리아누스 , 궁정의 하인들 , 배우 필라데스 ( Pylades ) , 아폴라우스투스 ( Apolaustus ) 라는 무용수 , 원로원 의원 루키우스 리키니우스 수라 등이 있었다 . 트라야누스의 군사 경력에 대한 상세 정보가 불명확함에 따라 , 89년에 그가 히스파니아 타라코넨시스의 게미나 제7군단의 레가투스로 있던 시절에 쿠데타 시도가 일어났을 때 도미티아누스를 지지한 것만 알려져 있다 . 이후 , 91년에 집정관직 ( 아킬리우스 글라브리오와 수행했으며 , 집정관 두 명이 통치 왕조 출신이 모두 아니었던 , 당시에 드문 집정관 조합이었다 ) 을 마친 후 , 그는 판노니아나 게르마니아 수페리오르 – 혹은 두 지역의 충독으로서 일부가 불명확한 집정관직 임무를 맡았다 . 의도적으로 트라야누스와 \" 폭군 \" 도미티아누스 간 개인적 연관성을 강조할 수도 있는 상세한 정보들을 제공하는 걸 피하려한 것 같은 플리니우스는 당시에 여러가지 ( 불분명한 ) 군사적 위업을 트라야누스에게 돌렸다 . 도미티아누스의 후임인 네르바는 군대의 지지를 얻지 못했고 친위대 사령관 카스페리우스 아일리아누스에게 도미티아누스의 살인자들에 대한 처형을 °, 이미 계획됐던 , 많은 수의 저명한 동방 인사들을 원로원으로 들였다는 것도 언급되어야하는 점이다 . 이 경우에는 ( 한 비문에 의하면 ) 몇몇 헬레니즘 왕조들과 종속국 왕들의 후손이자 \" 그리스 지역 사회의 지도자 \" 인 가이우스 율리우스 세베루스 및 갈라티아의 유명 인사들이 그랬을 것이다 . 세베루스는 105년에 집정관이기도 했던 저명한 장군인 가이우스 율리우스 콰드라투스 바수스의 조부였다 . 다른 저명한 동방의 원로원 의원에는 헤로데 대왕의 후손이자 116년에 부집정관인 가이우스 율리우스 알렉산데르 베레니키아누스가 있었다 . 트라야누스는 제국의 절반인 그리스어 화자 지역에서 최소한 14개의 원로원 의원을 만들어냈으며 , 이런 전례가 없는 모집 인원 수는 그의 재위 기간에 \" 전통적 로마인 \" 이라는 성격과 그의 후임자 하드리아누스의 \" 그리스적 \" 성격에 대한 문제의 의구심이라는 문제를 재기했다 . 그러나 당시 트라야누스의 새로운 동방 출신 의원들은 지역적 영향력보다는 대부분 아주 강력 °, 순전히, 최소한, 열사병, 심지어,   from <WikipediaPage '트라야누스'>\n",
            "Answer: 절대로, 이미, 최소한,   from <WikipediaPage '사진 신부'>\n",
            "Answer: 심장마비, 어쩔, 이미,   from <WikipediaPage '4.19 혁명'>\n",
            "Answer: 순전히, 오직, 이미, 오직 주님께 맡기고 가겠습니다 . 우리 민족이 굳세게 서서 국방에서나 경제에서나 다시는 노예의 멍에를 메지 않게 해 주시옵소서 . \" \" 잃었던 나라의 독립을 다시 찾는 일이 얼마나 어렵고 힘들었는지 우리 국민은 알아야 하며 불행했던 과거사를 거울삼아 다시는 어떤 종류의 것이든 노예의 멍에를 매지 않도록 해야 한다 . 이것이 내가 우리 민족에게 주는 유언이다 . \" = = = 장례 = = = 서거 직후 데스 마스크를 만든 뒤 유해는 전 주한 미군 사령관 벤프리트 장군이 마련한 특별비행기편으로 하와이 호놀룰루를 출발하였다 . 1965년 7월 23일 오후 3시 미 공군 수송기가 ' 고향생각 ' 이 연주되는 가운데 이승만의 유해를 운구하여 김포공항에 도착하였다 . 박정희 대통령은 이효상 국회의장 , 조진만 대법원장 , 정일권 국무총리 등 3부 요인들을 대동하고 공항으로 나가 시신을 영접하였다 . 그밖에 내외 귀빈으로 윤보선 , 허정 , 장면 , 윤치영 , 이범석 , 장택상 등이 김포공항에 나와 이승만의 시신을 영접했다 . 허정이 직접 지은 추도사를 낭독하였다 . 이승만의 시신이 운구되자 민중당 대변인 김영삼은 ' 적잖은 정치적 과오가 있으나 평생을 조국의 독립투쟁에 몸바쳐왔으며 , 초대 대통령을 지냈다는 것을 감안하여 전 국민과 더불어 깊은 애도의 뜻을 표한다는 애도성명서를 발표하였다 . 1965년 7월 20일 박정희는 이승만의 장례를 국민장으로 결정하였으나 , 이승만의 문중 사람들과 이승만 측근들은 정부의 국민장 결정은 이승만에 대한 홀대라고 생각했다 . 7월 22일 시신을 영접한 허정 , 윤치 °, 심지어, 기꺼이,   from <WikipediaPage '이승만'>\n",
            "Answer: 일편단심이었다 . 지훈 뿐만 아니라 해준의 모습으로 나타난 영수도 끊임 없이 밀어내고 죽은 남편을 그리워한다 . 사실 해준에게 몇 번 흔들렸던 것도 그의 모습에서 생전 영수의 모습이 겹쳐보이거나 떠올랐기 때문 . 결국 영수가 떠날 때가 되었을 때 그의 정체를 직감하고 뒤에서 끌어안아며 ' 수고했어요 , 오늘도 ' 라고 말하며 보내준다 . 숨겨진 과거 고아원으로 가기 전 오빠가 있었다 . 오빠는 어쩔,   from <WikipediaPage '돌아와요 아저씨'>\n",
            "Answer: 친일 행위, 아연실색, 신병, 감히 손을 못대도록 만드는 방법이었다 \" 고 분석했다 . 실제로 해방 이후 , 송진우 , 김성수를 비롯한 한민당 극우계열과 친일파 세력들은 오히려 ' 여운형을 친일파 ' 라고 비판하였는데 , 그 중 여운형에게 친일파라고 올가미를 씌운 것은 친일파 이종형이었다 . 이종형은 일제 강점기 당시 , 만주에서 관동군으로 활동한 바 있으며 일제 앞잡이로 부역행위와 밀정행위를 해온 자였다 . 해방 이후에 이종형은 극우 반공주의자로 변신해 자신의 신문사 대동신문에다가 ' 여운형은 친일파 ' 라고 맹렬히 몰아붙인다 . 게다가 1946년 5월 , 여운형 암살 음모 기도를 그 누구보다도 가장 찬양할 정도로 °, 심장병,   from <WikipediaPage '여운형'>\n",
            "Answer: 홍역, 반드시, 종종, 어쨌든, 오직, 암살의혹이 제기되었다 . 김창숙 등에 의해 백범 김구 시해진상규명위원회가 구성되어 암살범 안두희 ( 安 斗 熙 ) 의 출국을 막고 시해 진상규명운동을 꾸준히 벌여 왔다 . 1963년 서울특별시 남산에 동상이 세워졌다 . 1990년 8월 15일 조선민주주의인민공화국에서 조국통일상이 추서되었다 . 1998년 백범기념관이 준공되어 2002년 10월 22일에 건립되었다 . 2007년 11월 5일 , 2009년 상반기 중 발행될 10만원권의 도안 인물로 선정되었다 . 그러나 , 이명박 대통령 집권 후 이승만이 또 다른 후보로 등록되어 논란이 일어나자 10만원권 지폐의 발행은 전면 취소되었다 . 2009년 6월 26일 소지품인 회중 시계 , 유묵 작품 3점 , 인장 ( 印 章 ) 3점 및 피살 당시 착용한 혈의 ( 血 衣 ) 가 등록문화재 439 ~ 442호로 등록되었다 . = = 평가 = = = = = 긍정적 평가 = = = = = = = 독립운동가 = = = = 일제 강점기 당시 이봉창 , 윤봉길 거사를 성사시켜 한국의 독립운동을 세계에 알린 것을 높이 평가된다 . 김구는 이념을 내세워 분열시키는 냉전세력을 비판함과 함께 민족통합을 통한 완전독립국가를 모색했다는 점 , 민족과 인류의 현실을 고려하여 문화국 °, 오직, 심지어 이들의 방해로 선전대원 몇 명이 사망한 경우도 있었다 . 이들은 “ 선거가 비민주적이다 ” , “ 승려들과 목사들은 선거하지 말라 ” , “ 공동후보가 아니라 자유경쟁 ” 등으로 선거에 비판적이었고 , 유권자들에게 선거에서 찬성하면 흑함에 넣으라는 흑함운동을 하기도 하였다 . 이들에 대하여 김일성은 인민의 원수이며 반동파들에게 매수되어 그들의 간첩배가 된 세력으로 몰았다 . 김일성은 선거기간에 생산기관의 방화 , 운수부분에서 충돌사건 , 주요 인사의 암살미수사건 등이 반동세력의 반대운동의 일환으로 파악하였고 , 나아가서 북한에서 일어난 방화를 이승만과 김구가 파견한 방화단으로 규정하였다 . = = = 남북협상 참여 논란 = = = 1948년 김구의 남북협상 참여가 민족의 통일이라는 대의를 위한 행동이었다는 긍정적인 평가도 있지만 , 남북협상이 북한에게 ' 합법 정부 ' 를 주장할 수 있는 빌미를 제공했다는 부정적인 평가도 있다 . 실제로 북한은 남북협상을 근거로 1948년 5월 2일 조선민주주의인민공화국 사회주의헌법을 채택하였다 . 또한 김구의 남북협상 참여가 순수하지 않은 정치적 전술이라는 시각도 있다 . 이승만과의 경쟁에서 패배해 모든 정치적 전망이 사라진 시점에서 새로운 정국 반전을 노린 것이라는 것이다 . = = 사상과 신념 = = = = = 민족주의 = = = 김구는 민족의 적을 북한인민이 아닌 북한군 , 노동당 , 북한정권이라고 봤다 . 그래서 북한수뇌부를 무너뜨리기 위해 백의사 등을 통해 김일성 암살을 시도하기도 했으나 , 한편으론 민족의 통일이라는 대의를 위해 김일성과 남북협상을 갖기도 했다 . = = = 반공주의 = = = 그는 공산주의를 일종의 독재체제로 이해하였다 . 김구는 《 백범일지 》 상 °, 이미, 한때,   from <WikipediaPage '김구'>\n",
            " \n",
            "Question: 항문에서 피가 나는 병은 무엇인가?\n",
            "Answer: 치질 , 치열 , 치루, 치질, 이유항문,   from https://search.naver.com/search.naver?where=view\n",
            "Answer: 치열, 화장지로 너무 거칠게 닦아서,   from https://search.naver.com/search.naver?where=news\n",
            "Answer: Q항문,   from https://search.naver.com/search.naver?where=kin\n",
            "Answer: 틱장애, 요실금, 때론, 때때로, 때때로,   from <WikipediaPage '사우스 파크'>\n",
            "Answer: 변비,   from <WikipediaPage '엘비스 프레슬리'>\n",
            "Answer: 줄곧, 케츠노 아나, 급격히 소모된데다 몸에 큰 접시까지 묶고있어서 움직임이 많이 둔해진 상황 . 거기다 줄곧 남자로만 여기던 큐베의 진짜 성별을 알고 약간, 무조건,   from <WikipediaPage '은혼의 등장인물 목록'>\n",
            "Answer: 하루빨리,   from <WikipediaPage '월미도'>\n",
            "Answer: 금마공,   from <WikipediaPage '야심작 정열맨'>\n",
            " \n",
            "Question: 김재규는 박정희를 왜 죽였는가?\n",
            "Answer: 박정희 대통령께서,   from https://search.naver.com/search.naver?where=view\n",
            "Answer: 김형욱,   from <WikipediaPage '김형욱 납치 암살 사건'>\n",
            "Answer: 곧잘, 심지어,   from <WikipediaPage '정인숙 (1945년)'>\n",
            "Answer: 민주화에 대한 열망,   from <WikipediaPage '10·26 사건'>\n",
            "Answer: 10 . 26 사태, 최소한, 시해, 대한민국헌정회,   from <WikipediaPage '김재규'>\n",
            "Answer: 부마항쟁이, 여순사건에 연루, 비행기 추락사고, 여순반란사건,   from <WikipediaPage '박정희'>\n",
            "Answer: 인천상륙작전, 미국과의 관계,   from <WikipediaPage '닉슨 독트린'>\n",
            " \n",
            "Question: 케네디를 죽인 암살범은 누구인가?\n",
            "Answer: 오즈월드, 오스왈드, 오스왈드,   from https://search.naver.com/search.naver?where=kin\n",
            "Answer: 리 하비 오스월드, 리 하비 오스월드, 오스왈드,   from https://search.naver.com/search.naver?where=view\n",
            "Answer: 리 하비 오스월드, 존 윌크스 부스, 리 하비 오스월드,   from <WikipediaPage '링컨과 케네디의 공통점'>\n",
            "Answer: 리 하비 오스왈드,   from https://search.naver.com/search.naver?where=news\n",
            " \n",
            "Question: 술 취하지 않는 방법은?\n",
            "Answer: 폭탄주 마시지 마라, 오직 성령의 충만을 받을 수 있어야 합니다 . 이러한 방법으로 우리는 ` 주의 뜻이 무엇인가 이해하게 ' 되는 것입니다 . 아멘술 많이 드십니까 ? 그리고 그 지켜내야 할 선 ( 善 ) 함 중에는 성경에 이른 것처럼 ‘ 술 취하지 말아야 함 ’ 이 있습니다 . 술 취하여 . . . 사실은 술 마시지 않는 것이 가장 좋은 방법이지요 . 어떤 사람은 “ 술은 마귀의 음료 ” 라고도 합니다만 . . . 위험운전치상 처벌수준에 관해그 중에서도 가장 지켜지지 않는 것은 술을 마신 후 차를 달리게 하는 행위라는 건데요 . 최근에는 그러니까 . . . 한편 사혐를 받고 있는데도 저절로 해결될 것이라는 막연한 생각에서 능동적인 상응을 취하지 않으면 안건 . . . 술먹고 머리아플때 어쩌면 좋을까 °, 간 회복,   from https://search.naver.com/search.naver?where=view\n",
            "Answer: 모닝플러스, Q술자리에서 살아남기 ! ( 술 안취하는 방법 ) . . . 술 취하지 않고 끝까지 자세 유지하고 있고 싶은데요 . . . 일단 이런 중요한 자리에서 ! 술 안취하는 방법 뭐가 있을까요 ? 일단 주는 술 받기는 하지만 , 몰래 버리거나 , 물잔에 버릴려고 하는데 , 만약 그게 안될 상황을 대비해서 술 자리전에 흰우유도 먹고 , 물도 많이 마시고 그럴려고 하는데 . . . 그거 . . . Q술많이 먹어도 정신을 잃지않을려면 . . . 모임이 많은데 어찌하다 보면 과음을 하여 필름끊겨 깨어보면 집입니다 . ㅡ . . ㅡ 그런데 어느날은 술을 많이 먹어도 취하지 않고 말짱하게 새벽별보며 집에 옵니다 . 정신력에 차이인지 컨디션에 차이인지 . . . . . . . . . 술을 많이 먹어도 필름끊기지 않는방법있나요 [SEP],   from https://search.naver.com/search.naver?where=kin\n",
            "Answer: 일부러 술을 마시면 역효과를 낸다 . 모은식 교수는 \" 음주는 수면의 질을 떨어뜨리는 최악의 방법 \" 이라면서 \" 알코올은 . . . 마셔도 취하지 않게 됩니다 . 2 . 인간과 술의 관계는 선사시대 이전으로 거슬러 올라갑니다 . . . . 운동 , 술 , 친구는 엔돌핀을 만들어내는 세 가지 확실한 방법입니다 . 3 . 물론 모든 생물학적 요인들과 마찬가지로 술 역시 . . . VVN은 음주운전을 줄이기 위해 ‘ 밥은 술에 취하지 않는다 ( BOB STAYS SOBER ) ’ 캠페인을 2001년부터 지속적으로 . . . - ‘ 단 한 잔도 안 된다 ’ … 교통안전 선진국의 음주근절 방법은 ? 교통안전 선진국들은 초보 운전자를 특별 . . . 요기가 되는 술 , 마시면 배가 부르는 술이 막걸리다 . 또 , 도수가 낮다보니 잘 취하지도 않는 술이었다 . 이런 . . . 산업화가 진작에 진행된 국가에서는 효모 같은 균주에 대한 연구뿐 아니라 음용방법에 대한 연구도 . . . 않는 방법을 묻자 , 그는 “ 술을 마시지 않으면 된다 ” 고 답했다 . 그는 “ 일부 크리스천들이 성경에 술 마시지 . . . 성경은 ‘ 술 취하지 말라 이는 방탕한 것이니 오직, 술은 왜 이렇게,   from https://search.naver.com/search.naver?where=news\n",
            "Answer: 필수,   from <WikipediaPage '심폐소생술'>\n",
            "Answer: 법을 행하는 수단,   from <WikipediaPage '법가'>\n",
            "Answer: 약간,   from <WikipediaPage '점성술'>\n",
            " \n",
            "Question: 사람을 사랑해서 생기는 병은?\n",
            "Answer: 상사병, 향수병, 마음의병, 말티즈 심장병,   from https://search.naver.com/search.naver?where=kin\n",
            "Answer: 만성콩팥병을 일찍 발견하면 치료 효과가 높기 때문에 당뇨병 , 고혈압 , 신장병의 가족력이 있는 사람은 정기 . . . 제 인생을 송두리째 바꿔놓은 사람이 제 아들이다 \" 라며 애정을 가득 드러냈다 . 김미려 역시 \" 부족하게 태어났지만 누구보다 더 건강하고 씩씩하게 키울 것이다 . 사랑이 더 커졌고 똘똘 뭉쳐야겠다는 생각이 들었다 \" 고 . . . 제 인생을 송두리째 바꿔놓은 사람이 제 아들이다 ” 라고 말했고 김미려 또한 “ 부족하게 태어났지만 누구보다 더 건강하고 씩씩하게 키울 것이다 . 사랑이 더 커졌고 똘똘 뭉쳐야겠다는 생각이 들었다 ” 고 다짐했다 . 그 . . . 짧지만 아주 짜릿한 사랑의 경험을 하게 될 수도 있습니다 . 길을 가다가 헌팅을 당할 수도 있겠고 , 미팅이나 소개팅을 통하여 만난 사람과 불길이 일듯 갑작스레 가까워질 수도 있겠고요 . 재물운은 상승세에 있습니다 . . . . 필터라고 부르는 사구체에 만성적인 염증이 생기는 만성사구체신염 같은 경우는 콩팥이 빨리 노화가 옵니다 . . . . 그 항목이 내가 다른 사람들보다 떨어져 있는 경우 ‘ 내 점수가 잘 안 나왔네 ? ’ 이럴 경우에는 혹시 . . . 언제나 아름다운 모습으로 선한 길로 나아가며 많은 사람들에게 사랑받고 사랑을 나눠주는 . . . 현생살면서 강다니엘이란 단어만으로도 웃음과 함이 생기는것 같아요 ! ! 신인가수 강다니엘 정말 너무 . . . 다른 사람들도 당신을 존중할 것입니다 . 커플인 분이라면 상대방에게 당신의 사랑방식을 고집하지 마세요 . . . . 심리적으로는 조금 불안한 시기이지만 뜻밖의 행운이 생기는 날이기도 합니다 . 과거에 집착하기 보다는 미래 . . . 이번에는 신생아 시절을 지나 이제야 좀 사람다워지는 ( ? ) 14개월 정도까지의 육아에 대한 아빠의 걱정거리와 . . . 아기의 발달과 관련된 °,   from https://search.naver.com/search.naver?where=news\n",
            "Answer: 뇌출혈, 종종 그를 찾아와 울거나 그의 애정을 이용해 곤란한 부탁을 하는 이기적인 태도를 취해왔다 . 그럼에도 기탁은 이연에 대한 무한한 사랑 때문에 이를 밀어내지도 , 더 다가가지도 못한 채로 그냥 그 자리에 늘 있는다 . 그의 자취방에는 이연이 출연한 작품들의 비디오 , DVD , 그녀가 한 인터뷰의 잡지들까지 모두 모여있을 정도로 기탁은 이연만을 평생 사랑해왔다 . 그러나 이연은 톱 스타가 되어 재벌 2세인 차재국과 결혼하여 아이도 낳았고 , 기탁은 이 모든 과정들을 지켜보기만 하며 다른 사람과 만나지도 않으면서 살아왔다 . 결국 이연을 향한 자기 희생적인 사랑 때문에 그녀의 부탁을 들어주다 죽음을 맞이하게 된다 . 이연과 자신의 포옹 장면을 찍은 파파라치를 쫓아가다 차에 치여 1차 사고가 나고 , 그런 그를 덤프 트럭이 달려들어 끔살 시킨다 . 저승에 도착해 천국행 열차에서 김영수를 만나게 되고 , 그를 정의감에 돕다가 추락해 마야와의 역송 계약으로 여성인 한홍난으로 잠시 환생 한다 . 일생의 사랑 송이연 여성으로 역송 체험을 시작한 기탁은 송이연의 주변을 맴돈다 . 정체를 궁금해하는 이연과 승재에게는 ' 기탁의 숨겨둔 여동생 ' 이라고 둘러대며 이름도 한홍난이라는 가명을 쓴다 . 송이연을 위협하던 과거가 있는 , 기탁과는 후계 구도 라이벌인 나석철 ( 현 송이연의 소속사 사장 ) 과 송이연의 전 남편 차재국에게서 이연을 지키기 위해 고군분투한다 . 차재국이 손을 써 작품 활동을 안 한 지 10년이나 °, 자살 소동까지 벌이며 결혼했고 아이도 낳았지만 , 송이연의 한기탁에 대한 마음을 끊임 없이 의심하면서 송이연을 괴롭혔고 , 결국 이혼했다 . 이혼 후에도 송이연에 대한 집착을 떨치지 못해 늘 의심하고 괴롭히면서 얀데레적인 측면을 많이 보여준 인물 . 이하늬 : 송이연 역 ( 아역 : 지하윤 ) ( 30대 ) - 한때,   from <WikipediaPage '돌아와요 아저씨'>\n",
            "Answer: 이미, 이미,   from <WikipediaPage '우울'>\n",
            "Answer: 세기병,   from <WikipediaPage '알프레드 드 뮈세'>\n",
            "Answer: 종종, 2 우울증,   from <WikipediaPage '우울증'>\n",
            "Answer: 오로지, 비록, 비폭력 저항 운동,   from <WikipediaPage '예수'>\n",
            "Answer: 정신착란증,   from <WikipediaPage '로드 넘버원'>\n",
            "Answer: 트러블,   from <WikipediaPage '트레이스 (만화)'>\n",
            " \n",
            "Question: 부모는 자식을 왜 사랑하는가?\n",
            "Answer: 본능적인 사랑을 가리킬때 사용하는 말로 일반적으로 여성과 남성이 자녀의 출산 및 성장에 있어서 갖게되는 사랑중 여성의 경우에 해당한다 . 한편 이러한 모성애가 박탈되는 환경 즉 모성애박탈 ( 母 性 愛 [UNK] 奪 ) 은 어린아이의 성장기 발달 초기에 어머니 또는 이러한 영향력을 제공할 수 있는 양육자로부터 애정 어린 보살핌을 받지 못하는 상태 . 또는 그러한 상태를 체험하는 경험으로서 아이의 장차 여성상형성에 매우 중요한 계기가 되어주는 경험의 결핍으로 애착 형성 곤란 , 성장 및 지적 발달 지연 , 상황의 긍정적 해결에 있어서 좀더 불안정한 인식을 야기할 수 있다 . = = 보건과 안전 = = 세계보건기구는 임산부 사망률의 집계 기준을 \" 여성이 임신 중에 있거나 출산 , 중절 , 또는 여타의 이유를 막론하고 임신이 종료 된 뒤 42일 이내에 사망한 경우 \" 로 하고 있다 . 세계보건기구에서 집계되는 임산부 사망 건수 가운데 58 % 는 사하라 이남 아프리카에서 , 29 % 는 남아시아에서 일어난다 . 세이브 더 칠드런의 2006년 조사에서는 출산 위험률이 가장 높은 곳으로 사하라 이남 아프리카를 , 가장 안전한 곳으로 스칸디나비아를 꼽았다 . = = 폭력 = = 어머니와 자식 사이에는 폭력이 발생하기도 한다 . 기원전 101년에 사망한 클레오파트라 3세는 자식 간의 왕위 문제에 개입하였다가 결국 아들에게 살해되었다 . 2012년 미국의 살인 사건 집계 가운데 자식이 어머니를 살해한 경우는 130건 , 어머니가 자식을 살해한 경우는 383 건이었다 . 한국에서는 서래마을의 외국인 가정에서 일어난 영아살해 사건이 사회적 관심을 받기도 하였다 . = = 예술 = = 어머니는 오랫 동안 예술 작품의 주요 소재가 되어 왔다 . 기독교의 영향이 깊은 문화에서는 성모에 대한 숭배 전통이 있어 왔고 , 이 °,   from <WikipediaPage '어머니'>\n",
            "Answer: 평범한 인생의 진리, 어머니,   from <WikipediaPage '파도 (드라마)'>\n",
            "Answer: 포세이돈,   from <WikipediaPage '포세이돈'>\n",
            " \n",
            "Question: 나의 와이프는 나를 사랑하는가?\n",
            "Answer: 어쨌든,   from https://search.naver.com/search.naver?where=view\n",
            "Answer: 사랑하는 은동아,   from <WikipediaPage '오 나의 귀신님'>\n",
            "Answer: 꼭,   from <WikipediaPage '나의 아저씨'>\n",
            " \n",
            "Question: 신은 존재 하는가?\n",
            "Answer: 종종,   from https://search.naver.com/search.naver?where=view\n",
            "Answer: 자연적 혹은 초자연적 존재, 여신,   from <WikipediaPage '신'>\n",
            "Answer: 천계,   from <WikipediaPage '힌두교의 신'>\n",
            "Answer: 선의 원리,   from <WikipediaPage '신피타고라스 학파'>\n",
            "Answer: 적어도, 여성과 패션,   from <WikipediaPage '신석기 시대'>\n",
            " \n",
            "Question: 사람의 인생에서 가장 소중한 것은 무엇인가?\n",
            "Answer: 철학, 가족입니다 . . . 같은 상처를 가지며 살고 같은 사랑을 나누는 우리들 . 많은 유혹들과 많은 혼란들 또 많은 사람들 속에서 . . . . . . . . 의지할사람은 부모님 밖에 없고 애정표현도 잘안하지만 부모님이 없는 세상은 상상하기도 . . . 뭐 . . 하나하나 소중한건 많아요 . 절이뻐하시던 할아버지 . . 돌아가신지 3년쯤되었는데 . . 가끔 . . . 도움이 되었으면 좋겠습니다 . 무엇보다 자신의일같이 생각해주고 위해주는건 가족이아닐까요 ㅎㅎ인생에서 가장 소중한 사람은 나 자신, 나 자신,   from https://search.naver.com/search.naver?where=kin\n",
            "Answer: 시간, 눈,   from https://search.naver.com/search.naver?where=news\n",
            "Answer: 척,   from <WikipediaPage '가십걸'>\n",
            "Answer: 반드시 꿈을 이루지 못해도 꿈꾸는 자가 아름답다는 것을 드러내고 싶다 . 희망이 인간을 얼마나 인간답게 만드는지 이야기하고자 한다 . = = 등장 인물 = = = = = 주요 인물 = = = 서현진 : 이현수 역현실적이고 실리적이다 . 판단이 빠르고 결정하면 직진이다 . 생각을 분석하고 정리하는 걸 좋아한다 . 현수는 사랑은 이성이고 , 사랑은 빠지는 것이 아니라 자신의 의지로 선택하는 것이라 여겼다 . 29살의 현수는 아직 꿈을 이루지 못한 드라마 작가지망생이다 . 이제 곧 서른 . 그럼 더 이상 청춘은 아니다 . 청춘이 물러가기 전 지독했던 마지막 발악 같은 그 시기에 현수는 정선을 만났다 . 남자애라고 생각했다 . 잘 알지도 못하는 여섯 살이나 어린 스물 세 살 ‘ 남자애 ’ 그랬던 남자를 사랑하게 될 줄 꿈에도 몰랐다 . 사랑하게 됐다 . 알지도 못하는 남자를 . 사랑하게 된 걸 깨달은 순간 정선은 이미 떠났다 . 다시 정선과 재회하게 되면서 밑바닥에 눌러놓은 사랑이 폭발한다 . 그리고 정선과 헤어짐에 얽힌 비밀들이 드러나면서 현수와 정선의 사랑은 새로운 국면으로 접어든다 . 현수는 사랑을 이룰 수 있을까 . 아니면 타이밍을 한 번 놓친 벌로 계속 놓치게 될까 . 양세종 : 온정선 역선 ( 善 ) 과 선 ( 線 ) . 선한 것을 추구하지만 선이 확실하다 . 누군가한테 지배당하는 것도 싫어하고 , 누군가를 지배하는 것도 싫어한다 . 그의 주방에는 계급이 없다 . 어릴 적 , 축구 연습 마치고 집으로 애들하고 몰려가면 엄마가 해주던 도톰한 돈가스를 아직도 기억한다 . ‘ 행복 ’ 이라고 . 그래서 요리를 시작하게 됐는지 모른다 . 행복하려고 , 행복을 주려고 . 정선에게 사랑은 심장 떨리는 감성의 절정이다 . 프랑스에서 잠시 한국에 들어와 있을 때 , 현수를 만났다 . 알지도 못하면서 사랑을 할 순 없다는 고혹적인 여자를 . 정선은 현수와 자신은 보이지 않는 실로 묶여있 °,   from <WikipediaPage '사랑의 온도'>\n",
            "Answer: 다소, 태양과 바람의 언덕,   from <WikipediaPage '마법사에게 소중한 것'>\n",
            "Answer: 한때, 진실,   from <WikipediaPage '김동길 (1928년)'>\n",
            "Answer: 일부러 나석철의 밑에 들어가 한기탁을 위해 그가 지키려고 했던 이연의 경호원을 자처하며 기회를 노리고 있었던 것이다 . 홍난은 승재와 이연에게 자신을 기탁의 여동생쯤으로 말해놓았다 . 홍난을 짝사랑하고 있다 . 그런데 사실 홍난은 자신이 따르던 한기탁의 환생 . . . 즉 남자다 . 강기영 : 제갈 길 역 ( 25세 ) 고인범 : 장진구 역 ( 50대 후반 ) - 기탁과 석철이 20여년간 모셔온 조직의 보스 . 이제 그만 은퇴해서 편안하게 살고 싶은데 , 종일 전화통에 불나게 바쁜 열혈 회장 . 현재는 한기탁이 죽은 이후 쓰러져 식물인간이 되었고 , 때문에 기탁이 환생해서 돌아왔을땐 석철의 세상이 된 상태였다 . = = = 백화점 사람들 = = = 박철민 : 마상식 역 ( 50대 ) - 선진백화점 패션사업부장 . 김영수의 얄미운 상사 . 약자에 강하고 강자에 약하고 로비와 아부에 능한 , 전형적 샐러리맨 . 안석환 : 차회장 역 - 피도 눈물도 없는 선진그룹 회장 . 항상 손에는 호두를 쥐고있으며 자신의 의사를 비서를 통해 전달한다 . 은연중에 자신의 두 아들인 재국과 해준을 경쟁시키는 듯 하다 . 오나라 : 왕비서 역 °,   from <WikipediaPage '돌아와요 아저씨'>\n",
            " \n",
            "Question: 바람난 여자는 다시 돌아올 수 있는가?\n",
            "Answer: 죽고못사는사이,   from https://search.naver.com/search.naver?where=kin\n",
            "Answer: 한때,   from <WikipediaPage '유혜정 (배우)'>\n",
            "Answer: 최소 환승 . . . 변비약 추천 고민하다 변비 탈출식품을 선택할 때 얼마나 신뢰를 할 수 있는가 라는 것은 참 중요하죠 . 특히 일회성이 아니라 꾸준하게 . . . 자연스럽게 화장실에 간다고 하고 짧은 시간 안에 돌아올 수 있었거든요 . 장이 건강해졌기 때문이죠 . 오래 앉아 . . . [ 칼럼 ] 이혼 위기 , 극복 및 해결할 방법이 있는가 ? 그가 돌아올 것 같아요 . 그가 성급한 결정을 내리고 있다고 생각하지만 제가 속도를 늦추면 아마도 그도 그의 . . . 당신이 할 수 있는 가장 중요한 일은 자신을 돌보는 것입니다 . 정서적 지원을 받고 , 좋은 식사 , 수면 및 . . . 바람난 여자친구 ( 바람난 남자친구 ) 붙잡는 방법은 ? 다시 만난다고 하더라도 바람에 대한 미안함과 속죄하는 마음은 찾아볼 수 없고 , 오히려 내가 잘해주지 못하면 여자친구가 또 바람이 나지 않을까 전전긍긍하게 된다는 것 . 2 . 내가 바람을 피웠는데 네가 어떻게 그 기억을 . . . 레이디 크레딧자연스럽게 다시 이 세계로 돌아올 것 같다는 그녀의 말 . 여성의 몸 자체가 자본이 되기에 그 몸에 매겨지는 가격이 신용이 되어 그 어디에서보다 쉽게 돈을 빌릴 수 있는 구조 . \" 열심히만 하면 \" 한 달에 천만원쯤 우습게 . . . 한번 커진 심장 다시 정상으로 돌아올 수 있을까 ? 심장이 커졌다는 이야기를 들은 분이 가장 궁금해하는 것 °,   from https://search.naver.com/search.naver?where=view\n",
            " \n",
            "Question: 위가 쓰리고 아플 때 어떤 약을 복용해야 하는가?\n",
            "Answer: 위약, 여드름 약,   from https://search.naver.com/search.naver?where=view\n",
            "Answer: 양 약, 공황장애 약, 위장약,   from https://search.naver.com/search.naver?where=kin\n",
            " \n",
            "Question: 눈알이 빠지면 어떻게 되는가?\n",
            "Answer: 익사, 충혈,   from https://search.naver.com/search.naver?where=kin\n",
            "Answer: 매드아이 무디,   from <WikipediaPage '해리 포터의 마법 물체 목록'>\n",
            "Answer: 애꾸눈,   from <WikipediaPage '오딘'>\n",
            "Answer: 동그랗고,   from https://search.naver.com/search.naver?where=view\n",
            "Answer: 도탄,   from <WikipediaPage '렐파첸'>\n",
            "Answer: 종종, 다분히,   from <WikipediaPage '조앤 크로퍼드'>\n",
            " \n"
          ],
          "name": "stdout"
        }
      ]
    },
    {
      "cell_type": "code",
      "metadata": {
        "id": "hgi6yAogcAkC",
        "colab": {
          "base_uri": "https://localhost:8080/"
        },
        "outputId": "686ffb17-bd12-452b-fa7d-d7ee43dd235f"
      },
      "source": [
        "answers = kqaw.question([\"아브라함은 자식이 몇명인가?\"])"
      ],
      "execution_count": 46,
      "outputs": [
        {
          "output_type": "stream",
          "text": [
            "Question: 아브라함은 자식이 몇명인가?\n",
            "-- Source count :  8\n",
            "-- source : https://search.naver.com/search.naver?where=news\n",
            " --- Candidate answer: 몇 명 6.595310688018799\n",
            "-- source : https://search.naver.com/search.naver?where=kin\n",
            " --- Candidate answer: 8명 11.673369407653809\n",
            "-- source : <WikipediaPage '아브라함'>\n",
            " --- Candidate answer: 6명 6.828792095184326\n",
            "-- source : <WikipediaPage '에티오피아 이름'>\n",
            "-- source : https://search.naver.com/search.naver?where=view\n",
            "-- source : <WikipediaPage '하와'>\n",
            " --- Candidate answer: 세 명의 11.601317405700684\n",
            "-- source : <WikipediaPage '소저너 트루스'>\n",
            " --- Candidate answer: 13명 10.888596534729004\n",
            " --- Candidate answer: 다섯 명의 7.598954200744629\n",
            "-- source : <WikipediaPage '믿음'>\n",
            "Answer: 8명  score: 11.673369407653809  source: ['https://search.naver.com/search.naver?where=kin']\n",
            "Answer: 세 명의  score: 11.601317405700684  source: [<WikipediaPage '하와'>]\n",
            " \n"
          ],
          "name": "stdout"
        }
      ]
    },
    {
      "cell_type": "code",
      "metadata": {
        "id": "F6qwf2zGp9N3",
        "colab": {
          "base_uri": "https://localhost:8080/"
        },
        "outputId": "bcdd134f-518c-45f0-ff79-19994bc103df"
      },
      "source": [
        "answers = kqaw.question([\"아시아나항공은 어디에 매각될 것인가?\",\r\n",
        "                         \"박세창은 어느 회사의 사장인가?\"])"
      ],
      "execution_count": 47,
      "outputs": [
        {
          "output_type": "stream",
          "text": [
            "Question: 아시아나항공은 어디에 매각될 것인가?\n",
            "-- Source count :  4\n",
            "-- source : https://search.naver.com/search.naver?where=kin\n",
            "-- source : https://search.naver.com/search.naver?where=view\n",
            " --- Candidate answer: 아시아나 3.69708514213562\n",
            " --- Candidate answer: hdc 7.528763294219971\n",
            " --- Candidate answer: 금호리조트 8.839470863342285\n",
            "-- source : https://search.naver.com/search.naver?where=news\n",
            " --- Candidate answer: 한진그룹에 8000억원을 투입하고 아시아나항공 매각을 추진하면서 양사 직원들은 큰 . . . 실제 만나고 싶다면 공문을 보내고 언제 어디서 누구와 어떤 안건으로 만나는 것인지 내용이 있어야 한다 . 그게 . . . 노조는 \" 이상직 의원의 거액 매각대금 챙기기를 위해 코로나19를 빌미로 고용유지지원금 신청도 하지 않은 . . . 정부가 아시아나를 끌고 갈 것 ' 이라고 말했었다 . 그런데 보름도 안돼서 아시아나항공을 대한항공 8.913479804992676\n",
            " --- Candidate answer: 외부 컨설팅 9.669889450073242\n",
            "-- source : <WikipediaPage '문화방송'>\n",
            " --- Candidate answer: LG 그룹 3.3898866176605225\n",
            "Answer: 외부 컨설팅  score: 9.669889450073242  source: ['https://search.naver.com/search.naver?where=news']\n",
            "Answer: 한진그룹에 8000억원을 투입하고 아시아나항공 매각을 추진하면서 양사 직원들은 큰 . . . 실제 만나고 싶다면 공문을 보내고 언제 어디서 누구와 어떤 안건으로 만나는 것인지 내용이 있어야 한다 . 그게 . . . 노조는 \" 이상직 의원의 거액 매각대금 챙기기를 위해 코로나19를 빌미로 고용유지지원금 신청도 하지 않은 . . . 정부가 아시아나를 끌고 갈 것 ' 이라고 말했었다 . 그런데 보름도 안돼서 아시아나항공을 대한항공  score: 8.913479804992676  source: ['https://search.naver.com/search.naver?where=news']\n",
            " \n",
            "Question: 박세창은 어느 회사의 사장인가?\n",
            "-- Source count :  6\n",
            "-- source : <WikipediaPage '금호기업'>\n",
            "-- source : https://search.naver.com/search.naver?where=view\n",
            " --- Candidate answer: 아시아나IDT 7.810551166534424\n",
            " --- Candidate answer: 아시아나IDT 11.50024700164795\n",
            " --- Candidate answer: 아시아나IDT 10.870238304138184\n",
            " --- Candidate answer: 아시아나 항공 11.086930274963379\n",
            " --- Candidate answer: 아시아나IDT 7.2989420890808105\n",
            "-- source : https://search.naver.com/search.naver?where=news\n",
            " --- Candidate answer: 아시아나IDT 9.381662368774414\n",
            " --- Candidate answer: 아시아나세이버 5.4890570640563965\n",
            "-- source : <WikipediaPage '아시아나아이디티'>\n",
            "-- source : <WikipediaPage '금호석유화학'>\n",
            " --- Candidate answer: 금호석유화학 4.964730262756348\n",
            " --- Candidate answer: 금호타이어 9.9390287399292\n",
            " --- Candidate answer: 금호아시아나그룹 11.14481258392334\n",
            "-- source : https://search.naver.com/search.naver?where=kin\n",
            "Answer: 아시아나IDT  score: 46.86164093017578  source: ['https://search.naver.com/search.naver?where=view', 'https://search.naver.com/search.naver?where=news']\n",
            "Answer: 금호아시아나그룹  score: 11.14481258392334  source: [<WikipediaPage '금호석유화학'>]\n",
            " \n"
          ],
          "name": "stdout"
        }
      ]
    },
    {
      "cell_type": "code",
      "metadata": {
        "id": "lRM7VQaRqzt0",
        "colab": {
          "base_uri": "https://localhost:8080/"
        },
        "outputId": "cc8effe7-d7d7-44ed-b6d4-476c848fbecc"
      },
      "source": [
        "answers = kqaw.question([\"아시아나항공 사장의 이름은?\",\r\n",
        "                         \"금호건설의 사장은 누구인가?\"])"
      ],
      "execution_count": 48,
      "outputs": [
        {
          "output_type": "stream",
          "text": [
            "Question: 아시아나항공 사장의 이름은?\n",
            "-- Source count :  8\n",
            "-- source : https://search.naver.com/search.naver?where=view\n",
            " --- Candidate answer: 한창수 9.841452598571777\n",
            " --- Candidate answer: 김수천 11.469464302062988\n",
            "-- source : <WikipediaPage '에어부산'>\n",
            "-- source : <WikipediaPage '아시아나에어포트'>\n",
            " --- Candidate answer: 티웨이에어서비스 7.49818754196167\n",
            "-- source : <WikipediaPage '박정구'>\n",
            " --- Candidate answer: 박정구 6.732430458068848\n",
            "-- source : <WikipediaPage '인천국제공항'>\n",
            "-- source : https://search.naver.com/search.naver?where=kin\n",
            " --- Candidate answer: 윤영두 11.365925788879395\n",
            "-- source : <WikipediaPage '에어서울'>\n",
            "-- source : https://search.naver.com/search.naver?where=news\n",
            " --- Candidate answer: 한창수 11.082985877990723\n",
            "Answer: 한창수  score: 20.9244384765625  source: ['https://search.naver.com/search.naver?where=view', 'https://search.naver.com/search.naver?where=news']\n",
            "Answer: 김수천  score: 11.469464302062988  source: ['https://search.naver.com/search.naver?where=view']\n",
            " \n",
            "Question: 금호건설의 사장은 누구인가?\n",
            "-- Source count :  4\n",
            "-- source : <WikipediaPage '금호석유화학'>\n",
            "-- source : https://search.naver.com/search.naver?where=view\n",
            " --- Candidate answer: 박정구 9.384163856506348\n",
            " --- Candidate answer: 임병욱 5.97735595703125\n",
            " --- Candidate answer: 조현범 4.87748384475708\n",
            " --- Candidate answer: 이서형 10.147002220153809\n",
            " --- Candidate answer: 변창흠 8.179729461669922\n",
            "-- source : https://search.naver.com/search.naver?where=kin\n",
            "-- source : https://search.naver.com/search.naver?where=news\n",
            "Answer: 이서형  score: 10.147002220153809  source: ['https://search.naver.com/search.naver?where=view']\n",
            "Answer: 박정구  score: 9.384163856506348  source: ['https://search.naver.com/search.naver?where=view']\n",
            " \n"
          ],
          "name": "stdout"
        }
      ]
    },
    {
      "cell_type": "code",
      "metadata": {
        "id": "8qIRQgHSrZo8"
      },
      "source": [
        "answers = kqaw.question([\"아파트 값은 계속 오를 것인가?\",\r\n",
        "                         \"코로나는 언제 종식 될 것인가?\"])"
      ],
      "execution_count": null,
      "outputs": []
    },
    {
      "cell_type": "code",
      "metadata": {
        "id": "1ARRfo7-sgSJ",
        "colab": {
          "base_uri": "https://localhost:8080/"
        },
        "outputId": "e1b2c1e0-d963-46aa-eabd-ecc1157b71fd"
      },
      "source": [
        "answers = kqaw.question([\"단백질의 화학식 구성은 어떻게 되는가?\"])"
      ],
      "execution_count": null,
      "outputs": [
        {
          "output_type": "stream",
          "text": [
            "Question: 단백질의 화학식 구성은 어떻게 되는가?\n",
            "13\n",
            "<WikipediaPage '생화학'>\n",
            "아미노산 tensor(2.1999, grad_fn=<MaxBackward1>)\n",
            "최소 tensor(1.5361, grad_fn=<MaxBackward1>)\n",
            "https://search.naver.com/search.naver?where=kin\n",
            "노폐물 tensor(7.0935, grad_fn=<MaxBackward1>)\n",
            "<WikipediaPage '단백질'>\n",
            "NH2CHRnCOOH ) n tensor(9.9139, grad_fn=<MaxBackward1>)\n",
            "<WikipediaPage '탄수화물'>\n",
            "C5H10O4 tensor(4.5876, grad_fn=<MaxBackward1>)\n",
            "C12H22O11 tensor(10.0584, grad_fn=<MaxBackward1>)\n",
            "<WikipediaPage '분자'>\n",
            "가끔 tensor(1.4926, grad_fn=<MaxBackward1>)\n",
            "<WikipediaPage '아미노산'>\n",
            "##NH2CHRnCOOH tensor(5.2119, grad_fn=<MaxBackward1>)\n",
            "<WikipediaPage '다당류'>\n",
            "C6H10O5 tensor(9.5896, grad_fn=<MaxBackward1>)\n",
            "선형 구조 tensor(2.2327, grad_fn=<MaxBackward1>)\n",
            "https://search.naver.com/search.naver?where=view\n",
            "Geraniol tensor(6.4510, grad_fn=<MaxBackward1>)\n",
            "<WikipediaPage '글라이신'>\n",
            "HO2CCH2NH2 tensor(10.9986, grad_fn=<MaxBackward1>)\n",
            "<WikipediaPage '세린'>\n",
            "HO2CCH ( NH2 ) CH2OH tensor(6.9836, grad_fn=<MaxBackward1>)\n"
          ],
          "name": "stdout"
        }
      ]
    },
    {
      "cell_type": "code",
      "metadata": {
        "id": "MbGFACCktHam",
        "colab": {
          "base_uri": "https://localhost:8080/"
        },
        "outputId": "e2470595-a968-4447-953b-bc510686c0e1"
      },
      "source": [
        "answers = kqaw.question([\"우리나라 특허의 권리보장 기간은 몇년인가?\"])"
      ],
      "execution_count": 49,
      "outputs": [
        {
          "output_type": "stream",
          "text": [
            "Question: 우리나라 특허의 권리보장 기간은 몇년인가?\n",
            "-- Source count :  8\n",
            "-- source : https://search.naver.com/search.naver?where=kin\n",
            " --- Candidate answer: 20년 5.713622570037842\n",
            "-- source : https://search.naver.com/search.naver?where=view\n",
            " --- Candidate answer: 1년 7.063043117523193\n",
            "-- source : https://search.naver.com/search.naver?where=news\n",
            "-- source : <WikipediaPage '민사소송법'>\n",
            "-- source : <WikipediaPage '퍼블리시티권'>\n",
            "-- source : <WikipediaPage '한국노동연구원'>\n",
            "-- source : <WikipediaPage '대한민국'>\n",
            "-- source : <WikipediaPage '유럽의 역사'>\n",
            "Answer: 1년  score: 7.063043117523193  source: ['https://search.naver.com/search.naver?where=view']\n",
            "Answer: 20년  score: 5.713622570037842  source: ['https://search.naver.com/search.naver?where=kin']\n",
            " \n"
          ],
          "name": "stdout"
        }
      ]
    },
    {
      "cell_type": "code",
      "metadata": {
        "id": "Srh6Zf5TtgcQ",
        "colab": {
          "base_uri": "https://localhost:8080/"
        },
        "outputId": "93e68b43-e763-47e8-d813-b9cce61fcc2f"
      },
      "source": [
        "answers = kqaw.question([\"발열 마른기침 피로감 등의 증상을 보이면 어떤 병이 의심되는가?\"])"
      ],
      "execution_count": 50,
      "outputs": [
        {
          "output_type": "stream",
          "text": [
            "Question: 발열 마른기침 피로감 등의 증상을 보이면 어떤 병이 의심되는가?\n",
            "-- Source count :  4\n",
            "-- source : https://search.naver.com/search.naver?where=kin\n",
            " --- Candidate answer: 코로나 감염 6.755837440490723\n",
            " --- Candidate answer: 코로나 9.404107093811035\n",
            " --- Candidate answer: 코로나 19 6.107810974121094\n",
            "-- source : https://search.naver.com/search.naver?where=news\n",
            "-- source : https://search.naver.com/search.naver?where=view\n",
            " --- Candidate answer: 코로나19 3.9041125774383545\n",
            " --- Candidate answer: 코로나 7.809553623199463\n",
            "-- source : <WikipediaPage '코로나19 범유행'>\n",
            " --- Candidate answer: 호흡곤란 , 후각상실 , 미각상실 6.361567974090576\n",
            " --- Candidate answer: 경증에서 중증의 증상을 보일 수 있다 . 또한 무증상 3.518268346786499\n",
            " --- Candidate answer: 두통 , 호흡곤란 , 폐렴 5.779277324676514\n",
            "Answer: 코로나  score: 17.213660717010498  source: ['https://search.naver.com/search.naver?where=kin', 'https://search.naver.com/search.naver?where=view']\n",
            "Answer: 코로나 19  score: 10.011923551559448  source: ['https://search.naver.com/search.naver?where=kin', 'https://search.naver.com/search.naver?where=view']\n",
            " \n"
          ],
          "name": "stdout"
        }
      ]
    },
    {
      "cell_type": "code",
      "metadata": {
        "id": "UjYnN2Ggt4ER",
        "colab": {
          "base_uri": "https://localhost:8080/"
        },
        "outputId": "cde7e572-a16c-4952-def8-61fa033ba77b"
      },
      "source": [
        "answers = kqaw.question([\"흉부통증과 호흡곤란, 쉰목소리, 가끔 피가 썩인 가래도 있습니다. 어떤 병일까요?\"])"
      ],
      "execution_count": 51,
      "outputs": [
        {
          "output_type": "stream",
          "text": [
            "Question: 흉부통증과 호흡곤란, 쉰목소리, 가끔 피가 썩인 가래도 있습니다. 어떤 병일까요?\n",
            "-- Source count :  3\n",
            "-- source : https://search.naver.com/search.naver?where=view\n",
            " --- Candidate answer: 폐암 8.353275299072266\n",
            "-- source : https://search.naver.com/search.naver?where=kin\n",
            "-- source : https://search.naver.com/search.naver?where=news\n",
            "Answer: 폐암  score: 8.353275299072266  source: ['https://search.naver.com/search.naver?where=view']\n",
            " \n"
          ],
          "name": "stdout"
        }
      ]
    },
    {
      "cell_type": "code",
      "metadata": {
        "id": "fhgIS5vtubVs",
        "colab": {
          "base_uri": "https://localhost:8080/"
        },
        "outputId": "d6c05d91-af05-4eae-99f1-20cd69039d35"
      },
      "source": [
        "answers = kqaw.question([\"똥을 싸고 나면 휴지에 피가 뭍습니다. 의심되는 병은 무엇인가요?\"])"
      ],
      "execution_count": 52,
      "outputs": [
        {
          "output_type": "stream",
          "text": [
            "Question: 똥을 싸고 나면 휴지에 피가 뭍습니다. 의심되는 병은 무엇인가요?\n",
            "-- Source count :  3\n",
            "-- source : https://search.naver.com/search.naver?where=kin\n",
            " --- Candidate answer: 치열 8.134779930114746\n",
            " --- Candidate answer: 치열 8.31339168548584\n",
            " --- Candidate answer: 궤양성 대장염 9.893392562866211\n",
            "-- source : https://search.naver.com/search.naver?where=view\n",
            " --- Candidate answer: 호흡기질환 어떤 것이 있을까 ? 사람의 생명을 유지하는데 있어 기본이 되는 것은 무엇인가라고 묻는다면 음식 , 잠 등 정말 다양한 의견들이 . . . 아닌지 의심해 볼 필요가 있습니다 물론 단순한 감기 정도야 시간이 지나면 금방 좋아집니다만 자칫 이러한 . . . ③생쟝에서 론세스바예스 : 피레네를 [UNK] 가방과 스틱을 내팽개치고 휴지를 꺼내 풀숲으로 뛰었다 . 지나가는 이들이 쳐다보면 다 . . . 뒤에서 누군가 온다면 ' 나 똥 싸고 있어요 ' 라며 얼굴로 인사할 수밖에 없는 위치 , 그곳에서 나는 해결할 . . . 귀에서 진물이 나요 - 성수이비인후과의 중이염치료귀에서 진물이 나요 귀에서 진물이 나면 외이도염과 중이염 5.404848575592041\n",
            " --- Candidate answer: 혈변 7.531818866729736\n",
            "-- source : https://search.naver.com/search.naver?where=news\n",
            "Answer: 치열  score: 16.448171615600586  source: ['https://search.naver.com/search.naver?where=kin']\n",
            "Answer: 궤양성 대장염  score: 9.893392562866211  source: ['https://search.naver.com/search.naver?where=kin']\n",
            " \n"
          ],
          "name": "stdout"
        }
      ]
    },
    {
      "cell_type": "code",
      "metadata": {
        "id": "b1clXBpGu0st"
      },
      "source": [
        "answers = kqaw.question([\"신경망 알고리즘의 활성함수에는 어떤 것이 있나요?\"])"
      ],
      "execution_count": null,
      "outputs": []
    },
    {
      "cell_type": "code",
      "metadata": {
        "id": "eIBSD9HcvITx"
      },
      "source": [
        "answers = kqaw.question([\"현존하는 인공지능 중 가장 성능이 우수한 것은 무엇입니까?\"])"
      ],
      "execution_count": null,
      "outputs": []
    },
    {
      "cell_type": "code",
      "metadata": {
        "id": "RVxLa0T0vhAV",
        "colab": {
          "base_uri": "https://localhost:8080/"
        },
        "outputId": "8efe3727-2bb1-4ce1-8d53-7f3c0e00e173"
      },
      "source": [
        "answers = kqaw.question([\"이세돌을 이긴 것은 무엇입니까?\"])"
      ],
      "execution_count": 53,
      "outputs": [
        {
          "output_type": "stream",
          "text": [
            "Question: 이세돌을 이긴 것은 무엇입니까?\n",
            "-- Source count :  7\n",
            "-- source : https://search.naver.com/search.naver?where=view\n",
            " --- Candidate answer: 알파고 4.502975940704346\n",
            "-- source : https://search.naver.com/search.naver?where=news\n",
            "-- source : <WikipediaPage '다큐플렉스의 에피소드 목록'>\n",
            "-- source : <WikipediaPage '인공지능'>\n",
            " --- Candidate answer: 깔끔함 8.735248565673828\n",
            " --- Candidate answer: 알파고 11.076563835144043\n",
            "-- source : https://search.naver.com/search.naver?where=kin\n",
            " --- Candidate answer: 알파고 10.360079765319824\n",
            " --- Candidate answer: 알파고 11.44482421875\n",
            " --- Candidate answer: 알파고 4.098506450653076\n",
            " --- Candidate answer: 알파고 9.944950103759766\n",
            "-- source : <WikipediaPage '알파고'>\n",
            " --- Candidate answer: 알파고 9.304676055908203\n",
            "-- source : <WikipediaPage '아침마당의 에피소드 목록'>\n",
            "Answer: 알파고  score: 60.73257637023926  source: ['https://search.naver.com/search.naver?where=view', <WikipediaPage '인공지능'>, 'https://search.naver.com/search.naver?where=kin', <WikipediaPage '알파고'>]\n",
            "Answer: 깔끔함  score: 8.735248565673828  source: [<WikipediaPage '인공지능'>]\n",
            " \n"
          ],
          "name": "stdout"
        }
      ]
    },
    {
      "cell_type": "code",
      "metadata": {
        "id": "Ay5GzjELwAG-",
        "colab": {
          "base_uri": "https://localhost:8080/"
        },
        "outputId": "b9177013-51bd-402b-d71f-94a2ab3f9ed2"
      },
      "source": [
        "answers = kqaw.question([\"피타고라스는 어느 나라 사람인가?\"])"
      ],
      "execution_count": 54,
      "outputs": [
        {
          "output_type": "stream",
          "text": [
            "Question: 피타고라스는 어느 나라 사람인가?\n",
            "-- Source count :  8\n",
            "-- source : https://search.naver.com/search.naver?where=kin\n",
            " --- Candidate answer: 그리스 8.628893852233887\n",
            " --- Candidate answer: 그리스 6.524637222290039\n",
            "-- source : <WikipediaPage '고대 그리스 철학'>\n",
            " --- Candidate answer: 이탈리아 4.867263317108154\n",
            "-- source : https://search.naver.com/search.naver?where=view\n",
            " --- Candidate answer: 호주 5.215020656585693\n",
            " --- Candidate answer: 그리스 6.704745292663574\n",
            " --- Candidate answer: 영국 4.360252380371094\n",
            " --- Candidate answer: 이집트 6.741414546966553\n",
            "-- source : https://search.naver.com/search.naver?where=news\n",
            " --- Candidate answer: 그리스 5.066105365753174\n",
            "-- source : <WikipediaPage '화신'>\n",
            "-- source : <WikipediaPage '3'>\n",
            "-- source : <WikipediaPage '수학자'>\n",
            " --- Candidate answer: 그리스 8.3052396774292\n",
            "-- source : <WikipediaPage '종교'>\n",
            "Answer: 그리스  score: 35.22962141036987  source: ['https://search.naver.com/search.naver?where=kin', 'https://search.naver.com/search.naver?where=view', 'https://search.naver.com/search.naver?where=news', <WikipediaPage '수학자'>]\n",
            "Answer: 이집트  score: 6.741414546966553  source: ['https://search.naver.com/search.naver?where=view']\n",
            " \n"
          ],
          "name": "stdout"
        }
      ]
    },
    {
      "cell_type": "code",
      "metadata": {
        "id": "h43Zxml-wSWs",
        "colab": {
          "base_uri": "https://localhost:8080/"
        },
        "outputId": "f92a1a48-e40b-4fcd-d16e-efdb11d30b75"
      },
      "source": [
        "answers = kqaw.question([\"아이즈원 멤버 인원수는?\"])"
      ],
      "execution_count": 55,
      "outputs": [
        {
          "output_type": "stream",
          "text": [
            "Question: 아이즈원 멤버 인원수는?\n",
            "-- Source count :  5\n",
            "-- source : https://search.naver.com/search.naver?where=news\n",
            " --- Candidate answer: 12명 11.849099159240723\n",
            " --- Candidate answer: 10인조 6.792560577392578\n",
            "-- source : https://search.naver.com/search.naver?where=view\n",
            " --- Candidate answer: 6명 11.00613784790039\n",
            " --- Candidate answer: 12 8.787215232849121\n",
            "-- source : https://search.naver.com/search.naver?where=kin\n",
            " --- Candidate answer: 8명 10.086480140686035\n",
            " --- Candidate answer: 4명 6.36948823928833\n",
            "-- source : <WikipediaPage 'HKT48'>\n",
            " --- Candidate answer: 300명 11.039990425109863\n",
            "-- source : <WikipediaPage '프리큐어 시리즈'>\n",
            "Answer: 12명  score: 11.849099159240723  source: ['https://search.naver.com/search.naver?where=news']\n",
            "Answer: 300명  score: 11.039990425109863  source: [<WikipediaPage 'HKT48'>]\n",
            " \n"
          ],
          "name": "stdout"
        }
      ]
    },
    {
      "cell_type": "code",
      "metadata": {
        "id": "L96Ik9MawxRd",
        "colab": {
          "base_uri": "https://localhost:8080/"
        },
        "outputId": "2b209698-733f-449d-9f16-8401014fd6f1"
      },
      "source": [
        "answers = kqaw.question([\"트와이스 중에 가장 인기 있는 사람은?\"])"
      ],
      "execution_count": 56,
      "outputs": [
        {
          "output_type": "stream",
          "text": [
            "Question: 트와이스 중에 가장 인기 있는 사람은?\n",
            "-- Source count :  8\n",
            "-- source : https://search.naver.com/search.naver?where=kin\n",
            " --- Candidate answer: 아베 나츠미 10.026005744934082\n",
            " --- Candidate answer: 유덕화 7.9194207191467285\n",
            "-- source : https://search.naver.com/search.naver?where=view\n",
            " --- Candidate answer: 사나 4.985182762145996\n",
            " --- Candidate answer: 바이너리옵션 8.480669975280762\n",
            "-- source : https://search.naver.com/search.naver?where=news\n",
            " --- Candidate answer: BTS 3.5792059898376465\n",
            " --- Candidate answer: 지효 10.526061058044434\n",
            "-- source : <WikipediaPage '박진영'>\n",
            " --- Candidate answer: 박진영 9.716397285461426\n",
            "-- source : <WikipediaPage '지효'>\n",
            "-- source : <WikipediaPage '청하 (가수)'>\n",
            " --- Candidate answer: 지효 5.938498497009277\n",
            "-- source : <WikipediaPage '트와이스'>\n",
            "-- source : <WikipediaPage '사나 (가수)'>\n",
            "Answer: 지효  score: 16.46455955505371  source: ['https://search.naver.com/search.naver?where=news', <WikipediaPage '청하 (가수)'>]\n",
            "Answer: 아베 나츠미  score: 10.026005744934082  source: ['https://search.naver.com/search.naver?where=kin']\n",
            " \n"
          ],
          "name": "stdout"
        }
      ]
    },
    {
      "cell_type": "code",
      "metadata": {
        "id": "Ni_mSMGTxnFi",
        "colab": {
          "base_uri": "https://localhost:8080/"
        },
        "outputId": "3ed72025-7883-442c-e9b6-404d4b7fc1f6"
      },
      "source": [
        "answers = kqaw.question([\"벤츠 자동차가 처음 발명된 년도는?\"])"
      ],
      "execution_count": 57,
      "outputs": [
        {
          "output_type": "stream",
          "text": [
            "Question: 벤츠 자동차가 처음 발명된 년도는?\n",
            "-- Source count :  8\n",
            "-- source : https://search.naver.com/search.naver?where=kin\n",
            " --- Candidate answer: 1883년 11.766658782958984\n",
            " --- Candidate answer: 1886년 9.813643455505371\n",
            " --- Candidate answer: 1998년 4.83826208114624\n",
            "-- source : <WikipediaPage '지크프리트 마르쿠스'>\n",
            " --- Candidate answer: 1831년 6.848933696746826\n",
            "-- source : https://search.naver.com/search.naver?where=view\n",
            " --- Candidate answer: 1885년 6.031770706176758\n",
            " --- Candidate answer: 1887년 10.240007400512695\n",
            "-- source : <WikipediaPage '자동차'>\n",
            " --- Candidate answer: 1886년 4.784786701202393\n",
            " --- Candidate answer: 1930년 5.459348201751709\n",
            "-- source : <WikipediaPage '만하임'>\n",
            " --- Candidate answer: 1886년 11.38278865814209\n",
            "-- source : <WikipediaPage '버스'>\n",
            " --- Candidate answer: 1893년 9.832870483398438\n",
            "-- source : <WikipediaPage '리눅스'>\n",
            " --- Candidate answer: 1990년 5.884979248046875\n",
            "-- source : https://search.naver.com/search.naver?where=news\n",
            "Answer: 1886년  score: 25.981218814849854  source: ['https://search.naver.com/search.naver?where=kin', <WikipediaPage '자동차'>, <WikipediaPage '만하임'>]\n",
            "Answer: 1883년  score: 11.766658782958984  source: ['https://search.naver.com/search.naver?where=kin']\n",
            " \n"
          ],
          "name": "stdout"
        }
      ]
    },
    {
      "cell_type": "code",
      "metadata": {
        "id": "mfivYMWWydC6"
      },
      "source": [
        "answers = kqaw.question([\"교통사고 대비를 위해 들어야 하는 보험은 무엇인가?\"])"
      ],
      "execution_count": null,
      "outputs": []
    },
    {
      "cell_type": "code",
      "metadata": {
        "id": "SZojgWg1zQVz"
      },
      "source": [
        "answers = kqaw.question([\"너의 이름은 무엇이니?\"])"
      ],
      "execution_count": null,
      "outputs": []
    },
    {
      "cell_type": "code",
      "metadata": {
        "id": "7jRkKp0A0DIN"
      },
      "source": [
        "answers = kqaw.question([\"너는 남자니 여자니?\"])"
      ],
      "execution_count": null,
      "outputs": []
    }
  ]
}