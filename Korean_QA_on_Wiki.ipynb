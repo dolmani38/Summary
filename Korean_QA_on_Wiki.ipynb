{
  "nbformat": 4,
  "nbformat_minor": 0,
  "metadata": {
    "colab": {
      "name": "Untitled10.ipynb",
      "provenance": [],
      "authorship_tag": "ABX9TyPb2AibqucTBgtW9TRlb5RA",
      "include_colab_link": true
    },
    "kernelspec": {
      "name": "python3",
      "display_name": "Python 3"
    },
    "accelerator": "GPU",
    "widgets": {
      "application/vnd.jupyter.widget-state+json": {
        "6ccb269394d242df9b87abfd20132e2d": {
          "model_module": "@jupyter-widgets/controls",
          "model_name": "HBoxModel",
          "state": {
            "_view_name": "HBoxView",
            "_dom_classes": [],
            "_model_name": "HBoxModel",
            "_view_module": "@jupyter-widgets/controls",
            "_model_module_version": "1.5.0",
            "_view_count": null,
            "_view_module_version": "1.5.0",
            "box_style": "",
            "layout": "IPY_MODEL_71b87924fb2d4399be5f0cad623b1d06",
            "_model_module": "@jupyter-widgets/controls",
            "children": [
              "IPY_MODEL_970e4b209cfc44169ab8d59bd846b59c",
              "IPY_MODEL_f389bc572c0c4b54971ad53d3aeb9e20"
            ]
          }
        },
        "71b87924fb2d4399be5f0cad623b1d06": {
          "model_module": "@jupyter-widgets/base",
          "model_name": "LayoutModel",
          "state": {
            "_view_name": "LayoutView",
            "grid_template_rows": null,
            "right": null,
            "justify_content": null,
            "_view_module": "@jupyter-widgets/base",
            "overflow": null,
            "_model_module_version": "1.2.0",
            "_view_count": null,
            "flex_flow": null,
            "width": null,
            "min_width": null,
            "border": null,
            "align_items": null,
            "bottom": null,
            "_model_module": "@jupyter-widgets/base",
            "top": null,
            "grid_column": null,
            "overflow_y": null,
            "overflow_x": null,
            "grid_auto_flow": null,
            "grid_area": null,
            "grid_template_columns": null,
            "flex": null,
            "_model_name": "LayoutModel",
            "justify_items": null,
            "grid_row": null,
            "max_height": null,
            "align_content": null,
            "visibility": null,
            "align_self": null,
            "height": null,
            "min_height": null,
            "padding": null,
            "grid_auto_rows": null,
            "grid_gap": null,
            "max_width": null,
            "order": null,
            "_view_module_version": "1.2.0",
            "grid_template_areas": null,
            "object_position": null,
            "object_fit": null,
            "grid_auto_columns": null,
            "margin": null,
            "display": null,
            "left": null
          }
        },
        "970e4b209cfc44169ab8d59bd846b59c": {
          "model_module": "@jupyter-widgets/controls",
          "model_name": "FloatProgressModel",
          "state": {
            "_view_name": "ProgressView",
            "style": "IPY_MODEL_938db983bff84cb5909ed1541757862a",
            "_dom_classes": [],
            "description": "Downloading: 100%",
            "_model_name": "FloatProgressModel",
            "bar_style": "success",
            "max": 591,
            "_view_module": "@jupyter-widgets/controls",
            "_model_module_version": "1.5.0",
            "value": 591,
            "_view_count": null,
            "_view_module_version": "1.5.0",
            "orientation": "horizontal",
            "min": 0,
            "description_tooltip": null,
            "_model_module": "@jupyter-widgets/controls",
            "layout": "IPY_MODEL_5602295b68564af2989c71edde08139b"
          }
        },
        "f389bc572c0c4b54971ad53d3aeb9e20": {
          "model_module": "@jupyter-widgets/controls",
          "model_name": "HTMLModel",
          "state": {
            "_view_name": "HTMLView",
            "style": "IPY_MODEL_d26901d902174e058dc24e3814cf2f49",
            "_dom_classes": [],
            "description": "",
            "_model_name": "HTMLModel",
            "placeholder": "​",
            "_view_module": "@jupyter-widgets/controls",
            "_model_module_version": "1.5.0",
            "value": " 591/591 [00:00&lt;00:00, 1.22kB/s]",
            "_view_count": null,
            "_view_module_version": "1.5.0",
            "description_tooltip": null,
            "_model_module": "@jupyter-widgets/controls",
            "layout": "IPY_MODEL_27f6e237d0234742b1a9f964ab219d9c"
          }
        },
        "938db983bff84cb5909ed1541757862a": {
          "model_module": "@jupyter-widgets/controls",
          "model_name": "ProgressStyleModel",
          "state": {
            "_view_name": "StyleView",
            "_model_name": "ProgressStyleModel",
            "description_width": "initial",
            "_view_module": "@jupyter-widgets/base",
            "_model_module_version": "1.5.0",
            "_view_count": null,
            "_view_module_version": "1.2.0",
            "bar_color": null,
            "_model_module": "@jupyter-widgets/controls"
          }
        },
        "5602295b68564af2989c71edde08139b": {
          "model_module": "@jupyter-widgets/base",
          "model_name": "LayoutModel",
          "state": {
            "_view_name": "LayoutView",
            "grid_template_rows": null,
            "right": null,
            "justify_content": null,
            "_view_module": "@jupyter-widgets/base",
            "overflow": null,
            "_model_module_version": "1.2.0",
            "_view_count": null,
            "flex_flow": null,
            "width": null,
            "min_width": null,
            "border": null,
            "align_items": null,
            "bottom": null,
            "_model_module": "@jupyter-widgets/base",
            "top": null,
            "grid_column": null,
            "overflow_y": null,
            "overflow_x": null,
            "grid_auto_flow": null,
            "grid_area": null,
            "grid_template_columns": null,
            "flex": null,
            "_model_name": "LayoutModel",
            "justify_items": null,
            "grid_row": null,
            "max_height": null,
            "align_content": null,
            "visibility": null,
            "align_self": null,
            "height": null,
            "min_height": null,
            "padding": null,
            "grid_auto_rows": null,
            "grid_gap": null,
            "max_width": null,
            "order": null,
            "_view_module_version": "1.2.0",
            "grid_template_areas": null,
            "object_position": null,
            "object_fit": null,
            "grid_auto_columns": null,
            "margin": null,
            "display": null,
            "left": null
          }
        },
        "d26901d902174e058dc24e3814cf2f49": {
          "model_module": "@jupyter-widgets/controls",
          "model_name": "DescriptionStyleModel",
          "state": {
            "_view_name": "StyleView",
            "_model_name": "DescriptionStyleModel",
            "description_width": "",
            "_view_module": "@jupyter-widgets/base",
            "_model_module_version": "1.5.0",
            "_view_count": null,
            "_view_module_version": "1.2.0",
            "_model_module": "@jupyter-widgets/controls"
          }
        },
        "27f6e237d0234742b1a9f964ab219d9c": {
          "model_module": "@jupyter-widgets/base",
          "model_name": "LayoutModel",
          "state": {
            "_view_name": "LayoutView",
            "grid_template_rows": null,
            "right": null,
            "justify_content": null,
            "_view_module": "@jupyter-widgets/base",
            "overflow": null,
            "_model_module_version": "1.2.0",
            "_view_count": null,
            "flex_flow": null,
            "width": null,
            "min_width": null,
            "border": null,
            "align_items": null,
            "bottom": null,
            "_model_module": "@jupyter-widgets/base",
            "top": null,
            "grid_column": null,
            "overflow_y": null,
            "overflow_x": null,
            "grid_auto_flow": null,
            "grid_area": null,
            "grid_template_columns": null,
            "flex": null,
            "_model_name": "LayoutModel",
            "justify_items": null,
            "grid_row": null,
            "max_height": null,
            "align_content": null,
            "visibility": null,
            "align_self": null,
            "height": null,
            "min_height": null,
            "padding": null,
            "grid_auto_rows": null,
            "grid_gap": null,
            "max_width": null,
            "order": null,
            "_view_module_version": "1.2.0",
            "grid_template_areas": null,
            "object_position": null,
            "object_fit": null,
            "grid_auto_columns": null,
            "margin": null,
            "display": null,
            "left": null
          }
        },
        "dba5582233844b90bb9e2be5d640fd40": {
          "model_module": "@jupyter-widgets/controls",
          "model_name": "HBoxModel",
          "state": {
            "_view_name": "HBoxView",
            "_dom_classes": [],
            "_model_name": "HBoxModel",
            "_view_module": "@jupyter-widgets/controls",
            "_model_module_version": "1.5.0",
            "_view_count": null,
            "_view_module_version": "1.5.0",
            "box_style": "",
            "layout": "IPY_MODEL_a8af27a1c14e4199b2788e717f1212cf",
            "_model_module": "@jupyter-widgets/controls",
            "children": [
              "IPY_MODEL_83eedf8bf01e4d4c970eaf96948a9c1d",
              "IPY_MODEL_690815ce417544bf81ae026873e7c6fe"
            ]
          }
        },
        "a8af27a1c14e4199b2788e717f1212cf": {
          "model_module": "@jupyter-widgets/base",
          "model_name": "LayoutModel",
          "state": {
            "_view_name": "LayoutView",
            "grid_template_rows": null,
            "right": null,
            "justify_content": null,
            "_view_module": "@jupyter-widgets/base",
            "overflow": null,
            "_model_module_version": "1.2.0",
            "_view_count": null,
            "flex_flow": null,
            "width": null,
            "min_width": null,
            "border": null,
            "align_items": null,
            "bottom": null,
            "_model_module": "@jupyter-widgets/base",
            "top": null,
            "grid_column": null,
            "overflow_y": null,
            "overflow_x": null,
            "grid_auto_flow": null,
            "grid_area": null,
            "grid_template_columns": null,
            "flex": null,
            "_model_name": "LayoutModel",
            "justify_items": null,
            "grid_row": null,
            "max_height": null,
            "align_content": null,
            "visibility": null,
            "align_self": null,
            "height": null,
            "min_height": null,
            "padding": null,
            "grid_auto_rows": null,
            "grid_gap": null,
            "max_width": null,
            "order": null,
            "_view_module_version": "1.2.0",
            "grid_template_areas": null,
            "object_position": null,
            "object_fit": null,
            "grid_auto_columns": null,
            "margin": null,
            "display": null,
            "left": null
          }
        },
        "83eedf8bf01e4d4c970eaf96948a9c1d": {
          "model_module": "@jupyter-widgets/controls",
          "model_name": "FloatProgressModel",
          "state": {
            "_view_name": "ProgressView",
            "style": "IPY_MODEL_cb0ec9fd71814f31b45a5095b941f038",
            "_dom_classes": [],
            "description": "Downloading: 100%",
            "_model_name": "FloatProgressModel",
            "bar_style": "success",
            "max": 263327,
            "_view_module": "@jupyter-widgets/controls",
            "_model_module_version": "1.5.0",
            "value": 263327,
            "_view_count": null,
            "_view_module_version": "1.5.0",
            "orientation": "horizontal",
            "min": 0,
            "description_tooltip": null,
            "_model_module": "@jupyter-widgets/controls",
            "layout": "IPY_MODEL_058f0cf467694ef88543f8cbc8d92978"
          }
        },
        "690815ce417544bf81ae026873e7c6fe": {
          "model_module": "@jupyter-widgets/controls",
          "model_name": "HTMLModel",
          "state": {
            "_view_name": "HTMLView",
            "style": "IPY_MODEL_73ef0d4b871a4d2ea4bdbdc4c6a34951",
            "_dom_classes": [],
            "description": "",
            "_model_name": "HTMLModel",
            "placeholder": "​",
            "_view_module": "@jupyter-widgets/controls",
            "_model_module_version": "1.5.0",
            "value": " 263k/263k [00:01&lt;00:00, 162kB/s]",
            "_view_count": null,
            "_view_module_version": "1.5.0",
            "description_tooltip": null,
            "_model_module": "@jupyter-widgets/controls",
            "layout": "IPY_MODEL_3c1eb65818fd45ae9f1a49620e66d9aa"
          }
        },
        "cb0ec9fd71814f31b45a5095b941f038": {
          "model_module": "@jupyter-widgets/controls",
          "model_name": "ProgressStyleModel",
          "state": {
            "_view_name": "StyleView",
            "_model_name": "ProgressStyleModel",
            "description_width": "initial",
            "_view_module": "@jupyter-widgets/base",
            "_model_module_version": "1.5.0",
            "_view_count": null,
            "_view_module_version": "1.2.0",
            "bar_color": null,
            "_model_module": "@jupyter-widgets/controls"
          }
        },
        "058f0cf467694ef88543f8cbc8d92978": {
          "model_module": "@jupyter-widgets/base",
          "model_name": "LayoutModel",
          "state": {
            "_view_name": "LayoutView",
            "grid_template_rows": null,
            "right": null,
            "justify_content": null,
            "_view_module": "@jupyter-widgets/base",
            "overflow": null,
            "_model_module_version": "1.2.0",
            "_view_count": null,
            "flex_flow": null,
            "width": null,
            "min_width": null,
            "border": null,
            "align_items": null,
            "bottom": null,
            "_model_module": "@jupyter-widgets/base",
            "top": null,
            "grid_column": null,
            "overflow_y": null,
            "overflow_x": null,
            "grid_auto_flow": null,
            "grid_area": null,
            "grid_template_columns": null,
            "flex": null,
            "_model_name": "LayoutModel",
            "justify_items": null,
            "grid_row": null,
            "max_height": null,
            "align_content": null,
            "visibility": null,
            "align_self": null,
            "height": null,
            "min_height": null,
            "padding": null,
            "grid_auto_rows": null,
            "grid_gap": null,
            "max_width": null,
            "order": null,
            "_view_module_version": "1.2.0",
            "grid_template_areas": null,
            "object_position": null,
            "object_fit": null,
            "grid_auto_columns": null,
            "margin": null,
            "display": null,
            "left": null
          }
        },
        "73ef0d4b871a4d2ea4bdbdc4c6a34951": {
          "model_module": "@jupyter-widgets/controls",
          "model_name": "DescriptionStyleModel",
          "state": {
            "_view_name": "StyleView",
            "_model_name": "DescriptionStyleModel",
            "description_width": "",
            "_view_module": "@jupyter-widgets/base",
            "_model_module_version": "1.5.0",
            "_view_count": null,
            "_view_module_version": "1.2.0",
            "_model_module": "@jupyter-widgets/controls"
          }
        },
        "3c1eb65818fd45ae9f1a49620e66d9aa": {
          "model_module": "@jupyter-widgets/base",
          "model_name": "LayoutModel",
          "state": {
            "_view_name": "LayoutView",
            "grid_template_rows": null,
            "right": null,
            "justify_content": null,
            "_view_module": "@jupyter-widgets/base",
            "overflow": null,
            "_model_module_version": "1.2.0",
            "_view_count": null,
            "flex_flow": null,
            "width": null,
            "min_width": null,
            "border": null,
            "align_items": null,
            "bottom": null,
            "_model_module": "@jupyter-widgets/base",
            "top": null,
            "grid_column": null,
            "overflow_y": null,
            "overflow_x": null,
            "grid_auto_flow": null,
            "grid_area": null,
            "grid_template_columns": null,
            "flex": null,
            "_model_name": "LayoutModel",
            "justify_items": null,
            "grid_row": null,
            "max_height": null,
            "align_content": null,
            "visibility": null,
            "align_self": null,
            "height": null,
            "min_height": null,
            "padding": null,
            "grid_auto_rows": null,
            "grid_gap": null,
            "max_width": null,
            "order": null,
            "_view_module_version": "1.2.0",
            "grid_template_areas": null,
            "object_position": null,
            "object_fit": null,
            "grid_auto_columns": null,
            "margin": null,
            "display": null,
            "left": null
          }
        },
        "fb06f306c6624911be7fac88ee87c878": {
          "model_module": "@jupyter-widgets/controls",
          "model_name": "HBoxModel",
          "state": {
            "_view_name": "HBoxView",
            "_dom_classes": [],
            "_model_name": "HBoxModel",
            "_view_module": "@jupyter-widgets/controls",
            "_model_module_version": "1.5.0",
            "_view_count": null,
            "_view_module_version": "1.5.0",
            "box_style": "",
            "layout": "IPY_MODEL_7396646155994504ad7a6c765a0a381e",
            "_model_module": "@jupyter-widgets/controls",
            "children": [
              "IPY_MODEL_29e384b8e093449c87491dfd9f36a1a5",
              "IPY_MODEL_f39eecb600a64624ad652233f5ee5953"
            ]
          }
        },
        "7396646155994504ad7a6c765a0a381e": {
          "model_module": "@jupyter-widgets/base",
          "model_name": "LayoutModel",
          "state": {
            "_view_name": "LayoutView",
            "grid_template_rows": null,
            "right": null,
            "justify_content": null,
            "_view_module": "@jupyter-widgets/base",
            "overflow": null,
            "_model_module_version": "1.2.0",
            "_view_count": null,
            "flex_flow": null,
            "width": null,
            "min_width": null,
            "border": null,
            "align_items": null,
            "bottom": null,
            "_model_module": "@jupyter-widgets/base",
            "top": null,
            "grid_column": null,
            "overflow_y": null,
            "overflow_x": null,
            "grid_auto_flow": null,
            "grid_area": null,
            "grid_template_columns": null,
            "flex": null,
            "_model_name": "LayoutModel",
            "justify_items": null,
            "grid_row": null,
            "max_height": null,
            "align_content": null,
            "visibility": null,
            "align_self": null,
            "height": null,
            "min_height": null,
            "padding": null,
            "grid_auto_rows": null,
            "grid_gap": null,
            "max_width": null,
            "order": null,
            "_view_module_version": "1.2.0",
            "grid_template_areas": null,
            "object_position": null,
            "object_fit": null,
            "grid_auto_columns": null,
            "margin": null,
            "display": null,
            "left": null
          }
        },
        "29e384b8e093449c87491dfd9f36a1a5": {
          "model_module": "@jupyter-widgets/controls",
          "model_name": "FloatProgressModel",
          "state": {
            "_view_name": "ProgressView",
            "style": "IPY_MODEL_6d324210756e4f169bab91b8fbcf5b4b",
            "_dom_classes": [],
            "description": "Downloading: 100%",
            "_model_name": "FloatProgressModel",
            "bar_style": "success",
            "max": 112,
            "_view_module": "@jupyter-widgets/controls",
            "_model_module_version": "1.5.0",
            "value": 112,
            "_view_count": null,
            "_view_module_version": "1.5.0",
            "orientation": "horizontal",
            "min": 0,
            "description_tooltip": null,
            "_model_module": "@jupyter-widgets/controls",
            "layout": "IPY_MODEL_e30464606fda427687e6247a6c71d1f1"
          }
        },
        "f39eecb600a64624ad652233f5ee5953": {
          "model_module": "@jupyter-widgets/controls",
          "model_name": "HTMLModel",
          "state": {
            "_view_name": "HTMLView",
            "style": "IPY_MODEL_bbb0667cbb194f07bcbf84a55d581759",
            "_dom_classes": [],
            "description": "",
            "_model_name": "HTMLModel",
            "placeholder": "​",
            "_view_module": "@jupyter-widgets/controls",
            "_model_module_version": "1.5.0",
            "value": " 112/112 [00:00&lt;00:00, 155B/s]",
            "_view_count": null,
            "_view_module_version": "1.5.0",
            "description_tooltip": null,
            "_model_module": "@jupyter-widgets/controls",
            "layout": "IPY_MODEL_8a58e2f72506469b804637ca33146e51"
          }
        },
        "6d324210756e4f169bab91b8fbcf5b4b": {
          "model_module": "@jupyter-widgets/controls",
          "model_name": "ProgressStyleModel",
          "state": {
            "_view_name": "StyleView",
            "_model_name": "ProgressStyleModel",
            "description_width": "initial",
            "_view_module": "@jupyter-widgets/base",
            "_model_module_version": "1.5.0",
            "_view_count": null,
            "_view_module_version": "1.2.0",
            "bar_color": null,
            "_model_module": "@jupyter-widgets/controls"
          }
        },
        "e30464606fda427687e6247a6c71d1f1": {
          "model_module": "@jupyter-widgets/base",
          "model_name": "LayoutModel",
          "state": {
            "_view_name": "LayoutView",
            "grid_template_rows": null,
            "right": null,
            "justify_content": null,
            "_view_module": "@jupyter-widgets/base",
            "overflow": null,
            "_model_module_version": "1.2.0",
            "_view_count": null,
            "flex_flow": null,
            "width": null,
            "min_width": null,
            "border": null,
            "align_items": null,
            "bottom": null,
            "_model_module": "@jupyter-widgets/base",
            "top": null,
            "grid_column": null,
            "overflow_y": null,
            "overflow_x": null,
            "grid_auto_flow": null,
            "grid_area": null,
            "grid_template_columns": null,
            "flex": null,
            "_model_name": "LayoutModel",
            "justify_items": null,
            "grid_row": null,
            "max_height": null,
            "align_content": null,
            "visibility": null,
            "align_self": null,
            "height": null,
            "min_height": null,
            "padding": null,
            "grid_auto_rows": null,
            "grid_gap": null,
            "max_width": null,
            "order": null,
            "_view_module_version": "1.2.0",
            "grid_template_areas": null,
            "object_position": null,
            "object_fit": null,
            "grid_auto_columns": null,
            "margin": null,
            "display": null,
            "left": null
          }
        },
        "bbb0667cbb194f07bcbf84a55d581759": {
          "model_module": "@jupyter-widgets/controls",
          "model_name": "DescriptionStyleModel",
          "state": {
            "_view_name": "StyleView",
            "_model_name": "DescriptionStyleModel",
            "description_width": "",
            "_view_module": "@jupyter-widgets/base",
            "_model_module_version": "1.5.0",
            "_view_count": null,
            "_view_module_version": "1.2.0",
            "_model_module": "@jupyter-widgets/controls"
          }
        },
        "8a58e2f72506469b804637ca33146e51": {
          "model_module": "@jupyter-widgets/base",
          "model_name": "LayoutModel",
          "state": {
            "_view_name": "LayoutView",
            "grid_template_rows": null,
            "right": null,
            "justify_content": null,
            "_view_module": "@jupyter-widgets/base",
            "overflow": null,
            "_model_module_version": "1.2.0",
            "_view_count": null,
            "flex_flow": null,
            "width": null,
            "min_width": null,
            "border": null,
            "align_items": null,
            "bottom": null,
            "_model_module": "@jupyter-widgets/base",
            "top": null,
            "grid_column": null,
            "overflow_y": null,
            "overflow_x": null,
            "grid_auto_flow": null,
            "grid_area": null,
            "grid_template_columns": null,
            "flex": null,
            "_model_name": "LayoutModel",
            "justify_items": null,
            "grid_row": null,
            "max_height": null,
            "align_content": null,
            "visibility": null,
            "align_self": null,
            "height": null,
            "min_height": null,
            "padding": null,
            "grid_auto_rows": null,
            "grid_gap": null,
            "max_width": null,
            "order": null,
            "_view_module_version": "1.2.0",
            "grid_template_areas": null,
            "object_position": null,
            "object_fit": null,
            "grid_auto_columns": null,
            "margin": null,
            "display": null,
            "left": null
          }
        },
        "0550f22ec3a04cf19c1917bec2be316e": {
          "model_module": "@jupyter-widgets/controls",
          "model_name": "HBoxModel",
          "state": {
            "_view_name": "HBoxView",
            "_dom_classes": [],
            "_model_name": "HBoxModel",
            "_view_module": "@jupyter-widgets/controls",
            "_model_module_version": "1.5.0",
            "_view_count": null,
            "_view_module_version": "1.5.0",
            "box_style": "",
            "layout": "IPY_MODEL_94369e81b9cb4621adb0e6bdf122fdd0",
            "_model_module": "@jupyter-widgets/controls",
            "children": [
              "IPY_MODEL_3b35aec022c442d59c5e7b1cbc10b271",
              "IPY_MODEL_d76067c9b0414c5ca1909cf938dfc511"
            ]
          }
        },
        "94369e81b9cb4621adb0e6bdf122fdd0": {
          "model_module": "@jupyter-widgets/base",
          "model_name": "LayoutModel",
          "state": {
            "_view_name": "LayoutView",
            "grid_template_rows": null,
            "right": null,
            "justify_content": null,
            "_view_module": "@jupyter-widgets/base",
            "overflow": null,
            "_model_module_version": "1.2.0",
            "_view_count": null,
            "flex_flow": null,
            "width": null,
            "min_width": null,
            "border": null,
            "align_items": null,
            "bottom": null,
            "_model_module": "@jupyter-widgets/base",
            "top": null,
            "grid_column": null,
            "overflow_y": null,
            "overflow_x": null,
            "grid_auto_flow": null,
            "grid_area": null,
            "grid_template_columns": null,
            "flex": null,
            "_model_name": "LayoutModel",
            "justify_items": null,
            "grid_row": null,
            "max_height": null,
            "align_content": null,
            "visibility": null,
            "align_self": null,
            "height": null,
            "min_height": null,
            "padding": null,
            "grid_auto_rows": null,
            "grid_gap": null,
            "max_width": null,
            "order": null,
            "_view_module_version": "1.2.0",
            "grid_template_areas": null,
            "object_position": null,
            "object_fit": null,
            "grid_auto_columns": null,
            "margin": null,
            "display": null,
            "left": null
          }
        },
        "3b35aec022c442d59c5e7b1cbc10b271": {
          "model_module": "@jupyter-widgets/controls",
          "model_name": "FloatProgressModel",
          "state": {
            "_view_name": "ProgressView",
            "style": "IPY_MODEL_4d8cde5fe2c34978b6af40bc08d83b50",
            "_dom_classes": [],
            "description": "Downloading: 100%",
            "_model_name": "FloatProgressModel",
            "bar_style": "success",
            "max": 111,
            "_view_module": "@jupyter-widgets/controls",
            "_model_module_version": "1.5.0",
            "value": 111,
            "_view_count": null,
            "_view_module_version": "1.5.0",
            "orientation": "horizontal",
            "min": 0,
            "description_tooltip": null,
            "_model_module": "@jupyter-widgets/controls",
            "layout": "IPY_MODEL_4d0c6063a63340adb4b49df766204dfb"
          }
        },
        "d76067c9b0414c5ca1909cf938dfc511": {
          "model_module": "@jupyter-widgets/controls",
          "model_name": "HTMLModel",
          "state": {
            "_view_name": "HTMLView",
            "style": "IPY_MODEL_fd0a5c75982d443e8ab02ce1e2096ee5",
            "_dom_classes": [],
            "description": "",
            "_model_name": "HTMLModel",
            "placeholder": "​",
            "_view_module": "@jupyter-widgets/controls",
            "_model_module_version": "1.5.0",
            "value": " 111/111 [00:00&lt;00:00, 419B/s]",
            "_view_count": null,
            "_view_module_version": "1.5.0",
            "description_tooltip": null,
            "_model_module": "@jupyter-widgets/controls",
            "layout": "IPY_MODEL_252f3d9a480e4dc69311405de6d4566a"
          }
        },
        "4d8cde5fe2c34978b6af40bc08d83b50": {
          "model_module": "@jupyter-widgets/controls",
          "model_name": "ProgressStyleModel",
          "state": {
            "_view_name": "StyleView",
            "_model_name": "ProgressStyleModel",
            "description_width": "initial",
            "_view_module": "@jupyter-widgets/base",
            "_model_module_version": "1.5.0",
            "_view_count": null,
            "_view_module_version": "1.2.0",
            "bar_color": null,
            "_model_module": "@jupyter-widgets/controls"
          }
        },
        "4d0c6063a63340adb4b49df766204dfb": {
          "model_module": "@jupyter-widgets/base",
          "model_name": "LayoutModel",
          "state": {
            "_view_name": "LayoutView",
            "grid_template_rows": null,
            "right": null,
            "justify_content": null,
            "_view_module": "@jupyter-widgets/base",
            "overflow": null,
            "_model_module_version": "1.2.0",
            "_view_count": null,
            "flex_flow": null,
            "width": null,
            "min_width": null,
            "border": null,
            "align_items": null,
            "bottom": null,
            "_model_module": "@jupyter-widgets/base",
            "top": null,
            "grid_column": null,
            "overflow_y": null,
            "overflow_x": null,
            "grid_auto_flow": null,
            "grid_area": null,
            "grid_template_columns": null,
            "flex": null,
            "_model_name": "LayoutModel",
            "justify_items": null,
            "grid_row": null,
            "max_height": null,
            "align_content": null,
            "visibility": null,
            "align_self": null,
            "height": null,
            "min_height": null,
            "padding": null,
            "grid_auto_rows": null,
            "grid_gap": null,
            "max_width": null,
            "order": null,
            "_view_module_version": "1.2.0",
            "grid_template_areas": null,
            "object_position": null,
            "object_fit": null,
            "grid_auto_columns": null,
            "margin": null,
            "display": null,
            "left": null
          }
        },
        "fd0a5c75982d443e8ab02ce1e2096ee5": {
          "model_module": "@jupyter-widgets/controls",
          "model_name": "DescriptionStyleModel",
          "state": {
            "_view_name": "StyleView",
            "_model_name": "DescriptionStyleModel",
            "description_width": "",
            "_view_module": "@jupyter-widgets/base",
            "_model_module_version": "1.5.0",
            "_view_count": null,
            "_view_module_version": "1.2.0",
            "_model_module": "@jupyter-widgets/controls"
          }
        },
        "252f3d9a480e4dc69311405de6d4566a": {
          "model_module": "@jupyter-widgets/base",
          "model_name": "LayoutModel",
          "state": {
            "_view_name": "LayoutView",
            "grid_template_rows": null,
            "right": null,
            "justify_content": null,
            "_view_module": "@jupyter-widgets/base",
            "overflow": null,
            "_model_module_version": "1.2.0",
            "_view_count": null,
            "flex_flow": null,
            "width": null,
            "min_width": null,
            "border": null,
            "align_items": null,
            "bottom": null,
            "_model_module": "@jupyter-widgets/base",
            "top": null,
            "grid_column": null,
            "overflow_y": null,
            "overflow_x": null,
            "grid_auto_flow": null,
            "grid_area": null,
            "grid_template_columns": null,
            "flex": null,
            "_model_name": "LayoutModel",
            "justify_items": null,
            "grid_row": null,
            "max_height": null,
            "align_content": null,
            "visibility": null,
            "align_self": null,
            "height": null,
            "min_height": null,
            "padding": null,
            "grid_auto_rows": null,
            "grid_gap": null,
            "max_width": null,
            "order": null,
            "_view_module_version": "1.2.0",
            "grid_template_areas": null,
            "object_position": null,
            "object_fit": null,
            "grid_auto_columns": null,
            "margin": null,
            "display": null,
            "left": null
          }
        },
        "e55c18c9420c47e0a3a1203ce1f3308c": {
          "model_module": "@jupyter-widgets/controls",
          "model_name": "HBoxModel",
          "state": {
            "_view_name": "HBoxView",
            "_dom_classes": [],
            "_model_name": "HBoxModel",
            "_view_module": "@jupyter-widgets/controls",
            "_model_module_version": "1.5.0",
            "_view_count": null,
            "_view_module_version": "1.5.0",
            "box_style": "",
            "layout": "IPY_MODEL_d0163b2a9d474a6b8889bb70123e9655",
            "_model_module": "@jupyter-widgets/controls",
            "children": [
              "IPY_MODEL_08000687432f4a0c8ccbd5a23ae9e8eb",
              "IPY_MODEL_adac07bcd009497286a2350a3c3c87e9"
            ]
          }
        },
        "d0163b2a9d474a6b8889bb70123e9655": {
          "model_module": "@jupyter-widgets/base",
          "model_name": "LayoutModel",
          "state": {
            "_view_name": "LayoutView",
            "grid_template_rows": null,
            "right": null,
            "justify_content": null,
            "_view_module": "@jupyter-widgets/base",
            "overflow": null,
            "_model_module_version": "1.2.0",
            "_view_count": null,
            "flex_flow": null,
            "width": null,
            "min_width": null,
            "border": null,
            "align_items": null,
            "bottom": null,
            "_model_module": "@jupyter-widgets/base",
            "top": null,
            "grid_column": null,
            "overflow_y": null,
            "overflow_x": null,
            "grid_auto_flow": null,
            "grid_area": null,
            "grid_template_columns": null,
            "flex": null,
            "_model_name": "LayoutModel",
            "justify_items": null,
            "grid_row": null,
            "max_height": null,
            "align_content": null,
            "visibility": null,
            "align_self": null,
            "height": null,
            "min_height": null,
            "padding": null,
            "grid_auto_rows": null,
            "grid_gap": null,
            "max_width": null,
            "order": null,
            "_view_module_version": "1.2.0",
            "grid_template_areas": null,
            "object_position": null,
            "object_fit": null,
            "grid_auto_columns": null,
            "margin": null,
            "display": null,
            "left": null
          }
        },
        "08000687432f4a0c8ccbd5a23ae9e8eb": {
          "model_module": "@jupyter-widgets/controls",
          "model_name": "FloatProgressModel",
          "state": {
            "_view_name": "ProgressView",
            "style": "IPY_MODEL_b6c4ea2851134225ab9b3a2922f35001",
            "_dom_classes": [],
            "description": "Downloading: 100%",
            "_model_name": "FloatProgressModel",
            "bar_style": "success",
            "max": 449418935,
            "_view_module": "@jupyter-widgets/controls",
            "_model_module_version": "1.5.0",
            "value": 449418935,
            "_view_count": null,
            "_view_module_version": "1.5.0",
            "orientation": "horizontal",
            "min": 0,
            "description_tooltip": null,
            "_model_module": "@jupyter-widgets/controls",
            "layout": "IPY_MODEL_26e8522e0b6645cbb8a9ccb8823f444f"
          }
        },
        "adac07bcd009497286a2350a3c3c87e9": {
          "model_module": "@jupyter-widgets/controls",
          "model_name": "HTMLModel",
          "state": {
            "_view_name": "HTMLView",
            "style": "IPY_MODEL_13793ad3c8204d1e91bdca216004a396",
            "_dom_classes": [],
            "description": "",
            "_model_name": "HTMLModel",
            "placeholder": "​",
            "_view_module": "@jupyter-widgets/controls",
            "_model_module_version": "1.5.0",
            "value": " 449M/449M [00:14&lt;00:00, 30.9MB/s]",
            "_view_count": null,
            "_view_module_version": "1.5.0",
            "description_tooltip": null,
            "_model_module": "@jupyter-widgets/controls",
            "layout": "IPY_MODEL_4549a626f0af404fbfb96935b3221462"
          }
        },
        "b6c4ea2851134225ab9b3a2922f35001": {
          "model_module": "@jupyter-widgets/controls",
          "model_name": "ProgressStyleModel",
          "state": {
            "_view_name": "StyleView",
            "_model_name": "ProgressStyleModel",
            "description_width": "initial",
            "_view_module": "@jupyter-widgets/base",
            "_model_module_version": "1.5.0",
            "_view_count": null,
            "_view_module_version": "1.2.0",
            "bar_color": null,
            "_model_module": "@jupyter-widgets/controls"
          }
        },
        "26e8522e0b6645cbb8a9ccb8823f444f": {
          "model_module": "@jupyter-widgets/base",
          "model_name": "LayoutModel",
          "state": {
            "_view_name": "LayoutView",
            "grid_template_rows": null,
            "right": null,
            "justify_content": null,
            "_view_module": "@jupyter-widgets/base",
            "overflow": null,
            "_model_module_version": "1.2.0",
            "_view_count": null,
            "flex_flow": null,
            "width": null,
            "min_width": null,
            "border": null,
            "align_items": null,
            "bottom": null,
            "_model_module": "@jupyter-widgets/base",
            "top": null,
            "grid_column": null,
            "overflow_y": null,
            "overflow_x": null,
            "grid_auto_flow": null,
            "grid_area": null,
            "grid_template_columns": null,
            "flex": null,
            "_model_name": "LayoutModel",
            "justify_items": null,
            "grid_row": null,
            "max_height": null,
            "align_content": null,
            "visibility": null,
            "align_self": null,
            "height": null,
            "min_height": null,
            "padding": null,
            "grid_auto_rows": null,
            "grid_gap": null,
            "max_width": null,
            "order": null,
            "_view_module_version": "1.2.0",
            "grid_template_areas": null,
            "object_position": null,
            "object_fit": null,
            "grid_auto_columns": null,
            "margin": null,
            "display": null,
            "left": null
          }
        },
        "13793ad3c8204d1e91bdca216004a396": {
          "model_module": "@jupyter-widgets/controls",
          "model_name": "DescriptionStyleModel",
          "state": {
            "_view_name": "StyleView",
            "_model_name": "DescriptionStyleModel",
            "description_width": "",
            "_view_module": "@jupyter-widgets/base",
            "_model_module_version": "1.5.0",
            "_view_count": null,
            "_view_module_version": "1.2.0",
            "_model_module": "@jupyter-widgets/controls"
          }
        },
        "4549a626f0af404fbfb96935b3221462": {
          "model_module": "@jupyter-widgets/base",
          "model_name": "LayoutModel",
          "state": {
            "_view_name": "LayoutView",
            "grid_template_rows": null,
            "right": null,
            "justify_content": null,
            "_view_module": "@jupyter-widgets/base",
            "overflow": null,
            "_model_module_version": "1.2.0",
            "_view_count": null,
            "flex_flow": null,
            "width": null,
            "min_width": null,
            "border": null,
            "align_items": null,
            "bottom": null,
            "_model_module": "@jupyter-widgets/base",
            "top": null,
            "grid_column": null,
            "overflow_y": null,
            "overflow_x": null,
            "grid_auto_flow": null,
            "grid_area": null,
            "grid_template_columns": null,
            "flex": null,
            "_model_name": "LayoutModel",
            "justify_items": null,
            "grid_row": null,
            "max_height": null,
            "align_content": null,
            "visibility": null,
            "align_self": null,
            "height": null,
            "min_height": null,
            "padding": null,
            "grid_auto_rows": null,
            "grid_gap": null,
            "max_width": null,
            "order": null,
            "_view_module_version": "1.2.0",
            "grid_template_areas": null,
            "object_position": null,
            "object_fit": null,
            "grid_auto_columns": null,
            "margin": null,
            "display": null,
            "left": null
          }
        }
      }
    }
  },
  "cells": [
    {
      "cell_type": "markdown",
      "metadata": {
        "id": "view-in-github",
        "colab_type": "text"
      },
      "source": [
        "<a href=\"https://colab.research.google.com/github/dolmani38/Summary/blob/master/Korean_QA_on_Wiki.ipynb\" target=\"_parent\"><img src=\"https://colab.research.google.com/assets/colab-badge.svg\" alt=\"Open In Colab\"/></a>"
      ]
    },
    {
      "cell_type": "markdown",
      "metadata": {
        "id": "T6x4Nsa-fZkw"
      },
      "source": [
        "## Building a QA System with BERT on Wikipedia\r\n",
        "\r\n",
        "https://qa.fastforwardlabs.com/pytorch/hugging%20face/wikipedia/bert/transformers/2020/05/19/Getting_Started_with_QA.html"
      ]
    },
    {
      "cell_type": "markdown",
      "metadata": {
        "id": "SixlAqFJfbK9"
      },
      "source": [
        "위의 내용을 한국어 QA로 변경\r\n",
        "\r\n",
        "지식 base = wiki+네이버(view,kin,news)"
      ]
    },
    {
      "cell_type": "code",
      "metadata": {
        "colab": {
          "base_uri": "https://localhost:8080/"
        },
        "id": "1cKYlcdVfekg",
        "outputId": "9d4882f0-3d89-4241-9eb8-515f632d9735"
      },
      "source": [
        "!pip install transformers==3\r\n",
        "!pip install wikipedia\r\n",
        "!pip install sentence-transformers"
      ],
      "execution_count": 1,
      "outputs": [
        {
          "output_type": "stream",
          "text": [
            "Collecting transformers==3\n",
            "\u001b[?25l  Downloading https://files.pythonhosted.org/packages/9c/35/1c3f6e62d81f5f0daff1384e6d5e6c5758682a8357ebc765ece2b9def62b/transformers-3.0.0-py3-none-any.whl (754kB)\n",
            "\u001b[K     |████████████████████████████████| 757kB 7.7MB/s \n",
            "\u001b[?25hRequirement already satisfied: packaging in /usr/local/lib/python3.6/dist-packages (from transformers==3) (20.8)\n",
            "Requirement already satisfied: numpy in /usr/local/lib/python3.6/dist-packages (from transformers==3) (1.19.4)\n",
            "Collecting tokenizers==0.8.0-rc4\n",
            "\u001b[?25l  Downloading https://files.pythonhosted.org/packages/e8/bd/e5abec46af977c8a1375c1dca7cb1e5b3ec392ef279067af7f6bc50491a0/tokenizers-0.8.0rc4-cp36-cp36m-manylinux1_x86_64.whl (3.0MB)\n",
            "\u001b[K     |████████████████████████████████| 3.0MB 16.1MB/s \n",
            "\u001b[?25hRequirement already satisfied: requests in /usr/local/lib/python3.6/dist-packages (from transformers==3) (2.23.0)\n",
            "Requirement already satisfied: dataclasses; python_version < \"3.7\" in /usr/local/lib/python3.6/dist-packages (from transformers==3) (0.8)\n",
            "Requirement already satisfied: filelock in /usr/local/lib/python3.6/dist-packages (from transformers==3) (3.0.12)\n",
            "Requirement already satisfied: tqdm>=4.27 in /usr/local/lib/python3.6/dist-packages (from transformers==3) (4.41.1)\n",
            "Collecting sacremoses\n",
            "\u001b[?25l  Downloading https://files.pythonhosted.org/packages/7d/34/09d19aff26edcc8eb2a01bed8e98f13a1537005d31e95233fd48216eed10/sacremoses-0.0.43.tar.gz (883kB)\n",
            "\u001b[K     |████████████████████████████████| 890kB 41.7MB/s \n",
            "\u001b[?25hCollecting sentencepiece\n",
            "\u001b[?25l  Downloading https://files.pythonhosted.org/packages/e5/2d/6d4ca4bef9a67070fa1cac508606328329152b1df10bdf31fb6e4e727894/sentencepiece-0.1.94-cp36-cp36m-manylinux2014_x86_64.whl (1.1MB)\n",
            "\u001b[K     |████████████████████████████████| 1.1MB 50.7MB/s \n",
            "\u001b[?25hRequirement already satisfied: regex!=2019.12.17 in /usr/local/lib/python3.6/dist-packages (from transformers==3) (2019.12.20)\n",
            "Requirement already satisfied: pyparsing>=2.0.2 in /usr/local/lib/python3.6/dist-packages (from packaging->transformers==3) (2.4.7)\n",
            "Requirement already satisfied: certifi>=2017.4.17 in /usr/local/lib/python3.6/dist-packages (from requests->transformers==3) (2020.12.5)\n",
            "Requirement already satisfied: idna<3,>=2.5 in /usr/local/lib/python3.6/dist-packages (from requests->transformers==3) (2.10)\n",
            "Requirement already satisfied: chardet<4,>=3.0.2 in /usr/local/lib/python3.6/dist-packages (from requests->transformers==3) (3.0.4)\n",
            "Requirement already satisfied: urllib3!=1.25.0,!=1.25.1,<1.26,>=1.21.1 in /usr/local/lib/python3.6/dist-packages (from requests->transformers==3) (1.24.3)\n",
            "Requirement already satisfied: six in /usr/local/lib/python3.6/dist-packages (from sacremoses->transformers==3) (1.15.0)\n",
            "Requirement already satisfied: click in /usr/local/lib/python3.6/dist-packages (from sacremoses->transformers==3) (7.1.2)\n",
            "Requirement already satisfied: joblib in /usr/local/lib/python3.6/dist-packages (from sacremoses->transformers==3) (1.0.0)\n",
            "Building wheels for collected packages: sacremoses\n",
            "  Building wheel for sacremoses (setup.py) ... \u001b[?25l\u001b[?25hdone\n",
            "  Created wheel for sacremoses: filename=sacremoses-0.0.43-cp36-none-any.whl size=893261 sha256=1203de4073f77cf0914ecbaa25255c18e49c03ea7111be3e4359b28a8b40f67e\n",
            "  Stored in directory: /root/.cache/pip/wheels/29/3c/fd/7ce5c3f0666dab31a50123635e6fb5e19ceb42ce38d4e58f45\n",
            "Successfully built sacremoses\n",
            "Installing collected packages: tokenizers, sacremoses, sentencepiece, transformers\n",
            "Successfully installed sacremoses-0.0.43 sentencepiece-0.1.94 tokenizers-0.8.0rc4 transformers-3.0.0\n",
            "Collecting wikipedia\n",
            "  Downloading https://files.pythonhosted.org/packages/67/35/25e68fbc99e672127cc6fbb14b8ec1ba3dfef035bf1e4c90f78f24a80b7d/wikipedia-1.4.0.tar.gz\n",
            "Requirement already satisfied: beautifulsoup4 in /usr/local/lib/python3.6/dist-packages (from wikipedia) (4.6.3)\n",
            "Requirement already satisfied: requests<3.0.0,>=2.0.0 in /usr/local/lib/python3.6/dist-packages (from wikipedia) (2.23.0)\n",
            "Requirement already satisfied: urllib3!=1.25.0,!=1.25.1,<1.26,>=1.21.1 in /usr/local/lib/python3.6/dist-packages (from requests<3.0.0,>=2.0.0->wikipedia) (1.24.3)\n",
            "Requirement already satisfied: certifi>=2017.4.17 in /usr/local/lib/python3.6/dist-packages (from requests<3.0.0,>=2.0.0->wikipedia) (2020.12.5)\n",
            "Requirement already satisfied: idna<3,>=2.5 in /usr/local/lib/python3.6/dist-packages (from requests<3.0.0,>=2.0.0->wikipedia) (2.10)\n",
            "Requirement already satisfied: chardet<4,>=3.0.2 in /usr/local/lib/python3.6/dist-packages (from requests<3.0.0,>=2.0.0->wikipedia) (3.0.4)\n",
            "Building wheels for collected packages: wikipedia\n",
            "  Building wheel for wikipedia (setup.py) ... \u001b[?25l\u001b[?25hdone\n",
            "  Created wheel for wikipedia: filename=wikipedia-1.4.0-cp36-none-any.whl size=11686 sha256=9a4f217a7f7b28db7049d7d5336ad070e661feed5cb5dce2ab9269bb291169eb\n",
            "  Stored in directory: /root/.cache/pip/wheels/87/2a/18/4e471fd96d12114d16fe4a446d00c3b38fb9efcb744bd31f4a\n",
            "Successfully built wikipedia\n",
            "Installing collected packages: wikipedia\n",
            "Successfully installed wikipedia-1.4.0\n",
            "Collecting sentence-transformers\n",
            "\u001b[?25l  Downloading https://files.pythonhosted.org/packages/f5/5a/6e41e8383913dd2ba923cdcd02be2e03911595f4d2f9de559ecbed80d2d3/sentence-transformers-0.3.9.tar.gz (64kB)\n",
            "\u001b[K     |████████████████████████████████| 71kB 5.7MB/s \n",
            "\u001b[?25hCollecting transformers<3.6.0,>=3.1.0\n",
            "\u001b[?25l  Downloading https://files.pythonhosted.org/packages/3a/83/e74092e7f24a08d751aa59b37a9fc572b2e4af3918cb66f7766c3affb1b4/transformers-3.5.1-py3-none-any.whl (1.3MB)\n",
            "\u001b[K     |████████████████████████████████| 1.3MB 10.9MB/s \n",
            "\u001b[?25hRequirement already satisfied: tqdm in /usr/local/lib/python3.6/dist-packages (from sentence-transformers) (4.41.1)\n",
            "Requirement already satisfied: torch>=1.6.0 in /usr/local/lib/python3.6/dist-packages (from sentence-transformers) (1.7.0+cu101)\n",
            "Requirement already satisfied: numpy in /usr/local/lib/python3.6/dist-packages (from sentence-transformers) (1.19.4)\n",
            "Requirement already satisfied: scikit-learn in /usr/local/lib/python3.6/dist-packages (from sentence-transformers) (0.22.2.post1)\n",
            "Requirement already satisfied: scipy in /usr/local/lib/python3.6/dist-packages (from sentence-transformers) (1.4.1)\n",
            "Requirement already satisfied: nltk in /usr/local/lib/python3.6/dist-packages (from sentence-transformers) (3.2.5)\n",
            "Requirement already satisfied: packaging in /usr/local/lib/python3.6/dist-packages (from transformers<3.6.0,>=3.1.0->sentence-transformers) (20.8)\n",
            "Collecting tokenizers==0.9.3\n",
            "\u001b[?25l  Downloading https://files.pythonhosted.org/packages/4c/34/b39eb9994bc3c999270b69c9eea40ecc6f0e97991dba28282b9fd32d44ee/tokenizers-0.9.3-cp36-cp36m-manylinux1_x86_64.whl (2.9MB)\n",
            "\u001b[K     |████████████████████████████████| 2.9MB 34.0MB/s \n",
            "\u001b[?25hRequirement already satisfied: sacremoses in /usr/local/lib/python3.6/dist-packages (from transformers<3.6.0,>=3.1.0->sentence-transformers) (0.0.43)\n",
            "Requirement already satisfied: dataclasses; python_version < \"3.7\" in /usr/local/lib/python3.6/dist-packages (from transformers<3.6.0,>=3.1.0->sentence-transformers) (0.8)\n",
            "Requirement already satisfied: regex!=2019.12.17 in /usr/local/lib/python3.6/dist-packages (from transformers<3.6.0,>=3.1.0->sentence-transformers) (2019.12.20)\n",
            "Requirement already satisfied: protobuf in /usr/local/lib/python3.6/dist-packages (from transformers<3.6.0,>=3.1.0->sentence-transformers) (3.12.4)\n",
            "Requirement already satisfied: filelock in /usr/local/lib/python3.6/dist-packages (from transformers<3.6.0,>=3.1.0->sentence-transformers) (3.0.12)\n",
            "Requirement already satisfied: requests in /usr/local/lib/python3.6/dist-packages (from transformers<3.6.0,>=3.1.0->sentence-transformers) (2.23.0)\n",
            "Collecting sentencepiece==0.1.91\n",
            "\u001b[?25l  Downloading https://files.pythonhosted.org/packages/d4/a4/d0a884c4300004a78cca907a6ff9a5e9fe4f090f5d95ab341c53d28cbc58/sentencepiece-0.1.91-cp36-cp36m-manylinux1_x86_64.whl (1.1MB)\n",
            "\u001b[K     |████████████████████████████████| 1.1MB 49.7MB/s \n",
            "\u001b[?25hRequirement already satisfied: future in /usr/local/lib/python3.6/dist-packages (from torch>=1.6.0->sentence-transformers) (0.16.0)\n",
            "Requirement already satisfied: typing-extensions in /usr/local/lib/python3.6/dist-packages (from torch>=1.6.0->sentence-transformers) (3.7.4.3)\n",
            "Requirement already satisfied: joblib>=0.11 in /usr/local/lib/python3.6/dist-packages (from scikit-learn->sentence-transformers) (1.0.0)\n",
            "Requirement already satisfied: six in /usr/local/lib/python3.6/dist-packages (from nltk->sentence-transformers) (1.15.0)\n",
            "Requirement already satisfied: pyparsing>=2.0.2 in /usr/local/lib/python3.6/dist-packages (from packaging->transformers<3.6.0,>=3.1.0->sentence-transformers) (2.4.7)\n",
            "Requirement already satisfied: click in /usr/local/lib/python3.6/dist-packages (from sacremoses->transformers<3.6.0,>=3.1.0->sentence-transformers) (7.1.2)\n",
            "Requirement already satisfied: setuptools in /usr/local/lib/python3.6/dist-packages (from protobuf->transformers<3.6.0,>=3.1.0->sentence-transformers) (50.3.2)\n",
            "Requirement already satisfied: idna<3,>=2.5 in /usr/local/lib/python3.6/dist-packages (from requests->transformers<3.6.0,>=3.1.0->sentence-transformers) (2.10)\n",
            "Requirement already satisfied: urllib3!=1.25.0,!=1.25.1,<1.26,>=1.21.1 in /usr/local/lib/python3.6/dist-packages (from requests->transformers<3.6.0,>=3.1.0->sentence-transformers) (1.24.3)\n",
            "Requirement already satisfied: chardet<4,>=3.0.2 in /usr/local/lib/python3.6/dist-packages (from requests->transformers<3.6.0,>=3.1.0->sentence-transformers) (3.0.4)\n",
            "Requirement already satisfied: certifi>=2017.4.17 in /usr/local/lib/python3.6/dist-packages (from requests->transformers<3.6.0,>=3.1.0->sentence-transformers) (2020.12.5)\n",
            "Building wheels for collected packages: sentence-transformers\n",
            "  Building wheel for sentence-transformers (setup.py) ... \u001b[?25l\u001b[?25hdone\n",
            "  Created wheel for sentence-transformers: filename=sentence_transformers-0.3.9-cp36-none-any.whl size=101035 sha256=7b318c5e43bf1bec69a0df603d9cfbf8e6d772293fce18cd4d01471945e66235\n",
            "  Stored in directory: /root/.cache/pip/wheels/fc/89/43/f2f5bc00b03ef9724b0f6254a97eaf159a4c4ddc024b33e07a\n",
            "Successfully built sentence-transformers\n",
            "Installing collected packages: tokenizers, sentencepiece, transformers, sentence-transformers\n",
            "  Found existing installation: tokenizers 0.8.0rc4\n",
            "    Uninstalling tokenizers-0.8.0rc4:\n",
            "      Successfully uninstalled tokenizers-0.8.0rc4\n",
            "  Found existing installation: sentencepiece 0.1.94\n",
            "    Uninstalling sentencepiece-0.1.94:\n",
            "      Successfully uninstalled sentencepiece-0.1.94\n",
            "  Found existing installation: transformers 3.0.0\n",
            "    Uninstalling transformers-3.0.0:\n",
            "      Successfully uninstalled transformers-3.0.0\n",
            "Successfully installed sentence-transformers-0.3.9 sentencepiece-0.1.91 tokenizers-0.9.3 transformers-3.5.1\n"
          ],
          "name": "stdout"
        }
      ]
    },
    {
      "cell_type": "code",
      "metadata": {
        "id": "H2vbWUdiftfU"
      },
      "source": [
        "from transformers import AutoTokenizer, AutoModelForQuestionAnswering\r\n",
        "import wikipedia as wiki\r\n",
        "import pprint as pp\r\n",
        "from collections import OrderedDict\r\n",
        "\r\n",
        "class DocumentReader:\r\n",
        "    def __init__(self, pretrained_model_name_or_path=''):\r\n",
        "        self.READER_PATH = pretrained_model_name_or_path\r\n",
        "        self.tokenizer = AutoTokenizer.from_pretrained(self.READER_PATH)\r\n",
        "        self.model = AutoModelForQuestionAnswering.from_pretrained(self.READER_PATH)\r\n",
        "        self.max_len = self.model.config.max_position_embeddings\r\n",
        "        self.chunked = False\r\n",
        "\r\n",
        "    def tokenize(self, question, text):\r\n",
        "        self.inputs = self.tokenizer.encode_plus(question, text, add_special_tokens=True, return_tensors=\"pt\")\r\n",
        "        self.input_ids = self.inputs[\"input_ids\"].tolist()[0]\r\n",
        "\r\n",
        "        if len(self.input_ids) > self.max_len:\r\n",
        "            self.inputs = self.chunkify()\r\n",
        "            self.chunked = True\r\n",
        "\r\n",
        "    def chunkify(self):\r\n",
        "        \"\"\" \r\n",
        "        Break up a long article into chunks that fit within the max token\r\n",
        "        requirement for that Transformer model. \r\n",
        "\r\n",
        "        Calls to BERT / RoBERTa / ALBERT require the following format:\r\n",
        "        [CLS] question tokens [SEP] context tokens [SEP].\r\n",
        "        \"\"\"\r\n",
        "\r\n",
        "        # create question mask based on token_type_ids\r\n",
        "        # value is 0 for question tokens, 1 for context tokens\r\n",
        "        qmask = self.inputs['token_type_ids'].lt(1)\r\n",
        "        qt = torch.masked_select(self.inputs['input_ids'], qmask)\r\n",
        "        chunk_size = self.max_len - qt.size()[0] - 1 # the \"-1\" accounts for\r\n",
        "        # having to add an ending [SEP] token to the end\r\n",
        "\r\n",
        "        # create a dict of dicts; each sub-dict mimics the structure of pre-chunked model input\r\n",
        "        chunked_input = OrderedDict()\r\n",
        "        for k,v in self.inputs.items():\r\n",
        "            q = torch.masked_select(v, qmask)\r\n",
        "            c = torch.masked_select(v, ~qmask)\r\n",
        "            chunks = torch.split(c, chunk_size)\r\n",
        "            \r\n",
        "            for i, chunk in enumerate(chunks):\r\n",
        "                if i not in chunked_input:\r\n",
        "                    chunked_input[i] = {}\r\n",
        "\r\n",
        "                thing = torch.cat((q, chunk))\r\n",
        "                if i != len(chunks)-1:\r\n",
        "                    if k == 'input_ids':\r\n",
        "                        thing = torch.cat((thing, torch.tensor([102])))\r\n",
        "                    else:\r\n",
        "                        thing = torch.cat((thing, torch.tensor([1])))\r\n",
        "\r\n",
        "                chunked_input[i][k] = torch.unsqueeze(thing, dim=0)\r\n",
        "        return chunked_input\r\n",
        "\r\n",
        "    def get_answer(self):\r\n",
        "        answer = ''\r\n",
        "        if self.chunked:\r\n",
        "            \r\n",
        "            for k, chunk in self.inputs.items():\r\n",
        "                answer_start_scores, answer_end_scores = self.model(**chunk)\r\n",
        "\r\n",
        "                answer_start = torch.argmax(answer_start_scores)\r\n",
        "                answer_end = torch.argmax(answer_end_scores) + 1\r\n",
        "\r\n",
        "                ans = self.convert_ids_to_string(chunk['input_ids'][0][answer_start:answer_end])\r\n",
        "                if ans.startswith(('[CLS]','[SEP]',' ','°')):\r\n",
        "                    #raise Exception('No Answer')\r\n",
        "                    pass\r\n",
        "                else:\r\n",
        "                    answer += ans + ', '\r\n",
        "                    #break\r\n",
        "        else:\r\n",
        "            answer_start_scores, answer_end_scores = self.model(**self.inputs)\r\n",
        "\r\n",
        "            answer_start = torch.argmax(answer_start_scores)  # get the most likely beginning of answer with the argmax of the score\r\n",
        "            answer_end = torch.argmax(answer_end_scores) + 1  # get the most likely end of answer with the argmax of the score\r\n",
        "        \r\n",
        "            answer = self.convert_ids_to_string(self.inputs['input_ids'][0][\r\n",
        "                                              answer_start:answer_end])\r\n",
        "        if answer in ['',' ','  ']:\r\n",
        "          raise Exception('No Answer')                    \r\n",
        "        return answer\r\n",
        "        \r\n",
        "    def convert_ids_to_string(self, input_ids):\r\n",
        "        return self.tokenizer.convert_tokens_to_string(self.tokenizer.convert_ids_to_tokens(input_ids))"
      ],
      "execution_count": 50,
      "outputs": []
    },
    {
      "cell_type": "markdown",
      "metadata": {
        "id": "HtsH2Rm6VSMt"
      },
      "source": [
        "##한국어 SQUAD\r\n",
        "KorQuAD 2.0 사용 https://korquad.github.io/\r\n",
        "\r\n",
        "##영어 + 한국어 BERT 모델의 사용\r\n",
        "\r\n",
        "#Extending Sentence Embeddings Models to New Languages\r\n",
        "\r\n",
        "**Available Pre-trained Models**\r\n",
        "\r\n",
        "*   **distiluse-base-multilingual-cased**: Supported languages: Arabic, Chinese, Dutch, English, French, German, Italian, Korean, Polish, Portuguese, Russian, Spanish, Turkish. Model is based on DistilBERT-multi-lingual.\r\n",
        "*   **xlm-r-base-en-ko-nli-ststb**: Supported languages: English, Korean. Performance on Korean STSbenchmark: 81.47\r\n",
        "*   **xlm-r-large-en-ko-nli-ststb**: Supported languages: English, Korean. Performance on Korean STSbenchmark: 84.05 --> 이거 사용!\r\n",
        "\r\n",
        "\r\n",
        "참조:https://github.com/UKPLab/sentence-transformers/blob/master/docs/pretrained-models/multilingual-models.md\r\n",
        "\r\n"
      ]
    },
    {
      "cell_type": "code",
      "metadata": {
        "colab": {
          "base_uri": "https://localhost:8080/",
          "height": 289,
          "referenced_widgets": [
            "6ccb269394d242df9b87abfd20132e2d",
            "71b87924fb2d4399be5f0cad623b1d06",
            "970e4b209cfc44169ab8d59bd846b59c",
            "f389bc572c0c4b54971ad53d3aeb9e20",
            "938db983bff84cb5909ed1541757862a",
            "5602295b68564af2989c71edde08139b",
            "d26901d902174e058dc24e3814cf2f49",
            "27f6e237d0234742b1a9f964ab219d9c",
            "dba5582233844b90bb9e2be5d640fd40",
            "a8af27a1c14e4199b2788e717f1212cf",
            "83eedf8bf01e4d4c970eaf96948a9c1d",
            "690815ce417544bf81ae026873e7c6fe",
            "cb0ec9fd71814f31b45a5095b941f038",
            "058f0cf467694ef88543f8cbc8d92978",
            "73ef0d4b871a4d2ea4bdbdc4c6a34951",
            "3c1eb65818fd45ae9f1a49620e66d9aa",
            "fb06f306c6624911be7fac88ee87c878",
            "7396646155994504ad7a6c765a0a381e",
            "29e384b8e093449c87491dfd9f36a1a5",
            "f39eecb600a64624ad652233f5ee5953",
            "6d324210756e4f169bab91b8fbcf5b4b",
            "e30464606fda427687e6247a6c71d1f1",
            "bbb0667cbb194f07bcbf84a55d581759",
            "8a58e2f72506469b804637ca33146e51",
            "0550f22ec3a04cf19c1917bec2be316e",
            "94369e81b9cb4621adb0e6bdf122fdd0",
            "3b35aec022c442d59c5e7b1cbc10b271",
            "d76067c9b0414c5ca1909cf938dfc511",
            "4d8cde5fe2c34978b6af40bc08d83b50",
            "4d0c6063a63340adb4b49df766204dfb",
            "fd0a5c75982d443e8ab02ce1e2096ee5",
            "252f3d9a480e4dc69311405de6d4566a",
            "e55c18c9420c47e0a3a1203ce1f3308c",
            "d0163b2a9d474a6b8889bb70123e9655",
            "08000687432f4a0c8ccbd5a23ae9e8eb",
            "adac07bcd009497286a2350a3c3c87e9",
            "b6c4ea2851134225ab9b3a2922f35001",
            "26e8522e0b6645cbb8a9ccb8823f444f",
            "13793ad3c8204d1e91bdca216004a396",
            "4549a626f0af404fbfb96935b3221462"
          ]
        },
        "id": "hwgl-wMvf13B",
        "outputId": "8dbbe427-9c57-4cf5-cadf-a8850d4273c6"
      },
      "source": [
        "from sentence_transformers import SentenceTransformer\r\n",
        "\r\n",
        "SQUAD_MODEL = \"monologg/koelectra-base-v3-finetuned-korquad\"\r\n",
        "STS_MODEL = \"xlm-r-large-en-ko-nli-ststb\"\r\n",
        "reader = DocumentReader(SQUAD_MODEL) \r\n",
        "embedder = SentenceTransformer(STS_MODEL)"
      ],
      "execution_count": 3,
      "outputs": [
        {
          "output_type": "display_data",
          "data": {
            "application/vnd.jupyter.widget-view+json": {
              "model_id": "6ccb269394d242df9b87abfd20132e2d",
              "version_minor": 0,
              "version_major": 2
            },
            "text/plain": [
              "HBox(children=(FloatProgress(value=0.0, description='Downloading', max=591.0, style=ProgressStyle(description_…"
            ]
          },
          "metadata": {
            "tags": []
          }
        },
        {
          "output_type": "stream",
          "text": [
            "\n"
          ],
          "name": "stdout"
        },
        {
          "output_type": "display_data",
          "data": {
            "application/vnd.jupyter.widget-view+json": {
              "model_id": "dba5582233844b90bb9e2be5d640fd40",
              "version_minor": 0,
              "version_major": 2
            },
            "text/plain": [
              "HBox(children=(FloatProgress(value=0.0, description='Downloading', max=263327.0, style=ProgressStyle(descripti…"
            ]
          },
          "metadata": {
            "tags": []
          }
        },
        {
          "output_type": "stream",
          "text": [
            "\n"
          ],
          "name": "stdout"
        },
        {
          "output_type": "display_data",
          "data": {
            "application/vnd.jupyter.widget-view+json": {
              "model_id": "fb06f306c6624911be7fac88ee87c878",
              "version_minor": 0,
              "version_major": 2
            },
            "text/plain": [
              "HBox(children=(FloatProgress(value=0.0, description='Downloading', max=112.0, style=ProgressStyle(description_…"
            ]
          },
          "metadata": {
            "tags": []
          }
        },
        {
          "output_type": "stream",
          "text": [
            "\n"
          ],
          "name": "stdout"
        },
        {
          "output_type": "display_data",
          "data": {
            "application/vnd.jupyter.widget-view+json": {
              "model_id": "0550f22ec3a04cf19c1917bec2be316e",
              "version_minor": 0,
              "version_major": 2
            },
            "text/plain": [
              "HBox(children=(FloatProgress(value=0.0, description='Downloading', max=111.0, style=ProgressStyle(description_…"
            ]
          },
          "metadata": {
            "tags": []
          }
        },
        {
          "output_type": "stream",
          "text": [
            "\n"
          ],
          "name": "stdout"
        },
        {
          "output_type": "display_data",
          "data": {
            "application/vnd.jupyter.widget-view+json": {
              "model_id": "e55c18c9420c47e0a3a1203ce1f3308c",
              "version_minor": 0,
              "version_major": 2
            },
            "text/plain": [
              "HBox(children=(FloatProgress(value=0.0, description='Downloading', max=449418935.0, style=ProgressStyle(descri…"
            ]
          },
          "metadata": {
            "tags": []
          }
        },
        {
          "output_type": "stream",
          "text": [
            "\n"
          ],
          "name": "stdout"
        },
        {
          "output_type": "stream",
          "text": [
            "100%|██████████| 1.80G/1.80G [01:58<00:00, 15.2MB/s]\n"
          ],
          "name": "stderr"
        }
      ]
    },
    {
      "cell_type": "code",
      "metadata": {
        "id": "_tD9xyTjf_AD"
      },
      "source": [
        "import torch\r\n",
        "from transformers import AutoTokenizer, AutoModelForQuestionAnswering\r\n",
        "import wikipedia as wiki\r\n",
        "import pprint as pp\r\n",
        "from collections import OrderedDict\r\n",
        "import scipy\r\n",
        "import requests\r\n",
        "from bs4 import BeautifulSoup\r\n",
        "\r\n",
        "class Korean_QA_on_Wiki:\r\n",
        "  def __init__(self, document_reader,sentence_embedder):\r\n",
        "    self.reader = document_reader\r\n",
        "    self.embedder = sentence_embedder\r\n",
        "    wiki.set_lang('ko')\r\n",
        "\r\n",
        "  def __search_from_wiki(self,question,max_rank):\r\n",
        "    results = wiki.search(question,results=max_rank)\r\n",
        "    contents = []\r\n",
        "    for result in results:\r\n",
        "      try:\r\n",
        "        page = wiki.page(result)\r\n",
        "        #print(f\"Top wiki result: {page}\")\r\n",
        "        text = page.content\r\n",
        "        contents.append((text,page))\r\n",
        "      except Exception as ex:\r\n",
        "        print(ex)\r\n",
        "    return contents\r\n",
        "\r\n",
        "  def __search_from_naver(self,question,max_rank):\r\n",
        "    contents = []\r\n",
        "    url = 'https://search.naver.com/search.naver'\r\n",
        "    for w in ['view','kin','news']:\r\n",
        "      params = {'query': question,'where': w,}\r\n",
        "      response = requests.get(url, params=params)\r\n",
        "      html = response.text\r\n",
        "      #뷰티풀소프의 인자값 지정\r\n",
        "      soup = BeautifulSoup(html, 'html.parser')\r\n",
        "      #쪼개기\r\n",
        "      #title_list = soup.find_all('a', href=True)\r\n",
        "      title_list = soup.select('.api_txt_lines')\r\n",
        "      #print(title_list)\r\n",
        "      tmp = []\r\n",
        "      for tag in title_list:\r\n",
        "        tmp.append(tag.text)\r\n",
        "      contents.append((''.join(tmp),url + '?where='+w))\r\n",
        "      tmp.clear()\r\n",
        "    #print(contents)      \r\n",
        "    return contents\r\n",
        "\r\n",
        "\r\n",
        "\r\n",
        "  def question(self, questions, max_rank = 10):\r\n",
        "    answers = {}\r\n",
        "    for question in questions:\r\n",
        "        print(f\"Question: {question}\")\r\n",
        "        contents = []\r\n",
        "        contents.extend(self.__search_from_wiki(question,max_rank))\r\n",
        "        contents.extend(self.__search_from_naver(question,max_rank))\r\n",
        "        #print(len(contents))\r\n",
        "        corpus_embeddings = self.embedder.encode([a for (a,b) in contents],show_progress_bar=False) \r\n",
        "        query_embeddings = self.embedder.encode([question])\r\n",
        "        distances = scipy.spatial.distance.cdist(query_embeddings, corpus_embeddings, \"cosine\")[0]\r\n",
        "\r\n",
        "        results = zip(range(len(distances)), distances)\r\n",
        "        results = sorted(results, key=lambda x: x[1])\r\n",
        "        answer_list = []\r\n",
        "        for idx, distance in results:\r\n",
        "            text = contents[idx][0]\r\n",
        "            #print(text)\r\n",
        "            try:\r\n",
        "                self.reader.tokenize(question, text)\r\n",
        "                t = (self.reader.get_answer(),contents[idx][1])\r\n",
        "                print(f\"Answer: {t[0]}\", f\" from {t[1]}\")\r\n",
        "                answer_list.append(t)\r\n",
        "                \r\n",
        "            except Exception as ex:\r\n",
        "                pass    \r\n",
        "\r\n",
        "        answers[question] = answer_list\r\n",
        "        print(' ')\r\n",
        "    return answers\r\n"
      ],
      "execution_count": 51,
      "outputs": []
    },
    {
      "cell_type": "code",
      "metadata": {
        "id": "r5Uu_CZhgFVk"
      },
      "source": [
        "kqaw = Korean_QA_on_Wiki(reader,embedder)"
      ],
      "execution_count": 52,
      "outputs": []
    },
    {
      "cell_type": "code",
      "metadata": {
        "colab": {
          "base_uri": "https://localhost:8080/"
        },
        "id": "rCnEX6uzgHn5",
        "outputId": "cb187434-007e-4499-c32f-73c4163d542c"
      },
      "source": [
        "answers = kqaw.question([\"북한에서 실질적인 권력자는 누구인가?\",\r\n",
        "                           \"세계에서 가장 넓은 호수는?\",\r\n",
        "                           \"오로라가 가장 잘 보이는 곳은?\",\r\n",
        "                           \"심장이 죄어오듯이 아프면 의심되는 병은 무엇인가?\",\r\n",
        "                           \"항문에서 피가 나는 병은 무엇인가?\",\r\n",
        "                           \"김재규는 박정희를 왜 죽였는가?\",\r\n",
        "                           \"케네디를 죽인 암살범은 누구인가?\",\r\n",
        "                           \"술 취하지 않는 방법은?\",\r\n",
        "                           \"사람을 사랑해서 생기는 병은?\",\r\n",
        "                           \"부모는 자식을 왜 사랑하는가?\",\r\n",
        "                           \"나의 와이프는 나를 사랑하는가?\",\r\n",
        "                           \"신은 존재 하는가?\",\r\n",
        "                           \"사람의 인생에서 가장 소중한 것은 무엇인가?\",\r\n",
        "                           \"바람난 여자는 다시 돌아올 수 있는가?\",\r\n",
        "                           \"위가 쓰리고 아플 때 어떤 약을 복용해야 하는가?\",\r\n",
        "                           \"눈알이 빠지면 어떻게 되는가?\"])"
      ],
      "execution_count": 53,
      "outputs": [
        {
          "output_type": "stream",
          "text": [
            "Question: 북한에서 실질적인 권력자는 누구인가?\n",
            "Answer: 누군가요 ? . . . 김정은은 그냥 얼굴마담인가요 ? 그럼 실질적인 북한권력의 주인이 누군가요 ? 김일성의 모습과 말투를 따라하는 김정은은 그냥 권력의 끝자락을 쥐고 있는 젊은이일 뿐인가요 ? 지금 북한의 권력구조에 대해 정통한 분 . . . 알려주세요 . . 북한의 실질적인 권력자가 누구인지 ? ? 언론 이나 관계기관의 발표 등을 종합해 볼 때 현재로서는 북한의 최고 권력자는 김정일의 대를 이은 김정은이라고 봐야 할 것입니다 . 김정은은 김정일 사망 후 권력을 인계받은 수 8개월동안 권력 안정화 작업을 진행중에 있으며 나름대로 성과를 거두고 있는것으로 알려지고 있습니다 . 그 . . . 6 . 25전쟁과 북한에 관한 건데요 . . . . 그리고 서울1945를 보면서 그 누구더라 그사람이 죽자 최운혁이 괴로워하면서 북으로 넘어갔는데 아 몽양 은 생각나는데 하여튼  from https://search.naver.com/search.naver?where=kin\n",
            "Answer: 김정은  from https://search.naver.com/search.naver?where=news\n",
            "Answer: 박정희  from <WikipediaPage '박정희'>\n",
            "Answer: 시진핑  from https://search.naver.com/search.naver?where=view\n",
            " \n",
            "Question: 세계에서 가장 넓은 호수는?\n",
            "Answer: 카스피해  from https://search.naver.com/search.naver?where=kin\n",
            "Answer: 바이칼 호  from https://search.naver.com/search.naver?where=view\n",
            "Answer: 티베트 자치구 남초 호  from <WikipediaPage '염호'>\n",
            "Answer: 카스피 해  from <WikipediaPage '호수'>\n",
            "Answer: 보스토크호  from <WikipediaPage '보스토크호'>\n",
            "Answer: 인레 호수  from https://search.naver.com/search.naver?where=news\n",
            "Answer: 바이칼 호  from <WikipediaPage '아시아'>\n",
            "Answer: 나일강  from <WikipediaPage '나일강'>\n",
            "Answer: 티티카카 호  from <WikipediaPage '남아메리카'>\n",
            " \n",
            "Question: 오로라가 가장 잘 보이는 곳은?\n",
            "Answer: 캐나다  from https://search.naver.com/search.naver?where=kin\n",
            "Answer: 그레이트 슬레이브 호수  from https://search.naver.com/search.naver?where=news\n",
            "Answer: 남극및 북극 양극지방  from <WikipediaPage '오로라'>\n",
            "Answer: 아이슬란드 , 그린란드 , 핀란드  from https://search.naver.com/search.naver?where=view\n",
            " \n",
            "Question: 심장이 죄어오듯이 아프면 의심되는 병은 무엇인가?\n",
            "Answer: 심장마비  from <WikipediaPage '4.19 혁명'>\n",
            " \n",
            "Question: 항문에서 피가 나는 병은 무엇인가?\n",
            "Answer: 치열  from https://search.naver.com/search.naver?where=news\n",
            "Answer: 치질 , 치열 , 치루  from https://search.naver.com/search.naver?where=view\n",
            " \n",
            "Question: 김재규는 박정희를 왜 죽였는가?\n",
            "Answer: 민주화에 대한 열망  from <WikipediaPage '10·26 사건'>\n",
            "Answer: 10 . 26 사태  from <WikipediaPage '김재규'>\n",
            " \n",
            "Question: 케네디를 죽인 암살범은 누구인가?\n",
            "Answer: 오즈월드  from https://search.naver.com/search.naver?where=kin\n",
            "Answer: 로버트  from https://search.naver.com/search.naver?where=news\n",
            "Answer: 리 하비 오스월드  from <WikipediaPage '링컨과 케네디의 공통점'>\n",
            " \n",
            "Question: 술 취하지 않는 방법은?\n",
            "Answer: 필수  from <WikipediaPage '심폐소생술'>\n",
            "Answer: 법을 행하는 수단  from <WikipediaPage '법가'>\n",
            " \n",
            "Question: 사람을 사랑해서 생기는 병은?\n",
            "Answer: 상사병  from https://search.naver.com/search.naver?where=kin\n",
            "Answer: 만성콩팥병  from https://search.naver.com/search.naver?where=news\n",
            "Answer: 정신착란증  from <WikipediaPage '로드 넘버원'>\n",
            "Answer: 트러블  from <WikipediaPage '트레이스 (만화)'>\n",
            " \n",
            "Question: 부모는 자식을 왜 사랑하는가?\n",
            "Answer: 평범한 인생의 진리  from <WikipediaPage '파도 (드라마)'>\n",
            " \n",
            "Question: 나의 와이프는 나를 사랑하는가?\n",
            " \n",
            "Question: 신은 존재 하는가?\n",
            "Answer: 자연적 혹은 초자연적 존재  from <WikipediaPage '신'>\n",
            "Answer: 천계  from <WikipediaPage '힌두교의 신'>\n",
            " \n",
            "Question: 사람의 인생에서 가장 소중한 것은 무엇인가?\n",
            "Answer: 시간  from https://search.naver.com/search.naver?where=news\n",
            "Answer: 다소  from <WikipediaPage '마법사에게 소중한 것'>\n",
            "Answer: 한때  from <WikipediaPage '김동길 (1928년)'>\n",
            " \n",
            "Question: 바람난 여자는 다시 돌아올 수 있는가?\n",
            "Answer: 한때  from <WikipediaPage '유혜정 (배우)'>\n",
            " \n",
            "Question: 위가 쓰리고 아플 때 어떤 약을 복용해야 하는가?\n",
            "Answer: 양배추환  from https://search.naver.com/search.naver?where=view\n",
            "Answer: 양 약  from https://search.naver.com/search.naver?where=kin\n",
            " \n",
            "Question: 눈알이 빠지면 어떻게 되는가?\n",
            "Answer: 익사  from https://search.naver.com/search.naver?where=kin\n",
            "Answer: 매드아이 무디  from <WikipediaPage '해리 포터의 마법 물체 목록'>\n",
            "Answer: 애꾸눈  from <WikipediaPage '오딘'>\n",
            "Answer: 도탄  from <WikipediaPage '렐파첸'>\n",
            "Answer: 종종  from <WikipediaPage '조앤 크로퍼드'>\n",
            " \n"
          ],
          "name": "stdout"
        }
      ]
    },
    {
      "cell_type": "code",
      "metadata": {
        "id": "hgi6yAogcAkC",
        "outputId": "bf1052ef-c506-4ea8-fdcd-649b69883d23",
        "colab": {
          "base_uri": "https://localhost:8080/"
        }
      },
      "source": [
        "answers = kqaw.question([\"아브라함은 자식이 몇명인가?\"])"
      ],
      "execution_count": 54,
      "outputs": [
        {
          "output_type": "stream",
          "text": [
            "Question: 아브라함은 자식이 몇명인가?\n",
            "Answer: 8명  from https://search.naver.com/search.naver?where=view\n",
            "Answer: 몇 명  from https://search.naver.com/search.naver?where=news\n",
            "Answer: 6명  from <WikipediaPage '아브라함'>\n",
            "Answer: 13명  from <WikipediaPage '소저너 트루스'>\n",
            " \n"
          ],
          "name": "stdout"
        }
      ]
    },
    {
      "cell_type": "code",
      "metadata": {
        "id": "F6qwf2zGp9N3",
        "outputId": "d584ee7a-718d-4b0a-dd93-2b892c14a9da",
        "colab": {
          "base_uri": "https://localhost:8080/"
        }
      },
      "source": [
        "answers = kqaw.question([\"아시아나항공은 어디에 매각될 것인가?\",\r\n",
        "                         \"박세창은 어느 회사의 사장인가?\"])"
      ],
      "execution_count": 60,
      "outputs": [
        {
          "output_type": "stream",
          "text": [
            "Question: 아시아나항공은 어디에 매각될 것인가?\n",
            "Answer: 대한항공  from https://search.naver.com/search.naver?where=news\n",
            " \n",
            "Question: 박세창은 어느 회사의 사장인가?\n",
            "Answer: 아시아나IDT  from https://search.naver.com/search.naver?where=view\n",
            "Answer: 아시아나IDT  from https://search.naver.com/search.naver?where=news\n",
            "Answer: 금호석유화학  from <WikipediaPage '금호석유화학'>\n",
            " \n"
          ],
          "name": "stdout"
        }
      ]
    },
    {
      "cell_type": "code",
      "metadata": {
        "id": "lRM7VQaRqzt0",
        "outputId": "4da2cbc3-7363-4731-e4a3-516d7daa0189",
        "colab": {
          "base_uri": "https://localhost:8080/"
        }
      },
      "source": [
        "answers = kqaw.question([\"아시아나항공 사장의 이름은?\",\r\n",
        "                         \"금호건설의 사장은 누구인가?\"])"
      ],
      "execution_count": 62,
      "outputs": [
        {
          "output_type": "stream",
          "text": [
            "Question: 아시아나항공 사장의 이름은?\n",
            "Answer: 한창수  from https://search.naver.com/search.naver?where=view\n",
            "Answer: 박정구  from <WikipediaPage '박정구'>\n",
            " \n",
            "Question: 금호건설의 사장은 누구인가?\n",
            "Answer: 박정구  from https://search.naver.com/search.naver?where=view\n",
            " \n"
          ],
          "name": "stdout"
        }
      ]
    },
    {
      "cell_type": "code",
      "metadata": {
        "id": "8qIRQgHSrZo8",
        "outputId": "07eae700-b9fe-4bba-9256-808283e6d149",
        "colab": {
          "base_uri": "https://localhost:8080/"
        }
      },
      "source": [
        "answers = kqaw.question([\"아파트 값은 계속 오를 것인가?\",\r\n",
        "                         \"코로나는 언제 종식 될 것인가?\"])"
      ],
      "execution_count": 63,
      "outputs": [
        {
          "output_type": "stream",
          "text": [
            "Question: 아파트 값은 계속 오를 것인가?\n",
            " \n",
            "Question: 코로나는 언제 종식 될 것인가?\n",
            "Answer: 2021년 9월 중순  from https://search.naver.com/search.naver?where=kin\n",
            " \n"
          ],
          "name": "stdout"
        }
      ]
    },
    {
      "cell_type": "code",
      "metadata": {
        "id": "1ARRfo7-sgSJ",
        "outputId": "a63c5537-1074-4a68-b1da-444132842a89",
        "colab": {
          "base_uri": "https://localhost:8080/"
        }
      },
      "source": [
        "answers = kqaw.question([\"단백질의 화학식 구성은 어떻게 되는가?\"])"
      ],
      "execution_count": 66,
      "outputs": [
        {
          "output_type": "stream",
          "text": [
            "Question: 단백질의 화학식 구성은 어떻게 되는가?\n",
            "Answer: 아미노산  from <WikipediaPage '생화학'>\n",
            "Answer: NH2CHRnCOOH ) n  from <WikipediaPage '단백질'>\n",
            "Answer: C5H10O4  from <WikipediaPage '탄수화물'>\n",
            "Answer: ##NH2CHRnCOOH  from <WikipediaPage '아미노산'>\n",
            "Answer: C6H10O5  from <WikipediaPage '다당류'>\n",
            "Answer: C5H10O5  from <WikipediaPage '아라비노스'>\n",
            "Answer: Geraniol  from https://search.naver.com/search.naver?where=view\n",
            "Answer: HO2CCH2NH2  from <WikipediaPage '글라이신'>\n",
            "Answer: HO2CCH ( NH2 ) CH2OH  from <WikipediaPage '세린'>\n",
            " \n"
          ],
          "name": "stdout"
        }
      ]
    },
    {
      "cell_type": "code",
      "metadata": {
        "id": "MbGFACCktHam",
        "outputId": "368b379f-d109-40c3-80f1-afef216bcc10",
        "colab": {
          "base_uri": "https://localhost:8080/"
        }
      },
      "source": [
        "answers = kqaw.question([\"우리나라 특허의 권리보장 기간은 몇년인가?\"])"
      ],
      "execution_count": 67,
      "outputs": [
        {
          "output_type": "stream",
          "text": [
            "Question: 우리나라 특허의 권리보장 기간은 몇년인가?\n",
            "Answer: 20년  from https://search.naver.com/search.naver?where=kin\n",
            "Answer: 20년  from https://search.naver.com/search.naver?where=view\n",
            " \n"
          ],
          "name": "stdout"
        }
      ]
    },
    {
      "cell_type": "code",
      "metadata": {
        "id": "Srh6Zf5TtgcQ",
        "outputId": "494ba624-70a1-46b7-b62b-6aeb6329955c",
        "colab": {
          "base_uri": "https://localhost:8080/"
        }
      },
      "source": [
        "answers = kqaw.question([\"발열 마른기침 피로감 등의 증상을 보이면 어떤 병이 의심되는가?\"])"
      ],
      "execution_count": 68,
      "outputs": [
        {
          "output_type": "stream",
          "text": [
            "Question: 발열 마른기침 피로감 등의 증상을 보이면 어떤 병이 의심되는가?\n",
            "Answer: 알레르기 비염  from https://search.naver.com/search.naver?where=view\n",
            "Answer: 코로나 19  from https://search.naver.com/search.naver?where=kin\n",
            "Answer: 호흡곤란 , 후각상실 , 미각상실  from <WikipediaPage '코로나19 범유행'>\n",
            " \n"
          ],
          "name": "stdout"
        }
      ]
    },
    {
      "cell_type": "code",
      "metadata": {
        "id": "UjYnN2Ggt4ER",
        "outputId": "76bb2a7a-2280-4ca6-9bd2-8ed41c0111ed",
        "colab": {
          "base_uri": "https://localhost:8080/"
        }
      },
      "source": [
        "answers = kqaw.question([\"흉부통증과 호흡곤란, 쉰목소리, 가끔 피가 썩인 가래도 있습니다. 어떤 병일까요?\"])"
      ],
      "execution_count": 72,
      "outputs": [
        {
          "output_type": "stream",
          "text": [
            "Question: 흉부통증과 호흡곤란, 쉰목소리, 가끔 피가 썩인 가래도 있습니다. 어떤 병일까요?\n",
            "Answer: 폐암  from https://search.naver.com/search.naver?where=view\n",
            " \n"
          ],
          "name": "stdout"
        }
      ]
    },
    {
      "cell_type": "code",
      "metadata": {
        "id": "fhgIS5vtubVs",
        "outputId": "485a824a-d78c-4cda-8c8a-ad5787c30737",
        "colab": {
          "base_uri": "https://localhost:8080/"
        }
      },
      "source": [
        "answers = kqaw.question([\"똥을 싸고 나면 휴지에 피가 뭍습니다. 의심되는 병은 무엇인가요?\"])"
      ],
      "execution_count": 73,
      "outputs": [
        {
          "output_type": "stream",
          "text": [
            "Question: 똥을 싸고 나면 휴지에 피가 뭍습니다. 의심되는 병은 무엇인가요?\n",
            "Answer: 치열  from https://search.naver.com/search.naver?where=kin\n",
            "Answer: 호흡기질환  from https://search.naver.com/search.naver?where=view\n",
            " \n"
          ],
          "name": "stdout"
        }
      ]
    },
    {
      "cell_type": "code",
      "metadata": {
        "id": "b1clXBpGu0st",
        "outputId": "f633d98c-6c3d-4da1-acf6-12e92cc3c6a0",
        "colab": {
          "base_uri": "https://localhost:8080/"
        }
      },
      "source": [
        "answers = kqaw.question([\"신경망 알고리즘의 활성함수에는 어떤 것이 있나요?\"])"
      ],
      "execution_count": 74,
      "outputs": [
        {
          "output_type": "stream",
          "text": [
            "Question: 신경망 알고리즘의 활성함수에는 어떤 것이 있나요?\n",
            "Answer: 입력 이미지의 픽셀  from <WikipediaPage '인공 신경망'>\n",
            "Answer: 시그모이드  from https://search.naver.com/search.naver?where=kin\n",
            "Answer: 노드의 가중치와 입력치  from <WikipediaPage '퍼셉트론'>\n",
            " \n"
          ],
          "name": "stdout"
        }
      ]
    },
    {
      "cell_type": "code",
      "metadata": {
        "id": "eIBSD9HcvITx",
        "outputId": "93d18d86-4f00-484b-b9c9-d3d52440996e",
        "colab": {
          "base_uri": "https://localhost:8080/"
        }
      },
      "source": [
        "answers = kqaw.question([\"현존하는 인공지능 중 가장 성능이 우수한 것은 무엇입니까?\"])"
      ],
      "execution_count": 77,
      "outputs": [
        {
          "output_type": "stream",
          "text": [
            "Question: 현존하는 인공지능 중 가장 성능이 우수한 것은 무엇입니까?\n",
            "Answer: 파이썬  from https://search.naver.com/search.naver?where=news\n",
            "Answer: 인간의 뇌  from https://search.naver.com/search.naver?where=kin\n",
            " \n"
          ],
          "name": "stdout"
        }
      ]
    },
    {
      "cell_type": "code",
      "metadata": {
        "id": "RVxLa0T0vhAV",
        "outputId": "a5c39559-bfb0-493b-bac4-749d664340e3",
        "colab": {
          "base_uri": "https://localhost:8080/"
        }
      },
      "source": [
        "answers = kqaw.question([\"이세돌을 이긴 것은 무엇입니까?\"])"
      ],
      "execution_count": 81,
      "outputs": [
        {
          "output_type": "stream",
          "text": [
            "Question: 이세돌을 이긴 것은 무엇입니까?\n",
            "Answer: 알파고  from https://search.naver.com/search.naver?where=view\n",
            "Answer: 알파고  from https://search.naver.com/search.naver?where=kin\n",
            " \n"
          ],
          "name": "stdout"
        }
      ]
    },
    {
      "cell_type": "code",
      "metadata": {
        "id": "Ay5GzjELwAG-",
        "outputId": "a337fe33-f3ef-47c6-fefe-ad435ea7423d",
        "colab": {
          "base_uri": "https://localhost:8080/"
        }
      },
      "source": [
        "answers = kqaw.question([\"피타고라스는 어느 나라 사람인가?\"])"
      ],
      "execution_count": 82,
      "outputs": [
        {
          "output_type": "stream",
          "text": [
            "Question: 피타고라스는 어느 나라 사람인가?\n",
            "Answer: 그리스  from https://search.naver.com/search.naver?where=kin\n",
            "Answer: 이탈리아  from <WikipediaPage '고대 그리스 철학'>\n",
            "Answer: 그리스  from https://search.naver.com/search.naver?where=news\n",
            "Answer: 서양의 경우 , 고대 이집트  from <WikipediaPage '윤회'>\n",
            " \n"
          ],
          "name": "stdout"
        }
      ]
    },
    {
      "cell_type": "code",
      "metadata": {
        "id": "h43Zxml-wSWs",
        "outputId": "08fd7efc-1824-4c43-ddc4-aaf003851676",
        "colab": {
          "base_uri": "https://localhost:8080/"
        }
      },
      "source": [
        "answers = kqaw.question([\"아이즈원 멤버 인원수는?\"])"
      ],
      "execution_count": 93,
      "outputs": [
        {
          "output_type": "stream",
          "text": [
            "Question: 아이즈원 멤버 인원수는?\n",
            "Answer: 12명  from https://search.naver.com/search.naver?where=news\n",
            "Answer: 8명  from https://search.naver.com/search.naver?where=kin\n",
            "Answer: 300명  from <WikipediaPage 'HKT48'>\n",
            " \n"
          ],
          "name": "stdout"
        }
      ]
    },
    {
      "cell_type": "code",
      "metadata": {
        "id": "L96Ik9MawxRd",
        "outputId": "6222a3ef-cab8-45b3-ce6d-40cdfc2d4485",
        "colab": {
          "base_uri": "https://localhost:8080/"
        }
      },
      "source": [
        "answers = kqaw.question([\"트와이스 중에 가장 인기 있는 사람은?\"])"
      ],
      "execution_count": 91,
      "outputs": [
        {
          "output_type": "stream",
          "text": [
            "Question: 트와이스 중에 가장 인기 있는 사람은?\n",
            "Answer: 사나  from https://search.naver.com/search.naver?where=view\n",
            "Answer: 박진영  from <WikipediaPage '박진영'>\n",
            "Answer: 지효  from <WikipediaPage '청하 (가수)'>\n",
            "Answer: 공승연  from <WikipediaPage '공승연'>\n",
            " \n"
          ],
          "name": "stdout"
        }
      ]
    },
    {
      "cell_type": "code",
      "metadata": {
        "id": "Ni_mSMGTxnFi",
        "outputId": "6ea17fb7-2c9c-4c14-fe74-8de447a3c2e7",
        "colab": {
          "base_uri": "https://localhost:8080/"
        }
      },
      "source": [
        "answers = kqaw.question([\"벤츠 자동차가 처음 발명된 년도는?\"])"
      ],
      "execution_count": 95,
      "outputs": [
        {
          "output_type": "stream",
          "text": [
            "Question: 벤츠 자동차가 처음 발명된 년도는?\n",
            "Answer: 1883년  from https://search.naver.com/search.naver?where=kin\n",
            "Answer: 1831년  from <WikipediaPage '지크프리트 마르쿠스'>\n",
            "Answer: 1886년  from <WikipediaPage '자동차'>\n",
            "Answer: 1885년  from https://search.naver.com/search.naver?where=view\n",
            "Answer: 1886년  from <WikipediaPage '만하임'>\n",
            " \n"
          ],
          "name": "stdout"
        }
      ]
    },
    {
      "cell_type": "code",
      "metadata": {
        "id": "mfivYMWWydC6",
        "outputId": "54ae52b6-be1c-45f2-ec9d-1a703254dd0d",
        "colab": {
          "base_uri": "https://localhost:8080/"
        }
      },
      "source": [
        "answers = kqaw.question([\"교통사고 대비를 위해 들어야 하는 보험은 무엇인가?\"])"
      ],
      "execution_count": 101,
      "outputs": [
        {
          "output_type": "stream",
          "text": [
            "Question: 교통사고 대비를 위해 들어야 하는 보험은 무엇인가?\n",
            "Answer: 자동차보험  from https://search.naver.com/search.naver?where=news\n",
            " \n"
          ],
          "name": "stdout"
        }
      ]
    },
    {
      "cell_type": "code",
      "metadata": {
        "id": "SZojgWg1zQVz",
        "outputId": "a3a25bef-85a9-47f0-cee1-1bc88023a264",
        "colab": {
          "base_uri": "https://localhost:8080/"
        }
      },
      "source": [
        "answers = kqaw.question([\"너의 이름은 무엇이니?\"])"
      ],
      "execution_count": 104,
      "outputs": [
        {
          "output_type": "stream",
          "text": [
            "Question: 너의 이름은 무엇이니?\n",
            "Answer: 레아  from https://search.naver.com/search.naver?where=news\n",
            " \n"
          ],
          "name": "stdout"
        }
      ]
    },
    {
      "cell_type": "code",
      "metadata": {
        "id": "7jRkKp0A0DIN",
        "outputId": "9698a666-0878-4365-9b8d-1cf49e150650",
        "colab": {
          "base_uri": "https://localhost:8080/"
        }
      },
      "source": [
        "answers = kqaw.question([\"너는 남자니 여자니?\"])"
      ],
      "execution_count": 105,
      "outputs": [
        {
          "output_type": "stream",
          "text": [
            "Question: 너는 남자니 여자니?\n",
            " \n"
          ],
          "name": "stdout"
        }
      ]
    }
  ]
}