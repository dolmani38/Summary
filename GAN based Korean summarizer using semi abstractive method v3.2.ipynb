{
  "nbformat": 4,
  "nbformat_minor": 0,
  "metadata": {
    "kernelspec": {
      "display_name": "Python 3",
      "language": "python",
      "name": "python3"
    },
    "language_info": {
      "codemirror_mode": {
        "name": "ipython",
        "version": 3
      },
      "file_extension": ".py",
      "mimetype": "text/x-python",
      "name": "python",
      "nbconvert_exporter": "python",
      "pygments_lexer": "ipython3",
      "version": "3.6.8"
    },
    "colab": {
      "name": "GAN based Korean summarizer using semi abstractive method v3.1.ipynb",
      "provenance": [],
      "include_colab_link": true
    },
    "accelerator": "GPU",
    "widgets": {
      "application/vnd.jupyter.widget-state+json": {
        "82cf0b464fc641f285256d6f194097ea": {
          "model_module": "@jupyter-widgets/controls",
          "model_name": "HBoxModel",
          "state": {
            "_view_name": "HBoxView",
            "_dom_classes": [],
            "_model_name": "HBoxModel",
            "_view_module": "@jupyter-widgets/controls",
            "_model_module_version": "1.5.0",
            "_view_count": null,
            "_view_module_version": "1.5.0",
            "box_style": "",
            "layout": "IPY_MODEL_bb93fb8dcd7746ca9bedb26f9de30995",
            "_model_module": "@jupyter-widgets/controls",
            "children": [
              "IPY_MODEL_94a0047bd2bd47cb9a64e36b49e783f2",
              "IPY_MODEL_02307db466174cd1860ee4f38b4e7aa4"
            ]
          }
        },
        "bb93fb8dcd7746ca9bedb26f9de30995": {
          "model_module": "@jupyter-widgets/base",
          "model_name": "LayoutModel",
          "state": {
            "_view_name": "LayoutView",
            "grid_template_rows": null,
            "right": null,
            "justify_content": null,
            "_view_module": "@jupyter-widgets/base",
            "overflow": null,
            "_model_module_version": "1.2.0",
            "_view_count": null,
            "flex_flow": null,
            "width": null,
            "min_width": null,
            "border": null,
            "align_items": null,
            "bottom": null,
            "_model_module": "@jupyter-widgets/base",
            "top": null,
            "grid_column": null,
            "overflow_y": null,
            "overflow_x": null,
            "grid_auto_flow": null,
            "grid_area": null,
            "grid_template_columns": null,
            "flex": null,
            "_model_name": "LayoutModel",
            "justify_items": null,
            "grid_row": null,
            "max_height": null,
            "align_content": null,
            "visibility": null,
            "align_self": null,
            "height": null,
            "min_height": null,
            "padding": null,
            "grid_auto_rows": null,
            "grid_gap": null,
            "max_width": null,
            "order": null,
            "_view_module_version": "1.2.0",
            "grid_template_areas": null,
            "object_position": null,
            "object_fit": null,
            "grid_auto_columns": null,
            "margin": null,
            "display": null,
            "left": null
          }
        },
        "94a0047bd2bd47cb9a64e36b49e783f2": {
          "model_module": "@jupyter-widgets/controls",
          "model_name": "FloatProgressModel",
          "state": {
            "_view_name": "ProgressView",
            "style": "IPY_MODEL_a5ffcd5f997b45f9aa043e0aa1e5824e",
            "_dom_classes": [],
            "description": "Downloading: 100%",
            "_model_name": "FloatProgressModel",
            "bar_style": "success",
            "max": 426,
            "_view_module": "@jupyter-widgets/controls",
            "_model_module_version": "1.5.0",
            "value": 426,
            "_view_count": null,
            "_view_module_version": "1.5.0",
            "orientation": "horizontal",
            "min": 0,
            "description_tooltip": null,
            "_model_module": "@jupyter-widgets/controls",
            "layout": "IPY_MODEL_d5935b1b3bf6423992e89e498843b4e2"
          }
        },
        "02307db466174cd1860ee4f38b4e7aa4": {
          "model_module": "@jupyter-widgets/controls",
          "model_name": "HTMLModel",
          "state": {
            "_view_name": "HTMLView",
            "style": "IPY_MODEL_94fb1dc0cb7245448d039eb8b4dba525",
            "_dom_classes": [],
            "description": "",
            "_model_name": "HTMLModel",
            "placeholder": "​",
            "_view_module": "@jupyter-widgets/controls",
            "_model_module_version": "1.5.0",
            "value": " 426/426 [00:01&lt;00:00, 350B/s]",
            "_view_count": null,
            "_view_module_version": "1.5.0",
            "description_tooltip": null,
            "_model_module": "@jupyter-widgets/controls",
            "layout": "IPY_MODEL_38d28fac5e054f308bd6d0d0fd1c4fed"
          }
        },
        "a5ffcd5f997b45f9aa043e0aa1e5824e": {
          "model_module": "@jupyter-widgets/controls",
          "model_name": "ProgressStyleModel",
          "state": {
            "_view_name": "StyleView",
            "_model_name": "ProgressStyleModel",
            "description_width": "initial",
            "_view_module": "@jupyter-widgets/base",
            "_model_module_version": "1.5.0",
            "_view_count": null,
            "_view_module_version": "1.2.0",
            "bar_color": null,
            "_model_module": "@jupyter-widgets/controls"
          }
        },
        "d5935b1b3bf6423992e89e498843b4e2": {
          "model_module": "@jupyter-widgets/base",
          "model_name": "LayoutModel",
          "state": {
            "_view_name": "LayoutView",
            "grid_template_rows": null,
            "right": null,
            "justify_content": null,
            "_view_module": "@jupyter-widgets/base",
            "overflow": null,
            "_model_module_version": "1.2.0",
            "_view_count": null,
            "flex_flow": null,
            "width": null,
            "min_width": null,
            "border": null,
            "align_items": null,
            "bottom": null,
            "_model_module": "@jupyter-widgets/base",
            "top": null,
            "grid_column": null,
            "overflow_y": null,
            "overflow_x": null,
            "grid_auto_flow": null,
            "grid_area": null,
            "grid_template_columns": null,
            "flex": null,
            "_model_name": "LayoutModel",
            "justify_items": null,
            "grid_row": null,
            "max_height": null,
            "align_content": null,
            "visibility": null,
            "align_self": null,
            "height": null,
            "min_height": null,
            "padding": null,
            "grid_auto_rows": null,
            "grid_gap": null,
            "max_width": null,
            "order": null,
            "_view_module_version": "1.2.0",
            "grid_template_areas": null,
            "object_position": null,
            "object_fit": null,
            "grid_auto_columns": null,
            "margin": null,
            "display": null,
            "left": null
          }
        },
        "94fb1dc0cb7245448d039eb8b4dba525": {
          "model_module": "@jupyter-widgets/controls",
          "model_name": "DescriptionStyleModel",
          "state": {
            "_view_name": "StyleView",
            "_model_name": "DescriptionStyleModel",
            "description_width": "",
            "_view_module": "@jupyter-widgets/base",
            "_model_module_version": "1.5.0",
            "_view_count": null,
            "_view_module_version": "1.2.0",
            "_model_module": "@jupyter-widgets/controls"
          }
        },
        "38d28fac5e054f308bd6d0d0fd1c4fed": {
          "model_module": "@jupyter-widgets/base",
          "model_name": "LayoutModel",
          "state": {
            "_view_name": "LayoutView",
            "grid_template_rows": null,
            "right": null,
            "justify_content": null,
            "_view_module": "@jupyter-widgets/base",
            "overflow": null,
            "_model_module_version": "1.2.0",
            "_view_count": null,
            "flex_flow": null,
            "width": null,
            "min_width": null,
            "border": null,
            "align_items": null,
            "bottom": null,
            "_model_module": "@jupyter-widgets/base",
            "top": null,
            "grid_column": null,
            "overflow_y": null,
            "overflow_x": null,
            "grid_auto_flow": null,
            "grid_area": null,
            "grid_template_columns": null,
            "flex": null,
            "_model_name": "LayoutModel",
            "justify_items": null,
            "grid_row": null,
            "max_height": null,
            "align_content": null,
            "visibility": null,
            "align_self": null,
            "height": null,
            "min_height": null,
            "padding": null,
            "grid_auto_rows": null,
            "grid_gap": null,
            "max_width": null,
            "order": null,
            "_view_module_version": "1.2.0",
            "grid_template_areas": null,
            "object_position": null,
            "object_fit": null,
            "grid_auto_columns": null,
            "margin": null,
            "display": null,
            "left": null
          }
        },
        "d4c42fc0b94e41deaf49578f5123faaa": {
          "model_module": "@jupyter-widgets/controls",
          "model_name": "HBoxModel",
          "state": {
            "_view_name": "HBoxView",
            "_dom_classes": [],
            "_model_name": "HBoxModel",
            "_view_module": "@jupyter-widgets/controls",
            "_model_module_version": "1.5.0",
            "_view_count": null,
            "_view_module_version": "1.5.0",
            "box_style": "",
            "layout": "IPY_MODEL_da1579b29c654deba5e54035ecc301bc",
            "_model_module": "@jupyter-widgets/controls",
            "children": [
              "IPY_MODEL_0a538d0f14134fca927bd1d49a78104d",
              "IPY_MODEL_84c46812eafc4df9a470c399aa23a3ac"
            ]
          }
        },
        "da1579b29c654deba5e54035ecc301bc": {
          "model_module": "@jupyter-widgets/base",
          "model_name": "LayoutModel",
          "state": {
            "_view_name": "LayoutView",
            "grid_template_rows": null,
            "right": null,
            "justify_content": null,
            "_view_module": "@jupyter-widgets/base",
            "overflow": null,
            "_model_module_version": "1.2.0",
            "_view_count": null,
            "flex_flow": null,
            "width": null,
            "min_width": null,
            "border": null,
            "align_items": null,
            "bottom": null,
            "_model_module": "@jupyter-widgets/base",
            "top": null,
            "grid_column": null,
            "overflow_y": null,
            "overflow_x": null,
            "grid_auto_flow": null,
            "grid_area": null,
            "grid_template_columns": null,
            "flex": null,
            "_model_name": "LayoutModel",
            "justify_items": null,
            "grid_row": null,
            "max_height": null,
            "align_content": null,
            "visibility": null,
            "align_self": null,
            "height": null,
            "min_height": null,
            "padding": null,
            "grid_auto_rows": null,
            "grid_gap": null,
            "max_width": null,
            "order": null,
            "_view_module_version": "1.2.0",
            "grid_template_areas": null,
            "object_position": null,
            "object_fit": null,
            "grid_auto_columns": null,
            "margin": null,
            "display": null,
            "left": null
          }
        },
        "0a538d0f14134fca927bd1d49a78104d": {
          "model_module": "@jupyter-widgets/controls",
          "model_name": "FloatProgressModel",
          "state": {
            "_view_name": "ProgressView",
            "style": "IPY_MODEL_4321ee0aebc9493394f258b9fcc52e9c",
            "_dom_classes": [],
            "description": "Downloading: 100%",
            "_model_name": "FloatProgressModel",
            "bar_style": "success",
            "max": 77779,
            "_view_module": "@jupyter-widgets/controls",
            "_model_module_version": "1.5.0",
            "value": 77779,
            "_view_count": null,
            "_view_module_version": "1.5.0",
            "orientation": "horizontal",
            "min": 0,
            "description_tooltip": null,
            "_model_module": "@jupyter-widgets/controls",
            "layout": "IPY_MODEL_e3706040affc4d3e83580cd52764e822"
          }
        },
        "84c46812eafc4df9a470c399aa23a3ac": {
          "model_module": "@jupyter-widgets/controls",
          "model_name": "HTMLModel",
          "state": {
            "_view_name": "HTMLView",
            "style": "IPY_MODEL_cc922042c5bd435eb1be579696097215",
            "_dom_classes": [],
            "description": "",
            "_model_name": "HTMLModel",
            "placeholder": "​",
            "_view_module": "@jupyter-widgets/controls",
            "_model_module_version": "1.5.0",
            "value": " 77.8k/77.8k [00:02&lt;00:00, 31.5kB/s]",
            "_view_count": null,
            "_view_module_version": "1.5.0",
            "description_tooltip": null,
            "_model_module": "@jupyter-widgets/controls",
            "layout": "IPY_MODEL_3a46e33cc1374ca58c60131857e2329b"
          }
        },
        "4321ee0aebc9493394f258b9fcc52e9c": {
          "model_module": "@jupyter-widgets/controls",
          "model_name": "ProgressStyleModel",
          "state": {
            "_view_name": "StyleView",
            "_model_name": "ProgressStyleModel",
            "description_width": "initial",
            "_view_module": "@jupyter-widgets/base",
            "_model_module_version": "1.5.0",
            "_view_count": null,
            "_view_module_version": "1.2.0",
            "bar_color": null,
            "_model_module": "@jupyter-widgets/controls"
          }
        },
        "e3706040affc4d3e83580cd52764e822": {
          "model_module": "@jupyter-widgets/base",
          "model_name": "LayoutModel",
          "state": {
            "_view_name": "LayoutView",
            "grid_template_rows": null,
            "right": null,
            "justify_content": null,
            "_view_module": "@jupyter-widgets/base",
            "overflow": null,
            "_model_module_version": "1.2.0",
            "_view_count": null,
            "flex_flow": null,
            "width": null,
            "min_width": null,
            "border": null,
            "align_items": null,
            "bottom": null,
            "_model_module": "@jupyter-widgets/base",
            "top": null,
            "grid_column": null,
            "overflow_y": null,
            "overflow_x": null,
            "grid_auto_flow": null,
            "grid_area": null,
            "grid_template_columns": null,
            "flex": null,
            "_model_name": "LayoutModel",
            "justify_items": null,
            "grid_row": null,
            "max_height": null,
            "align_content": null,
            "visibility": null,
            "align_self": null,
            "height": null,
            "min_height": null,
            "padding": null,
            "grid_auto_rows": null,
            "grid_gap": null,
            "max_width": null,
            "order": null,
            "_view_module_version": "1.2.0",
            "grid_template_areas": null,
            "object_position": null,
            "object_fit": null,
            "grid_auto_columns": null,
            "margin": null,
            "display": null,
            "left": null
          }
        },
        "cc922042c5bd435eb1be579696097215": {
          "model_module": "@jupyter-widgets/controls",
          "model_name": "DescriptionStyleModel",
          "state": {
            "_view_name": "StyleView",
            "_model_name": "DescriptionStyleModel",
            "description_width": "",
            "_view_module": "@jupyter-widgets/base",
            "_model_module_version": "1.5.0",
            "_view_count": null,
            "_view_module_version": "1.2.0",
            "_model_module": "@jupyter-widgets/controls"
          }
        },
        "3a46e33cc1374ca58c60131857e2329b": {
          "model_module": "@jupyter-widgets/base",
          "model_name": "LayoutModel",
          "state": {
            "_view_name": "LayoutView",
            "grid_template_rows": null,
            "right": null,
            "justify_content": null,
            "_view_module": "@jupyter-widgets/base",
            "overflow": null,
            "_model_module_version": "1.2.0",
            "_view_count": null,
            "flex_flow": null,
            "width": null,
            "min_width": null,
            "border": null,
            "align_items": null,
            "bottom": null,
            "_model_module": "@jupyter-widgets/base",
            "top": null,
            "grid_column": null,
            "overflow_y": null,
            "overflow_x": null,
            "grid_auto_flow": null,
            "grid_area": null,
            "grid_template_columns": null,
            "flex": null,
            "_model_name": "LayoutModel",
            "justify_items": null,
            "grid_row": null,
            "max_height": null,
            "align_content": null,
            "visibility": null,
            "align_self": null,
            "height": null,
            "min_height": null,
            "padding": null,
            "grid_auto_rows": null,
            "grid_gap": null,
            "max_width": null,
            "order": null,
            "_view_module_version": "1.2.0",
            "grid_template_areas": null,
            "object_position": null,
            "object_fit": null,
            "grid_auto_columns": null,
            "margin": null,
            "display": null,
            "left": null
          }
        },
        "2fe3e21650954ba687af54d4c4c9d38b": {
          "model_module": "@jupyter-widgets/controls",
          "model_name": "HBoxModel",
          "state": {
            "_view_name": "HBoxView",
            "_dom_classes": [],
            "_model_name": "HBoxModel",
            "_view_module": "@jupyter-widgets/controls",
            "_model_module_version": "1.5.0",
            "_view_count": null,
            "_view_module_version": "1.5.0",
            "box_style": "",
            "layout": "IPY_MODEL_e414c9a579cd4ff0979dec4164e47ef3",
            "_model_module": "@jupyter-widgets/controls",
            "children": [
              "IPY_MODEL_a31d68039ecc48f5a6aff12d672cfd04",
              "IPY_MODEL_dcfe050f0832434aba2e97df85307881"
            ]
          }
        },
        "e414c9a579cd4ff0979dec4164e47ef3": {
          "model_module": "@jupyter-widgets/base",
          "model_name": "LayoutModel",
          "state": {
            "_view_name": "LayoutView",
            "grid_template_rows": null,
            "right": null,
            "justify_content": null,
            "_view_module": "@jupyter-widgets/base",
            "overflow": null,
            "_model_module_version": "1.2.0",
            "_view_count": null,
            "flex_flow": null,
            "width": null,
            "min_width": null,
            "border": null,
            "align_items": null,
            "bottom": null,
            "_model_module": "@jupyter-widgets/base",
            "top": null,
            "grid_column": null,
            "overflow_y": null,
            "overflow_x": null,
            "grid_auto_flow": null,
            "grid_area": null,
            "grid_template_columns": null,
            "flex": null,
            "_model_name": "LayoutModel",
            "justify_items": null,
            "grid_row": null,
            "max_height": null,
            "align_content": null,
            "visibility": null,
            "align_self": null,
            "height": null,
            "min_height": null,
            "padding": null,
            "grid_auto_rows": null,
            "grid_gap": null,
            "max_width": null,
            "order": null,
            "_view_module_version": "1.2.0",
            "grid_template_areas": null,
            "object_position": null,
            "object_fit": null,
            "grid_auto_columns": null,
            "margin": null,
            "display": null,
            "left": null
          }
        },
        "a31d68039ecc48f5a6aff12d672cfd04": {
          "model_module": "@jupyter-widgets/controls",
          "model_name": "FloatProgressModel",
          "state": {
            "_view_name": "ProgressView",
            "style": "IPY_MODEL_cd28a0b69b6d4dca92794f4aaf340047",
            "_dom_classes": [],
            "description": "Downloading: 100%",
            "_model_name": "FloatProgressModel",
            "bar_style": "success",
            "max": 51,
            "_view_module": "@jupyter-widgets/controls",
            "_model_module_version": "1.5.0",
            "value": 51,
            "_view_count": null,
            "_view_module_version": "1.5.0",
            "orientation": "horizontal",
            "min": 0,
            "description_tooltip": null,
            "_model_module": "@jupyter-widgets/controls",
            "layout": "IPY_MODEL_5c51d850d6d647218bb438f652ab5df1"
          }
        },
        "dcfe050f0832434aba2e97df85307881": {
          "model_module": "@jupyter-widgets/controls",
          "model_name": "HTMLModel",
          "state": {
            "_view_name": "HTMLView",
            "style": "IPY_MODEL_f25005d96df84a99be9e71cf5f42e5f4",
            "_dom_classes": [],
            "description": "",
            "_model_name": "HTMLModel",
            "placeholder": "​",
            "_view_module": "@jupyter-widgets/controls",
            "_model_module_version": "1.5.0",
            "value": " 51.0/51.0 [00:00&lt;00:00, 69.8B/s]",
            "_view_count": null,
            "_view_module_version": "1.5.0",
            "description_tooltip": null,
            "_model_module": "@jupyter-widgets/controls",
            "layout": "IPY_MODEL_02909cf705634ab994a16e207964f3e2"
          }
        },
        "cd28a0b69b6d4dca92794f4aaf340047": {
          "model_module": "@jupyter-widgets/controls",
          "model_name": "ProgressStyleModel",
          "state": {
            "_view_name": "StyleView",
            "_model_name": "ProgressStyleModel",
            "description_width": "initial",
            "_view_module": "@jupyter-widgets/base",
            "_model_module_version": "1.5.0",
            "_view_count": null,
            "_view_module_version": "1.2.0",
            "bar_color": null,
            "_model_module": "@jupyter-widgets/controls"
          }
        },
        "5c51d850d6d647218bb438f652ab5df1": {
          "model_module": "@jupyter-widgets/base",
          "model_name": "LayoutModel",
          "state": {
            "_view_name": "LayoutView",
            "grid_template_rows": null,
            "right": null,
            "justify_content": null,
            "_view_module": "@jupyter-widgets/base",
            "overflow": null,
            "_model_module_version": "1.2.0",
            "_view_count": null,
            "flex_flow": null,
            "width": null,
            "min_width": null,
            "border": null,
            "align_items": null,
            "bottom": null,
            "_model_module": "@jupyter-widgets/base",
            "top": null,
            "grid_column": null,
            "overflow_y": null,
            "overflow_x": null,
            "grid_auto_flow": null,
            "grid_area": null,
            "grid_template_columns": null,
            "flex": null,
            "_model_name": "LayoutModel",
            "justify_items": null,
            "grid_row": null,
            "max_height": null,
            "align_content": null,
            "visibility": null,
            "align_self": null,
            "height": null,
            "min_height": null,
            "padding": null,
            "grid_auto_rows": null,
            "grid_gap": null,
            "max_width": null,
            "order": null,
            "_view_module_version": "1.2.0",
            "grid_template_areas": null,
            "object_position": null,
            "object_fit": null,
            "grid_auto_columns": null,
            "margin": null,
            "display": null,
            "left": null
          }
        },
        "f25005d96df84a99be9e71cf5f42e5f4": {
          "model_module": "@jupyter-widgets/controls",
          "model_name": "DescriptionStyleModel",
          "state": {
            "_view_name": "StyleView",
            "_model_name": "DescriptionStyleModel",
            "description_width": "",
            "_view_module": "@jupyter-widgets/base",
            "_model_module_version": "1.5.0",
            "_view_count": null,
            "_view_module_version": "1.2.0",
            "_model_module": "@jupyter-widgets/controls"
          }
        },
        "02909cf705634ab994a16e207964f3e2": {
          "model_module": "@jupyter-widgets/base",
          "model_name": "LayoutModel",
          "state": {
            "_view_name": "LayoutView",
            "grid_template_rows": null,
            "right": null,
            "justify_content": null,
            "_view_module": "@jupyter-widgets/base",
            "overflow": null,
            "_model_module_version": "1.2.0",
            "_view_count": null,
            "flex_flow": null,
            "width": null,
            "min_width": null,
            "border": null,
            "align_items": null,
            "bottom": null,
            "_model_module": "@jupyter-widgets/base",
            "top": null,
            "grid_column": null,
            "overflow_y": null,
            "overflow_x": null,
            "grid_auto_flow": null,
            "grid_area": null,
            "grid_template_columns": null,
            "flex": null,
            "_model_name": "LayoutModel",
            "justify_items": null,
            "grid_row": null,
            "max_height": null,
            "align_content": null,
            "visibility": null,
            "align_self": null,
            "height": null,
            "min_height": null,
            "padding": null,
            "grid_auto_rows": null,
            "grid_gap": null,
            "max_width": null,
            "order": null,
            "_view_module_version": "1.2.0",
            "grid_template_areas": null,
            "object_position": null,
            "object_fit": null,
            "grid_auto_columns": null,
            "margin": null,
            "display": null,
            "left": null
          }
        },
        "561b99ecd1404ef1af838c400d104244": {
          "model_module": "@jupyter-widgets/controls",
          "model_name": "HBoxModel",
          "state": {
            "_view_name": "HBoxView",
            "_dom_classes": [],
            "_model_name": "HBoxModel",
            "_view_module": "@jupyter-widgets/controls",
            "_model_module_version": "1.5.0",
            "_view_count": null,
            "_view_module_version": "1.5.0",
            "box_style": "",
            "layout": "IPY_MODEL_61f5fa48fd0b446e8f857d17e6d57667",
            "_model_module": "@jupyter-widgets/controls",
            "children": [
              "IPY_MODEL_9487e2e177264f3e84baaf558f72525b",
              "IPY_MODEL_323b1961919049e1b0a815af4d67ccb9"
            ]
          }
        },
        "61f5fa48fd0b446e8f857d17e6d57667": {
          "model_module": "@jupyter-widgets/base",
          "model_name": "LayoutModel",
          "state": {
            "_view_name": "LayoutView",
            "grid_template_rows": null,
            "right": null,
            "justify_content": null,
            "_view_module": "@jupyter-widgets/base",
            "overflow": null,
            "_model_module_version": "1.2.0",
            "_view_count": null,
            "flex_flow": null,
            "width": null,
            "min_width": null,
            "border": null,
            "align_items": null,
            "bottom": null,
            "_model_module": "@jupyter-widgets/base",
            "top": null,
            "grid_column": null,
            "overflow_y": null,
            "overflow_x": null,
            "grid_auto_flow": null,
            "grid_area": null,
            "grid_template_columns": null,
            "flex": null,
            "_model_name": "LayoutModel",
            "justify_items": null,
            "grid_row": null,
            "max_height": null,
            "align_content": null,
            "visibility": null,
            "align_self": null,
            "height": null,
            "min_height": null,
            "padding": null,
            "grid_auto_rows": null,
            "grid_gap": null,
            "max_width": null,
            "order": null,
            "_view_module_version": "1.2.0",
            "grid_template_areas": null,
            "object_position": null,
            "object_fit": null,
            "grid_auto_columns": null,
            "margin": null,
            "display": null,
            "left": null
          }
        },
        "9487e2e177264f3e84baaf558f72525b": {
          "model_module": "@jupyter-widgets/controls",
          "model_name": "FloatProgressModel",
          "state": {
            "_view_name": "ProgressView",
            "style": "IPY_MODEL_182ea1bacf5f4c9396870ffd25ac3d75",
            "_dom_classes": [],
            "description": "Downloading: 100%",
            "_model_name": "FloatProgressModel",
            "bar_style": "success",
            "max": 368792146,
            "_view_module": "@jupyter-widgets/controls",
            "_model_module_version": "1.5.0",
            "value": 368792146,
            "_view_count": null,
            "_view_module_version": "1.5.0",
            "orientation": "horizontal",
            "min": 0,
            "description_tooltip": null,
            "_model_module": "@jupyter-widgets/controls",
            "layout": "IPY_MODEL_e38bb0f358424991bdec04fc2de4a920"
          }
        },
        "323b1961919049e1b0a815af4d67ccb9": {
          "model_module": "@jupyter-widgets/controls",
          "model_name": "HTMLModel",
          "state": {
            "_view_name": "HTMLView",
            "style": "IPY_MODEL_274eec09ec074da7b11bfe7796804c2f",
            "_dom_classes": [],
            "description": "",
            "_model_name": "HTMLModel",
            "placeholder": "​",
            "_view_module": "@jupyter-widgets/controls",
            "_model_module_version": "1.5.0",
            "value": " 369M/369M [00:13&lt;00:00, 27.9MB/s]",
            "_view_count": null,
            "_view_module_version": "1.5.0",
            "description_tooltip": null,
            "_model_module": "@jupyter-widgets/controls",
            "layout": "IPY_MODEL_e2c09fac7e004186af003e4cb899385a"
          }
        },
        "182ea1bacf5f4c9396870ffd25ac3d75": {
          "model_module": "@jupyter-widgets/controls",
          "model_name": "ProgressStyleModel",
          "state": {
            "_view_name": "StyleView",
            "_model_name": "ProgressStyleModel",
            "description_width": "initial",
            "_view_module": "@jupyter-widgets/base",
            "_model_module_version": "1.5.0",
            "_view_count": null,
            "_view_module_version": "1.2.0",
            "bar_color": null,
            "_model_module": "@jupyter-widgets/controls"
          }
        },
        "e38bb0f358424991bdec04fc2de4a920": {
          "model_module": "@jupyter-widgets/base",
          "model_name": "LayoutModel",
          "state": {
            "_view_name": "LayoutView",
            "grid_template_rows": null,
            "right": null,
            "justify_content": null,
            "_view_module": "@jupyter-widgets/base",
            "overflow": null,
            "_model_module_version": "1.2.0",
            "_view_count": null,
            "flex_flow": null,
            "width": null,
            "min_width": null,
            "border": null,
            "align_items": null,
            "bottom": null,
            "_model_module": "@jupyter-widgets/base",
            "top": null,
            "grid_column": null,
            "overflow_y": null,
            "overflow_x": null,
            "grid_auto_flow": null,
            "grid_area": null,
            "grid_template_columns": null,
            "flex": null,
            "_model_name": "LayoutModel",
            "justify_items": null,
            "grid_row": null,
            "max_height": null,
            "align_content": null,
            "visibility": null,
            "align_self": null,
            "height": null,
            "min_height": null,
            "padding": null,
            "grid_auto_rows": null,
            "grid_gap": null,
            "max_width": null,
            "order": null,
            "_view_module_version": "1.2.0",
            "grid_template_areas": null,
            "object_position": null,
            "object_fit": null,
            "grid_auto_columns": null,
            "margin": null,
            "display": null,
            "left": null
          }
        },
        "274eec09ec074da7b11bfe7796804c2f": {
          "model_module": "@jupyter-widgets/controls",
          "model_name": "DescriptionStyleModel",
          "state": {
            "_view_name": "StyleView",
            "_model_name": "DescriptionStyleModel",
            "description_width": "",
            "_view_module": "@jupyter-widgets/base",
            "_model_module_version": "1.5.0",
            "_view_count": null,
            "_view_module_version": "1.2.0",
            "_model_module": "@jupyter-widgets/controls"
          }
        },
        "e2c09fac7e004186af003e4cb899385a": {
          "model_module": "@jupyter-widgets/base",
          "model_name": "LayoutModel",
          "state": {
            "_view_name": "LayoutView",
            "grid_template_rows": null,
            "right": null,
            "justify_content": null,
            "_view_module": "@jupyter-widgets/base",
            "overflow": null,
            "_model_module_version": "1.2.0",
            "_view_count": null,
            "flex_flow": null,
            "width": null,
            "min_width": null,
            "border": null,
            "align_items": null,
            "bottom": null,
            "_model_module": "@jupyter-widgets/base",
            "top": null,
            "grid_column": null,
            "overflow_y": null,
            "overflow_x": null,
            "grid_auto_flow": null,
            "grid_area": null,
            "grid_template_columns": null,
            "flex": null,
            "_model_name": "LayoutModel",
            "justify_items": null,
            "grid_row": null,
            "max_height": null,
            "align_content": null,
            "visibility": null,
            "align_self": null,
            "height": null,
            "min_height": null,
            "padding": null,
            "grid_auto_rows": null,
            "grid_gap": null,
            "max_width": null,
            "order": null,
            "_view_module_version": "1.2.0",
            "grid_template_areas": null,
            "object_position": null,
            "object_fit": null,
            "grid_auto_columns": null,
            "margin": null,
            "display": null,
            "left": null
          }
        }
      }
    }
  },
  "cells": [
    {
      "cell_type": "markdown",
      "metadata": {
        "id": "view-in-github",
        "colab_type": "text"
      },
      "source": [
        "<a href=\"https://colab.research.google.com/github/dolmani38/Summary/blob/master/GAN%20based%20Korean%20summarizer%20using%20semi%20abstractive%20method%20v3.2.ipynb\" target=\"_parent\"><img src=\"https://colab.research.google.com/assets/colab-badge.svg\" alt=\"Open In Colab\"/></a>"
      ]
    },
    {
      "cell_type": "markdown",
      "metadata": {
        "id": "GkQCxNatSIOk"
      },
      "source": [
        "# GAN based Korean summarizer using semi abstractive method\n"
      ]
    },
    {
      "cell_type": "markdown",
      "metadata": {
        "id": "R6fXazeHRA5R"
      },
      "source": [
        "---\n",
        "이훈석(1), 안순홍(2), 김승훈(교신)\n",
        "\n",
        "---"
      ]
    },
    {
      "cell_type": "markdown",
      "metadata": {
        "id": "TD-_JUYRRFzR"
      },
      "source": [
        "# Abstract"
      ]
    },
    {
      "cell_type": "markdown",
      "metadata": {
        "id": "Cp94OHgIPltF"
      },
      "source": [
        " 최근 NLP 분야는 encoder, decoder 및 attention을 거쳐 각종 transformer 모델이 나오면서 비약적인 발전을 이루고 있다. 문서 요약도 transformer에 의해 추상적인 요약이 가능해 졌다. 하지만 한국어의 경우, 양질의 대량 요약 학습셋이 갖추어져 있지 않아, 추상적인 요약 모델 개발 진행이 느리다 본 연구에서는 요약 학습셋 없이 원문에서 요약에 필요한 어절을 추출하여 GAN 알고리즘에 의해 새로운 요약문을 생성하는 반추상적 방법 (Semi Abstractive Method, SAM) 을 제안한다. 실험에 의해 문서 전반적인 내용의 유사성과 문법의 정합성을 유지함을 입증하여 본 제안 방법의 가능성을 보여준다.  "
      ]
    },
    {
      "cell_type": "markdown",
      "metadata": {
        "id": "07CPMwGqd013"
      },
      "source": [
        "Recently, the NLP field is making a leap forward as various transformer models come out through encoder, decoder and attention. Document summarization is also possible for abstract summarization by transformer. However, in the case of Korean, the development of an abstract summary model is slow because a high-quality mass summary learning set is not in place. We propose a semi abstractive method (SAM). We show the possibility of this proposed method by demonstrating that it maintains the similarity of the overall contents of the document and the consistency of the grammar through experiments."
      ]
    },
    {
      "cell_type": "markdown",
      "metadata": {
        "id": "VeEVeuDBQxpa"
      },
      "source": [
        "#1. Introduction"
      ]
    },
    {
      "cell_type": "markdown",
      "metadata": {
        "id": "v0QwhkUCd015"
      },
      "source": [
        "ref : https://www.machinelearningplus.com/nlp/text-summarization-approaches-nlp-example/\n",
        "\n",
        "뉴스 사이트를 열 때 모든 뉴스 기사를 처음부터 끝까지 모두 읽지는 않습니다. 일반적으로 짧은 뉴스 요약을 살펴본 다음 관심이있는 경우 자세한 내용을 읽는다. 최근 잡지, 뉴스 애그리 게이터 앱, 조사 사이트 등과 같은 모든 곳에서 뉴스에 대한 짧고 유익한 요약이 제공된다.\n",
        "\n",
        "중요한 정보를 잃지 않고 원본 거대한 텍스트에서 이러한 요약을 추출하는 방법을 텍스트 요약이라 한다. 요약은 문법적으로 읽기 편하며 중요한 것을 묘사하는 것이 필수적이다.\n",
        "\n",
        "실제로 Google 뉴스, inshorts 앱 및 기타 다양한 뉴스 수집기 앱은 텍스트 요약 알고리즘을 활용하고 있다.\n",
        "\n",
        "최근 요약 알고리즘의 트렌드에 대해 살펴본다."
      ]
    },
    {
      "cell_type": "markdown",
      "metadata": {
        "id": "8Z4at1Y2d015"
      },
      "source": [
        "When you open a news site, not all news articles are read from start to finish. In general, go through a short news summary and then read the details if you are interested. Short and informative summaries of news are available everywhere, such as in recent magazines, news aggregator apps, and research sites.\n",
        "\n",
        "The method of extracting these summaries from the original large text without losing important information is called text summaries. The summary is grammatically easy to read and it is essential to describe what is important.\n",
        "\n",
        "In fact, Google News, the inshorts app, and many other news aggregator apps utilize text summarization algorithms.\n",
        "\n",
        "Let's look at the trend of the recent summary algorithm."
      ]
    },
    {
      "cell_type": "markdown",
      "metadata": {
        "id": "4afP8cmgd016"
      },
      "source": [
        "텍스트 요약 방법은 추출 방법과 추상 방법의 두 가지 주요 범주로 그룹화 할 수 있습니다.\n",
        "\n",
        "> * 추출 텍스트 요약\n",
        "\n",
        "> 먼저 개발 된 전통적인 방법으로서 주요 목표는 텍스트의 중요한 문장을 식별하고 요약에 추가하는 것이다. 얻은 요약에는 원본 텍스트의 정확한 문장이 포함되어 있다는 점에서 많이 활용되고 있다.\n",
        "\n",
        "> * 추상적인 텍스트 요약\n",
        "\n",
        "> 그것은 더 진보 된 방법이며, 최근 많은 연구가 진행되고 있다. 접근 방식은 중요한 섹션을 식별하고 컨텍스트를 해석하며 새로운 방식으로 재생산하는 것이다. 이렇게하면 핵심 정보가 가능한 가장 짧은 텍스트를 통해 전달된다. 여기서는 원본 텍스트에서 추출한 문장이 아니라 요약 된 새로운 문장이 생성된다.\n",
        "\n",
        "본 논문에서는 추상적인 텍스트 요약 방법으로서 원문에서 문장이 아닌 어절 단위로 추출하여 적절한 문법적 흐름과 원문의 내용을 포함한 새로운 문장들을 생성하므로 원본 텍스트를 요약하고자 한다.\n"
      ]
    },
    {
      "cell_type": "markdown",
      "metadata": {
        "id": "eMQV5EF3d017"
      },
      "source": [
        "Text summary methods can be grouped into two main categories: extractive methods and abstractive methods.\n",
        "\n",
        "> * Extractive text summary\n",
        "\n",
        "> As a traditional method developed first, the main goal is to identify important sentences in the text and add them to the summary. The summary obtained is widely used in that it contains the exact sentence of the original text.\n",
        "\n",
        "> * Abstractive text summary\n",
        "\n",
        "> It is a more advanced method, and a lot of research is currently underway. The approach is to identify important sections, interpret context, and reproduce in new sentences. In this methods, key information is conveyed through the shortest possible text. In this approach, a new summary sentence is created, not the sentence extracted from the original text.\n",
        "\n",
        "In this paper, as an abstractive text summary method, the original text is summarized by extracting the original text in terms of words, not sentences, and generating new sentences including the proper grammatical flow and contents of the original text."
      ]
    },
    {
      "cell_type": "markdown",
      "metadata": {
        "id": "VtpedKPHPuSx"
      },
      "source": [
        "#2. Related Work"
      ]
    },
    {
      "cell_type": "markdown",
      "metadata": {
        "id": "F0t6jUrPd019"
      },
      "source": [
        "먼저 추출 방법에 대한 기존 연구들을 살펴 보면 다음과 같다.\n",
        "\n",
        "> Luhn [4]는 1960 년 Hans Peter Luhn에 의해 개발된 방법으로서 TF-IDF (Term Frequency-Inverse Document Frequency)를 기반으로 문장의 중요도를 채점하여 상위 점수의 문장을 추출하는 방식이다. \n",
        "> 이러한 개념을 발전시켜 2004년 Rada Mihalcea and Paul Tarau에 의해 TextRank[1] 방법과  G¨une¸s Erkan에 의해 LexRank [2] 추출 알고리즘이 개발되었다.\n",
        "> 이후 2005년 Susan T. Dumais에의해 LSA [3] (잠재적 의미 분석) 라는 비지도 학습 알고리즘이 개발되었다. 이는 용어 문서 빈도 행렬에 SVD (Singular Value Decomposition)를 적용하여 의미 론적 의미 문장을 추출한다.\n",
        "> KL-Sum [5] 은 Aria Haghighi에 의해 2009년 개발 되었다. 원문의 단어 분포와 문장별 단어 분포의 KL-divergence을 계산하여 문장을 선택한다. "
      ]
    },
    {
      "cell_type": "markdown",
      "metadata": {
        "id": "aADtcrL_XtG1"
      },
      "source": [
        "First, looking at the existing studies on the extraction method are as follows.\n",
        "\n",
        "Luhn [4], a method developed by Hans Peter Luhn in 1960, is a method of extracting the highest scored sentences by scoring the importance of sentences based on TF-IDF (Term Frequency-Inverse Document Frequency). By developing this concept, the TextRank [1] method and the LexRank [2] extraction algorithm were developed by Rada Mihalcea and Paul Tarau in 2004 and by G¨une¼s Erkan. In 2005, Susan T. Dumais developed an unsupervised learning algorithm called LSA [3] (Potential Semantic Analysis). This extracts semantic semantic sentences by applying SVD (Singular Value Decomposition) to the term document frequency matrix. KL-Sum [5] was developed in 2009 by Aria Haghighi. A sentence is selected by calculating the KL-divergence of the word distribution in the original text and the word distribution by sentence."
      ]
    },
    {
      "cell_type": "markdown",
      "metadata": {
        "id": "Wrli6WB5d01_"
      },
      "source": [
        "\n",
        "하지만, 문서 일부 문장의 발췌만으로는 문서 전반적 내용을 포함하는 요약은 할 수는 없다. \n",
        "추상적인 요약은 전체 텍스트를 가장 잘 표현할 수있는 새로운 문장을 생성하는 새로운 최첨단 방법입니다. \n",
        "이것은 요약을 위해 원본 텍스트에서 문장을 선택하는 추출 방법보다 인간의 요약에 가까운 내용을 만들어 낸다.\n",
        "\n",
        "> 추상적인 요약은 사실 원문의 문맥이 파악되어야 한다. NLP의 연구에서 문맥이 파악되는 중요한 단계는 바로 2014년에 발표됐던 sequence-to-sequence (Seq2seq)와 Attention 모델이다. (Sutskever et al., 2014, Cho et al., 2014). 이 모델을 기초하여 수많은 개념들이 연구되어 왔다. 이후,  Transformer 모델이 2017년 Google에 의해 소개되며 NLP 학계의 큰 주목을 받게된다. 이는 기존의 CNN 과 RNN 이 주를 이뤘던 연구들에서 벗어나 아예 새로운 모델을 제안하며 Seq2seq와 Attention, 이어 기계번역 성능을 한차원 높일 수 있었기 때문이다.\n",
        "> 추상적인 요약은 긴 문장을 짧은 문장으로 바꾸는 일종의 기계 번역의 차원으로 다루고 있다. 따라서, 일반적으로 GPT-2, GPT-3, BERT, OpenAI, GPT, T5와 같은 각종 Transformer 모델에서 추상적인 요약 방법이 응용되고 있다."
      ]
    },
    {
      "cell_type": "markdown",
      "metadata": {
        "id": "JWItGYoId02A"
      },
      "source": [
        "Abstract summarization is a new state-of-the-art method of generating new sentences that best represent the entire text. This produces a content closer to human summary than the extraction method of selecting sentences from the original text for summary purposes.\n",
        "\n",
        "> For abstract summaries, in fact, the context of the original text must be grasped. An important step in understanding the context in NLP's research is the sequence-to-sequence (Seq2seq) and Attention model, which was released in 2014. (Sutskever et al., 2014, Cho et al., 2014). Numerous concepts have been studied based on this model. After that, the Transformer model was introduced by Google in 2017 and received great attention from NLP academia. This is because we were able to improve machine translation performance to the next level, following Seq2seq and Attention, by proposing a new model, breaking away from the studies that were dominated by the existing CNN and RNN.\n",
        "\n",
        "> Abstract summarization is treated as a kind of machine translation that turns long sentences into short sentences. Therefore, in general, abstract summary methods are applied in various Transformer models such as T5[6] (ref : Colin Raffel. (2020). Exploring the Limits of Transfer Learning with a Unified\n",
        "Text-to-Text Transformer, https://arxiv.org/pdf/1910.10683.pdf), BART Transformer [7] (ref : Mike Lewis, (2019). BART: Denoising Sequence-to-Sequence Pre-training for Natural Language Generation, Translation, and Comprehension, https://arxiv.org/pdf/1910.13461.pdf), GPT-2 Transformers [8] (ref : Alec Radford, (2018). Language Models are Unsupervised Multitask Learners, https://d4mucfpksywv.cloudfront.net/better-language-models/language_models_are_unsupervised_multitask_learners.pdf), XLM Transformers [9] (ref : Guillaume Lample, (2019). Cross-lingual Language Model Pretraining, https://arxiv.org/pdf/1901.07291.pdf)"
      ]
    },
    {
      "cell_type": "markdown",
      "metadata": {
        "id": "yRvD2yl4d02F"
      },
      "source": [
        "또한 원문을 '원본'으로 보고 요약을 원문에 대한 '모조'의 개념으로 보면, GAN 학습 알고리즘 또한 추상적인 요약의 주요 뼈대를 이루는 방법론이라 할 수 있다.\n",
        "\n",
        "> 문장 생성기 출력을 사람이 읽을 수 있도록 만들기 위해 GAN 알고리즘을 적용하는 연구들이 있었다. GAN을 문장 생성에 적용하는 데있어 가장 큰 문제는 자연어의 이산 적 특성입니다. 단어 시퀀스를 생성하기 위해 생성기는 일반적으로 argmax 또는 matching과 같은 원래의 GAN 알고리즘에 대해 실패를 유발하는 기타 샘플 함수와 같은 비차 등 부분을 가지고 있다.\n",
        "(Gulrajani et al., 2017)에서 저자는 개별 단어 시퀀스를 제공하는 대신 생성기 출력 레이어를 판별기에 직접 제공합니다. 이 방법은 이산 분포와 연속 분포 사이의 거리를 평가할 수있는 (Arjovsky et al., 2017)에서 제안한대로 GAN에서 Earth Mover (EM) distance를 사용하기 때문에 효과적입니다.\n",
        "SeqGAN (Yu et al., 2017)은 강화 학습으로 시퀀스 생성 문제를 다룹니다. 여기서는이 접근 방식을 적대적 REINFORCE라고합니다. 그러나 판별 기는 전체 시퀀스의 품질 만 측정하므로 보상이 극히 드물고 모든 생성 단계에 할당 된 보상이 모두 동일합니다. MC search (Yu et al., 2017)는 각 시간 단계에서 대략적인 보상을 평가하기 위해 제안되었지만이 방법은 높은 시간 복잡성을 가지고 있습니다.\n",
        "이 아이디어에 따라 (Li et al., 2017)는 각 시간 단계에서 예상되는 보상을 평가하기위한 부분 평가 접근법을 제안했었다."
      ]
    },
    {
      "cell_type": "markdown",
      "metadata": {
        "id": "OnFGiB1Kd02G"
      },
      "source": [
        " Looking at the original text as the 'original' and the summary as the concept of 'imitation' of the original text, the GAN learning algorithm can also be said to be a methodology that forms the main framework of the abstract summary.\n",
        "\n",
        "> There have been studies of applying the GAN algorithm to make the output of the sentence generator human-readable. The biggest problem in applying GAN to sentence generation is the discrete nature of natural language. To generate a word sequence, the generator usually has parts such as non-differences, such as argmax or other sample functions that cause failures against the original GAN algorithm, such as matching.\n",
        "In (Gulrajani et al., 2017), the author provides a generator output layer directly to the discriminator instead of providing individual word sequences. This method is effective because it uses the Earth Mover (EM) distance in GAN, as suggested by (Arjovsky et al., 2017), which allows you to evaluate the distance between the discrete and continuous distributions.\n",
        "SeqGAN (Yu et al., 2017) deals with sequence generation problems with reinforcement learning. This approach is referred to here as hostile REINFORCE. However, since the discriminator only measures the quality of the entire sequence, the rewards are extremely rare and the rewards assigned to all stages of creation are all the same. MC search (Yu et al., 2017) was proposed to evaluate the approximate reward at each time step, but this method has a high time complexity.\n",
        "Following this idea (Li et al., 2017) had proposed a partial assessment approach to assess the expected reward at each time step."
      ]
    },
    {
      "cell_type": "markdown",
      "metadata": {
        "id": "RxOQQokF81rw"
      },
      "source": [
        "이상에서 설펴본 바와 같이, Transformer와 GAN 기법의 머지를 통해 비지도학습적 추상적인 요약을 실현 할 수 있을 것으로 착안하였다. 다음 섹션에서 Transformer를 사용하여 discriminator를 구현하고 GAN 기법에 의해 Generator를 학습하는 본 논문에서 제안하는 요약 방법을 설명한다.\r\n"
      ]
    },
    {
      "cell_type": "markdown",
      "metadata": {
        "id": "7tkDQ1MG95rt"
      },
      "source": [
        "As discussed above, it was conceived that unsupervised learning abstract summarization could be realized through merging of Transformer and GAN techniques. In the next section, we describe a summary method proposed in this paper that implements a discriminator using a transformer and learns a generator using a GAN technique."
      ]
    },
    {
      "cell_type": "markdown",
      "metadata": {
        "id": "Yd3VkOBVPz0H"
      },
      "source": [
        "#3. Proposed Method"
      ]
    },
    {
      "cell_type": "markdown",
      "metadata": {
        "id": "PtejzyTbZVZ6"
      },
      "source": [
        "본 논문에서 제안하는 방법은 Extractive 방식을 조합한 Semi Abstractive method라 할 수 있다. 원문을 어절별로 모두 나누고 이를 재조합하여 전체 내용을 요약한 몇개의 문장을 생성한다.\n",
        "\n",
        " 이를 위해, Generator는 원문 어절의 개수 만큼의 noise를 input으로 받으며 \n",
        "원문 어절의 개수 만큼의 output을 갖는다. 이때 output은 각 원문의 어절이 요약에 활용되는 확율값에 해당한다. 따라서, 특정 확율값 또는 주어진 어절의 개수에 해당하는 상위 순위의 확률값에 해당하는 어절을 선택하여 요약문을 생성한다. Similarity function과 keyBERT 기법에 의해서 원문으로부터 골자 어절들(frame terms)을 추출하고 이를 Generator에 bias로 입력한다. 이를 통해 Generator는 주요 어절들에 높은 확률값을 우선 할당하며, 이후 한국어 문법 discriminator에 의해 임의 생성된 문장이 문법적으로 사람이 읽을 수 있는 문장인지 구분한다. 또한 원문 유사성을 구분하는 유사도 discriminator에 의해 임의 생성된 문장이 원문 내용과 상이하지 않도록 조정한다.\n",
        "전체 아키텍처는 아래 그림과 같다. \n"
      ]
    },
    {
      "cell_type": "markdown",
      "metadata": {
        "id": "6vUUcarQd02I"
      },
      "source": [
        "The method proposed in this paper can be called a semi abstractive method that combines the extractive method. Divide the original text by word and reassemble it to create several sentences that summarize the entire contents.\n",
        "\n",
        "For this purpose, the Generator receives noise as much as the number of original words as input and has output as much as the number of original words. And then, the output corresponds to the probability value used for summarizing the words of each original text. Therefore, a summary sentence is generated by selecting a word corresponding to a specific probability value or a probability value of the highest ranking corresponding to the number of given words. Frame words are extracted from the original text by similarity function and keyBERT technique, and these are input as bias to the generator. Through this, the Generator first allocates a high probability values to the frame words, and then identifies whether the randomly generated sentences by the Korean grammar discriminator are grammatically human-readable sentences. Also, the similarity, which distinguishes the similarity of the original text, is adjusted so that the randomly generated sentences by the discriminator do not differ from the original text. The overall architecture is shown in the figure below."
      ]
    },
    {
      "cell_type": "markdown",
      "metadata": {
        "id": "g3ksOUOLRjNl"
      },
      "source": [
        "![image.png](data:image/png;base64,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)"
      ]
    },
    {
      "cell_type": "markdown",
      "metadata": {
        "id": "RuSIW2q4QGdB"
      },
      "source": [
        "##3.1 Similarity function을 이용한 frame word의 추출"
      ]
    },
    {
      "cell_type": "markdown",
      "metadata": {
        "id": "1OLxIyK0d02J"
      },
      "source": [
        "Document를 word 단위(여기서 말하는 word 단위는 띄어쓰기 단위를 의미)로 나눈다. 각각의 word을 xi 라고 할 때 Document는 다음과 같이 나타낼 수 있다.\n",
        "\n",
        "Document"
      ]
    },
    {
      "cell_type": "markdown",
      "metadata": {
        "id": "eANeTSocd02J"
      },
      "source": [
        "Split the document into word units (the word unit here means spaces). When each word is called xi, the document can be expressed as follows.\n",
        "\n",
        "Document"
      ]
    },
    {
      "cell_type": "markdown",
      "metadata": {
        "id": "L_fZp0Ild02K"
      },
      "source": [
        "![image.png](data:image/png;base64,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)\n"
      ]
    },
    {
      "cell_type": "markdown",
      "metadata": {
        "id": "HFKtDoHqd02K"
      },
      "source": [
        "각 word에 대한 전체 document의 Similarity Probability Distribution (SPD)는 아래와 같이 나타낼 수 있다"
      ]
    },
    {
      "cell_type": "markdown",
      "metadata": {
        "id": "J0_S2kYmd02K"
      },
      "source": [
        "The Similarity Probability Distribution (SPD) of the entire document for each word can be expressed as follows."
      ]
    },
    {
      "cell_type": "markdown",
      "metadata": {
        "id": "qDX9EgFUd02L"
      },
      "source": [
        "\n",
        "![image.png](data:image/png;base64,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)\n"
      ]
    },
    {
      "cell_type": "markdown",
      "metadata": {
        "id": "ZZfxJ5bLd02L"
      },
      "source": [
        "이를 연속적 Signal 이라 보고, Signal의 peak에 해당하는 word을 추출하여 이를 전체 document의 요약에 해당하는 frame words으로 구성하고자 한다.\n",
        "\n",
        "그러나 document story상, 예를 들어 주인공을 지칭하는 word의 경우 전체 Similarity에 지배적 영향을 주게되고 signal의 peak는 해당 word들로만 구성 될 수가 있다. 결국, 원하는 frame을 얻지 못하게 된다. 이를 극복하기 위한 방법으로 복수의 words으로 구성된 story line의 SPD를 산출하여 사용한다. 만약 2개의 word인 경우 Similarity Probability는 다음과 같다."
      ]
    },
    {
      "cell_type": "markdown",
      "metadata": {
        "id": "N49PoeBbd02M"
      },
      "source": [
        "This is regarded as a continuous signal, and a word corresponding to the peak of the signal is extracted, and it is composed of frame words corresponding to the summary of the entire document.\n",
        "\n",
        "However, in the document story, for example, a word that refers to the protagonist has a dominant effect on the overall similarity, and the peak of the signal can consist only of the corresponding words. Eventually, the desired frame cannot be obtained. As a way to overcome this, the SPD of a story line composed of multiple words is calculated and used. If it is two words, the similarity probability is as follows."
      ]
    },
    {
      "cell_type": "markdown",
      "metadata": {
        "id": "uPZO8lSJd02M"
      },
      "source": [
        "\n",
        "![image.png](data:image/png;base64,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)\n"
      ]
    },
    {
      "cell_type": "markdown",
      "metadata": {
        "id": "ofRcx5Nwd02N"
      },
      "source": [
        "이때, "
      ]
    },
    {
      "cell_type": "markdown",
      "metadata": {
        "id": "0IaDBwSRd02N"
      },
      "source": [
        "At that moment,"
      ]
    },
    {
      "cell_type": "markdown",
      "metadata": {
        "id": "-MWQkUDld02O"
      },
      "source": [
        "\n",
        "![image.png](data:image/png;base64,iVBORw0KGgoAAAANSUhEUgAAAHkAAAAoCAYAAADaKFUbAAAEFklEQVR4Ae1bIWzrMBANLBwsHJwUUjg4OFhiqbBwcHAwrLBwcLBSyODgYGFJpMLCwcHC+3qO3TpdkjrxOdZvbGlK2ti+u/d85/OlSyi2m0cguXkLo4EUSR7BIogkR5JHgMAITIyeHEkeAQIjMDF6ciR5BAiMwMToyZHk/gh8f3/T6+tr/wlGNPLl5YW22603i9k9Gco+PT3RdDql9/d3b4rfysTH45HW6zXd3d1J3Ha7HbtprCRDQSi7XC7p9/eXXdlbnhB4LRYLid/hcGA1lY1kKHZ/f0+Pj4+E1RlbdwSA28PDg8SR00nYSH5+fvayCrtD9X+P2O/3NJlMaD6fsxnCQjIUS5JEhmk2zUY8ERwGeP78/LCgwEIysmgo9fX1xaLU2Cf5+PiQeHKdTlhIRnhBwtW6FxcZiTSRyidpRrnJZJGfnonKA7NTj/sQMnuoeTkE+zGcBphyNGeStUJIuhpbkVGaZlQQUZGl0oA0wye0nESiyE9ElXzVo9clhMxeitYPwhEURHMkYM4k49gEZXA2tmoAH6RKly0og3erBWA1vk+nEDL76GmMQZYNXJHvuDZnkrEPQxn7bPBMbAavvkZwLuT8bmE8hEw3auA0wJUjz3EmWScJKIDYtlzovfl6eC77pnSK7rZCLvqFkHmhQqePmuTNZtNpXF1nZ5JRo+4Uro192c0768xp/k7nAiwyVfi3nkslluc8pFlP/QRFJeAKfF2bM8modEGZ2Wxmp4veH0/7st0wp17cMm1JLnLKRJloAqMuJCORxRiOEqczyTg2QZnW7FozhBWdJCRylVG37cdqL+4KjhZ1uvqQaUMy+qSCsrwgUrZ0IRnHUtjO0VhmgRc3rjoYiLimwC6zatiNfbl9r20NsXoR1MVMXzI14jYk6764diQZb/KAp3V0NGXV3LOQjFdlUGq1Wv0RoYnCczOT1t+XqxvZ71/Cyz5/v5dCWkjWc7PL1NZ5Jvnt7U3iyfWqloVkhGyEFyQLl01ntakoiyHn53l5Rpbki9rsWY5tCuktJHPLrCwa6Nv0VxdVYHBHT8bWh2JIawXxDOTVOxaSIUWvPhypeJratxuA08A3PO6pQrvM06QePRnei0UEPLkaG8lQCG9P4NEcVRpSQNYnKyUZKS/DqLnKaly9TANyTyTr14z48QBnYyUZ4QVEI9R8fn466dm2H+PZVSJ6SG+TWZnOA8nAC7gBP64wrXVmJVlPipCNfcW6nq0HGlcT8CIXXkg1xMlba5kdSS7nLev1+rWMKRs4AS++rc6cnfz+V6NTtUYBiWOWcK1pVm1u/mQr04pkVS+vTdKq5Vyfv9SEsV48uRnF+CQEApHkEKgPLDOSPDDgIcRFkkOgPrDMSPLAgIcQF0kOgfrAMiPJAwMeQtw/l14Wzf4yXzIAAAAASUVORK5CYII=)"
      ]
    },
    {
      "cell_type": "markdown",
      "metadata": {
        "id": "2m5_dpDLd02O"
      },
      "source": [
        " 의 구성은 일종의 Partial story 로서 filter의 역할을 하고, 전체 document를 convolution 한다.\n",
        "만약 N개의 word을 filter로 사용한다면, "
      ]
    },
    {
      "cell_type": "markdown",
      "metadata": {
        "id": "TUeW8-Tqd02O"
      },
      "source": [
        "The composition of this is a kind of Partial story that acts as a filter and convolutions the entire document.\n",
        "If you use N words as a filter,"
      ]
    },
    {
      "cell_type": "markdown",
      "metadata": {
        "id": "ArX2c9rld02P"
      },
      "source": [
        "![image.png](data:image/png;base64,iVBORw0KGgoAAAANSUhEUgAABGwAAAA1CAYAAAAUPn1wAAAcHElEQVR4Ae2dIazkNhCGFx4sPFhYacnBgwePVDqy0sHCwgcPVOpjJZUOVioprPRIpZKiqrDwClY6FZ2Knoqu7GCqP5txJo7t2ImdOLt/pKfkJY49/jwzsSeO99BwIwESIAESIAESIAESIAESIAESIAESIAESqIrAoSppKAwJkAAJkAAJkAAJkAAJkAAJkAAJkAAJkEDDgA2VgARIgARIgARIgARIgARIgARIgARIgAQqI8CATWUNQnFIgARIgARIgARIgARIgARIgARIgARIgAEb6gAJkAAJkAAJkAAJkAAJkAAJkAAJkAAJVEaAAZvKGoTikAAJkAAJkAAJkAAJkAAJkAAJkAAJkAADNtQBEiABEiABEiABEiABEiABEiABEiABEqiMAAM2lTUIxSGBWyDw4cOH5vHx8RaqyjruiAB0Erp5ixtt8hZbnXUOEbhlfxDiUss1+qxaWoJykMD+CdTu7xmw2b+OsQYk0Pzzzz/Nzz//3Hz//ffN4XBo/2rE8ueffzavXr1q5fvhhx9qFJEy3TAB6CTsBzoKXb2FjTZ5C63MOs4hcIv+YA6nte+hz1qbOMsjgesnMNffy5gL4y+MwzAeK7ExYFOCKvMkgRUJ/PjjjyZI8/vvvzf//vvviqXHFYU3YS9evGjlfPr0aevU4u5kKhJYlwAeuNBRPIShs9c644Y2ua5esbR9ErgVf7CH1qHP2kMrUUYS2C+Buf7+v//+azD++vLLL9u+I8ZlubdsAZu//vqrgYBff/21GTyiw/vNN9+05xERR4Vcm0SnQntErn799VdvHjrfUD64Bhkh6628QdVseHxdBHSwBjYYu03ZCK6n2Fyo3I8fPzbPnj1r/cLd3V3z6dOnUHJeI4HNCUBHoauwA+gudLjktqY9oh60yZKtybyvjcDa/mAP/Oiz9tBKlJEESCCVwBJ/j9k14htzB20WB2zwNh9BGQgI4fTbfX0N1//++28nNwRydKDHDqTgPikD0StfPpK5nZ8eyOIa/pfyYvKTfLkngZoIwL7EMcA+UjbbRpbanK9sOL6XL1+2cn711Ve+ZDxPAlUSgM7CxqDD0OVS21r2CPlpk6VakfleO4G1/MEeONJn7aGVKCMJkMBcAnP9vV6aQsdE5soh9y0O2Mj0H0wFcm16UOm6LudiKqiDLHKfbx+TH6Y+yYBXB3V8efI8CdREADYn+uuzv5C8MTaSYnOussThffHFF0UHvK6yeY4ElhJAcAO6CzuDLpfc1rBHyE+bLNmKzPuaCazpD/bAkT5rD61EGUmABOYQmOvvl47NfLIuCthIwANBm9CGzi4ce2jTjt+XDp9EyQB1apaN5DclmwxIkS/eGHAjgb0QEB2H7i4N2PjqnGJzdh7v3r0z9nqt64DYdeb/10fg/fv3Ro+h06U2bc++MpbYI/KkTfrI8jwJxBFYyx/ESbNtKvqsbfmzdBIggbIE5vh7HbCBj8y1LQrYyOyaHALF5KUhTA1QY/IDRHwKIkEgdIa5kcBeCOjO0pQ9uOoUYyMpNmeXIWuAYOFWbiSwZwLPnz9vnxPQ6VJbaXuE3LTJUq3HfG+JwBr+YA886bP20EqUkQRIYAmBVH+vx0054iMi+6KAjQQ6lgqkP5sKBU00BHvNDakQ9jq/qYGsXiAodR0QXSaPSWBtAksCNtpGcticXXdMJXzy5Ek7yOXPd9t0+P/eCHz33XetLkOnodu5t9L2CHlpk7lbjfndKoHS/mAPXOmz9tBKlJEESGApgVR/r2MVS+MjWvYsARsEbuC85256lkvoUyf9izih3znHejQSTArlJ/JKWuy5kcBeCGinkLoaeW6bs5khSCN29fj4aF8O/o96yZs7fHbp2nQaHG+xaRlqlnMLNnPLrJUpPukTfS4RgCxtj2iPuTZZa5u4dGxPsrrkr/EcmY5bpbQ/GJdY3xn6rPraJKdEtPucNJlXLIEa9S7V3+tYBeqTa1sUodBCYXbK3KCNrIWDDnFoHRkZxGEf2nR+oXRyTTri2HMjgb0QQDBSdDd1dpi2kRw2ZzOTX4bCVMKUTcsldUPHUG92mlDwVt+X89iWAbLWKGfOOpfOq3am8tP00O3cm657CXuEvHNsUstVsz2ifnuSNbf+lMqPTP1kS/oDf6n1XNG6QZ9VT7vkkES3be1+P0d9mUcdBGrWuxR/j/GY2E3MpJFY+osiFAjQSBAFwuF4jnCy8G8oEIMolQCYilhJftjHbJIv9txIIIaA/hxJ68+c4yl99smDTpIuz5fOdV5sJJfN2WXIL+ukDG4lACUBGPEtOhgli65iFp2kt8su/b+UW7ucpTnkzH8PTCXgAd3OvZW2R8ibapN7aBNphz3JKjLXvifTcAuV9Afhkuu4Sp9VRzvkloJ2n5so84shULvepfh7PS4LBbNjuOg0iyMUdtAGgiJKFrvpQafvsw4MjASAHrz5ypC0vvzs+yQ99txIIIZADQEbyDlHd0vYnM1M1q9J+SlkBK508EpH25G/OHQEa7bc9iLnloxSy94DU/k5bOh2zm0Ne4S8qTa5hzaRdtiTrCJz7XsyDbdQKX8QLrWOq/RZdbRDCSlo9yWoMs8pArXrXYq/nzMum+KD61kiFHDe9gA2JrACAWQQhgqiwfSGQI0etIUWR5X7dH72JwqSRu91MCjn4kC6DB6TQAkCWndTgqTaRnLYnF03rFkjDuvNmzf25ej/tZwI0mDGTYwPiC4gU8K9yJmpuqtkUyNT6LLodeq6TCFouq4l7BFl57BJLWfN9oj67knWkG7UdI1Mh61Ryh8MS6nzP60L9Fl1tlEuqXRb1+73c9WZ+WxPoDa9S/H3Om6BcVquLUvARoTRi5ChYxsTAJFPHKQjbO8R+EGa2PVx8PCQPGJAaZlrHAwKW+5JQBOAM4NtxNqZvje3zem8caxt6u3bt/blpP/FlufUM6mghYn3IufCaq56e21MocsiU8zLgFhYpe0RcuSySak/9jHP91gGJdLtSdYS9S+RJ5n2VEv5g76Eeo/os+ptmxKS0e5LUGWeUwRq0rtUfy+TWDBOw3gtx5Y1YAOBEIHVkKcCLTLoxD05NoEUm59eODkX1Bz1YB4k4COg7StlZo3kl9vmJF/Z//bbb8YH/PTTT3J61l6+k8e+5m0vctbM0JatNqbQZbG9P/74wxZ39v+l7RGC5bLJ2tokBH1PsobqUdM1Mu1bo5Q/6Euo94g+q962KSEZ7b4EVeY5RaAmvZvj7/VMm9iYRIhJniiJVYIW0p4uaSU1HeBcb+ukQ40HSswm6UOLrzbNuTk/nJrj8WDkPRyOzf05poT10jyctHyH5ugQ8Hx/VHU4NIfTw3oCsqRsBBBclEV5U4M2ovO5bM6u1Lt374yOffvtt/blpP8loBq2z6QsiyROlvN8bh7uT83paNnj8dicHipzLEWITWeazLRpmpI+ELostgMdz7VJnqXsEXLmssnkNtlQz5NlbWCT9yObPB5PzT1tslX3dKZlbTKXDc7Jp5Q/mCPL2vdcs88a9ZEPw3611N3sC/WhSz7LUvUl1e7JMJUw07sI1KR3qf5eJo9g7JJrMkiRgI1eWyMUsNHpcnyOhNk84kRj8tOfT/nlPDf3baDmaDptF2d0amoMdTyc9ADQLaOkOd7PqMHDqWXsCga5DO5az4kxir4t2ft1L0xvjv3MuScsxfjqx48fjR3e3d2NEySc0W/ysFZWytYGWQ+HplB/aiBKkpzn++bYdQJhgxKeOT/o83J2UMxN/ZPEVJER/3axyXw+ELosdg4dz7GtYY+QM5dNJrXJxnqeJGvz0JyMTfa2R5scanka0/7eUjbZl5B+tPT5UMIfpNdi/Tuu2mc1qr9v3ICcG74ElaBEyb5wLXaTZvfCS7/UlnO3y1Bb6lLfo/O65uOa9C7F3+tPRuEvc22bBmx0wCRHBEp/p49Ps6Y2maEQenu/hlOekjPl+kXeo5kN5BqsShrHBJzJoiTq78p38uYrSlBDwAY4ZQAZ0mGNPbfN6bz18WeffdbK9vr1a3066RjRde2wY2waBWCQdTKz4XSnIan46MTJcspA1mFE4m8Ox3sTyIkW5IoSJjNVdRf/JjMiHZgbSZPiA6HLsDfodq5tLXuEvEttMrlNNtTzZFm7gI1r8EWbvGh7OtPeSsTestrkzJdHuZ4PJfxBT6zeo6v2WU4/IMFcqy/R6p91LnOzFbGbRBnT7f7Ca+hLr4zhxr4nsQl3mbw2vUvx9xJbQH8x55acGwSZmrqtI/ChQAwaRAacOSql85taO0en9UfAPE4mh7CF8mgDKsf75kE+fXKMVi5BF/eb56BY0gE/zLg3mDEvziUg9hPrGLTezy0z5r5nz561tv3ixYuY5KM06BTC18COxflNfvp1fugCNQhYykyzsh2qWXKOaqtOdB2Bww3b2FKmpXwgdBl2Bt3Ota1lj5B3iU0ubZMRr4J6XkzWGw6iLmVaxCZTB02Znw8l/MHITio8cdU+6/zQ3J/uh7Pnff3edpmEsn3hInaToFOz7P4WGG7sexKacJdJa9S7FH+fOi6LbaSkgI18coS33qFNpgNhwaDQJgOxqXShPPQ1WaAI+Ya26Zk4cNr2mjXyHeuUg76sTSFvktqG830D3zq2fmDZx1bODaZCymcT8evMqMi27yEjUz77wkKoLtfQ0Rl8aiUsur0nr8ubLKkf0h6bk36lnVr/ifRiJMeTmp1wHs62uKb1QXRgNNaG5tvcubnXOtl+PoDACNZ3GKvQy5cv28Ht559/Pr44cUYWLpdgr3QQtV3DF9mBY9jMyXxiFB9sFb3BQyJlmytnsIyIgexceeU+m5vIs/S65IO95LU+00I+sGka6DLq9erVK11VczynzmvZI4Sca5N70vMSspoZNp7n3BJ9F52hTXafTAQYG0OTg8RB09zngxRn70v4A5RRu07cms8y9r96wDbPs0z0af1ncW8xe2fY16Q72tj3zG1TuW+N5432ZSm6l/MZnlPvpvy91hGJRYC3f0KIviPuOClgIyBDQug34jLgcomCa1PK47rPd06CScjTp4y4V4JJeOigPqHNNHZsJ0K9wekXKcRA9xLYGGTTRue7t/8SXGkfCDJLoA+KDKcWBiTu8rmU4/5mtHFO+QzkqS5dZuYMv0FVl9WhlK0XUJVz3ZoiqfUPpccbkfZ742EZZyzqKgN43N8GGaYCbqoalR/CCabY0Hybk+DHqeMMMKLX7hksv/zyi5Et5ieQUQ/IJz5Gr0GlA6ySF4LGCOT4N5HZLZ++L4Vhfjm1JP0CnSGbT5FX5z5139LrKWXZabO1fSEfqHUQuu3apvjZ96xpjyg7xSZRl2xtYldcLQ6dQ8+LyirP5okfGUhte0Eydd/S61IO9lN52WmztX8hm2wSB026ftIPmvvjESX8gcg31U5Lr0s52E/lpdPi+BZ9Vny/16a18P9MdpPSxkibze5V9ffOUFXlcrih74EAKW2qZZ+6b+l1XVaKnLXrXYy/13VHDEJYpgSrdB6u46SAjf71JwQ8YNiyYUFQDLZw3r4maWSPtHptCqRPXVBU8pK9vIUHJBsQIlwYAErUCzAR4Jna0pxMYIAonT4rQn+WRc3MdfxqzOWXmy7xh8sipINAT0jo1on0A1QTcNLldo4mOk9T3jAYYk6PDvzphKeUnVp/Z3o9m0YPBPBrO4PZPLKga89nJPrOTmh7tHXersoSmxM9Gg2uWr11B8A+ffrUPH36tHVab968scUZ/K9nCsF+7U+fILs4P9lPzfJL6ZBLnqFALwQuI6dC0dnm1Po1sfKqnNvDqfuWXtflTeUlabMzLeQDocOoE3Qauu3aYuuMe9e2R5QZa5PZ28SGlVHPi8na/boVgvyYsTn1I1Epba9xTN239HpKWZI2O9NCNrllwCa3PxD22C9t86n7U8rSaW/TZ/n7s5pNkeNMdhOrD9nt3kDZP0NTFTnonmGjPrFcD+4DY8Xgff3F2Dbt77gcTd239HpqeUi/B72L8fe67vpluj2e0elSj5MCNghyQBAER3QESTeyvAEPCSLp7X3Mva58JRBj5yf/IyAEeRG0iQnUXMpIczISjHB+viQBGd+6FNKBxQwQiWa4Kjpx7iKDGkCbcvsgxWXwrdJM5NlfjnMyMrgf1yNwf2r9Tfq+Xhc5+zYblW9YzKl7T6GmI22DUwEbsQV7H2Nzuk0lxhjDQX4Gb+qzKIlew0599ZBgMOQPz6wRyQL6Jkm6vTDxlS3Jy8jZ5Z6gn7Hyityyl/t8gaml16Uc7CWvtZmW8oEyHRY67dti66z5yD2yL2mPKDfGJvek5/llFb8hM1y7zywnHJ+035S+27oj99Em8el04rN5w0FTbn+g9aJGnbhZn2Wey3ZfU7dYmeNczzLRpynflN+XdlyugOGohTf0PZAltk1tueW+NZ43sXLuQe9i/L1mDVubYq3Txx4nBWxiM72OdNJxi3DUUw7JXHd3SEywJ7XDMgDdBSsGAZ8+gHGJBHf/6xk3gzwC/0iQJHjvmNlZvals17BxvKpMrb9JP6grZB+XLzUyQYeg/JJ6H/uUgM2iGhn9PTQH33pMjgIeHx+bJ0+etI4rZ5TZUZTjlF8XdGId3ccbxE02w1d/cuaWpAp53aKZs9vJWMYHykw26DJ02rWtWmejL2n2CLk3tUkj9170HOvRyRps+LzX1fLDN4Sb+RC3aObsqvppSsVBDpsUXy5BtJi9u6/ViyZ5RvTv+pvao+r8gSVf7L+r6oSx/Z35rKh+ryKu69l+gh+hq84+aQ67qcQ37Zqh+ImIdjTtXc73QNNWtVul2qmHm8uZqneeCsb4e/tWBmxsIqX/T2nsqbRy3RmQ6Rwzpl7rT3iS63dxLHYew0BF53x8Pc9AmSaf0L2mnsq5HbuFaWUtmVEZqfXv049EkYel4wEoQR6bz0icHZ0QR4JI7tTbk8XVMuszXdp2sLBzIPO3b9+2ARv8pPCHDx8CKXNfkgdtuEMuDPWaObklCecnck4PYpHP9vKGa7OtjPl9IHRWfg4buuzbVm+XmfYI+bexyf3quXn2OZ/ftEmfTVzO57BJ0R3VrzCDI9+5MoOmav1BuBGcV+mznFgGJ43tjzqbg2T9P9IHndRPpbeO/qq8fLT7q0ae9p7OLgKyrd7GPQlzZGQOyGkS46AqhvX4HmFUQ5uKLKH91nIm652jMrH+3r5VB2zivgiwc3D/zxk2bi5NSmNPpZVgwegznbZscQjhgaVHzP50FywZ+0SV/0Pimjgm90CQxKSBn+3eRo6FUKnsQyXfxLTzy52Sftwh85cv93QLHtsi7PR/mUq4SsCmY3Q2izfjTZn6Na4AQ/n+Ez8r7Fv/I3D7zEvS5n67kgWO8WDZZpMFxv0yarm2l1dL4z7eVMbMPhC6+vz58zbgCB32bVvWeY49oh7r2uTO9dwMIMZ2umXb+/TRPr+pjJltclC3Lm97UDtI4/1n+vlg37oHf2DL7Pt/S53Yh8+6kJO++zwd89GPOJ/BbrZsY13DPTPU9Rgcr+x7pOxa2lTk8e1rkHOp3sX6excDHbDBOC3XxoCNh2RKY/sDBchcOgaeYEFn+LGDX4+4XbBkHMRoJeh+peryTd240+nLsz8vdQjfG+bQ5zY4Sq1/IL23zeQezxvSgTw7+gfT7+U7yelFeDNWzAxg3PrmKun169etrBgAv3//3pUk87lpnUWgpvjMpECtLvoatil9+9byall8x1vKePE/bp0U3xDrA6Gj8jPY0N3QtmWdW7lm2CPuW8smd6/nhu/YVjdv+5Bidte2lDGnTY6q2j3X5w2mp58Purxd+QMtuOd4S51oRTI25fbXHrFX81mX8tN0xCfznPM57GbzNm4rvm+G3rZb0fdoGepoUy2R+3h7OZfpXYq/dxHQP6qU8zNpBmxctOW764MnyGLfIwEBx4wDM1DwzDqZFeSwyxd5HeW3SUW+dppm2gPyUpRH+R8eBr+eEa4L3rKOO7zhe0YVDczikVlA4zLk1yR0UMz84tS4iF2d0ZFcRLXzbmh3B08ThIzXJUSrseCpfF5yd3fXfPz4Ma+4g9w8OjtIs90/ovdOt9B2Zl3ct5O3/pI7+1/oA6GT0E0EdqCr0Fnobh1bPntEfdawyd3oeTeAdA7+5fnp0606lKNCKfLYpLdiKwya6vYHXjIVXdifzzLwZgaVzP2zDwrbzWy5Ztx4rQxX8D0zaPMWITBT73L4e5ldhD5k7qUWGLCRBtb75MaWYAECPPJdz7l5OF0+ETqeHho5q4sxC/ItXb9G5D36BtC9fO7PsoZSjf+TwW9fv8u0VntQKemOzb3h0DQyBXbMoZfL2VEeCdKnHw10hYFrFo10uNubuoUkr6jzrYM2iGzH/xLaCPDwhDAdsOoX4oxrs2GWGCRiDQ2sug5Zy2zn5nx/MrOPjt71k8qUPp2r2In6jn30zbttW9O53nQKo6vLfCB0EroJHa0nUNO1rKmj/hRxmT0i53I2uSM9F7YIUA+eXZfPiLFg/qIl5m7ROIVpqX7J7EFT/POhan+wB50yOrAXnyVQ+/776rZvmC17lklNtttfMcMVfM927bb3kufr3RJ/j5k0eiyWO1iDVmHAxqWbMsAfDFRdCfU5rSSXgdgRHZXgVA7p0C7oDIpzNwM+t5OXN51zBtltLfXaJYdjMw6+dCysxTDxsMMCtaoPrKCl1j+QPthmfaDH90tVSqhdHsJZwEHoX47CKu2LtvN9czph0ehhYAF6rQc1c8vIPiAWHTC2MJQbEe/Z+j+3ko77xBYvn+eMZbycd9uxIzueyugDs+tkztYpbI8QNWf996XnCHydmuNRfhVK7DL0/MrZuFeWV0ab9JJJHTTNeD7ktAdvPa75ws58ljSFmRlv+hIL+uiSacx+DbuJkSNDmqtmuILvydAEN5nFEr2b6++lL4/xF8Zh2V6aWy3IgI0FBP+ajuZoGocjMU+RAAmQAAmQAAmQAAmsRyB10LSeZCyJBEjgmgnQ91xz61ZbNwZsRk3Tz8ZgvGYEhydIgARIgARIgARIgARIgARIgARIgARWIMCAjQ3ZTEnkJwk2Gv5PAiRAAiRAAiRAAiRAAiRAAiRAAiSwDgEGbAacz8199xPYnF0zAMN/SIAESIAESIAESIAESIAESIAESIAEViTAgE0H2yxUhAVV3T/ptGKzsCgSIAESIAESIAESIAESIAESIAESIIFbJsCAzS23PutOAiRAAiRAAiRAAiRAAiRAAiRAAiRQJQEGbKpsFgpFAiRAAiRAAiRAAiRAAiRAAiRAAiRwywQYsLnl1mfdSYAESIAESIAESIAESIAESIAESIAEqiTAgE2VzUKhSIAESIAESIAESIAESIAESIAESIAEbpkAAza33PqsOwmQAAmQAAmQAAmQAAmQAAmQAAmQQJUEGLCpslkoFAmQAAmQAAmQAAmQAAmQAAmQAAmQwC0TYMDmllufdScBEiABEiABEiABEiABEiABEiABEqiSAAM2VTYLhSIBEiABEiABEiABEiABEiABEiABErhlAgzY3HLrs+4kQAIkQAIkQAIkQAIkQAIkQAIkQAJVEmDApspmoVAkQAIkQAIkQAIkQAIkQAIkQAIkQAK3TOB/lciv1S6r474AAAAASUVORK5CYII=)\n"
      ]
    },
    {
      "cell_type": "markdown",
      "metadata": {
        "id": "ZHvqDQqcd02P"
      },
      "source": [
        "과 같이 된다. \n",
        "\n",
        "m개의 filter를 이용하여 frame words = s 를 아래와 같이 구성한다면"
      ]
    },
    {
      "cell_type": "markdown",
      "metadata": {
        "id": "kQxlSj9Gd02P"
      },
      "source": [
        "If frame words = s are composed as follows using m filters"
      ]
    },
    {
      "cell_type": "markdown",
      "metadata": {
        "id": "mjTCMhACd02Q"
      },
      "source": [
        "\n",
        "![image.png](data:image/png;base64,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)\n"
      ]
    },
    {
      "cell_type": "markdown",
      "metadata": {
        "id": "R-iuLvAzd02Q"
      },
      "source": [
        "\n",
        "![image.png](data:image/png;base64,iVBORw0KGgoAAAANSUhEUgAAAS4AAAB0CAYAAAA7It9mAAATvklEQVR4Ae2dIRDcNhOFAwsDAwMDAwsDAwMLCwMDwwIDAwMLAwMLCwsLCwsLCwPvn+/+eelWI8n2WdZZuqeZG9/Z0mr1dvW0kmXfk4uTETACRmAwBJ4Mpq/VNQJGwAhcTFx2AiNgBIZDwMQ1nMmssBEwAiYu+4ARMALDIWDiGs5kVtgIGAETl33ACBiB4RAwcQ1nMitsBIyAics+YASMwHAImLiGM9ljKvzt27fLX3/9lW3833//nT3/zz//XCjnNB8CJq75bDpViyCet2/fXp48eXL9fPz48do+zr979+7y7Nmz6/mXL19eRGC//fbb5c2bN9fzP/zwwzXfVKC4Md6Aah84LwJETBDSq1evLp8+fboSEUQFab1+/fpKaJ8/f768ePHiO6l9/fr1SmYQ3Pv376/nIT2R2nlba822IOCIawtaztsVAQgKwlKCgIigIK1ffvlFp78TFCQHicUp5dOnT6/kRRTmNA8CJq55bDl1SyAjTReJpGJiyihS+/PPP+OlK9FxLZLZfzL4x5AImLiGNNvjKU2EBQERQRGJxcRUkmsQWEx//PHH9zLxvL+Pj4CJa3wbPkQLfv755ysJsVCfJk0H02hL62Is1DvNhYCJay57TtsaLcCz+B4TZKVILJ7nu+4sxnWyNI9/j4mAiWtMuz2U1txdhJz4pHcHNYVkwT5N2irBlNFpLgRMXHPZc8rWEGVBWhBRmjSF/PDhw38uieyYRiqZwITE+EcT1/g2nL4FumuYW6t6/vz5ldTSKeTvv/9+Pc/2CaI09nVBYmnENj14kzbQxDWpYWdqlu4aate82gYJlaaQ3HnUVJE87PFKF+8lx8fxEDBxjWezh9OY6IkNpGm0xHSQ86XNpYq00mjs4QCcsMEmrgmN6iYZgdkRMHHNbmG3zwhMiICJa0KjuklGYHYETFyzW9jtMwITImDimtCobpIRmB0BE9fsFnb7jMCECJi4JjSqm2QEZkfAxDW7hd0+IzAhAiauCY06QpN4OJrnC8/2GQE763jxO+ftBPdBQI/x6JGdsxzvg4Zr3YqAI66tiDl/EwT0kr+UsH788cfDozBegcPD12nd/HYaAwFbagw7TamlXvQXCQRC6fUwtF6JE+ufEugJG2XimtCoozSJh6T1WppIHrztNH2v/FFt+umnn/4TeR1Vj+W2RcDE1RZPS9uIAG9+yE3biIZ6JP2hhoizR52uYz8CJq79GFrCTgRK613xvxN3VlEtzrqaiasK0ekumrhOZ5LHVCi33sUbS3v8HyJbMkxcY/mdiWsse02rbWm9i2jo6PUuvdMe8nIaAwFbagw7PYSWpfWu9I9eW4NBVMe+Mj5OYyBg4hrDTg+jZWm9y69ffhgXWNVQE9cqmJypJwKl9a70nfM9dXJd50LAxHUue1iby+VSWu/yVM7uIQRMXELCx1MhUFrvSv/49VRKW5luCJi4ukHtirYiUFrvKv0d2Vb5zj8uAiaucW33EJrn1rv4o1evdz2E+YuNNHEVofGF1gjcspm0tN4FoTmdA4Fb7LpXcxPXXgQnKJ97N1ZLZ+TRHR6mvnVxvbTexVTyrIk3XOhfttF/1kTky8ZdBhKe++yVTFy9kD55PXH3OFOxFunLly/f3/7AWxj2TO9y6108nH0WUmB3/8ePH6/knHtonHO8B6y0Hy0+L6nHj+KR8hD/27dvVz0GtSQPGyMPXPc+mQBBv3z58kpgyOxBYCauFj10EhnqKC2mYURZyMOhW5FLbr2LSI7p5D0T0Smv4qG96AOB0WbO//rrr9/Jm+u1u6LxFTuQnCI2yAXCioS45gH0nDzKoQMEI3tDYi2i18+fP1917PGMqYnrnh5/orrj6132OjGdlU7R2oFL6129XoGTMxfRiqINSCs3xYbERBK1O6LxYe+cDZANySALEsvVFXVckodeMTKDHPcmDVglLPbKV3kTl5B48KMcjk6xJ0KCtBQZlKZFe6BGN8kXGXBcE4HsqbdUNuJWay8kjp616JBnMtWm0nQrkhERTi3FiKtkU6bv0o26a8Raqyte05tlIfRae2OZrd9NXFsRmzS/nA1S2LPmoeijxehdgppoRB1cR/Tu9crnqJemr9Rf66QQXC6KirKEXc0GkSiXHj5fI4/6I56Q3d6E/xBxYRuI9ohk4joC1QFlysmZOtyaGNVFJEeTiAhD9XHs+cpnYSTcamSjvLUjnR0ZtIP1p1IiylKb379/X8p2HXwkb8mmTDklk/a0SIoMmdruGQhLuhxCXISfKM4CI85EKIox+HC+FLaWlDzLeUZUFl5xBD7p1IDwng7FaMP1pRE2tgtMGEHBCGODG7LWYoVDgzd1UxY5jM44DQ5ec17aJcdNR3HuDMp2OpaiKUVt1H90QmeN6tKdY+/1LjBR/ak/bMGAKZrk1AgpTidr/hXlpTbN6aW6ObYgGgYuydyDS05XzjUnLtY4NGem4ylEjiPkLazOqIAxWnxK6wclkDhPmbSj0E4ZWSOMjKXj0joEsuWMyEcOZeJIXluEjXrRiSBWHCWub6BLDXPyS9/UyXBACFHXOeY6AoOVRnh06JEgddUZ9UvbcKQush31g3FtuljTI07XavrLL6iv5sdr5Umn6Ns1ucq/5sgAhp74T+vUlLjoxHIkRuo0ibxKI3aaP/4uEUN02LXf6eBbEp0XkmI0xzFjR8fI6MZ12gwGkLXIuxYqI0sjNrJFgugWR8zSyErdqgcd0hSdMUc2yh+xze21UiSFbXN2RU5cezl6mii9OcYOKvuDSY3sY/m936lHNqB+Ittb6lbfQEaJ/CLG5K+lKG+NPrpbSf2t7EfkKJvk/Kqm/9K1psSlDo2Dx04oJXQdA2xNsXMJjFuPW4mLtkTyiKRCR8Zx01EqjsTpNdqOTBFLTh+uq325CAZHkLOVpkdRh9ooLvJEnzRpawPXcu1Q/uikOdsr3xHH2EmFGQTSSw/5terGH8BtS5Iv5GyAHOoQQZJniQgkDx9ZShCldOfYCre4Hrd2yWNJV11vSlxx9GutqBQ+w1EjHwSNM0FkaYpY5EhD15GRGxHBT86Uk0/UynXKl0boSFylPOitDpHeUZKOhPq18shQVIas3gnd1FGFGcccrkfphr00kEiH2lpV1AMSUhkGEeytD74Wp+prIroobykyQw8GJNW/huii7rXvkdBzfaBWdulaU+ICbAHA/HZpVFhS7qzXY3RRinZEbuCRTq8Y0eTkufLghoNSNjcCE8oL59oUUA6fkyFso9NCVCSIQMSYm4KqbDzWoraY76jvEAckLlw49iQu2hXtJj3W4Bc7uMrFI+1iUEn9qIRllCeblvJyHrmqD79rlSIfrNFjS71NiYuK4yhP57xlWrilAffIq06KQ5XIOU5tMWBMimRwlhiZ8h381AFLi71Rdiwf6+C7IqkcOSpv1IV8EJbKrY0YkKWIB2zuleKUsdbmI/VjUKJuEQG2rE2x0SX2GaZXiraWypXaEeWlvpcrE/OXliWwK5+Sv+fkMnAIB+pomZoTF8rFjoXijPxbGtyygUfIErHUwnBFLLQ/bXvsYLrzIgNz5DqEX5qeKRrLyVZ746hbGzzUySAr7CZSlh6St3SU/tj6HklrcegBpq3WaW5tS8RxqdMqL37VQu8t8vBN+XPJn+RLW5cBInG1HkgOIS6MTSQQOyUjctqBtzgFnQ+DtPgsOVJNrzi1qhGCblvnpmmKTsgDWTDKaZQtkVXUSSRRc6RIjrW7RNIFXJU0xazJV14dJaflVEOyl474labedMJae5dktbqOPWWnJTIXceAPLdIWefie9CwNxEwl8Y8tETjtWLukcUubDyMulGH0iB1oD2GkUZzAvuUYO+lW0OLUqrSGQkeSXmmbISZdu2UUirJLJEEeOW+NfKIuUc/YxrXTFTClXTmi3orx1vyqm/rX7JvbKv+W/Pi+7FzztzgQRhvcUidltshDx0j4a6aVW/SK5I1PtUyHEheKAo5G4z1ODQiQV4tPLVJaAldEDDGUUhzF0o4fw2fasjXF8uldQMmiA6jT1EZ7TQHIy3el6PxrHU4bXmu4SH7LYxzQShFDy/qQRQSSWwuK9cRBgWWDUoqDxB6/lPwob2kxP95kWmtn1bPmGBf9l3RZIy/maUJckEptVJFT7yGuqPQ9vy+RMA6rUSw3gsaRuBZxgWmufOwQuakFaz3Ur2l6rdNEx02jRyI1CK1m12iHKIs29khxRMcuYNMjyQdq7Yy6xUEh1U8DIVi3mOJGealNY92QpAa3EuFHWQxItfZG2fp++n1cctrSHS4BUJraqKFnP8Zop2RItRXnZsqWS1pch2ByzqBRE2LKdUbqxunS6AbSgnCwg8hTUR31QEKxE/EbOeRNk9pBHdKBSIwy+h3LRCdNo8yYr9V3dFAb0bHke63qkxzqVYePWOo6R7DGduSr+Tz5NECQd2+K8kpLBOivGzLUSVBBuVLSTaZaO0plY+Rf6gulskvn96N1uVydWUaKCgKSmB3nYhQaOakttJVPDH9pa4wsa6MdDi8ZOATTDmTjUIqUOI/MXIoOAcFQVg7Gd5I6NXI4h9xIhDgrNkEPZKQphvm0CwKkM5SixLiuJrJMZbb8LWJF/yOmOSVdo+3AON0hD4GCOXoxeNX8IGJM/pK9S7qk56M8dKC/6cM1bCeixPZr1gPla7noP60//a3IdG3Unpav/W5CXLoLBfgAg6IyHufoMC3C4FpDelyTETF6NIoiF9pKJ4/kXdILshJxUE4fOsOa9ZOIL2Uph3Mqicgkl44eO0Zcx8rVB7GJRCVjiZBE3JQ7MikiRa8jOkVNdwYBDQrChaMiLJ0D/4h3KhMsU/uDWymKS8unv3PypEs8oieEtcZHqUO+HX0rrTv3GwJXvbe2KSdX55oQF8JwdNgdUACRD43tFcKrQUce5ZyKUGib2otxtpIzozHlwAry2BKRgjejPWU58jtNnKej5ZyUcxqNc9clC/1KMpRHx+isR9kduerwEEhNd+l1xBHbgR8kKn/nCFY1wpIutEP4x2MtQlPZ3LEkT7JzZZbO4VPCeqteWj7CRjnfXKp76Xoz4lqqaPTrOKNGEBzUKY+AyJ2Io3XCBop0sQWd0uk4BCBDcIZ8tiSISlHpUX3FxLXSIkQvIq4jQt+Vapw+GzhplG6NU1xUPqpDnB7gjgpqSq4ZxtqqZSemvmuiz7VyYz4TV0Sj8p2OIuLaGjZXxE55CcICK9Y7W2HFFEz4917XmtJIKxqlGyC5NdBScdlp6cZEqfza8yaulUhpkZJowmkZAdb+IBqmjkw59iTWDhXFtSTDPTo9QlndnCGKJmGH2noVNsdO2OjoLTEmrpUeqI5DZ9zbEVdWOXw2HFlrHWvvtqaNpqOoA4F96+lnWp9//4uAbIcdWU+EkERi/+b6/9t6tbbJ3e6jSYu6TVzRAoXvceuApivcNXFaRgDiwfGZOmxdK0G61kvA/Za9RMsaOkcJAU0VwR7Sym2J4K4u18nb82aJiatkNZ9vjsDW9S6tldExGMlr05TmylrgFW8GHRbpa9tOttq1BbQmrhYoWkZzBOgMjPKQFtP0e3SO5o2ywGYImLiaQWlBrRAgsopPBnCnyskIRARMXBENfz8FAnq0imiLNS4nI5AiYOJKEfHvuyIQN/pyN7HXuhbrOGx58Q2Au5p/deUmrtVQOePRCLAArFvwrGttffZzj356UYA3t+5BsV9ZE1c/rF3TAgLa5MsUkbtZPZNuBHhq2hP12+sycd2OnUs2RCA+UnXLfq89qsR9ekc8HL5HN5fNI2DiyuPisx0RYOMiURYfNqoe9WBuqUmRNP3wdgmlc503cZ3LHg+nDSQV17V6P07F4r/qhzhZpHc6PwImrvPbaGoN42MlvUmDKaKesVPE5z1jY7ibiWsMO02pJUQlwjjLMfcQ8ZTgD94oE9fgBhxVfaaE8Y0bZyGung8Kj2q7M+ht4jqDFR5Mh/QVzGchLfTwM5FjOKOJaww7TaWl3pJ5JsKSLrW3IExlhMEbY+Ia3IAjqs86EptNz/gZEc9H1NnE9YhWd5uNwOAImLgGN6DVNwKPiICJ6xGtfsI2s7akqaPXmU5ooJOpZOI6mUEeVR29ppmHnXslCNIk2QvttvWYuNriaWk3IsAfMRBx9fgTErZj8Ewi+8i8U/5Gg925mInrzgZw9X0RYLd+fDbRxNUX/1a1mbhaIWk5p0aALRi8eYKPoi32bpm4Tm22onImriI0vtADgfiQNVO3o17VDEHFv5JnWmri6mHhY+owcR2Dq6VuQICX90Ei/LNPLvEv2LrjuPaYkxPPmbgiGuN9N3GNZ7PpNNa/+pT+qILpnR7JWXtcAsnEtYTQua+buM5tn4fQTiSS+4v3owBQnV7jOgrhY+WauI7F19IXEGBNS6+36flmBhPXgmFOftnEdXIDza4e7+Vi+scWhZ7JxNUT7fZ1mbjaY2qJGxDQW1Br/+zjxfkNgD5IVhPXgxj6rM3Udoi4VSHV1YvzKSL+beKyD9wVgRcvXlyninrXO/9efdRerthQTxUjGuN9N3GNZ7OpNNbjN/xzNe975yFrkdhRDeXBav9z9VHo9pFr4uqDs2spIKCpIgv0kMlRWyIgK6IsRVpxPxhTUc6X9pEVVPfpOyJg4roj+K76cp0WEm2xSH/kK2aYfhLR1T78z6LTGAiYuMawk7U0AkYgIGDiCmD4qxEwAmMgYOIaw07W0ggYgYCAiSuA4a9GwAiMgYCJaww7WUsjYAQCAv8DVXStTxTF58sAAAAASUVORK5CYII=)\n"
      ]
    },
    {
      "cell_type": "markdown",
      "metadata": {
        "id": "01fSoL_xd02R"
      },
      "source": [
        "하지만 여기서 문제점은 SPD1~m 에서도 역시 주인공과 같은 지배적 word에 peak가 몰리고 story line에 해당하는 frame이 추출되지 못 할 수 있다는 것이다. 이를 극복하기 위해, peak를 추출하기 전에 SPD1의 값을 빼서 지배적 word의 peak를 회피하고 story line에 해당하는 frame을 추출 할 수 있도록 한다.\n"
      ]
    },
    {
      "cell_type": "markdown",
      "metadata": {
        "id": "2-kWAU0hd02R"
      },
      "source": [
        "However, the problem here is that even in SPD1~m, the peak is concentrated in the dominant word like the main character, and the frame corresponding to the story line may not be extracted. To overcome this, before extracting the peak, the value of SPD1 is subtracted to avoid the peak of the dominant word, and the frame corresponding to the story line can be extracted."
      ]
    },
    {
      "cell_type": "markdown",
      "metadata": {
        "id": "Jj_hGNp_KzYX"
      },
      "source": [
        "\n",
        "![image.png](data:image/png;base64,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)"
      ]
    },
    {
      "cell_type": "markdown",
      "metadata": {
        "id": "HMRO3DY5HCDG"
      },
      "source": [
        "###3.1.1 Similarity function, S (Sentence-BERT)"
      ]
    },
    {
      "cell_type": "markdown",
      "metadata": {
        "id": "VcegfbIfd02T"
      },
      "source": [
        "(ref :Nils Reimers and Iryna Gurevych, (2019). Sentence-BERT: Sentence Embeddings using Siamese BERT-Networks ,https://arxiv.org/pdf/1908.10084.pdf)\n",
        "를 기반으로 구현한다.\n",
        "\n",
        "<font color='red'>BERT (Devlin et al., 2018) is a pre-trained transformer network (Vaswani et al., 2017), which set for various NLP tasks new state-of-the-art results, including question answering, sentence classification, and sentence-pair regression. The input for BERT for sentence-pair regression consists of the two sentences, separated by a special [SEP] token. Multi-head attention over 12 (base-model) or 24 layers (large-model) is applied and the output is passed to a simple regression function to derive the final label. Using this setup, BERT set a new state-of-the-art performance on the Semantic Textual Similarity (STS) benchmark (Cer et al.,2017). RoBERTa (Liu et al., 2019) showed, that the performance of BERT can further improved by small adaptations to the pre-training process. and the XLNet (Yang et al., 2019) is also widely used., but it led in general to worse results than BERT. </font>\n",
        "\n",
        "Sentence-BERT(SBERT), a modification of the pretrained BERT network that use siamese and triplet network structures to derive semantically meaningful sentence embeddings that can be compared using cosine-similarity. This reduces the effort for finding the most similar pair from 65 hours with BERT / RoBERTa to about 5 seconds with SBERT, while maintaining the accuracy from BERT."
      ]
    },
    {
      "cell_type": "markdown",
      "metadata": {
        "id": "zci1Wvnzd02V"
      },
      "source": [
        "SBERT를 활용할 수 있는 pretrained model은 https://www.sbert.net/docs/pretrained_models.html 여기서 확인 할 수 있다.\n",
        "\n",
        "본 논문에서는  한국어로 학습된 'xlm-r-large-en-ko-nli-ststb' 모델을 사용하였고, 이 모델의 STS Benchmark score는 84.05% 이다."
      ]
    },
    {
      "cell_type": "markdown",
      "metadata": {
        "id": "wWC4YJkTd02W"
      },
      "source": [
        "Pretrained models that can utilize SBERT can be found here: https://www.sbert.net/docs/pretrained_models.html.\n",
        "\n",
        "In this paper, the'xlm-r-large-en-ko-nli-ststb' model learned in Korean was used, and the STS Benchmark score of this model was 84.05%."
      ]
    },
    {
      "cell_type": "markdown",
      "metadata": {
        "id": "PDMgkz-Td02W"
      },
      "source": [
        "SBERT를 구현한 python 라이브러리인 sentance-transformer package를 사용하여 Similarity function을 구현 하였다. 본 라이브러리는 BERT기반의 모델들과 유사하게 입력 limit가 있다. maximum 128 tokens을 입력할 수 있으며 1024 차원의 embedding된 vector를 반환한다. 즉, 전체 문서에 대해서 한번에 embedding할 수는 없으며, 이를 해결하기 위해 문서를 문장별로 나누어 N개의 문장에 대해 (N,1024)의 행렬로 embedding 하였다. similarity를 측정하기 위한 문장에 대해서도 (n,1024) 행렬화 하여 pair-wise하게 cosin distance를 계산한 (n,N) 행렬을 취득한 후 각 행별 최소값에 대한 평균값을 통해, 전체 문서에 대한 Similarity를 산출 하였다. "
      ]
    },
    {
      "cell_type": "markdown",
      "metadata": {
        "id": "NCxqxR2fd02W"
      },
      "source": [
        "Similarity function was implemented using sentance-transformer package, a python library implementing SBERT. Similar to BERT-based models, this library has an input limit. The input accepts a maximum of 128 tokens and returns a 1024-dimensional embedding vector. That is, it is not possible to embedding the entire document at once, and to solve this problem, the document is divided by sentence and embedding in a matrix of (N, 1024) for N sentences. After matrixing the sentences for measuring similarity (n,1024), the cosin distance is calculated pair-wisely to obtain the (n,N) matrix. After that, the average value of the minimum value for each row was taken, and the similarity for the entire document was calculated."
      ]
    },
    {
      "cell_type": "markdown",
      "metadata": {
        "id": "WGHj_7SvGGdM"
      },
      "source": [
        "##3.2 keyBERT을 이용한 frame term의 추출"
      ]
    },
    {
      "cell_type": "markdown",
      "metadata": {
        "id": "f3ZSOCV-GvD-"
      },
      "source": [
        "ref:Sharma, P., & Li, Y. (2019). Self-Supervised Contextual Keyword and Keyphrase Retrieval with Self-Labelling. https://www.preprints.org/manuscript/201908.0073/download/final_file"
      ]
    },
    {
      "cell_type": "markdown",
      "metadata": {
        "id": "1sCPF52_QNF3"
      },
      "source": [
        "##3.3 한국어 문법 Discriminator, D"
      ]
    },
    {
      "cell_type": "markdown",
      "metadata": {
        "id": "hsyqVGdgHz-t"
      },
      "source": [
        "https://analyticsindiamag.com/how-to-use-bert-transformer-for-grammar-checking/\n",
        "\n",
        "<font color='red'>\n",
        "Jacob Devlin, (2019). BERT: Pre-training of Deep Bidirectional Transformers for Language Understanding\n",
        "</font>"
      ]
    },
    {
      "cell_type": "markdown",
      "metadata": {
        "id": "sgJhgHfHI2hU"
      },
      "source": [
        "<font color='red'>* Impact of the BERT model<br>\n",
        "BERT is a language representation model trained by huge data, huge models, and enormous computational overhead. It is optimal in 11 natural language processing tasks (state-of-the-art) , SOTA) results. It is estimated that many people will ridicule experiments of this scale, which are basically out of reach for general laboratories and researchers, but it does give us a lot of valuable experience. The reason for the high-performance of the BERT model is due to two points. In addition to the improvement of the model, it is more important to use a large data set (BooksCorpus 800M + English Wikipedia 2.5G words) and a large computing power. Pre-training on related tasks, achieving monotonous growth in performance on target tasks.\n",
        "\n",
        "* Overview of Task<br>\n",
        "Now the task which we are to do is to predict whether a sentence is grammatically correct or not. We choose a dataset in which we are given a piece of text and along with it a label .which is referred to as the “whether it is grammatically correct or not”.<br>\n",
        "0 means grammatically incorrect and 1 means grammatically correct.<br>\n",
        "So essentially this problem translates into a text classification problem where we classify whether a sentence is grammatically correct or not.\n",
        "* Getting started with Modeling<br>\n",
        "We’ll use [The Corpus of Linguistic Acceptability (CoLA)](https://nyu-mll.github.io/CoLA/) dataset for single sentence classification. It’s a set of sentences labelled as grammatically correct or incorrect. It was first published in May of 2018 and is one of the tests included in the “GLUE Benchmark” on which models like BERT are competing </font>\n"
      ]
    },
    {
      "cell_type": "markdown",
      "metadata": {
        "id": "Hp9CLGFGd02Y"
      },
      "source": [
        "한국어 문법의 정합성을 구분하기 위해 BERT기반 문장 classification을 구성한다. 한국어 pre-trained model 'monologg/kobert' 을 기반으로 약 3만개의 한국어 단일 문장을 fine-tunning 하였다. 정상 문장의 경우 label = 1, 문법적으로 비정상 문장은 label = 0 으로 labeling하였으며, 비정상 문장은 단순하게 정상문장을 shuffling 해서 만들었다. epoch 4회, 3천개의 validation set으로 성능 측정결과 F1 score 0.99가 나왔다."
      ]
    },
    {
      "cell_type": "markdown",
      "metadata": {
        "id": "AeEbuVNhd02Y"
      },
      "source": [
        "In order to classify the consistency of Korean grammar, we construct BERT-based sentence classification. About 30,000 Korean single sentences were fine-tuned based on the Korean pre-trained model'monologg/kobert'. For normal sentences, label = 1, grammatically abnormal sentences were labeled as label = 0, and abnormal sentences were made by simply shuffling the normal sentences. As a result of measuring the performance with epoch 4 times and 3,000 validation sets, an F1 score of 0.99 was obtained."
      ]
    },
    {
      "cell_type": "markdown",
      "metadata": {
        "id": "gTyQdqNnQfSt"
      },
      "source": [
        "## 3.4 한국어 Text Generator, G"
      ]
    },
    {
      "cell_type": "markdown",
      "metadata": {
        "id": "vGv1le9wd02Z"
      },
      "source": [
        "Text Generator는 단순화 하기 위해 일반 DNN을 사용하였다. 원문의 전체 words의 개수에 해당하는 random noise와 Frame words를 bias로 입력받는다. 즉, 입력항이 2개이며 Output은 어떤 word가 요약에 사용될지 모르기 때문에 입력과 동일하게 원문 전체 word의 개수와 같다."
      ]
    },
    {
      "cell_type": "markdown",
      "metadata": {
        "id": "UauSvHa0d02Z"
      },
      "source": [
        "Text Generator used general DNN for simplification. Random noise and frame words corresponding to the total number of words in the original text are input as a bias. That is, there are two input terms and the output is equal to the number of words in the original text as it is the same as the input because we do not know which word will be used for the summary."
      ]
    },
    {
      "cell_type": "markdown",
      "metadata": {
        "id": "qgJrArOAd02Z"
      },
      "source": [
        "\n",
        "![image.png](data:image/png;base64,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)"
      ]
    },
    {
      "cell_type": "markdown",
      "metadata": {
        "id": "962P1Hicd02Z"
      },
      "source": [
        "random noise 는 dense layer 몇 개를 거치지만 Frame words bias는 동일 차원의 output 바로 직전에 deep network의 output tensor에 add 된다. 이로서 전체 output은 frame words에 bias 되어 원문이 요약된 문장이 생성된다. 또한 random noise에 의해 frame words 각각의 사이에 적절한 word가 원문에서 추출 되는 것이다. 이후, 생성된 probability distribution (Output)에서 요약에 사용되는 word는 아래의 조건에 의해서 선택된다."
      ]
    },
    {
      "cell_type": "markdown",
      "metadata": {
        "id": "B4o1GWWGd02a"
      },
      "source": [
        "Random noise goes through several dense layers, but frame words bias is added to the output tensor of the deep network just before the output of the same dimension. As a result, the entire output is biased to the frame words, and a sentence summarizing the original text is generated. Also, appropriate words between each frame words are extracted from the original text by random noise. Then, in the generated probability distribution (Output), the word used in the summary is selected according to the following conditions."
      ]
    },
    {
      "cell_type": "markdown",
      "metadata": {
        "id": "wW_xSJUllACt"
      },
      "source": [
        "\n",
        "![image.png](data:image/png;base64,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)"
      ]
    },
    {
      "cell_type": "markdown",
      "metadata": {
        "id": "TK1nVWtjd02a"
      },
      "source": [
        "여기서 [알파] 값을 조절 하므로 생성되는 text의 길이를 조절 할 수 있다. 적절한 [알파]값을 통해 문법적으로 읽을 수 있는 글이 생성된다. \n",
        "마지막으로 선택된 t vector는 x에서 선택된 order에 해당되며 x[t] 연산에 의해서 text가 생성된다.\n",
        "\n",
        "\n",
        "전체적인 구성은 아래와 같다. "
      ]
    },
    {
      "cell_type": "markdown",
      "metadata": {
        "id": "yLMeFugNd02a"
      },
      "source": [
        "Here, you can adjust the length of the generated text by adjusting the [alpha] value. A text that can be read grammatically is generated through an appropriate [alpha] value.\n",
        "Finally, the selected t vector corresponds to the order selected from x, and text is created by the x[t] operation.\n",
        "\n",
        "\n",
        "The overall composition is as follows."
      ]
    },
    {
      "cell_type": "markdown",
      "metadata": {
        "id": "b6OgyOnpNcok"
      },
      "source": [
        "![image.png](data:image/png;base64,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)"
      ]
    },
    {
      "cell_type": "markdown",
      "metadata": {
        "id": "pJ4r3I88Qjw5"
      },
      "source": [
        "##3.5 GAN Training"
      ]
    },
    {
      "cell_type": "markdown",
      "metadata": {
        "id": "ggmsv4j6eDcF"
      },
      "source": [
        "GAN의 논문 (ref:Ian J. Goodfellow, (2014). Generative Adversarial Nets, https://arxiv.org/pdf/1406.2661.pdf) 에서 보면 value function V(G,D)에 대하여 다음을 만족시키는 과정에 의하여 학습이 이루어 진다."
      ]
    },
    {
      "cell_type": "markdown",
      "metadata": {
        "id": "berq9g4eeHfq"
      },
      "source": [
        "In GAN's paper (ref:Ian J. Goodfellow, (2014). Generative Adversarial Nets, https://arxiv.org/pdf/1406.2661.pdf), the process that satisfies the following for value function V(G,D) Learning is achieved by"
      ]
    },
    {
      "cell_type": "markdown",
      "metadata": {
        "id": "Kn7hhUTDeZzI"
      },
      "source": [
        "![image.png](data:image/png;base64,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)"
      ]
    },
    {
      "cell_type": "markdown",
      "metadata": {
        "id": "1uE7J2XAegxq"
      },
      "source": [
        "즉, D에 대한 cross-entory \r\n",
        "\r\n",
        "![image.png](data:image/png;base64,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)"
      ]
    },
    {
      "cell_type": "markdown",
      "metadata": {
        "id": "pVUnG-W5evOu"
      },
      "source": [
        "와 G에 대한 cross-entropy ![image.png](data:image/png;base64,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)"
      ]
    },
    {
      "cell_type": "markdown",
      "metadata": {
        "id": "aigtZB5fe3r8"
      },
      "source": [
        "에 대한 최적화의 과정임을 알 수 있다.\r\n",
        "\r\n",
        "본 논문에서 다루는 전체 목적함수는 아래와 같이 나타낼수 있다."
      ]
    },
    {
      "cell_type": "markdown",
      "metadata": {
        "id": "mqVJ1gVwfB0E"
      },
      "source": [
        "\r\n",
        "![image.png](data:image/png;base64,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)"
      ]
    },
    {
      "cell_type": "markdown",
      "metadata": {
        "id": "-iQSy1yofLRw"
      },
      "source": [
        "문제는 Discriminator 전에 Transform function T에 의해 G에서 생성한 probability distribution을 readable text 로 변환 하는 과정이 있는 것이다. 즉, T는 미분 불가능한 절차적 함수로서 D(T(G(z)))는 학습에 필요한 backward를 할 수 없다. \r\n",
        "\r\n",
        "이러한 문제는 GAN을 통한 Text 생성 알고리즘에서 빈번히 봉착하는 문제이며 논문 \r\n",
        "(ref : Yau-ShianWang, (2018). Learning to Encode Text as Human-Readable Summaries using Generative Adversarial Networks) 에서는 'Self-Critic Adversarial REINFORCE'을 제안하였다. 해당 기법에서는 이산 시퀀스 ys를 판별기에 공급하기 때문에 판별 기의 기울기가 생성기로 직접 역 전파 할 수 없습니다. 여기에서는 정책 그라데이션 방법을 사용합니다. 타임 스텝 i에서, 우리는 식별기의 i ㆍ 1 타임 스텝 점수 si ㆍ 1를 자기 임계 기준선으로 사용합니다. 보상 rD i는 시간 단계 i의 시퀀스 품질이 시간 단계 i의 시퀀스 품질보다 더 좋은지 또는 더 나쁜지를 평가합니다. 1. D2의 생성자 보상 rD i는 다음과 같습니다."
      ]
    },
    {
      "cell_type": "markdown",
      "metadata": {
        "id": "EFCGQ74lfr8t"
      },
      "source": [
        "The problem is that there is a process of converting the probability distribution generated in G into readable text by the transform function T before the discriminator. That is, T is a procedural function that cannot be differentiated, and D(T(G(z))) cannot perform backward required for learning.\r\n",
        "\r\n",
        "These problems are frequently encountered in the text generation algorithm through GAN, and the paper (ref: Yau-ShianWang, (2018).Learning to Encode Text as Human-Readable Summaries using Generative Adversarial Networks) Suggested 'Self-Critic Adversarial REINFORCE'. In that technique generator feed a discrete sequence ys to the discriminator, the gradient from the discriminator cannot directly back-propagate to the generator. Here, we use the policy gradient method. At timestep i, we use the i 􀀀 1 timestep score si􀀀1 from the discriminator as its self-critical baseline. The reward rD i evaluates whether the quality of sequence in timestep i is better or worse than that in timestep i 􀀀 1. The generator reward rD i from D2 is"
      ]
    },
    {
      "cell_type": "markdown",
      "metadata": {
        "id": "K3zzvXztgTzu"
      },
      "source": [
        "![image.png](data:image/png;base64,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)"
      ]
    },
    {
      "cell_type": "markdown",
      "metadata": {
        "id": "X3_hflpwgXxJ"
      },
      "source": [
        "However, some sentences may be judged as bad sentences at the previous timestep, but at later timesteps judged as good sentences, and vice-versa. Hence we use the discounted expected reward d with discount factor to calculate the discounted reward di at time step i as"
      ]
    },
    {
      "cell_type": "markdown",
      "metadata": {
        "id": "52WDl0Mpgb5r"
      },
      "source": [
        "\r\n",
        "![image.png](data:image/png;base64,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)"
      ]
    },
    {
      "cell_type": "markdown",
      "metadata": {
        "id": "mBVenEORggVh"
      },
      "source": [
        "To maximize the expected discounted reward di, the loss of generator is:"
      ]
    },
    {
      "cell_type": "markdown",
      "metadata": {
        "id": "Vd_3DGd7gimP"
      },
      "source": [
        "\r\n",
        "![image.png](data:image/png;base64,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)"
      ]
    },
    {
      "cell_type": "markdown",
      "metadata": {
        "id": "eQ8Rprt6snqL"
      },
      "source": [
        "\n",
        "We use the likelihood ratio trick to approximate the gradient to minimize \n",
        "\n",
        "하지만 이러한 방식은 RNN에 의한 timeseries로 접근 할 때 가능하며, discounted reward d의 적용은 loss의 미분 폭이 매우 좁아서, 상당히 많은 시행 (epoch)과정이 필요하다.\n",
        "\n",
        "따라서 본 논문에서는 cross-entropy를 loss로 사용하지 않고 변형된  wasserstein distance (Martin Arjovsky, (2017). Wasserstein GAN, https://arxiv.org/pdf/1701.07875.pdf)를 사용고자 한다. \n",
        "\n",
        "G(z)의 output (g|g1,g2,...gT)에 대하여 T 함수는 내부에 다음의 과정이 있다. \n",
        "\n"
      ]
    },
    {
      "cell_type": "markdown",
      "metadata": {
        "id": "NQa7QWE3hIak"
      },
      "source": [
        "We use the likelihood ratio trick to approximate the gradient to minimize\r\n",
        "\r\n",
        "However, this method is possible when approaching the timeseries by RNN, and the application of discounted reward d has a very narrow differential width of the loss, requiring a considerable amount of epoch.\r\n",
        "\r\n",
        "Therefore, in this paper, we intend to use the modified wasserstein distance (Martin Arjovsky, (2017). Wasserstein GAN, https://arxiv.org/pdf/1701.07875.pdf) without using cross-entropy as a loss.\r\n",
        "\r\n",
        "For the output of G(z) (g|g1,g2,...gT), the T function has the following process inside."
      ]
    },
    {
      "cell_type": "markdown",
      "metadata": {
        "id": "iMnbgDItG4AF"
      },
      "source": [
        "![image.png](data:image/png;base64,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)"
      ]
    },
    {
      "cell_type": "markdown",
      "metadata": {
        "id": "NjxJoZ37HbkC"
      },
      "source": [
        "위에서 [알파]의 값은 요약 결과고 얻고자 하는 어절의 개수에 따라 결정된다. [알파]값이 크면 요약 결과 어절의 수가 작아지고 알파값이 작을 수로 요약 어절의 수가 많아 진다.\n",
        "\n",
        "T(G(z))의 output의 예를 들면 다음과 같다.\n",
        "(t|t1,t2,...tT) ~ (t|g1,0,0,g4,0,g6,...,0,gT)\n",
        "\n",
        "이때\n",
        "D(T(G(z))) = w\n",
        "\n",
        "우리는 wasserstein distance을 loss로 사용하기 위해 "
      ]
    },
    {
      "cell_type": "markdown",
      "metadata": {
        "id": "YUaDaZ3ghL_N"
      },
      "source": [
        "The value of [alpha] above is a summary result and is determined by the number of words to be obtained. The larger the [alpha] value, the smaller the number of words in the summary result, and the smaller the alpha value, the larger the number of summary words.\r\n",
        "\r\n",
        "An example of the output of T(G(z)) is as follows. (t|t1,t2,...tT) ~ (t|g1,0,0,g4,0,g6,...,0,gT)\r\n",
        "\r\n",
        "At this time, D(T(G(z))) = w\r\n",
        "\r\n",
        "We use the wasserstein distance as the loss"
      ]
    },
    {
      "cell_type": "markdown",
      "metadata": {
        "id": "X96CkPkuIsKL"
      },
      "source": [
        "![image.png](data:image/png;base64,iVBORw0KGgoAAAANSUhEUgAAANUAAAAsCAYAAADy3f1SAAAFmElEQVR4Ae1cW7akIAx0P6zH/bge1+N+MgchLdIQguRqH6fmp1XMq0gRHs6dCP+AABAwRWAy1QZlQAAIEEiFJAACxgiAVMaAQh0QAKmQA0DAGAGQyhhQqAMCIBVyAAgYIwBSGQMKdUAApEIOAAFjBEAqY0ChDgiAVMgBIGCMwH9Bqm1daHYTuWW7AN9Gi5tocgtdkb5gECI3ILAtjiY307La9+rLSRUJMbkB8ECqG3L8ERM82FoPmC8m1UrzZFFhQKpHMv42ozzwzrQa2XwpqfRArfNEk69k1VmAjlRtPUY9lqh5wmZi/vbLv4vXagAOkLyTVOtM06RZQ2nA1JBKo8c6B5+waR1Dj76/jXdfY00TzQbl6oWk0lapjdbZ7eSbRCRbpNLq6Umg1rtP2Gz59Jftd8RrR9rrpIrVwFeE0kKPmX/ecYuOexmjUeGrK7eFnNcvEIV9232PvhzX+dy6Tqo+PV+eXnrwhM1LjhoJ3Rmv1fTyOqmIaPsQK09EouBgYQq2LWEDYfqWsegH7oQzmUuauaJJ6ykvVydV0KrVU/Lh6rMnbF711ULunnj1uSPHNEQqIq48OUH4eaFixErSTnrZ8Vork1koVFGUfcx9zzW3SKXVk+sduX/C5oi/o7I3xctFop08YkBGpMpGe3auNA3b21qJzD7zCOUrnmYFye9n/rC69FcxTQyvN0il1pMaH7x+wuagy0Pid8XLdgYP+gdJVUri8MwtcZp3cpDbqvvXZ+w5yH3doyFiyZ+zSr7Tl/qo8xQHayHS6zlkRq+esDnq84j8bfFyvlX6WhvDIKmOtdOnYn4qUSEZfVuXw0wS+0qlnyYW4kjQVevZ1oFPpRKDVMD83LyvA8PXAnF3cx+UHM31w7gvDb/0oI3xkSfHhlPYDDvdf5K0Et1vkirMfYPvHChXmLStEtTwY7bZmv71zNElUin0bCstvHWvOjtrgdC2eYzsa/xecaNlP+S2OYdpeWjb3o6XIhk+6/T8Pq79P+01B3+FVEcH+rOE8/Z6GGFCgu/XrZGiFmzH8/ao5gfyuO2uqpoCqVp6fDt/tBnXmc2ObcXasrmH5z8WzT4AZrkb+qAVQlc7+53HkyrJZ0AR6yPU0IfHfSqcXEc56Tgmebt6OTz9I06WeSaXfe4TCOdo9iO1BErVvf6GlORV6WJH+dF8KXz/1Uuqih7GSZqCaTq1y/cEgZp9jc1dDVeMrNqxfHZEwoOb2O8sK2X7hXiDbZ4hRQy29jpelTsJpLVLM1L5uWs+CrOT8rd1NdcuPudO0HSUTwSPtZ+iOfflf/BAQSqNnlpSp2H2JJnGZqI7JFphWqyxuet5mFTqeIX+SvAoXVYxKr0sPBsnFSdxqRJpEklw7lpTBNV3gqBgW3xljYtZP0WrDmRyJ6n1aLBQJrjaZoz/M2MoAaK0eZxJ3lyp9umstq+OqX0+wAupEJvioFHK47bw6Y1xUp3U/ciNJoHVrsqkUqtR+MSVXSqyanvxxZbOVnuvvZ73/8R2xLkXQ0tf3kkq/rSoUa10CXAXqcJI6XqzQQiinSj2NgV3sqa/sV1cT2WWv2/tqpTX/VJS+dCsgLqHVJ4A/VOW7/TgJ21ChYNrS5tsW/NrHW+weaWvoozJABy8eDGpfIAM2PP/nZ6T3G/XVpdvmmzUvBPXuV+E8c8N1gwaFx55h9f3ymrvD8j3dbWT19+9sbycVAEO/lsESqwzDK+MfqyCSV043TccGdlajDb8oRrehMl/r4FwNvGLd0wojrcVp1978RmicTz/BamMMYM6ICAiAFKJ8KARCPQjAFL1YwYJICAiAFKJ8KARCPQjAFL1YwYJICAiAFKJ8KARCPQjAFL1YwYJICAiAFKJ8KARCPQjAFL1YwYJICAiAFKJ8KARCPQjAFL1YwYJICAi8A+//SJv8XT6CQAAAABJRU5ErkJggg==)"
      ]
    },
    {
      "cell_type": "markdown",
      "metadata": {
        "id": "w8KHL5wRJSO4"
      },
      "source": [
        "을 output으로 설정한다.\n",
        "\n",
        "결과적으로 Generator의 loss는"
      ]
    },
    {
      "cell_type": "markdown",
      "metadata": {
        "id": "MOfIqfMDhVpH"
      },
      "source": [
        "Set to output.\r\n",
        "\r\n",
        "As a result, the generator's loss is"
      ]
    },
    {
      "cell_type": "markdown",
      "metadata": {
        "id": "dDiZiAYECxTm"
      },
      "source": [
        "![image.png](data:image/png;base64,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)"
      ]
    },
    {
      "cell_type": "markdown",
      "metadata": {
        "id": "3bmt_1KeJhad"
      },
      "source": [
        "이렇게 함으로서 ti는 G의 output (g|g1...gT)의 일부로서, 미분가능 하고 backward를 통해 학습이 이루어 질 수 있다.\n",
        "\n",
        "전체 목적 함수는 아래와 같다."
      ]
    },
    {
      "cell_type": "markdown",
      "metadata": {
        "id": "C1zoWsP5hbcF"
      },
      "source": [
        "By doing this, ti is a part of G's output (g|g1...gT), which can be differentiated, and learning can be achieved through backward.\r\n",
        "\r\n",
        "The overall objective function is as follows."
      ]
    },
    {
      "cell_type": "markdown",
      "metadata": {
        "id": "_6D9_HeXDdem"
      },
      "source": [
        "![image.png](data:image/png;base64,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)"
      ]
    },
    {
      "cell_type": "markdown",
      "metadata": {
        "id": "vw4FzYeDDpfE"
      },
      "source": [
        "문법, 유사도 측정을 위한 각 Discriminator는 pre-trained model을 이용하여 일반화된 구분자로서 적용하였다.\n",
        "그러나, 학습의 과정에서 ![image.png](data:image/png;base64,iVBORw0KGgoAAAANSUhEUgAAAHkAAAAnCAYAAAArfufOAAAEW0lEQVR4Ae2bMUsrQRDHU9gIaWwEG5uAFhaC2NuYIp3YiyCIYCF+ASs/gAjaWNrbWmiTL5A+RWpLG8HGYuW/j/8xN28n2SR7Id6tIHe3NzO7O7/Z2bn1vZbLP7X3QKv2M8wTdBlyA4IgQ86Q/3ng7u7OtVqtqN/r6+sGuO1vTTF6Jb+9vXnIq6ur7uPjozTLn58fd3t7699nyCXXLMVDNOThcOja7bYLQcZMAPrg4MBlyEvBtTSIZJBLVvPDUnkgQ14qHNUMZm7IOU1XAyal1bkhc6/Oe3FKLGltTQ3Z+pTKkNOCSWltasi6uuanVYacEktaW3NDzntyWiBVWJsbchWDmsYmM4neRjY3N93j4+M0pmor++chgwyPXZ+enjwoeQLHttoSjJhYUsjn5+eu2+2WuiWATqdTHIcyxWP1pYCAPlZWVly/3y/6ZtWvx1MINOgmGeTv72+3sbFRggznoyCjw3EPwIeHh+79/d31er0CPHyO1IujUwALpVr08fz8XMLDgNne3nZfX1/FO/aZIbv4vydz79PVNbwKR19eXpp/oCAIOBzgQ6sXUPb39z0oAtIVe0iXshomxxvqq4iEhtxErWQ4Vxc21rMGQz8ilUPHeo8gkel2NBr5zHB8fFyAZxDQJq6EKe2+vLz4jKBXt9Rj4GFMOkCkXJX3mOPJyUkwa1n9ggV9Ysno9ijIWmmWZ8DQ+6a0c39/X0q3eAcQcAJAyD1d6jF4ZNCxspbpW+rwnlvMLKsduuhHBibtxlyRgXZ3d91gMIgRL8nIrFd6YTwsBDIcsre352HN4lBj7MWfN0NbiKUj2+GstbW1mUAhaGftF8GLumQeX3BFy/lY9wuBjFT8+vr6X2FmDSq23dqPLX2ZGbDyt7a2gqC03M7OjltfX/dFIt6FsocENk4fY0OAhLYSLgZkPNqDLIpRuR3BBmSt7KbnXxlkRBoGxis6hnM4OYDnRPSgYp9hG7C0A0L6cDz+UQP757Pej9mu5fgM25TRuvId5SnLZ8hg3CHdq6srH0jwE94DMPZf1BjaV7Sr20Nzrwwyo10C4MqzPpFCA7Ta4AC5D8t+QjpwrEyvdJLWi5HDKsLnYsjBMfrwje5XjplzA+BxP5PsULcyyOxgGa4EKldPCFSsHCDIgOEcY/UnwYmtFSbZ4bgaAZlA5erRKw4OiZWDrky/dGas/jg4CBR8UaBeCGUK9oXrODtSrlGQuZKxxx0dHXlQn5+f7uLiwn++EdIkOTiXkGHr5ubG+zRWH0HCPggDbTjlOzs789U++oAMbJ6enlKsuDJrTAoEKDQCMib68PBQOjJlfYAKVX7rxsghXaPiRU2gDyZi9RkkpAao8hyBfVgVNODHfqc3BjKduQxXrMIU38k6G1hzy5Atz1Tcjkwyz4kXdPV/crCGnCFbnllAe+3Orhfgs9yF4YG8kg3H1Kk5Q64TTWMuGbLhmDo1Z8h1omnMJUM2HFOn5gy5TjSNufwCP+LjYmbfE4IAAAAASUVORK5CYII=)\n",
        "\n",
        "를 정의 할 수 없다. 이미, 요약된 실데이터를 만들수 없기 때문이다. \n",
        "그래서, 원문의 일부 문장을 대입하였더니, 학습이 진행되면서 원문의 일부로 overfitting 되는 경향이 나타났다. 즉, Extractive 방법의 결과로 수렴되는 것이다.\n",
        "그래서, 본 논문에서는 Discriminator가 이미 pre-trained model에 의해 학습되어 있으므로 Discriminator를 학습에 참여 시키지 않았다. 따라서 최종 목적함수는 아래와 같이 단순화 하였다."
      ]
    },
    {
      "cell_type": "markdown",
      "metadata": {
        "id": "f0JaocTXhi_R"
      },
      "source": [
        "Each discriminator for measuring grammar and similarity was applied as a generalized delimiter using a pre-trained model. However, in the process of learning\r\n",
        "\r\n",
        "![image.png](data:image/png;base64,iVBORw0KGgoAAAANSUhEUgAAAHkAAAAnCAYAAAArfufOAAAEW0lEQVR4Ae2bMUsrQRDHU9gIaWwEG5uAFhaC2NuYIp3YiyCIYCF+ASs/gAjaWNrbWmiTL5A+RWpLG8HGYuW/j/8xN28n2SR7Id6tIHe3NzO7O7/Z2bn1vZbLP7X3QKv2M8wTdBlyA4IgQ86Q/3ng7u7OtVqtqN/r6+sGuO1vTTF6Jb+9vXnIq6ur7uPjozTLn58fd3t7699nyCXXLMVDNOThcOja7bYLQcZMAPrg4MBlyEvBtTSIZJBLVvPDUnkgQ14qHNUMZm7IOU1XAyal1bkhc6/Oe3FKLGltTQ3Z+pTKkNOCSWltasi6uuanVYacEktaW3NDzntyWiBVWJsbchWDmsYmM4neRjY3N93j4+M0pmor++chgwyPXZ+enjwoeQLHttoSjJhYUsjn5+eu2+2WuiWATqdTHIcyxWP1pYCAPlZWVly/3y/6ZtWvx1MINOgmGeTv72+3sbFRggznoyCjw3EPwIeHh+79/d31er0CPHyO1IujUwALpVr08fz8XMLDgNne3nZfX1/FO/aZIbv4vydz79PVNbwKR19eXpp/oCAIOBzgQ6sXUPb39z0oAtIVe0iXshomxxvqq4iEhtxErWQ4Vxc21rMGQz8ilUPHeo8gkel2NBr5zHB8fFyAZxDQJq6EKe2+vLz4jKBXt9Rj4GFMOkCkXJX3mOPJyUkwa1n9ggV9Ysno9ijIWmmWZ8DQ+6a0c39/X0q3eAcQcAJAyD1d6jF4ZNCxspbpW+rwnlvMLKsduuhHBibtxlyRgXZ3d91gMIgRL8nIrFd6YTwsBDIcsre352HN4lBj7MWfN0NbiKUj2+GstbW1mUAhaGftF8GLumQeX3BFy/lY9wuBjFT8+vr6X2FmDSq23dqPLX2ZGbDyt7a2gqC03M7OjltfX/dFIt6FsocENk4fY0OAhLYSLgZkPNqDLIpRuR3BBmSt7KbnXxlkRBoGxis6hnM4OYDnRPSgYp9hG7C0A0L6cDz+UQP757Pej9mu5fgM25TRuvId5SnLZ8hg3CHdq6srH0jwE94DMPZf1BjaV7Sr20Nzrwwyo10C4MqzPpFCA7Ta4AC5D8t+QjpwrEyvdJLWi5HDKsLnYsjBMfrwje5XjplzA+BxP5PsULcyyOxgGa4EKldPCFSsHCDIgOEcY/UnwYmtFSbZ4bgaAZlA5erRKw4OiZWDrky/dGas/jg4CBR8UaBeCGUK9oXrODtSrlGQuZKxxx0dHXlQn5+f7uLiwn++EdIkOTiXkGHr5ubG+zRWH0HCPggDbTjlOzs789U++oAMbJ6enlKsuDJrTAoEKDQCMib68PBQOjJlfYAKVX7rxsghXaPiRU2gDyZi9RkkpAao8hyBfVgVNODHfqc3BjKduQxXrMIU38k6G1hzy5Atz1Tcjkwyz4kXdPV/crCGnCFbnllAe+3Orhfgs9yF4YG8kg3H1Kk5Q64TTWMuGbLhmDo1Z8h1omnMJUM2HFOn5gy5TjSNufwCP+LjYmbfE4IAAAAASUVORK5CYII=)\r\n",
        "\r\n",
        "\r\n",
        "Cannot be defined. This is because it is not possible to create summarized real data already. So, after substituting some sentences from the original text, there was a tendency to overfitting as part of the original text as learning progressed. In other words, it converges as a result of the extractive method. So, in this paper, Discriminator was not involved in learning because the Discriminator has already been learned by the pre-trained model. Therefore, the final objective function is simplified as follows."
      ]
    },
    {
      "cell_type": "markdown",
      "metadata": {
        "id": "LyWIRXG9FAw1"
      },
      "source": [
        "![image.png](data:image/png;base64,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)"
      ]
    },
    {
      "cell_type": "markdown",
      "metadata": {
        "id": "K87VNBbeRLFF"
      },
      "source": [
        "#4. Implementation\n"
      ]
    },
    {
      "cell_type": "markdown",
      "metadata": {
        "id": "dQZeBAf8NxAR"
      },
      "source": [
        "## 4.1 기본 설정..."
      ]
    },
    {
      "cell_type": "code",
      "metadata": {
        "id": "tAdXzWGuKSBT",
        "colab": {
          "base_uri": "https://localhost:8080/"
        },
        "outputId": "f7e963f7-c50f-4ac0-935c-463d25f17409"
      },
      "source": [
        "if True:\n",
        "    from google.colab import drive\n",
        "    drive.mount('/content/drive')"
      ],
      "execution_count": 1,
      "outputs": [
        {
          "output_type": "stream",
          "text": [
            "Mounted at /content/drive\n"
          ],
          "name": "stdout"
        }
      ]
    },
    {
      "cell_type": "code",
      "metadata": {
        "id": "newO0mBXKVnE",
        "colab": {
          "base_uri": "https://localhost:8080/"
        },
        "outputId": "77ba8198-b243-40f3-f07e-ebeb6d99fea8"
      },
      "source": [
        "!pip install keybert\n",
        "!pip install sentence-transformers==0.3.0\n",
        "!pip install transformers==3.0.2"
      ],
      "execution_count": 2,
      "outputs": [
        {
          "output_type": "stream",
          "text": [
            "Collecting keybert\n",
            "  Downloading https://files.pythonhosted.org/packages/40/f0/9da04f36a7f2d07c1dc956256080918cb65b2c74d7257745bbe946125287/keybert-0.1.3.tar.gz\n",
            "Collecting sentence-transformers>=0.3.8\n",
            "\u001b[?25l  Downloading https://files.pythonhosted.org/packages/6a/e2/84d6acfcee2d83164149778a33b6bdd1a74e1bcb59b2b2cd1b861359b339/sentence-transformers-0.4.1.2.tar.gz (64kB)\n",
            "\u001b[K     |████████████████████████████████| 71kB 5.5MB/s \n",
            "\u001b[?25hRequirement already satisfied: scikit-learn>=0.22.2 in /usr/local/lib/python3.6/dist-packages (from keybert) (0.22.2.post1)\n",
            "Requirement already satisfied: numpy>=1.18.5 in /usr/local/lib/python3.6/dist-packages (from keybert) (1.19.5)\n",
            "Collecting transformers<5.0.0,>=3.1.0\n",
            "\u001b[?25l  Downloading https://files.pythonhosted.org/packages/88/b1/41130a228dd656a1a31ba281598a968320283f48d42782845f6ba567f00b/transformers-4.2.2-py3-none-any.whl (1.8MB)\n",
            "\u001b[K     |████████████████████████████████| 1.8MB 12.2MB/s \n",
            "\u001b[?25hRequirement already satisfied: tqdm in /usr/local/lib/python3.6/dist-packages (from sentence-transformers>=0.3.8->keybert) (4.41.1)\n",
            "Requirement already satisfied: torch>=1.6.0 in /usr/local/lib/python3.6/dist-packages (from sentence-transformers>=0.3.8->keybert) (1.7.0+cu101)\n",
            "Requirement already satisfied: scipy in /usr/local/lib/python3.6/dist-packages (from sentence-transformers>=0.3.8->keybert) (1.4.1)\n",
            "Requirement already satisfied: nltk in /usr/local/lib/python3.6/dist-packages (from sentence-transformers>=0.3.8->keybert) (3.2.5)\n",
            "Collecting sentencepiece\n",
            "\u001b[?25l  Downloading https://files.pythonhosted.org/packages/14/67/e42bd1181472c95c8cda79305df848264f2a7f62740995a46945d9797b67/sentencepiece-0.1.95-cp36-cp36m-manylinux2014_x86_64.whl (1.2MB)\n",
            "\u001b[K     |████████████████████████████████| 1.2MB 59.0MB/s \n",
            "\u001b[?25hRequirement already satisfied: joblib>=0.11 in /usr/local/lib/python3.6/dist-packages (from scikit-learn>=0.22.2->keybert) (1.0.0)\n",
            "Requirement already satisfied: regex!=2019.12.17 in /usr/local/lib/python3.6/dist-packages (from transformers<5.0.0,>=3.1.0->sentence-transformers>=0.3.8->keybert) (2019.12.20)\n",
            "Collecting sacremoses\n",
            "\u001b[?25l  Downloading https://files.pythonhosted.org/packages/7d/34/09d19aff26edcc8eb2a01bed8e98f13a1537005d31e95233fd48216eed10/sacremoses-0.0.43.tar.gz (883kB)\n",
            "\u001b[K     |████████████████████████████████| 890kB 56.8MB/s \n",
            "\u001b[?25hRequirement already satisfied: requests in /usr/local/lib/python3.6/dist-packages (from transformers<5.0.0,>=3.1.0->sentence-transformers>=0.3.8->keybert) (2.23.0)\n",
            "Requirement already satisfied: dataclasses; python_version < \"3.7\" in /usr/local/lib/python3.6/dist-packages (from transformers<5.0.0,>=3.1.0->sentence-transformers>=0.3.8->keybert) (0.8)\n",
            "Collecting tokenizers==0.9.4\n",
            "\u001b[?25l  Downloading https://files.pythonhosted.org/packages/0f/1c/e789a8b12e28be5bc1ce2156cf87cb522b379be9cadc7ad8091a4cc107c4/tokenizers-0.9.4-cp36-cp36m-manylinux2010_x86_64.whl (2.9MB)\n",
            "\u001b[K     |████████████████████████████████| 2.9MB 54.5MB/s \n",
            "\u001b[?25hRequirement already satisfied: packaging in /usr/local/lib/python3.6/dist-packages (from transformers<5.0.0,>=3.1.0->sentence-transformers>=0.3.8->keybert) (20.8)\n",
            "Requirement already satisfied: filelock in /usr/local/lib/python3.6/dist-packages (from transformers<5.0.0,>=3.1.0->sentence-transformers>=0.3.8->keybert) (3.0.12)\n",
            "Requirement already satisfied: importlib-metadata; python_version < \"3.8\" in /usr/local/lib/python3.6/dist-packages (from transformers<5.0.0,>=3.1.0->sentence-transformers>=0.3.8->keybert) (3.3.0)\n",
            "Requirement already satisfied: typing-extensions in /usr/local/lib/python3.6/dist-packages (from torch>=1.6.0->sentence-transformers>=0.3.8->keybert) (3.7.4.3)\n",
            "Requirement already satisfied: future in /usr/local/lib/python3.6/dist-packages (from torch>=1.6.0->sentence-transformers>=0.3.8->keybert) (0.16.0)\n",
            "Requirement already satisfied: six in /usr/local/lib/python3.6/dist-packages (from nltk->sentence-transformers>=0.3.8->keybert) (1.15.0)\n",
            "Requirement already satisfied: click in /usr/local/lib/python3.6/dist-packages (from sacremoses->transformers<5.0.0,>=3.1.0->sentence-transformers>=0.3.8->keybert) (7.1.2)\n",
            "Requirement already satisfied: chardet<4,>=3.0.2 in /usr/local/lib/python3.6/dist-packages (from requests->transformers<5.0.0,>=3.1.0->sentence-transformers>=0.3.8->keybert) (3.0.4)\n",
            "Requirement already satisfied: idna<3,>=2.5 in /usr/local/lib/python3.6/dist-packages (from requests->transformers<5.0.0,>=3.1.0->sentence-transformers>=0.3.8->keybert) (2.10)\n",
            "Requirement already satisfied: certifi>=2017.4.17 in /usr/local/lib/python3.6/dist-packages (from requests->transformers<5.0.0,>=3.1.0->sentence-transformers>=0.3.8->keybert) (2020.12.5)\n",
            "Requirement already satisfied: urllib3!=1.25.0,!=1.25.1,<1.26,>=1.21.1 in /usr/local/lib/python3.6/dist-packages (from requests->transformers<5.0.0,>=3.1.0->sentence-transformers>=0.3.8->keybert) (1.24.3)\n",
            "Requirement already satisfied: pyparsing>=2.0.2 in /usr/local/lib/python3.6/dist-packages (from packaging->transformers<5.0.0,>=3.1.0->sentence-transformers>=0.3.8->keybert) (2.4.7)\n",
            "Requirement already satisfied: zipp>=0.5 in /usr/local/lib/python3.6/dist-packages (from importlib-metadata; python_version < \"3.8\"->transformers<5.0.0,>=3.1.0->sentence-transformers>=0.3.8->keybert) (3.4.0)\n",
            "Building wheels for collected packages: keybert, sentence-transformers, sacremoses\n",
            "  Building wheel for keybert (setup.py) ... \u001b[?25l\u001b[?25hdone\n",
            "  Created wheel for keybert: filename=keybert-0.1.3-cp36-none-any.whl size=8860 sha256=f420325ea68299a1ae384e48320590b8e00cc5689608e31f5c887b6770a6229e\n",
            "  Stored in directory: /root/.cache/pip/wheels/9c/0f/28/4d2071a9b35616ddf030a5affff9d13eb07dd9db8185e9b858\n",
            "  Building wheel for sentence-transformers (setup.py) ... \u001b[?25l\u001b[?25hdone\n",
            "  Created wheel for sentence-transformers: filename=sentence_transformers-0.4.1.2-cp36-none-any.whl size=103068 sha256=50afdfa131f7a233aea9c1e01c352844addc6cf85d6dad1fe0505be1cc33deef\n",
            "  Stored in directory: /root/.cache/pip/wheels/3d/33/d1/5703dd56199c09d4a1b41e0c07fb4e7765a84d787cbdc48ac3\n",
            "  Building wheel for sacremoses (setup.py) ... \u001b[?25l\u001b[?25hdone\n",
            "  Created wheel for sacremoses: filename=sacremoses-0.0.43-cp36-none-any.whl size=893261 sha256=32e0619513bca05ec89b3ccd88ca2ca0e71efa2526fa6ba2d44b04e3798f5232\n",
            "  Stored in directory: /root/.cache/pip/wheels/29/3c/fd/7ce5c3f0666dab31a50123635e6fb5e19ceb42ce38d4e58f45\n",
            "Successfully built keybert sentence-transformers sacremoses\n",
            "Installing collected packages: sacremoses, tokenizers, transformers, sentencepiece, sentence-transformers, keybert\n",
            "Successfully installed keybert-0.1.3 sacremoses-0.0.43 sentence-transformers-0.4.1.2 sentencepiece-0.1.95 tokenizers-0.9.4 transformers-4.2.2\n",
            "Collecting sentence-transformers==0.3.0\n",
            "\u001b[?25l  Downloading https://files.pythonhosted.org/packages/d5/23/833e0620753a36cb2f18e2e4a4f72fd8c49c123c3f07744b69f8a592e083/sentence-transformers-0.3.0.tar.gz (61kB)\n",
            "\u001b[K     |████████████████████████████████| 71kB 7.5MB/s \n",
            "\u001b[?25hRequirement already satisfied: transformers>=3.0.2 in /usr/local/lib/python3.6/dist-packages (from sentence-transformers==0.3.0) (4.2.2)\n",
            "Requirement already satisfied: tqdm in /usr/local/lib/python3.6/dist-packages (from sentence-transformers==0.3.0) (4.41.1)\n",
            "Requirement already satisfied: torch>=1.0.1 in /usr/local/lib/python3.6/dist-packages (from sentence-transformers==0.3.0) (1.7.0+cu101)\n",
            "Requirement already satisfied: numpy in /usr/local/lib/python3.6/dist-packages (from sentence-transformers==0.3.0) (1.19.5)\n",
            "Requirement already satisfied: scikit-learn in /usr/local/lib/python3.6/dist-packages (from sentence-transformers==0.3.0) (0.22.2.post1)\n",
            "Requirement already satisfied: scipy in /usr/local/lib/python3.6/dist-packages (from sentence-transformers==0.3.0) (1.4.1)\n",
            "Requirement already satisfied: nltk in /usr/local/lib/python3.6/dist-packages (from sentence-transformers==0.3.0) (3.2.5)\n",
            "Requirement already satisfied: tokenizers==0.9.4 in /usr/local/lib/python3.6/dist-packages (from transformers>=3.0.2->sentence-transformers==0.3.0) (0.9.4)\n",
            "Requirement already satisfied: packaging in /usr/local/lib/python3.6/dist-packages (from transformers>=3.0.2->sentence-transformers==0.3.0) (20.8)\n",
            "Requirement already satisfied: regex!=2019.12.17 in /usr/local/lib/python3.6/dist-packages (from transformers>=3.0.2->sentence-transformers==0.3.0) (2019.12.20)\n",
            "Requirement already satisfied: dataclasses; python_version < \"3.7\" in /usr/local/lib/python3.6/dist-packages (from transformers>=3.0.2->sentence-transformers==0.3.0) (0.8)\n",
            "Requirement already satisfied: importlib-metadata; python_version < \"3.8\" in /usr/local/lib/python3.6/dist-packages (from transformers>=3.0.2->sentence-transformers==0.3.0) (3.3.0)\n",
            "Requirement already satisfied: filelock in /usr/local/lib/python3.6/dist-packages (from transformers>=3.0.2->sentence-transformers==0.3.0) (3.0.12)\n",
            "Requirement already satisfied: requests in /usr/local/lib/python3.6/dist-packages (from transformers>=3.0.2->sentence-transformers==0.3.0) (2.23.0)\n",
            "Requirement already satisfied: sacremoses in /usr/local/lib/python3.6/dist-packages (from transformers>=3.0.2->sentence-transformers==0.3.0) (0.0.43)\n",
            "Requirement already satisfied: future in /usr/local/lib/python3.6/dist-packages (from torch>=1.0.1->sentence-transformers==0.3.0) (0.16.0)\n",
            "Requirement already satisfied: typing-extensions in /usr/local/lib/python3.6/dist-packages (from torch>=1.0.1->sentence-transformers==0.3.0) (3.7.4.3)\n",
            "Requirement already satisfied: joblib>=0.11 in /usr/local/lib/python3.6/dist-packages (from scikit-learn->sentence-transformers==0.3.0) (1.0.0)\n",
            "Requirement already satisfied: six in /usr/local/lib/python3.6/dist-packages (from nltk->sentence-transformers==0.3.0) (1.15.0)\n",
            "Requirement already satisfied: pyparsing>=2.0.2 in /usr/local/lib/python3.6/dist-packages (from packaging->transformers>=3.0.2->sentence-transformers==0.3.0) (2.4.7)\n",
            "Requirement already satisfied: zipp>=0.5 in /usr/local/lib/python3.6/dist-packages (from importlib-metadata; python_version < \"3.8\"->transformers>=3.0.2->sentence-transformers==0.3.0) (3.4.0)\n",
            "Requirement already satisfied: certifi>=2017.4.17 in /usr/local/lib/python3.6/dist-packages (from requests->transformers>=3.0.2->sentence-transformers==0.3.0) (2020.12.5)\n",
            "Requirement already satisfied: idna<3,>=2.5 in /usr/local/lib/python3.6/dist-packages (from requests->transformers>=3.0.2->sentence-transformers==0.3.0) (2.10)\n",
            "Requirement already satisfied: chardet<4,>=3.0.2 in /usr/local/lib/python3.6/dist-packages (from requests->transformers>=3.0.2->sentence-transformers==0.3.0) (3.0.4)\n",
            "Requirement already satisfied: urllib3!=1.25.0,!=1.25.1,<1.26,>=1.21.1 in /usr/local/lib/python3.6/dist-packages (from requests->transformers>=3.0.2->sentence-transformers==0.3.0) (1.24.3)\n",
            "Requirement already satisfied: click in /usr/local/lib/python3.6/dist-packages (from sacremoses->transformers>=3.0.2->sentence-transformers==0.3.0) (7.1.2)\n",
            "Building wheels for collected packages: sentence-transformers\n",
            "  Building wheel for sentence-transformers (setup.py) ... \u001b[?25l\u001b[?25hdone\n",
            "  Created wheel for sentence-transformers: filename=sentence_transformers-0.3.0-cp36-none-any.whl size=86754 sha256=73e7f7d057efaa21ccd32ad68f289b0e39a823039ffc94b6c983fe8e82049b12\n",
            "  Stored in directory: /root/.cache/pip/wheels/b8/23/85/85d6a9a6c68f0625a1ecdaad903bb0a78df058c10cf74f9de4\n",
            "Successfully built sentence-transformers\n",
            "\u001b[31mERROR: keybert 0.1.3 has requirement sentence-transformers>=0.3.8, but you'll have sentence-transformers 0.3.0 which is incompatible.\u001b[0m\n",
            "Installing collected packages: sentence-transformers\n",
            "  Found existing installation: sentence-transformers 0.4.1.2\n",
            "    Uninstalling sentence-transformers-0.4.1.2:\n",
            "      Successfully uninstalled sentence-transformers-0.4.1.2\n",
            "Successfully installed sentence-transformers-0.3.0\n",
            "Collecting transformers==3.0.2\n",
            "\u001b[?25l  Downloading https://files.pythonhosted.org/packages/27/3c/91ed8f5c4e7ef3227b4119200fc0ed4b4fd965b1f0172021c25701087825/transformers-3.0.2-py3-none-any.whl (769kB)\n",
            "\u001b[K     |████████████████████████████████| 778kB 16.3MB/s \n",
            "\u001b[?25hRequirement already satisfied: numpy in /usr/local/lib/python3.6/dist-packages (from transformers==3.0.2) (1.19.5)\n",
            "Requirement already satisfied: packaging in /usr/local/lib/python3.6/dist-packages (from transformers==3.0.2) (20.8)\n",
            "Requirement already satisfied: regex!=2019.12.17 in /usr/local/lib/python3.6/dist-packages (from transformers==3.0.2) (2019.12.20)\n",
            "Requirement already satisfied: requests in /usr/local/lib/python3.6/dist-packages (from transformers==3.0.2) (2.23.0)\n",
            "Requirement already satisfied: tqdm>=4.27 in /usr/local/lib/python3.6/dist-packages (from transformers==3.0.2) (4.41.1)\n",
            "Requirement already satisfied: filelock in /usr/local/lib/python3.6/dist-packages (from transformers==3.0.2) (3.0.12)\n",
            "Requirement already satisfied: sacremoses in /usr/local/lib/python3.6/dist-packages (from transformers==3.0.2) (0.0.43)\n",
            "Collecting tokenizers==0.8.1.rc1\n",
            "\u001b[?25l  Downloading https://files.pythonhosted.org/packages/40/d0/30d5f8d221a0ed981a186c8eb986ce1c94e3a6e87f994eae9f4aa5250217/tokenizers-0.8.1rc1-cp36-cp36m-manylinux1_x86_64.whl (3.0MB)\n",
            "\u001b[K     |████████████████████████████████| 3.0MB 32.9MB/s \n",
            "\u001b[?25hRequirement already satisfied: sentencepiece!=0.1.92 in /usr/local/lib/python3.6/dist-packages (from transformers==3.0.2) (0.1.95)\n",
            "Requirement already satisfied: dataclasses; python_version < \"3.7\" in /usr/local/lib/python3.6/dist-packages (from transformers==3.0.2) (0.8)\n",
            "Requirement already satisfied: pyparsing>=2.0.2 in /usr/local/lib/python3.6/dist-packages (from packaging->transformers==3.0.2) (2.4.7)\n",
            "Requirement already satisfied: urllib3!=1.25.0,!=1.25.1,<1.26,>=1.21.1 in /usr/local/lib/python3.6/dist-packages (from requests->transformers==3.0.2) (1.24.3)\n",
            "Requirement already satisfied: idna<3,>=2.5 in /usr/local/lib/python3.6/dist-packages (from requests->transformers==3.0.2) (2.10)\n",
            "Requirement already satisfied: certifi>=2017.4.17 in /usr/local/lib/python3.6/dist-packages (from requests->transformers==3.0.2) (2020.12.5)\n",
            "Requirement already satisfied: chardet<4,>=3.0.2 in /usr/local/lib/python3.6/dist-packages (from requests->transformers==3.0.2) (3.0.4)\n",
            "Requirement already satisfied: click in /usr/local/lib/python3.6/dist-packages (from sacremoses->transformers==3.0.2) (7.1.2)\n",
            "Requirement already satisfied: six in /usr/local/lib/python3.6/dist-packages (from sacremoses->transformers==3.0.2) (1.15.0)\n",
            "Requirement already satisfied: joblib in /usr/local/lib/python3.6/dist-packages (from sacremoses->transformers==3.0.2) (1.0.0)\n",
            "\u001b[31mERROR: keybert 0.1.3 has requirement sentence-transformers>=0.3.8, but you'll have sentence-transformers 0.3.0 which is incompatible.\u001b[0m\n",
            "Installing collected packages: tokenizers, transformers\n",
            "  Found existing installation: tokenizers 0.9.4\n",
            "    Uninstalling tokenizers-0.9.4:\n",
            "      Successfully uninstalled tokenizers-0.9.4\n",
            "  Found existing installation: transformers 4.2.2\n",
            "    Uninstalling transformers-4.2.2:\n",
            "      Successfully uninstalled transformers-4.2.2\n",
            "Successfully installed tokenizers-0.8.1rc1 transformers-3.0.2\n"
          ],
          "name": "stdout"
        }
      ]
    },
    {
      "cell_type": "code",
      "metadata": {
        "id": "cmIxp0FnKXif",
        "colab": {
          "base_uri": "https://localhost:8080/"
        },
        "outputId": "44f2a9ae-fa61-42bc-95b5-545cc8590a09"
      },
      "source": [
        "import matplotlib.pyplot as plt\n",
        "# set seeds for reproducability\n",
        "from numpy.random import seed\n",
        "seed(1)\n",
        "\n",
        "import pandas as pd\n",
        "import numpy as np\n",
        "import string, os \n",
        "\n",
        "import urllib.request\n",
        "import nltk\n",
        "nltk.download('punkt')\n",
        "\n",
        "import warnings\n",
        "warnings.filterwarnings(\"ignore\")\n",
        "warnings.simplefilter(action='ignore', category=FutureWarning)"
      ],
      "execution_count": 3,
      "outputs": [
        {
          "output_type": "stream",
          "text": [
            "[nltk_data] Downloading package punkt to /root/nltk_data...\n",
            "[nltk_data]   Unzipping tokenizers/punkt.zip.\n"
          ],
          "name": "stdout"
        }
      ]
    },
    {
      "cell_type": "code",
      "metadata": {
        "id": "e1yL4NtUKaRn",
        "colab": {
          "base_uri": "https://localhost:8080/"
        },
        "outputId": "5f06e44e-99b6-4208-d2bb-0dd70bda43c4"
      },
      "source": [
        "import tensorflow as tf\n",
        "# Get the GPU device name.\n",
        "device_name = tf.test.gpu_device_name()\n",
        "\n",
        "# The device name should look like the following:\n",
        "if device_name == '/device:GPU:0':\n",
        "    print('Found GPU at: {}'.format(device_name))\n",
        "else:\n",
        "    print('GPU device not found')"
      ],
      "execution_count": 4,
      "outputs": [
        {
          "output_type": "stream",
          "text": [
            "Found GPU at: /device:GPU:0\n"
          ],
          "name": "stdout"
        }
      ]
    },
    {
      "cell_type": "code",
      "metadata": {
        "id": "v3J0n_lhKcgm",
        "colab": {
          "base_uri": "https://localhost:8080/"
        },
        "outputId": "4f41dead-e8ac-4f84-aaf0-64ed324fa213"
      },
      "source": [
        "import torch\n",
        "\n",
        "# If there's a GPU available...\n",
        "if torch.cuda.is_available():    \n",
        "\n",
        "    # Tell PyTorch to use the GPU.    \n",
        "    device = torch.device(\"cuda\")\n",
        "\n",
        "    print('There are %d GPU(s) available.' % torch.cuda.device_count())\n",
        "\n",
        "    print('We will use the GPU:', torch.cuda.get_device_name(0))\n",
        "\n",
        "# If not...\n",
        "else:\n",
        "    print('No GPU available, using the CPU instead.')\n",
        "    device = torch.device(\"cpu\")"
      ],
      "execution_count": 5,
      "outputs": [
        {
          "output_type": "stream",
          "text": [
            "There are 1 GPU(s) available.\n",
            "We will use the GPU: Tesla P100-PCIE-16GB\n"
          ],
          "name": "stdout"
        }
      ]
    },
    {
      "cell_type": "code",
      "metadata": {
        "id": "Ue_4ZfdRKfdX"
      },
      "source": [
        "# Print iterations progress\n",
        "class ProgressBar:\n",
        "\n",
        "    def __init__(self,total=20, prefix = '', suffix = '', decimals = 1, length = 20, fill = '|', printEnd = \"\\r\"):\n",
        "        self.total = total\n",
        "        self.prefix = prefix\n",
        "        self.suffix = suffix\n",
        "        self.decimals = decimals\n",
        "        self.length = length\n",
        "        self.fill = fill\n",
        "        self.printEnd = printEnd\n",
        "        self.ite = 0\n",
        "\n",
        "    def printProgress(self,iteration, text):\n",
        "        self.ite += iteration\n",
        "        percent = (\"{0:.\" + str(self.decimals) + \"f}\").format(100 * (self.ite / float(self.total)))\n",
        "\n",
        "        filledLength = int(self.length * self.ite // self.total)\n",
        "        bar = self.fill * filledLength + '.' * (self.length - filledLength)\n",
        "        print(f'\\r{self.prefix} |{bar}| {percent}% {self.suffix}  {text}', end=\"\", flush=True)\n",
        "        # Print New Line on Complete\n",
        "        if self.ite == self.total: \n",
        "            print()"
      ],
      "execution_count": 6,
      "outputs": []
    },
    {
      "cell_type": "code",
      "metadata": {
        "id": "BNHI0G6JKc5h"
      },
      "source": [
        "import torch\n",
        "import torchvision\n",
        "import torch.nn as nn\n",
        "import torch.nn.functional as F\n",
        "\n",
        "from torch.utils.data import DataLoader\n",
        "from torchvision import datasets\n",
        "from torchvision import transforms"
      ],
      "execution_count": 7,
      "outputs": []
    },
    {
      "cell_type": "markdown",
      "metadata": {
        "id": "6Zsv-LVkKmfL"
      },
      "source": [
        "##4.2 Grammar Discriminator Class"
      ]
    },
    {
      "cell_type": "code",
      "metadata": {
        "id": "68KrZPx_KqQj"
      },
      "source": [
        "# coding=utf-8\n",
        "# Copyright 2018 Google AI, Google Brain and Carnegie Mellon University Authors and the HuggingFace Inc. team and Jangwon Park\n",
        "#\n",
        "# Licensed under the Apache License, Version 2.0 (the \"License\");\n",
        "# you may not use this file except in compliance with the License.\n",
        "# You may obtain a copy of the License at\n",
        "#\n",
        "#     http://www.apache.org/licenses/LICENSE-2.0\n",
        "#\n",
        "# Unless required by applicable law or agreed to in writing, software\n",
        "# distributed under the License is distributed on an \"AS IS\" BASIS,\n",
        "# WITHOUT WARRANTIES OR CONDITIONS OF ANY KIND, either express or implied.\n",
        "# See the License for the specific language governing permissions and\n",
        "# limitations under the License.\n",
        "\"\"\" Tokenization classes for KoBert model.\"\"\"\n",
        "\n",
        "\n",
        "import logging\n",
        "import os\n",
        "import unicodedata\n",
        "from shutil import copyfile\n",
        "\n",
        "from transformers import PreTrainedTokenizer\n",
        "\n",
        "\n",
        "logger = logging.getLogger(__name__)\n",
        "\n",
        "VOCAB_FILES_NAMES = {\"vocab_file\": \"tokenizer_78b3253a26.model\",\n",
        "                     \"vocab_txt\": \"vocab.txt\"}\n",
        "\n",
        "PRETRAINED_VOCAB_FILES_MAP = {\n",
        "    \"vocab_file\": {\n",
        "        \"monologg/kobert\": \"https://s3.amazonaws.com/models.huggingface.co/bert/monologg/kobert/tokenizer_78b3253a26.model\",\n",
        "        \"monologg/kobert-lm\": \"https://s3.amazonaws.com/models.huggingface.co/bert/monologg/kobert-lm/tokenizer_78b3253a26.model\",\n",
        "        \"monologg/distilkobert\": \"https://s3.amazonaws.com/models.huggingface.co/bert/monologg/distilkobert/tokenizer_78b3253a26.model\"\n",
        "    },\n",
        "    \"vocab_txt\": {\n",
        "        \"monologg/kobert\": \"https://s3.amazonaws.com/models.huggingface.co/bert/monologg/kobert/vocab.txt\",\n",
        "        \"monologg/kobert-lm\": \"https://s3.amazonaws.com/models.huggingface.co/bert/monologg/kobert-lm/vocab.txt\",\n",
        "        \"monologg/distilkobert\": \"https://s3.amazonaws.com/models.huggingface.co/bert/monologg/distilkobert/vocab.txt\"\n",
        "    }\n",
        "}\n",
        "\n",
        "PRETRAINED_POSITIONAL_EMBEDDINGS_SIZES = {\n",
        "    \"monologg/kobert\": 512,\n",
        "    \"monologg/kobert-lm\": 512,\n",
        "    \"monologg/distilkobert\": 512\n",
        "}\n",
        "\n",
        "PRETRAINED_INIT_CONFIGURATION = {\n",
        "    \"monologg/kobert\": {\"do_lower_case\": False},\n",
        "    \"monologg/kobert-lm\": {\"do_lower_case\": False},\n",
        "    \"monologg/distilkobert\": {\"do_lower_case\": False}\n",
        "}\n",
        "\n",
        "SPIECE_UNDERLINE = u'▁'\n",
        "\n",
        "\n",
        "class KoBertTokenizer(PreTrainedTokenizer):\n",
        "    \"\"\"\n",
        "        SentencePiece based tokenizer. Peculiarities:\n",
        "            - requires `SentencePiece <https://github.com/google/sentencepiece>`_\n",
        "    \"\"\"\n",
        "    vocab_files_names = VOCAB_FILES_NAMES\n",
        "    pretrained_vocab_files_map = PRETRAINED_VOCAB_FILES_MAP\n",
        "    pretrained_init_configuration = PRETRAINED_INIT_CONFIGURATION\n",
        "    max_model_input_sizes = PRETRAINED_POSITIONAL_EMBEDDINGS_SIZES\n",
        "\n",
        "    def __init__(\n",
        "            self,\n",
        "            vocab_file,\n",
        "            vocab_txt,\n",
        "            do_lower_case=False,\n",
        "            remove_space=True,\n",
        "            keep_accents=False,\n",
        "            unk_token=\"[UNK]\",\n",
        "            sep_token=\"[SEP]\",\n",
        "            pad_token=\"[PAD]\",\n",
        "            cls_token=\"[CLS]\",\n",
        "            mask_token=\"[MASK]\",\n",
        "            **kwargs):\n",
        "        super().__init__(\n",
        "            unk_token=unk_token,\n",
        "            sep_token=sep_token,\n",
        "            pad_token=pad_token,\n",
        "            cls_token=cls_token,\n",
        "            mask_token=mask_token,\n",
        "            **kwargs\n",
        "        )\n",
        "\n",
        "        # Build vocab\n",
        "        self.token2idx = dict()\n",
        "        self.idx2token = []\n",
        "        with open(vocab_txt, 'r', encoding='utf-8') as f:\n",
        "            for idx, token in enumerate(f):\n",
        "                token = token.strip()\n",
        "                self.token2idx[token] = idx\n",
        "                self.idx2token.append(token)\n",
        "\n",
        "        try:\n",
        "            import sentencepiece as spm\n",
        "        except ImportError:\n",
        "            logger.warning(\"You need to install SentencePiece to use KoBertTokenizer: https://github.com/google/sentencepiece\"\n",
        "                           \"pip install sentencepiece\")\n",
        "\n",
        "        self.do_lower_case = do_lower_case\n",
        "        self.remove_space = remove_space\n",
        "        self.keep_accents = keep_accents\n",
        "        self.vocab_file = vocab_file\n",
        "        self.vocab_txt = vocab_txt\n",
        "\n",
        "        self.sp_model = spm.SentencePieceProcessor()\n",
        "        self.sp_model.Load(vocab_file)\n",
        "\n",
        "    @property\n",
        "    def vocab_size(self):\n",
        "        return len(self.idx2token)\n",
        "\n",
        "    def get_vocab(self):\n",
        "        return dict(self.token2idx, **self.added_tokens_encoder)\n",
        "\n",
        "    def __getstate__(self):\n",
        "        state = self.__dict__.copy()\n",
        "        state[\"sp_model\"] = None\n",
        "        return state\n",
        "\n",
        "    def __setstate__(self, d):\n",
        "        self.__dict__ = d\n",
        "        try:\n",
        "            import sentencepiece as spm\n",
        "        except ImportError:\n",
        "            logger.warning(\"You need to install SentencePiece to use KoBertTokenizer: https://github.com/google/sentencepiece\"\n",
        "                           \"pip install sentencepiece\")\n",
        "        self.sp_model = spm.SentencePieceProcessor()\n",
        "        self.sp_model.Load(self.vocab_file)\n",
        "\n",
        "    def preprocess_text(self, inputs):\n",
        "        if self.remove_space:\n",
        "            outputs = \" \".join(inputs.strip().split())\n",
        "        else:\n",
        "            outputs = inputs\n",
        "        outputs = outputs.replace(\"``\", '\"').replace(\"''\", '\"')\n",
        "\n",
        "        if not self.keep_accents:\n",
        "            outputs = unicodedata.normalize('NFKD', outputs)\n",
        "            outputs = \"\".join([c for c in outputs if not unicodedata.combining(c)])\n",
        "        if self.do_lower_case:\n",
        "            outputs = outputs.lower()\n",
        "\n",
        "        return outputs\n",
        "\n",
        "    def _tokenize(self, text, return_unicode=True, sample=False):\n",
        "        \"\"\" Tokenize a string. \"\"\"\n",
        "        text = self.preprocess_text(text)\n",
        "\n",
        "        if not sample:\n",
        "            pieces = self.sp_model.EncodeAsPieces(text)\n",
        "        else:\n",
        "            pieces = self.sp_model.SampleEncodeAsPieces(text, 64, 0.1)\n",
        "        new_pieces = []\n",
        "        for piece in pieces:\n",
        "            if len(piece) > 1 and piece[-1] == str(\",\") and piece[-2].isdigit():\n",
        "                cur_pieces = self.sp_model.EncodeAsPieces(piece[:-1].replace(SPIECE_UNDERLINE, \"\"))\n",
        "                if piece[0] != SPIECE_UNDERLINE and cur_pieces[0][0] == SPIECE_UNDERLINE:\n",
        "                    if len(cur_pieces[0]) == 1:\n",
        "                        cur_pieces = cur_pieces[1:]\n",
        "                    else:\n",
        "                        cur_pieces[0] = cur_pieces[0][1:]\n",
        "                cur_pieces.append(piece[-1])\n",
        "                new_pieces.extend(cur_pieces)\n",
        "            else:\n",
        "                new_pieces.append(piece)\n",
        "\n",
        "        return new_pieces\n",
        "\n",
        "    def _convert_token_to_id(self, token):\n",
        "        \"\"\" Converts a token (str/unicode) in an id using the vocab. \"\"\"\n",
        "        return self.token2idx.get(token, self.token2idx[self.unk_token])\n",
        "\n",
        "    def _convert_id_to_token(self, index, return_unicode=True):\n",
        "        \"\"\"Converts an index (integer) in a token (string/unicode) using the vocab.\"\"\"\n",
        "        return self.idx2token[index]\n",
        "\n",
        "    def convert_tokens_to_string(self, tokens):\n",
        "        \"\"\"Converts a sequence of tokens (strings for sub-words) in a single string.\"\"\"\n",
        "        out_string = \"\".join(tokens).replace(SPIECE_UNDERLINE, \" \").strip()\n",
        "        return out_string\n",
        "\n",
        "    def build_inputs_with_special_tokens(self, token_ids_0, token_ids_1=None):\n",
        "        \"\"\"\n",
        "        Build model inputs from a sequence or a pair of sequence for sequence classification tasks\n",
        "        by concatenating and adding special tokens.\n",
        "        A KoBERT sequence has the following format:\n",
        "            single sequence: [CLS] X [SEP]\n",
        "            pair of sequences: [CLS] A [SEP] B [SEP]\n",
        "        \"\"\"\n",
        "        if token_ids_1 is None:\n",
        "            return [self.cls_token_id] + token_ids_0 + [self.sep_token_id]\n",
        "        cls = [self.cls_token_id]\n",
        "        sep = [self.sep_token_id]\n",
        "        return cls + token_ids_0 + sep + token_ids_1 + sep\n",
        "\n",
        "    def get_special_tokens_mask(self, token_ids_0, token_ids_1=None, already_has_special_tokens=False):\n",
        "        \"\"\"\n",
        "        Retrieves sequence ids from a token list that has no special tokens added. This method is called when adding\n",
        "        special tokens using the tokenizer ``prepare_for_model`` or ``encode_plus`` methods.\n",
        "        Args:\n",
        "            token_ids_0: list of ids (must not contain special tokens)\n",
        "            token_ids_1: Optional list of ids (must not contain special tokens), necessary when fetching sequence ids\n",
        "                for sequence pairs\n",
        "            already_has_special_tokens: (default False) Set to True if the token list is already formated with\n",
        "                special tokens for the model\n",
        "        Returns:\n",
        "            A list of integers in the range [0, 1]: 0 for a special token, 1 for a sequence token.\n",
        "        \"\"\"\n",
        "\n",
        "        if already_has_special_tokens:\n",
        "            if token_ids_1 is not None:\n",
        "                raise ValueError(\n",
        "                    \"You should not supply a second sequence if the provided sequence of \"\n",
        "                    \"ids is already formated with special tokens for the model.\"\n",
        "                )\n",
        "            return list(map(lambda x: 1 if x in [self.sep_token_id, self.cls_token_id] else 0, token_ids_0))\n",
        "\n",
        "        if token_ids_1 is not None:\n",
        "            return [1] + ([0] * len(token_ids_0)) + [1] + ([0] * len(token_ids_1)) + [1]\n",
        "        return [1] + ([0] * len(token_ids_0)) + [1]\n",
        "\n",
        "    def create_token_type_ids_from_sequences(self, token_ids_0, token_ids_1=None):\n",
        "        \"\"\"\n",
        "        Creates a mask from the two sequences passed to be used in a sequence-pair classification task.\n",
        "        A KoBERT sequence pair mask has the following format:\n",
        "        0 0 0 0 0 0 0 0 0 0 1 1 1 1 1 1 1 1 1 1 1\n",
        "        | first sequence    | second sequence\n",
        "        if token_ids_1 is None, only returns the first portion of the mask (0's).\n",
        "        \"\"\"\n",
        "        sep = [self.sep_token_id]\n",
        "        cls = [self.cls_token_id]\n",
        "        if token_ids_1 is None:\n",
        "            return len(cls + token_ids_0 + sep) * [0]\n",
        "        return len(cls + token_ids_0 + sep) * [0] + len(token_ids_1 + sep) * [1]\n",
        "\n",
        "    def save_vocabulary(self, save_directory):\n",
        "        \"\"\" Save the sentencepiece vocabulary (copy original file) and special tokens file\n",
        "            to a directory.\n",
        "        \"\"\"\n",
        "        if not os.path.isdir(save_directory):\n",
        "            logger.error(\"Vocabulary path ({}) should be a directory\".format(save_directory))\n",
        "            return\n",
        "\n",
        "        # 1. Save sentencepiece model\n",
        "        out_vocab_model = os.path.join(save_directory, VOCAB_FILES_NAMES[\"vocab_file\"])\n",
        "\n",
        "        if os.path.abspath(self.vocab_file) != os.path.abspath(out_vocab_model):\n",
        "            copyfile(self.vocab_file, out_vocab_model)\n",
        "\n",
        "        # 2. Save vocab.txt\n",
        "        index = 0\n",
        "        out_vocab_txt = os.path.join(save_directory, VOCAB_FILES_NAMES[\"vocab_txt\"])\n",
        "        with open(out_vocab_txt, \"w\", encoding=\"utf-8\") as writer:\n",
        "            for token, token_index in sorted(self.token2idx.items(), key=lambda kv: kv[1]):\n",
        "                if index != token_index:\n",
        "                    logger.warning(\n",
        "                        \"Saving vocabulary to {}: vocabulary indices are not consecutive.\"\n",
        "                        \" Please check that the vocabulary is not corrupted!\".format(out_vocab_txt)\n",
        "                    )\n",
        "                    index = token_index\n",
        "                writer.write(token + \"\\n\")\n",
        "                index += 1\n",
        "\n",
        "        return out_vocab_model, out_vocab_txt"
      ],
      "execution_count": 8,
      "outputs": []
    },
    {
      "cell_type": "code",
      "metadata": {
        "id": "-VQdGLciKc_y"
      },
      "source": [
        "from transformers import BertTokenizer, AutoTokenizer, BertForSequenceClassification, AdamW, BertConfig, get_linear_schedule_with_warmup\n",
        "from torch.utils.data import DataLoader, RandomSampler, SequentialSampler, TensorDataset, random_split\n",
        "\n",
        "import time\n",
        "import random\n",
        "import datetime\n",
        "\n",
        "# 간단한 전처리\n",
        "def clean_text(txt):\n",
        "    txt = txt.replace('\\n',' ')\n",
        "    txt = txt.replace('\\r',' ')    \n",
        "    txt = txt.replace('=','')\n",
        "    txt = txt.replace('\\\"','')   \n",
        "    txt = txt.replace('\\'','')\n",
        "    #txt = txt.replace(',','')\n",
        "    txt = txt.replace('..','')\n",
        "    txt = txt.replace('...','')\n",
        "    #txt = txt.replace('.','. ')\n",
        "    txt = txt.replace('.','. ')\n",
        "    txt = txt.replace('  ',' ')\n",
        "    txt = txt.replace('  ',' ')    \n",
        "    txt = txt.replace('  ',' ')   \n",
        "    txt = txt.replace('  ',' ')           \n",
        "    txt = txt.replace('  ',' ')\n",
        "    txt = txt.replace('  ',' ')    \n",
        "    txt = txt.replace('  ',' ')   \n",
        "    txt = txt.replace('  ',' ')             \n",
        "    return txt.strip()\n",
        "\n",
        "def shuffling(txt):\n",
        "    txt_list = txt.split(' ')\n",
        "    random.shuffle(txt_list)\n",
        "    return ' '.join(txt_list)\n",
        "\n",
        "def collect_training_dataset_for_grammar_discriminator(source_urls=[]):\n",
        "    ko_sentences_dataset = []\n",
        "    for url in source_urls:\n",
        "        raw_text = urllib.request.urlopen(url).read().decode('utf-8')\n",
        "        ko_sentences_dataset += nltk.sent_tokenize(clean_text(raw_text))\n",
        "\n",
        "    sentences = []\n",
        "    labels = []\n",
        "\n",
        "    for txt in ko_sentences_dataset:\n",
        "        txt = txt.strip()\n",
        "        if len(txt) > 40:\n",
        "            #ko_grammar_dataset.append([txt,1])\n",
        "            txt = txt.replace('.','')\n",
        "            sentences.append(txt) # '.'의 위치를 보고 True, False를 판단 하기 땜에...\n",
        "            labels.append(1)\n",
        "            sentences.append(shuffling(txt))\n",
        "            labels.append(0)\n",
        "\n",
        "    return sentences,labels\n",
        "\n",
        "# Function to calculate the accuracy of our predictions vs labels\n",
        "def flat_accuracy(preds, labels):\n",
        "    pred_flat = np.argmax(preds, axis=1).flatten()\n",
        "    labels_flat = labels.flatten()\n",
        "    return np.sum(pred_flat == labels_flat) / len(labels_flat)\n",
        "\n",
        "def format_time(elapsed):\n",
        "    '''\n",
        "    Takes a time in seconds and returns a string hh:mm:ss\n",
        "    '''\n",
        "    # Round to the nearest second.\n",
        "    elapsed_rounded = int(round((elapsed)))\n",
        "    \n",
        "    # Format as hh:mm:ss\n",
        "    return str(datetime.timedelta(seconds=elapsed_rounded))\n",
        "\n",
        "class Grammar_Discriminator:\n",
        "    \"\"\"\n",
        "    # dataset 주입하고 train해서 사용하는 경우, \n",
        "    gd = Grammar_Discriminator(pretraoned_kobert_model_name='monologg/kobert')\n",
        "    gd.set_dataset(dataset = (sentences,labels))\n",
        "    gd.train(epochs = 4)\n",
        "\n",
        "\n",
        "    # 기존에 학습한 모델을 load 할 경우\n",
        "    gd = Grammar_Discriminator(input_dir = './drive/MyDrive/Colab Notebooks/summary/grammar_check_model')\n",
        "    \n",
        "    \"\"\"\n",
        "\n",
        "    def __init__(self, pretraoned_kobert_model_name='monologg/kobert', input_dir=None):\n",
        "\n",
        "        if input_dir is None:\n",
        "            self.tokenizer = KoBertTokenizer.from_pretrained(pretraoned_kobert_model_name)\n",
        "            self.discriminator = BertForSequenceClassification.from_pretrained(\n",
        "                                    pretraoned_kobert_model_name, # Use the 12-layer BERT model, with an uncased vocab.\n",
        "                                    num_labels = 2, # The number of output labels--2 for binary classification.\n",
        "                                                    # You can increase this for multi-class tasks.   \n",
        "                                    output_attentions = False, # Whether the model returns attentions weights.\n",
        "                                    output_hidden_states = False, # Whether the model returns all hidden-states.\n",
        "                                )            \n",
        "        else:\n",
        "            self.__load_model(input_dir)\n",
        "\n",
        "\n",
        "\n",
        "    def set_dataset(self, sentences,labels):\n",
        "        # Print the original sentence.\n",
        "        print(' Original: ', sentences[0])\n",
        "\n",
        "        # Print the sentence split into tokens.\n",
        "        print('Tokenized: ', self.tokenizer.tokenize(sentences[0]))\n",
        "\n",
        "        # Print the sentence mapped to token ids.\n",
        "        print('Token IDs: ', self.tokenizer.convert_tokens_to_ids(self.tokenizer.tokenize(sentences[0])))   \n",
        "\n",
        "        # Tokenize all of the sentences and map the tokens to thier word IDs.\n",
        "        input_ids = []\n",
        "        attention_masks = []\n",
        "\n",
        "        # For every sentence...\n",
        "        for sent in sentences:\n",
        "            # `encode_plus` will:\n",
        "            #   (1) Tokenize the sentence.\n",
        "            #   (2) Prepend the `[CLS]` token to the start.\n",
        "            #   (3) Append the `[SEP]` token to the end.\n",
        "            #   (4) Map tokens to their IDs.\n",
        "            #   (5) Pad or truncate the sentence to `max_length`\n",
        "            #   (6) Create attention masks for [PAD] tokens.\n",
        "            encoded_dict = self.tokenizer.encode_plus(\n",
        "                                sent,                      # Sentence to encode.\n",
        "                                add_special_tokens = True, # Add '[CLS]' and '[SEP]'\n",
        "                                max_length = 64,           # Pad & truncate all sentences.\n",
        "                                pad_to_max_length = True,\n",
        "                                return_attention_mask = True,   # Construct attn. masks.\n",
        "                                return_tensors = 'pt',     # Return pytorch tensors.\n",
        "                                truncation = True,\n",
        "                        )\n",
        "            \n",
        "            # Add the encoded sentence to the list.    \n",
        "            input_ids.append(encoded_dict['input_ids'])\n",
        "            \n",
        "            # And its attention mask (simply differentiates padding from non-padding).\n",
        "            attention_masks.append(encoded_dict['attention_mask'])\n",
        "\n",
        "        # Convert the lists into tensors.\n",
        "        input_ids = torch.cat(input_ids, dim=0)\n",
        "        attention_masks = torch.cat(attention_masks, dim=0)\n",
        "        labels = torch.tensor(labels)\n",
        "\n",
        "        # Print sentence 0, now as a list of IDs.\n",
        "        print('Original: ', sentences[0])\n",
        "        print('Token IDs:', input_ids[0])\n",
        "\n",
        "        # Training & Validation Split\n",
        "        # Divide up our training set to use 90% for training and 10% for validation.\n",
        "\n",
        "        # Combine the training inputs into a TensorDataset.\n",
        "        dataset = TensorDataset(input_ids, attention_masks, labels)\n",
        "\n",
        "        # Create a 90-10 train-validation split.\n",
        "\n",
        "        # Calculate the number of samples to include in each set.\n",
        "        train_size = int(0.9 * len(dataset))\n",
        "        val_size = len(dataset) - train_size\n",
        "\n",
        "        # Divide the dataset by randomly selecting samples.\n",
        "        train_dataset, val_dataset = random_split(dataset, [train_size, val_size])\n",
        "\n",
        "        print('{:>5,} training samples'.format(train_size))\n",
        "        print('{:>5,} validation samples'.format(val_size))\n",
        "\n",
        "        # The DataLoader needs to know our batch size for training, so we specify it \n",
        "        # here. For fine-tuning BERT on a specific task, the authors recommend a batch \n",
        "        # size of 16 or 32.\n",
        "        self.batch_size = 32\n",
        "\n",
        "        # Create the DataLoaders for our training and validation sets.\n",
        "        # We'll take training samples in random order. \n",
        "        self.train_dataloader = DataLoader(\n",
        "                    train_dataset,  # The training samples.\n",
        "                    sampler = RandomSampler(train_dataset), # Select batches randomly\n",
        "                    batch_size = self.batch_size # Trains with this batch size.\n",
        "                )\n",
        "\n",
        "        # For validation the order doesn't matter, so we'll just read them sequentially.\n",
        "        self.validation_dataloader = DataLoader(\n",
        "                    val_dataset, # The validation samples.\n",
        "                    sampler = SequentialSampler(val_dataset), # Pull out batches sequentially.\n",
        "                    batch_size = self.batch_size # Evaluate with this batch size.\n",
        "                )        \n",
        "\n",
        "\n",
        "\n",
        "    def train(self,epochs=4):\n",
        "        # Tell pytorch to run this model on the GPU.\n",
        "        self.discriminator.cuda()\n",
        "\n",
        "        # Get all of the model's parameters as a list of tuples.\n",
        "        params = list(self.discriminator.named_parameters())\n",
        "\n",
        "        print('The BERT model has {:} different named parameters.\\n'.format(len(params)))\n",
        "\n",
        "        print('==== Embedding Layer ====\\n')\n",
        "\n",
        "        for p in params[0:5]:\n",
        "            print(\"{:<55} {:>12}\".format(p[0], str(tuple(p[1].size()))))\n",
        "\n",
        "        print('\\n==== First Transformer ====\\n')\n",
        "\n",
        "        for p in params[5:21]:\n",
        "            print(\"{:<55} {:>12}\".format(p[0], str(tuple(p[1].size()))))\n",
        "\n",
        "        print('\\n==== Output Layer ====\\n')\n",
        "\n",
        "        for p in params[-4:]:\n",
        "            print(\"{:<55} {:>12}\".format(p[0], str(tuple(p[1].size()))))  \n",
        "\n",
        "        # Note: AdamW is a class from the huggingface library (as opposed to pytorch) \n",
        "        # I believe the 'W' stands for 'Weight Decay fix\"\n",
        "        self.optimizer = AdamW(self.discriminator.parameters(),\n",
        "                        lr = 2e-5, # args.learning_rate - default is 5e-5, our notebook had 2e-5\n",
        "                        eps = 1e-8 # args.adam_epsilon  - default is 1e-8.\n",
        "                        )\n",
        "\n",
        "        # Number of training epochs. The BERT authors recommend between 2 and 4. \n",
        "        # We chose to run for 4, but we'll see later that this may be over-fitting the\n",
        "        # training data.\n",
        "        #epochs = 2\n",
        "\n",
        "        # Total number of training steps is [number of batches] x [number of epochs]. \n",
        "        # (Note that this is not the same as the number of training samples).\n",
        "        total_steps = len(self.train_dataloader) * epochs\n",
        "\n",
        "        # Create the learning rate scheduler.\n",
        "        scheduler = get_linear_schedule_with_warmup(self.optimizer, \n",
        "                                                    num_warmup_steps = 0, # Default value in run_glue.py\n",
        "                                                    num_training_steps = total_steps)\n",
        "            \n",
        "        # This training code is based on the `run_glue.py` script here:\n",
        "        # https://github.com/huggingface/transformers/blob/5bfcd0485ece086ebcbed2d008813037968a9e58/examples/run_glue.py#L128\n",
        "\n",
        "        # Set the seed value all over the place to make this reproducible.\n",
        "        seed_val = 42\n",
        "\n",
        "        random.seed(seed_val)\n",
        "        np.random.seed(seed_val)\n",
        "        torch.manual_seed(seed_val)\n",
        "        torch.cuda.manual_seed_all(seed_val)\n",
        "\n",
        "        # We'll store a number of quantities such as training and validation loss, \n",
        "        # validation accuracy, and timings.\n",
        "        training_stats = []\n",
        "\n",
        "        # Measure the total training time for the whole run.\n",
        "        total_t0 = time.time()\n",
        "\n",
        "        # For each epoch...\n",
        "        for epoch_i in range(0, epochs):\n",
        "            \n",
        "            # ========================================\n",
        "            #               Training\n",
        "            # ========================================\n",
        "            \n",
        "            # Perform one full pass over the training set.\n",
        "\n",
        "            print(\"\")\n",
        "            print('======== Epoch {:} / {:} ========'.format(epoch_i + 1, epochs))\n",
        "            print('Training...')\n",
        "\n",
        "            # Measure how long the training epoch takes.\n",
        "            t0 = time.time()\n",
        "\n",
        "            # Reset the total loss for this epoch.\n",
        "            total_train_loss = 0\n",
        "\n",
        "            # Put the model into training mode. Don't be mislead--the call to \n",
        "            # `train` just changes the *mode*, it doesn't *perform* the training.\n",
        "            # `dropout` and `batchnorm` layers behave differently during training\n",
        "            # vs. test (source: https://stackoverflow.com/questions/51433378/what-does-model-train-do-in-pytorch)\n",
        "            self.discriminator.train()\n",
        "\n",
        "            # For each batch of training data...\n",
        "            for step, batch in enumerate(self.train_dataloader):\n",
        "\n",
        "                # Progress update every 40 batches.\n",
        "                if step % 40 == 0 and not step == 0:\n",
        "                    # Calculate elapsed time in minutes.\n",
        "                    elapsed = format_time(time.time() - t0)\n",
        "                    \n",
        "                    # Report progress.\n",
        "                    print('  Batch {:>5,}  of  {:>5,}.    Elapsed: {:}.'.format(step, len(self.train_dataloader), elapsed))\n",
        "\n",
        "                # Unpack this training batch from our dataloader. \n",
        "                #\n",
        "                # As we unpack the batch, we'll also copy each tensor to the GPU using the \n",
        "                # `to` method.\n",
        "                #\n",
        "                # `batch` contains three pytorch tensors:\n",
        "                #   [0]: input ids \n",
        "                #   [1]: attention masks\n",
        "                #   [2]: labels \n",
        "                b_input_ids = batch[0].to(device)\n",
        "                b_input_mask = batch[1].to(device)\n",
        "                b_labels = batch[2].to(device)\n",
        "\n",
        "                # Always clear any previously calculated gradients before performing a\n",
        "                # backward pass. PyTorch doesn't do this automatically because \n",
        "                # accumulating the gradients is \"convenient while training RNNs\". \n",
        "                # (source: https://stackoverflow.com/questions/48001598/why-do-we-need-to-call-zero-grad-in-pytorch)\n",
        "                self.discriminator.zero_grad()        \n",
        "\n",
        "                # Perform a forward pass (evaluate the model on this training batch).\n",
        "                # The documentation for this `model` function is here: \n",
        "                # https://huggingface.co/transformers/v2.2.0/model_doc/bert.html#transformers.BertForSequenceClassification\n",
        "                # It returns different numbers of parameters depending on what arguments\n",
        "                # arge given and what flags are set. For our useage here, it returns\n",
        "                # the loss (because we provided labels) and the \"logits\"--the model\n",
        "                # outputs prior to activation.\n",
        "                loss, logits = self.discriminator(b_input_ids, \n",
        "                                    token_type_ids=None, \n",
        "                                    attention_mask=b_input_mask, \n",
        "                                    labels=b_labels)\n",
        "\n",
        "                # Accumulate the training loss over all of the batches so that we can\n",
        "                # calculate the average loss at the end. `loss` is a Tensor containing a\n",
        "                # single value; the `.item()` function just returns the Python value \n",
        "                # from the tensor.\n",
        "                total_train_loss += loss.item()\n",
        "\n",
        "                # Perform a backward pass to calculate the gradients.\n",
        "                loss.backward()\n",
        "\n",
        "                # Clip the norm of the gradients to 1.0.\n",
        "                # This is to help prevent the \"exploding gradients\" problem.\n",
        "                torch.nn.utils.clip_grad_norm_(self.discriminator.parameters(), 1.0)\n",
        "\n",
        "                # Update parameters and take a step using the computed gradient.\n",
        "                # The optimizer dictates the \"update rule\"--how the parameters are\n",
        "                # modified based on their gradients, the learning rate, etc.\n",
        "                self.optimizer.step()\n",
        "\n",
        "                # Update the learning rate.\n",
        "                scheduler.step()\n",
        "\n",
        "            # Calculate the average loss over all of the batches.\n",
        "            avg_train_loss = total_train_loss / len(self.train_dataloader)            \n",
        "            \n",
        "            # Measure how long this epoch took.\n",
        "            training_time = format_time(time.time() - t0)\n",
        "\n",
        "            print(\"\")\n",
        "            print(\"  Average training loss: {0:.2f}\".format(avg_train_loss))\n",
        "            print(\"  Training epcoh took: {:}\".format(training_time))\n",
        "                \n",
        "            # ========================================\n",
        "            #               Validation\n",
        "            # ========================================\n",
        "            # After the completion of each training epoch, measure our performance on\n",
        "            # our validation set.\n",
        "\n",
        "            print(\"\")\n",
        "            print(\"Running Validation...\")\n",
        "\n",
        "            t0 = time.time()\n",
        "\n",
        "            # Put the model in evaluation mode--the dropout layers behave differently\n",
        "            # during evaluation.\n",
        "            self.discriminator.eval()\n",
        "\n",
        "            # Tracking variables \n",
        "            total_eval_accuracy = 0\n",
        "            total_eval_loss = 0\n",
        "            nb_eval_steps = 0\n",
        "\n",
        "            # Evaluate data for one epoch\n",
        "            for batch in self.validation_dataloader:\n",
        "                \n",
        "                # Unpack this training batch from our dataloader. \n",
        "                #\n",
        "                # As we unpack the batch, we'll also copy each tensor to the GPU using \n",
        "                # the `to` method.\n",
        "                #\n",
        "                # `batch` contains three pytorch tensors:\n",
        "                #   [0]: input ids \n",
        "                #   [1]: attention masks\n",
        "                #   [2]: labels \n",
        "                b_input_ids = batch[0].to(device)\n",
        "                b_input_mask = batch[1].to(device)\n",
        "                b_labels = batch[2].to(device)\n",
        "                \n",
        "                # Tell pytorch not to bother with constructing the compute graph during\n",
        "                # the forward pass, since this is only needed for backprop (training).\n",
        "                with torch.no_grad():        \n",
        "\n",
        "                    # Forward pass, calculate logit predictions.\n",
        "                    # token_type_ids is the same as the \"segment ids\", which \n",
        "                    # differentiates sentence 1 and 2 in 2-sentence tasks.\n",
        "                    # The documentation for this `model` function is here: \n",
        "                    # https://huggingface.co/transformers/v2.2.0/model_doc/bert.html#transformers.BertForSequenceClassification\n",
        "                    # Get the \"logits\" output by the model. The \"logits\" are the output\n",
        "                    # values prior to applying an activation function like the softmax.\n",
        "                    (loss, logits) = self.discriminator(b_input_ids, \n",
        "                                        token_type_ids=None, \n",
        "                                        attention_mask=b_input_mask,\n",
        "                                        labels=b_labels)\n",
        "                    \n",
        "                # Accumulate the validation loss.\n",
        "                total_eval_loss += loss.item()\n",
        "\n",
        "                # Move logits and labels to CPU\n",
        "                logits = logits.detach().cpu().numpy()\n",
        "                label_ids = b_labels.to('cpu').numpy()\n",
        "\n",
        "                # Calculate the accuracy for this batch of test sentences, and\n",
        "                # accumulate it over all batches.\n",
        "                total_eval_accuracy += flat_accuracy(logits, label_ids)\n",
        "                \n",
        "\n",
        "            # Report the final accuracy for this validation run.\n",
        "            avg_val_accuracy = total_eval_accuracy / len(self.validation_dataloader)\n",
        "            print(\"  Accuracy: {0:.2f}\".format(avg_val_accuracy))\n",
        "\n",
        "            # Calculate the average loss over all of the batches.\n",
        "            avg_val_loss = total_eval_loss / len(self.validation_dataloader)\n",
        "            \n",
        "            # Measure how long the validation run took.\n",
        "            validation_time = format_time(time.time() - t0)\n",
        "            \n",
        "            print(\"  Validation Loss: {0:.2f}\".format(avg_val_loss))\n",
        "            print(\"  Validation took: {:}\".format(validation_time))\n",
        "\n",
        "            # Record all statistics from this epoch.\n",
        "            training_stats.append(\n",
        "                {\n",
        "                    'epoch': epoch_i + 1,\n",
        "                    'Training Loss': avg_train_loss,\n",
        "                    'Valid. Loss': avg_val_loss,\n",
        "                    'Valid. Accur.': avg_val_accuracy,\n",
        "                    'Training Time': training_time,\n",
        "                    'Validation Time': validation_time\n",
        "                }\n",
        "            )\n",
        "\n",
        "        print(\"\")\n",
        "        print(\"Training complete!\")\n",
        "\n",
        "        print(\"Total training took {:} (h:mm:ss)\".format(format_time(time.time()-total_t0)))\n",
        "            \n",
        "\n",
        "        return training_stats\n",
        "\n",
        "    def save_model(self, output_dir = './model_save/'):\n",
        "        # Create output directory if needed\n",
        "        if not os.path.exists(output_dir):\n",
        "            os.makedirs(output_dir)\n",
        "\n",
        "        print(\"Saving model to %s\" % output_dir)\n",
        "\n",
        "        # Save a trained model, configuration and tokenizer using `save_pretrained()`.\n",
        "        # They can then be reloaded using `from_pretrained()`\n",
        "        model_to_save = self.discriminator.module if hasattr(self.discriminator, 'module') else self.discriminator  # Take care of distributed/parallel training\n",
        "        model_to_save.save_pretrained(output_dir)\n",
        "        self.tokenizer.save_pretrained(output_dir)\n",
        "\n",
        "        # Good practice: save your training arguments together with the trained model\n",
        "        # torch.save(args, os.path.join(output_dir, 'training_args.bin'))\n",
        "\n",
        "    def __load_model(self, input_dir = './drive/MyDrive/Colab Notebooks/summary/grammar_check_model'):\n",
        "        print('Loading BERT tokenizer...')\n",
        "        self.tokenizer = KoBertTokenizer.from_pretrained(input_dir)\n",
        "        self.discriminator = BertForSequenceClassification.from_pretrained(input_dir)\n",
        "\n",
        "    def transfer_learning(self, sentences, train_for = True):\n",
        "        \n",
        "        input_ids = []\n",
        "        attention_masks = []\n",
        "\n",
        "        # For every sentence...\n",
        "        for sent in sentences:\n",
        "            # `encode_plus` will:\n",
        "            #   (1) Tokenize the sentence.\n",
        "            #   (2) Prepend the `[CLS]` token to the start.\n",
        "            #   (3) Append the `[SEP]` token to the end.\n",
        "            #   (4) Map tokens to their IDs.\n",
        "            #   (5) Pad or truncate the sentence to `max_length`\n",
        "            #   (6) Create attention masks for [PAD] tokens.\n",
        "            encoded_dict = self.tokenizer.encode_plus(\n",
        "                                sent,                      # Sentence to encode.\n",
        "                                add_special_tokens = True, # Add '[CLS]' and '[SEP]'\n",
        "                                max_length = 64,           # Pad & truncate all sentences.\n",
        "                                pad_to_max_length = True,\n",
        "                                return_attention_mask = True,   # Construct attn. masks.\n",
        "                                return_tensors = 'pt',     # Return pytorch tensors.\n",
        "                                truncation = True,\n",
        "                        )\n",
        "            # Add the encoded sentence to the list.    \n",
        "            input_ids.append(encoded_dict['input_ids'])\n",
        "\n",
        "            # And its attention mask (simply differentiates padding from non-padding).\n",
        "            attention_masks.append(encoded_dict['attention_mask'])\n",
        "        \n",
        "        if train_for:\n",
        "            b_labels = torch.ones(len(sentences),dtype=torch.long).to(device)\n",
        "        else:\n",
        "            b_labels = torch.zeros(len(sentences),dtype=torch.long).to(device)\n",
        "        #print(b_labels)\n",
        "        # Convert the lists into tensors.\n",
        "        input_ids = torch.cat(input_ids, dim=0).to(device)\n",
        "        attention_masks = torch.cat(attention_masks, dim=0).to(device)    \n",
        "        #if str(discriminator1.device) == 'cpu':\n",
        "        #    pass\n",
        "        #else:\n",
        "        #    input_ids = input_ids.to(device)\n",
        "        #    attention_masks = attention_masks.to(device)        \n",
        "\n",
        "        loss, logits = self.discriminator(input_ids, \n",
        "                            token_type_ids=None, \n",
        "                            attention_mask=attention_masks, \n",
        "                                labels=b_labels)\n",
        "        #return torch.sigmoid(outputs[0][:,1])\n",
        "        #return outputs[0][:,1]\n",
        "        return loss, logits\n"
      ],
      "execution_count": 9,
      "outputs": []
    },
    {
      "cell_type": "markdown",
      "metadata": {
        "id": "JC0pDHweMXX1"
      },
      "source": [
        "###4.2.1 한국어 문장 Dataset"
      ]
    },
    {
      "cell_type": "code",
      "metadata": {
        "id": "l7Zf2oRMMXmH",
        "colab": {
          "base_uri": "https://localhost:8080/"
        },
        "outputId": "c343aba8-987c-4821-b72f-1746292a3625"
      },
      "source": [
        "use_pretrained_model = True\n",
        "\n",
        "if use_pretrained_model:\n",
        "    g_discriminator = Grammar_Discriminator(input_dir = './drive/MyDrive/Colab Notebooks/summary/grammar_check_model')\n",
        "else:\n",
        "    urls = ['https://raw.githubusercontent.com/dolmani38/Summary/master/data/korean_sample.txt',\n",
        "            'https://raw.githubusercontent.com/dolmani38/Summary/master/data/%EC%95%A0%EA%B1%B0%EC%84%9C%ED%81%AC%EB%A6%AC%EC%8A%A4%ED%8B%B0-ABC%20%EC%82%B4%EC%9D%B8%EC%82%AC%EA%B1%B4.txt',\n",
        "            'https://raw.githubusercontent.com/dolmani38/Summary/master/data/%EC%95%A0%EA%B1%B0%EC%84%9C%ED%81%AC%EB%A6%AC%EC%8A%A4%ED%8B%B0-%EA%B7%B8%EB%A6%AC%EA%B3%A0%20%EC%95%84%EB%AC%B4%EB%8F%84%20%EC%97%86%EC%97%88%EB%8B%A4.txt']\n",
        "    sentences,labels = collect_training_dataset_for_grammar_discriminator(source_urls=urls)\n",
        "    g_discriminator = Grammar_Discriminator()\n",
        "    g_discriminator.set_dataset(sentences,labels)\n",
        "    g_discriminator.train(epochs=2)\n",
        "    g_discriminator.save_model()"
      ],
      "execution_count": 10,
      "outputs": [
        {
          "output_type": "stream",
          "text": [
            "Loading BERT tokenizer...\n"
          ],
          "name": "stdout"
        }
      ]
    },
    {
      "cell_type": "markdown",
      "metadata": {
        "id": "d96kaCAHKuUc"
      },
      "source": [
        "##4.3 Static similarity discriminator class"
      ]
    },
    {
      "cell_type": "code",
      "metadata": {
        "id": "xZDpXe7XKxeg"
      },
      "source": [
        "from sentence_transformers import SentenceTransformer\n",
        "from transformers import BertTokenizer\n",
        "from scipy.signal import find_peaks\n",
        "import matplotlib.pyplot as plt\n",
        "from scipy.misc import electrocardiogram\n",
        "import scipy\n",
        "\n",
        "\n",
        "class Similarity_Discriminator:\n",
        "\n",
        "    _instance = None\n",
        "    _embedder = None\n",
        "    def __new__(cls,pre_trained_model_name='xlm-r-large-en-ko-nli-ststb'):\n",
        "        if cls._instance is None:\n",
        "            print('Creating Similarity_Discriminator object')\n",
        "            cls._instance = super(Similarity_Discriminator, cls).__new__(cls)\n",
        "            # Put any initialization here.\n",
        "            cls._embedder = SentenceTransformer(pre_trained_model_name)\n",
        "        return cls._instance\n",
        "\n",
        "    def encode(self,texts):\n",
        "        return self._embedder.encode(texts,show_progress_bar=False)\n",
        "\n",
        "    def similarity(self, query_text, org_text_emb):\n",
        "        queries = nltk.sent_tokenize(query_text)\n",
        "        query_embeddings = self._embedder.encode(queries,show_progress_bar=False)\n",
        "        #query_embeddings = self._embedder.encode(queries,show_progress_bar=False)\n",
        "        #print(queries)\n",
        "        #print(org_text_emb)\n",
        "        \n",
        "        if len(query_embeddings) == 0:\n",
        "            return 0.0\n",
        "\n",
        "        cos_scores = scipy.spatial.distance.cdist(query_embeddings, org_text_emb, \"cosine\")\n",
        "        similarity_score = 1.0 - np.mean(np.min(cos_scores,axis=0))\n",
        "        '''\n",
        "        for query, query_embedding in zip(queries, query_embeddings):\n",
        "            distances = scipy.spatial.distance.cdist([query_embedding], [org_text_emb], \"cosine\")[0]\n",
        "            results = zip(range(len(distances)), distances)\n",
        "            for idx, distance in results:\n",
        "                scores.append(1-distance)\n",
        "        '''\n",
        "        return similarity_score  "
      ],
      "execution_count": 11,
      "outputs": []
    },
    {
      "cell_type": "markdown",
      "metadata": {
        "id": "2sQZ36GuMumP"
      },
      "source": [
        "###4.3.1 한국어 문장 유사도 pre-trained model 적용"
      ]
    },
    {
      "cell_type": "code",
      "metadata": {
        "id": "B9Miao14Muww",
        "colab": {
          "base_uri": "https://localhost:8080/"
        },
        "outputId": "e305c27c-a396-49e8-8e46-af8280302a6d"
      },
      "source": [
        "s_discriminator = Similarity_Discriminator()"
      ],
      "execution_count": 12,
      "outputs": [
        {
          "output_type": "stream",
          "text": [
            "\r  0%|          | 0.00/1.80G [00:00<?, ?B/s]"
          ],
          "name": "stderr"
        },
        {
          "output_type": "stream",
          "text": [
            "Creating Similarity_Discriminator object\n"
          ],
          "name": "stdout"
        },
        {
          "output_type": "stream",
          "text": [
            "100%|██████████| 1.80G/1.80G [00:29<00:00, 60.1MB/s]\n"
          ],
          "name": "stderr"
        }
      ]
    },
    {
      "cell_type": "markdown",
      "metadata": {
        "id": "Xnk9GsQ0K1t1"
      },
      "source": [
        "##4.4 Document source class"
      ]
    },
    {
      "cell_type": "markdown",
      "metadata": {
        "id": "-_ztc0q3M_4F"
      },
      "source": [
        "###4.4.1 keyBERT를 위한 pre-trained model의 적재"
      ]
    },
    {
      "cell_type": "code",
      "metadata": {
        "id": "kJFTjWlwK3Uz",
        "colab": {
          "base_uri": "https://localhost:8080/"
        },
        "outputId": "bea92126-2875-44d8-b802-50fd761fbe6d"
      },
      "source": [
        "from keybert import KeyBERT\n",
        "key_model = KeyBERT('distilbert-base-nli-mean-tokens')"
      ],
      "execution_count": 13,
      "outputs": [
        {
          "output_type": "stream",
          "text": [
            "100%|██████████| 245M/245M [00:05<00:00, 44.9MB/s]\n"
          ],
          "name": "stderr"
        }
      ]
    },
    {
      "cell_type": "markdown",
      "metadata": {
        "id": "SnBm6RCvNIWG"
      },
      "source": [
        "###4.4.2 frame term 추출을 위한 source class 구현"
      ]
    },
    {
      "cell_type": "code",
      "metadata": {
        "id": "PsJKbtc2K4xN"
      },
      "source": [
        "\n",
        "\n",
        "class Source:\n",
        "\n",
        "    def __init__(self,org_text):\n",
        "        self.org_text = org_text\n",
        "\n",
        "    def __crean_text(self, txt):\n",
        "        txt = txt.replace('\\n',' ')\n",
        "        txt = txt.replace('\\r',' ')    \n",
        "        txt = txt.replace('=','')\n",
        "        txt = txt.replace('\\\"','')   \n",
        "        txt = txt.replace('\\'','')\n",
        "        #txt = txt.replace(',','')\n",
        "        txt = txt.replace('..','')\n",
        "        txt = txt.replace('...','')\n",
        "        #txt = txt.replace('.','. ')\n",
        "        txt = txt.replace('.','. ')\n",
        "        txt = txt.replace('  ',' ')\n",
        "        txt = txt.replace('  ',' ')    \n",
        "        txt = txt.replace('  ',' ')   \n",
        "        txt = txt.replace('  ',' ')           \n",
        "        txt = txt.replace('  ',' ')\n",
        "        txt = txt.replace('  ',' ')    \n",
        "        txt = txt.replace('  ',' ')   \n",
        "        txt = txt.replace('  ',' ')           \n",
        "        return txt.strip()\n",
        "\n",
        "\n",
        "    def extract_keywords(self,s_discriminator,key_model,story_filters=np.array([[0,1],[0,1,2],[0,1,2,3]]),peak_base_line = 0.0):\n",
        "        self.org_text = self.__crean_text(self.org_text.strip())\n",
        "        print('------------------------------------------------------------------')\n",
        "        print(self.org_text)\n",
        "        print('------------------------------------------------------------------')\n",
        "        self.org_sentences = np.array(nltk.sent_tokenize(self.org_text))\n",
        "        self.org_term_set = (' ' + self.org_text + ' ').split(' ')\n",
        "        self.org_source_length = len(self.org_term_set)\n",
        "        self.term_table = {}\n",
        "        #morp_table = {}\n",
        "        index_table = {}\n",
        "        for index, word in zip(range(len(self.org_term_set)),self.org_term_set):\n",
        "            self.term_table[index] = word\n",
        "\n",
        "        print('Token table of origin text')\n",
        "        print('---------------------------------------------')\n",
        "        print(' Code     Token     ')\n",
        "        for k in self.term_table.keys():\n",
        "            print( f'  {str(k).ljust(5)}     {self.term_table[k]}')\n",
        "        print('---------------------------------------------')\n",
        "\n",
        "        self.s_discriminator = s_discriminator\n",
        "        # 원문의 embedding...\n",
        "        self.org_text_emb = self.s_discriminator.encode(self.org_sentences)\n",
        "\n",
        "\n",
        "\n",
        "\n",
        "        # weight 들의 초기화\n",
        "        terms = np.array(list(self.term_table.values()))\n",
        "\n",
        "        word_filters=np.array([[0]])\n",
        "\n",
        "        story_weights = np.zeros(self.org_source_length,)\n",
        "        word_weights = np.zeros(self.org_source_length,)\n",
        "\n",
        "        #terms = np.array(list(self.term_table.values()))\n",
        "\n",
        "        # story에 지배적인 word를 찾는다.\n",
        "        # 먼저 word의 강세 분석\n",
        "        for filter in word_filters:\n",
        "            #print(filter)\n",
        "            last_idx = len(terms)-(max(filter)+1)\n",
        "            pb = ProgressBar(last_idx,prefix='word density scan :')\n",
        "            for conv in range(last_idx,0,-1):\n",
        "                pb.printProgress(+1,f'filer:{filter} {conv}/{last_idx}       ')\n",
        "                t = np.array(filter) + conv\n",
        "                part_sen = ' '.join(terms[t]) \n",
        "                #print('\\n part_sen:',part_sen)\n",
        "                score = self.s_discriminator.similarity(part_sen.strip(),self.org_text_emb)\n",
        "                word_weights[t] += score \n",
        "\n",
        "        # story의 강세 분석\n",
        "        for filter in story_filters:\n",
        "            #print(filter)\n",
        "            last_idx = len(terms)-(max(filter)+1)\n",
        "            pb = ProgressBar(last_idx,prefix='story density scan:')\n",
        "            for conv in range(last_idx,0,-1):\n",
        "                pb.printProgress(+1,f'filer:{filter} {conv}/{last_idx}       ')\n",
        "                t = np.array(filter) + conv\n",
        "                part_sen = ' '.join(terms[t]) \n",
        "                score = self.s_discriminator.similarity(part_sen.strip(),self.org_text_emb)\n",
        "                story_weights[t] += score\n",
        "\n",
        "        #각각의 peak를 산출\n",
        "        word_peaks, _ = find_peaks(word_weights, height=0)\n",
        "        story_peaks, _ = find_peaks(story_weights, height=0)\n",
        "\n",
        "        #두개의 peak가 겹치는 word에 대해 한개 word가 유사도에 미치는 영향이 큰것으로 간주\n",
        "        #해당 word를 유사도 판단 필터에서 제외하고 다시 필터링...\n",
        "        #이를 통해 story에 대한 word를 최대한 추출 한다.\n",
        "\n",
        "        dup_order = []\n",
        "        for i in range(self.org_source_length):\n",
        "            #lst = \"\"\n",
        "            if (i in word_peaks) and (i in story_peaks):\n",
        "                if terms[i].endswith('.'):\n",
        "                    pass\n",
        "                else:\n",
        "                    dup_order.append(i)\n",
        "                    \n",
        "        # Story에 대한 weight을 추출하기 위해, word에 유독 강세가 있는 term을 제외 시킨다.\n",
        "        print('Negative words:',terms[dup_order])\n",
        "\n",
        "\n",
        "        top_n = int(len(self.term_table)/5)\n",
        "\n",
        "        self.story_peaks = []\n",
        "        keywords = key_model.extract_keywords(org_text,top_n=top_n)\n",
        "        print('keywords len',len(keywords))\n",
        "        for keyword in keywords:\n",
        "            for k in self.term_table.keys():\n",
        "                if self.term_table[k] == keyword and k not in dup_order:\n",
        "                    self.story_peaks.append(k)\n",
        "\n",
        "        self.story_peaks.append(len(self.term_table)-2)\n",
        "        self.story_peaks = np.sort(np.asarray(self.story_peaks))\n",
        "        print('story_peaks:',self.story_peaks)\n",
        "        print('Peak count:',len(self.story_peaks))          \n",
        "\n",
        "\n",
        "        # story skeleton 추출\n",
        "        self.frame_text = \"\"\n",
        "        for k in self.story_peaks:\n",
        "            #print(k,term_weight[k],word_table[k])\n",
        "            self.frame_text += self.term_table[k]+' '  \n",
        "\n",
        "        print('Frame text:',self.frame_text)\n",
        "\n",
        "\n",
        "    def analysis_frame_terms(self,s_discriminator,story_filters=np.array([[0,1],[0,1,2],[0,1,2,3]]),peak_base_line = 0.0):\n",
        "\n",
        "        self.org_text = self.__crean_text(self.org_text.strip())\n",
        "        print('------------------------------------------------------------------')\n",
        "        print(self.org_text)\n",
        "        print('------------------------------------------------------------------')\n",
        "        self.org_sentences = np.array(nltk.sent_tokenize(self.org_text))\n",
        "        self.org_term_set = (' ' + self.org_text + ' ').split(' ')\n",
        "        self.org_source_length = len(self.org_term_set)\n",
        "        self.term_table = {}\n",
        "        #morp_table = {}\n",
        "\n",
        "        for index, word in zip(range(len(self.org_term_set)),self.org_term_set):\n",
        "            self.term_table[index] = word\n",
        "\n",
        "        print('Token table of origin text')\n",
        "        print('---------------------------------------------')\n",
        "        print(' Code     Token     ')\n",
        "        for k in self.term_table.keys():\n",
        "            print( f'  {str(k).ljust(5)}     {self.term_table[k]}')\n",
        "        print('---------------------------------------------')\n",
        "\n",
        "\n",
        "        self.s_discriminator = s_discriminator\n",
        "        # 원문의 embedding...\n",
        "        self.org_text_emb = self.s_discriminator.encode(self.org_sentences)\n",
        "\n",
        "        # weight 들의 초기화\n",
        "        terms = np.array(list(self.term_table.values()))\n",
        "\n",
        "        word_filters=np.array([[0]])\n",
        "\n",
        "        story_weights = np.zeros(self.org_source_length,)\n",
        "        word_weights = np.zeros(self.org_source_length,)\n",
        "\n",
        "        #terms = np.array(list(self.term_table.values()))\n",
        "\n",
        "        # story에 지배적인 word를 찾는다.\n",
        "        # 먼저 word의 강세 분석\n",
        "        for filter in word_filters:\n",
        "            #print(filter)\n",
        "            last_idx = len(terms)-(max(filter)+1)\n",
        "            pb = ProgressBar(last_idx,prefix='word density scan :')\n",
        "            for conv in range(last_idx,0,-1):\n",
        "                pb.printProgress(+1,f'filer:{filter} {conv}/{last_idx}       ')\n",
        "                t = np.array(filter) + conv\n",
        "                part_sen = ' '.join(terms[t]) \n",
        "                score = self.s_discriminator.similarity(part_sen.strip(),self.org_text_emb)\n",
        "                word_weights[t] += score \n",
        "\n",
        "        # story의 강세 분석\n",
        "        for filter in story_filters:\n",
        "            #print(filter)\n",
        "            last_idx = len(terms)-(max(filter)+1)\n",
        "            pb = ProgressBar(last_idx,prefix='story density scan:')\n",
        "            for conv in range(last_idx,0,-1):\n",
        "                pb.printProgress(+1,f'filer:{filter} {conv}/{last_idx}       ')\n",
        "                t = np.array(filter) + conv\n",
        "                part_sen = ' '.join(terms[t]) \n",
        "                score = self.s_discriminator.similarity(part_sen.strip(),self.org_text_emb)\n",
        "                story_weights[t] += score\n",
        "\n",
        "        #각각의 peak를 산출\n",
        "        word_peaks, _ = find_peaks(word_weights, height=0)\n",
        "        story_peaks, _ = find_peaks(story_weights, height=0)\n",
        "\n",
        "        #두개의 peak가 겹치는 word에 대해 한개 word가 유사도에 미치는 영향이 큰것으로 간주\n",
        "        #해당 word를 유사도 판단 필터에서 제외하고 다시 필터링...\n",
        "        #이를 통해 story에 대한 word를 최대한 추출 한다.\n",
        "\n",
        "        dup_order = []\n",
        "        for i in range(self.org_source_length):\n",
        "            #lst = \"\"\n",
        "            if (i in word_peaks) and (i in story_peaks):\n",
        "                if terms[i].endswith('.'):\n",
        "                    pass\n",
        "                else:\n",
        "                    dup_order.append(i)\n",
        "                    \n",
        "        # Story에 대한 weight을 추출하기 위해, word에 유독 강세가 있는 term을 제외 시킨다.\n",
        "        print('Negative words:',terms[dup_order])\n",
        "        terms[dup_order] = '---'\n",
        "        '''\n",
        "        print('Token table of origin text')\n",
        "        print('---------------------------------------------')\n",
        "        print(' Code         Token      ')\n",
        "        print('')\n",
        "        for index, word in zip(range(len(terms)),terms):\n",
        "            print( f'  {str(index).ljust(8)}    {word}')\n",
        "        print('---------------------------------------------')\n",
        "        '''\n",
        "        self.story_weights = np.zeros(self.org_source_length,)\n",
        "        # 그리고 다시 story 분석 스캔\n",
        "        for filter in story_filters:\n",
        "            #print(filter)\n",
        "            last_idx = len(terms)-(max(filter)+1)\n",
        "            pb = ProgressBar(last_idx,prefix='story density scan:')\n",
        "            for conv in range(last_idx):\n",
        "                pb.printProgress(+1,f'filer:{filter} {conv}/{last_idx}       ')\n",
        "                t = np.array(filter) + conv\n",
        "                part_sen = ' '.join(terms[t]) \n",
        "                #part_sen = part_sen.replace('소녀','---')\n",
        "                score = self.s_discriminator.similarity(part_sen.strip(),self.org_text_emb)\n",
        "                self.story_weights[t] += score        \n",
        "\n",
        "\n",
        "        # base line\n",
        "        base_line = peak_base_line\n",
        "        # 다시 peak 추출\n",
        "        story_peaks, _ = find_peaks(self.story_weights, height=base_line)\n",
        "        print(story_peaks)\n",
        "        \n",
        "        self.story_peaks = np.append(story_peaks,len(story_weights)-2)\n",
        "        print(self.story_peaks)\n",
        "        # story density 표출\n",
        "        plt.figure(figsize=(12, 6))\n",
        "        plt.plot(self.story_weights)\n",
        "        plt.plot(self.story_peaks, self.story_weights[self.story_peaks], \"x\")\n",
        "        plt.plot(np.zeros_like(self.story_weights)+base_line, \"--\", color=\"gray\")\n",
        "        plt.show() \n",
        "        print('Peak count:',len(self.story_peaks))          \n",
        "\n",
        "\n",
        "        # story skeleton 추출\n",
        "        self.frame_text = \"\"\n",
        "        for k in self.story_peaks:\n",
        "            #print(k,term_weight[k],word_table[k])\n",
        "            self.frame_text += self.term_table[k]+' '  \n",
        "\n",
        "        print('Frame text:',self.frame_text)\n",
        "        print('')\n",
        "        print(f'Similarity : {self.s_discriminator.similarity(skel_text.strip(),self.org_text_emb)}')      \n",
        "\n",
        "        for index, word in zip(range(len(self.org_term_set)),self.org_term_set):\n",
        "            self.term_table[index] = word\n",
        "        '''    \n",
        "        print('Token table of origin text')\n",
        "        print('---------------------------------------------')\n",
        "        print(' Code     Score        Token              ')\n",
        "        print('')\n",
        "        for k in self.term_table.keys(): \n",
        "            print( f'  {str(k).ljust(5)}   {str(round(self.story_weights[k],4)).ljust(8)}  {self.term_table[k]}')\n",
        "\n",
        "        print('---------------------------------------------') \n",
        "        '''\n",
        "    def get_org_sample(self, num):\n",
        "        return self.org_sentences[np.random.choice(len(self.org_sentences), num)]\n",
        "\n",
        "    def get_source_embedded_code(self):\n",
        "        return self.org_text_emb"
      ],
      "execution_count": 14,
      "outputs": []
    },
    {
      "cell_type": "markdown",
      "metadata": {
        "id": "7XY59mdNK8ub"
      },
      "source": [
        "##4.5 Generator class"
      ]
    },
    {
      "cell_type": "code",
      "metadata": {
        "id": "M5CLF3WcK6lp"
      },
      "source": [
        "from functools import reduce\n",
        "\n",
        "class Generator(nn.Module):\n",
        "    \"\"\"\n",
        "        Simple Generator w/ MLP\n",
        "    \"\"\"\n",
        "    def __init__(self, input_size=1024):\n",
        "        super(Generator, self).__init__()\n",
        "        self.layer = nn.Sequential(\n",
        "            nn.Linear(input_size, input_size*2),\n",
        "            nn.LeakyReLU(0.2),\n",
        "            \n",
        "            nn.Linear(input_size*2, input_size*3),\n",
        "            nn.LeakyReLU(0.2),\n",
        "            nn.Linear(input_size*3, input_size*2),\n",
        "            nn.LeakyReLU(0.2),\n",
        "\n",
        "            nn.Linear(input_size*2, input_size),\n",
        "            #nn.BatchNorm1d(term_length*4),\n",
        "            nn.Tanh() # -1 ~ 1\n",
        "        )\n",
        "    '''\n",
        "    def forward(self, x, story_peaks, bias):\n",
        "        #biased_noise = torch.randn(N,_NOISE_DIM)\n",
        "        # stroy peak에 해당하는 term에게 평균값에 해당하는 bias를 추가 한다.\n",
        "                 \n",
        "        y_ = self.layer(x)\n",
        "        y_[:,story_peaks] += bias\n",
        "        y_ = nn.Sigmoid()(y_)\n",
        "        #reduce(torch.add, [y_,bias]) / 2\n",
        "        return y_\n",
        "    '''\n",
        "\n",
        "    \n",
        "    def forward(self, x, bias):\n",
        "        #biased_noise = torch.randn(N,_NOISE_DIM)\n",
        "        # stroy peak에 해당하는 term에게 평균값에 해당하는 bias를 추가 한다.\n",
        "                 \n",
        "        y_ = self.layer(x)\n",
        "        y = torch.add(y_,bias)\n",
        "        #y = nn.Sigmoid()(y)\n",
        "\n",
        "        return y, y_\n",
        "\n",
        "    '''    \n",
        "    def forward(self, x):\n",
        "        #biased_noise = torch.randn(N,_NOISE_DIM)\n",
        "        # stroy peak에 해당하는 term에게 평균값에 해당하는 bias를 추가 한다.\n",
        "                 \n",
        "        y_ = self.layer(x)\n",
        "        #y = torch.add(y_,bias)\n",
        "        y = nn.Sigmoid()(y_)\n",
        "\n",
        "        return y, y_    \n",
        "    '''    "
      ],
      "execution_count": 15,
      "outputs": []
    },
    {
      "cell_type": "markdown",
      "metadata": {
        "id": "GLVVmQdxLBHZ"
      },
      "source": [
        "##4.6 Summarizer class (GAN training)"
      ]
    },
    {
      "cell_type": "code",
      "metadata": {
        "id": "Nd8GTS7HKz1H"
      },
      "source": [
        "import random\n",
        "import numpy as np\n",
        "\n",
        "\n",
        "class SAM_Summarizer:\n",
        "\n",
        "    def __init__(self,g_discriminator,s_discriminator):\n",
        "        self.g_discriminator = g_discriminator\n",
        "        self.s_discriminator = s_discriminator\n",
        "\n",
        "    def ready(self,source):\n",
        "        self.source = source  \n",
        "        #self.source.analysis_frame_terms(self.s_discriminator)\n",
        "        self.generator = Generator(input_size=self.source.org_source_length)\n",
        "\n",
        "        return self\n",
        "\n",
        "    def summarize(self,epochs=10,batch_size=2,frame_expansion_ratio = 0.8,init_bias = 1.0,learning_rate=2e-4):\n",
        "        self.frame_expansion_ratio = frame_expansion_ratio\n",
        "        history = self.__train(epochs,batch_size,init_bias,learning_rate)\n",
        "\n",
        "        plt.figure(figsize=(12, 6))\n",
        "        plt.plot(history['gen_g_loss'],label='generator grammar loss')\n",
        "        plt.plot(history['gen_s_loss'],label='generator similarity loss')\n",
        "        #if 'dis_loss' in history:\n",
        "        #    plt.plot(history['dis_loss'],label='discriminator grammar loss')\n",
        "        plt.legend()\n",
        "        plt.show()\n",
        "\n",
        "        return self\n",
        "\n",
        "    # text의 생성 for torch\n",
        "    def __text_gen2(self, noise, gen_length):\n",
        "        gtext = []\n",
        "        sorted_noise, i = torch.sort(noise, descending=True)\n",
        "        order, i = torch.sort(i[:gen_length], descending=False)\n",
        "        #print(len(order))\n",
        "        assert len(order) == gen_length\n",
        "        order = order.cpu().detach().numpy()\n",
        "        for k in order:\n",
        "            gtext.append((self.source.term_table[k],k))\n",
        "        return gtext\n",
        "\n",
        "    def __discrete_gradient(self,weights,gen_length,use_gpu=False, verbose=0):\n",
        "        fake_gen_out = torch.zeros(weights.shape).to(device)\n",
        "        fake_sim_out = torch.zeros(weights.shape).to(device)\n",
        "\n",
        "        real_text = self.source.get_org_sample(weights.shape[0])\n",
        "        fake_outs = []\n",
        "        real_outs = []\n",
        "        apply_order = []\n",
        "        for i, noise in enumerate(weights):\n",
        "            gtext = self.__text_gen2(noise,gen_length)\n",
        "            tw = \"\"\n",
        "            tk = []\n",
        "            fake_scores = []\n",
        "            for (w,k) in gtext:\n",
        "                tw += w + ' '\n",
        "                tk.append(k)\n",
        "                if w.endswith('.'):\n",
        "                    fake_outs.append(tw.strip())\n",
        "                    real_outs.append(real_text[i])\n",
        "                    apply_order.append((i,tk))\n",
        "                    tw = \"\"\n",
        "                    tk = []\n",
        "                    \n",
        "            if len(tk) > 0:\n",
        "                fake_outs.append(tw.strip())\n",
        "                real_outs.append(real_text[i])\n",
        "                apply_order.append((i,tk))\n",
        "\n",
        "        D_z_loss, fake_gmr_out=self.g_discriminator.transfer_learning(fake_outs,train_for = False)\n",
        "        D_x_loss, real_gmr_out=self.g_discriminator.transfer_learning(real_outs,train_for = True)   # not use of 'real_gmr_out'\n",
        "\n",
        "        f_sim_out = []\n",
        "        for fake_text in fake_outs:\n",
        "            f_sim_out.append(self.s_discriminator.similarity(fake_text,self.source.org_text_emb))\n",
        "\n",
        "        #if use_gpu:\n",
        "        #    apply_order = torch.FloatTensor(apply_order).to(device)  \n",
        "        \n",
        "        #print(fake_dis_out)\n",
        "        \n",
        "        for j, (i,tk) in enumerate(apply_order):\n",
        "            #fake_gen_out[i,tk] += fake_dis_out[j].numpy() --> 이거는 tf 용...\n",
        "            #fake_gen_out[i,tk] += fake_dis_out[j] #.cpu().detach().numpy()\n",
        "            # \n",
        "            try:\n",
        "                #print('fake_gmr_out:',fake_gmr_out[j,1])\n",
        "                #print('real_gmr_out:',real_gmr_out[j,1])\n",
        "                #fake_gen_out[i,tk] += torch.sigmoid(fake_gmr_out[j,1])\n",
        "                fake_gen_out[i,tk] += torch.tanh( fake_gmr_out[j,1])\n",
        "                fake_sim_out[i,tk] += f_sim_out[j]\n",
        "            except Exception as ex:\n",
        "                print(j,i,tk)\n",
        "                print(fake_gmr_out)\n",
        "                raise ex\n",
        "\n",
        "        return fake_gen_out, fake_sim_out, D_z_loss, D_x_loss\n",
        "\n",
        "\n",
        "    def __train(self, epochs=10,batch_size=10,init_bias = 1.0,learning_rate=2e-4):\n",
        "        # In the Deepmind paper they use RMSProp however then Adam optimizer\n",
        "        # improves training time\n",
        "        #generator_optimizer = tf.keras.optimizers.Adam(1e-4)\n",
        "        # This method returns a helper function to compute cross entropy loss\n",
        "        #cross_entropy = tf.keras.losses.BinaryCrossentropy(from_logits=True)\n",
        "\n",
        "        # Set the seed value all over the place to make this reproducible.\n",
        "        seed_val = 10\n",
        "\n",
        "        random.seed(seed_val)\n",
        "        np.random.seed(seed_val)\n",
        "        torch.manual_seed(seed_val)\n",
        "        torch.cuda.manual_seed_all(seed_val)\n",
        "        \n",
        "        criterion = nn.BCELoss()\n",
        "        #D_opt = torch.optim.Adam(D.parameters(), lr=0.0002, betas=(0.5, 0.999))\n",
        "        G_opt = torch.optim.Adam(self.generator.parameters(), lr=learning_rate)\n",
        "        D1_opt = AdamW(self.g_discriminator.discriminator.parameters(),\n",
        "                        lr = 2e-5, # args.learning_rate - default is 5e-5, our notebook had 2e-5\n",
        "                        eps = 1e-8 # args.adam_epsilon  - default is 1e-8.\n",
        "                        )\n",
        "\n",
        "        \n",
        "        gen_length = len(self.source.story_peaks) + int(len(self.source.story_peaks)*self.frame_expansion_ratio)\n",
        "        pb = ProgressBar(epochs,prefix='Train...')\n",
        "        gen_gmr_loss_history = []\n",
        "        gen_sim_loss_history = []\n",
        "        dis_loss_history = []    \n",
        "\n",
        "        #model 들은 cuda로 보낸다.\n",
        "        self.g_discriminator.discriminator.to(device)\n",
        "        self.g_discriminator.discriminator.eval() # 학습하지 않는다...\n",
        "\n",
        "        self.generator.to(device)       \n",
        "        self.generator.train()\n",
        "\n",
        "        self.bias_w = init_bias\n",
        "        initial_bias = 0\n",
        "        G_s_loss = torch.tensor(0)\n",
        "        G_g_loss = torch.tensor(0)\n",
        "\n",
        "        for i in range(epochs):\n",
        "            '''\n",
        "            noise = torch.randn(batch_size,self.source.org_source_length).to(device)\n",
        "            bias = torch.zeros_like(noise).to(device)\n",
        "            bias[:,self.source.story_peaks] += self.bias_w \n",
        "            with torch.no_grad():        \n",
        "                sw, sw0 = self.generator(noise,bias)\n",
        "\n",
        "            self.g_discriminator.discriminator.train()          #discriminator는 evaluation 모드로 전환\n",
        "            fake_gmr_out, fake_sim_out, D_z_loss, D_x_loss = self.__discrete_gradient(sw,gen_length)\n",
        "            \n",
        "            D_loss = D_x_loss + D_z_loss      \n",
        "\n",
        "            self.g_discriminator.discriminator.zero_grad()\n",
        "            D_loss.backward()\n",
        "            D1_opt.step()\n",
        "            self.g_discriminator.discriminator.eval()\n",
        "            '''\n",
        "            if True:\n",
        "                noise = torch.randn(batch_size,self.source.org_source_length).to(device)\n",
        "                bias = torch.zeros_like(noise).to(device)\n",
        "                bias[:,self.source.story_peaks] += self.bias_w\n",
        "\n",
        "                sw, sw0 = self.generator(noise,bias)\n",
        "\n",
        "                with torch.no_grad():                \n",
        "                    fake_gmr_out, fake_sim_out, D_z_loss, D_x_loss = self.__discrete_gradient(sw,gen_length)\n",
        "                \n",
        "                if i%2 == 0:  # grammar와 similarity를 각각 한번씩 교대로 학습한다?\n",
        "                    # grammar loss function...\n",
        "                    #G_g_loss = criterion(sw,fake_gmr_out)\n",
        "                    # similarity loss function...\n",
        "                    #label_sim = torch.ones_like(fake_sim_out)\n",
        "                    sw1 = sw * fake_sim_out\n",
        "                    G_s_loss = -torch.mean(sw1)\n",
        "                    G_loss = G_s_loss    \n",
        "                else: #if i%2 == 1:\n",
        "                    #label_gmr = torch.ones_like(fake_gmr_out)\n",
        "                    #sw1 = sw * (label_gmr/sw - fake_gmr_out)\n",
        "                    sw1 = sw * fake_gmr_out\n",
        "                    G_g_loss = -torch.mean(sw1)\n",
        "                    #print(G_loss)\n",
        "                    #label_gmr = torch.ones_like(fake_gmr_out) # * (gen_length/self.source.org_source_length)\n",
        "                    #ins2 = torch.mean(label_gmr)\n",
        "                    #print(ins2)\n",
        "                    #G_g_loss = criterion(sw1,label_gmr)\n",
        "                    G_loss = G_g_loss\n",
        "\n",
        "                self.generator.zero_grad()\n",
        "                G_loss.backward()\n",
        "                #print('backward:')\n",
        "                G_opt.step()\n",
        "                #self.generator.eval()\n",
        "            #print('step:')\n",
        "            gen_gmr_loss_history.append(G_g_loss.cpu().detach().numpy())\n",
        "            gen_sim_loss_history.append(G_s_loss.cpu().detach().numpy())\n",
        "            #dis_loss_history.append(D_loss.cpu().detach().numpy())\n",
        "\n",
        "            pb.printProgress(+1,f'{i+1}/{epochs} epochs, Generator / grammar loss:{G_g_loss}   similarity loss:{G_s_loss}') #,   Discriminator grammar_loss:{D_loss}        ')\n",
        "            \n",
        "            \n",
        "        self.generator.eval()\n",
        "        self.g_discriminator.discriminator.eval()\n",
        "        \n",
        "        plt.figure(figsize=(12, 6))\n",
        "        plt.plot(sw0[0].cpu().detach().numpy(),label='before activation weights')\n",
        "        plt.plot(sw[0].cpu().detach().numpy(),label='after activation weights')\n",
        "        plt.plot(bias[0].cpu().detach().numpy(),label='bias weights')\n",
        "        plt.legend()        \n",
        "        plt.show()\n",
        "\n",
        "        return  {'gen_g_loss':gen_gmr_loss_history,'gen_s_loss':gen_sim_loss_history} #,'dis_loss':dis_loss_history }\n",
        "\n",
        "    def get_summary(self, count):\n",
        "        texts = []\n",
        "        self.generator.cpu()\n",
        "        self.generator.eval()\n",
        "        gen_length = len(self.source.story_peaks) + int(len(self.source.story_peaks)*self.frame_expansion_ratio)\n",
        "        noise = torch.randn(count,self.source.org_source_length)\n",
        "        bias = torch.zeros_like(noise)\n",
        "        #bias = torch.randn(1,self.source.org_source_length)\n",
        "        bias[:,self.source.story_peaks] += self.bias_w #self.last_bias_max.cpu().detach().numpy()\n",
        "        #bias = 0\n",
        "        with torch.no_grad():\n",
        "            sw,sw0 = self.generator(noise,bias)\n",
        "            #sw,sw0 = self.generator(noise)\n",
        "\n",
        "        for noise in sw:\n",
        "            gtext = self.__text_gen2(noise,gen_length)\n",
        "            text = ' '.join([w for (w,k) in gtext])\n",
        "            #print(text)\n",
        "            texts.append(text)\n",
        "        return texts"
      ],
      "execution_count": 16,
      "outputs": []
    },
    {
      "cell_type": "code",
      "metadata": {
        "id": "hLybOrSW9Blt",
        "colab": {
          "base_uri": "https://localhost:8080/"
        },
        "outputId": "d27633fe-96ec-433b-b7c7-72d2a0ed6ff1"
      },
      "source": [
        "a = torch.tensor([1,2,3,4])\n",
        "b = torch.tensor([5,6,7,8])\n",
        "a*b/a"
      ],
      "execution_count": 17,
      "outputs": [
        {
          "output_type": "execute_result",
          "data": {
            "text/plain": [
              "tensor([5., 6., 7., 8.])"
            ]
          },
          "metadata": {
            "tags": []
          },
          "execution_count": 17
        }
      ]
    },
    {
      "cell_type": "markdown",
      "metadata": {
        "id": "oCdfO9iuLH6D"
      },
      "source": [
        "#5. Experiment"
      ]
    },
    {
      "cell_type": "markdown",
      "metadata": {
        "id": "AQHv2pdCaynu"
      },
      "source": [
        "##5.1 Experiment plan"
      ]
    },
    {
      "cell_type": "markdown",
      "metadata": {
        "id": "7zHwgMmWNnwa"
      },
      "source": [
        "한국어의 abstractive summarizer는 현재 비교 대상이 없기 때문에, \n",
        "한국어 BERT를 이용하여 Extractive 방법으로 요약한 결과와 비교 검증한다.<br>\n",
        "1) sentence-transformer에 의해 BERT기반으로 문장별 Embedding한 후 LexRank으로 Extractive 요약한 방법<br>\n",
        "2) bert-extractive-summarizer 방법<br>\n",
        "3) bert-extractive-summarizer + koBERT 모델 적용 방법<br>\n",
        "과 이번 제안 방법의 Similarity 를 비교 한다.\n",
        "하지만 전체 스토리를 포함여부를 판단하기 위해, 원문을 3등분하여 각 부분과 유사도를 어떻게 갖는지 확인 한다.\n",
        "비교적 단문 스토리와 장문 스토리를 구분하여 실험한다.\n"
      ]
    },
    {
      "cell_type": "markdown",
      "metadata": {
        "id": "OokGB5mxi0yb"
      },
      "source": [
        "Since the Korean abstractive summarizer is currently not subject to comparison, the results summarized by the extractive method using Korean BERT are compared and verified.\r\n",
        "\r\n",
        "1) Method of extractive summary with LexRank after embedding each sentence based on BERT by sentence-transformer\r\n",
        "\r\n",
        "2) bert-extractive-summarizer method\r\n",
        "\r\n",
        "3) How to apply bert-extractive-summarizer + koBERT model\r\n",
        "\r\n",
        "And the similarity of this proposed method. However, in order to determine whether the entire story is included or not, the original text is divided into three part and checked how it has similarity with each part. Experiment by dividing a relatively short story and a long story document."
      ]
    },
    {
      "cell_type": "markdown",
      "metadata": {
        "id": "b1xk3-chTQZD"
      },
      "source": [
        "![image.png](data:image/png;base64,iVBORw0KGgoAAAANSUhEUgAABGEAAADQCAYAAACnSXzxAAAgAElEQVR4Ae2dPa/dRrKu138RBG39EQUKhA2l8wsc+SY2FCi8oSPD2QhQZOAGPnByEwOTOdhO7MCADw7umSMMxsYA1p1jQddjy7Y+eNEkiyw2u8muRa6v4iNAWHuTxWaz6ulm1bt7kbuKf3gAD+ABPIAH8AAewAN4AA/gATyAB/AAHsADB/fA7uBn4AR4AA/gATyAB/AAHsADeAAP4AE8gAfwAB7AAxUiDBDgATyAB/AAHsADeAAP4AE8gAfwAB7AA3jgCB6oRZjn/++P6t//8S/+4wMYgAEYgIGLZCDcL7mPbfc+/rd/vqp++f0NDDiev/548676zx9/JcaOY2yZwwMLgQnLMdhu9x5hiT35BJxYeCm1jXWdWoT5t6+fV3/683f8xwcwAAMwAAMXyUC4uXEf2+59/H/+77/VxRgM+GUg/MHwf/yv/8M45x5VMxBYCEww5v2O+VPFlnwCpg7BHiIMNy9uWDAAAzDgjgGSpm0nTYgw/uOPCOM/xpbCBxEGHiy8WGzJJ2DLwkupLSIMxZe74qsUfuyYVGHALwMkTX5jWzJuEWH8xx8Rxn+MS8a62CDCwIOwsPYn+QRsrc1UaC/+x9eREGUQZWAABmDg4hkgadp20oQI4z/+iDD+Y2wpfBBh4MHCi8WWfAK2LLyU2iLCUGxdfLFVCjt2TKIwsB0GSJq2E+vUuEaE8R9/RBj/MU6N7dw2RBh4yLGxdDv5BGwtZSh1PCIMIgwiDAzAAAy4Y4CkadtJEyKM//gjwviPcapwyW1DhIGHHBtLt5NPwNZShlLHI8JQfLkrvlKgs40JFAa2xQBJ07biHY9vRBj/8UeE8R/jeFxP/Y4IAw9TfCzZRz4BW0v4yR2LCIMIgwgDAzAAA+4YIGnadtKECKPi/9nz6gfJ9p5972asn6cI8331lfj6p+fVh9xbjsbbtkQYI2d/eSlUVj98/ddxTBJzxMfP5JDfqn/7TM0nG2Q6eCJXSLP9EGwY+b5QJmWEyScP5r3QQDIJHGISoE24goFLZeCSk6YP//K8+uqn3+S+XFXVb9UPz55XH+cS4bkEW9/XlG1VUJD3iXhVffWXyxkPpxNhVPKoIlj+40TBowulmQYHhZY+riDmlzLmDyfC/LX6t59mHCy7R0KLiv9o38LxY43jRsa68HppIoyeWwWnqc/h/GvkTLEwmBvk3pBgq+/fxJwkxzv/DHERztx9Kjam+EvtGzIZzW+q3SRzk/uNfF8of7FPEWEuNJDuJgXi4HfCJ7bE9ggMXGbS9Nfq42dafIlv0b+lhZDJZCafGCHCRL5ZhUuVPMbhK/p9ouDRhdJMW4PkWB+HCFMw/xpEmKk4ZESYD7+eGuO6wYgFaxzVvOB5rEv+iwgzMZ8pFpIFcYItRJjen2FUCmfuPhUbevYp+Xlwn4nvn6rdJHOT+9V9NDOPeohD7GNEmBgifvc78RBbYgsDbhk4WNKkk9X4Djr5e1RQJdgrK84S7UwmM30iWSctynayu4mdkwlX4npOmSRteyVMxIhmFhGmYM4rF2G+etZ/zWM0ZDLFQ9k4D60tjONGxrrMM4gwaq7XY34E5nBDPa9r+3aOQITp/Rk8Jpy5+zzUPGFodyzSIML4Be7MkkV3Axr/MnZgAAZOzMDBkiadrA5z2ZnfooIq9k/U7g9ff98/T+Kz74dfj4iLO5XsjJOZPpGs7zXKdqbDo92IMJEv4xhmf/9r9fHXL/vnsrSeHcQ4e2zhOTU/MR96HyLMsrn5s6g4mBpPcRzaGCPCFDJtHBOXJsKMc/+Ircnrn7HVY340kw83IMLM8xg8No7X/HEXcYyewwruD704N/MVZd3uEDnbb5l59CJ8OzmGvxv5gZUwMw7zEHSuwcnECat+b4rEdnFsD5Y0GZLb4R12WoQZFGbJREgl3fFfyFWygwjTzO+nWwnzXfXhZ3+tPvzs+1p4+ark2SI/vay++vr76uP6uP3uT5qfEQOa2SRb+53z1LnE4Z4Jk/GH9mM8Brs5W43TTPEwGas/61U40Zyhz18SRzUvDOei+d8uSXAVDhFhFLealZlwI8Iov3XjeLgtuFA4c/ep54mCeQURZsjGEh7ioYkIkxmAS5zMsesBiy/xJQzAQAkDB0uadHKbKbJK+hfblCQ2WRuVRI0K8Piepmw9PyfiFCKMLq7j5Kr+/aeXzVtGwmqKGXHGVgSrwr96WX0cx1wzW5Bkx2ye6+9HE2E+Gz+rKR8fFYvM/KA5GY/XQhFmAFgk1kj8NzLWhc+LF2H0OI3GsWZmEPrwS4Yz8Uv9OceCPnc7R/T3mwxfwtkGPoObB/70dM1zbETX2nNRvhJmPM99V/1Jn3cEtdpQwnfUx0uJlbrK+kdEmAsN5KUARz8poGEABo7BQLijHeQ8OlldMTkoSWyyNiqZSSY7+r6mbBFh1h6LuoBW6VUQX/4yfi3sh395Wf2QEmOMXGkukvHXzKpujZ45ojm5gJ8PK8L8tRq/pSw4Tz8cWwkuA7+2v2TiqAvqcbw0Q1Hxa43jRsa6zPOXLsJoLgJBmo143wC3DGfil/ozxYLephtEhBnlDsE9A39ewPxY3N8cB5qJzM95MXoosmiWu36p8473q7m1hO8LjUfsVkSYCw1kBzX99ztREltiCwPFDBwsadKF0IrJwSDJTq5WUElJ/FWIyWQmEhqUbZwAzP0+mXCdGZunWAlT34db//4QhBf9XJ8p/4SVFl83ryX/ISq+5u7tg7dpJbn5rvqTZnYQ5KjIn+rjGe47jAgzsUrpp5fRa+L1mBw4tvklMz8MxnrisH5TFB9rHDcy1mWMXLYIo8U3IaCP/yQzGc7EL3peqluWeSLHByLMKM8Ifhv48wznw737l+NAMJz4nMwJDO0iwjRORoTxNLC4Fr+TJrEltjAwycDBkiZdCJUkv6Vx0u3WhbjfB/OOVxj8Vv3wTF1vqc8m7E4mwkz0ae8kOdlm9BWZIBAk7Q4jwhwjhnP+OowIM/wLbp0a/xRWv4xXMv3pzycUYaSQzsU8bDcUQXGdNVlcTZ0z2ndMTi5ZhMmLLL0QMxwPir2C+9CgfbHP8XEAEeaYHAz9FP0RIuKz1PZg+cSe/Sntd5FdjoN4Ukj8PjlPGNpFhGmciwhzDgOCPkwWV0WTCj7EhzCwaQYOljRpsUSS2ZVY018rSeQ77aZEUq6SnXEyEyWhyjZ/jvSeyYSryAepv/aqc63oz2OLMIMiR13Skh+zsRy9LWtCgAlx0cyWFO+TsTxeDOfu9QcTYf78XRVWGIXVTOFhyXP9GO6fL47LWYnGujWOGxnr4v+LFWEGcQrMKYbaCWQsUiub2XkzHrMRV5k5or8fJewn5wh9z4nPHc2Is33XbZ3u59Br4YzPwjgMuI7iHv06vtdZ+C7sTzGzx2svckOFCHOGQWLAH29A4Gt8DQM+GDhY0qQLofgOOvP7ONGIfR2tbhi1l/mLvEp25s8Rn/N4vw+LT/XVDhEVVkzIfYowDR/hK0vdvxKfaWYXijDHjOHcXHxIEWbu3OyfnjdOwcklijD1c6G6wawedJoQYobPcDIUqer+IKca3ScSc8QaIswpODjE2Ax+O0S7p2pzGBehYtnniKlF9bSB70XnmZ7HDh2f2OOIMBcczEPDQvunHaz4H//DQDkDB0uadLIa30Fnfi9NUtJLt59Hz6NQvlBJduk5TsFSn9RX1fihwM1zUT5c6R7sToQZcZcR5FL+08cuFGGOGcM5Ro8jwsz8JX9qzBcIZHsXQwvjOOfbpftPwclFiTBBeH7224Ce8dw9ZG+4v7RIVXaDs0WrWxJzRB/DyDY1x2S29W0cfs5fyuzU8cF1U/svbd/e886AoeEvQz5VfpJh49J8doj+Dj1YsRLmEE6mTQYjDMAADByXgYMlTTpZje+gM7+fKkk5l4RrkJCHhwsnn7OxDifHFmFKxreOw14s1K+23uP5OZrZhcX7MWM451NEmPFY0YzNTEfFu/dh9RScXJYI87zSK9qmfNy8Re15NRSolbiSFfuGIk5YSTN4G5s+LjFH9DFcSYQ58Jw/N18s2R8Gy5Ljz+3YU8wTNp5K+B7Pf+fm57n+xJMwK2FQ7FxNNHMDgP2XP4kRQ2KYYuDYSZNOaqYS6lRfx9uMCcjMShjdt/imv+/ve12j6md/3lZU+Gxdjs9DhOlfc6wLrsG1t6+vHhZY6/pi1WfCHDGG43Ex9AsizNAfwV9bHOvCyUWJMKHWCMJHGP97zX1z94hYgGlfea3FljARyRu/9PZWqLUVzWMW67ic0XwhnOzzGVy1z3EXfUyCiSXXY+Npju8MbxdWw/e5QPMTIsyFBXDJgOBYH4OYOBJHGBgzcOykSRc/ewkUg3uPMQFRiW7q3Lpv8U1/399T5ynhMH4Ggj5/ePhkSRslNicXYXQCqy8y+7Ptr806prOx0H1ZwcfHiuFcnI8jwoznlul+GcfuYNzPnKsgjpqLLGrGHbN8Za7h2JxcnAgz8Jvippp50HZ9nLLXK1raNvuCtw22tlH3i3pv2Jdgq2/DNjfF4+PYHMTnX+P34Kc12rmoNhJMLOl/z5NxAtLsDsbMzHx5AbaxJxBhLiBoSwYBx17+oCWGxBAG5hk4dtKki599i5Y+rirBju/SM7/ve+51+z8XH1khMr6Y5W9gas59UhFGJ6/jS5zYUl7smOKl+7OCCNNwevgY9uMhzdNxRJjxioKJAA53FRQPOo7Dg2d+WxBHfc5954u52PT7j8cJIoweJ5rbsajTM9DOOYk5oi+ay+elPu66L+Hn43GQ70Pcp/Lfw2g8RLvn0GbPQrtaSurgBBNL+tvzNDO3xbsL5tEl/TrlsfGlIsIIfHy6nXBOOeA4d/lND1/hqyUMrJk06SQlvmnu+/t08eNdhFFsR28BmfaLOm7mHn1KEWbAi3zdKPWVg8/GhUnp9etzlB6zZDxNHnugGE6e88/fVYgw5eNB+/Jk7ByYk22JMCWx/776KnzdKDNXBg66uSNRcPdF8xoijOrvgTnQrK/185r5xFp9Wqud7HyQYGLJOXuejFkTIowaPJnBvCQwHIt/YQAGYAAG1mRgzaRJJynG9CFr3iW/yXuqTxHm42eJ57989rz6SnnJw0oYnWwWXY/+ekDhCgfN5DRL684rx4zh3HyACLNfbI/Bzik4QYTZj4d6nCUK7n4e21+EOQUHc/PGPvvXzCf2Of8hjznGfBD6b+NJ5UCIMAsGdjLBpL1DDijahi8YgIGtM7Bm0qSTFKUXLPpxunA2JiCqiJ9uNz8u9DXu28Ycc30SlnFdoQAxd56w/2xWwlTNq6Q/zK6EeVn8lhR93ceIlz6f/HzMGMo5c5/HF2H2L0Zz13CKOB7jnKfgBBEmP7/n+Ou2H0yEycz1snnFOb+7lgPUnaG7h2z/lG0fYz4I19fPCSXzqDEHOkDMjxETGQbyydeRLjSQx4CFcyy4wcGV2xsY4+I8x8VlJ00qAZG7c+HnvgLKMRKx+q+io+sIr019ufrrqk8pwgzeRjS63qkNJclpM950vKZaTO0rWp2TuWcdM4Zzc+vxRZiUN6e3zY3HU8RRn3Ouf3MxyO0/BSd+RJhppsZ7y+eNXLwGc1YrjNiK5nQecAoOsteYmdNK7IPPS+wu0UbPB2O2ZrYYRLSep5k2492shEkPrkuEjT4TSxiAARjwz0C4j19unH2KMMeMx0lFmJDsh69Z/RRnkxO/G19VuyRxXiLCHDOGc+dChNlvHtfsHEqEmYvdIfYjwuzHQx2LA62EOUScT9HmZecT01zo+WDiDpXehQizKM+MncpKmAVK6SkmBs45PbngH/wDA9tk4LKTJkSYpeP25CJMm0t8+Jfn1VfhWTgpQean8Iyc53utAlqSOCPCWOZE/ZaZOGWe/31O5DhFHPU55/q3dBwe83hEGAvX87b9yoUVVtpceG112fnEdKz1fDA/o0UWiDCIMMec5DnX9GDGP/gHBmDgHBjwnDSdg3+bPpSLRccu/M9FhDmfWOXmpfON4ZzvjrMSJue3rW0/f04uW4S5FJ7On4O5eWOf/eQTl8LnZfUzkrQqVsJcuFq7z+TCMZc1aIkX8YKBeQZImuZ9tJyj803IEWFK43++MZzjExGmNMZr2J0/J4gwa8R5ro3z52Bu3thnP/nEHBfs35crLcQgwiDCLFpatQ+EHMPkBQMwsDYDJE3HYOp8E3JEmNL4n28M5+YERJjSGK9hd/6cIMKsEee5Ns6fg7l5Y5/95BNzXLB/X64QYRBeEF5gAAZgwBUDJE3bTooQYfzHHxHGf4wthQ0iDDxYeLHYkk/AloWXUlstwISfWQlDIeaqECsdCNgxwcKALwZImnzF0zo+EWH8xx8Rxn+MLeMeEQYeLLxYbMknYMvCS6ktIgyiC6ILDMAADLhjgKRp20kTIoz/+CPC+I9xaTET7BBh4MHCi8WWfAK2LLyU2iZFmP/78x/Vv//jX/zHBzAAAzAAAxfJQLi5cR/b7n38b/98Vf3y+xsYcDx//fHmXfWfP/5KjB3H2DKHBxYCE5ZjsN3uPcISe/IJOLHwUmqbFGHijfyOB/AAHsADeAAP4AE8gAfwAB7AA3gAD+ABPLCuB+pnwqzbJK3hATyAB/AAHsADeAAP4AE8gAfwAB7AA3gAD8QeQISJPcLveAAP4AE8gAfwAB7AA3gAD+ABPIAH8AAeOIAHahHmp59/r/7rHz/zHx/AAAzAAAxcJAPh/sh9bLv38X/889fq1e9vYMDx/PX6zbvq7z/+Qowdx9gyhwcWAhOWY7Dd7j3CEnvyCTix8FJqG+s4tQjz44tX1bfPXvAfH8AADMAADFwkA+Hmxn1su/fxkAT969VrGHA8f/3++m31H39/SYwdx9gyhwcWAhOWY7Dd7j3CEnvyCTix8FJqiwjDzYsbFgzAAAy4Y4CkadtJEyKM//gjwviPcWkxE+wQYeDBwovFlnwCtiy8lNoiwlB8uSu+SuHHjkkVBvwyQNLkN7Yl4xYRxn/8EWH8x7hkrIsNIgw8CAtrf5JPwNbaTIX24n98HQlRBlEGBmAABi6eAZKmbSdNiDD+448I4z/GlsIHEQYeLLxYbMknYMvCS6ktIgzF1sUXW6WwY8ckCgPbYYCkaTuxTo1rRBj/8UeE8R/j1NjObUOEgYccG0u3k0/A1lKGUscjwiDCIMLAAAzAgDsGSJq2nTQhwviPPyKM/xinCpfcNkQYeMixsXQ7+QRsLWUodTwiDMWXu+IrBTrbmEBhYFsMkDRtK97x+EaE8R9/RBj/MY7H9dTviDDwMMXHkn3kE7C1hJ/csYgwiDCIMDAAAzDgjgGSpm0nTYgw/uOPCOM/xrniJbUdEQYeUlyssY18ArbW4ChuAxGG4uuMiq+n1b3drtrdflR9TlzOKC5MvvHEye/nzwRJ0/nH6JDjCBHGf/wRYfzH2DJHIMLAg4UXiy35BGxZeCm1XUWE+ej+rtqF4nn0/6q6df9ppqC+qd67nTpGb7uuPlLFeP48u+rW7evqvU9uhoXrJ9eJPun2hz/fej86Xp271KHa7vP3r+rz3/vkPOA1+2/h9WtflP2MCFPmp/Pgib4Sh3NmgKRp23wiwviPPyKM/xhb7jGIMPBg4cViSz4BWxZeSm0PLMK0IsftoZjSdG5dEUYEoCD6dBePCNP74tmLakqESfoPEWbgv46ro/uFyQ/fw4CVAZKmbTODCOM//ogw/mNsmfcRYeDBwovFlnwCtiy8lNquKMJcVe99MQzS5188re7JahctjtRFrIgw4+NynRcRYbyy5Kb6qF11EsSE8f6+X7I6Ze1VL6k+y7mm+pM67lDb1vDfofrWtMtKmMP6tx8HnAdfeGeApGnbjCPC+I8/Ioz/GFvuU4gw8GDhxWJLPgFbFl5KbQ8qwtSd+OJRdSv5nI81RZgGDhE9diPBp4dHbBBhep8ILOKbKf+J7WE+EWEO49dxrDkPPvHOAEnTthlHhPEff0QY/zG23KcQYeDBwovFlnwCtiy8lNoeXoR5lius1xdhvs0KPj08IjTsJcK07ZeubJFzldqXBm1fu/xKmNY/Bf7b99xlx+VY6eNX1g72+AkGts4ASdO2xwAijP/4I8L4j7HlPoYIAw8WXiy25BOwZeGl1PbwIkz7XJax6IEIkw5S+GrVdXVLvsZVryJKPHRYBJNd6nk7/fNftAC0SIT5ItGvXe7By0Mx5fNPHvVfS8tdT/0VteFx2j8iaO0y16tt+ZnJEgZggKRp2wwgwviPPyKM/xhb7uWIMPBg4cViSz4BWxZeSm0PKMLcVJ9/cp35KlII5voijIgMY8Gnh0eK+SmbrPMOvhJGPUNn9KapXRX3OXstItBEX8sS/2hhRl+r7I/P08dq+DYpeZjv+JXSvZiin9XT2bfXNu5Hf5x+RXXgqDn2uvooeu6Q7j8/95zjC3yxdQZImrY9BhBh/McfEcZ/jC33MUQYeLDwYrEln4AtCy+ltiuKMOkC/db7+7+iOhYDRCQYFe9hlcb95nXQu+SbmHp4ssJFyRtvDirCiCi1q4KoocWGsJKkfq7OLn6IsRyjt8u28QqZ/f13U713/6q698lN9bkWQcKDl2tBRZ8/+Fq2N0wMXlP+xdP+1eS3H0WvL0+IMAgwvKGpZGxiAycRAyRN/X2vNCHwZIcI4z/+iDD+Y2yZkxBh4MHCi8WWfAK2LLyU2h5chKlXMARhRBfvdbIsYkFavAnH5USYeEWF/H7rflzUj6E5WxFGxIZo9UoXyNz+aNWLXN9IqCp4RXWJ/7r+tAWPnG8Yq16EGW6XeMj+jHgj4oyspBqJT9IOn3E8+B0mYKBhgKRp22MBEcZ//BFh/MfYcj9DhIEHCy8WW/IJ2LLwUmq7oggTF9Qvqm/1CpXRszxEhEkcF/1FUy5GVnKI6KI/wyoNsZv6TIsGCbhE3Eh8LUift/k5fQ1yrpQgEvexubZ0O41tYpVI6yfxy71PWpuMkCN24/6H13qX+C98xexp9d796+re7avBc2uGYouILOPVOHLd6etV19j5f8onibhl2JHz8onPYGAbDJA0bSPOufGMCOM//ogw/mOcG9+p7Ygw8JDiYo1t5BOwtQZHcRuHFWFGIoEO4v4ijBY1+q/qjFfOxBcbfhdhZCga6H61P3ciQH6lTi9mpIUCOZfub6pPs89c0UKQrBIZiA0ieoS+zgkfQXDpr7fUf93XvXRf1M9DfyoxZdDP/ryTIkx44G/ddtqvaR/2bbMfX8AADJA0bZsBRBj/8UeE8R9jy70cEQYeLLxYbMknYMvCS6ntUUSYb5NfpVlHhKkvtBNM5ot2EUaGokEhXO15tIgx5Wg517y9+KJE8EmJLPr41P7m+mQlzKg/M/6T69jtrqp77z+qPqqfDXNTP89F9g39uVCEuR1W2jS+GLZbGKeM8DMVK/bhWxjwxQBJk694WscnIoz/+CPC+I+xZdwjwsCDhReLLfkEbFl4KbX1IcKEoluEnuRKkR6etGjQ75903MFEGHml9LyIlOqfXNO999u3CM18HWkkwkz6TwSetLgj5x6KJUtFmPBsn/5NUcO2C2OFEFP09bwUT2yDMQ8MkDRtm2NEGP/xR4TxH2PLvQgRBh4svFhsySdgy8JLqe1RRBhZgTEspqW4LxcepJ2kiNC98nr6a0lp0aAQrgOKMCIiDX1U0C9ZxdIKL1M+mtqnvxI17IN81Sklwsi+2OdriDDh2nPtF/gFEQYRBgY2zQBJ07bnSUQY//FHhPEf49JiJtghwsCDhReLLfkEbFl4KbU9rAhzoAfzpkWY8CDg3Kuce3jOVoTRgsP9p8NXQT8Lr4YOK0Ouq/cGb5kSkUILJKltzfVPizA5/4lYFoQW9brxuj+76tbt5tXgSeFmYlVS05dYgEuIN91rsGOhp49pKezY4TMY2A4DJE3biXVqXCPC+I8/Ioz/GKfGdm4bIgw85NhYup18AraWMpQ6fkURZup5JnGxHYLZF/f9A27HbWjBZVZEUA/e3WUEgFOIMFPXt9NfHepEpLEfmjaGfsz5Q65x0LZ6RbX2aQxFd6z2n3zVSz2It+5PsGn3HUyECasZlF+G52FSiOPH7zABAw0DJE3bHguIMP7jjwjjP8aW+xkiDDxYeLHYkk/AloWXUtsDizBX1a3Rqg4J5GFEGC3upAp2ERlS+0qdVmon5yoWYWrBIbwCWt4OJGJM8OOj6qMv1GukRRjRYkn39Yvet1pwyYk2w+vpj9U+CmLLrfZhueF66riG8x1DhEGI2fTXSoZ8yvzBJ36ZZoCkado/3vlBhPEff0QY/zG2zFOIMPBg4cViSz4BWxZeSm1XEWFKT4YdEMMADMAADByDAZKmbXOGCOM//ogw/mNsuVcgwsCDhReLLfkEbFl4KbVFhOlWjwBYKTTYwQoMwMC5M0DStG1GEWH8xx8Rxn+MLfcZRBh4sPBisSWfgC0LL6W2iDCIMHzVBQZgAAbcMUDStO2kCRHGf/wRYfzHuLSYCXaIMPBg4cViSz4BWxZeSm0RYSi+3BVfpfBjx6QKA34ZIGnyG9uScYsI4z/+iDD+Y1wy1sUGEQYehIW1P8knYGttpkJ78b9d2PDji1cU5ogzMAADMAADF8sASdO2kyZEGP/xR4TxH2NL4YMIAw8WXiy25BOwZeGl1BYRhiLrYousUsixY/KEge0xQNK0vZjrcY4I4z/+iDD+Y6zH9NzPiDDwMMfIvvvJJ2BrX3amjkOEQYRBhIEBGIABdwyQNG07aUKE8R9/RBj/MZ4qYOJ9iDDwEDOx1u/kE7C1Fku6HUQYii93xZcGnJ+ZOGFgmwyQNG0z7jLeEWH8xx8Rxn+MZTyXfCLCwEMJJ/vYkE/A1j7czB2DCIMIgwgDAzAAA+4YIGnadtKECOM//ogw/mM8V8To/Ygw8KB5WPNn8gnYWpMnaSspwvz08+9VSGD4jw9gAAZgAAYukYFwc7vEftPndcbbPyap7bwAACAASURBVP75a/Xq9zcw4DiXe/3mXfX3H38hxo5jbJkPAwuBCcsx2K4z33r3I/kEnByC8aQI8/btu+qP12/5jw9gAAZgAAYukoFwc+M+tt37+Os3b6t378hlPI+Bd+8Y457ju8+1wcR25/x9eCk9hnwCrkpZsdglRZhfXr2unr94xX98AAMwAAMwcJEMhJsb97Ht3sdf/Px7LcLBgF8G3rx9V/33y98Y59yjagYCC4EJxrzfMX+q2JJPwNQh2EOE4ebFDQsGYAAG3DFA0rTtpAkRxn/8EWH8x9hS+CDCwIOFF4st+QRsWXgptUWEofhyV3yVwo8dkyoM+GWApMlvbEvGLSKM//gjwviPcclYFxtEGHgQFtb+JJ+ArbWZCu3F/3ZhA19HArZDwEabcAUDMHAsBkiats0aIoz/+CPC+I+x5X6BCAMPFl4stuQTsGXhpdQWEYaVMKyEgQEYgAF3DJA0bTtpQoTxH39EGP8xLi1mgh0iDDxYeLHYkk/AloWXUltEGIovd8VXKfzYManCgF8GSJr8xrZk3CLC+I8/Ioz/GJeMdbFBhIEHYWHtT/IJ2FqbqdBe/I+vIyHKIMrAAAzAwMUzQNK07aQJEcZ//BFh/MfYUvggwsCDhReLLfkEbFl4KbVFhKHYuvhiqxR27JhEYWA7DJA0bSfWqXGNCOM//ogw/mOcGtu5bYgw8JBjY+l28gnYWspQ6nhEGEQYRBgYgAEYcMcASdO2kyZEGP/xR4TxH+NU4ZLbhggDDzk2lm4nn4CtpQyljkeEofhyV3ylQGcbEygMbIsBkqZtxTse34gw/uOPCOM/xvG4nvodEQYepvhYso98AraW8JM7dgUR5tPqwW5X7a4eV18iaGxA0Pi0enC1q3a7u9UHNwzK3MDyuZ3Y+4yrz3FM0uQzrqVjEBHGf/wRYfzHuHS8BztEGHiw8GKxJZ+ALQsvpbaIMAhHRuGIQrx0cPmzI/b+Yur3xkrS5De2JeMQEcZ//BFh/Me4ZKyLDSIMPAgLa3+ST8DW2kyF9uJ/e7wd6QxXwtyEYvFudefRN0aB4YiQnXMfz7lviGbnyzSxITZnxABJ0xHvZ2cUd0mUEGH8xx8Rxn+MZTyXfCLCwEMJJ/vYkE/A1j7czB3jUoT58tHdarfbnbUIc859POe+zQHNfiZKGICBwABJ07Y5QITxH39EGP8xttzPEWHgwcKLxZZ8ArYsvJTaIsKc6C945yx0nHPfSsHGjgkTBrbNAEnTtuOPCOM//ogw/mNsuY8jwsCDhReLLfkEbFl4KbVFhEGEGX2FAhGGyaZ0AsEOVs6VAZKmbbOJCOM//ogw/mNsub8gwsCDhReLLfkEbFl4KbVdXYT58unj9u054Q064a1Jd6sHT6eezfJN9eTRw+pO/cYdOeZh9UHqmJvH1Z3Q5vWn1fMX31RPrpuvHcmbekQ8qM8b7NT//Z4PU9g36dfuYfUkIeo8uW768uDpq6qoj9Je5jrr4N4k+ra7W925/nTiLVXfVE18xG+hX3erB4+aY4r69qJ9BpC6Vrm+SR8/fdjEo74mPZgT13GViX/Ct1nQbz6tPri+2/DScjDyzcDPuk/y8zfVBzWXcVyHz0H68ulDdZ7en02cmn70LIb9qfFwiDZfVc8tnAz8MR5fzxOxD+Ow8dFwvPXX22wfs2GI+2y/JF58ZseDZew4sSVp2vZ4QITxH39EGP8xttzTEGHgwcKLxZZ8ArYsvJTarirCPGmfxRIXYOH3cREWAipvW0kXcKNjVDEmhX9zruZ1yWUiQilItr7Juaf6HIIidpM+mrnO2cI3+brw6espFohShbj0N3next9NvOLXWk/3aeTL0uJQ+qNEOPH3oE2xGwlDwogIDHkRJst8aFPan+tHfV29CLNem9L/9PgavVZe+nv9aZUaX3uLMCP/GuM+2y+JF5+lE/8W7Eiatj0eEGH8xx8Rxn+MLfcqRBh4sPBisSWfgC0LL6W264kwstqgXVXRdCD8tVtWXcQFuCoQrx5XT276AIfVGvWKl110jBRj4c1HYV9qtYwSOgYFd2kBX9vt0bduRYDus7QTF/G9GJPs4+x1flOv8ggrjL5Ufnse3mpUx0H3IfhV+hFWJsWrTJoVCR88Vf6ffLCxnENfk7Qfn7dts7uex2qVjhwT+lQY/8IYioBwJ2IxrFgZrEKRfo1EAvGF9FFfa9gnPgjixnClVziHCIPN6i7tEz0ejtGmkRPxR3Z8yXXHfRd/DT+bOMS24lND3Gf7NTxv6eSHnW+/kTT5ju/c+EWE8R9/RBj/MZ4b53o/Igw8aB7W/Jl8ArbW5EnaWlWECasppGH92a3+0MWuFKt6my6yU/ulGNvtqty5wnnlfEmBQ58j93Pq3No2t1/6116T9CPVV9mX7KO0M3Od2sfyc7Jd6e/EShU5ft5/mUJczpGIp/Rp4IcJ+7ovc/t1PAY/S5EfF/8JNsXPiT43/si1JT5IcygikHxNTvu2F8S0OBP6dog2E9fc+kpiMuBP/JHlTvo479um/fgaX1XP5+Ka2j/br/x1Dn2P3Zb8QdK0bd4RYfzHHxHGf4wt9yxEGHiw8GKxJZ+ALQsvpbYrijAThZkUUUoEaArVRJHWFdRtwaeO6b7eobd19j0gyQIz2EmBN/P1kL361vZDCvAHT9v+Zwr8bB9DOwl/pQManvESnjnysHoQVi+o5+ro4rrvU++jdHvN/sm+dWJBHO9cgZ4WMvbysSl+u5nn4yg/Z2LUCyal19r6V/qZaTcdj5z/lrQp8S7jZJ67mT7KWGz5HYhug/FxmHE/xTT7hIXtfJI0bSfWqfGNCOM//ogw/mOcGtu5bYgw8JBjY+l28gnYWspQ6vj1RJhJYSQu3qQwzzyrQoskul0RJzLFrVxgVkSQ4li33/7cixZ79k0K0E6kCNcWF+89xNk+ahFm4jr7hxKnfTi+nnxfxG/yOdm37vrG7SXFhdbnfX+CD/b0cVH8xu3fuXpYPblJPAx3lifpZ3ytLc+azS7+vdg3vOY+9kk/iV9XbfOVenj1HCclolQ8jvtrEna6FT1JdsWf6b7Ic3vqT+2H2Til+sG2Pibb9AVJ0zbjLtwjwviPPyKM/xjLeC75RISBhxJO9rEhn4CtfbiZO+a4IkxXWBmKMS1kFBZj0yLCHEh79q0rwvXxcfHen3uyjzPXKcc2bzZ6XD2pnw3zTf28FdnXCwDSn3xfYkjGbfT97opsHRe5dul3F+cgAoSCO175IH0qKMZT55HzzXyO39QV+UD6mxQMwjVLP6PjDiKYrC/sSBzLOFlDhGn9peI/ZEv8aYz7bJw0n/w89Pl2/UHStN3YhzGACOM//ogw/mNsuZ8hwsCDhReLLfkEbFl4KbU9jgiTKKLSxflMkBPtpC5Uis9eiJhpNyrm9+pb24ac+8Gj3CuZm76IXbKPk9cphWwsDOTaFftYCMn7ZLJvIkAkxZHoXBPXscTHqZhPb1OvW9YCwUT/mvZyKz/WF0w6cUv3T3OZXFHUx7Dxp35GjcSilJPlIkzDzTRne8V9Nk69H6Y5wG5L/iFp2jbviDD+448I4z/GlnsWIgw8WHix2JJPwJaFl1Lb9USY7MM8ZTVE9JrqmaIyeQGFxdi0iFAA0j59CwVz1L9xYdyfe7KPUTtDX+SEgdC27Bv6Ws61u/5UvZ2o78uw/bkHG8s50sV999ydcK72LUupZ4OIXVKE0uLDaj8nRAnxc1JQ6v0w/lrZJYgwU3GSfUNOYn5jLnq+ErFvx0wy1jqG+4wtiVN2xVKe5fE1YLsVn5A0bZt1RBj/8UeE8R9jy/0KEQYeLLxYbMknYMvCS6ntqiJM/bUH/drom+YVuc2zHuLCTRWCoWDXr1p+EV69/Gn1ILxOWW8vLcbaQi+8+vhLXQAW/7xH3zoBRF+ntKO3tSBP9XHyOkVMCAW0ElVqf+2qO1fNK8GH4ob0o3lF9fD5KONXVItAkvaftJW4ptq/7f6r8LDg5jXE6RhIO+0DdHWcc/Evil9grnkNtz5veHV089pz3e/el8PXZOtXSYevzuhjQvzkGjN8zQgNaXFu7Tb7ayvmZJI7dd0ZfwyZy03Ye8R9tl+5c7G99Ebg0Y6kadv8I8L4jz8ijP8YW+5NiDDwYOHFYks+AVsWXkpt1xNhrh5XH9TP/0g97yHzFQUprhIPym2Em+g4sZ/7i7jYqXbLCkQFWaKNwYNDo+ecpAtrtZoi7nOi/a6Psi8+RkQIEXDU9XUPM80JANJmfEz7+2AFQ8K265sIEKNCvPed+CL0qT+u39/BmTjPlI+748QPyc9efBi21XA5uM5wfM6Xdd8/rT6o3zh1iSLMxLUFcTLFicQjx10y9tP+lhgM/C7nybA4eoaQ2Gf7lWAryQZ2ZWPIh59ImnzEcV9mEWH8xx8Rxn+MLeMfEQYeLLxYbMknYMvCS6ntqiLMly+aFQTNioOm6L1z/bh6MljlEAXyJrxi+W67SkEEnLtVc1z0RhtLMfb0cfaVzaXOeV7aNynkkytv+iJ1UIjWAkCmjwXXWa/s0K+klq8apYrrriBtno2i47O7uls90CtqxDbrP1nJEAsTKq7S/wmhpotBqY+lXyWf9aqgZkWQiADNG5JUH3U7N4+bVTudKHC3elCv6JLYxde69qqV0K9DtPmqFlsGry6f4kTilhU7xrGXr5yJn3OfI/YtcZ/tVyauOsb8XHVjbiO+IGna9rhAhPEff0QY/zG23LcQYeDBwovFlnwCtiy8lNquIMIQmFJnYwcrMAADMHAcBkiajuPnc+UZEcZ//BFh/MfYMr8gwsCDhReLLfkEbFl4KbVFhNnIX4VLgcCOiQYGYMADAyRN2+YYEcZ//BFh/MfYci9ChIEHCy8WW/IJ2LLwUmqLCIMIs7mvKZQODuyYdGHgchkgabrc2K0x7hBh/McfEcZ/jC1zASIMPFh4sdiST8CWhZdSW0QYRBhEGBiAARhwxwBJ07aTJkQY//FHhPEf49JiJtghwsCDhReLLfkEbFl4KbVFhKH4cld8lcKPHZMqDPhlgKTJb2xLxi0ijP/4I8L4j3HJWBcbRBh4EBbW/iSfgK21mQrtxf92YcMvr15TmCPOwAAMwAAMXCwDJE3bTpoQYfzHHxHGf4wthQ8iDDxYeLHYkk/AloWXUltEGIqsiy2ySiHHjskTBrbHAEnT9mKuxzkijP/4I8L4j7Ee03M/I8LAwxwj++4nn4CtfdmZOg4RBhEGEQYGYAAG3DFA0rTtpAkRxn/8EWH8x3iqgIn3IcLAQ8zEWr+TT8DWWizpdhBhKL7cFV8acH5m4oSBbTJA0rTNuMt4R4TxH39EGP8xlvFc8okIAw8lnOxjQz4BW/twM3dMUoT54/Xb+rkw4dkw/McHMAADMAADl8ZAuLldWp/p73rj7NXvb6q3b9/BgOM87t27qvr1tzfE2HGMLXNiYCEwYTkG2/XmXM++JJ+Ak0PwnRRh/vXqdfXji1f8xwcwAAMwAAMXyUC4uXEf2+59/Keff6/CH5RgwC8DYSXMP1/+Roy5R9UMBBYCE4x5v2P+VLEln4CpQ7CXFGHCib599oL/+AAGYAAGYOAiGQg3N+5j272P/9c/fq7CH5RgwC8Dv79+W/3H318SY+5RNQOBhcAEY97vmD9VbMknYOoQ7CHCcPPihgUDMAAD7hggadp20oQI4z/+iDD+Y2wpfBBh4MHCi8WWfAK2LLyU2iLCUHy5K75K4ceOSRUG/DJA0uQ3tiXjFhHGf/wRYfzHuGSsiw0iDDwIC2t/kk/A1tpMhfbif7uwga8jAdshYKNNuIIBGDgWAyRN22YNEcZ//BFh/MfYcr9AhIEHCy8WW/IJ2LLwUmqLCMNKGFbCwAAMwIA7Bkiatp00IcL4jz8ijP8YlxYzwQ4RBh4svFhsySdgy8JLqS0iDMWXu+KrFH7smFRhwC8DJE1+Y1sybhFh/McfEcZ/jEvGutggwsCDsLD2J/kEbK3NVGgv/sfXkRBlEGVgAAZg4OIZIGnadtKECOM//ogw/mNsKXwQYeDBwovFlnwCtiy8lNoiwlBsXXyxVQo7dkyiMLAdBkiathPr1LhGhPEff0QY/zFOje3cNkQYeMixsXQ7+QRsLWUodTwiDCIMIgwMwAAMuGOApGnbSRMijP/4I8L4j3GqcMltQ4SBhxwbS7eTT8DWUoZSxyPCUHy5K75SoLONCRQGtsUASdO24h2Pb0QY//FHhPEf43hcT/2OCAMPU3ws2Uc+AVtL+Mkdu4II87S6t9tVu9uPqs8RNDYgaDyt7t3eVbvdVfXeFwzK3MDyuZ3Yl8eVebHcV4eZR0iaDuPXU8e19PyIMP7jjwjjP8al4z3YIcLAg4UXiy35BGxZeCm1RYRBODIKRxTipYPLnx2xL4/pcUSYj+4HQTT1/6q6df9pRhi/qd6rhdTUcbLtuvpIzY358+yqW7evq/c+uRnOI59cZ/ol7Q8/b70fHa/OXe7zYZJA0jT0x75+vNTjEGH8xx8Rxn+MLfMPIgw8WHix2JJPwJaFl1JbnyLMF6FYvKoOkdiXOnbW7pz7eM59W6E4m40N5xgW1PhjD3+cWoRpRY7bQzGlYX9dEUZEoCD6dGMLEab3BePnJL5AhPGfNCPC+I9xd08pmEcRYeDBwovFFhEGtiy8lNq6FGE+f/+q/ivsOYsw59zHc+5bKdjYMWGeloFjijDjrwZ+XguprRCjxZE6kRURZnxczmeyEubeJzFXN9VH7XwbxJjx/t7+2PMKSVPv+1xcPW9HhPEff0QY/zG2zFGIMPBg4cViSz4BWxZeSm0RYQrU9VJnWuyOXZB46ZvlOrBl0jwdA6cVYerr/uJRdSv5vK41RZiGMZnPdiPBp2dQbI4ljpM09b4/3Tg4XR8QYU7n+2PxhgjjP8YWlhBh4MHCi8WWfAK2LLyU2iLCIMKMloofu1gqhRU7JsGDMtCKFlOrOcrPfwYizLNcH9YXYb7NCj49s8eeV0iaet+Xc+vnGEQYP7HM8YsI4z/GudintiPCwEOKizW2kU/A1hocxW2sLsJ8/smj9u058kyCq+pe/NDGgfARlrNfV7f0gyJTD3oMx0iiX/+19ab66H7ztSN5U48k+fKMAv25319fC/sm/dqlnr/wotJL+Yv6KO1lrrMO4heJvu2mHsYZBtBN1cRH/BZidFXde795gGdR36SwU9cq1zfpY3lGxOgv5YnryMV/wM3MhPDF0+q9+1fNSoD2waWjB5UO/JxqT4rVOK7D4vbzT67VeXp/NnFq+tGzGPanHkJ6iDbDmEn4N8fJwB/j8fVtIvaBqfmHvO4Sz2dK9CsX99l+pWK3x7b2PIcWYfpxFnOV8Ekdq0fVR5k3kTVjL/O1onbMjcelxCxzXGKcyRjP+kZiNPGWPLnucX/2iFWij6mbW7yN3w/j63P0KyKM/1gjwviPsWVuQYSBBwsvFltEGNiy8FJqu6oIo58N0BedjRiTTrzlbSutYBO95WN0jCT69592wkZznqaYkCQ/Pnf4fdTWbBJv65uce3Qe1ecQFLGb7KM6RooffZ2zhW+yEJq+nlBcFfUtVYhLf5PnbQZuulic7tPIl7MxaycJ6U/E04gDsRsJQzLZSLEaF8u9YJJlPrQp7c/1o76uQ7Qp/U+Pr9Fr5aW/mfG1twgz8q8x7rP9kngt/GzPkxUaSvmL4vm5Oi4Ids1Yvh4KK3KNCVZk7Kf6lR5XQWxthcHkmBQu1hNhZJ6aGrMyv0zZlN64SuxImhaOB8Vtib/PzQYRxn/8EWH8x9gyryDCwIOFF4st+QRsWXgptV1PhGmLh1vtqoqmA+Evu7LqIk74pRDYVaEY1H/pDas16mcZ7KJjpFAJbz4K+zIrbJYn+3v0rVsRoPss7cRFfC94JAuS2eu8qVd5hBVGn+u/kIeHcdZx0H0IA0f6EXwdv062+ev7e+qBm9P+k3Poa5L24/O2g7a7nkfqlblyjCH+hUVBXxDqV/Q2helgFYr0ayQSyGQjfdTXGvaJD9qVRIrDvsi+ald3aZ/o8XCMNo2ciD+y40uuO+67+Gv42cQhthWfGuI+26/heUsnv5Fde56U2DGynWWx9ZUWQXICjOYpmgvDSqawoqsTbqLzCuvN/qHYNpyLtY9UDDKiTzwvyXlGvgkrraR/yTcx9eednld6O7uv08eSNKX9spZ/z70dRBj/8UeE8R9jyzyDCAMPFl4stuQTsGXhpdR2VRFmlKC3BYMk34OHNkpBkiuAU/ulGDv0WzhS59bFT26/9K+9JrnulF9kX1zs1IGTdmauMxXkZLvSX10Q6uuJfk620dlkCnE5RyKe0t7ADxP29XXN7e/6E08MUmDGxX9sF3+9LbG/E6/itsQH6bfBSMEqX5Mbxkn6p8WZcO5DtJm6pmabxGTA3yx30sfYH+PzNO3H1/ii+nYurqn9s/0an3/o88L97XkGnGY5m2uz9ZWMOVmZEgvLenXcfS0aDtsXpgbxetZ/1TElwtTbgjCihdr6eoTBoWij27Ce59Z9LbAO+y6xSDK3t3/T55BzhU+SpnkfaX95+xkRxn/8EWH8x9gyLyHCwIOFF4st+QRsWXgptV1RhJkozKSIkoKkKx4SRVqXlEdFTNieaCd1odlkXwq8xF9/ddHRFDzGvrX9lmLp3idt/xOiROhzto+G62ye8RKeOXJd3QurF9RzdcbXkxYMTP6rrzFXiOe2S8E35GMvH5vit6tGz4BpY9Rds/CUiVG/gmjY914wibe3k5T0M9Nuz4ie1HL+W9KmtB9WAc1zMj++Zvoo/p0QM/aKu8RJzR9dDOWc1k9pMzEXaDGi+XlqLhAfx5+tr0Kfu3Ol25n3SX7uyx6rV6io5zc1fpMxme5PyrfC7Ng3YV5JPeMo9sfMnGeNX4E9SdM4BqnYet2GCOM//ogw/mNsmZ8QYeDBwovFlnwCtiy8lNquJ8JMFkhx8SZFQP4vsV2yr9uVYiZT3MpFZwUOKY4ThVcvWuzZt64okGsN15Yp0ktFmInr7L4CkLiW4Lvx9eT7In6Tz6z/6muU6xu3J4XaYCVB6/O+P2Eg7+njoviN279VrwZIFIqzPEk/42tVBXYXdzVBJa+535/0k6yE0bzrtvdqM6yUkK+ypMfaIC6z/sjHXtjpBKoku+LPdF+6MR+Y1n6Y7Vfv274fM9ukzcz4GfQlsXpl/jziK3k4dE7wEJ/EjMX9TzOXFWFadtKsyTlzfYrP3a+40WO7/9qonm/Gx4qvpueV/HFyvPWTpGl9n1pjcEp7RBj/8UeE8R9jyxyCCAMPFl4stuQTsGXhpdT2uCJMV1hJEVBQjGkhQwqnZIHXA7Is2d+zb13BrI/PF1aTfZy5Tjm2ebPRo+qj+tkwN/XzVmRfX1xLf/J9iWEZt9H7tiuydVzk2qXfXZyleIuLPemTMf5ynsLP8Zu6Ih9If7M8ST+j4w4imKSL7C42e4gwEscyTtRqi6w/RFiI/SF8tP5S8e/6X8dM/GmM+2yc5PwLP9vzaKFh2H9L+xLPsEqtud5+TOp2xCc5n4qttDf82s+cCJP++pecMx6Xcq7xZ1rMUcwUCFXCY9oP43Pu7/umLZKm9X26NCbHPB4Rxn/8EWH8x9gyZyDCwIOFF4st+QRsWXgptT2OCJMoomaLh1ShnWgndaFLk/29+tb2V8597/32LSiZglbskgXJ5HVKAZUu2sbtin15wTVuQw++qUI8OtfEdSzxcSrm09v0w0NVETvRv6a93LWmC+KuD3sIJp24lRMwzG1KLEo5UQV1htmujykBrlvdNc3ZXnGfjZPmc8HP7XnWFWECb/3boMbjXeI07bfuq2JRbGb92XIzeB5XtxJt5pxqDm7Ok/lKo5wjx240N459sCBmqo/d+Gu3kTQdxq+xn8/1d0QY//FHhPEfY8v8gggDDxZeLLbkE7Bl4aXUdj0RZuIhspLAD5LvmaIyeQGFxdi0iFAA0j59C4l/1D+57lRRN9nHqJ2hL3LCQLgu2Tf8eoCcKxRi+nW5w3Z7v4j9IF5dsSPnSBf3+i/v0k7q+sUufY6+L7k+2rdLsav6LX6eFBXCKgZ1TO2HSxBhpuIk+4acxPyOfSzHxf7oH7ibjHXHTm9nirvEKRIgxv1byE17ntlr0NeT/TlmRHwX+bwTr3bVUCgZXovMJbHfmu15MSV9nIyF/HGxb6WdtG+kvfG16XZkPoivQdus+TNJ05ChNX17CW0hwviPPyKM/xhb5hpEGHiw8GKxJZ+ALQsvpbarijD11x70QxonX6+qipIgDgze4BFevRz+enxdvae3lxZjhX+ZzTtpj751AoguUKUdva0FeaqPk9epCx4lqtT+2lW3bjfPABkWOtKP5hXVH32hn48yfkW1CCSD53J0xaa0lbim2qbdf7v9Gkb2r+PSTvsAXR3nZ5n4d32YmgzCK32b13BrwSm8Orp57bnud+/L4WvS9aukL1WE6a9t8KriKU4muQs+l5hpH/bbh8zlYiRtGOI+26/cuYzb2/OkhQZjW+IrzX/3CvlYrOh9MuQwCLtqFddIDMx93W/uOGFjLRFGCdATX0tChLEyhH3+Hj3vG0SYeR8t8e85HIsI4z/GFs4QYeDBwovFFhEGtiy8lNquJ8LcflS9dz/3rIdMsi/FVfbhmNFxYj/3F3GxU+2WFYgKskQbUw/rzP2lWAqP0V+5E+13fZR9uesUAUddX923UPDlVvFIm/Ex7e+DwjNh2/VNistEQSjQiS9Cn/rjlG9FTEmcZ8rH0v70pxSYaRYH1xn6kfNl3fen1Xv18zzSokNapOrbzF27+GfYl7YQ10W7+En109Rm7tpynEg8ctwlYz/tb4nn4FrlPBkWR6/2FvtsvxJsad+V/tyeZ9DX0mNHdpl4yrXEY0NtF58NP6O5sD2fsDS01eynjrPHTM4z5ZtursswLPtzDE+Pa3uMSZrsPls7BqdsDxHGS2e2/wAAEUtJREFUf/wRYfzH2DKHIMLAg4UXiy35BGxZeCm1XVWE+fxZs4KgWXHQFAK37j+qPhqscogC+UV4da68QUSKh6uqOU6v2FB/bS0pxj55lH1lc6lzvi3tmxS7yeKjL3hGBUyuj1KQTVxnvbJDv5JavmqUE2Hqoq35q7qOz+72VXXvfbWiRorJXN+ShXgc00eJVSeRjZyn1MdiX/JZr/YYvhWoeUNSrg+PuoenNsXsVfvaXYndhYow4asuYQVQKSez3MmKjd4fUljnRYBmTI/Yt8R9tl+ZuJawcjCbjAgTzifXEwsxYf6M58Lc+Gz7LeLI2P9hDo1XGIqfhGuZb9OfOmZyHr1tPI/27aaEFmEltW/clvR1/0+Spv19d4h4HLtNRBj/8UeE8R9jy7yBCAMPFl4stuQTsGXhpdR2BRGGwJQ6GztYgQEYgIHjMEDSdBw/nyvPiDD+448I4z/GlvkFEQYeLLxYbMknYMvCS6ktIszB/hIOsKUQYgcrMAADazNA0rRtphBh/McfEcZ/jC33BUQYeLDwYrEln4AtCy+ltogwiDBVKSzYMQnBAAxcCgMkTdtmFRHGf/wRYfzH2HK/QYSBBwsvFlvyCdiy8FJqiwiDCIMIAwMwAAPuGCBp2nbShAjjP/6IMP5jXFrMBDtEGHiw8GKxJZ+ALQsvpbaIMBRf7oqvUvixY1KFAb8MkDT5jW3JuEWE8R9/RBj/MS4Z62KDCAMPwsLan+QTsLU2U6G9+N8ubPjxxSsKc8QZGIABGICBi2WApGnbSRMijP/4I8L4j7Gl8EGEgQcLLxZb8gnYsvBSaosIQ5F1sUVWKeTYMXnCwPYYIGnaXsz1OEeE8R9/RBj/MdZjeu5nRBh4mGNk3/3kE7C1LztTxyHCIMIgwsAADMCAOwZImradNCHC+I8/Ioz/GE8VMPE+RBh4iJlY63fyCdhaiyXdDiIMxZe74ksDzs9MnDCwTQZImrYZdxnviDD+448I4z/GMp5LPhFh4KGEk31syCdgax9u5o5JijD/evW6fi5MeDYM//EBDMAADMDApTEQbm6X1mf6u944++nn36s/Xr+FAcd53Ju376p/vvyNGDuOsWVODCwEJizHYLvenOvZl+QTcHIIvpMiTEhcfnn1mv/4AAZgAAZg4CIZCDc37mPbvY+/+v1N9fbtOxhwPH+9e1dVv/72hhg7jrFlDg8sBCYsx2C73XuEJfbkE3Bi4aXUNinChIOfv3jFf3wAAzAAAzBwkQyEmxv3se3ex1+0K2FgwC8DYdXDf7/8jXHOPapmILAQmGDM+x3zp4ot+QRMHYI9RBhuXtywYAAGYMAdAyRN206aEGH8xx8Rxn+MLYUPIgw8WHix2JJPwJaFl1JbRBiKL3fFVyn82DGpwoBfBkia/Ma2ZNwiwviPPyKM/xiXjHWxQYSBB2Fh7U/yCdham6nQXvxvFzbwdSRgOwRstAlXMAADx2KApGnbrCHC+I8/Ioz/GFvuF4gw8GDhxWJLPgFbFl5KbRFhWAnDShgYgAEYcMcASdO2kyZEGP/xR4TxH+PSYibYIcLAg4UXiy35BGxZeCm1RYSh+HJXfJXCjx2TKgz4ZYCkyW9sS8YtIoz/+CPC+I9xyVgXG0QYeBAW1v4kn4CttZkK7cX/+DoSogyiDAzAAAxcPAMkTdtOmhBh/McfEcZ/jC2FDyIMPFh4sdiST8CWhZdSW0QYiq2LL7ZKYceOSRQGtsMASdN2Yp0a14gw/uOPCOM/xqmxnduGCAMPOTaWbiefgK2lDKWOR4RBhEGEgQEYgAF3DJA0bTtpQoTxH39EGP8xThUuuW2IMPCQY2PpdvIJ2FrKUOp4RBiKL3fFVwp0tjGBwsC2GCBp2la84/GNCOM//ogw/mMcj+up3xFh4GGKjyX7yCdgawk/uWMRYRBhEGFgAAZgwB0DJE3bTpoQYfzHHxHGf4xzxUtqOyIMPKS4WGMb+QRsrcFR3MaKIsw31ZNHD6s7V7tqt+v/37l6WH3w9Jv5BP/mcXWnPu5u9cHNfLCfXMs5yuz7C/+m+kD6eP3pfL9WKM6+fPq4+uD6bnt90u9ddefqbvXg+nH1pOB6n5v8o65x97B6MncN0vbV4+rLOVv2H4WZntf5sYAtPoKBMQMkTWOfbIkTRBj/8UeE8R9jy5yFCAMPFl4stuQTsGXhpdR2HRFGinglvmghZlcgBHz56G4n3tx5NC/a9CLMriqx7xzy9GF3nt2hRZibT6sHIvhkfRNEmXmhxOYfLcLsqtnrlPghwiCwILLBgBMGSJq2nTQhwviPPyKM/xh3uXvBfQkRBh4svFhsySdgy8JLqe0KIsyn1YNWYLgzWtXxTfVlLUQ8nlmN0bZx1a4WKRADGhHmbrvyZl7EaBzSihNynkOKME8f9itf2tVA8SqTL29k9dBc/63+ERFG/LOrHjydGECIMBTeBQlO6aSC3cRYw89HG2skTdvmEBHGf/wRYfzH2JJPIMLAg4UXiy35BGxZeCm1XS7CyMqSJYJG20ZY0SIrXCZFgxevWrvwdZ5mBU3RaphWbLhz3QokS/o8VUyJqLEL4sf8qp7ZYJn904swHwQRLIhkU8KW9HfKZup62Xe0wnKWFWJBLGCgZoCkadtJEyKM//gjwviPsSXnQYSBBwsvFlvyCdiy8FJqu1iEka/JFIkgmeKgEV7a1SAiCMwIJLISpkhkaM/bnafwHJ0TW/s5YaixFwFkZvVJxhfdOdX+rt9hW1HfpQ/N83JmYyRtIsJQwCvuUiyyjRvRpTBA0rRtVhFh/McfEcZ/jC33G0QYeLDwYrEln4AtCy+ltotFmOeyEmbfAl4EgE50GQoIuQvpRZhXlYgMkyKJPo/+uaTobO0n25d2xB/d9SwEd9TXEv/ENvHvUZ/kHPvGUK6dT0QcGICBM2GApCma588kLrl7+trbEWH8xx8Rxn+MLfMCIgw8WHix2JJPwJaFl1Lb5SLMCynwd9X4mTDzQUsKKOrrN7kL0SLM8xfzX7kZ2IvoUCqUGESY5PUsSH6T7c36R2Ki3hwl15wSWqb2Leh7LnZsnx8X+AgfwcAyBkialvnv0vlDhPEff0QY/zG2zEOIMPBg4cViSz4BWxZeSm1XEGFCYPRbgO5Wd64/LXzVcU48yW3vIRiIKuoZMenXW7ftiegiooP8Pic0GESYuF+lgUjb5fyQ2y7+SYgwLyZWDIk/UgLNnG/Yz8oHGICBM2SApEnuB9v8RITxH3dEGP8xTufG6etGhEn7xeJDbNM+JJ9I+wVelvllJREmdKJ90496FfOsGDOxoqMRM/LPVRmJHSIkJISV0WqSCdskUMUijIgf+bcdSV+Gr/BWK1Z0MbO3f6QfcbuteBO/Elv8gQhDMa3542d4uGAGSJqWJQfJe+EF8YAI4z/+iDD+Y2yZhxBh4MHCi8WWfAK2LLyU2q4owkiAYjEmFgLErn/DUXL1iggDCVElXNxIhMlsS35Vaapt2afEpKFgsqv63+Nry4kf/TVbRJjUNXaBlX4m/TPRj1bY2enjpC1EGIruCyqyurFAn+E2wQBJU3/f2eJYQYTxH39EGP8xtsxdiDDwYOHFYks+AVsWXkptDyDCSKCCGNO8PnoXr7wICbMU/rNiRyx0NO0nBYrEyhERPQYP1ZVzayFCknjZN9uvIMaM+9b0K7+CJw5M8joW+2dChEmJVXLNiDAUszIO+ISFC2eApEnuxdv8RITxH3dEGP8xjnPmqd8RYeBhio8l+8gnYGsJP7ljDyjCNAETESR+hbVs71eV6BUmw5/jY8PFpMULER/k60Dx7y1EIjqkRJhU4dHaD4SclF3YllppkrPNXkf//Jb9/CPXPRaJGhCiZ8qIPxBhKLwnWM1NImzn5nSODJA0bZtLRBj/8UeE8R9jy70FEQYeLLxYbMknYMvCS6ntwUWYbsXLQPAQkUDEkkxwJ8SBtAjTiyC1cJNYGVM7Rtod9CnTh1CUWkQYeVNTYpVMKijp61jqHzk+J8JEfhJ/IMIgwiDCwIATBkiaJu5pTmKcuqfKNkQY//FHhPEfYxnPJZ+IMPBQwsk+NuQTsLUPN3PHHF6ESa0MSW3LJIWNSDH+ek9avAiQyCqPh9WD67CiJiH0iOhwEBFGr2J5WD25mQY3eR2L/VMgwnSvFg9CjfjsceFbraavaQ469uM/GICBQzNA0rRtxhBh/McfEcZ/jC33CUQYeLDwYrEln4AtCy+ltotFmC8fPazuXD+untx8ExXw31RfPn1Y3WmfraK/ypMTVpKdzggSSfGiFXIGX3VKCS0HFmHCdcg1hq8TiX8G1xf89fRx9eBq/GwZOVb7bHCsFqyS/ikRYfoVPrvrh9WDECdWwrAKQrPFz/BwwQyQNG07aUKE8R9/RBj/Mc7mvol7EyIMPFh4sdiST8CWhZdS2xVEGHn47vA5LvpZJuFV1V2HRABJrVBJTKrdypbo6z1TIkzumFEfdL+S526ha/tcJIqodgZi0OSDftWKmVX8UyjCvNCrdhBhOj5UDNnGxAsDl8kASdNlxm2t8YYI4z/+iDD+Y2yZDxBh4MHCi8WWfAK2LLyU2i4WYZ6/CG9BCis67narXhoB5m67AmQYuE6YKBVA1KoS/YDeaRGmXYmSO4cIHbn9axbhN+0ru+sVL0qoCv66flx98PSbXqDSooihb7JypvdPuQgT4veB9I2VMINYlA4i7IZjHH/gj3NggKRp2xwiwviPPyKM/xhb7iWIMPBg4cViSz4BWxZeSm1XEGEITKmzsYMVGIABGDgOAyRNx/HzufKMCOM//ogw/mNsmV8QYeDBwovFlnwCtiy8lNoiwqy56oW2WEkCAzAAA2fBAEnTtpMmRBj/8UeE8R/j0mIm2CHCwIOFF4st+QRsWXgptUWEoWA6i4KpFFjsmAhhAAZKGCBp2jYniDD+448I4z/GJXO92CDCwIOwsPYn+QRsrc1UaC/+twsbfnn1msIccQYGYAAGYOBiGSBp2nbShAjjP/6IMP5jbCl8EGHgwcKLxZZ8ArYsvJTaIsJQZF1skVUKOXZMnjCwPQZImrYXcz3OEWH8xx8Rxn+M9Zie+xkRBh7mGNl3P/kEbO3LztRxiDCIMIgwMAADMOCOAZKmbSdNiDD+448I4z/GUwVMvA8RBh5iJtb6nXwCttZiSbeDCEPx5a740oDzMxMnDGyTAZKmbcZdxjsijP/4I8L4j7GM55JPRBh4KOFkHxvyCdjah5u5YxBhEGEQYWAABmDAHQMkTdtOmhBh/McfEcZ/jOeKGL0fEQYeNA9r/kw+AVtr8iRtIcJQfLkrvgRuPpk0YWC7DJA0bTf2YdwjwviPPyKM/xhb7uGIMPBg4cViSz4BWxZeSm2TIswfr9/Wb0gKb0niPz6AARiAARi4NAbCze3S+kx/1xtnr35/U719+w4GHOdx795V1a+/vSHGjmNsmRMDC4EJyzHYrjfnevYl+QScHILvpAgTb+R3PIAH8AAewAN4AA/gATyAB/AAHsADeAAP4IF1PbBbtzlawwN4AA/gATyAB/AAHsADeAAP4AE8gAfwAB5IeQARJuUVtuEBPIAH8AAewAN4AA/gATyAB/AAHsADeGBlDyDCrOxQmsMDeAAP4AE8gAfwAB7AA3gAD+ABPIAH8EDKA4gwKa+wDQ/gATyAB/AAHsADeAAP4AE8gAfwAB7AAyt7ABFmZYfSHB7AA3gAD+ABPIAH8AAewAN4AA/gATyAB1IeQIRJeYVteAAP4AE8gAfwAB7AA3gAD+ABPIAH8AAeWNkDiDArO5Tm8AAewAN4AA/gATyAB/AAHsADeAAP4AE8kPIAIkzKK2zDA3gAD+ABPIAH8AAewAN4AA/gATyAB/DAyh5AhFnZoTSHB/AAHsADeAAP4AE8gAfwAB7AA3gAD+CBlAf+P1naQpom/aolAAAAAElFTkSuQmCC)"
      ]
    },
    {
      "cell_type": "markdown",
      "metadata": {
        "id": "tj7nwcycWY6d"
      },
      "source": [
        "## [단문 스토리] 선녀와 나뭇꾼 이야기\n",
        "\n",
        "* 도입부<br>\n",
        "나무꾼이 나무를 하다가 숲 속에서 도망치는 사슴을 만났는데, 이 사슴이 사냥꾼이 쫓아오고 있으니 자신을 숨겨달라고 말했다. 말하는 사슴을 신기하게 여긴 나무꾼이 사슴을 숨겨줬고, 뒤쫓아 온 사냥꾼을 다른 방향으로 보내서 구해주었다.\n",
        "\n",
        "* 중간<br>\n",
        "사슴은 은혜를 갚겠다고 하면서, 나무꾼에게 선녀들이 하늘에서 내려와서 목욕하는 선녀탕이라는 샘과 선녀들이 목욕을 하러 오는 시기, 선녀의 옷을 훔쳐 그를 아내로 삼도록 하는 꾀를 나무꾼에게 가르쳐 주었다. 나무꾼은 반신반의 하면서도 사슴이 가르쳐준 시기에 선녀들이 목욕을 하러 내려온다는 샘으로 찾아가 몸을 숨겼다. 그렇게 잠시간 기다리자 과연, 선녀들이 하늘에서 내려와 날개옷을 벗고 선녀탕에서 목욕을 하는 것이었다. 나무꾼은 사슴이 가르쳐준 대로 날개옷을 하나 훔쳤다. \n",
        "\n",
        "* 결말부<br>\n",
        "날개옷이 없어진 탓에 한 명의 선녀는 하늘로 올라가지 못했으며 다른 선녀들은 날개옷이 없는 선녀를 내버려두고 하늘로 돌아갔다. 이때 나무꾼이 홀로 남은 선녀에게 자신의 아내가 되어달라고 하자, 하늘나라로 올라가지 못하게 된 선녀는 할 수 없이 나무꾼에게 의탁하게 되었다."
      ]
    },
    {
      "cell_type": "markdown",
      "metadata": {
        "id": "jeWWwR5TbOV4"
      },
      "source": [
        "## [장문 스토리] 신데렐라\n",
        "\n",
        "* 도입부<br>\n",
        "옛날 어느 집에 귀여운 여자 아기가 태어났어요.\n",
        "아기는 무럭무럭 자라서, 예쁘고 마음씨 고운 소녀가 되었어요.\n",
        "그러던 어느날, 소녀의 어머니가 병이들어 그만 세상을 떠나고 말았어요.\n",
        "소녀의 아버지는 홀로 남은 소녀가 걱정되었어요.\n",
        "그래서 얼마 후 새어머니를 맞이했어요.\n",
        "새어머니는 소녀보다 나이가 위인 두 딸을 데리고 왔어요.\n",
        "그러나 새어머니와 언니들은 성질이 고약한 심술쟁이들이었어요.\n",
        "새어머니는 소녀가 자기 딸들보다 예쁘고 착한 게 못마땅했어요.\n",
        "그런데 이번에는 아버지마저 돌아가셨어요.\n",
        "소녀는 하녀처럼 하루 종일 쓸고, 닦고, 집안일을 도맡아 했어요.\n",
        "해도 해도 끝이 없는 집안일이 힘들어 지칠때면\n",
        "난롯가에 앉아서 잠시 쉬곤 했지요.\n",
        "\"엄마, 저애를 신데렐라라고 불러야겠어요.\"\n",
        "\"온통 재투성이잖아요. 호호호!\" 두 언니는 소녀를 놀려 댔어요.\n",
        "\n",
        "* 중간<br>\n",
        "어느 날, 왕궁에서 무도회가 열렸어요.\n",
        "신데렐라의 집에도 초대장이 왔어요.\n",
        "새어머니는 언니들을 데리고 무도회장으로 떠났어요.\n",
        "신데렐라도 무도회에 가고 싶었어요.\n",
        "혼자 남은 신데렐라는 훌쩍훌쩍 울기 시작했어요.\n",
        "\"신데렐라, 너도 무도회에 가고 싶니?\"\n",
        "신데렐라가 고개를 들어보니, 마법사 할머니가 빙그레 웃고 있었어요.\n",
        "\"내가 너를 무도회에 보내주마 호박 한개와 생쥐 두마리, 도마뱀을 구해 오렴.\"\n",
        "마법사 할머니가 주문을 외웠어요.\n",
        "그리고 지팡이로 호박을 건드리자, 호박이 화려한 황금 마차로 변했어요.\n",
        "이번에는 생쥐와 도마뱀을 건드렸어요.\n",
        "그랬더니 생쥐는 흰말로, 도마뱀은 멋진 마부로 변했답니다.\n",
        "신데렐라의 옷도 구슬 장식이 반짝이는 예쁜 드레스로 바뀌웠어요.\n",
        "\"신데렐라, 발을 내밀어 보거라.\"\n",
        "할머니는 신데렐라에게 반짝반짝 빛나는 유리 구두를 신겨 주었어요.\n",
        "\"신데렐라, 밤 열두시가 되면 모든게 처음대로 돌아간단다. 황금 마차는 호박으로, 흰말은 생쥐로, 마부는 도마뱀으로 변하게 돼. 그러니까 반드시 밤 열두 시가 되기 전에 돌아와야 해. 알겠지?\"\n",
        "왕자님도 아름다운 신데렐라에게 마음을 빼았겼어요.\n",
        "왕자님은 무도회장에 모인 다른 아가씨들은 쳐다보지도 않고,신데렐라하고만 춤을 추었어요.\n",
        "신데렐라는 왕자님과 춤을 추느라 시간 가는 줄도 몰랐어요.\n",
        "땡, 땡, 땡...... 벽시계가 열두 시를 알리는 소리에 신데렐라는 화들짝 놀랐어요.\n",
        "신데렐라가 허둥지둥 왕궁을 빠져나가는데,\n",
        "유리 구두 한 짝이 벗겨졌어요.\n",
        "하지만 구두를 주울 틈이 없었어요.\n",
        "신데렐라를 뛰쫓아오던 왕자님은 층계에서 유리 구두 한 짝을 주웠어요.\n",
        "왕자님은 유리 구두를 가지고 임금님께 가서 말했어요.\n",
        "\"이 유리 구두의 주인과 결혼하겠어요.\"\n",
        "\n",
        "* 결말부<br>\n",
        "그래서 신하들은 유리 구두의 주인을 찾아 온 나라를 돌아다녔어요.\n",
        "언니들은 발을 오므려도 보고, 구두를 늘려도 보았지만 한눈에 보기에도 유리 구두는 너무 작았어요.\n",
        "그때, 신데렐라가 조용히 다가와 말했어요.\n",
        "\"저도 한번 신어 볼 수 있나요?\"\n",
        "신데렐라는 신하게 건넨 유리 구두를 신었어요,\n",
        "유리 구두는 신데렐라의 발에 꼭 맞았어요.\n",
        "신하들은 신데렐라를 왕궁으로 데리고 갔어요.\n",
        "그 뒤 신데렐라는 왕자님과 결혼하여 오래오래 행복하게 살았대요."
      ]
    },
    {
      "cell_type": "markdown",
      "metadata": {
        "id": "7_eAwIPLb4aj"
      },
      "source": [
        "## 비교 대상 요약 알고리즘 준비"
      ]
    },
    {
      "cell_type": "code",
      "metadata": {
        "id": "_7Ty6_5gb_zR"
      },
      "source": [
        "def similarity(query_text, org_text):\n",
        "    sentences = nltk.sent_tokenize(org_text)\n",
        "    print(\"Num sentences:\", len(sentences))\n",
        "    querys = nltk.sent_tokenize(query_text)\n",
        "    print(\"Num querys:\", len(querys))\n",
        "\n",
        "    #Compute the sentence embeddings\n",
        "    org_embeddings = s_discriminator._embedder.encode(sentences,show_progress_bar=False)\n",
        "    query_embeddings = s_discriminator._embedder.encode(querys,show_progress_bar=False)\n",
        "\n",
        "    #Compute the pair-wise cosine similarities\n",
        "    cos_scores = scipy.spatial.distance.cdist(query_embeddings, org_embeddings, \"cosine\")\n",
        "    similarity_score = 1.0 - np.mean(np.min(cos_scores,axis=0))\n",
        "\n",
        "    return similarity_score\n",
        "\n",
        "def grammarity(text):\n",
        "    \n",
        "    input_ids = []\n",
        "    attention_masks = []\n",
        "\n",
        "    sentences = np.asarray(nltk.sent_tokenize(text))\n",
        "    # For every sentence...\n",
        "    for sent in sentences:\n",
        "        # `encode_plus` will:\n",
        "        #   (1) Tokenize the sentence.\n",
        "        #   (2) Prepend the `[CLS]` token to the start.\n",
        "        #   (3) Append the `[SEP]` token to the end.\n",
        "        #   (4) Map tokens to their IDs.\n",
        "        #   (5) Pad or truncate the sentence to `max_length`\n",
        "        #   (6) Create attention masks for [PAD] tokens.\n",
        "        encoded_dict = g_discriminator.tokenizer.encode_plus(\n",
        "                            sent,                      # Sentence to encode.\n",
        "                            add_special_tokens = True, # Add '[CLS]' and '[SEP]'\n",
        "                            max_length = 64,           # Pad & truncate all sentences.\n",
        "                            pad_to_max_length = True,\n",
        "                            return_attention_mask = True,   # Construct attn. masks.\n",
        "                            return_tensors = 'pt',     # Return pytorch tensors.\n",
        "                            truncation = True,\n",
        "                       )\n",
        "        # Add the encoded sentence to the list.    \n",
        "        input_ids.append(encoded_dict['input_ids'])\n",
        "\n",
        "        # And its attention mask (simply differentiates padding from non-padding).\n",
        "        attention_masks.append(encoded_dict['attention_mask'])\n",
        "\n",
        "    # Convert the lists into tensors.\n",
        "    input_ids = torch.cat(input_ids, dim=0).to(device)\n",
        "    attention_masks = torch.cat(attention_masks, dim=0).to(device)\n",
        "    g_discriminator.discriminator.to(device)\n",
        "    #if str(discriminator1.device) == 'cpu':\n",
        "    #    pass\n",
        "    #else:\n",
        "    #    input_ids = input_ids.to(device)\n",
        "    #    attention_masks = attention_masks.to(device)        \n",
        "\n",
        "    with torch.no_grad():        \n",
        "        outputs = g_discriminator.discriminator(input_ids, \n",
        "                               token_type_ids=None, \n",
        "                               attention_mask=attention_masks)\n",
        "    #return torch.sigmoid(outputs[0][:,1])\n",
        "    return torch.mean(outputs[0][:,1]).detach().cpu().numpy()\n",
        "    #return outputs"
      ],
      "execution_count": 18,
      "outputs": []
    },
    {
      "cell_type": "code",
      "metadata": {
        "id": "oLbWuwKXcMyk"
      },
      "source": [
        "import pandas as pd\n",
        "\n",
        "def evaluate(method_name, text):\n",
        "    result = {}\n",
        "    result['method'] = [method_name]\n",
        "    result['comp ratio'] = len(text)/len(org_text)\n",
        "    result['intro'] = [similarity(text,org_text_1)]\n",
        "    result['body'] = [similarity(text,org_text_2)]\n",
        "    result['ending'] = [similarity(text,org_text_3)]\n",
        "    result['total'] = [similarity(text,org_text)]\n",
        "    result['grammar'] = [np.tanh(float(grammarity(text)))]\n",
        "    return pd.DataFrame(result)"
      ],
      "execution_count": 73,
      "outputs": []
    },
    {
      "cell_type": "code",
      "metadata": {
        "id": "utotZ2vLcSSO"
      },
      "source": [
        "\"\"\"\n",
        "LexRank implementation\n",
        "Source: https://github.com/crabcamp/lexrank/tree/dev\n",
        "\"\"\"\n",
        "\n",
        "import numpy as np\n",
        "from scipy.sparse.csgraph import connected_components\n",
        "\n",
        "def degree_centrality_scores(\n",
        "    similarity_matrix,\n",
        "    threshold=None,\n",
        "    increase_power=True,\n",
        "):\n",
        "    if not (\n",
        "        threshold is None\n",
        "        or isinstance(threshold, float)\n",
        "        and 0 <= threshold < 1\n",
        "    ):\n",
        "        raise ValueError(\n",
        "            '\\'threshold\\' should be a floating-point number '\n",
        "            'from the interval [0, 1) or None',\n",
        "        )\n",
        "\n",
        "    if threshold is None:\n",
        "        markov_matrix = create_markov_matrix(similarity_matrix)\n",
        "\n",
        "    else:\n",
        "        markov_matrix = create_markov_matrix_discrete(\n",
        "            similarity_matrix,\n",
        "            threshold,\n",
        "        )\n",
        "\n",
        "    scores = stationary_distribution(\n",
        "        markov_matrix,\n",
        "        increase_power=increase_power,\n",
        "        normalized=False,\n",
        "    )\n",
        "\n",
        "    return scores\n",
        "\n",
        "\n",
        "def _power_method(transition_matrix, increase_power=True):\n",
        "    eigenvector = np.ones(len(transition_matrix))\n",
        "\n",
        "    if len(eigenvector) == 1:\n",
        "        return eigenvector\n",
        "\n",
        "    transition = transition_matrix.transpose()\n",
        "\n",
        "    while True:\n",
        "        eigenvector_next = np.dot(transition, eigenvector)\n",
        "\n",
        "        if np.allclose(eigenvector_next, eigenvector):\n",
        "            return eigenvector_next\n",
        "\n",
        "        eigenvector = eigenvector_next\n",
        "\n",
        "        if increase_power:\n",
        "            transition = np.dot(transition, transition)\n",
        "\n",
        "\n",
        "def connected_nodes(matrix):\n",
        "    _, labels = connected_components(matrix)\n",
        "\n",
        "    groups = []\n",
        "\n",
        "    for tag in np.unique(labels):\n",
        "        group = np.where(labels == tag)[0]\n",
        "        groups.append(group)\n",
        "\n",
        "    return groups\n",
        "\n",
        "\n",
        "def create_markov_matrix(weights_matrix):\n",
        "    n_1, n_2 = weights_matrix.shape\n",
        "    if n_1 != n_2:\n",
        "        raise ValueError('\\'weights_matrix\\' should be square')\n",
        "\n",
        "    row_sum = weights_matrix.sum(axis=1, keepdims=True)\n",
        "\n",
        "    return weights_matrix / row_sum\n",
        "\n",
        "\n",
        "def create_markov_matrix_discrete(weights_matrix, threshold):\n",
        "    discrete_weights_matrix = np.zeros(weights_matrix.shape)\n",
        "    ixs = np.where(weights_matrix >= threshold)\n",
        "    discrete_weights_matrix[ixs] = 1\n",
        "\n",
        "    return create_markov_matrix(discrete_weights_matrix)\n",
        "\n",
        "\n",
        "def graph_nodes_clusters(transition_matrix, increase_power=True):\n",
        "    clusters = connected_nodes(transition_matrix)\n",
        "    clusters.sort(key=len, reverse=True)\n",
        "\n",
        "    centroid_scores = []\n",
        "\n",
        "    for group in clusters:\n",
        "        t_matrix = transition_matrix[np.ix_(group, group)]\n",
        "        eigenvector = _power_method(t_matrix, increase_power=increase_power)\n",
        "        centroid_scores.append(eigenvector / len(group))\n",
        "\n",
        "    return clusters, centroid_scores\n",
        "\n",
        "\n",
        "def stationary_distribution(\n",
        "    transition_matrix,\n",
        "    increase_power=True,\n",
        "    normalized=True,\n",
        "):\n",
        "    n_1, n_2 = transition_matrix.shape\n",
        "    if n_1 != n_2:\n",
        "        raise ValueError('\\'transition_matrix\\' should be square')\n",
        "\n",
        "    distribution = np.zeros(n_1)\n",
        "\n",
        "    grouped_indices = connected_nodes(transition_matrix)\n",
        "\n",
        "    for group in grouped_indices:\n",
        "        t_matrix = transition_matrix[np.ix_(group, group)]\n",
        "        eigenvector = _power_method(t_matrix, increase_power=increase_power)\n",
        "        distribution[group] = eigenvector\n",
        "\n",
        "    if normalized:\n",
        "        distribution /= n_1\n",
        "\n",
        "    return distribution"
      ],
      "execution_count": 20,
      "outputs": []
    },
    {
      "cell_type": "markdown",
      "metadata": {
        "id": "M25NP9gOeX15"
      },
      "source": [
        "\n",
        "* Hands-on Guide To Extractive Text Summarization With BERTSum<br>\n",
        "https://analyticsindiamag.com/hands-on-guide-to-extractive-text-summarization-with-bertsum/ <br>\n",
        "https://pypi.org/project/bert-extractive-summarizer/"
      ]
    },
    {
      "cell_type": "code",
      "metadata": {
        "id": "c9oEW5wyeI9C",
        "colab": {
          "base_uri": "https://localhost:8080/"
        },
        "outputId": "864b65de-e793-41e2-b26d-fc045cc96136"
      },
      "source": [
        "!pip install bert-extractive-summarizer"
      ],
      "execution_count": 21,
      "outputs": [
        {
          "output_type": "stream",
          "text": [
            "Collecting bert-extractive-summarizer\n",
            "  Downloading https://files.pythonhosted.org/packages/e4/73/a1faff60824aa5a3746dc6b73ad666b936250178f296a09ddd13911c8c86/bert_extractive_summarizer-0.6.1-py3-none-any.whl\n",
            "Requirement already satisfied: spacy in /usr/local/lib/python3.6/dist-packages (from bert-extractive-summarizer) (2.2.4)\n",
            "Requirement already satisfied: scikit-learn in /usr/local/lib/python3.6/dist-packages (from bert-extractive-summarizer) (0.22.2.post1)\n",
            "Requirement already satisfied: transformers in /usr/local/lib/python3.6/dist-packages (from bert-extractive-summarizer) (3.0.2)\n",
            "Requirement already satisfied: preshed<3.1.0,>=3.0.2 in /usr/local/lib/python3.6/dist-packages (from spacy->bert-extractive-summarizer) (3.0.5)\n",
            "Requirement already satisfied: murmurhash<1.1.0,>=0.28.0 in /usr/local/lib/python3.6/dist-packages (from spacy->bert-extractive-summarizer) (1.0.5)\n",
            "Requirement already satisfied: wasabi<1.1.0,>=0.4.0 in /usr/local/lib/python3.6/dist-packages (from spacy->bert-extractive-summarizer) (0.8.0)\n",
            "Requirement already satisfied: cymem<2.1.0,>=2.0.2 in /usr/local/lib/python3.6/dist-packages (from spacy->bert-extractive-summarizer) (2.0.5)\n",
            "Requirement already satisfied: thinc==7.4.0 in /usr/local/lib/python3.6/dist-packages (from spacy->bert-extractive-summarizer) (7.4.0)\n",
            "Requirement already satisfied: plac<1.2.0,>=0.9.6 in /usr/local/lib/python3.6/dist-packages (from spacy->bert-extractive-summarizer) (1.1.3)\n",
            "Requirement already satisfied: catalogue<1.1.0,>=0.0.7 in /usr/local/lib/python3.6/dist-packages (from spacy->bert-extractive-summarizer) (1.0.0)\n",
            "Requirement already satisfied: tqdm<5.0.0,>=4.38.0 in /usr/local/lib/python3.6/dist-packages (from spacy->bert-extractive-summarizer) (4.41.1)\n",
            "Requirement already satisfied: blis<0.5.0,>=0.4.0 in /usr/local/lib/python3.6/dist-packages (from spacy->bert-extractive-summarizer) (0.4.1)\n",
            "Requirement already satisfied: srsly<1.1.0,>=1.0.2 in /usr/local/lib/python3.6/dist-packages (from spacy->bert-extractive-summarizer) (1.0.5)\n",
            "Requirement already satisfied: setuptools in /usr/local/lib/python3.6/dist-packages (from spacy->bert-extractive-summarizer) (51.3.3)\n",
            "Requirement already satisfied: numpy>=1.15.0 in /usr/local/lib/python3.6/dist-packages (from spacy->bert-extractive-summarizer) (1.19.5)\n",
            "Requirement already satisfied: requests<3.0.0,>=2.13.0 in /usr/local/lib/python3.6/dist-packages (from spacy->bert-extractive-summarizer) (2.23.0)\n",
            "Requirement already satisfied: scipy>=0.17.0 in /usr/local/lib/python3.6/dist-packages (from scikit-learn->bert-extractive-summarizer) (1.4.1)\n",
            "Requirement already satisfied: joblib>=0.11 in /usr/local/lib/python3.6/dist-packages (from scikit-learn->bert-extractive-summarizer) (1.0.0)\n",
            "Requirement already satisfied: sentencepiece!=0.1.92 in /usr/local/lib/python3.6/dist-packages (from transformers->bert-extractive-summarizer) (0.1.95)\n",
            "Requirement already satisfied: dataclasses; python_version < \"3.7\" in /usr/local/lib/python3.6/dist-packages (from transformers->bert-extractive-summarizer) (0.8)\n",
            "Requirement already satisfied: tokenizers==0.8.1.rc1 in /usr/local/lib/python3.6/dist-packages (from transformers->bert-extractive-summarizer) (0.8.1rc1)\n",
            "Requirement already satisfied: filelock in /usr/local/lib/python3.6/dist-packages (from transformers->bert-extractive-summarizer) (3.0.12)\n",
            "Requirement already satisfied: packaging in /usr/local/lib/python3.6/dist-packages (from transformers->bert-extractive-summarizer) (20.8)\n",
            "Requirement already satisfied: sacremoses in /usr/local/lib/python3.6/dist-packages (from transformers->bert-extractive-summarizer) (0.0.43)\n",
            "Requirement already satisfied: regex!=2019.12.17 in /usr/local/lib/python3.6/dist-packages (from transformers->bert-extractive-summarizer) (2019.12.20)\n",
            "Requirement already satisfied: importlib-metadata>=0.20; python_version < \"3.8\" in /usr/local/lib/python3.6/dist-packages (from catalogue<1.1.0,>=0.0.7->spacy->bert-extractive-summarizer) (3.3.0)\n",
            "Requirement already satisfied: urllib3!=1.25.0,!=1.25.1,<1.26,>=1.21.1 in /usr/local/lib/python3.6/dist-packages (from requests<3.0.0,>=2.13.0->spacy->bert-extractive-summarizer) (1.24.3)\n",
            "Requirement already satisfied: chardet<4,>=3.0.2 in /usr/local/lib/python3.6/dist-packages (from requests<3.0.0,>=2.13.0->spacy->bert-extractive-summarizer) (3.0.4)\n",
            "Requirement already satisfied: idna<3,>=2.5 in /usr/local/lib/python3.6/dist-packages (from requests<3.0.0,>=2.13.0->spacy->bert-extractive-summarizer) (2.10)\n",
            "Requirement already satisfied: certifi>=2017.4.17 in /usr/local/lib/python3.6/dist-packages (from requests<3.0.0,>=2.13.0->spacy->bert-extractive-summarizer) (2020.12.5)\n",
            "Requirement already satisfied: pyparsing>=2.0.2 in /usr/local/lib/python3.6/dist-packages (from packaging->transformers->bert-extractive-summarizer) (2.4.7)\n",
            "Requirement already satisfied: click in /usr/local/lib/python3.6/dist-packages (from sacremoses->transformers->bert-extractive-summarizer) (7.1.2)\n",
            "Requirement already satisfied: six in /usr/local/lib/python3.6/dist-packages (from sacremoses->transformers->bert-extractive-summarizer) (1.15.0)\n",
            "Requirement already satisfied: zipp>=0.5 in /usr/local/lib/python3.6/dist-packages (from importlib-metadata>=0.20; python_version < \"3.8\"->catalogue<1.1.0,>=0.0.7->spacy->bert-extractive-summarizer) (3.4.0)\n",
            "Requirement already satisfied: typing-extensions>=3.6.4; python_version < \"3.8\" in /usr/local/lib/python3.6/dist-packages (from importlib-metadata>=0.20; python_version < \"3.8\"->catalogue<1.1.0,>=0.0.7->spacy->bert-extractive-summarizer) (3.7.4.3)\n",
            "Installing collected packages: bert-extractive-summarizer\n",
            "Successfully installed bert-extractive-summarizer-0.6.1\n"
          ],
          "name": "stdout"
        }
      ]
    },
    {
      "cell_type": "code",
      "metadata": {
        "id": "IRNkJW3pedoS",
        "colab": {
          "base_uri": "https://localhost:8080/",
          "height": 220,
          "referenced_widgets": [
            "82cf0b464fc641f285256d6f194097ea",
            "bb93fb8dcd7746ca9bedb26f9de30995",
            "94a0047bd2bd47cb9a64e36b49e783f2",
            "02307db466174cd1860ee4f38b4e7aa4",
            "a5ffcd5f997b45f9aa043e0aa1e5824e",
            "d5935b1b3bf6423992e89e498843b4e2",
            "94fb1dc0cb7245448d039eb8b4dba525",
            "38d28fac5e054f308bd6d0d0fd1c4fed",
            "d4c42fc0b94e41deaf49578f5123faaa",
            "da1579b29c654deba5e54035ecc301bc",
            "0a538d0f14134fca927bd1d49a78104d",
            "84c46812eafc4df9a470c399aa23a3ac",
            "4321ee0aebc9493394f258b9fcc52e9c",
            "e3706040affc4d3e83580cd52764e822",
            "cc922042c5bd435eb1be579696097215",
            "3a46e33cc1374ca58c60131857e2329b",
            "2fe3e21650954ba687af54d4c4c9d38b",
            "e414c9a579cd4ff0979dec4164e47ef3",
            "a31d68039ecc48f5a6aff12d672cfd04",
            "dcfe050f0832434aba2e97df85307881",
            "cd28a0b69b6d4dca92794f4aaf340047",
            "5c51d850d6d647218bb438f652ab5df1",
            "f25005d96df84a99be9e71cf5f42e5f4",
            "02909cf705634ab994a16e207964f3e2",
            "561b99ecd1404ef1af838c400d104244",
            "61f5fa48fd0b446e8f857d17e6d57667",
            "9487e2e177264f3e84baaf558f72525b",
            "323b1961919049e1b0a815af4d67ccb9",
            "182ea1bacf5f4c9396870ffd25ac3d75",
            "e38bb0f358424991bdec04fc2de4a920",
            "274eec09ec074da7b11bfe7796804c2f",
            "e2c09fac7e004186af003e4cb899385a"
          ]
        },
        "outputId": "63b6311f-cffc-4597-cf1c-71eb79db961b"
      },
      "source": [
        "from transformers import *\n",
        "\n",
        "SQUAD_MODEL = \"monologg/kobert\"\n",
        "\n",
        "# Load model, model config and tokenizer via Transformers\n",
        "custom_config = AutoConfig.from_pretrained(SQUAD_MODEL)\n",
        "custom_config.output_hidden_states=True\n",
        "custom_tokenizer = AutoTokenizer.from_pretrained(SQUAD_MODEL)\n",
        "custom_model = AutoModel.from_pretrained(SQUAD_MODEL, config=custom_config)"
      ],
      "execution_count": 22,
      "outputs": [
        {
          "output_type": "display_data",
          "data": {
            "application/vnd.jupyter.widget-view+json": {
              "model_id": "82cf0b464fc641f285256d6f194097ea",
              "version_minor": 0,
              "version_major": 2
            },
            "text/plain": [
              "HBox(children=(FloatProgress(value=0.0, description='Downloading', max=426.0, style=ProgressStyle(description_…"
            ]
          },
          "metadata": {
            "tags": []
          }
        },
        {
          "output_type": "stream",
          "text": [
            "\n"
          ],
          "name": "stdout"
        },
        {
          "output_type": "display_data",
          "data": {
            "application/vnd.jupyter.widget-view+json": {
              "model_id": "d4c42fc0b94e41deaf49578f5123faaa",
              "version_minor": 0,
              "version_major": 2
            },
            "text/plain": [
              "HBox(children=(FloatProgress(value=0.0, description='Downloading', max=77779.0, style=ProgressStyle(descriptio…"
            ]
          },
          "metadata": {
            "tags": []
          }
        },
        {
          "output_type": "stream",
          "text": [
            "\n"
          ],
          "name": "stdout"
        },
        {
          "output_type": "display_data",
          "data": {
            "application/vnd.jupyter.widget-view+json": {
              "model_id": "2fe3e21650954ba687af54d4c4c9d38b",
              "version_minor": 0,
              "version_major": 2
            },
            "text/plain": [
              "HBox(children=(FloatProgress(value=0.0, description='Downloading', max=51.0, style=ProgressStyle(description_w…"
            ]
          },
          "metadata": {
            "tags": []
          }
        },
        {
          "output_type": "stream",
          "text": [
            "\n"
          ],
          "name": "stdout"
        },
        {
          "output_type": "display_data",
          "data": {
            "application/vnd.jupyter.widget-view+json": {
              "model_id": "561b99ecd1404ef1af838c400d104244",
              "version_minor": 0,
              "version_major": 2
            },
            "text/plain": [
              "HBox(children=(FloatProgress(value=0.0, description='Downloading', max=368792146.0, style=ProgressStyle(descri…"
            ]
          },
          "metadata": {
            "tags": []
          }
        },
        {
          "output_type": "stream",
          "text": [
            "\n"
          ],
          "name": "stdout"
        }
      ]
    },
    {
      "cell_type": "markdown",
      "metadata": {
        "id": "C5sxAsEnbtqO"
      },
      "source": [
        "##5.2 단문 스토리 실험"
      ]
    },
    {
      "cell_type": "code",
      "metadata": {
        "id": "arjHABr6W07R"
      },
      "source": [
        "org_text_1 = \"\"\"\n",
        "나무꾼이 나무를 하다가 숲 속에서 도망치는 사슴을 만났는데, 이 사슴이 사냥꾼이 쫓아오고 있으니 자신을 숨겨달라고 말했다. 말하는 사슴을 신기하게 여긴 나무꾼이 사슴을 숨겨줬고, 뒤쫓아 온 사냥꾼을 다른 방향으로 보내서 구해주었다.\n",
        "\"\"\"\n",
        "\n",
        "org_text_2 = \"\"\"\n",
        "사슴은 은혜를 갚겠다고 하면서, 나무꾼에게 선녀들이 하늘에서 내려와서 목욕하는 선녀탕이라는 샘과 선녀들이 목욕을 하러 오는 시기, 선녀의 옷을 훔쳐 그를 아내로 삼도록 하는 꾀를 나무꾼에게 가르쳐 주었다. 나무꾼은 반신반의 하면서도 사슴이 가르쳐준 시기에 선녀들이 목욕을 하러 내려온다는 샘으로 찾아가 몸을 숨겼다. 그렇게 잠시간 기다리자 과연, 선녀들이 하늘에서 내려와 날개옷을 벗고 선녀탕에서 목욕을 하는 것이었다. 나무꾼은 사슴이 가르쳐준 대로 날개옷을 하나 훔쳤다.\n",
        "\"\"\"\n",
        "\n",
        "org_text_3 = \"\"\"\n",
        "날개옷이 없어진 탓에 한 명의 선녀는 하늘로 올라가지 못했으며 다른 선녀들은 날개옷이 없는 선녀를 내버려두고 하늘로 돌아갔다. 이때 나무꾼이 홀로 남은 선녀에게 자신의 아내가 되어달라고 하자, 하늘나라로 올라가지 못하게 된 선녀는 할 수 없이 나무꾼에게 의탁하게 되었다.\n",
        "\"\"\"\n",
        "\n",
        "org_text = org_text_1 + org_text_2 + org_text_3\n"
      ],
      "execution_count": 45,
      "outputs": []
    },
    {
      "cell_type": "markdown",
      "metadata": {
        "id": "TEVB--b2exPc"
      },
      "source": [
        "###5.2.1 SAM+GAN"
      ]
    },
    {
      "cell_type": "code",
      "metadata": {
        "id": "ELeHkuDOe3DF",
        "colab": {
          "base_uri": "https://localhost:8080/"
        },
        "outputId": "ef7134f8-ed91-47bd-9e5f-c84214011f70"
      },
      "source": [
        "source = Source(org_text)\n",
        "source.extract_keywords(s_discriminator,key_model)"
      ],
      "execution_count": 46,
      "outputs": [
        {
          "output_type": "stream",
          "text": [
            "------------------------------------------------------------------\n",
            "나무꾼이 나무를 하다가 숲 속에서 도망치는 사슴을 만났는데, 이 사슴이 사냥꾼이 쫓아오고 있으니 자신을 숨겨달라고 말했다. 말하는 사슴을 신기하게 여긴 나무꾼이 사슴을 숨겨줬고, 뒤쫓아 온 사냥꾼을 다른 방향으로 보내서 구해주었다. 사슴은 은혜를 갚겠다고 하면서, 나무꾼에게 선녀들이 하늘에서 내려와서 목욕하는 선녀탕이라는 샘과 선녀들이 목욕을 하러 오는 시기, 선녀의 옷을 훔쳐 그를 아내로 삼도록 하는 꾀를 나무꾼에게 가르쳐 주었다. 나무꾼은 반신반의 하면서도 사슴이 가르쳐준 시기에 선녀들이 목욕을 하러 내려온다는 샘으로 찾아가 몸을 숨겼다. 그렇게 잠시간 기다리자 과연, 선녀들이 하늘에서 내려와 날개옷을 벗고 선녀탕에서 목욕을 하는 것이었다. 나무꾼은 사슴이 가르쳐준 대로 날개옷을 하나 훔쳤다. 날개옷이 없어진 탓에 한 명의 선녀는 하늘로 올라가지 못했으며 다른 선녀들은 날개옷이 없는 선녀를 내버려두고 하늘로 돌아갔다. 이때 나무꾼이 홀로 남은 선녀에게 자신의 아내가 되어달라고 하자, 하늘나라로 올라가지 못하게 된 선녀는 할 수 없이 나무꾼에게 의탁하게 되었다.\n",
            "------------------------------------------------------------------\n",
            "Token table of origin text\n",
            "---------------------------------------------\n",
            " Code     Token     \n",
            "  0         \n",
            "  1         나무꾼이\n",
            "  2         나무를\n",
            "  3         하다가\n",
            "  4         숲\n",
            "  5         속에서\n",
            "  6         도망치는\n",
            "  7         사슴을\n",
            "  8         만났는데,\n",
            "  9         이\n",
            "  10        사슴이\n",
            "  11        사냥꾼이\n",
            "  12        쫓아오고\n",
            "  13        있으니\n",
            "  14        자신을\n",
            "  15        숨겨달라고\n",
            "  16        말했다.\n",
            "  17        말하는\n",
            "  18        사슴을\n",
            "  19        신기하게\n",
            "  20        여긴\n",
            "  21        나무꾼이\n",
            "  22        사슴을\n",
            "  23        숨겨줬고,\n",
            "  24        뒤쫓아\n",
            "  25        온\n",
            "  26        사냥꾼을\n",
            "  27        다른\n",
            "  28        방향으로\n",
            "  29        보내서\n",
            "  30        구해주었다.\n",
            "  31        사슴은\n",
            "  32        은혜를\n",
            "  33        갚겠다고\n",
            "  34        하면서,\n",
            "  35        나무꾼에게\n",
            "  36        선녀들이\n",
            "  37        하늘에서\n",
            "  38        내려와서\n",
            "  39        목욕하는\n",
            "  40        선녀탕이라는\n",
            "  41        샘과\n",
            "  42        선녀들이\n",
            "  43        목욕을\n",
            "  44        하러\n",
            "  45        오는\n",
            "  46        시기,\n",
            "  47        선녀의\n",
            "  48        옷을\n",
            "  49        훔쳐\n",
            "  50        그를\n",
            "  51        아내로\n",
            "  52        삼도록\n",
            "  53        하는\n",
            "  54        꾀를\n",
            "  55        나무꾼에게\n",
            "  56        가르쳐\n",
            "  57        주었다.\n",
            "  58        나무꾼은\n",
            "  59        반신반의\n",
            "  60        하면서도\n",
            "  61        사슴이\n",
            "  62        가르쳐준\n",
            "  63        시기에\n",
            "  64        선녀들이\n",
            "  65        목욕을\n",
            "  66        하러\n",
            "  67        내려온다는\n",
            "  68        샘으로\n",
            "  69        찾아가\n",
            "  70        몸을\n",
            "  71        숨겼다.\n",
            "  72        그렇게\n",
            "  73        잠시간\n",
            "  74        기다리자\n",
            "  75        과연,\n",
            "  76        선녀들이\n",
            "  77        하늘에서\n",
            "  78        내려와\n",
            "  79        날개옷을\n",
            "  80        벗고\n",
            "  81        선녀탕에서\n",
            "  82        목욕을\n",
            "  83        하는\n",
            "  84        것이었다.\n",
            "  85        나무꾼은\n",
            "  86        사슴이\n",
            "  87        가르쳐준\n",
            "  88        대로\n",
            "  89        날개옷을\n",
            "  90        하나\n",
            "  91        훔쳤다.\n",
            "  92        날개옷이\n",
            "  93        없어진\n",
            "  94        탓에\n",
            "  95        한\n",
            "  96        명의\n",
            "  97        선녀는\n",
            "  98        하늘로\n",
            "  99        올라가지\n",
            "  100       못했으며\n",
            "  101       다른\n",
            "  102       선녀들은\n",
            "  103       날개옷이\n",
            "  104       없는\n",
            "  105       선녀를\n",
            "  106       내버려두고\n",
            "  107       하늘로\n",
            "  108       돌아갔다.\n",
            "  109       이때\n",
            "  110       나무꾼이\n",
            "  111       홀로\n",
            "  112       남은\n",
            "  113       선녀에게\n",
            "  114       자신의\n",
            "  115       아내가\n",
            "  116       되어달라고\n",
            "  117       하자,\n",
            "  118       하늘나라로\n",
            "  119       올라가지\n",
            "  120       못하게\n",
            "  121       된\n",
            "  122       선녀는\n",
            "  123       할\n",
            "  124       수\n",
            "  125       없이\n",
            "  126       나무꾼에게\n",
            "  127       의탁하게\n",
            "  128       되었다.\n",
            "  129       \n",
            "---------------------------------------------\n",
            "word density scan : |||||||||||||||||||||| 100.0%   filer:[0] 1/129       \n",
            "story density scan: |||||||||||||||||||||| 100.0%   filer:[0, 1] 1/128       \n",
            "story density scan: |||||||||||||||||||||| 100.0%   filer:[0, 1, 2] 1/127       \n",
            "story density scan: |||||||||||||||||||||| 100.0%   filer:[0, 1, 2, 3] 1/126       \n",
            "Negative words: ['숲' '사슴을' '사슴을' '사슴을' '사슴은' '나무꾼에게' '선녀들이' '훔쳐' '아내로' '나무꾼에게' '사슴이'\n",
            " '선녀들이' '잠시간' '선녀들이' '사슴이' '선녀는' '선녀들은' '선녀를' '나무꾼이' '선녀에게' '선녀는' '나무꾼에게']\n",
            "keywords len 26\n",
            "story_peaks: [  6  14  15  17  19  36  37  38  39  40  43  52  59  60  62  65  67  77\n",
            "  81  82  87  99 106 118 119 127 128]\n",
            "Peak count: 27\n",
            "Frame text: 도망치는 자신을 숨겨달라고 말하는 신기하게 선녀들이 하늘에서 내려와서 목욕하는 선녀탕이라는 목욕을 삼도록 반신반의 하면서도 가르쳐준 목욕을 내려온다는 하늘에서 선녀탕에서 목욕을 가르쳐준 올라가지 내버려두고 하늘나라로 올라가지 의탁하게 되었다. \n"
          ],
          "name": "stdout"
        }
      ]
    },
    {
      "cell_type": "code",
      "metadata": {
        "id": "vHpi0fiQfC0k",
        "colab": {
          "base_uri": "https://localhost:8080/",
          "height": 769
        },
        "outputId": "3aa05399-b3f5-4937-babf-5ab4a5f6bdf7"
      },
      "source": [
        "summarizer = SAM_Summarizer(g_discriminator,s_discriminator)\n",
        "#source = Source(org_text)\n",
        "summarizer.ready(source)\n",
        "summarizer.summarize(epochs=150,batch_size=1,frame_expansion_ratio = 1.0,init_bias=0.2,learning_rate=1e-4)"
      ],
      "execution_count": 80,
      "outputs": [
        {
          "output_type": "stream",
          "text": [
            "Train... |||||||||||||||||||||| 100.0%   150/150 epochs, Generator / grammar loss:-0.45144838094711304   similarity loss:-0.2771892845630646\n"
          ],
          "name": "stdout"
        },
        {
          "output_type": "display_data",
          "data": {
            "image/png": "[encoded data removed]",
            "text/plain": [
              "<Figure size 864x432 with 1 Axes>"
            ]
          },
          "metadata": {
            "tags": [],
            "needs_background": "light"
          }
        },
        {
          "output_type": "display_data",
          "data": {
            "image/png": "[encoded data removed]",
            "text/plain": [
              "<Figure size 864x432 with 1 Axes>"
            ]
          },
          "metadata": {
            "tags": [],
            "needs_background": "light"
          }
        },
        {
          "output_type": "execute_result",
          "data": {
            "text/plain": [
              "<__main__.SAM_Summarizer at 0x7f76c728a0b8>"
            ]
          },
          "metadata": {
            "tags": []
          },
          "execution_count": 80
        }
      ]
    },
    {
      "cell_type": "code",
      "metadata": {
        "id": "0V2j4yoafMKc",
        "colab": {
          "base_uri": "https://localhost:8080/"
        },
        "outputId": "ceb3c8cd-bec6-4652-e70c-38fed13458b9"
      },
      "source": [
        "txts = summarizer.get_summary(3)\n",
        "\n",
        "print('\\n'.join(txts))\n",
        "print('')\n",
        "print(source.frame_text)"
      ],
      "execution_count": 81,
      "outputs": [
        {
          "output_type": "stream",
          "text": [
            "도망치는 이 자신을 숨겨달라고 말하는 사슴을 신기하게 여긴 하면서, 선녀들이 하늘에서 내려와서 목욕하는 선녀탕이라는 선녀들이 목욕을 오는 시기, 옷을 삼도록 나무꾼은 반신반의 하면서도 사슴이 가르쳐준 시기에 목욕을 몸을 숨겼다. 그렇게 선녀들이 하늘에서 선녀탕에서 목욕을 하는 사슴이 가르쳐준 대로 날개옷을 날개옷이 한 올라가지 다른 선녀들은 내버려두고 하늘로 홀로 하늘나라로 올라가지 수 없이 나무꾼에게 의탁하게 되었다.\n",
            "도망치는 이 자신을 숨겨달라고 말하는 사슴을 신기하게 여긴 하면서, 선녀들이 하늘에서 내려와서 목욕하는 선녀탕이라는 선녀들이 목욕을 오는 시기, 옷을 삼도록 나무꾼은 반신반의 하면서도 사슴이 가르쳐준 시기에 목욕을 몸을 숨겼다. 그렇게 선녀들이 하늘에서 선녀탕에서 목욕을 하는 사슴이 가르쳐준 대로 날개옷을 날개옷이 한 올라가지 다른 선녀들은 내버려두고 하늘로 홀로 하늘나라로 올라가지 수 없이 나무꾼에게 의탁하게 되었다.\n",
            "도망치는 이 자신을 숨겨달라고 말하는 사슴을 신기하게 여긴 하면서, 선녀들이 하늘에서 내려와서 목욕하는 선녀탕이라는 선녀들이 목욕을 오는 시기, 옷을 삼도록 나무꾼은 반신반의 하면서도 사슴이 가르쳐준 시기에 목욕을 몸을 숨겼다. 그렇게 선녀들이 하늘에서 선녀탕에서 목욕을 하는 사슴이 가르쳐준 대로 날개옷을 날개옷이 한 올라가지 다른 선녀들은 내버려두고 하늘로 홀로 하늘나라로 올라가지 수 없이 나무꾼에게 의탁하게 되었다.\n",
            "\n",
            "도망치는 자신을 숨겨달라고 말하는 신기하게 선녀들이 하늘에서 내려와서 목욕하는 선녀탕이라는 목욕을 삼도록 반신반의 하면서도 가르쳐준 목욕을 내려온다는 하늘에서 선녀탕에서 목욕을 가르쳐준 올라가지 내버려두고 하늘나라로 올라가지 의탁하게 되었다. \n"
          ],
          "name": "stdout"
        }
      ]
    },
    {
      "cell_type": "code",
      "metadata": {
        "id": "kUrRnDhbfQ13",
        "colab": {
          "base_uri": "https://localhost:8080/",
          "height": 229
        },
        "outputId": "a90efc4e-3d66-4f47-9c75-5b214473f920"
      },
      "source": [
        "sam_gan = evaluate('SAM+WGAN',txts[0])\n",
        "sam_gan"
      ],
      "execution_count": 82,
      "outputs": [
        {
          "output_type": "stream",
          "text": [
            "Num sentences: 2\n",
            "Num querys: 2\n",
            "Num sentences: 4\n",
            "Num querys: 2\n",
            "Num sentences: 2\n",
            "Num querys: 2\n",
            "Num sentences: 8\n",
            "Num querys: 2\n"
          ],
          "name": "stdout"
        },
        {
          "output_type": "execute_result",
          "data": {
            "text/html": [
              "<div>\n",
              "<style scoped>\n",
              "    .dataframe tbody tr th:only-of-type {\n",
              "        vertical-align: middle;\n",
              "    }\n",
              "\n",
              "    .dataframe tbody tr th {\n",
              "        vertical-align: top;\n",
              "    }\n",
              "\n",
              "    .dataframe thead th {\n",
              "        text-align: right;\n",
              "    }\n",
              "</style>\n",
              "<table border=\"1\" class=\"dataframe\">\n",
              "  <thead>\n",
              "    <tr style=\"text-align: right;\">\n",
              "      <th></th>\n",
              "      <th>method</th>\n",
              "      <th>comp ratio</th>\n",
              "      <th>intro</th>\n",
              "      <th>body</th>\n",
              "      <th>ending</th>\n",
              "      <th>total</th>\n",
              "      <th>grammar</th>\n",
              "    </tr>\n",
              "  </thead>\n",
              "  <tbody>\n",
              "    <tr>\n",
              "      <th>0</th>\n",
              "      <td>SAM+WGAN</td>\n",
              "      <td>0.429091</td>\n",
              "      <td>0.67884</td>\n",
              "      <td>0.736819</td>\n",
              "      <td>0.665743</td>\n",
              "      <td>0.704555</td>\n",
              "      <td>0.99951</td>\n",
              "    </tr>\n",
              "  </tbody>\n",
              "</table>\n",
              "</div>"
            ],
            "text/plain": [
              "     method  comp ratio    intro      body    ending     total  grammar\n",
              "0  SAM+WGAN    0.429091  0.67884  0.736819  0.665743  0.704555  0.99951"
            ]
          },
          "metadata": {
            "tags": []
          },
          "execution_count": 82
        }
      ]
    },
    {
      "cell_type": "markdown",
      "metadata": {
        "id": "D45aeBsEgUvx"
      },
      "source": [
        "###5.2.2 BERT+LexRank"
      ]
    },
    {
      "cell_type": "code",
      "metadata": {
        "id": "CTqg0969gfOH",
        "colab": {
          "base_uri": "https://localhost:8080/"
        },
        "outputId": "6d3277c2-00fa-450f-ef86-55477dcdcde6"
      },
      "source": [
        "def bert_lexrank_sum(input_text,n_top=3):\n",
        "    #Split the document into sentences\n",
        "    sentences = nltk.sent_tokenize(input_text)\n",
        "    print(\"Num sentences:\", len(sentences))\n",
        "\n",
        "    #Compute the sentence embeddings\n",
        "    embeddings = s_discriminator._embedder.encode(sentences,show_progress_bar=False)\n",
        "\n",
        "    #Compute the pair-wise cosine similarities\n",
        "    cos_scores = scipy.spatial.distance.cdist(embeddings, embeddings, \"cosine\")\n",
        "    #util.pytorch_cos_sim(embeddings, embeddings).numpy()\n",
        "    print(cos_scores)\n",
        "    #Compute the centrality for each sentence\n",
        "    centrality_scores = degree_centrality_scores(cos_scores, threshold=None)\n",
        "\n",
        "    #We argsort so that the first element is the sentence with the highest score\n",
        "    most_central_sentence_indices = np.argsort(-centrality_scores)\n",
        "\n",
        "    #Print the 5 sentences with the highest scores\n",
        "    text = \"\"\n",
        "    for idx in most_central_sentence_indices[0:n_top]:\n",
        "        text += sentences[idx].strip()\n",
        "\n",
        "    return text\n",
        "\n",
        "text = bert_lexrank_sum(org_text,n_top=4)\n",
        "print(\"\\n\\nSummary:\")\n",
        "print(text)"
      ],
      "execution_count": 84,
      "outputs": [
        {
          "output_type": "stream",
          "text": [
            "Num sentences: 8\n",
            "[[1.11022302e-16 1.98528060e-01 4.51024822e-01 3.47108750e-01\n",
            "  8.98746473e-01 3.37261631e-01 7.30051881e-01 6.03217642e-01]\n",
            " [1.98528060e-01 1.11022302e-16 4.82487294e-01 3.52954367e-01\n",
            "  8.75118425e-01 3.77619443e-01 7.85524255e-01 6.78538558e-01]\n",
            " [4.51024822e-01 4.82487294e-01 0.00000000e+00 3.01469579e-01\n",
            "  5.30196429e-01 3.48999332e-01 7.53490704e-01 3.94199112e-01]\n",
            " [3.47108750e-01 3.52954367e-01 3.01469579e-01 2.22044605e-16\n",
            "  5.28696844e-01 4.30602908e-01 7.56651564e-01 5.62122556e-01]\n",
            " [8.98746473e-01 8.75118425e-01 5.30196429e-01 5.28696844e-01\n",
            "  2.22044605e-16 7.84876321e-01 4.68763621e-01 6.49872192e-01]\n",
            " [3.37261631e-01 3.77619443e-01 3.48999332e-01 4.30602908e-01\n",
            "  7.84876321e-01 2.22044605e-16 7.16583246e-01 6.14516613e-01]\n",
            " [7.30051881e-01 7.85524255e-01 7.53490704e-01 7.56651564e-01\n",
            "  4.68763621e-01 7.16583246e-01 0.00000000e+00 4.20007999e-01]\n",
            " [6.03217642e-01 6.78538558e-01 3.94199112e-01 5.62122556e-01\n",
            "  6.49872192e-01 6.14516613e-01 4.20007999e-01 0.00000000e+00]]\n",
            "\n",
            "\n",
            "Summary:\n",
            "그렇게 잠시간 기다리자 과연, 선녀들이 하늘에서 내려와 날개옷을 벗고 선녀탕에서 목욕을 하는 것이었다.날개옷이 없어진 탓에 한 명의 선녀는 하늘로 올라가지 못했으며 다른 선녀들은 날개옷이 없는 선녀를 내버려두고 하늘로 돌아갔다.이때 나무꾼이 홀로 남은 선녀에게 자신의 아내가 되어달라고 하자, 하늘나라로 올라가지 못하게 된 선녀는 할 수 없이 나무꾼에게 의탁하게 되었다.말하는 사슴을 신기하게 여긴 나무꾼이 사슴을 숨겨줬고, 뒤쫓아 온 사냥꾼을 다른 방향으로 보내서 구해주었다.\n"
          ],
          "name": "stdout"
        }
      ]
    },
    {
      "cell_type": "code",
      "metadata": {
        "id": "XD7UUA_kgm9_",
        "colab": {
          "base_uri": "https://localhost:8080/",
          "height": 229
        },
        "outputId": "65c6774f-b155-457f-c874-ed0dd1d9d9c4"
      },
      "source": [
        "bert_lexrank = evaluate('BERT+LexRank',text)\n",
        "bert_lexrank"
      ],
      "execution_count": 85,
      "outputs": [
        {
          "output_type": "stream",
          "text": [
            "Num sentences: 2\n",
            "Num querys: 1\n",
            "Num sentences: 4\n",
            "Num querys: 1\n",
            "Num sentences: 2\n",
            "Num querys: 1\n",
            "Num sentences: 8\n",
            "Num querys: 1\n"
          ],
          "name": "stdout"
        },
        {
          "output_type": "execute_result",
          "data": {
            "text/html": [
              "<div>\n",
              "<style scoped>\n",
              "    .dataframe tbody tr th:only-of-type {\n",
              "        vertical-align: middle;\n",
              "    }\n",
              "\n",
              "    .dataframe tbody tr th {\n",
              "        vertical-align: top;\n",
              "    }\n",
              "\n",
              "    .dataframe thead th {\n",
              "        text-align: right;\n",
              "    }\n",
              "</style>\n",
              "<table border=\"1\" class=\"dataframe\">\n",
              "  <thead>\n",
              "    <tr style=\"text-align: right;\">\n",
              "      <th></th>\n",
              "      <th>method</th>\n",
              "      <th>comp ratio</th>\n",
              "      <th>intro</th>\n",
              "      <th>body</th>\n",
              "      <th>ending</th>\n",
              "      <th>total</th>\n",
              "      <th>grammar</th>\n",
              "    </tr>\n",
              "  </thead>\n",
              "  <tbody>\n",
              "    <tr>\n",
              "      <th>0</th>\n",
              "      <td>BERT+LexRank</td>\n",
              "      <td>0.485455</td>\n",
              "      <td>0.423732</td>\n",
              "      <td>0.576925</td>\n",
              "      <td>0.803604</td>\n",
              "      <td>0.595296</td>\n",
              "      <td>0.999826</td>\n",
              "    </tr>\n",
              "  </tbody>\n",
              "</table>\n",
              "</div>"
            ],
            "text/plain": [
              "         method  comp ratio     intro      body    ending     total   grammar\n",
              "0  BERT+LexRank    0.485455  0.423732  0.576925  0.803604  0.595296  0.999826"
            ]
          },
          "metadata": {
            "tags": []
          },
          "execution_count": 85
        }
      ]
    },
    {
      "cell_type": "markdown",
      "metadata": {
        "id": "GiCkOajrgxr4"
      },
      "source": [
        "###5.2.3 bert-extractive-summarizer"
      ]
    },
    {
      "cell_type": "code",
      "metadata": {
        "id": "uHXRR3oXg8j7",
        "colab": {
          "base_uri": "https://localhost:8080/",
          "height": 267
        },
        "outputId": "d724b904-7e70-4bf6-b09b-0d515f502f52"
      },
      "source": [
        "from summarizer import Summarizer\n",
        "model1 = Summarizer()\n",
        "result = model1(org_text, num_sentences=3)\n",
        "summary = \"\".join(result)\n",
        "print(summary)\n",
        "\n",
        "bert_extractive_summarizer = evaluate('BESM',summary)\n",
        "bert_extractive_summarizer"
      ],
      "execution_count": 76,
      "outputs": [
        {
          "output_type": "stream",
          "text": [
            "나무꾼이 나무를 하다가 숲 속에서 도망치는 사슴을 만났는데, 이 사슴이 사냥꾼이 쫓아오고 있으니 자신을 숨겨달라고 말했다. 사슴은 은혜를 갚겠다고 하면서, 나무꾼에게 선녀들이 하늘에서 내려와서 목욕하는 선녀탕이라는 샘과 선녀들이 목욕을 하러 오는 시기, 선녀의 옷을 훔쳐 그를 아내로 삼도록 하는 꾀를 나무꾼에게 가르쳐 주었다. 나무꾼은 반신반의 하면서도 사슴이 가르쳐준 시기에 선녀들이 목욕을 하러 내려온다는 샘으로 찾아가 몸을 숨겼다.\n",
            "Num sentences: 2\n",
            "Num querys: 3\n",
            "Num sentences: 4\n",
            "Num querys: 3\n",
            "Num sentences: 2\n",
            "Num querys: 3\n",
            "Num sentences: 8\n",
            "Num querys: 3\n"
          ],
          "name": "stdout"
        },
        {
          "output_type": "execute_result",
          "data": {
            "text/html": [
              "<div>\n",
              "<style scoped>\n",
              "    .dataframe tbody tr th:only-of-type {\n",
              "        vertical-align: middle;\n",
              "    }\n",
              "\n",
              "    .dataframe tbody tr th {\n",
              "        vertical-align: top;\n",
              "    }\n",
              "\n",
              "    .dataframe thead th {\n",
              "        text-align: right;\n",
              "    }\n",
              "</style>\n",
              "<table border=\"1\" class=\"dataframe\">\n",
              "  <thead>\n",
              "    <tr style=\"text-align: right;\">\n",
              "      <th></th>\n",
              "      <th>method</th>\n",
              "      <th>comp ratio</th>\n",
              "      <th>intro</th>\n",
              "      <th>body</th>\n",
              "      <th>ending</th>\n",
              "      <th>total</th>\n",
              "      <th>grammar</th>\n",
              "    </tr>\n",
              "  </thead>\n",
              "  <tbody>\n",
              "    <tr>\n",
              "      <th>0</th>\n",
              "      <td>BESM</td>\n",
              "      <td>0.445455</td>\n",
              "      <td>0.900736</td>\n",
              "      <td>0.78351</td>\n",
              "      <td>0.437874</td>\n",
              "      <td>0.726408</td>\n",
              "      <td>0.999846</td>\n",
              "    </tr>\n",
              "  </tbody>\n",
              "</table>\n",
              "</div>"
            ],
            "text/plain": [
              "  method  comp ratio     intro     body    ending     total   grammar\n",
              "0   BESM    0.445455  0.900736  0.78351  0.437874  0.726408  0.999846"
            ]
          },
          "metadata": {
            "tags": []
          },
          "execution_count": 76
        }
      ]
    },
    {
      "cell_type": "markdown",
      "metadata": {
        "id": "R9ceKj6jhXct"
      },
      "source": [
        "###5.2.4 bert-extractive-summarizer+kobert"
      ]
    },
    {
      "cell_type": "code",
      "metadata": {
        "id": "eZ6Uhi3hhddQ",
        "colab": {
          "base_uri": "https://localhost:8080/",
          "height": 258
        },
        "outputId": "3e9ff96f-1690-48cc-dc4e-043644447ea7"
      },
      "source": [
        "from summarizer import Summarizer\n",
        "model2 = Summarizer(custom_model=custom_model, custom_tokenizer=custom_tokenizer)\n",
        "result = model2(org_text, num_sentences=3)\n",
        "summary = \"\".join(result)\n",
        "print(summary)\n",
        "\n",
        "bert_extractive_summarizer_kobert = evaluate('BESM+kobert',summary)\n",
        "bert_extractive_summarizer_kobert "
      ],
      "execution_count": 77,
      "outputs": [
        {
          "output_type": "stream",
          "text": [
            "나무꾼이 나무를 하다가 숲 속에서 도망치는 사슴을 만났는데, 이 사슴이 사냥꾼이 쫓아오고 있으니 자신을 숨겨달라고 말했다. 말하는 사슴을 신기하게 여긴 나무꾼이 사슴을 숨겨줬고, 뒤쫓아 온 사냥꾼을 다른 방향으로 보내서 구해주었다. 사슴은 은혜를 갚겠다고 하면서, 나무꾼에게 선녀들이 하늘에서 내려와서 목욕하는 선녀탕이라는 샘과 선녀들이 목욕을 하러 오는 시기, 선녀의 옷을 훔쳐 그를 아내로 삼도록 하는 꾀를 나무꾼에게 가르쳐 주었다. 나무꾼은 반신반의 하면서도 사슴이 가르쳐준 시기에 선녀들이 목욕을 하러 내려온다는 샘으로 찾아가 몸을 숨겼다.\n",
            "Num sentences: 2\n",
            "Num querys: 4\n",
            "Num sentences: 4\n",
            "Num querys: 4\n",
            "Num sentences: 2\n",
            "Num querys: 4\n",
            "Num sentences: 8\n",
            "Num querys: 4\n"
          ],
          "name": "stdout"
        },
        {
          "output_type": "execute_result",
          "data": {
            "text/html": [
              "<div>\n",
              "<style scoped>\n",
              "    .dataframe tbody tr th:only-of-type {\n",
              "        vertical-align: middle;\n",
              "    }\n",
              "\n",
              "    .dataframe tbody tr th {\n",
              "        vertical-align: top;\n",
              "    }\n",
              "\n",
              "    .dataframe thead th {\n",
              "        text-align: right;\n",
              "    }\n",
              "</style>\n",
              "<table border=\"1\" class=\"dataframe\">\n",
              "  <thead>\n",
              "    <tr style=\"text-align: right;\">\n",
              "      <th></th>\n",
              "      <th>method</th>\n",
              "      <th>comp ratio</th>\n",
              "      <th>intro</th>\n",
              "      <th>body</th>\n",
              "      <th>ending</th>\n",
              "      <th>total</th>\n",
              "      <th>grammar</th>\n",
              "    </tr>\n",
              "  </thead>\n",
              "  <tbody>\n",
              "    <tr>\n",
              "      <th>0</th>\n",
              "      <td>BESM+kobert</td>\n",
              "      <td>0.556364</td>\n",
              "      <td>1.0</td>\n",
              "      <td>0.78351</td>\n",
              "      <td>0.437874</td>\n",
              "      <td>0.751224</td>\n",
              "      <td>0.999825</td>\n",
              "    </tr>\n",
              "  </tbody>\n",
              "</table>\n",
              "</div>"
            ],
            "text/plain": [
              "        method  comp ratio  intro     body    ending     total   grammar\n",
              "0  BESM+kobert    0.556364    1.0  0.78351  0.437874  0.751224  0.999825"
            ]
          },
          "metadata": {
            "tags": []
          },
          "execution_count": 77
        }
      ]
    },
    {
      "cell_type": "markdown",
      "metadata": {
        "id": "Q2NZBoV6hv2L"
      },
      "source": [
        "###5.2.5 단문에 대한 요약 비교 결과"
      ]
    },
    {
      "cell_type": "code",
      "metadata": {
        "id": "0o4GCiY5h0ZP",
        "colab": {
          "base_uri": "https://localhost:8080/",
          "height": 170
        },
        "outputId": "098b92a7-6aff-4f1c-820a-e09730e73732"
      },
      "source": [
        "result = pd.concat([sam_gan, bert_lexrank, bert_extractive_summarizer, bert_extractive_summarizer_kobert ], ignore_index=True)\n",
        "result"
      ],
      "execution_count": 86,
      "outputs": [
        {
          "output_type": "execute_result",
          "data": {
            "text/html": [
              "<div>\n",
              "<style scoped>\n",
              "    .dataframe tbody tr th:only-of-type {\n",
              "        vertical-align: middle;\n",
              "    }\n",
              "\n",
              "    .dataframe tbody tr th {\n",
              "        vertical-align: top;\n",
              "    }\n",
              "\n",
              "    .dataframe thead th {\n",
              "        text-align: right;\n",
              "    }\n",
              "</style>\n",
              "<table border=\"1\" class=\"dataframe\">\n",
              "  <thead>\n",
              "    <tr style=\"text-align: right;\">\n",
              "      <th></th>\n",
              "      <th>method</th>\n",
              "      <th>comp ratio</th>\n",
              "      <th>intro</th>\n",
              "      <th>body</th>\n",
              "      <th>ending</th>\n",
              "      <th>total</th>\n",
              "      <th>grammar</th>\n",
              "    </tr>\n",
              "  </thead>\n",
              "  <tbody>\n",
              "    <tr>\n",
              "      <th>0</th>\n",
              "      <td>SAM+WGAN</td>\n",
              "      <td>0.429091</td>\n",
              "      <td>0.678840</td>\n",
              "      <td>0.736819</td>\n",
              "      <td>0.665743</td>\n",
              "      <td>0.704555</td>\n",
              "      <td>0.999510</td>\n",
              "    </tr>\n",
              "    <tr>\n",
              "      <th>1</th>\n",
              "      <td>BERT+LexRank</td>\n",
              "      <td>0.485455</td>\n",
              "      <td>0.423732</td>\n",
              "      <td>0.576925</td>\n",
              "      <td>0.803604</td>\n",
              "      <td>0.595296</td>\n",
              "      <td>0.999826</td>\n",
              "    </tr>\n",
              "    <tr>\n",
              "      <th>2</th>\n",
              "      <td>BESM</td>\n",
              "      <td>0.445455</td>\n",
              "      <td>0.900736</td>\n",
              "      <td>0.783510</td>\n",
              "      <td>0.437874</td>\n",
              "      <td>0.726408</td>\n",
              "      <td>0.999846</td>\n",
              "    </tr>\n",
              "    <tr>\n",
              "      <th>3</th>\n",
              "      <td>BESM+kobert</td>\n",
              "      <td>0.556364</td>\n",
              "      <td>1.000000</td>\n",
              "      <td>0.783510</td>\n",
              "      <td>0.437874</td>\n",
              "      <td>0.751224</td>\n",
              "      <td>0.999825</td>\n",
              "    </tr>\n",
              "  </tbody>\n",
              "</table>\n",
              "</div>"
            ],
            "text/plain": [
              "         method  comp ratio     intro      body    ending     total   grammar\n",
              "0      SAM+WGAN    0.429091  0.678840  0.736819  0.665743  0.704555  0.999510\n",
              "1  BERT+LexRank    0.485455  0.423732  0.576925  0.803604  0.595296  0.999826\n",
              "2          BESM    0.445455  0.900736  0.783510  0.437874  0.726408  0.999846\n",
              "3   BESM+kobert    0.556364  1.000000  0.783510  0.437874  0.751224  0.999825"
            ]
          },
          "metadata": {
            "tags": []
          },
          "execution_count": 86
        }
      ]
    },
    {
      "cell_type": "code",
      "metadata": {
        "id": "LB8zbaZNiHp3",
        "colab": {
          "base_uri": "https://localhost:8080/",
          "height": 472
        },
        "outputId": "a3ca1eff-c915-4539-c6f3-b4a3f3f0c0f0"
      },
      "source": [
        "result.plot.bar(x='method',figsize=(12,6))"
      ],
      "execution_count": 89,
      "outputs": [
        {
          "output_type": "execute_result",
          "data": {
            "text/plain": [
              "<matplotlib.axes._subplots.AxesSubplot at 0x7f76c6c1b240>"
            ]
          },
          "metadata": {
            "tags": []
          },
          "execution_count": 89
        },
        {
          "output_type": "display_data",
          "data": {
            "image/png": "[encoded data removed]",
            "text/plain": [
              "<Figure size 864x432 with 1 Axes>"
            ]
          },
          "metadata": {
            "tags": [],
            "needs_background": "light"
          }
        }
      ]
    },
    {
      "cell_type": "markdown",
      "metadata": {
        "id": "uGXMjbWwiQU-"
      },
      "source": [
        "##5.3 장문 스토리 실험"
      ]
    },
    {
      "cell_type": "code",
      "metadata": {
        "id": "9DHDzyirX59b"
      },
      "source": [
        "org_text_1 = \"\"\"\n",
        "옛날 어느 집에 귀여운 여자 아기가 태어났어요.\n",
        "아기는 무럭무럭 자라서, 예쁘고 마음씨 고운 소녀가 되었어요.\n",
        "그러던 어느날, 소녀의 어머니가 병이들어 그만 세상을 떠나고 말았어요.\n",
        "소녀의 아버지는 홀로 남은 소녀가 걱정되었어요.\n",
        "그래서 얼마 후 새어머니를 맞이했어요.\n",
        "새어머니는 소녀보다 나이가 위인 두 딸을 데리고 왔어요.\n",
        "그러나 새어머니와 언니들은 성질이 고약한 심술쟁이들이었어요.\n",
        "새어머니는 소녀가 자기 딸들보다 예쁘고 착한 게 못마땅했어요.\n",
        "그런데 이번에는 아버지마저 돌아가셨어요.\n",
        "소녀는 하녀처럼 하루 종일 쓸고, 닦고, 집안일을 도맡아 했어요.\n",
        "해도 해도 끝이 없는 집안일이 힘들어 지칠때면\n",
        "난롯가에 앉아서 잠시 쉬곤 했지요.\n",
        "\"\"\"\n",
        "\n",
        "org_text_2 = \"\"\"\n",
        "어느 날, 왕궁에서 무도회가 열렸어요.\n",
        "신데렐라의 집에도 초대장이 왔어요.\n",
        "새어머니는 언니들을 데리고 무도회장으로 떠났어요.\n",
        "신데렐라도 무도회에 가고 싶었어요.\n",
        "혼자 남은 신데렐라는 훌쩍훌쩍 울기 시작했어요.\n",
        "신데렐라, 너도 무도회에 가고 싶니?\n",
        "신데렐라가 고개를 들어보니, 마법사 할머니가 빙그레 웃고 있었어요.\n",
        "내가 너를 무도회에 보내주마 호박 한개와 생쥐 두마리, 도마뱀을 구해 오렴.\n",
        "마법사 할머니가 주문을 외웠어요.\n",
        "그리고 지팡이로 호박을 건드리자, 호박이 화려한 황금 마차로 변했어요.\n",
        "이번에는 생쥐와 도마뱀을 건드렸어요.\n",
        "그랬더니 생쥐는 흰말로, 도마뱀은 멋진 마부로 변했답니다.\n",
        "신데렐라의 옷도 구슬 장식이 반짝이는 예쁜 드레스로 바뀌웠어요.\n",
        "신데렐라, 발을 내밀어 보거라.\n",
        "할머니는 신데렐라에게 반짝반짝 빛나는 유리 구두를 신겨 주었어요.\n",
        "신데렐라, 밤 열두시가 되면 모든게 처음대로 돌아간단다. 황금 마차는 호박으로, 흰말은 생쥐로, 마부는 도마뱀으로 변하게 돼. 그러니까 반드시 밤 열두 시가 되기 전에 돌아와야 해. 알겠지?\n",
        "왕자님도 아름다운 신데렐라에게 마음을 빼았겼어요.\n",
        "왕자님은 무도회장에 모인 다른 아가씨들은 쳐다보지도 않고,신데렐라하고만 춤을 추었어요.\n",
        "신데렐라는 왕자님과 춤을 추느라 시간 가는 줄도 몰랐어요.\n",
        "땡, 땡, 땡...... 벽시계가 열두 시를 알리는 소리에 신데렐라는 화들짝 놀랐어요.\n",
        "신데렐라가 허둥지둥 왕궁을 빠져나가는데,\n",
        "유리 구두 한 짝이 벗겨졌어요.\n",
        "하지만 구두를 주울 틈이 없었어요.\n",
        "신데렐라를 뛰쫓아오던 왕자님은 층계에서 유리 구두 한 짝을 주웠어요.\n",
        "왕자님은 유리 구두를 가지고 임금님께 가서 말했어요.\n",
        "이 유리 구두의 주인과 결혼하겠어요.\n",
        "\"\"\"\n",
        "\n",
        "org_text_3 = \"\"\"\n",
        "그래서 신하들은 유리 구두의 주인을 찾아 온 나라를 돌아다녔어요.\n",
        "언니들은 발을 오므려도 보고, 구두를 늘려도 보았지만 한눈에 보기에도 유리 구두는 너무 작았어요.\n",
        "그때, 신데렐라가 조용히 다가와 말했어요.\n",
        "저도 한번 신어 볼 수 있나요?\n",
        "신데렐라는 신하게 건넨 유리 구두를 신었어요,\n",
        "유리 구두는 신데렐라의 발에 꼭 맞았어요.\n",
        "신하들은 신데렐라를 왕궁으로 데리고 갔어요.\n",
        "그 뒤 신데렐라는 왕자님과 결혼하여 오래오래 행복하게 살았대요.\n",
        "\"\"\"\n",
        "\n",
        "org_text = org_text_1 + org_text_2 + org_text_3"
      ],
      "execution_count": 90,
      "outputs": []
    },
    {
      "cell_type": "markdown",
      "metadata": {
        "id": "caHHF8ZGTww3"
      },
      "source": [
        "###5.3.1 SAM+GAN"
      ]
    },
    {
      "cell_type": "code",
      "metadata": {
        "id": "LVzpBpLCLYPE",
        "colab": {
          "base_uri": "https://localhost:8080/"
        },
        "outputId": "59ee9c14-1024-4458-bdf7-2f895ad2dcc4"
      },
      "source": [
        "source = Source(org_text)\n",
        "source.extract_keywords(s_discriminator,key_model)\n"
      ],
      "execution_count": 91,
      "outputs": [
        {
          "output_type": "stream",
          "text": [
            "------------------------------------------------------------------\n",
            "옛날 어느 집에 귀여운 여자 아기가 태어났어요. 아기는 무럭무럭 자라서, 예쁘고 마음씨 고운 소녀가 되었어요. 그러던 어느날, 소녀의 어머니가 병이들어 그만 세상을 떠나고 말았어요. 소녀의 아버지는 홀로 남은 소녀가 걱정되었어요. 그래서 얼마 후 새어머니를 맞이했어요. 새어머니는 소녀보다 나이가 위인 두 딸을 데리고 왔어요. 그러나 새어머니와 언니들은 성질이 고약한 심술쟁이들이었어요. 새어머니는 소녀가 자기 딸들보다 예쁘고 착한 게 못마땅했어요. 그런데 이번에는 아버지마저 돌아가셨어요. 소녀는 하녀처럼 하루 종일 쓸고, 닦고, 집안일을 도맡아 했어요. 해도 해도 끝이 없는 집안일이 힘들어 지칠때면 난롯가에 앉아서 잠시 쉬곤 했지요. 어느 날, 왕궁에서 무도회가 열렸어요. 신데렐라의 집에도 초대장이 왔어요. 새어머니는 언니들을 데리고 무도회장으로 떠났어요. 신데렐라도 무도회에 가고 싶었어요. 혼자 남은 신데렐라는 훌쩍훌쩍 울기 시작했어요. 신데렐라, 너도 무도회에 가고 싶니? 신데렐라가 고개를 들어보니, 마법사 할머니가 빙그레 웃고 있었어요. 내가 너를 무도회에 보내주마 호박 한개와 생쥐 두마리, 도마뱀을 구해 오렴. 마법사 할머니가 주문을 외웠어요. 그리고 지팡이로 호박을 건드리자, 호박이 화려한 황금 마차로 변했어요. 이번에는 생쥐와 도마뱀을 건드렸어요. 그랬더니 생쥐는 흰말로, 도마뱀은 멋진 마부로 변했답니다. 신데렐라의 옷도 구슬 장식이 반짝이는 예쁜 드레스로 바뀌웠어요. 신데렐라, 발을 내밀어 보거라. 할머니는 신데렐라에게 반짝반짝 빛나는 유리 구두를 신겨 주었어요. 신데렐라, 밤 열두시가 되면 모든게 처음대로 돌아간단다. 황금 마차는 호박으로, 흰말은 생쥐로, 마부는 도마뱀으로 변하게 돼. 그러니까 반드시 밤 열두 시가 되기 전에 돌아와야 해. 알겠지? 왕자님도 아름다운 신데렐라에게 마음을 빼았겼어요. 왕자님은 무도회장에 모인 다른 아가씨들은 쳐다보지도 않고,신데렐라하고만 춤을 추었어요. 신데렐라는 왕자님과 춤을 추느라 시간 가는 줄도 몰랐어요. 땡, 땡, 땡 벽시계가 열두 시를 알리는 소리에 신데렐라는 화들짝 놀랐어요. 신데렐라가 허둥지둥 왕궁을 빠져나가는데, 유리 구두 한 짝이 벗겨졌어요. 하지만 구두를 주울 틈이 없었어요. 신데렐라를 뛰쫓아오던 왕자님은 층계에서 유리 구두 한 짝을 주웠어요. 왕자님은 유리 구두를 가지고 임금님께 가서 말했어요. 이 유리 구두의 주인과 결혼하겠어요. 그래서 신하들은 유리 구두의 주인을 찾아 온 나라를 돌아다녔어요. 언니들은 발을 오므려도 보고, 구두를 늘려도 보았지만 한눈에 보기에도 유리 구두는 너무 작았어요. 그때, 신데렐라가 조용히 다가와 말했어요. 저도 한번 신어 볼 수 있나요? 신데렐라는 신하게 건넨 유리 구두를 신었어요, 유리 구두는 신데렐라의 발에 꼭 맞았어요. 신하들은 신데렐라를 왕궁으로 데리고 갔어요. 그 뒤 신데렐라는 왕자님과 결혼하여 오래오래 행복하게 살았대요.\n",
            "------------------------------------------------------------------\n",
            "Token table of origin text\n",
            "---------------------------------------------\n",
            " Code     Token     \n",
            "  0         \n",
            "  1         옛날\n",
            "  2         어느\n",
            "  3         집에\n",
            "  4         귀여운\n",
            "  5         여자\n",
            "  6         아기가\n",
            "  7         태어났어요.\n",
            "  8         아기는\n",
            "  9         무럭무럭\n",
            "  10        자라서,\n",
            "  11        예쁘고\n",
            "  12        마음씨\n",
            "  13        고운\n",
            "  14        소녀가\n",
            "  15        되었어요.\n",
            "  16        그러던\n",
            "  17        어느날,\n",
            "  18        소녀의\n",
            "  19        어머니가\n",
            "  20        병이들어\n",
            "  21        그만\n",
            "  22        세상을\n",
            "  23        떠나고\n",
            "  24        말았어요.\n",
            "  25        소녀의\n",
            "  26        아버지는\n",
            "  27        홀로\n",
            "  28        남은\n",
            "  29        소녀가\n",
            "  30        걱정되었어요.\n",
            "  31        그래서\n",
            "  32        얼마\n",
            "  33        후\n",
            "  34        새어머니를\n",
            "  35        맞이했어요.\n",
            "  36        새어머니는\n",
            "  37        소녀보다\n",
            "  38        나이가\n",
            "  39        위인\n",
            "  40        두\n",
            "  41        딸을\n",
            "  42        데리고\n",
            "  43        왔어요.\n",
            "  44        그러나\n",
            "  45        새어머니와\n",
            "  46        언니들은\n",
            "  47        성질이\n",
            "  48        고약한\n",
            "  49        심술쟁이들이었어요.\n",
            "  50        새어머니는\n",
            "  51        소녀가\n",
            "  52        자기\n",
            "  53        딸들보다\n",
            "  54        예쁘고\n",
            "  55        착한\n",
            "  56        게\n",
            "  57        못마땅했어요.\n",
            "  58        그런데\n",
            "  59        이번에는\n",
            "  60        아버지마저\n",
            "  61        돌아가셨어요.\n",
            "  62        소녀는\n",
            "  63        하녀처럼\n",
            "  64        하루\n",
            "  65        종일\n",
            "  66        쓸고,\n",
            "  67        닦고,\n",
            "  68        집안일을\n",
            "  69        도맡아\n",
            "  70        했어요.\n",
            "  71        해도\n",
            "  72        해도\n",
            "  73        끝이\n",
            "  74        없는\n",
            "  75        집안일이\n",
            "  76        힘들어\n",
            "  77        지칠때면\n",
            "  78        난롯가에\n",
            "  79        앉아서\n",
            "  80        잠시\n",
            "  81        쉬곤\n",
            "  82        했지요.\n",
            "  83        어느\n",
            "  84        날,\n",
            "  85        왕궁에서\n",
            "  86        무도회가\n",
            "  87        열렸어요.\n",
            "  88        신데렐라의\n",
            "  89        집에도\n",
            "  90        초대장이\n",
            "  91        왔어요.\n",
            "  92        새어머니는\n",
            "  93        언니들을\n",
            "  94        데리고\n",
            "  95        무도회장으로\n",
            "  96        떠났어요.\n",
            "  97        신데렐라도\n",
            "  98        무도회에\n",
            "  99        가고\n",
            "  100       싶었어요.\n",
            "  101       혼자\n",
            "  102       남은\n",
            "  103       신데렐라는\n",
            "  104       훌쩍훌쩍\n",
            "  105       울기\n",
            "  106       시작했어요.\n",
            "  107       신데렐라,\n",
            "  108       너도\n",
            "  109       무도회에\n",
            "  110       가고\n",
            "  111       싶니?\n",
            "  112       신데렐라가\n",
            "  113       고개를\n",
            "  114       들어보니,\n",
            "  115       마법사\n",
            "  116       할머니가\n",
            "  117       빙그레\n",
            "  118       웃고\n",
            "  119       있었어요.\n",
            "  120       내가\n",
            "  121       너를\n",
            "  122       무도회에\n",
            "  123       보내주마\n",
            "  124       호박\n",
            "  125       한개와\n",
            "  126       생쥐\n",
            "  127       두마리,\n",
            "  128       도마뱀을\n",
            "  129       구해\n",
            "  130       오렴.\n",
            "  131       마법사\n",
            "  132       할머니가\n",
            "  133       주문을\n",
            "  134       외웠어요.\n",
            "  135       그리고\n",
            "  136       지팡이로\n",
            "  137       호박을\n",
            "  138       건드리자,\n",
            "  139       호박이\n",
            "  140       화려한\n",
            "  141       황금\n",
            "  142       마차로\n",
            "  143       변했어요.\n",
            "  144       이번에는\n",
            "  145       생쥐와\n",
            "  146       도마뱀을\n",
            "  147       건드렸어요.\n",
            "  148       그랬더니\n",
            "  149       생쥐는\n",
            "  150       흰말로,\n",
            "  151       도마뱀은\n",
            "  152       멋진\n",
            "  153       마부로\n",
            "  154       변했답니다.\n",
            "  155       신데렐라의\n",
            "  156       옷도\n",
            "  157       구슬\n",
            "  158       장식이\n",
            "  159       반짝이는\n",
            "  160       예쁜\n",
            "  161       드레스로\n",
            "  162       바뀌웠어요.\n",
            "  163       신데렐라,\n",
            "  164       발을\n",
            "  165       내밀어\n",
            "  166       보거라.\n",
            "  167       할머니는\n",
            "  168       신데렐라에게\n",
            "  169       반짝반짝\n",
            "  170       빛나는\n",
            "  171       유리\n",
            "  172       구두를\n",
            "  173       신겨\n",
            "  174       주었어요.\n",
            "  175       신데렐라,\n",
            "  176       밤\n",
            "  177       열두시가\n",
            "  178       되면\n",
            "  179       모든게\n",
            "  180       처음대로\n",
            "  181       돌아간단다.\n",
            "  182       황금\n",
            "  183       마차는\n",
            "  184       호박으로,\n",
            "  185       흰말은\n",
            "  186       생쥐로,\n",
            "  187       마부는\n",
            "  188       도마뱀으로\n",
            "  189       변하게\n",
            "  190       돼.\n",
            "  191       그러니까\n",
            "  192       반드시\n",
            "  193       밤\n",
            "  194       열두\n",
            "  195       시가\n",
            "  196       되기\n",
            "  197       전에\n",
            "  198       돌아와야\n",
            "  199       해.\n",
            "  200       알겠지?\n",
            "  201       왕자님도\n",
            "  202       아름다운\n",
            "  203       신데렐라에게\n",
            "  204       마음을\n",
            "  205       빼았겼어요.\n",
            "  206       왕자님은\n",
            "  207       무도회장에\n",
            "  208       모인\n",
            "  209       다른\n",
            "  210       아가씨들은\n",
            "  211       쳐다보지도\n",
            "  212       않고,신데렐라하고만\n",
            "  213       춤을\n",
            "  214       추었어요.\n",
            "  215       신데렐라는\n",
            "  216       왕자님과\n",
            "  217       춤을\n",
            "  218       추느라\n",
            "  219       시간\n",
            "  220       가는\n",
            "  221       줄도\n",
            "  222       몰랐어요.\n",
            "  223       땡,\n",
            "  224       땡,\n",
            "  225       땡\n",
            "  226       벽시계가\n",
            "  227       열두\n",
            "  228       시를\n",
            "  229       알리는\n",
            "  230       소리에\n",
            "  231       신데렐라는\n",
            "  232       화들짝\n",
            "  233       놀랐어요.\n",
            "  234       신데렐라가\n",
            "  235       허둥지둥\n",
            "  236       왕궁을\n",
            "  237       빠져나가는데,\n",
            "  238       유리\n",
            "  239       구두\n",
            "  240       한\n",
            "  241       짝이\n",
            "  242       벗겨졌어요.\n",
            "  243       하지만\n",
            "  244       구두를\n",
            "  245       주울\n",
            "  246       틈이\n",
            "  247       없었어요.\n",
            "  248       신데렐라를\n",
            "  249       뛰쫓아오던\n",
            "  250       왕자님은\n",
            "  251       층계에서\n",
            "  252       유리\n",
            "  253       구두\n",
            "  254       한\n",
            "  255       짝을\n",
            "  256       주웠어요.\n",
            "  257       왕자님은\n",
            "  258       유리\n",
            "  259       구두를\n",
            "  260       가지고\n",
            "  261       임금님께\n",
            "  262       가서\n",
            "  263       말했어요.\n",
            "  264       이\n",
            "  265       유리\n",
            "  266       구두의\n",
            "  267       주인과\n",
            "  268       결혼하겠어요.\n",
            "  269       그래서\n",
            "  270       신하들은\n",
            "  271       유리\n",
            "  272       구두의\n",
            "  273       주인을\n",
            "  274       찾아\n",
            "  275       온\n",
            "  276       나라를\n",
            "  277       돌아다녔어요.\n",
            "  278       언니들은\n",
            "  279       발을\n",
            "  280       오므려도\n",
            "  281       보고,\n",
            "  282       구두를\n",
            "  283       늘려도\n",
            "  284       보았지만\n",
            "  285       한눈에\n",
            "  286       보기에도\n",
            "  287       유리\n",
            "  288       구두는\n",
            "  289       너무\n",
            "  290       작았어요.\n",
            "  291       그때,\n",
            "  292       신데렐라가\n",
            "  293       조용히\n",
            "  294       다가와\n",
            "  295       말했어요.\n",
            "  296       저도\n",
            "  297       한번\n",
            "  298       신어\n",
            "  299       볼\n",
            "  300       수\n",
            "  301       있나요?\n",
            "  302       신데렐라는\n",
            "  303       신하게\n",
            "  304       건넨\n",
            "  305       유리\n",
            "  306       구두를\n",
            "  307       신었어요,\n",
            "  308       유리\n",
            "  309       구두는\n",
            "  310       신데렐라의\n",
            "  311       발에\n",
            "  312       꼭\n",
            "  313       맞았어요.\n",
            "  314       신하들은\n",
            "  315       신데렐라를\n",
            "  316       왕궁으로\n",
            "  317       데리고\n",
            "  318       갔어요.\n",
            "  319       그\n",
            "  320       뒤\n",
            "  321       신데렐라는\n",
            "  322       왕자님과\n",
            "  323       결혼하여\n",
            "  324       오래오래\n",
            "  325       행복하게\n",
            "  326       살았대요.\n",
            "  327       \n",
            "---------------------------------------------\n",
            "word density scan : |||||||||||||||||||||| 100.0%   filer:[0] 1/327       \n",
            "story density scan: |||||||||||||||||||||| 100.0%   filer:[0, 1] 1/326       \n",
            "story density scan: |||||||||||||||||||||| 100.0%   filer:[0, 1, 2] 1/325       \n",
            "story density scan: |||||||||||||||||||||| 100.0%   filer:[0, 1, 2, 3] 1/324       \n",
            "Negative words: ['여자' '소녀가' '소녀의' '소녀가' '딸을' '새어머니와' '새어머니는' '집안일이' '신데렐라의' '신데렐라도'\n",
            " '신데렐라는' '신데렐라,' '신데렐라가' '할머니가' '무도회에' '할머니가' '마차로' '신데렐라의' '신데렐라,'\n",
            " '신데렐라에게' '신데렐라,' '흰말은' '신데렐라에게' '신데렐라는' '신데렐라는' '신데렐라가' '구두' '구두를'\n",
            " '신데렐라를' '구두' '왕자님은' '구두를' '구두의' '언니들은' '구두를' '신데렐라가' '신데렐라는' '신데렐라의'\n",
            " '신데렐라를' '신데렐라는']\n",
            "keywords len 65\n",
            "story_peaks: [ 19  20  26  34  36  37  46  51  59  60  62  63  68  85  89  90  92  93\n",
            " 115 123 128 131 133 136 137 144 146 151 158 167 177 179 180 183 187 188\n",
            " 189 192 201 202 206 210 211 216 235 250 270 280 285 303 314 316 322 323\n",
            " 325 326]\n",
            "Peak count: 56\n",
            "Frame text: 어머니가 병이들어 아버지는 새어머니를 새어머니는 소녀보다 언니들은 소녀가 이번에는 아버지마저 소녀는 하녀처럼 집안일을 왕궁에서 집에도 초대장이 새어머니는 언니들을 마법사 보내주마 도마뱀을 마법사 주문을 지팡이로 호박을 이번에는 도마뱀을 도마뱀은 장식이 할머니는 열두시가 모든게 처음대로 마차는 마부는 도마뱀으로 변하게 반드시 왕자님도 아름다운 왕자님은 아가씨들은 쳐다보지도 왕자님과 허둥지둥 왕자님은 신하들은 오므려도 한눈에 신하게 신하들은 왕궁으로 왕자님과 결혼하여 행복하게 살았대요. \n"
          ],
          "name": "stdout"
        }
      ]
    },
    {
      "cell_type": "code",
      "metadata": {
        "id": "AU_3iEugjLhM",
        "colab": {
          "base_uri": "https://localhost:8080/",
          "height": 858
        },
        "outputId": "a4f342cb-a30b-4db9-917f-bfd2abda5d2f"
      },
      "source": [
        "summarizer = SAM_Summarizer(g_discriminator,s_discriminator)\n",
        "#source = Source(org_text)\n",
        "summarizer.ready(source)\n",
        "summarizer.summarize(epochs=150,batch_size=1,frame_expansion_ratio = 0.4,init_bias=0.1,learning_rate=1e-4)\n",
        "\n",
        "txts = summarizer.get_summary(3)\n",
        "\n",
        "print('\\n'.join(txts))\n",
        "print('')\n",
        "print(source.frame_text)"
      ],
      "execution_count": 108,
      "outputs": [
        {
          "output_type": "stream",
          "text": [
            "Train... |||||||||||||||||||||| 100.0%   150/150 epochs, Generator / grammar loss:-0.24498268961906433   similarity loss:-0.06666386872529984\n"
          ],
          "name": "stdout"
        },
        {
          "output_type": "display_data",
          "data": {
            "image/png": "[encoded data removed]",
            "text/plain": [
              "<Figure size 864x432 with 1 Axes>"
            ]
          },
          "metadata": {
            "tags": [],
            "needs_background": "light"
          }
        },
        {
          "output_type": "display_data",
          "data": {
            "image/png": "[encoded data removed]",
            "text/plain": [
              "<Figure size 864x432 with 1 Axes>"
            ]
          },
          "metadata": {
            "tags": [],
            "needs_background": "light"
          }
        },
        {
          "output_type": "stream",
          "text": [
            "옛날 집에 태어났어요. 무럭무럭 자라서, 예쁘고 고운 소녀가 어느날, 어머니가 병이들어 떠나고 소녀의 아버지는 걱정되었어요. 새어머니를 새어머니는 소녀보다 언니들은 이번에는 아버지마저 돌아가셨어요. 소녀는 하녀처럼 난롯가에 쉬곤 왕궁에서 집에도 초대장이 새어머니는 언니들을 데리고 무도회장으로 떠났어요. 신데렐라는 고개를 있었어요. 호박 도마뱀을 오렴. 신데렐라의 구슬 바뀌웠어요. 빛나는 모든게 쳐다보지도 땡, 벗겨졌어요. 층계에서 구두 짝을 주웠어요. 임금님께 가서 신하들은 유리 구두의 발을 오므려도 늘려도 한눈에 구두는 너무 작았어요. 말했어요. 한번 볼 신하게 맞았어요. 신하들은 왕궁으로 데리고 갔어요. 그 왕자님과 결혼하여 행복하게 살았대요.\n",
            "옛날 집에 태어났어요. 무럭무럭 자라서, 예쁘고 고운 소녀가 어느날, 어머니가 병이들어 떠나고 소녀의 아버지는 걱정되었어요. 새어머니를 새어머니는 소녀보다 언니들은 이번에는 아버지마저 돌아가셨어요. 소녀는 하녀처럼 난롯가에 쉬곤 왕궁에서 집에도 초대장이 새어머니는 언니들을 데리고 무도회장으로 떠났어요. 신데렐라는 고개를 있었어요. 호박 도마뱀을 오렴. 신데렐라의 구슬 바뀌웠어요. 빛나는 모든게 쳐다보지도 땡, 벗겨졌어요. 층계에서 구두 짝을 주웠어요. 임금님께 가서 신하들은 유리 구두의 발을 오므려도 늘려도 한눈에 구두는 너무 작았어요. 말했어요. 한번 볼 신하게 맞았어요. 신하들은 왕궁으로 데리고 갔어요. 그 왕자님과 결혼하여 행복하게 살았대요.\n",
            "옛날 집에 태어났어요. 무럭무럭 자라서, 예쁘고 고운 소녀가 어느날, 어머니가 병이들어 떠나고 소녀의 아버지는 걱정되었어요. 새어머니를 새어머니는 소녀보다 언니들은 이번에는 아버지마저 돌아가셨어요. 소녀는 하녀처럼 난롯가에 쉬곤 왕궁에서 집에도 초대장이 새어머니는 언니들을 데리고 무도회장으로 떠났어요. 신데렐라는 고개를 있었어요. 호박 도마뱀을 오렴. 신데렐라의 구슬 바뀌웠어요. 빛나는 모든게 쳐다보지도 땡, 벗겨졌어요. 층계에서 구두 짝을 주웠어요. 임금님께 가서 신하들은 유리 구두의 발을 오므려도 늘려도 한눈에 구두는 너무 작았어요. 말했어요. 한번 볼 신하게 맞았어요. 신하들은 왕궁으로 데리고 갔어요. 그 왕자님과 결혼하여 행복하게 살았대요.\n",
            "\n",
            "어머니가 병이들어 아버지는 새어머니를 새어머니는 소녀보다 언니들은 소녀가 이번에는 아버지마저 소녀는 하녀처럼 집안일을 왕궁에서 집에도 초대장이 새어머니는 언니들을 마법사 보내주마 도마뱀을 마법사 주문을 지팡이로 호박을 이번에는 도마뱀을 도마뱀은 장식이 할머니는 열두시가 모든게 처음대로 마차는 마부는 도마뱀으로 변하게 반드시 왕자님도 아름다운 왕자님은 아가씨들은 쳐다보지도 왕자님과 허둥지둥 왕자님은 신하들은 오므려도 한눈에 신하게 신하들은 왕궁으로 왕자님과 결혼하여 행복하게 살았대요. \n"
          ],
          "name": "stdout"
        }
      ]
    },
    {
      "cell_type": "code",
      "metadata": {
        "id": "JCrLM33SLbec",
        "colab": {
          "base_uri": "https://localhost:8080/",
          "height": 221
        },
        "outputId": "809be866-8694-4d9a-ead9-6dd0917caa8e"
      },
      "source": [
        "sam_gan = evaluate('SAM+WGAN',txts[0])\n",
        "sam_gan"
      ],
      "execution_count": 109,
      "outputs": [
        {
          "output_type": "stream",
          "text": [
            "Num sentences: 11\n",
            "Num querys: 14\n",
            "Num sentences: 28\n",
            "Num querys: 14\n",
            "Num sentences: 7\n",
            "Num querys: 14\n",
            "Num sentences: 46\n",
            "Num querys: 14\n"
          ],
          "name": "stdout"
        },
        {
          "output_type": "execute_result",
          "data": {
            "text/html": [
              "<div>\n",
              "<style scoped>\n",
              "    .dataframe tbody tr th:only-of-type {\n",
              "        vertical-align: middle;\n",
              "    }\n",
              "\n",
              "    .dataframe tbody tr th {\n",
              "        vertical-align: top;\n",
              "    }\n",
              "\n",
              "    .dataframe thead th {\n",
              "        text-align: right;\n",
              "    }\n",
              "</style>\n",
              "<table border=\"1\" class=\"dataframe\">\n",
              "  <thead>\n",
              "    <tr style=\"text-align: right;\">\n",
              "      <th></th>\n",
              "      <th>method</th>\n",
              "      <th>comp ratio</th>\n",
              "      <th>intro</th>\n",
              "      <th>body</th>\n",
              "      <th>ending</th>\n",
              "      <th>total</th>\n",
              "      <th>grammar</th>\n",
              "    </tr>\n",
              "  </thead>\n",
              "  <tbody>\n",
              "    <tr>\n",
              "      <th>0</th>\n",
              "      <td>SAM+WGAN</td>\n",
              "      <td>0.253112</td>\n",
              "      <td>0.582324</td>\n",
              "      <td>0.599014</td>\n",
              "      <td>0.699104</td>\n",
              "      <td>0.610254</td>\n",
              "      <td>0.998037</td>\n",
              "    </tr>\n",
              "  </tbody>\n",
              "</table>\n",
              "</div>"
            ],
            "text/plain": [
              "     method  comp ratio     intro      body    ending     total   grammar\n",
              "0  SAM+WGAN    0.253112  0.582324  0.599014  0.699104  0.610254  0.998037"
            ]
          },
          "metadata": {
            "tags": []
          },
          "execution_count": 109
        }
      ]
    },
    {
      "cell_type": "markdown",
      "metadata": {
        "id": "TEtZc88Vj44N"
      },
      "source": [
        "###5.3.2 BERT+LexRank"
      ]
    },
    {
      "cell_type": "code",
      "metadata": {
        "id": "GbWib7C3j7mt",
        "colab": {
          "base_uri": "https://localhost:8080/"
        },
        "outputId": "0fa241d3-c2e7-4a97-9059-8f46cc465c3f"
      },
      "source": [
        "text = bert_lexrank_sum(org_text,n_top=15)\n",
        "print(\"\\n\\nSummary:\")\n",
        "print(text)"
      ],
      "execution_count": 96,
      "outputs": [
        {
          "output_type": "stream",
          "text": [
            "Num sentences: 46\n",
            "[[0.00000000e+00 3.82046141e-01 4.95041324e-01 ... 6.82050664e-01\n",
            "  6.16116704e-01 6.27421873e-01]\n",
            " [3.82046141e-01 1.11022302e-16 7.36399449e-01 ... 6.26044832e-01\n",
            "  7.35380055e-01 6.25942729e-01]\n",
            " [4.95041324e-01 7.36399449e-01 0.00000000e+00 ... 8.28065702e-01\n",
            "  8.15710505e-01 8.63154648e-01]\n",
            " ...\n",
            " [6.82050664e-01 6.26044832e-01 8.28065702e-01 ... 0.00000000e+00\n",
            "  4.44260478e-01 4.94768721e-01]\n",
            " [6.16116704e-01 7.35380055e-01 8.15710505e-01 ... 4.44260478e-01\n",
            "  1.11022302e-16 2.99598320e-01]\n",
            " [6.27421873e-01 6.25942729e-01 8.63154648e-01 ... 4.94768721e-01\n",
            "  2.99598320e-01 1.11022302e-16]]\n",
            "\n",
            "\n",
            "Summary:\n",
            "알겠지?해도 해도 끝이 없는 집안일이 힘들어 지칠때면\n",
            "난롯가에 앉아서 잠시 쉬곤 했지요.그런데 이번에는 아버지마저 돌아가셨어요.이번에는 생쥐와 도마뱀을 건드렸어요.내가 너를 무도회에 보내주마 호박 한개와 생쥐 두마리, 도마뱀을 구해 오렴.그러니까 반드시 밤 열두 시가 되기 전에 돌아와야 해.황금 마차는 호박으로, 흰말은 생쥐로, 마부는 도마뱀으로 변하게 돼.저도 한번 신어 볼 수 있나요?하지만 구두를 주울 틈이 없었어요.그리고 지팡이로 호박을 건드리자, 호박이 화려한 황금 마차로 변했어요.소녀의 아버지는 홀로 남은 소녀가 걱정되었어요.소녀는 하녀처럼 하루 종일 쓸고, 닦고, 집안일을 도맡아 했어요.왕자님은 유리 구두를 가지고 임금님께 가서 말했어요.그러던 어느날, 소녀의 어머니가 병이들어 그만 세상을 떠나고 말았어요.그랬더니 생쥐는 흰말로, 도마뱀은 멋진 마부로 변했답니다.\n"
          ],
          "name": "stdout"
        }
      ]
    },
    {
      "cell_type": "code",
      "metadata": {
        "id": "edqy3F_L9-Fr",
        "colab": {
          "base_uri": "https://localhost:8080/",
          "height": 221
        },
        "outputId": "0e36dd85-e369-4a5e-e38b-d63263034b86"
      },
      "source": [
        "bert_lexrank = evaluate('BERT+LexRank',text)\n",
        "bert_lexrank"
      ],
      "execution_count": 97,
      "outputs": [
        {
          "output_type": "stream",
          "text": [
            "Num sentences: 11\n",
            "Num querys: 1\n",
            "Num sentences: 28\n",
            "Num querys: 1\n",
            "Num sentences: 7\n",
            "Num querys: 1\n",
            "Num sentences: 46\n",
            "Num querys: 1\n"
          ],
          "name": "stdout"
        },
        {
          "output_type": "execute_result",
          "data": {
            "text/html": [
              "<div>\n",
              "<style scoped>\n",
              "    .dataframe tbody tr th:only-of-type {\n",
              "        vertical-align: middle;\n",
              "    }\n",
              "\n",
              "    .dataframe tbody tr th {\n",
              "        vertical-align: top;\n",
              "    }\n",
              "\n",
              "    .dataframe thead th {\n",
              "        text-align: right;\n",
              "    }\n",
              "</style>\n",
              "<table border=\"1\" class=\"dataframe\">\n",
              "  <thead>\n",
              "    <tr style=\"text-align: right;\">\n",
              "      <th></th>\n",
              "      <th>method</th>\n",
              "      <th>comp ratio</th>\n",
              "      <th>intro</th>\n",
              "      <th>body</th>\n",
              "      <th>ending</th>\n",
              "      <th>total</th>\n",
              "      <th>grammar</th>\n",
              "    </tr>\n",
              "  </thead>\n",
              "  <tbody>\n",
              "    <tr>\n",
              "      <th>0</th>\n",
              "      <td>BERT+LexRank</td>\n",
              "      <td>0.302905</td>\n",
              "      <td>0.225772</td>\n",
              "      <td>0.244255</td>\n",
              "      <td>0.181226</td>\n",
              "      <td>0.230244</td>\n",
              "      <td>0.999866</td>\n",
              "    </tr>\n",
              "  </tbody>\n",
              "</table>\n",
              "</div>"
            ],
            "text/plain": [
              "         method  comp ratio     intro      body    ending     total   grammar\n",
              "0  BERT+LexRank    0.302905  0.225772  0.244255  0.181226  0.230244  0.999866"
            ]
          },
          "metadata": {
            "tags": []
          },
          "execution_count": 97
        }
      ]
    },
    {
      "cell_type": "markdown",
      "metadata": {
        "id": "evyy3Vla-MDw"
      },
      "source": [
        "###5.3.3 bert-extractive-summarizer\n"
      ]
    },
    {
      "cell_type": "code",
      "metadata": {
        "id": "lx_9n4N4OWWH",
        "colab": {
          "base_uri": "https://localhost:8080/",
          "height": 294
        },
        "outputId": "a464da4d-7fe9-429e-f006-7d3c35943854"
      },
      "source": [
        "model1 = Summarizer()\n",
        "result = model1(org_text, num_sentences=12)\n",
        "summary = \"\".join(result)\n",
        "print(summary)\n",
        "\n",
        "bert_extractive_summarizer = evaluate('BESM',summary)\n",
        "bert_extractive_summarizer\n"
      ],
      "execution_count": 100,
      "outputs": [
        {
          "output_type": "stream",
          "text": [
            "해도 해도 끝이 없는 집안일이 힘들어 지칠때면\n",
            "난롯가에 앉아서 잠시 쉬곤 했지요. 내가 너를 무도회에 보내주마 호박 한개와 생쥐 두마리, 도마뱀을 구해 오렴. 왕자님은 무도회장에 모인 다른 아가씨들은 쳐다보지도 않고,신데렐라하고만 춤을 추었어요. 땡, 땡, 땡...... 벽시계가 열두 시를 알리는 소리에 신데렐라는 화들짝 놀랐어요. 언니들은 발을 오므려도 보고, 구두를 늘려도 보았지만 한눈에 보기에도 유리 구두는 너무 작았어요. 신데렐라는 신하게 건넨 유리 구두를 신었어요,\n",
            "유리 구두는 신데렐라의 발에 꼭 맞았어요.\n",
            "Num sentences: 11\n",
            "Num querys: 6\n",
            "Num sentences: 28\n",
            "Num querys: 6\n",
            "Num sentences: 7\n",
            "Num querys: 6\n",
            "Num sentences: 46\n",
            "Num querys: 6\n"
          ],
          "name": "stdout"
        },
        {
          "output_type": "execute_result",
          "data": {
            "text/html": [
              "<div>\n",
              "<style scoped>\n",
              "    .dataframe tbody tr th:only-of-type {\n",
              "        vertical-align: middle;\n",
              "    }\n",
              "\n",
              "    .dataframe tbody tr th {\n",
              "        vertical-align: top;\n",
              "    }\n",
              "\n",
              "    .dataframe thead th {\n",
              "        text-align: right;\n",
              "    }\n",
              "</style>\n",
              "<table border=\"1\" class=\"dataframe\">\n",
              "  <thead>\n",
              "    <tr style=\"text-align: right;\">\n",
              "      <th></th>\n",
              "      <th>method</th>\n",
              "      <th>comp ratio</th>\n",
              "      <th>intro</th>\n",
              "      <th>body</th>\n",
              "      <th>ending</th>\n",
              "      <th>total</th>\n",
              "      <th>grammar</th>\n",
              "    </tr>\n",
              "  </thead>\n",
              "  <tbody>\n",
              "    <tr>\n",
              "      <th>0</th>\n",
              "      <td>BESM</td>\n",
              "      <td>0.201245</td>\n",
              "      <td>0.483947</td>\n",
              "      <td>0.612274</td>\n",
              "      <td>0.656823</td>\n",
              "      <td>0.588367</td>\n",
              "      <td>0.999798</td>\n",
              "    </tr>\n",
              "  </tbody>\n",
              "</table>\n",
              "</div>"
            ],
            "text/plain": [
              "  method  comp ratio     intro      body    ending     total   grammar\n",
              "0   BESM    0.201245  0.483947  0.612274  0.656823  0.588367  0.999798"
            ]
          },
          "metadata": {
            "tags": []
          },
          "execution_count": 100
        }
      ]
    },
    {
      "cell_type": "markdown",
      "metadata": {
        "id": "9MxlXuQQPTEQ"
      },
      "source": [
        "###5.3.4 bert-extractive-summarizer + koBERT"
      ]
    },
    {
      "cell_type": "code",
      "metadata": {
        "id": "YrIofHtnP_-U",
        "colab": {
          "base_uri": "https://localhost:8080/",
          "height": 294
        },
        "outputId": "cc89b168-21bb-4a25-e8ee-c330cd4d735f"
      },
      "source": [
        "model2 = Summarizer(custom_model=custom_model, custom_tokenizer=custom_tokenizer)\n",
        "result = model2(org_text, num_sentences=15)\n",
        "summary = \"\".join(result)\n",
        "print(summary)\n",
        "\n",
        "bert_extractive_summarizer_kobert = evaluate('BESM+kobert',summary)\n",
        "bert_extractive_summarizer_kobert "
      ],
      "execution_count": 107,
      "outputs": [
        {
          "output_type": "stream",
          "text": [
            "해도 해도 끝이 없는 집안일이 힘들어 지칠때면\n",
            "난롯가에 앉아서 잠시 쉬곤 했지요. 내가 너를 무도회에 보내주마 호박 한개와 생쥐 두마리, 도마뱀을 구해 오렴. 왕자님은 무도회장에 모인 다른 아가씨들은 쳐다보지도 않고,신데렐라하고만 춤을 추었어요. 땡, 땡, 땡...... 벽시계가 열두 시를 알리는 소리에 신데렐라는 화들짝 놀랐어요. 언니들은 발을 오므려도 보고, 구두를 늘려도 보았지만 한눈에 보기에도 유리 구두는 너무 작았어요. 신데렐라는 신하게 건넨 유리 구두를 신었어요,\n",
            "유리 구두는 신데렐라의 발에 꼭 맞았어요.\n",
            "Num sentences: 11\n",
            "Num querys: 6\n",
            "Num sentences: 28\n",
            "Num querys: 6\n",
            "Num sentences: 7\n",
            "Num querys: 6\n",
            "Num sentences: 46\n",
            "Num querys: 6\n"
          ],
          "name": "stdout"
        },
        {
          "output_type": "execute_result",
          "data": {
            "text/html": [
              "<div>\n",
              "<style scoped>\n",
              "    .dataframe tbody tr th:only-of-type {\n",
              "        vertical-align: middle;\n",
              "    }\n",
              "\n",
              "    .dataframe tbody tr th {\n",
              "        vertical-align: top;\n",
              "    }\n",
              "\n",
              "    .dataframe thead th {\n",
              "        text-align: right;\n",
              "    }\n",
              "</style>\n",
              "<table border=\"1\" class=\"dataframe\">\n",
              "  <thead>\n",
              "    <tr style=\"text-align: right;\">\n",
              "      <th></th>\n",
              "      <th>method</th>\n",
              "      <th>comp ratio</th>\n",
              "      <th>intro</th>\n",
              "      <th>body</th>\n",
              "      <th>ending</th>\n",
              "      <th>total</th>\n",
              "      <th>grammar</th>\n",
              "    </tr>\n",
              "  </thead>\n",
              "  <tbody>\n",
              "    <tr>\n",
              "      <th>0</th>\n",
              "      <td>BESM+kobert</td>\n",
              "      <td>0.201245</td>\n",
              "      <td>0.483947</td>\n",
              "      <td>0.612274</td>\n",
              "      <td>0.656823</td>\n",
              "      <td>0.588367</td>\n",
              "      <td>0.999798</td>\n",
              "    </tr>\n",
              "  </tbody>\n",
              "</table>\n",
              "</div>"
            ],
            "text/plain": [
              "        method  comp ratio     intro      body    ending     total   grammar\n",
              "0  BESM+kobert    0.201245  0.483947  0.612274  0.656823  0.588367  0.999798"
            ]
          },
          "metadata": {
            "tags": []
          },
          "execution_count": 107
        }
      ]
    },
    {
      "cell_type": "markdown",
      "metadata": {
        "id": "2YMmqq8zQaRw"
      },
      "source": [
        "### 5.3.5 장문에 대한 요약 비교 결과"
      ]
    },
    {
      "cell_type": "code",
      "metadata": {
        "id": "GNI2sP-gQgPa",
        "colab": {
          "base_uri": "https://localhost:8080/",
          "height": 170
        },
        "outputId": "1291788c-d09b-4498-d257-5483dd3f1b9e"
      },
      "source": [
        "result = pd.concat([sam_gan, bert_lexrank, bert_extractive_summarizer, bert_extractive_summarizer_kobert ], ignore_index=True)\n",
        "result"
      ],
      "execution_count": 110,
      "outputs": [
        {
          "output_type": "execute_result",
          "data": {
            "text/html": [
              "<div>\n",
              "<style scoped>\n",
              "    .dataframe tbody tr th:only-of-type {\n",
              "        vertical-align: middle;\n",
              "    }\n",
              "\n",
              "    .dataframe tbody tr th {\n",
              "        vertical-align: top;\n",
              "    }\n",
              "\n",
              "    .dataframe thead th {\n",
              "        text-align: right;\n",
              "    }\n",
              "</style>\n",
              "<table border=\"1\" class=\"dataframe\">\n",
              "  <thead>\n",
              "    <tr style=\"text-align: right;\">\n",
              "      <th></th>\n",
              "      <th>method</th>\n",
              "      <th>comp ratio</th>\n",
              "      <th>intro</th>\n",
              "      <th>body</th>\n",
              "      <th>ending</th>\n",
              "      <th>total</th>\n",
              "      <th>grammar</th>\n",
              "    </tr>\n",
              "  </thead>\n",
              "  <tbody>\n",
              "    <tr>\n",
              "      <th>0</th>\n",
              "      <td>SAM+WGAN</td>\n",
              "      <td>0.253112</td>\n",
              "      <td>0.582324</td>\n",
              "      <td>0.599014</td>\n",
              "      <td>0.699104</td>\n",
              "      <td>0.610254</td>\n",
              "      <td>0.998037</td>\n",
              "    </tr>\n",
              "    <tr>\n",
              "      <th>1</th>\n",
              "      <td>BERT+LexRank</td>\n",
              "      <td>0.302905</td>\n",
              "      <td>0.225772</td>\n",
              "      <td>0.244255</td>\n",
              "      <td>0.181226</td>\n",
              "      <td>0.230244</td>\n",
              "      <td>0.999866</td>\n",
              "    </tr>\n",
              "    <tr>\n",
              "      <th>2</th>\n",
              "      <td>BESM</td>\n",
              "      <td>0.201245</td>\n",
              "      <td>0.483947</td>\n",
              "      <td>0.612274</td>\n",
              "      <td>0.656823</td>\n",
              "      <td>0.588367</td>\n",
              "      <td>0.999798</td>\n",
              "    </tr>\n",
              "    <tr>\n",
              "      <th>3</th>\n",
              "      <td>BESM+kobert</td>\n",
              "      <td>0.201245</td>\n",
              "      <td>0.483947</td>\n",
              "      <td>0.612274</td>\n",
              "      <td>0.656823</td>\n",
              "      <td>0.588367</td>\n",
              "      <td>0.999798</td>\n",
              "    </tr>\n",
              "  </tbody>\n",
              "</table>\n",
              "</div>"
            ],
            "text/plain": [
              "         method  comp ratio     intro      body    ending     total   grammar\n",
              "0      SAM+WGAN    0.253112  0.582324  0.599014  0.699104  0.610254  0.998037\n",
              "1  BERT+LexRank    0.302905  0.225772  0.244255  0.181226  0.230244  0.999866\n",
              "2          BESM    0.201245  0.483947  0.612274  0.656823  0.588367  0.999798\n",
              "3   BESM+kobert    0.201245  0.483947  0.612274  0.656823  0.588367  0.999798"
            ]
          },
          "metadata": {
            "tags": []
          },
          "execution_count": 110
        }
      ]
    },
    {
      "cell_type": "code",
      "metadata": {
        "id": "qO5Q5FfMQ39r",
        "colab": {
          "base_uri": "https://localhost:8080/",
          "height": 472
        },
        "outputId": "8e50a731-ae5d-41f0-c092-afd8e4e34c18"
      },
      "source": [
        "result.plot.bar(x='method',figsize=(12,6))"
      ],
      "execution_count": 111,
      "outputs": [
        {
          "output_type": "execute_result",
          "data": {
            "text/plain": [
              "<matplotlib.axes._subplots.AxesSubplot at 0x7f77b8b027f0>"
            ]
          },
          "metadata": {
            "tags": []
          },
          "execution_count": 111
        },
        {
          "output_type": "display_data",
          "data": {
            "image/png": "[encoded data removed]",
            "text/plain": [
              "<Figure size 864x432 with 1 Axes>"
            ]
          },
          "metadata": {
            "tags": [],
            "needs_background": "light"
          }
        }
      ]
    },
    {
      "cell_type": "markdown",
      "metadata": {
        "id": "fbplo1Kuq7gh"
      },
      "source": [
        "# 6. Conclution\n",
        "\n",
        "비교적 단문에서는 Extractive 방법과 대등소이한 결과를 보였으나, 장문에서는 Extractive보다 Similarity가 도입, 본문, 결말부 모두 높게 나타났다. 그러나, grammarlity는 가장 낮았다. 이는, 주요 어절을 기반으로 문법에 맞게 적당한 어절을 만들어내는 기본 알고리즘 구조상 나타나는 현상으로 이해할 수 있다.\n",
        "\n",
        " 일반 DNN구조로 만들어진 Generator이기 때문에 문법 구성이 부드럽지 못했다. 향후에는 seq2seq 알고리즘으로 Generator를 구성하면 문법적으로 더 완성도 높은 문장을 생성할 것으로 기대한다. 또한 미분 가능한 구조가 아닌 Discriminator의 단절 현상을 변형된 WGAN을 적용하여 학습 가능하게 한 방법은 RNN 계열의 Generator에서 동일하게 적용할 수 있을것으로 기대한다."
      ]
    },
    {
      "cell_type": "markdown",
      "metadata": {
        "id": "kBnHEBf4llcA"
      },
      "source": [
        "Relatively, short texts showed similar results to extractive methods, but long texts showed higher similarity than extractives in the introduction, document body, and ending. However, the grammarlity was the lowest. This can be understood as a phenomenon that appears in the structure of a basic algorithm that generates words appropriate for grammar based on frame words.\r\n",
        "\r\n",
        "  Since it is a generator made with a general DNN structure, the grammar composition was not smooth. In the future, if the generator is configured with the seq2seq algorithm, it is expected that sentences with higher grammatical completion will be generated. In addition, it is expected that the method of learning the discriminator disconnection phenomenon, not the differentiable structure, by applying the modified WGAN can be applied in the same way in the generator of the RNN series."
      ]
    },
    {
      "cell_type": "markdown",
      "metadata": {
        "id": "ibzIVByDK7CA"
      },
      "source": [
        "## Reference\n",
        "\n",
        "[1] Rada Mihalcea and Paul Tarau, (2004). TextRank: Bringing Order into Texts <br>\n",
        "[2] G¨une¸s Erkan. (2004). LexRank: Graph-based Lexical Centrality as Salience in Text Summarization <br>\n",
        "[3] Susan T. Dumais (2005). \"Latent Semantic Analysis\". Annual Review of Information Science and Technology. 38: 188–230. <br>\n",
        "[4] Hans Peter Luhn (1960). Keyword-in-context index for technical literature. American Documentation, 11(4):288–295. ISSN 0002-823 <br>\n",
        "[5] Aria Haghighi, (2009). Exploring Content Models for Multi-Document Summarization <br>\n",
        "[6] Colin Raffel. (2020). Exploring the Limits of Transfer Learning with a Unified Text-to-Text Transformer <br>\n",
        "[7] Mike Lewis, (2019). BART: Denoising Sequence-to-Sequence Pre-training for Natural Language Generation, Translation, and Comprehension <br>\n",
        "[8] Alec Radford, (2018). Language Models are Unsupervised Multitask Learners <br>\n",
        "[9] Guillaume Lample, (2019). Cross-lingual Language Model Pretraining <br>\n",
        "[10] Nils Reimers and Iryna Gurevych, (2019). Sentence-BERT: Sentence Embeddings using Siamese BERT-Networks <br>\n",
        "[11] Sharma, P., & Li, Y. (2019). Self-Supervised Contextual Keyword and Keyphrase Retrieval with Self-Labelling <br>\n",
        "[12] Jacob Devlin, (2019). BERT: Pre-training of Deep Bidirectional Transformers for Language Understanding <br>\n",
        "[13] Ian J. Goodfellow, (2014). Generative Adversarial Nets <br>\n",
        "[14] Yau-ShianWang, (2018). Learning to Encode Text as Human-Readable Summaries using Generative Adversarial Networks <br>\n",
        "[15] Martin Arjovsky, (2017). Wasserstein GAN <br>"
      ]
    }
  ]
}