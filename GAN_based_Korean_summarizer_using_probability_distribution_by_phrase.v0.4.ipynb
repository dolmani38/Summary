{
  "nbformat": 4,
  "nbformat_minor": 0,
  "metadata": {
    "kernelspec": {
      "language": "python",
      "display_name": "Python 3",
      "name": "python3"
    },
    "language_info": {
      "name": "python",
      "version": "3.7.6",
      "mimetype": "text/x-python",
      "codemirror_mode": {
        "name": "ipython",
        "version": 3
      },
      "pygments_lexer": "ipython3",
      "nbconvert_exporter": "python",
      "file_extension": ".py"
    },
    "colab": {
      "name": "GAN_based_Korean_summarizer_using_probability_distribution_by_phrase.v0.4.ipynb",
      "provenance": [],
      "include_colab_link": true
    },
    "accelerator": "GPU"
  },
  "cells": [
    {
      "cell_type": "markdown",
      "metadata": {
        "id": "view-in-github",
        "colab_type": "text"
      },
      "source": [
        "<a href=\"https://colab.research.google.com/github/dolmani38/Summary/blob/master/GAN_based_Korean_summarizer_using_probability_distribution_by_phrase.v0.4.ipynb\" target=\"_parent\"><img src=\"https://colab.research.google.com/assets/colab-badge.svg\" alt=\"Open In Colab\"/></a>"
      ]
    },
    {
      "cell_type": "markdown",
      "metadata": {
        "id": "GkQCxNatSIOk"
      },
      "source": [
        "# GAN based Korean summarizer using probability distribution by phrase\n",
        "\n"
      ]
    },
    {
      "cell_type": "markdown",
      "metadata": {
        "id": "R6fXazeHRA5R"
      },
      "source": [
        "---\n",
        "이훈석(1), 안순홍(2), 김승훈(교신)\n",
        "\n",
        "---"
      ]
    },
    {
      "cell_type": "markdown",
      "metadata": {
        "id": "TD-_JUYRRFzR"
      },
      "source": [
        "# Abstract"
      ]
    },
    {
      "cell_type": "markdown",
      "metadata": {
        "id": "Cp94OHgIPltF"
      },
      "source": [
        " 영어의 경우 Sate of art를 달성한 요약 알고리즘 및 모델들이 개발 되어 졌다. 대부분 GAN 이나 AVE 알고리즘을 이용하여 문장을 생성하는 방식을 기반으로 한다.\n",
        "영어의 경우 English Gigaword와 같이 원문과 요약문 데이터셋을 대량으로 구비하고 있어, 요약 모델을 생성하는데 유리하다. 하지만 아직 한국어의 경우 양질의 대량 여약 데이터셋이 준비되어 있지 않다. 하여, 한국어의 경우 좋은 성능의 요약 알고리즘이 아직 연구가 미비하다.\n",
        " 본 연구에서는 원문에 대한 유사 확율을 구문(?)별 추출하고 높은 확률의 구문만을 골자로 하여 나머지 원문의 구문을 재활용 추출하여 한국에 문법에 맞게 재조합 시키는 방법으로 원문을 요약하기 방법을 제안한다.[방식의 명칭을 지어야 함]\n",
        "이를 통해, 대량의 요약문 데이터셋이 없어도 원문을 요약할 수 있으며, 특히, 스토리 흐름이 있는 문성의 경우, 일부 발췌가 아닌 전체 스토리를 요약할 수 있는 장점을 갖는다.\n"
      ]
    },
    {
      "cell_type": "markdown",
      "metadata": {
        "id": "VeEVeuDBQxpa"
      },
      "source": [
        "#1. Introduction\n"
      ]
    },
    {
      "cell_type": "markdown",
      "metadata": {
        "id": "vBmgUn9GV7Fm"
      },
      "source": [
        "\n",
        "ref : https://www.machinelearningplus.com/nlp/text-summarization-approaches-nlp-example/\n",
        "\n",
        "When you open news sites, do you just start reading every news article? Probably not. We typically glance the short news summary and then read more details if interested. Short, informative summaries of the news is now everywhere like magazines, news aggregator apps, research sites, etc.\n",
        "\n",
        "Well, It is possible to create the summaries automatically as the news comes in from various sources around the world.\n",
        "\n",
        "The method of extracting these summaries from the original huge text without losing vital information is called as Text Summarization. It is essential for the summary to be a fluent, continuous and depict the significant.\n",
        "\n",
        "In fact, the google news, the inshorts app and various other news aggregator apps take advantage of text summarization algorithms.\n",
        "\n",
        "In this post, I discuss and use various traditional and advanced methods to implement automatic Text Summarization.\n",
        "\n",
        "\n",
        "\n",
        "\n",
        "\n",
        "> * Types of Text Summarization\n",
        "\n",
        "> Text summarization methods can be grouped into two main categories: Extractive and Abstractive methods\n",
        "\n",
        "> * Extractive Text Summarization\n",
        "\n",
        "> It is the traditional method developed first. The main objective is to identify the significant sentences of the text and add them to the summary. You need to note that the summary obtained contains exact sentences from the original text.\n",
        "\n",
        "> * Abstractive Text Summarization\n",
        "\n",
        "> It is a more advanced method, many advancements keep coming out frequently(I will cover some of the best here). The approach is to identify the important sections, interpret the context and reproduce in a new way. This ensures that the core information is conveyed through shortest text possible. Note that here, the sentences in summary are generated, not just extracted from original text.\n",
        "\n",
        "In the next sections, I will discuss different extractive and abstractive methods. At the end, you can compare the results and know for yourself the advantages and limitations of each method."
      ]
    },
    {
      "cell_type": "markdown",
      "metadata": {
        "id": "VtpedKPHPuSx"
      },
      "source": [
        "#2. Related Work"
      ]
    },
    {
      "cell_type": "markdown",
      "metadata": {
        "id": "aADtcrL_XtG1"
      },
      "source": [
        "\n",
        "\n",
        "* Text Summarization using Gensim with TextRank\n",
        "\n",
        "> gensim is a very handy python library for performing NLP tasks. The text summarization process using gensim library is based on TextRank Algorithm\n",
        "\n",
        "> What is TextRank algorithm?\n",
        "\n",
        "> TextRank is an extractive summarization technique. It is based on the concept that words which occur more frequently are significant. Hence , the sentences containing highly frequent words are important .\n",
        "\n",
        "> Based on this , the algorithm assigns scores to each sentence in the text . The top-ranked sentences make it to the summary.\n",
        "\n",
        "* Text Summarization with Sumy\n",
        "> Along with TextRank , there are various other algorithms to summarize text.<br>\n",
        "> Don’t you think it would be very smooth and beneficial to have a library, which will let you perform summarization through multiple algorithms?<br>\n",
        "> Fortunately, we already have the sumy library for it !\n",
        "sumy libraray provides you several algorithms to implement Text Summarzation. Just import your desired algorithm rather having to code it on your own.<br>\n",
        "> In this section, I shall discuss on implementation of the below algorithms for summarization using sumy :\n",
        ">> LexRank<br>\n",
        "> Luhn<br>\n",
        "> Latent Semantic Analysis, LSA<br>\n",
        "> KL-Sum<br>\n",
        "\n",
        "* LexRank (ref : G¨une¸s Erkan. (2004). LexRank: Graph-based Lexical Centrality as Salience in Text Summarization, https://arxiv.org/pdf/1109.2128.pdf)\n",
        "> First, let me introduce you to summarization with LexRank.\n",
        "> How does LexRank work?\n",
        "> A sentence which is similar to many other sentences of the text has a high probability of being important. The approach of LexRank is that a particular sentence is recommended by other similar sentences and hence is ranked higher.\n",
        "> Higher the rank, higher is the priority of being included in the summarized text.\n",
        "\n",
        "* LSA (Latent semantic analysis) (ref:참조논문 찾기)\n",
        "> Latent Semantic Analysis is a unsupervised learning algorithm that can be used for extractive text summarization.<br>\n",
        "> It extracts semantically significant sentences by applying singular value decomposition(SVD) to the matrix of term-document frequency. To learn more about this algorithm, check out here <br>\n",
        "> Let me demonstrate how to use LSA for summarization . First, import the summarizer from sumy.\n",
        "\n",
        "* Luhn (ref:참조논문 찾기)\n",
        "> Luhn Summarization algorithm’s approach is based on TF-IDF (Term Frequency-Inverse Document Frequency). It is useful when very low frequent words as well as highly frequent words(stopwords) are both not significant.<br>\n",
        "> Based on this, sentence scoring is carried out and the high ranking sentences make it to the summary.\n",
        "\n",
        "* KL-Sum (ref:참조논문 찾기)\n",
        "> Another extractive method is the KL-Sum algorithm. <br>\n",
        "> It selects sentences based on similarity of word distribution as the original text. It aims to lower the KL-divergence criteria (learn more). It uses greedy optimization approach and keeps adding sentences till the KL-divergence decreases."
      ]
    },
    {
      "cell_type": "markdown",
      "metadata": {
        "id": "JUP5F_L_Z99t"
      },
      "source": [
        "* What is Abstractive Text Summarization?\n",
        "\n",
        "> Abstractive summarization is the new state of art method, which generates new sentences that could best represent the whole text. This is better than extractive methods where sentences are just selected from original text for the summary.<br>\n",
        "\n",
        "> HuggingFace supports state of the art models to implement tasks such as summarization, classification, etc.. Some common models are GPT-2, GPT-3, BERT , OpenAI, GPT, T5.\n",
        "\n",
        ">Another awesome feature with transformers is that it provides PreTrained models with weights that can be easily instantiated through from_pretrained() method.\n",
        "\n",
        ">You can check the list of currently available PreTrained models here\n",
        "\n",
        ">This section will show you text summarization through different models of transformers library\n",
        "\n",
        "* Summarization with T5 Transformers (ref : Colin Raffel. (2020). Exploring the Limits of Transfer Learning with a Unified\n",
        "Text-to-Text Transformer, https://arxiv.org/pdf/1910.10683.pdf)\n",
        ">T5 is an encoder-decoder model. It converts all language problems into a text-to-text format.<br>\n",
        ">First, you need to import the tokenizer and corresponding model through below command.<br>\n",
        ">It is preferred to use T5ForConditionalGeneration model when the input and output are both sequences.\n",
        "\n",
        "* Summarization with BART Transformers (ref : Mike Lewis, (2019). BART: Denoising Sequence-to-Sequence Pre-training for Natural\n",
        "Language Generation, Translation, and Comprehension, https://arxiv.org/pdf/1910.13461.pdf)\n",
        "> transformers library of HuggingFace supports summarization with BART models.\n",
        "> Import the model and tokenizer. For problems where there is need to generate sequences , it is preferred to use BartForConditionalGeneration model.\n",
        "\n",
        "* Summarization with GPT-2 Transformers (ref : Alec Radford, (2018). Language Models are Unsupervised Multitask Learners, https://d4mucfpksywv.cloudfront.net/better-language-models/language_models_are_unsupervised_multitask_learners.pdf)\n",
        ">GPT-2 transformer is another major player in text summarization, introduced by OpenAI. Thanks to transformers, the process followed is same just like with BART Transformers.<br>\n",
        "> First, you have to import the tokenizer and model. Make sure that you import a LM Head type model, as it is necessary to generate sequences. Next, load the pretrained gpt-2 model and tokenizer .<br>\n",
        ">After loading the model, you have to encode the input text and pass it as an input to model.generate().\n",
        "\n",
        "* Summarization with XLM Transformers (ref : Guillaume Lample, (2019). Cross-lingual Language Model Pretraining, https://arxiv.org/pdf/1901.07291.pdf)\n",
        ">Another transformer type that could be used for summarization are XLM Transformers.<br>\n",
        ">You can import the XLMWithLMHeadModel as it supports generation of sequences.You can load the pretrained xlm-mlm-en-2048 model and tokenizer with weights using from_pretrained() method.<br>\n",
        ">The nexts steps are same as the last three cases. The encoded input text is passed to generate() function with returns id sequence for the summary. You can decode and print the summary.<br>\n",
        "\n",
        "* GAN for Language Generation\n",
        "> In this paper, we borrow the idea of GAN to make the generator output human-readable. The major challenge in applying GAN to sentence generation is the discrete nature of natural language. To generate a word sequence, the generator usually has non-differential parts such as argmax or other sample functions which cause the original GAN to fail.\n",
        "In (Gulrajani et al., 2017), instead of feeding a discrete word sequence, the authors directly feed the generator output layer to the discriminator.\n",
        "This method works because they use the earth mover’s distance on GAN as proposed in (Arjovsky et al., 2017), which is able to evaluate the distance between a discrete and a continuous distribution.\n",
        "SeqGAN (Yu et al., 2017) tackles the sequence generation problem with reinforcement learning. Here, we refer to this approach as adversarial REINFORCE. However, the discriminator only measures the quality of whole sequence, and thus the rewards are extremely sparse and the rewards assigned to all the generation steps are all the same. MC search (Yu et al., 2017) is proposed to evaluate the approximate reward at each time step, but this method suffers from high time complexity.\n",
        "Following this idea, (Li et al., 2017) proposes partial evaluation approach to evaluate the expected reward at each time step.\n"
      ]
    },
    {
      "cell_type": "markdown",
      "metadata": {
        "id": "Yd3VkOBVPz0H"
      },
      "source": [
        "#3. Proposed Method"
      ]
    },
    {
      "cell_type": "markdown",
      "metadata": {
        "id": "PtejzyTbZVZ6"
      },
      "source": [
        "본 논문에서 제안하는 방법은 Extractive 방식을 조합한 Abstractive 방법이라 할 수 있다. 원문을 term으로 모두 나누고 이를 재조합하여 전체 내용을 요약한 몇개의 문장을 생성한다.\n",
        "\n",
        " 먼저 Similarity function에 의해서 Skeleton term을 추출한다. 이후 이를 bias로 해서 2D DNN에 의해 random한 문장을 generator에 의해 생성한다. 하지만 역시 원문의 term들에 출현 probability를 할당하여 해당 distribution의 상위 N개에 해당하는 term만 문장으로 재조합한다. 따라서 생성하는 모든 term은 원문내에 속한다. 이후, 한국어 문법 discriminator에 의해 임의 생성된 문장이 문법적으로 사람이 읽을 수 있는 문장인지 regrassion scoring 한다. 이 과정을 generator와 discriminator에 의한 GAN알고리즘으로 학습한다. 전체 아키텍처는 아래 그림과 같다. \n",
        "\n",
        "![image.png](data:image/png;base64,iVBORw0KGgoAAAANSUhEUgAAA0EAAAFSCAYAAAA0INTFAAAgAElEQVR4Ae2dX880yXmX58NwNqd8gYBFUCA5QSOBXiE4iZDCSYKSBSz+jESUCCmK0YogRRslOA4iDPsmGBmZyAvCIJJFYQPBzy7YWS9Ldm3Iyll7bcdZO1YK3dVd3XdVV3fX9HTXdNVcj/S+011df+667uqq+k1V9xx+5/e+Zd748jf5BwPaAG2ANkAboA3QBmgDd2gDf/Dt7xr+IACBvAQOP/zLXzB//5NvmR//1Nv8gwFtgDZAG6AN0AZoA7SBjG3gBz/+v6zwzDv9ozQIQMCKoPe+/h1IQAACEIAABCAAAQhkJiBfQsuOHP4gAIG8BBBBeXlTGgQgAAEIQAACEOgIIII6FBxAICsBRFBW3BQGAQhAAAIQgAAEegKIoJ4FRxDISQARlJM2ZUEAAhCAAAQgAAFFABGkYHAIgYwEEEEZYVMUBCAAAQhAAAIQ0AQQQZoGxxDIRwARlI81JUEAAhCAAAQgAAGPACLIw8EJBLIRQARlQ01BEIAABCAAAQhAwCeACPJ5cAaBXAQQQblIUw4EIAABCEAAAhAICCCCAiCcQiATAURQJtAUAwEIQAACEIAABEICiKCQCOcQyEMAEZSHM6VAAAIQgAAEIACBAQFE0AAJARDIQgARlAUzhUAAAhCAAAQgAIEhAUTQkAkhEMhBABGUgzJlQAACEIAABCAAgQgBRFAECkEQyEAAEZQBMkVAAAIQgAAEIACBGAFEUIwKYRDYngAiaHvGlAABCEAAAhCAAASiBBBBUSwEQmBzAoigzRFTAAQgAAEIQAACEIgTQATFuRAKga0JIIK2Jkz+EIAABCAAAQhAYIQAImgEDMEQ2JgAImhjwGQPAQhAAAIQgAAExggggsbIEA6BbQkggrblS+4QgAAEIAABCEBglAAiaBQNFyCwKQFE0KZ4yRwCEIAABCAAAQiME0AEjbPhCgS2JIAI2pIueUMAAhCAAAQgAIEJAoigCThcgsCGBBBBG8IlawhAAAIQgAAEIDBFABE0RYdrENiOACJoO7bkDAEIQAACEIAABCYJIIIm8XARApsR2FwE/eWffG6+50d+jn87YSD+4A8CEIAABCAAgX0QQATtww9Y8XgENhdBIoCevfQ6/3bCQPzBHwQgAAEIQAAC+yCACNqHH7Di8QgggnYiTnIJRUTQ493k1BgCEIAABPZLABG0X99gWd0EEEGIoLpbOLWDAAQgAAEI7JgAImjHzsG0qgkgghBBVTdwKgcBCEAAAhDYMwFE0J69g201E0AEIYJqbt/UDQIQgAAEILBrAoigXbsH4yomgAhCBFXcvKkaBCAAAQhAYN8EEEH79g/W1UsAETQjgl58y5h3X3uzmrfb8WKEem9magYBCEAAAuURQASV5zMsroNAcSJIRIn+e/WV/vXb9tpb79wkWMI81hBBYZ653gQXKwcRpFsPxxCAAAQgAIH7EkAE3Zc/pT8ugaJE0FBMvGmev/WeeaFdzRle7wVSTBDEwsI85PzWlaAwz2evfGDM+73dMTu2CkMEPe7NTs0hAAEIQGB/BBBB+/MJFj0GgYJE0DvmVfOhef7y9cLmFkGxhggalI8Ieoy7i1pCAAIQgAAEZggggmYAcRkCGxGoSgS98NqHxnTb4d40z9835tVXms+GXyuiXn7PvNsB/cC8qJ4L8vN43QxFkM5PMtHpwzKb8nSedlWoK9tYewcrRWLPRkKJlSANn2MIQAACEIDAfQkggu7Ln9Ifl0BBIuh1Y8XExGqQFhvPXnJipV89stff/9C8q4RLKED8PIYi6IXXPvBWo/z0TZnvvu/HCfMcCJyI4JF8b92GN1iBeul1gwh63JudmkMAAhCAwP4IIIL25xMsegwCRYkgO6kXwWD/9ApMs0XOFxutIPHe7CZb6mR1SG2ps/n1efl5DEXQQFh4AiZWZiveuhWq2CpPuNUvPFf2qlWrgS0J1xBBj3FjU0sIQAACECiDACKoDD9hZX0EyhNB7UTfrsAYf7XEFzCNIPEEz0sRcWG3xl0ngmw5ui10LzmIlZkiggKxJcJKi6YEcZMqiEoQQZfTwRxOF0346uM18ri60MoSPJ2PN/uhMiRUBwIQgMDqBBBBqyMlQwgkEShWBNlJvxUwwXa3TjzEBMmtIkjSN8/xdKIjshLkC680EaS3yInAC/PoyrtREO1CBD2dzfFwMIfu38loybOGgFkjj6Q7qOJIqSII1hU3AqoGAQhsTgARtDliCoBAlEDZIihY2dl8JSjYOifCxJa5wkrQM1sXWZESodWvTK0lflw+9xZBdmJ98EWPeTqb0/mpa6BrTKrXyKMz6EEPEEEP6niqDQEIZCWACMqKm8Ig0BEoRwTJqk+3yqOeAeoESLjissFKULDy9MyeG/WbP7EyQ7vaZ4IiQseuAL213VY4EUL3FUFP5nw8mLmdbmsImGV5XMzpcDRKj3U3ynYH9ygzrTapIigtN2JBAAIQgECMACIoRoUwCGxPoBwRJNvA7EqMgqIEULcq0wmlmCC5dTtcK2icCVL+ku1w3ZvrIlvrwhc33Lj9za0Auc/7iiCZ8COCXPNpPhFBPo/YWSOej4nqVMRbalyvtMtJbdFcIIa99MFqp1dQnpPoqmueoidLsV9QdFth1bbYuW9HJnPlIgTKJYAIKtd3WF42gbJE0MqCwAmD3XzalaXttsJJPe8rgoxpJkDTE8zBKk47ufQmtuFzRcez6TfUteWEk6qJNM2EUU3IQrEWpg2vm6ZMsdHLK7BLdxdevHZS6JkclhnkZdNLmJt8t4kdPy//9poXFuSnbZNjG1fShXZ4RsZYN6Jl7JkvYxox7K4H2YVmSAGJL2jo8/XayjDHSMiTOZ/Vk2lS5gwfPxM/fcfOj5T9TNrCLN+VrZK6p5Up/rq/WFy5+mQHgasJIIKuRkYCCKxCABG0I2HlP9O03muxtci7twiSVtsIocPoJNNN4m0Lbyf43qTKhvlCyqZRk1Yvj6ZQcwi2uoVpmsm5n++oDa0w0JNtye941KsQrRjwjLc5qv9GVoIS6tgJmiB/W6/DQa2GNOJAbOvfujdvm81f6qO4dgJGlRmyfjqfvC2F/vXGFpXcXM6+gFVwmsPLSdWlFWetaBzwb0WoDg/z67h5jMJY4xP0pPTSPjxuYf7p540fekb23AIUH0p7bZg2otJvvxJXs54udT6/yfSRe2IyvhXDiKBpRlx9BAKIoEfwMnXcIwFE0G5EUGSr3ga27UEENTdCP3ELJ6zdpDkmgEwzeR9O7CS/fgLY5WELS0sTF0FN2tBGm621r5/E+WW2t7vEmZwM+3Y3qdLsbSbjffltiY3IDMqMxbVhQTyXh3zG0tjrKfXWGen4dqLc+0lHGz3WIigQF0/ns/dmQclD7I76q7noiZNYemtHUE5nWxA+ll7awrCNdrlceaDag+XnfN6EH9RqivWZKljO1elMufP5xTNo0020pXg6afuuLvEYhELgEQgggh7By9RxjwQQQRsIDb3yknIc+82jlHRL4uxHBLW3g53U+b8LZMWErEBEtpwNtmZ5zxb0k2tPkLgyvLhu61ufJiqCbFodR93GwTUpczD51gJAJe0PIyIo0V474Y1MPL26d5iPQzE2I9DCCfWYzaPlebz7ya6NL9citvdl9EdiR8fVsunz6mP1R178Prg5SkgfbQcun6n01tdNu0oXHi7jmU8p93g2Z09cKXHkkrfx3NbQSRYuTfc5n18X1R1YHiP3h4sz+okIGkXDhYcigAh6KHdT2R0RQATtQAQtETNL0+xOBMnNEAgFO0luRVA3+XU3TeKky5uYJ6aJTn6n0gbXpMyBvUHdXDX6zzERND+xtCIlIiS8urcFReMuFUGRevfb7KQ+vqgN/duY5FYdgrg9mOZIbAwVhS1fxEac0ezEfyK95TS3OjGR3pnftOF+C5sLv+XT2uaxEIYhg6GwmOXRGZWWXxe9O2h9GWmLXZTowdDWaDQCIVA5AURQ5Q6merslgAhCBN2/cdpJZf/tfj+JbybUvrBoJlx+2LAKfR5yLS1NVARNpQ1EhJQ5sGuJCJoqU1XVToojE0+/7k2CaNzAfpW1PYymkStBnbzygmsS3eYzJiys78OJvG+JpB9wtVGkfQzTjsf38w39be30REYYPzyPl9/EigmKMP0V58LpeDInT/TEyvCFRToLsWU+v0mLW3EY91UspW9rLAZhEHgEAoigR/AyddwjAUQQIihju7yY02DS3ggU/W2/N6mOTKzsZHWwVe5iTmoC6+XRTcTD5zT8NM2kOIzjJv1BeGuXKtI+izOYAEZEgQ9cJoJB3on2Wg4Dnu2LJ7RhLr8wbooICld1Rurd+c9eV8Kkjd89txL8MG6zvVHF9+E0Z8EzQf1L3GKT9vlngqLpxc6QT8yWp7MZS9+Ht20mJb9YGYOw5h6xLvXsjNXfFxbSRoKmMMi9D5jPr487fpRepm/reI5cgUDdBBBBdfuX2u2XQJEiyD1D42ENfjNo6XaxpemsTd1vFG3zZreltul0d98O102K3TM5w9WTUMB0zwHpSaUVF30e3SS7bRSDPCR8Jo1EcQJL3rTlTR4Hdg8n7lLm9SJooswZe7OIoNPFYzLgYrH6W9o0Q/vcj61Hv9LnXY+s5Hj3deu3nmsjCNzrtfvwPpXk74fryfZI+oF/9bM9CekdB/cclG6r3lvQJK++bXnt1OPUl+nFceU0imh2O5yw6Ntxn2dPSx+tI4J0jtPHc/ZMp+YqBGohgAiqxZPUozQCxYqgd1970+jJfdZj7wdSG8GDCCqt6WNvMQREHPQz+evNLjH9rTa3lERAdehWyvN6B5ACAhCYIoAImqLDNQhsRwARtGQ7XEQEZRVhS2xu09x9JWi7tkzO1RJoVk/81Z30yoa/W5Sesol5j/S3limWNytuegXO//2mazkQHwIQ2IYAImgbruQKgTkClYmgN83z94159RV/O1r4I6SyaiMrSTbcEYptpxOx0/19YF586XUz2IrXboELyxBR5OUv+QTb5ZLtuEH0hOIMEdQ5lAMIQAACEIDA3Qkggu7uAgx4UAIPK4LE3/2WukY89edOwDTCpxES75jnbgteZCUoFEGNANLpmzK0EHKCqi93aEcoYm49RwQ96J1OtSEAAQhAYJcEEEG7dAtGPQCBYkVQ6JtGSKSvBGkxIsLCipZuNegd86r50Dx/2V9R6gTIrAgaSf/ye+Zdla8VQcHqkG/HSPk3rAwhgsKWwzkEIAABCEDgfgQQQfdjT8mPTaBYEdSvnmihkC6CBum1sLFiRa/i6DJeN8903FaQeCtBo+l9+9x2uE5cSV6RvL3rNwggyecHfuLX7vdCiRttX5NDmJcMQvxBAAIQgAAEchNABOUmTnkQaAgggtzEXIsPOTZ1iiBWgoa3/htf/qZBBA25EAIBCEAAAtsTQARtz5gSIBAjUKUICld5wm1nsyswwba1cNUgtlrjrQS9lL4dLrQ1lvegfCfcFnwigoa3ASJoyIQQCEAAAhDIQwARlIczpUAgJFCZCIq80MCu6vhvZpsVQd1b4PRqUPBihGClyBdBETtearbC6WeRUuxYUwBJXoig8BYwBhE0ZEIIBCAAAQjkIYAIysOZUiAQEqhOBMlE3678uJq+9U7z0gP1AoJU8WGFjcvHEz2toJFrV7wiO1z1SbVjTSGECOoc2h0ggjoUHEAAAhCAQGYCiKDMwCkOAi2BIkXQmqLg0fJCBA3vfUTQkAkhEIAABCCQhwAiKA9nSoFASAARtOC5mpKFEyIovAXYDjckQggEIAABCOQigAjKRZpyIOATQAQhgvwW8YBnrAQ9oNOpMgQgAIGdEEAE7cQRmPFwBBBBiKCHa/RhhRFBIRHOIQABCEAgFwFEUC7SlAMBnwAiCBHkt4gHPEMEPaDTqTIEIACBnRBABO3EEZjxcAQQQYigh2v0YYURQSERziEAAQhAIBcBRFAu0pQDAZ8AIggR5LeIBzxDBD2g06kyBCAAgZ0QQATtxBGY8XAEEEFKBNnfBXr/PfNCG+b93pAx5tVXXjfyZjgbruKV9LY43g43vMcRQUMmhEAAAhCAQB4CiKA8nCkFAiEBRJATQa98YIwSNlboqB9YffbSm+b5W75ACn/8tAQxhAgKbwFekT0kQggEIAABCOQigAjKRZpyIOATQARZEfSmef7+h+b5y81Kz7OX3jGvGn3uwvWnxPnAvOhEVCGfiCD/BpAzVoKGTAiBAAQgAIE8BBBBeThTCgRCAoggES/BKlCaCGq2xZW2GoQICm8BRNCQCCEQgAAEIJCLACIoF2nKgYBPABHUPuMTihn7fNDcapCIJ2/LnF4p2ucxIsi/AeSMlaAhE0IgAAEIQCAPAURQHs6UAoGQACKoFUHupQfecz0icuzfyLa3l98z76rniLy0O90ehwgKbwFE0JAIIRCAAAQgkIsAIigXacqBgE8AESQvPHi/f/NbTMi4t8SFq0XPEEF+ayr0jJWgQh2H2RCAAAQqIIAIqsCJVKFIAoigBBFkhZEInnB7HCKoyEYfGo0IColwDgEIQAACuQgggnKRphwI+AQQQSPPBA1XhCJvjOOZIL81FXqGCCrUcZgNAQhAoAICiKAKnEgViiSACHJvh9MvOJAVHn3+0usm/CFVEUmyTW6wRW6nzwI5UcczQcP7FBE0ZEIIBCAAAQjkIYAIysOZUiAQEkAEWdEyssqjaQ1egMDvBGk8JR8jgkr2HrZDAAIQKJsAIqhs/2F9uQQQQe3KjV3pCVZ/3OpJ7LPEVSCpBytBw5sVETRkQggEIAABCOQhgAjKw5lSIBASQAR129eat8SlbG+zb4sbrAzt83eBQgGHCApvAV6RPSRCCAQgAAEI5CKACMpFmnIg4BNABHUiqAwRE4qaa88RQf4NIGesBA2ZEAIBCEAAAnkIIILycKYUCIQEEEGIoLBNPNw5IujhXE6FIQABCOyGACJoN67AkAcjgAhCBD1Ykx9WFxE0ZEIIBCAAAQjkIYAIysOZUiAQEkAEIYLCNvFw54igh3M5FYYABCCwGwKIoN24AkMejAAiCBH0YE1+WF1E0JAJIRCAAAQgkIcAIigPZ0qBQEgAEYQICtvEw50jgh7O5VQYAhCAwG4IIIJ24woMeTACm4ug7/tbH7e/TSNvJSv535/+0V8o2n7HXvzBn08AEeTz4AwCEIAABPIRQATlY01JENAENhdBurBSj7/z3T82H/2VLxr55K8+Aoig+nxKjSAAAQiUQgARVIqnsLM2AoigBI9++nNfMfJ7PPLJX30EEEH1+ZQaQQACECiFACKoFE9hZ20EEEEzHpXVnx/6pc9bESSfrAbNACvwMiKoQKdhMgQgAIFKCCCCKnEk1SiOACJoxmVuFUhWglgNmoFV6GVEUKGOw2wIQAACFRBABFXgRKpQJAFE0ITb9CqQE0GsBk0AK/QSIqhQx2E2BCAAgQoIIIIqcCJVKJIAImjCbeEqkBNCPBs0Aa3AS4igAp2GyRCAAAQqIbAPEXQxp8PJXCphSjUgkEIAETRCKbYK5EQQq0Ej0AoNRgQV6jjMhgAEIFABgWtF0OV0MIeD+nc8m6ebOcyJoCdzPh7N+aaC1sjj5oqSAQQ6AoigDoV/8KWvfmiev/Ze908EkD6X6/zVQQARVIcfqQUEIACBEgksEUEntWTzdD6agw5YBAERtAgbiYomgAhKdJ+IIP7qJIAIqtOv1AoCEIBACQRuFUHm6WyO3mqQCJp+pcjXR/qaXtmZEkGygtPnd+i2zem8DsaVY0WZsqcRaeeRPErwEDbWSgARlOhZRFAiqAKjIYIKdBomQwACEKiEwK0iSLbHHbt9ao1gcYLEGF/cXE7quZ/LyRw6seLHG6INt7JNlaOuiUDrRFOYx7AUQiCQkwAiKJE2IigRVIHREEEFOg2TIQABCFRCYIkI0s8E9YLHGCPCxguQoH6VxkemhY8+9mM1Z4GAmSunXZ06e2UHecSKIQwCGQkgghJhI4ISQRUYDRFUoNMwGQIQgEAlBJaIIKdzBs8DiThRW+HcsYtvt855193K0AIR5OXTbJfryjHGDGwziKBKmmw11UAEJboSEZQIqsBoiKACnYbJEIAABCohcIsIMlZYqJWeyApNh8nbmmZVitqqtkAEacXTFdIe2JWgkzl5b5RDBIWYOL8vAURQIn9EUCKoAqMhggp0GiZDAAIQqITAbSKo3QLXPXcjYkaJInu5Xe0RgdQ9A9Rsk/NfcuBWheJg/W11E+VoYdZui3Nv1vbziJdDKARyEUAEJZJGBCWCKjAaIqhAp2EyBCAAgUoI3CyCrNA59M8C2RWf/m1u/YKNrMTocL36o49HwHZb7VqxNFKOCB39XJJ3HuYxUhTBEMhBABGUSBkRlAiqwGiIoAKdhskQgAAEKiFwrQiqpNpUAwJ3J4AISnQBIigRVIHREEEFOg2TIQABCFRCABFUiSOpRnEEEEGJLkMEJYIqMBoiqECnYTIEIACBSggggipxJNUojgAiKNFliKBEUAVGQwQV6DRMhgAEIFAJAURQJY6kGsURQAQlugwRlAiqwGiIoAKdhskQgAAEKiGACKrEkVSjOAKIoESXIYISQRUY7bFF0C2/2zCT1r456GjO9t2o6s1DXvhGDUbKcK+CXas8L5+Zul9bLS/vaxMTHwIQKJkAIqhk72F7yQQQQYneQwQlgiowWlkiyH/FqfwaeP/60yXwb5nMX5NWiSDPzGvy8BJOn2gRNB2zvXqtHdfGD424NX2YH+cQgECpBBBBpXoOu0sngAhK9CAiKBFUgdHKE0FudUVgi7jQ59c64JbJ+DVpEUG+Z65h56fkDAIQqIsAIqguf1KbcgggghJ9hQhKBFVgtLJFkDFP56M5NnvOjP017vPZHA/6x+pkwt3/QF7/C+HiLDcZF5Hi4oSiauzaXFotfGLHQ7tOp2BlK3lFR9t4MCdh4LbDWaHY/xK68JIVNPnXcBvacWl/fNDm07HUdbim7u1N0dUlVp7O2/nF+UM+e/vTfFbgjYjJEHhQAoigB3U81b47AURQogsQQYmgCoxWmwg6dJN/cUYz4XYiyYaICOjiuAm5mmTbX/Tuzy+n/tjIteS0emI/duzERNtwJH+1v08LvPGmNayj/YXyzk5VdidEmtyezmcjgqcXFn0pfh4SrvJpuXrixOOm47Z5emUH9Y7kfY3PrLBT3PpacAQBCOydACJo7x7CvloJIIISPYsISgRVYLSiRZBMrNV2OLsS1MzqG094E2/nHD0BbwSEP3+Ohbm0enIfi6fDdNyxY4mvV550vPCasyH4jNXRC1N5Wl5K1HVZDcsasIwIlXFuqkxXhmdTWJ6K78XrEitOknbpipnLj08IQGAvBBBBe/EEdjwaAURQoscRQYmgCoxWngjS26S0gDDNdjgtgoKVFeeefoIfTsabGP11WSRpt9d12+WciJhLqyb2noDQ4cM8urKjYsDVQH3G6uil1eXp+mh2E3Z0Rel8hvElWme7V982A8+mML3KO1YfL+8wrS3ZnLwtc53RHEAAAjsngAjauYMwr1oCiKBE1yKCEkEVGK08EaQn7z7wfhLehsuEutsW5uLqSbQ+jly3AsiJHicg3PlMWk8IqEm+Fx7JQ8o8XeyzTv5Ki7Mv+IzV0RMcumydVsIdy6EdA5ZzdnfPV0kZkTI9O8PyVHwvnrNXx9fH7rpK74L4hAAEiiCACCrCTRhZIQFEUKJTEUGJoAqMVrUISn0mSAkl+3yJOw8m5CIM+udgZDJ+8ESWl9YTAnqSro/16olrPM0k/3h0YsuFj31Kfnp7WGiXKu/pbM7dSpkvJkLRE577wiYso3lBRS84m+v9cz3D+H7+ysYknznx5pjo9C6MTwhAoAQCiKASvISNNRJABCV6FRGUCKrAaHWLIHFIOwF329mcwLG+kmtHcz6fujem9SJnmPZ00ZPtubQ67tix3efVlt2Lnqsf9LcrVm6b4NGcL2Nvh/NZ9CJlaIcvUoSFrsNc3d2q2ZhNYXk67yH3Xly5a4ggIcEfBGoggAiqwYvUoUQCiKBEryGCEkEVGK0sEVQg4AUmDwXIgkxIAgEIQKAAAoigApyEiVUSQAQluhURlAiqkGi//c43zPPX3rP/fvazXzI//Mtf6M4l/Gvf+qNCalKhmeFzSBVWkSpBAAKPS0DGFzf+yKeMPzIOubBff/NrjwuHmkMgIwFEUCJsRFAiqEKivf2VPzTi09i/j/7KFwupRX1mygrQoXtZQX31o0YQgAAEhICMM7HxR8J+839/HUgQgEAGAoigRMjSMfFXF4GPfeZ3o4MQA1BdfqY2EIAABPZGQMaZmAjiS7i9eQp7aiaACEr0LiIoEVRB0WKrQQxABTkQUyEAAQgUTCC2GsSXcAU7FNOLI4AISnQZIigRVGHRwtUgBqDCHIi5EIAABAolEK4G8SVcoY7E7GIJIIISXYcISgRVWDS9GsQAlMN57auln3KURRkQeBQC3FelelqvBvElXKlexO5SCSCCEj2HCEoEVWA0txrEAJTDeWtO1tbMK0fdKQMCKQSkXbvfl2o/vd/2iuWx5r2wRl5r5BGrZ31hbjWIL+Hq8y012j8BRFCijxBBiaAKjCarQQxAuRy35uRozbxy1Z9yIDBHYEm7XpJmzI418lojjzH76guX8Ycv4erzKzXaPwFEUKKPEEFxUH/5J5+b7/mRnyv+30de+ETxdRA/iD/2/ecmRxdzOrhvu4/m3G6PG/xIqvxmUPRbcMnHpZfPk7nYiut8D+bUBDZXTgdzOp/NUcq1FyTuyVwuJ3NobZHgp/OxOz86w3YK9Qd/6leraLc19CEpdRB/zf+5eyQWU7fv/r4xJkhjf2vrYPr2q9P594VfynX3lb1X1P1pz0/nkXvTL0mf1TKOpLSBWJw/87f/+UPfxznHLfrM8udrsXtoSZi0BUSQ7oknjhFBcTjS8IQN//bBQH+GTHcAACAASURBVPyx7z83yXKixRhjRUh7LsdKucikqp/IhTULJn52IqgneK3IaZPZ3yBSEzZj2omhK8+JIXdewI+27t/foc8e+zzNX2G77pldTsF907Vnlca221Agjd8Xfe7uSOVlg+R8LL265t0vYR4u7/gn48g+xo97jeNp90W87VwbmrOsa20jfl4C0hYQQYnMEUFxUAxe+xq89t/Bq0lT16R0mBYucxOp4HogoCR7vbKkj5uipSw9WQzPg/w7e/dzsH9/74fVHixJ81dzP7jVSfvphLlXidi9Erbh9kuGIP3wXtAZB+1+5r4yIn6OZ3OWldZu5TXIQ2cfOWYc2dc4klsMpd0XkYazIChnWQvMI0lGAtIWEEGJwBFBcVAMXvsavPbfwccnR3pS1h23k6vxF8kFebmVnG6bXbNdzk3Muny7pqwnkRIY5Dc47xLu5mD//t4Nql0YkuavsB0q0+1qS2wbqKRpwgcrpzP3hcq9PQzKT0jfbIPrFFDkXhqWokMYR/Y1jiCCdOvkuFYC0u8gghK9iwiKg2Lw2tfglTbJivsyT2gwwbKFBmEy0Ttd7LM5TsDEbQvSRb6x1ukQQZoGx/cgkHZ/Bu3aGWoFkNoO5527NPKpnwWKrwS5LOOfLq/26sx91awEnczpqFdVgzziBXWhjCP7GkcQQV3T5KBiAtLvIIISHYwIioNi8NrX4JU2yYr7Mk9oM0k7dM8ytC8iUOduReZ4VBO+EeN8YSMrO3pLjmyH6/Pw40qGrASNYCV4IwJp9+eIgBAxou4Tac/9C0F0muY+6FeEpu+LWFX9e2UqfXM/2y8rRJQF9k1/idGXzDiyr3EEEdS3TY7qJSD9DiIo0b+IoDgoBq99DV5pk6y4L/OEtpO1c/9Gtn4i11sw3F7TX/OOuq06rdix347324X0JMyf2EkuiCCPJSebE0i7P7Wg0SY1gsM9K3S66PYbpmmESyeaJu4LXUJ3nHhfWSGmbjLvPMyjy3x4wDiyr3EEETRso4TUR0D6HURQol8RQXFQDF77GrzSJllxX+4pdChY9mTdfmypxd/7IbqtJfgrzpdxZF/jCCIo3k4JrYuA9DuIoESfIoLioBi89jV4VTHJ8p51iLc7QhsCVfj7gZyJv+LOZhzZ1ziCCIq3U0LrIiD9DiIo0ac//qm3E2M+VjQGr30NXqVPsux2Gu+11Y91P11b29L9fW19S4+Pv+IeZBzZ1ziCCIq3U0LrIiD9zioiiF/greMXeNN+zdy/CRi89jV4Mcny22ftZ/i7LA/jr7i/GEf2NY4gguLtlNAZAsHLUcZjh88whjH1847htfXOpd9ZRQTRsa/nlHvmtMSPDF77GryW+PCebY6ybyNwL383K3b9Cyjcw/oH9ZD8bTVbknpuYF2S57pp7uWvdWuxfm6MI/saRxBBY218pI9JnvyP5VtJeDKHEY4dBkRQh4KDfASWDNAMXvsavJb4MF8Lo6S1Cdzf33kGqzRucwNrWi5bxtrMX93k4woG3dvbImI2eNV889r6eDz3Km55o+NSDcw4sq9xBBE01guM3F/d/TeW7kHCkzmMcOww5RlXpN9hJaiDzsGSAZrBa1+D1xIf0vLLJXB/f8cHK/t2v/PZHA8H068OSVw3kY79sObY9fa3pNq0btLte00GVZe3fLrfhxoL91PnOrvaXzKp0M/IDYRLy7GbfMxNLlRNJa8R1TL9dsaLOanfA3I5IoL2NRbkFjK3lHf1feEa3YLP28oaub+6+08MivSJsevqXpbb0P4sRLSPG+sXnS1j1+Nw5vtm/7f2mvq4vlX3266u7trBnKTP9/qGMdvmbA8Z6nxC++L1TAmVtoAISiH1IHGWdA6S5pbOj7TrDpxLfHhb85bOLPiF+oQMpcOPT2YTEksUNYAc9CQxMXkXzcvHTZy7q5sdTG0nawbDNFvy+ztEEg5WzXVbP28w9H+41vqvu960oV64tBMCN0H3JhBy7WwuoRn23A2s7uKwbVq2XbkuXr7PZH9JnTshN2af1E/9PpatV8hgLG17DznGQbRJEWTvmXAy1PhMZyd5pN7jjCPrjgOljavJ90XQTpec3lbWyP3l9VGRPnFwXX055MYgd/ME977+we+r+s0ROMO+ueknXfGhiJsrX9/jYd5zaXWf34zpbtzTDKftG6lmUrC0BURQEqrHiLSkc5A0pXW4Ndu7xIc3tW7pwPveMyGr/hsd3XkmJFRRnsz5rKbBYsOiia2fj50gX1UXZdLiQ93Z95lMTkL7aCa7v1XZzeFS+3W6cJAzMqPuv1EMJgUDE7qAYIKi8xiL04XnOUjzl2YzZZdakenqGjCYTD5+7463v9ZXp2HaRrw33wo3t1G6LYwjiKCpprrmtbR7cKzEpv13z0B2K9sHNQZF7t/u/pR85br+EiE8n7pvdN7tvaiGQq/fHKnC4N6OjOGDOF1eqnyvTm2EWFgsrYnY7oWpcq6yryss6UDaAiIoCdVjRFrSOTB47Wvwus6H0tFMLWUntPvLKfi2dzpP6VxF/MiEaVoETefjW6Y6TP9CO+Ak1nGyAx9knBCQUoe47cInRY9d5+8Ek6+OErc/OogKX9Xe+m8BY4N+kG+XVk8eQmODfCKDp6SI2hZmtdF5ir/8eyPgoOzy4nVtN2Cg4g8OhY/nj/4+kfBh+2smLu6+dfeyyzfaZgf9g4vtfzKO7Gscyf1FYcp94beY5We3lTVyf3X3n9gVuWcnr4d5Budd3+fuT7daEsSzSCJlB6gG/d9IP9Dd/2Plx/pXr57tl1leHzNlu+6bVT3m7Avqd82ptAVE0DXEKo+7pHOQNOt0mO+YVwd8PzAvvvTYg8O1bNN9KB2ov11FOke9oiKTmtgkyU2CrLu8Sc58ns7F3gTOBXaf6fnYJGHHuzCfweDQ5bPkILUOqrNXxUQnlOq6O0z3t0ux9mfc/gFLO5C6AdANju5cWIXiJp7v8FtUXZ8gHxk8ByuEQRydPMPxvL9C+6Y4OH6Op5skhSzXqJjYMRRGto9oGcfbrFqtmjBjvXGkGS9eeO3DaGmvvjIcT158yxjz1jsrjWN9/mvku0Ye144h94g/f19E3bko8LaywvuzNcEbgyL3rNcXhdfDPNX5av1mj2rQN8fEjIs+Vb5XpwiHqbR21Sfsp1S9tZCcss/ZufBT2gIiSOBZZ4UOGaF6TdyRLJrg8EaYjJzl4pLOQdLc2mk2A9aH5vnL/QBi83z5PfPuBoPTrfYO0r/ygTHvv2de2IFgS/ahtONwghgLm2l5npiJpY+F2VtuYiUoliYWZm2T+2jk3o2lCcOkg22/qeq++Zqpc9LlsBxJFAvTnb3K2OOqwsPDZH+HCVc7j/dj0YFWtTe5nrwS9HQ2/e5HPVAOK+GXK3F9oa8n7cPU24fM+ysUDTG+Tb289tq1rWk+toYS1/t21omn2OfIvRVBFRdBYo8Sa5F0ErTGOKL7ZTumDMaO9ou2oK/eSmiske8aeWgu9nhH45Wzbf6+GGk4C4JvK2vk/uruPzGouT/7Lwub8/4LmfCeDvNU54HQuKrfHGHj95ESSezxv+DonuWZLD9MF9RzMm0Qt50TxBmF5QTPl47UMyVY2kJ9ImjQwad34inQ1osT3gjr5bw0pyWdg6RxHdmiT+mQTeErPjsaVJJ9KB2UN4sam6RPtKYwj/BcknqDQ5/X5CQ/MR87oZ16eDwxH2eVHWDURN2FL/pMLnu8H5hk1BqV7O9FlUhJFLd/ONC2g14nOHU6Neh3RYbX+wl6P7noIvcHwt2W4Sbefrn9INsnyXk07685ESRcfGFn7e/usxjLlBpKOsdsLn5jg/vyoPkcG2fT8r15HAm+gIqLIPmS7U3z/P1tVn4WjX+B3Vny2NF45eo7f1/Mtcn067eVNXJ/dfdfa4c3Dz2a80V/6aj7Nokf5qnP5bjv+04XnVbHc/XX112Y/znsm9txWn0x0k8NpsoP04X1nErb2n52/bXUUfc/QT08nr5g82t33Zm0hbpEkB0Aw85YYK4H7TrEU7EDJ09FzXRtSecgaVxHdv1nMyDFtiiM5eVvc/BXj+Rbs3dfe9N4cYJv/SRf77rReTh72oGyu+bOnSN60Wa/qXPB8qm+ffTL8a+5wfjVV1ze2o5gReyKgTLZh3KvhBP+oCNvREbfAbtJj56EehP1hDwdKi+dC3SfCflY2/qe2qX0PxPy8RPEBhU/RvJZctnxfmCSjzIi2d8qDYf3IzDvrykRNDGWdffuFW14sJVVT0JGGNnJSDjGStwx28Se+XxvG0eG/aXte1Vf7I0nwRdvw7j+1mxvfLJpHRs3DsTHDT/fMI7k0fb5suPBZRl8Iejn8bpJG+PcmOIydXY26V2o/VSMbFn6orq21Xjl/DJ/X2jDbjvOWdZtlpJ6awLSFioSQdIJxzpnp1b7jtgqYe83LMKJSNOhu0mf/+5zHdcNODp+aMPYNZ3P1q5Oy39J5yBpXEd29aft/NMn/7aT1qImGMycIBEh1NjSDAb9eSuARvNo47//gbc174XX/HNbjh4gIt+sNQNKP/i4QaQXSfGyrmYYCKR0HzbtstcR0pb9Z4KSWo03kUrPc3qSP5NPN+Gbs3A+n36blX1ifigM54oYvT5TdpdO4vV9kwsWPr1vXOjwM93fw7SE5Ccw769QNMTbx8Dy7p5wY9IgxjDAu3fDcofRbYiXJogTvRaKuiBNe3rTOBL0gdKHhuLB71dF5PTjjh+3EUBa+Lz4WrPVedinv2Oe27Em3pf7+TZxOuHjbHz/Q/OuEj7h2OLn0YuYfkxry+7GPKl7OeOV88v8fRFvN0tCc5a1xD7S5CMgbaEeESTfvI7OGpoJnrs83PaiB5omrv62248/jKuX8cJvqLu9leJX79thnU8+p0+VtKRzkDSuI7v604ogLRTUdgVnaCdY/IGrKasZANyAFQ4gEscOIsl5DAeUaJ1C0ROevxSz9XXzzBN9iWVFBvioTW28q3xov9V1Kz3hUrZzwMxnOPFJzHMogoL7YSof75qz3632XpGPvSX79P7KmM5Hjl3+zRtsur5G7ulOxOg07ssXl/8Y3yBNixsRNNPuCr2ccn/6vo+3j0H15Z6wK7tLRdAgx3iAvffCL/okqn+PdInD/qG74B/cNI5E+shQPPh9pt8/+3H9a326sfB+zOqFSbMy5ecb6+8lT2Pc+GXLCr7Y8/NoRZD+Am4wxg1XxZ6F41N4fsfxyvFNuS/8FrP8LGdZy60kZQ4C0hYeRATpV+/5xw1oNdB0g4lygRem4nrvNW/je3FVHvZQp9XHYbz7nC/pHCSN68iu/oyKINWJ687axo1zcYOPiCB33NlyVR6+qOrycAONLr4TVq+bwSAzWi+dvz5WdY4M6NqOueMlPuyq5Yn0LnT6YPLLh1D4T2RVWj6xqqxVh1acuS9tYkW5sJv87TLhMxuBNH+p1ZPJ8USZ3cW7TgS53Q6xT/1FoCqpEzx+mpgwSrflpnEk0meG4sHrN70vo4arRjatVFiLjdE+XfrueF/u2xCLExFWQTl+Hv12OK8+eoxrWXR1cI7b6Xjl6pF2X7jK3PaZs6zbLCX11gSkLTyICPI74+GDYUqQxCYy3QAjLlFxBw+0hdfDb4PlW2G39UXns7Wr0/Jf0jlIGteRXf8Z+SZMD2i6cw8Gh1hZaSIoXHnSAmRsoAoGRG2X2Buej9qq89fH2obbjpf4sGkd0h771Y60FiOxmnTxCVN6nk/nkzk/jZW6t3zidq5XB3k1uesn4mW50OX+djnwmZNAsr/acSjcWZDT1lvLknE23i8Mc75tHBn2maF48MaLoL8ei2t3FoipIoYkjdq25uW3KxHUjKmegAvqu6fxynFMvi+GTefqkJxlXW0cCbISkLZQjwiyk7HYt1FOiPSTilkRNPnAuEzIXF6+uGq8p66LeOrihnaoeFndPl7Yks5B0riObMmnHYD0t1RjImhsyV7FnxVBs3lEhElk8BvYHA4yY+VYceT2okfKUnVZwlLSpPtQ2q7bqtV8pk5YxlvQWnnuLZ/xGo9fWasO4yXIlXR/T+fD1TwEkv0lIsh7y10e++5Vyq3jSNhfjgmbZ7Zv9regjcdVW5hfkZcXuL47FF3xvtzPNxZng5WgwsYr57fk+2KFBpqzrBXMJYsNCUhbqEgEydt45RvUQAhZIeJ/wz0pggZ7m9vJTCeMtHiRa0F5eqVIBrIuXfssQSeKdD4bevmKrJd0DpLGdWRLP5tv3IYrNKHYiMV78a0+3bwIcg+W9mnE5j6PyEDlCRc3KBr/d4HGBh7vm8Mm7/4bukhZWUXQFQ2DqLslsOSe3W1lbjXM9vVhf3xjpt4ugBvzQrSOAlxjHNHjjy9AWtFi+/Lhlmk/rnvZgU7TjBfD8cfFjfflfr6xOBuIoMLGK+eznP1YzrJGGzwXGgLJ/es282VpC1WJIEu1FT39fuXhoDgtgtyKjfuWPHygWTtjRgS1zww5W/x3vOt89nFHLOkcJI3ryG76tEIi4BBZIWoGoj6efqg0RQSJjeN5xAaqds+4K1JsGqz8NOlsFLWP3A6CLp0JB994WTcxvGolSBnG4W4JfO1bf2S+890/HrVvyT07mln7BZDrr25fGRwvqZgryYN0Wo3W9VdamXuJ9d7XvzNqymrjSPtFUtj3NgX7X365vtYXK0F/H6z++Pm6/OJ9uZ9vLM4GIih8fnXn45Xzwdx9MdV2RhvVyIW5skaSZQiOzSczFHvPIpL7123my9IW6hNBWzg0WNHZoog95Lmkc5A0riPjM9wmkf98iQ/30PawIU7gs5//qvmhX/q8+fTnvhIVQ+v5WwYZ/wujp/PZXOJmPU5o8iCdhmQ9f6WVt6dYP/vZL5mP/soXzW/+768PzGIcyT9W7Gm8HrsvpP/74V/+gnn+2nuDNrM0YKyspfmtlw4RNM4SETTOZvMrAt/fTrd5kXcqYEnnwOC1r8FriQ/v1NwoNoGATALcZCUmhlbz9+RkPzIAefHb691zLE1/2WxPDp83uyauAGr632Z1yhdpdkV/7PfelC3DlS2dZ9i3B9ckf7WlOcFlk1FW89dkKfu8KCLIteVQDDGO7GsccX7K9RneF078uPL3KILi/Zvce0Ef0n2T5ESOvu76NLnmdh/Jp3vuXMfVfdVUXu7+13m6cqbsc+n0p5R/MhfVn8pbS8frrsvU9XB5BvUZ9K/B9Y5da4fLZqVPaXesBA1ghk5Mf8PNIKvCAsKOKMV8Bq99DV5LfJjiZ+Lch4AWQW5CoMXQev5uBp/4a7kjA9BABB3632lzA6bLTOKGg7q7NhlXnqN0kwGZW0SesfQESsROcZtna9O/u+KHb/v0+3sRWvq5zltbwXr+utWS/Om1CHJt2YkhxpF9jSPOP7k+3X0Rih9X/u5EkNenSBfjVs3n+5de4LRiouuMJK0WK7fmpfuyJ3O2vww+lWesT2jGBf938VRf7/XtTd56G7UVS10fPbzu969Tto307TGTrwiTdocIugJY7VFdR3RNPRm89jV4/cBP/Fr3basbQPjcl4/W8oeIoe/96L+45nadidsOeMG2OF8otFl4kwBJpwfv8FwGN3c9vBae67ihuRK3F0Wzz3ba5EF+IqS6SUeTf5ePV6dYPUN7rj/n/ozfi6cXX6XfWuHFOGv1Lbnz+cgLn7Db3nKU+2f/Tre8cP0N7FJ4k38X2H5RM9a/zP6u5BV91VxewRdGnYVT/V8XSR+E/XN4rmyO9Z/6Z2Ri13XYpG1+368tvOUYEXQLvQrTIoLiA3SOjnmtMpb4sMKmXE2VYitB0lY+9pnfNW9/5Q83ekW2DDjq2z79xktHVg9eg+tqYLTx9Xk4mOlrEjk4l3Lsq6LdVpHrRJB8E6m/mbSrSV5+Tb523hIZhP1VJFf55Z+PfH/GVoL+6s+/YT7xG//PfOTHPo4IemARJPeFvPwg1kakv9vdSpDtqlzf5L7gaUXQWP8S9m22G9H9YdD3SX+0NK9YXyblTeYZ69e0fbbS6gut4HykzO5Lpth1PY5M2hbaEbP1+jBpd6wEXc+t2hRLBmhJs9YEnnxuF2FLfFhtg66gYqEIcuLHVW1Lf3eD10DkhFvTwgEqGMy9wf+KuFYA9aLHCpJrVoL0AOuAxQZifa3butEGxvJw8Rd8bumvBeZkTaInuE78yNsP5Y9x5Pa+v+TxU98XMTG0SxHU3T3Sp7VCaKp/8fpBl1j3h0G/eUteY2nHwp05g09tn1wMbNTnknfYf85d1/3rpG2hHQNDFwVIu6tDBGmQi1CQSAjojiiVCIPXvgavJT5M9TXx8hNwIigUP86S1fz9dDan85PLNhjsZOAL9pfLQ7zdgBcOUBMD5UBQTcQNBlURZXo/fS/SnNnaDn3srsunhOsHjPVzR+G1pt59PXU+y45X89ey4u+aSkRQKH6cQYwj+xpHcguq2H2hxdDuRNDT2dhHbGwD1n1Y2Ifo/kXHcy3f76f8Pu2WvMK07pmgMFzb52zSn759kyLICh49TrTPPHnjhO57w/51yrbQDm3j8mNpd4ig5fw2Shm7UTYqKsg21hEFUQanpQxe9jcbBr87JL/TEP65335of09okGbfg9USH4YEON8PAdnyJv/G/tb0t37jj2zD8La2yxdN3daMqd9OE0vDPkyfh4OZvhamlWtuG5zY46f1JwyStr/eCKY+rd1W4irk1eWaeo55IT18TX+ll7qPmL/9zjeMW/kJLSplHFkqDvT44//WUE9C/+adlGN/z66w8Wcpn6n7QsTQG1/+Zg/qxqOpstKz9vsmb8vtaP8S9nVSWt9n2bLlix/bz7Yr4Lfk1X7h0+SntuyN5hmrfWDfZN8u6X0ugy+QvLLDcUSS63FG982hHTFbrw+TtmBF0K+/+TXbyKShLfknD7Xd9U/AdWrzrpasUHjsRlkh24QslnQOkmZpx5ct3eDHTd0P4n1onr8ciBr5xW31g6fRH2Dd8d7tJT5MaBpE2SkB/L1Tx4yYhb/iYIoYR5b2+8H44/+Iqht/2i/kAtFT2vizdEzPeV/kLCve2gndCwFpC4d//O/fNT/+qbdv+vfnzp/MXCdRhf23fKfBu8YDNar2kTeG6utOIUeUpieu2uudUm9Uqv721Ps2wFPhWtE6kaPr4GzQdvlbP3IAXtI5SJqlHV+edPJL3YHYkUHJ9Cs+03bI4JQa1w1o9/tc4sMcbYsytiGAv7fhulWu+CtOdv/jyNI+fTj+xEWQ5C9xjTHqS7hnL5U1/kyPpeMMc94XOcuKt3ZC90JA2sJhDWPyNqpGKGjBYbc+dCtBw+vT7yrXeyXVQ7gCZiCC1BuTnBjytli49I0N7pK/5OmEjos79674NTyUlscSP0qapR1flnTBt3BuoAm3HkzZUtK3cUt8mNY6iLVHAvh7j14Ztwl/xdnsfhxZaRVIxplxEfS6eRb5gq6k8WdqHJ26lvO+yFlWvLUTuhcC0hbKE0GeMGlR6jB93JEW4aHe3tEJpi7CcG+mXPLykpUbt2IjF8PzoIxeAdlC+v3roUAKy1H5aPMyHC/pHCTNVOd272uDAUS2u5lgZWhugJOByft2bvwbrXvXd4kPMzQtitiIAP7eCOxG2eKvONi9jyNL+/XB+DMnguzKTzA+FTT+LOWU877IWVa8tRO6FwLSFsoTQbICEwgMT6zErotkObVb0kau+6s1rYsGIqhfvZl8+NetEqkte/2DxjGR0261s8XGrudpMks6B0mztOPLkU4GIW/Vx4qgcHtbuw3BYQ72ZT+TNGHYnHC60/UlPnTV5rM8Avi7LJ/hr7i/9j6OLB2rBuPPEhFU0PizlFPO+yJnWfHWTuheCEhbKFMEhSs5WqyIAAmv6zdaXCOCvLy0UBEXhmJFnY+WEUsnYTpvlU/mlrKkc5A0Szu+7dM14mZeBKmVncH2udcNIihzQ6S4ZAJL7tnkzIm4OgH8FUe673FEjQ9XfbkVGX/mRFBspwIiKN5oFoZyDy4EV2EyaQvliaD2hQP9YpCIBv2bFc25fmbIfyZIBEfwogL7wvcwXZivFirSGuS63h6nz8My9LvYdTzXqvy8u1UrdznT55LOYd+DV2wQat7C4wkjPbAhgjK1NopZg8CSe3aNcsljGQH8Fee273EkowgqfPxZ+sVmzvsiZ1nx1r7zUFlU8B79WNFevWCxYrZLs5K2UKAIap+h6baaRd41Pveucu/NbUrIWOe7t86F+fpCZVoEhTYGossTT+K+IG9ZSdLvil/q4SvTLekcJM3Sji9HutE92WPb22KDkITxTNCVrYnoOQgsuWdz2DVeRuxLoPHY8Str5BHPeevQ8vy1NZEm/72PI0vHqtHxJzqejHxBV9D4s5RTzvsiZ1nd3WPnlvpxiu7KBgc77h+VCJIv+/VixQYgZrOUtlCmCJqtGhGWEFjSOUiapR1flnQjA4gMTrHXZNs39wQCKTaQZbFdr1AlHi/x4ZK2Qpp9ECjP32sM0GvkcR//leevPJx2P44k9r+DcSEy/kTfDme3wRnz7mtvDsbTksafQf0TueW8L3KW1dw9wZfcm99SO+4flQgaLiRsDmZQgLQFRNAAy+MGLOkcJM3Sji9POvl2LXjbjuuYZYAK/wIBVNrvNCzxYYiA83IIlOVvGZzdSrv+HTSZJPThbquzv43Z/ZTAeSSPMnxWlr/yMd3/OLJ0S9xw/LEiaIA2fFmPK0/Sj11zccr/zHlf5CxL3Cz9WL/i4QSK7vPUbiT3Ei/57UvpE11n6O1e0juLwoYU72PtIxaTeWobtGibt7fZyTTsvxvLdD0PZvCbnpeTYhPWZftzaQuIoO05F1PCks5B0uQRM8s7+ug3b04IzXyW9i3cEh8W00AxdECgPH+7QdVVpRm0u7He2xqsrnnbScI8XF77/yzPX3mYljCOLB3nHmn8Wcoo532Rs6zhakfTpx0OamucffyhPxfB4r/cS/WD9nbUIiV2bmQw2gAAIABJREFUfw77x2Ge+jl1q7xUmTr/ob32y6muw56yrbnWC8DmLc1+3S7mNHiRWaxO24RJW0AEbcO2yFyXdA6SZmnHly9d84KE2FaDKRvslrnBytByMTZV1lrXlviwyMaK0ZZAef4OBujImzTtt5aX1sHt9omz+4kDGxzkUVBbKM9feeCWMY4s7fsfZ/xZOo7lvC9ylmVXSbxJfqzvasSC0xVe/ye331wfObhFh2UM8hyk0cJHH/u22WR6S9uUbTqeK28QJvn3AtBFy/UpbQERlIt2AeUs6RwkzdKOj3RLB9XxdEt8WEDTxMQRAuX5Oxig7beg/VaK5oUw/nYP/5tHARHkMcJmj8Hl+SsPRcaR8T79EcbJnPdFzrLSRFCzQjIpgtR2Yb+PFMHi+k+3pW3YP0ZFkAiSLq3k4cRIKIJcvq4vUNen+u+IQPJ+09NmhwhyVPncAYElnQOD174GryU+3EHTw4SFBMrzdzBAxwZKzcJ+c3gyJ++NmkEeOv7Oj8vzVx6gjCP7GkdyC6+c90XOstJEkN+fDQTLXB85uEX9/OTyIE8rgJzocW8zdudK5ES/cFLXp2yTa94qWFuOFya2unIHFdk8QNoCK0GbYy6ngCWdg6TJ3WFS3viAucSH5bRQLA0JlOhvf0CWAdVf+bmc3KAoA2R7LdhG4ecRUtnveYn+ykGTcWS8T3+E8S7nfZGzrGbV2vVncic1fZoWB+ELYIZ921QfGb87wzzCc7vFTokRub5oJah9YYNbxRJr+v47tHtY96FIjNdnq1BpC4igregWmO+SzkHSPEInXUodl/iwwKaKyS2BIv0t3xDabRjt5CDYluEGVDswu5P228zubUlhHoW0iCL9lYEt4wgiKEMzs0XkvgdF5PTdmAiBozmfXR+oxUdDYCBYJHikjxxlFvSPwzxbQdJuhztd1OrO4OU0E9vh5mzz7A5/e7N53km/OGG0PhtdkLaACNoI7p6y/b+//w3z337ny7P/lnQODF77GryW+HBPbRVbriOAv6/jde/Y+CvuAcaRfY0jub/0y3lf5Cyrae36DWitCHqK3wePFXp/FtIWEEEFtbr/83tf7YTMP/23rxn597F/+Z/Nj/zMv/H+iWP1v7/0D/6Fdz2M787/4T//j1fTkHJyd5iUNz5gij/4exwC+LssX+OvuL8YR8b79EcY73LeFznL6lq7rMzY5aD7T/w7m+58IKtT91wFkupLW0AE3bkh6OJff/v3rMgRcfPSp37TCpcf/Klf7QTNX/nJlzsx40TQJ//zG50wcqs9Os+tjxm89jV43aWD37qRkf8oAfw9imaXF/BX3C2MI/saR3ILr5z3Rc6yhq0dETRkcr8QaQuIoDvwF7Hz6f/yBbuSI6swf+Hv/TMrdP76P/rXVuSIwPlnr/x3K25+592v3MHC9CIZvPY1eN23g09vN8RchwD+XodjrlzwV5w048i+xhFEULydEloXAel3EEEb+vQb3/q2FTIiaP7BL/5741Z1ROzI1jMRO7J68/tf/9aGVmybNYPXvgYvJlnbtve95Y6/9+aRaXvwV5wP48i+xhFEULydEloXAel3EEEr+fTbf/RdK2hE2Pzdn/+Mkedwvv+jv2hXdmRr27/7rS+ava/qLEHB4LWvwYtJ1pJWXG4a/F2W7/BX3F+MI/saRxBB8XZKaF0EpN9BBC30qWxp+5f/4XN2RUee1fneH/uFbivbf/ofbxt5I9sj/DF47WvwYpL1CHddX0f83bMo4Qh/xb3EOLKvcQQRFG+nhNZFQPqd1USQbOuS7V81/rlneH7mX71qZCubgJNPOZdne+StbY/6x+C1r8FL/MHf4xDA32X5Gn/F/cU4sq9xBBEUb6eE1kVA+p1VRJCIAXnAX7Z/SaZyLFvCZGuYiIRSBJJsV5NVHLH7b/7svzWywiP1EcHzNz7+X+3Kjwgi/noCDF77GrzEH/w9DgH8XZav8VfcX4wj+xpHEEHxdkpoXQSk31lFBIVYRPQ4MSEvANACSV4OIOfyogARG/JP4su/HC8IEBEjZbm3s+kXFohtTrz9l//5jrfCI50Cf0MCDF77GryYZA3baM0h+Lss7+KvuL8YR/Y1jiCC4u2U0LoISL+ziQiawiSrLSJC5EUBTgSJKJJ/7lXRYph7qYC7Jp+y4uTSjH26VSmdzr2VTfKVVR255t7OlvrCAkRQ3KsMXvsavMQf/D0OAfxdlq/xV9xfjCP7GkcQQfF2SmhdBKTfyS6CUhG610u7VSL5lBcRjIkfFy5xdBo5XuOtbIiguOe+72993G4ZlMZU8r8//aO/ULT9jr34g7/HIeC2IDv/1/JZy/0Y+kP8xd+QQC3jSOjv1PMf+Ilfq2L8Sa1vGC/nuFVrnxky5Xx+TiptYbciaNhN3jcEEXRf/luW/p3v/rH56K980cgnfxCAwP0JfOwzv2ve/sof3t8QLIBABgLMLzJApggIRAgggiJQYkF0UjEqdYR9+nNfMeJf+eQPAhC4LwERP3I/ihDiDwKPQID5xSN4mTrukQAiKNErdFKJoAqLJqs/P/RLn7eTLvlkNagwB2JudQRE/Eh/K/9YDarOvVQoQoD5RQQKQRDIQAARlAiZTioRVGHR3CqQm3SxGlSYAzG3KgJuFcjdj6wGVeVeKjNCgPnFCBiCIbAxAURQImA6qURQBUXTq0Bu0sVqUEEOxNTqCOhVIHdPshpUnZupUECA+UUAhFMIZCKACEoETSeVCKqgaOEqkJt0sRpUkBMxtRoC4SqQux9ZDarGxVRkhADzixEwBENgYwKIoETAdFKJoAqJFlsFcpMuVoMKcSJmVkUgtgrk7klWg6pyNZUJCDC/CIBwCoFMBBBBiaDppBJBFRLtS1/90Dx/7b3un/hXn8t1/iAAgTwE5EsJff/98C9/wfzsZ7/Uhf32O9/IYwilQOAOBJhf3AE6RULAGH4nKLUV0EmlkiozHv4t029YXSeBH//U2+aNL3+zzspRKwgEBBh/AiCcQiATAVaCEkHTSSWCKjQa/i3UcZhdJYFP/Mb/4/XYVXqWSsUIMP7EqBAGge0JIIISGdNJJYIqNBr+LdRxmA0BCECgcAKMP4U7EPOLJYAISnQdnVQiqEKj4d9CHYfZEIAABAonwPhTuAMxv1gCiKBE19FJJYIqNBr+LdRxmF0lAXkb3B98+7tV1o1KQSAkwPgTEuEcAnkIIIISOdNJJYIqNBr+LdRxmF0lAV6MUKVbqdQIAcafETAEQ2BjAoigRMB0UomgCo2Gfwt1HGZXSQARVKVbqdQIAcafETAEQ2BjAoigBMDy+xV0UgmgCo6Cfwt2HqZXRwARVJ1LqdAEAcafCThcgsCGBBBBCXClgxIhxF+9BBiE6vUtNSuPAK/ILs9nWLycAOPPcnakhMAtBBBBCfTooBIgFR7l2UufNOfjwRzPT1fV5Ol8vDqNV8DlZA6HQ/vvaK4svs/Ky+dkLv2VTY8uJ2d78Hm6GGFzOOSzZdOKkjkEIACBjQgwx9gILNlCYIYAImgGkFymg0qAVHiUZ3/te83hdI10uJhTK16uFU49qidzPqsyRcgcz+Y6GSa5+flY8XFVXXqLlh8Jj6HgEZGU3ZTllSAlBCAAgewEmGNkR06BELAEEEEJDYEOKgFS4VFEBPVi5smcj7Iq0wudw8FfpZHJvcSfXgmaz8fHFhcSVuTM2OPl83Q2x0ViysulPUmtQ9x24YMIinElbIoAr8ieosO12ggwx6jNo9SnFAKIoARP0UElQCo8ylAEyfaufmVjbHVlXgSl5WPxjYoXESLp+ay7+pJaNiKo8FtgV+bzYoRduQNjNibAHGNjwGQPgRECiKARMDqYDkrTqPP4z//AnwhWgoJtXCMCJUUEeSshI/kYIyLCX23qSTdCZDIf9UyQF6/PZOFRQtk253ER1K+wLTSBZA9HABH0cC5/6Aozx3ho91P5OxJABCXAp4NKgFRyFBEQf/KnVQ1k4h8KkiWT/LR87CqTWnVShrSHafm4dPZlBatvh3O5y2eMRSysSTMtFHW+HEOgIYAIoiU8EgHmGI/kbeq6JwKIoARv0EElQCo8ynAlKI8IsgJodunmOhHUP0O0hlNSy46LIATQGj54vDx4Rfbj+fyRa8wc45G9T93vSQARlECfDioBUuFRhs8EZRBBo1vjQpgzQuTpbPRL5szit8yF5cr5TNldknERNKvxujw4gAAEIPB4BJhjPJ7PqfE+CCCCEvxAB5UAqfAo64kgLQZmBISIoO43gvrf2WlEwxX5yAY1/Xs93lY4nY8c98862TROodhnityLIHSamTp0ftdpukD79jxXRB/KEQQgAAEIOALMMRwJPiGQlwAiKIE3HVQCpMKjiAi67neCRiosYmKNWf8981mr7FacrYFjhDbBlRLgFdmVOpZqRQkwx4hiIRACmxNABEUQf+mrH5rnr73X/ZMOSp//zu99K5KKoJIJPHvpp+0qya1vMns6n8z5+l87HaC7Zz7rlX30XjM+qCQBEBghwIsRRsAQXCUBRFCVbqVSBRBABEWc9J3v/rH5oV/6vJGOKfz3V3/+DfO1b/1RJBVBJRNgECrZe9heGwFEUG0epT5TBBh/puhwDQLbEUAEjbD99Oe+MhBA0lHJW4v4q48Ag1B9PqVG5RJABJXrOyy/ngDjz/XMSAGBNQgggkYoxlaDWAUagVVBMINQBU6kCtUQ4BXZ1biSikQIyG6SN778ze6fjD/6/L2vfyeSiiAIQGBtAoigCaLhahCrQBOwCr+ECCrcgZgPAQhAoBACIoLkS1UZd2L/5MUg/EEAAtsTQARNMNarQawCTYCq4BIiqAInUgUIQAAChRCQL1VjAuhjn/ndQmqAmRAonwAiaMaHbjWIVaAZUIVfRgQV7kDMr4oAr8iuyp1UJkJgbDWIVaAILIIgsBGB3YugH/ypXzXf8yM/d7d/f+pv/Lz5i//kt8xHfuzjd7NB11941PR3b/86tiKC3PG9PmvzbU3tlLrkJcCLEfLyprT7EAhXg1gFuo8fKPVxCexeBMmE9N5/e3pIcQ881vRHbfW5hQ0sbqFH2poIIIJq8iZ1GSMQrgaxCjRGinAIbEMAEbQN181yrW2iXFt9bnE8LG6hR9qaCCCCavImdZki4FaDWAWaosQ1CGxDABG0DdfNcq1tolxbfW5xPCxuoUfamgjIxJBvxWvyKHUZI+BWg2jvY4QIh8B2BBBB27HdJOfaJsq11ecWp8PiFnqkhQAEIFAmgd9+5xtlGo7VECicACKoMAfWNlGurT63NCdY3EKPtBCAAAQgAAEIQCCdACIondUuYtY2Ud5NfZ7O5ng4mvPT/dy8Gxb3Q0DJELAEZGvQH3z7u9CAAAQgAAEIbEYAEbQZ2m0yrm2iXFt9bvE6LG6hR9qaCPBihJq8SV0gAAEI7JMAImiffhm1qraJcm31GXVcwgVYJEAiykMQQAQ9hJupJAQgAIG7EkAE3RX/9YXXNlFerz5P5nyU7WwXczoczMH+C7e3SRx3TT5P5tK5QNL150/nY5vHwRy9PXI6/4M59Rl0OS09WI/FUgtIB4F9EEAE7cMPWAEBCECgZgKIoMK8W9tEeb36OIETCJlOpTTXtaCxQud4Ns1jQEoEyfNBXbgxT+dzK5aaPLosjUqzQjtaj8UKxpAFBO5IgFdk3xE+RUMAAhB4EAKIoMIcXdtEeb36hALFiHrpxYw+7nwuadxqkRI09iUJvZjqol9O5tArIBt8Oa23GrQei85iDiAAAQhAAAIQgAAEIgQQQREoew6qbaK8Xn20oHEeVMImImAkVi9iVFy5YIWQbJlzIslG7rbINdvtmq11gS5yhV/9uR6Lq4smAQQgAAEIQAACEHgoAoigwtxd20R5vfokiCC1xa1xu04TiKCuXUh4K4RGhFQX9caD9VjcaAjJIXBnArwi+84OoPgIAT1eRC5PBs2ktV+6uS/c1FjkhU8WsM5FKc+Nk7nLXqcG5AKBqwgggq7Cdf/ItU2U16tPbJBRg4mR6/5LDqaeCTp3LzzQ+Up+/va3yymybW5hM1mPxUIDSAaBnRDgxQg7cQRmKAJ6LFDBSYfXpNXjls78mjx0uuDYipuRcUuLIJVMdkzo52nVJQ4hUDQBRFBh7qttorxefWIDRDiYSBz1djj3jZdtAzquH8/r/O0A0uex1lY4MWE9FoU1asyFQEAAERQA4XQHBGJjTKpZ16TVY5HO/5o8dDp9PJZ3G2dEBBn7JaJbqdL5cQyBsgkgggrzX20T5drqc0tzgsUt9EhbEwFEUE3evEddnGCQSb/70sqfxNvnQc9nc5Tr3bdZks7Fl0+9YjKfp7FvDHXpdXlzabU4iR0P7TqFL+UZFTA9f9n94H2p59l7MCfh0X05qO1onon10/b5cgSBUgkgggrzXG0T5drqc0tzgsUt9EhbEwFekV2TN+9RFycalIiRZzqVqBERdOgm/GJjk0ZP9P0t0yl5BuV1+c+l1YJj7FjyUMIqeEZ1KHBC7kH6SH19JtoOyetiTl19wrw5h0CZBBBBhfmttolybfW5pTnB4hZ6pIUABCDgCIQTfglvhIhb9LErQd2zn8FPKrhsvG1gfvomSizMJdYiIhZPh+m4Y8cSX4kg73fqwmvOBv0ZiJjYypEXpu2QfKQMJfJ01hxDoFACiKDCHFfbRLm2+tzSnGBxCz3SQgACEHAE4qJACx99bFMFKysupz7efJ79Tyu4LXFONMyl1YJj7HiYR2ebJ16c5eFnIIJi9fXy0XZIXlK+q0+YN+cQKJPAQ4kg6TD077t0x+6roQJ8WNtEubb63NKEYHELPdLWRIBXZNfkzXvUZSgYmkl8v5LSCQhnnoiCwXYvnY8+dolUmAgItd2uEURONKh4Lqm3yqQFx9hxJA8p83QxshVufhoTEUFhfRFBnXc4eAwCDyWCepfqTqYPLeGotolybfW5pQ3B4hZ6pK2JAC9GqMmb96iLCAb/mR//+R79Q9nOvibN7DNBSjh4eQYiqvnSVYugKXv0nGTseMzmozkmrdBI/Zw9UmcpR//kQ8hM29HGV3V31PiEQMkEEEGe95pOwa0Q6W9W7LdG3ptk2g5COr727TMS33aK7bnuTL1ibjipbaL8/R/9RftqaKnXo/8TFvxBAALGIIJoBbcRkAn90ZzP/fisX4ogeQ9WgmyBrRBwb5TzJv1zefppTxctIubS6rhjx80b2pr5Ri9m7JxDT1YmwElcL6pdvXI7ZI7mfOHtcBP4uFQhAURQ59SmA+s7CN0RNR2mv1Qu19WrNZ0YchmES+NdObcd1CaCbqNBaghAoEYCiKAavZqzTq3oeMpZ5n3Kiou5MVuCLXFj0STc2xr3ODynkHCtPgKIIOdTETFOwLRhunPRx81lEUH9/uJmaVmfb9NpIIKcw/iEAARqJcArsmv1bK56bTP+5rI+uZwlX7ZG5jqx8vQKk8x/ttjZEiuXMAjkJIAIcrTdSo5bBm8/nS6Ki6B+STp86HJ47gq67RMRdBs/UkMAAhCAQO0E6hdBMic5eF/EruTTbi6k5zcr5U02ENgZAUSQc8jMtyOIIAeKTwhAAAIQgAAEIAABCJRNABHU+a95xset/Ejw5dR/E4II6kBxAAEIQGBTArwie1O8ZA4BCEAAAsYYRJBuBt6bUvSrI2NvkvFfnDDc/rbNcjzb4bTDOIYABGokwIsRavQqdYIABCCwLwIPKoL25YRrrEEEXUOLuBCAQIkEEEEleg2bIQABCJRFABFUlr/sb+kUZjLmQgACELiKACLoKlxEhgAEIACBBQQQQQug3TMJK0H3pE/ZEIBADgK8IjsHZcqAAAQg8NgEEEGF+f/PnT9pf01dvimVf5/9/Fe7GsixC+caXKRh0Caa+4T7obz7oevYOIAABCAAAQhsQAARtAHULbP8yAufMG98+Zvdv/e+/p2uODnmWsMGLk2zoE1wr0ifUOL90HVsHEAAAhCAAAQ2IIAI2gDqllmyHW5LuuQNAQhAAAIQgAAEIPAIBBBBo16ee8V1+Irs0YxWvYAIWhUnmUEAAhCAAAQgAAEIPCCBBxNBc8JGt4C5uIggTYtjCEAAAhCAAAQgAAEIlEIAETTqKUTQKBouQAACEIAABCAAAQhAoGACDySCRNQczOHg/p3MxTpOVnRc2NGcn5w3nQgaux6uBOl4B3NqMneZrfbJdrjVUJIRBCAAAQhAAAIQgMCDEnggESQedsKm9/bl5MSQMeZyMofj2TQ6yImm4PrBnWsR1MTthY++1pe1xhEiaA2K5AEBCEAAAhCAAAQg8MgEHl4E+c7X4iUUNhJTh6m4Ip56BWSzvJy2WQ1CBPke4wwCEIAABCAAAQhAAALXEkAEPZ3NsdsOJ9vi3EqPCB69Pa5B24ubQAR5eTTb6wJddK1vovERQVEsBEIAAhCAAAQgAAEIQCCZwGOLICuAnOiRhR4RRO48JoJ0WCCCtlA8ETcigiJQCIIABCAAAQhAAAIQgMAVBB5MBMljP2qbmvcMUHPNXwk6qGeERCMd1bkSQUaOVb728SInpq7wRkJURFACJKJAAAIQgAAEIAABCEBggsDDiSD78gO7dU1ESvOMj3tj3OmihU276nM+Rd4oJ0R1XLeK5N4y5wuiCf5XX0IEXY2MBBCAAAQgAAEIQAACEPAIPJ4I8qpf3gkiqDyfYTEEIAABCEAAAhCAwL4IIIL25Y9ZaxBBs4iIAAEIQAACEIAABCAAgUkCiKBJPPu7iAjan0+wCAIQgAAEIAABCECgLAKIoLL8ZRBBhTkMcyEAAQhAAAIQgAAEdkcAEbQ7l0wbhAia5sNVCEAAAhCAAAQgAAEIzBFABM0R2tl1RNDOHII5EIAABCAAAQhAAALFEUAEFeYyRFBhDsNcCEAAAhCAAAQgAIHdEUAE7c4l0wYhgqb5cBUCEIAABCAAAQhAAAJzBBBBc4R2dh0RtDOHYA4EIAABCEAAAhCAQHEEEEGFuQwRVJjDMBcCEIAABCAAAQhAYHcEEEG7c8m0QYigaT5chQAEIAABCEAAAhCAwBwBRNAcoZ1dRwTtzCGYAwEIQAACEIAABCBQHAFEUGEuQwQV5jDMhQAEIAABCEAAAhDYHQFE0O5cMm0QImiaD1chAAEIQAACEIAABCAwRwARNEdoZ9cRQTtzCOZAAAIQgAAEIAABCBRHABFUmMsQQYU5DHMhAAEIQAACEIAABHZHABG0O5dMG4QImubDVQhAAAIQgAAEIAABCMwRQATNEdrZdUTQzhyCORCAAAQgAAEIQAACxRFABBXmMkRQYQ7DXAhAAAIQgAAEIACB3RHYvQj6/o/+opGJP/8aBsKDPwhAAAIQgAAEIAABCEBgOYHdi6DlVSMlBCAAAQhAAAIQgAAEIACBIQFE0JAJIRCAAAQgAAEIQAACEIBAxQQQQRU7l6pBAAIQgAAEIAABCEAAAkMCiKAhE0IgAAEIQAACEIAABCAAgYoJIIIqdi5VgwAEIAABCEAAAhCAAASGBBBBQyaEQAACEIAABCAAAQhAAAIVE0AEVexcqgYBCEAAAhCAAAQgAAEIDAkggoZMCIEABCAAAQhAAAIQgAAEKiaACKrYuVQNAhCAAAQgAAEIQAACEBgSQAQNmRACAQhAAAIQgAAEIAABCFRMABFUsXOpGgQgAAEIQAACEIAABCAwJJBfBF1O5nA4mUtgy+V0MIdTGBpEWnT6ZM7Hgzmen5JSP52PyXG9DG29DuZwkH9Hk1icl8U1J5aXLcuV2X6eLkbqEGN8Tf7EhQAEIAABCEAAAhCAQK0E8osgY5pJuhY8IiCOZ5MmU650heStyxpNfjGnVlSkCqY+qydzPisBt2V9+kLbI7E7LiqTqj3IjwAIQAACEIAABCAAAQjUTeAuIsgYWZ1xqyXxSfxq2C+nbmXHrpAosWXPW6UgKysifqZWgqbS+/auV6f5MuNlSTpEkO8VziAAAQhAAAIQgAAEICAE7iSC7HKQOR7P5nw6JE3WrRiIbP+aXbVRIqgRX215T2dzjKygSDnjeTZb66y4GElvm5VcU2LrtqY2VyYi6Da+pIYABCAAAQhAAAIQeDQC9xNBsW1xG9AfiJpWoIyJr0H80KaZ9MaIKHGrXGHiheeTZY6LoHExt9AOkkEAAhCAAAQgAAEIQKACAvcTQe2zOrINbbNtWyPPA9lVpZFCZ0XQhHiz+UZWl9ZoJ+M2x0WQlJlSlzVsIw8IQAACEIAABCAAAQiUROBOIkhP3NNWThqBEbwJ7TD/1reBELCrKidz6p5J8t01iO9fFmVhjsdhemvfiLAKs7j6fKTMJh/Nss95th59VI4gAAEIQAACEIAABCDwUATuIoLcSwg60lu+TW3qmaDIczvT4iF4Pselb7erbfJ2O/sSCfUckyuzhxd9O5zUYytN1hXNAQQgAAEIQAACEIAABAokkF0E2d+3GUzkjbHhW8zalQgKywjPxX9DEdSvtITxu3MRQZGXNjTV6dM3zwv12/+69FKwCMFuK12fxotjo4W/p9TH1e0PEaRpcAwBCEAAAhCAAAQgAIGeQHYR1Bed6WjkuaDk0u+R/tYyW7G0haZM5kZECEAAAhCAAAQgAAEI7JRA/SLIvq1t/tmhMf88nU/mfMM+tyXpl6TR9ssqUL+qpK9wDAEIQAACEIAABCAAAQg8gAjCyRCAAAQgAAEIQAACEIAABHoCiKCeBUcQgAAEIAABCEAAAhCAwAMQQAQ9gJOpIgQgAAEIQAACEIAABCDQE6hfBHWvr5bXWx+vfL5nSZoeLkcQgAAEIAABCEAAAhCAwP4I1COC7Cum9Y+ptoJnVgQ1v/1zcK+49l7fjQjaX5PFIghAAAIQgAAEIAABCNxGoBgRZH8vxwkV/Rl9D7SIl5O5CJtJEdQIoKN6/Zt9s1onhFJEUEqc25xEaghAAAIQgAAEIAABCEBgPQLFiKC+yvEfB+00flfZAAAC5UlEQVSvy9HFnJyQmRJBcm0gorSo0cd+Cf1ZSpw+NkcQgAAEIAABCEAAAhCAwH0JVCmCZDWnW93ZVASJANJb8NrVp/a3idwWO62zZEXrdD6bo6xm2QutqFPb+SS4+a2fJu+uLvdtK5QOAQhAAAIQgAAEIACBKghUKIKClSIRQd32ufDFCI2I0SLj9u1wTZ698PHtsdv63CqVbUJy3QkiWcQ6GSueXAbWfieuqmhzVAICEIAABCAAAQhAAAJ3JVCZCAoFyNwzQcI+WM3xBIpcC4VT6K8gjogYJ2DaqHb1xz6gJBrnYPzLIoJ0GeF5kH9YPOcQgAAEIAABCEAAAhCAwFUEKhJBzYqKXtWxJKa2w82iShEgQRy3ktOtPjVb2pzwiYsgvdIT5GdFmhZJs0YTAQIQgAAEIAABCEAAAhCYIFCJCGoEkBMaXn3vIYKihjRWIYI873ACAQhAAAIQgAAEIACB7AQqEUET3EZFUCOc3MsLYp+nS7gqEy/HFzZDQXY59Ss9flzJT+L315vteXrlJ82GuGWEQgACEIAABCAAAQhAAAIhgQcWQSGK2HmiAOm2wLVixr7MoH9rnF4YQgTFOBMGAQhAAAIQgAAEIACBfAQKFEFXwhldCUrJJ1EEpWRFHAhAAAIQgAAEIAABCEBgFwTqF0G7wIwREIAABCAAAQhAAAIQgMBeCCCC9uIJ7IAABCAAAQhAAAIQgAAEshBABGXBTCEQgAAEIAABCEAAAhCAwF4IIIL24gnsgAAEIAABCEAAAhCAAASyEEAEZcFMIRCAAAQgAAEIQAACEIDAXggggvbiCeyAAAQgAAEIQAACEIAABLIQQARlwUwhEIAABCAAAQhAAAIQgMBeCCCC9uIJ7IAABCAAAQhAAAIQgAAEshBABGXBTCEQgAAEIAABCEAAAhCAwF4IIIL24gnsgAAEIAABCEAAAhCAAASyEEAEZcFMIRCAAAQgAAEIQAACEIDAXgj8f8RO3ZkxPROqAAAAAElFTkSuQmCC) "
      ]
    },
    {
      "cell_type": "markdown",
      "metadata": {
        "id": "RuSIW2q4QGdB"
      },
      "source": [
        "##3.1 Skeleton term의 추출"
      ]
    },
    {
      "cell_type": "markdown",
      "metadata": {
        "id": "Jj_hGNp_KzYX"
      },
      "source": [
        "\n",
        "Document를 Term 단위로 나눈다. 각각의 Term을 xi 라고 할 때 Document는 다음과 같이 나타낼 수 있다.\n",
        "\n",
        "Document ![image.png](data:image/png;base64,iVBORw0KGgoAAAANSUhEUgAAAQwAAAA1CAYAAAC0jtVCAAAG8ElEQVR4Ae2dPXKkMBCF5z6cZUPu4EM4mAP4BL6AqwidO3bqgMShQ2e+gbYe42YajH4RjDQ8VW2BQRLdn5pHS2DvybCQAAmQQCCBU2A9ViMBEiABQ8FgEJAACQQToGAEo2JFEiABCgZjgARIIJgABSMYFSuSAAlQMBgDJEACwQQoGMGoWJEESICCERADX19f5uXlxTw9PZnT6TT8C2jGKiSwGwGJS8QoYhUxu0WhYHioPj8/jyLx9vZmvr+/PS14mgRuQ+Dn58cgRv/9+zfELGI3d6FgOIhqsfj4+HDU5CkSKIcAsgvJOHKLBgXDMs7IJAT64+OjpRYPk0CZBPT0OWdWTMGwjDdSOxEM7LOQQE0EtopfCoYlCrRCUzAskHi4WAJaMBDLuQoFw0KSgmEBw8NVEKBg7DxMFIydgfNyWQkUIxgwRF7b4H3vUtF1sF9j0cBjVpq17yXzqcXOmmKnJKb6DR/sylWipiS4AWQhULbv7+8TW+Z1tvqAZHLRDX74/PwcfQ19SzL3HYxK5FOLnRsM62ZdlsYUMSv3KGI5VwkWDLmBRAAky9A30+vr62AkvlmQ+imG6umAOJ26TVVXfASjr+nzQ/zdg4/PFtf5Wux0+VDauRKZ6thFLOcqwYKBG0/ffFpRYYxAy/GBUwmCAZ80dB/wPfn4bHGdr8VOlw+lnSuRaUzsxvAMFox5pyIQMAwigYwDGca9FP21HMQxttTCpxY7Y/nfsn4JTPUDXbLeHEySBQMX1yqGrOBeCgZc5oBr/KqFTy121hRfJTCVTB2xjJjOUVYJxsPDwyAa2N5L0QOdklloDrXwqcVOzbb0/VKY6kwDsb22rOpBXt1gOnJPBWosi7prRKMWPtF29r3pzq1pm2aSZZ6axrRdf0+hkOxLLNP+PGP5+2cU9ANsst92Xtskw0AsF5FhSNoOR3KuxIqjE0A+gJbzeqHWS1hV0GsYqWsza/j0XWua08kExIWyOm03ys7+PNiFsWnOnRF56Dt9XI6m2XMPraKYmt6cG/ydlcacR3RyDJzHg0aERR9b4iVvLDFORaxhQEE1lBxvR8TxEgQDtohgpWRQqXxw47VD8MwDSOjk3UbbKYKxoGQSzKfmPApJXmvr6C2aqelMOwjwVRjM77GpiBhjunYmLMtMJENGDOcsSb3hqQ2D8GuzYtia1D2nQzn7EsGIhZ7Ep+9+haIxzZjq6ydOTs8ufSXZ6TJjCGYIXWv8CbOro3rPJTHtO3Nuz1NmIsxzlsg8Gz/f1Nj1kY8WDGQSMEbmRFBT/KyfwhASZAk1Fz0liVnUTeXTtY1pxxT/8sT583SxAJXgQLCGllQ7nf0HCEaKrbimtLPF1drz2i/pK4Yn2udkujZbk0VX+LL7lAQXhUAIED2nx6fPAlg+g8ZUBUJSc0GwiF+2IBX/8vNJE4z97RQCl23XXv7eqWt+Hcp02vNtBMPHEzbmH/twlnNG+mfYLqxjhU/3M9/3Zhj6SQsD5lOP+SfUqAPBqL3o11Eu4NvwyS8Y29ipRlmyC8/6hQRxyM2oeh+D39bO16/vfMy1pO52TK8LngtLRXJ551Y/8Ob3rLOh56RXMCSDwJTDduMg85C1jNozC+EVqtDb8EkTDNv4wKdt7PylZZtvC0y1lRvXZauqPu5Kuz0Fw2fjZkxHnulrWLDdx2yEG7HjFYyIvu6qaqhgbON0uGDop1zOV9vBfo3B3RrfJxg3tzXAqSJsDMzWXO5QMFx0NjgXOiXZ4NJ4dza8ZgtZ9BQ79brSNjYt9Sp2+sUCrW9r65L9f4+VYOO44Jk6HzFmmA1IhpEz62eG8TdmhiOSbgK6LzW1dLHisNyI7pRUFqER5PuX62tg9V2R1Yzb2mo1a3KiFBtDFo8nhi/8oDMMxHKuQsGwkNSLufsv4oYJBoRifzG7ALsEtVvQNNpb2qrtcO2XYWPY2Lv8wDn9UWXOqSoFw0FeqzSePvuVPEGzlb2SMi9mzMOaRriQbGVjtf3qNaFEJyRTQnace6pKwfAMihYNPIFy/qcwy5fuTX/G57/yTcP19zWW6+99VMTsYp/YOd1SMNJGpTf4gO/CMp4hMgkdr7nFAj5RMAJGFgMB+PrNCVbTsxZZGbf8Eh2CyPVBVFZbHJ1JdjEViLl4+D9ddlzisKdk7eLKNlw0pA1iFLG61YONgnHY8KTjJBBPgIIRz4wtSOCwBCgYhx16Ok4C8QQoGPHM2IIEDkuAgnHYoafjJBBPgIIRz4wtSOCwBCgYhx16Ok4C8QQoGPHM2IIEDkuAgnHYoafjJBBPgIIRz4wtSOCwBCgYhx16Ok4C8QQoGPHM2IIEDkuAgnHYoafjJBBPgIIRz4wtSOCwBCgYhx16Ok4C8QT+A99Epr6j06g7AAAAAElFTkSuQmCC)\n",
        "\n",
        "Document의 유사 확률을 측정하는 함수를 S라고 하면, xi 에 대한 유사성 Probability는 다음과 같이 나타낼 수 있다.\n",
        "\n",
        "![image.png](data:image/png;base64,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)\n",
        "\n",
        "전체 document의 flow는 Similarity Probability Distribution, SPD를 아래와 같이 나타낼 수 있다.\n",
        "\n",
        "![image.png](data:image/png;base64,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)\n",
        "\n",
        "이를 연속적 Signal 이라 보고, Signal의 peak에 해당하는 term을 추출하여 이를 전체 document의 요약에 해당하는 skeleton term으로 구성하고자 한다.\n",
        "\n",
        "\n",
        "그러나 document story상, 주인공을 지칭하는 term의 경우 전체 Similarity에 지배적 영향을 주게되고 signal의 peak는 해당 term들로만 구성 될 수가 있다. 결국, 원하는 skeleton을 얻지 못하게 된다. 이를 극복하기 위한 방법으로 복수의 term으로 구성된 story line의 SPD를 산출하여 사용한다. 만약 2개의 term인 경우 Similarity Probability는 다음과 같다.\n",
        "\n",
        "![image.png](data:image/png;base64,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)\n",
        "\n",
        "이때, ![image.png](data:image/png;base64,iVBORw0KGgoAAAANSUhEUgAAAHkAAAAoCAYAAADaKFUbAAAEFklEQVR4Ae1bIWzrMBANLBwsHJwUUjg4OFhiqbBwcHAwrLBwcLBSyODgYGFJpMLCwcHC+3qO3TpdkjrxOdZvbGlK2ti+u/d85/OlSyi2m0cguXkLo4EUSR7BIogkR5JHgMAITIyeHEkeAQIjMDF6ciR5BAiMwMToyZHk/gh8f3/T6+tr/wlGNPLl5YW22603i9k9Gco+PT3RdDql9/d3b4rfysTH45HW6zXd3d1J3Ha7HbtprCRDQSi7XC7p9/eXXdlbnhB4LRYLid/hcGA1lY1kKHZ/f0+Pj4+E1RlbdwSA28PDg8SR00nYSH5+fvayCrtD9X+P2O/3NJlMaD6fsxnCQjIUS5JEhmk2zUY8ERwGeP78/LCgwEIysmgo9fX1xaLU2Cf5+PiQeHKdTlhIRnhBwtW6FxcZiTSRyidpRrnJZJGfnonKA7NTj/sQMnuoeTkE+zGcBphyNGeStUJIuhpbkVGaZlQQUZGl0oA0wye0nESiyE9ElXzVo9clhMxeitYPwhEURHMkYM4k49gEZXA2tmoAH6RKly0og3erBWA1vk+nEDL76GmMQZYNXJHvuDZnkrEPQxn7bPBMbAavvkZwLuT8bmE8hEw3auA0wJUjz3EmWScJKIDYtlzovfl6eC77pnSK7rZCLvqFkHmhQqePmuTNZtNpXF1nZ5JRo+4Uro192c0768xp/k7nAiwyVfi3nkslluc8pFlP/QRFJeAKfF2bM8modEGZ2Wxmp4veH0/7st0wp17cMm1JLnLKRJloAqMuJCORxRiOEqczyTg2QZnW7FozhBWdJCRylVG37cdqL+4KjhZ1uvqQaUMy+qSCsrwgUrZ0IRnHUtjO0VhmgRc3rjoYiLimwC6zatiNfbl9r20NsXoR1MVMXzI14jYk6764diQZb/KAp3V0NGXV3LOQjFdlUGq1Wv0RoYnCczOT1t+XqxvZ71/Cyz5/v5dCWkjWc7PL1NZ5Jvnt7U3iyfWqloVkhGyEFyQLl01ntakoiyHn53l5Rpbki9rsWY5tCuktJHPLrCwa6Nv0VxdVYHBHT8bWh2JIawXxDOTVOxaSIUWvPhypeJratxuA08A3PO6pQrvM06QePRnei0UEPLkaG8lQCG9P4NEcVRpSQNYnKyUZKS/DqLnKaly9TANyTyTr14z48QBnYyUZ4QVEI9R8fn466dm2H+PZVSJ6SG+TWZnOA8nAC7gBP64wrXVmJVlPipCNfcW6nq0HGlcT8CIXXkg1xMlba5kdSS7nLev1+rWMKRs4AS++rc6cnfz+V6NTtUYBiWOWcK1pVm1u/mQr04pkVS+vTdKq5Vyfv9SEsV48uRnF+CQEApHkEKgPLDOSPDDgIcRFkkOgPrDMSPLAgIcQF0kOgfrAMiPJAwMeQtw/l14Wzf4yXzIAAAAASUVORK5CYII=) 의 구성은 일종의 partial story 로서 filter의 역할을 하고, 전체 document를 convolution 한다.\n",
        "만약 N개의 term을 filter로 사용한다면, \n",
        "\n",
        "![image.png](data:image/png;base64,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)\n",
        "\n",
        "과 같이 된다. \n",
        "\n",
        "m개의 filter를 이용하여 skeleton terms = s 를 아래와 같이 구성한다면\n",
        "\n",
        "![image.png](data:image/png;base64,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)\n",
        "\n",
        "![image.png](data:image/png;base64,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)\n",
        "\n",
        "하지만 여기서 문제점은 SPD1~m 에서도 역시 주인공과 같은 지배적 term에 peak가 몰리고 story line에 해당하는 skeleton이 추출되지 못 할 수 있다는 것이다. 이를 극복하기 위해, peak를 추출하기 전에 SPD1의 값을 빼서 지배적 term의 peak를 회피하고 story line에 해당하는 skeleton을 추출 할 수 있도록 한다.\n",
        "\n",
        "![image.png](data:image/png;base64,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)"
      ]
    },
    {
      "cell_type": "markdown",
      "metadata": {
        "id": "m9HvH8Q6QTqj"
      },
      "source": [
        "##3.2 Similarity function, S "
      ]
    },
    {
      "cell_type": "markdown",
      "metadata": {
        "id": "lLLJ8nNcXP2g"
      },
      "source": [
        "*3.2.1 Sentence-BERT\n",
        "\n",
        "(ref :Nils Reimers and Iryna Gurevych, (2019). Sentence-BERT: Sentence Embeddings using Siamese BERT-Networks ,https://arxiv.org/pdf/1908.10084.pdf)\n",
        "를 기반으로 구현한다.\n",
        "\n",
        "BERT (Devlin et al., 2018) is a pre-trained transformer network (Vaswani et al., 2017), which set for various NLP tasks new state-of-the-art results, including question answering, sentence classification, and sentence-pair regression. The input for BERT for sentence-pair regression consists of the two sentences, separated by a special [SEP]\n",
        "token. Multi-head attention over 12 (base-model) or 24 layers (large-model) is applied and the output is passed to a simple regression function to derive the final label. Using this setup, BERT set a new state-of-the-art performance on the Semantic Textual Semilarity (STS) benchmark (Cer et al.,2017). RoBERTa (Liu et al., 2019) showed, that\n",
        "the performance of BERT can further improved by small adaptations to the pre-training process. We also tested XLNet (Yang et al., 2019), but it led in general to worse results than BERT.\n",
        "\n",
        "Sentence-BERT(SBERT), a modification of the pretrained BERT network that use siamese and triplet network structures to derive semantically meaningful sentence embeddings that can be compared using cosine-similarity. This reduces the effort for finding the most similar pair from 65 hours with BERT / RoBERTa to about 5 seconds with SBERT, while maintaining the accuracy from BERT.\n",
        "\n",
        "SBERT adds a pooling operation to the output of BERT / RoBERTa to derive a fixed sized sentence embedding. We experiment with three pooling strategies: Using the output of the CLS-token, computing the mean of all output vectors (MEAN strategy), and computing a max-over-time of the output vectors (MAX-strategy). The default configuration is MEAN.\n",
        "\n",
        "![image.png](data:image/png;base64,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)\n",
        "\n",
        "SBERT를 활용할 수 있는 pretrained model은 https://www.sbert.net/docs/pretrained_models.html 여기서 확인 할 수 있다.\n",
        "\n",
        "본 논문에서는  한국어로 학습된 'xlm-r-large-en-ko-nli-ststb' 모델을 사용하였고, 이 모델의 STS Benchmark score는 84.05% 이다.\n",
        "\n"
      ]
    },
    {
      "cell_type": "markdown",
      "metadata": {
        "id": "1sCPF52_QNF3"
      },
      "source": [
        "##3.3 한국어 문법 Discriminator, D"
      ]
    },
    {
      "cell_type": "markdown",
      "metadata": {
        "id": "AjndPnYrf7FX"
      },
      "source": [
        "\n",
        "\n",
        "skeleton terms이 추출된 이후, 개별 skeleton term 사이를 채워 줄 적절한 term을 원문에서 찾아 넣어 주어 사람이 읽을 수 있는 완성된 문장을 만들어야 한다. generator에 의해서 다양한 term을 후보로 채울것이나 이의 적절성 여부를 판단 하는 것이 '한국어 문번 discriminator'이다. 높은 score를 받을 수록 해당 term의 weight를 상승 시켜 결국에는 사람이 읽을 수 있는 요약문장을 만들게 된다.\n",
        "\n",
        "'한국어 문번 discriminator' 는 한국어 Sample 문서를 수집하여 문장별로 나누어 koNLPy (ref:https://konlpy-ko.readthedocs.io/ko/v0.4.3/)에 의해 형태소 분석을 하여, 최대 길이 128 word, word 별 23 차원의 one-hot ecode하여 (None,128,23)의 shape을 갖는 feature를 구성하여 term이 shuffling된 문장은 label 0, 정상 문장은 label 1로 regression 학습하여 사용한다.\n",
        "\n",
        "본 논문에서는 장편소설 2개의 text를 사용하여, 총 33,000여개의 문장을 학습하였고 f1-score 약 0.85 수준.\n",
        "\n",
        "본 '한국어 문번 discriminator'는 LSTM의 적용 등 개선된 알고리즘 및 성능 향상이 더 필요하다."
      ]
    },
    {
      "cell_type": "markdown",
      "metadata": {
        "id": "gTyQdqNnQfSt"
      },
      "source": [
        "## 3.4 한국어 Text Generator, G"
      ]
    },
    {
      "cell_type": "markdown",
      "metadata": {
        "id": "wW_xSJUllACt"
      },
      "source": [
        "\n",
        "원문의 전체 term의 개수에 해당하는 random noise를 입력받는다. 2번째 입력은 skeleton term \n",
        "![image.png](data:image/png;base64,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)\n",
        "을 bias로서 입력 받는다.\n",
        "random noise 는 dense layer 몇 개를 거치면서 deep network을 형성하지만 skeleton term bias는 동일 차원의 output 바로 직전에 deep network의 output tensor에 add 된다. 이로서 전체 output은 skeleton term에 bias 되어 원문이 요약된 문장이 생성된다. 또한 random noise에 의해 skeleton term 각각의 사이에 적절한 term이 원문에서 추출 되는 것이다.\n",
        " 이후, 생성된 probability distribution은 아래의 조건에 의해서 선택되어진다.\n",
        "\n",
        "![image.png](data:image/png;base64,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)\n",
        "\n",
        "여기서 [알파] 값을 조절 하므로 생성되는 text의 길이를 조절 할 수 있다. 적절한 [알파]값을 통해 문법적으로 읽을 수 있는 글이 생성된다. \n",
        "마지막으로 선택된 t vector는 x에서 선택된 order에 해당되거 x[t] 연산에 의해서 text가 생성된다.\n",
        "\n",
        "\n",
        "전체적인 구성은 아래와 같다. \n",
        "![image.png](data:image/png;base64,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)"
      ]
    },
    {
      "cell_type": "markdown",
      "metadata": {
        "id": "pJ4r3I88Qjw5"
      },
      "source": [
        "##3.5 GAN Training"
      ]
    },
    {
      "cell_type": "markdown",
      "metadata": {
        "id": "eQ8Rprt6snqL"
      },
      "source": [
        "\n",
        "\n",
        "GAN의 논문 (ref:Ian J. Goodfellow, (2014). Generative Adversarial Nets, https://arxiv.org/pdf/1406.2661.pdf) 에서 보면 value function V(G,D)에 대하여 다음을 만족시키는 과정에 의하여 학습이 이루어 진다.\n",
        "\n",
        "\n",
        "![image.png](data:image/png;base64,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)\n",
        "\n",
        "즉, D에 대한 cross-entory ![image.png](data:image/png;base64,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) 와 G에 대한 cross-entropy ![image.png](data:image/png;base64,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) 에 대한 최적화의 과정임을 알 수 있다. \n",
        "\n",
        "문제는 cross-entropy의 정의에서 보면, \n",
        "\n",
        "![image.png](data:image/png;base64,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)\n",
        "\n",
        "이고, kullback-leibler divergence 으로 표현하면, \n",
        "\n",
        "![image.png](data:image/png;base64,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)\n",
        "\n",
        "가 된 다. \n",
        "\n",
        "문제는 \n",
        "![image.png](data:image/png;base64,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)\n",
        "\n",
        "에서 p와 q의 distribution은 동일 차원, 동일 shape을 갖어야 하나 위의 문제에서 G의 output은 (1,T)이고 D의 output은 scalar probability에 해당하여 cross-entropy를 정의 할 수 없다.\n",
        "\n",
        "즉, 미분을 적용할 수 없는 discrete한 구조로서 GAN 학습이 불가하다. 이러한 문제는 GAN을 통한 Text 생성 알고리즘에서 빈번히 봉착하는 문제이며 논문 (ref : Yau-ShianWang, (2018). Learning to Encode Text as Human-Readable Summaries using Generative Adversarial Networks) 에서는 'Self-Critic Adversarial REINFORCE'을 제안하였다. 해당 기법에서는 Since we feed a discrete sequence ys to the discriminator, the gradient from the discriminator cannot directly back-propagate to the generator. Here, we use the policy gradient method. At timestep i, we use the i 􀀀 1 timestep score si􀀀1 from the discriminator as its self-critical baseline. The reward rD i evaluates whether the quality of sequence in timestep i is better or worse than that in timestep i 􀀀 1. The generator reward rD i from D2 is\n",
        "\n",
        "![image.png](data:image/png;base64,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)\n",
        "\n",
        "However, some sentences may be judged as bad sentences at the previous timestep, but at later timesteps judged as good sentences, and vice-versa. Hence we use the discounted expected reward d with discount factor  to calculate the discounted reward di at time step i as\n",
        "\n",
        "![image.png](data:image/png;base64,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)\n",
        "\n",
        "To maximize the expected discounted reward di, the loss of generator is:\n",
        "\n",
        "![image.png](data:image/png;base64,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)\n",
        "\n",
        "We use the likelihood ratio trick to approximate the gradient to minimize \n",
        "\n",
        "하지만 이러한 방식은 LSTM에 의한 timeseries로 접근 할 때 가능하며, discounted reward d의 적용은 loss의 미분 폭이 매우 좁아서, 상당히 많은 시행 (epoch)과정이 필요하다.\n",
        "\n",
        "따라서 본 논문에서는 이러한 discrete 현상을 해소(G,D의 output shape을 갖게)하기 위해,   \n",
        "\n",
        "![image.png](data:image/png;base64,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)\n",
        "\n",
        "의 과정을 거처 d가 g와 같은 shape을 갖도록 만들고 cross-entory를 정의 할 수 있도록 한다. 결과적으로 우리의 loss는 다음과 같다.\n",
        "\n",
        "![image.png](data:image/png;base64,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)\n",
        "\n",
        "이로서 discrete 현상을 회피할 수 있고, 학습 성능을 향상 할 수 있다."
      ]
    },
    {
      "cell_type": "markdown",
      "metadata": {
        "id": "K87VNBbeRLFF"
      },
      "source": [
        "#4. Implementation\n"
      ]
    },
    {
      "cell_type": "markdown",
      "metadata": {
        "id": "dQZeBAf8NxAR"
      },
      "source": [
        "##4.1 기본 설정..."
      ]
    },
    {
      "cell_type": "code",
      "metadata": {
        "id": "w9G3hqrGF-xA",
        "trusted": true,
        "outputId": "1133b109-0e4b-4c84-f4c0-98b06da8d96b",
        "colab": {
          "base_uri": "https://localhost:8080/"
        }
      },
      "source": [
        "from google.colab import drive\n",
        "drive.mount('/content/drive')"
      ],
      "execution_count": 1,
      "outputs": [
        {
          "output_type": "stream",
          "text": [
            "Mounted at /content/drive\n"
          ],
          "name": "stdout"
        }
      ]
    },
    {
      "cell_type": "code",
      "metadata": {
        "id": "qVI_ewF7SIt1",
        "trusted": true
      },
      "source": [
        "DO_ALL = True # 전체 실행하면서 시간 걸리는 걸 Pass 하려면 이걸 False ...\n",
        "USE_PRETRAINED_MODEL = True # 이미 학습한 모델을 사용하려면.. true"
      ],
      "execution_count": 2,
      "outputs": []
    },
    {
      "cell_type": "code",
      "metadata": {
        "_uuid": "d629ff2d2480ee46fbb7e2d37f6b5fab8052498a",
        "_cell_guid": "79c7e3d0-c299-4dcb-8224-4455121ee9b0",
        "trusted": true,
        "id": "VL9PuKQz04JS",
        "outputId": "6e46ac5d-9a70-4452-fbe5-4aada77a8315",
        "colab": {
          "base_uri": "https://localhost:8080/"
        }
      },
      "source": [
        "if DO_ALL:\n",
        "    !pip install sentence-transformers==0.3.0\n",
        "    !pip install transformers==3.0.2\n",
        "    !pip install wikipedia\n",
        "    !pip install konlpy"
      ],
      "execution_count": 3,
      "outputs": [
        {
          "output_type": "stream",
          "text": [
            "Collecting sentence-transformers==0.3.0\n",
            "\u001b[?25l  Downloading https://files.pythonhosted.org/packages/d5/23/833e0620753a36cb2f18e2e4a4f72fd8c49c123c3f07744b69f8a592e083/sentence-transformers-0.3.0.tar.gz (61kB)\n",
            "\u001b[K     |████████████████████████████████| 71kB 3.5MB/s \n",
            "\u001b[?25hCollecting transformers>=3.0.2\n",
            "\u001b[?25l  Downloading https://files.pythonhosted.org/packages/50/0c/7d5950fcd80b029be0a8891727ba21e0cd27692c407c51261c3c921f6da3/transformers-4.1.1-py3-none-any.whl (1.5MB)\n",
            "\u001b[K     |████████████████████████████████| 1.5MB 7.3MB/s \n",
            "\u001b[?25hRequirement already satisfied: tqdm in /usr/local/lib/python3.6/dist-packages (from sentence-transformers==0.3.0) (4.41.1)\n",
            "Requirement already satisfied: torch>=1.0.1 in /usr/local/lib/python3.6/dist-packages (from sentence-transformers==0.3.0) (1.7.0+cu101)\n",
            "Requirement already satisfied: numpy in /usr/local/lib/python3.6/dist-packages (from sentence-transformers==0.3.0) (1.19.4)\n",
            "Requirement already satisfied: scikit-learn in /usr/local/lib/python3.6/dist-packages (from sentence-transformers==0.3.0) (0.22.2.post1)\n",
            "Requirement already satisfied: scipy in /usr/local/lib/python3.6/dist-packages (from sentence-transformers==0.3.0) (1.4.1)\n",
            "Requirement already satisfied: nltk in /usr/local/lib/python3.6/dist-packages (from sentence-transformers==0.3.0) (3.2.5)\n",
            "Requirement already satisfied: filelock in /usr/local/lib/python3.6/dist-packages (from transformers>=3.0.2->sentence-transformers==0.3.0) (3.0.12)\n",
            "Requirement already satisfied: regex!=2019.12.17 in /usr/local/lib/python3.6/dist-packages (from transformers>=3.0.2->sentence-transformers==0.3.0) (2019.12.20)\n",
            "Requirement already satisfied: packaging in /usr/local/lib/python3.6/dist-packages (from transformers>=3.0.2->sentence-transformers==0.3.0) (20.8)\n",
            "Collecting sacremoses\n",
            "\u001b[?25l  Downloading https://files.pythonhosted.org/packages/7d/34/09d19aff26edcc8eb2a01bed8e98f13a1537005d31e95233fd48216eed10/sacremoses-0.0.43.tar.gz (883kB)\n",
            "\u001b[K     |████████████████████████████████| 890kB 44.3MB/s \n",
            "\u001b[?25hCollecting tokenizers==0.9.4\n",
            "\u001b[?25l  Downloading https://files.pythonhosted.org/packages/0f/1c/e789a8b12e28be5bc1ce2156cf87cb522b379be9cadc7ad8091a4cc107c4/tokenizers-0.9.4-cp36-cp36m-manylinux2010_x86_64.whl (2.9MB)\n",
            "\u001b[K     |████████████████████████████████| 2.9MB 43.5MB/s \n",
            "\u001b[?25hRequirement already satisfied: dataclasses; python_version < \"3.7\" in /usr/local/lib/python3.6/dist-packages (from transformers>=3.0.2->sentence-transformers==0.3.0) (0.8)\n",
            "Requirement already satisfied: requests in /usr/local/lib/python3.6/dist-packages (from transformers>=3.0.2->sentence-transformers==0.3.0) (2.23.0)\n",
            "Requirement already satisfied: future in /usr/local/lib/python3.6/dist-packages (from torch>=1.0.1->sentence-transformers==0.3.0) (0.16.0)\n",
            "Requirement already satisfied: typing-extensions in /usr/local/lib/python3.6/dist-packages (from torch>=1.0.1->sentence-transformers==0.3.0) (3.7.4.3)\n",
            "Requirement already satisfied: joblib>=0.11 in /usr/local/lib/python3.6/dist-packages (from scikit-learn->sentence-transformers==0.3.0) (1.0.0)\n",
            "Requirement already satisfied: six in /usr/local/lib/python3.6/dist-packages (from nltk->sentence-transformers==0.3.0) (1.15.0)\n",
            "Requirement already satisfied: pyparsing>=2.0.2 in /usr/local/lib/python3.6/dist-packages (from packaging->transformers>=3.0.2->sentence-transformers==0.3.0) (2.4.7)\n",
            "Requirement already satisfied: click in /usr/local/lib/python3.6/dist-packages (from sacremoses->transformers>=3.0.2->sentence-transformers==0.3.0) (7.1.2)\n",
            "Requirement already satisfied: idna<3,>=2.5 in /usr/local/lib/python3.6/dist-packages (from requests->transformers>=3.0.2->sentence-transformers==0.3.0) (2.10)\n",
            "Requirement already satisfied: certifi>=2017.4.17 in /usr/local/lib/python3.6/dist-packages (from requests->transformers>=3.0.2->sentence-transformers==0.3.0) (2020.12.5)\n",
            "Requirement already satisfied: urllib3!=1.25.0,!=1.25.1,<1.26,>=1.21.1 in /usr/local/lib/python3.6/dist-packages (from requests->transformers>=3.0.2->sentence-transformers==0.3.0) (1.24.3)\n",
            "Requirement already satisfied: chardet<4,>=3.0.2 in /usr/local/lib/python3.6/dist-packages (from requests->transformers>=3.0.2->sentence-transformers==0.3.0) (3.0.4)\n",
            "Building wheels for collected packages: sentence-transformers, sacremoses\n",
            "  Building wheel for sentence-transformers (setup.py) ... \u001b[?25l\u001b[?25hdone\n",
            "  Created wheel for sentence-transformers: filename=sentence_transformers-0.3.0-cp36-none-any.whl size=86754 sha256=ec01117818f28d42a3ab84bc5077eaf2b2b58fa4459e34295625e617b2833d12\n",
            "  Stored in directory: /root/.cache/pip/wheels/b8/23/85/85d6a9a6c68f0625a1ecdaad903bb0a78df058c10cf74f9de4\n",
            "  Building wheel for sacremoses (setup.py) ... \u001b[?25l\u001b[?25hdone\n",
            "  Created wheel for sacremoses: filename=sacremoses-0.0.43-cp36-none-any.whl size=893261 sha256=eb55e89d6a0f53cbd54a35c9512b61dfe4641fe539f2c62e9f8c8db7d5a47d53\n",
            "  Stored in directory: /root/.cache/pip/wheels/29/3c/fd/7ce5c3f0666dab31a50123635e6fb5e19ceb42ce38d4e58f45\n",
            "Successfully built sentence-transformers sacremoses\n",
            "Installing collected packages: sacremoses, tokenizers, transformers, sentence-transformers\n",
            "Successfully installed sacremoses-0.0.43 sentence-transformers-0.3.0 tokenizers-0.9.4 transformers-4.1.1\n",
            "Collecting transformers==3.0.2\n",
            "\u001b[?25l  Downloading https://files.pythonhosted.org/packages/27/3c/91ed8f5c4e7ef3227b4119200fc0ed4b4fd965b1f0172021c25701087825/transformers-3.0.2-py3-none-any.whl (769kB)\n",
            "\u001b[K     |████████████████████████████████| 778kB 5.5MB/s \n",
            "\u001b[?25hRequirement already satisfied: filelock in /usr/local/lib/python3.6/dist-packages (from transformers==3.0.2) (3.0.12)\n",
            "Collecting sentencepiece!=0.1.92\n",
            "\u001b[?25l  Downloading https://files.pythonhosted.org/packages/e5/2d/6d4ca4bef9a67070fa1cac508606328329152b1df10bdf31fb6e4e727894/sentencepiece-0.1.94-cp36-cp36m-manylinux2014_x86_64.whl (1.1MB)\n",
            "\u001b[K     |████████████████████████████████| 1.1MB 18.5MB/s \n",
            "\u001b[?25hRequirement already satisfied: dataclasses; python_version < \"3.7\" in /usr/local/lib/python3.6/dist-packages (from transformers==3.0.2) (0.8)\n",
            "Requirement already satisfied: tqdm>=4.27 in /usr/local/lib/python3.6/dist-packages (from transformers==3.0.2) (4.41.1)\n",
            "Requirement already satisfied: regex!=2019.12.17 in /usr/local/lib/python3.6/dist-packages (from transformers==3.0.2) (2019.12.20)\n",
            "Requirement already satisfied: requests in /usr/local/lib/python3.6/dist-packages (from transformers==3.0.2) (2.23.0)\n",
            "Requirement already satisfied: sacremoses in /usr/local/lib/python3.6/dist-packages (from transformers==3.0.2) (0.0.43)\n",
            "Requirement already satisfied: numpy in /usr/local/lib/python3.6/dist-packages (from transformers==3.0.2) (1.19.4)\n",
            "Requirement already satisfied: packaging in /usr/local/lib/python3.6/dist-packages (from transformers==3.0.2) (20.8)\n",
            "Collecting tokenizers==0.8.1.rc1\n",
            "\u001b[?25l  Downloading https://files.pythonhosted.org/packages/40/d0/30d5f8d221a0ed981a186c8eb986ce1c94e3a6e87f994eae9f4aa5250217/tokenizers-0.8.1rc1-cp36-cp36m-manylinux1_x86_64.whl (3.0MB)\n",
            "\u001b[K     |████████████████████████████████| 3.0MB 28.3MB/s \n",
            "\u001b[?25hRequirement already satisfied: urllib3!=1.25.0,!=1.25.1,<1.26,>=1.21.1 in /usr/local/lib/python3.6/dist-packages (from requests->transformers==3.0.2) (1.24.3)\n",
            "Requirement already satisfied: certifi>=2017.4.17 in /usr/local/lib/python3.6/dist-packages (from requests->transformers==3.0.2) (2020.12.5)\n",
            "Requirement already satisfied: chardet<4,>=3.0.2 in /usr/local/lib/python3.6/dist-packages (from requests->transformers==3.0.2) (3.0.4)\n",
            "Requirement already satisfied: idna<3,>=2.5 in /usr/local/lib/python3.6/dist-packages (from requests->transformers==3.0.2) (2.10)\n",
            "Requirement already satisfied: six in /usr/local/lib/python3.6/dist-packages (from sacremoses->transformers==3.0.2) (1.15.0)\n",
            "Requirement already satisfied: joblib in /usr/local/lib/python3.6/dist-packages (from sacremoses->transformers==3.0.2) (1.0.0)\n",
            "Requirement already satisfied: click in /usr/local/lib/python3.6/dist-packages (from sacremoses->transformers==3.0.2) (7.1.2)\n",
            "Requirement already satisfied: pyparsing>=2.0.2 in /usr/local/lib/python3.6/dist-packages (from packaging->transformers==3.0.2) (2.4.7)\n",
            "Installing collected packages: sentencepiece, tokenizers, transformers\n",
            "  Found existing installation: tokenizers 0.9.4\n",
            "    Uninstalling tokenizers-0.9.4:\n",
            "      Successfully uninstalled tokenizers-0.9.4\n",
            "  Found existing installation: transformers 4.1.1\n",
            "    Uninstalling transformers-4.1.1:\n",
            "      Successfully uninstalled transformers-4.1.1\n",
            "Successfully installed sentencepiece-0.1.94 tokenizers-0.8.1rc1 transformers-3.0.2\n",
            "Collecting wikipedia\n",
            "  Downloading https://files.pythonhosted.org/packages/67/35/25e68fbc99e672127cc6fbb14b8ec1ba3dfef035bf1e4c90f78f24a80b7d/wikipedia-1.4.0.tar.gz\n",
            "Requirement already satisfied: beautifulsoup4 in /usr/local/lib/python3.6/dist-packages (from wikipedia) (4.6.3)\n",
            "Requirement already satisfied: requests<3.0.0,>=2.0.0 in /usr/local/lib/python3.6/dist-packages (from wikipedia) (2.23.0)\n",
            "Requirement already satisfied: urllib3!=1.25.0,!=1.25.1,<1.26,>=1.21.1 in /usr/local/lib/python3.6/dist-packages (from requests<3.0.0,>=2.0.0->wikipedia) (1.24.3)\n",
            "Requirement already satisfied: chardet<4,>=3.0.2 in /usr/local/lib/python3.6/dist-packages (from requests<3.0.0,>=2.0.0->wikipedia) (3.0.4)\n",
            "Requirement already satisfied: idna<3,>=2.5 in /usr/local/lib/python3.6/dist-packages (from requests<3.0.0,>=2.0.0->wikipedia) (2.10)\n",
            "Requirement already satisfied: certifi>=2017.4.17 in /usr/local/lib/python3.6/dist-packages (from requests<3.0.0,>=2.0.0->wikipedia) (2020.12.5)\n",
            "Building wheels for collected packages: wikipedia\n",
            "  Building wheel for wikipedia (setup.py) ... \u001b[?25l\u001b[?25hdone\n",
            "  Created wheel for wikipedia: filename=wikipedia-1.4.0-cp36-none-any.whl size=11686 sha256=f077a2edc44e13af02b104e313e648522baf653d89482d3ca96354bfc89276c0\n",
            "  Stored in directory: /root/.cache/pip/wheels/87/2a/18/4e471fd96d12114d16fe4a446d00c3b38fb9efcb744bd31f4a\n",
            "Successfully built wikipedia\n",
            "Installing collected packages: wikipedia\n",
            "Successfully installed wikipedia-1.4.0\n",
            "Collecting konlpy\n",
            "\u001b[?25l  Downloading https://files.pythonhosted.org/packages/85/0e/f385566fec837c0b83f216b2da65db9997b35dd675e107752005b7d392b1/konlpy-0.5.2-py2.py3-none-any.whl (19.4MB)\n",
            "\u001b[K     |████████████████████████████████| 19.4MB 58.2MB/s \n",
            "\u001b[?25hCollecting JPype1>=0.7.0\n",
            "\u001b[?25l  Downloading https://files.pythonhosted.org/packages/b7/21/9e2c0dbf9df856e6392a1aec1d18006c60b175aa4e31d351e8278a8a63c0/JPype1-1.2.0-cp36-cp36m-manylinux2010_x86_64.whl (453kB)\n",
            "\u001b[K     |████████████████████████████████| 460kB 44.6MB/s \n",
            "\u001b[?25hCollecting beautifulsoup4==4.6.0\n",
            "\u001b[?25l  Downloading https://files.pythonhosted.org/packages/9e/d4/10f46e5cfac773e22707237bfcd51bbffeaf0a576b0a847ec7ab15bd7ace/beautifulsoup4-4.6.0-py3-none-any.whl (86kB)\n",
            "\u001b[K     |████████████████████████████████| 92kB 8.6MB/s \n",
            "\u001b[?25hRequirement already satisfied: lxml>=4.1.0 in /usr/local/lib/python3.6/dist-packages (from konlpy) (4.2.6)\n",
            "Requirement already satisfied: numpy>=1.6 in /usr/local/lib/python3.6/dist-packages (from konlpy) (1.19.4)\n",
            "Collecting tweepy>=3.7.0\n",
            "  Downloading https://files.pythonhosted.org/packages/67/c3/6bed87f3b1e5ed2f34bd58bf7978e308c86e255193916be76e5a5ce5dfca/tweepy-3.10.0-py2.py3-none-any.whl\n",
            "Collecting colorama\n",
            "  Downloading https://files.pythonhosted.org/packages/44/98/5b86278fbbf250d239ae0ecb724f8572af1c91f4a11edf4d36a206189440/colorama-0.4.4-py2.py3-none-any.whl\n",
            "Requirement already satisfied: typing-extensions; python_version < \"3.8\" in /usr/local/lib/python3.6/dist-packages (from JPype1>=0.7.0->konlpy) (3.7.4.3)\n",
            "Requirement already satisfied: six>=1.10.0 in /usr/local/lib/python3.6/dist-packages (from tweepy>=3.7.0->konlpy) (1.15.0)\n",
            "Requirement already satisfied: requests-oauthlib>=0.7.0 in /usr/local/lib/python3.6/dist-packages (from tweepy>=3.7.0->konlpy) (1.3.0)\n",
            "Requirement already satisfied: requests[socks]>=2.11.1 in /usr/local/lib/python3.6/dist-packages (from tweepy>=3.7.0->konlpy) (2.23.0)\n",
            "Requirement already satisfied: oauthlib>=3.0.0 in /usr/local/lib/python3.6/dist-packages (from requests-oauthlib>=0.7.0->tweepy>=3.7.0->konlpy) (3.1.0)\n",
            "Requirement already satisfied: urllib3!=1.25.0,!=1.25.1,<1.26,>=1.21.1 in /usr/local/lib/python3.6/dist-packages (from requests[socks]>=2.11.1->tweepy>=3.7.0->konlpy) (1.24.3)\n",
            "Requirement already satisfied: idna<3,>=2.5 in /usr/local/lib/python3.6/dist-packages (from requests[socks]>=2.11.1->tweepy>=3.7.0->konlpy) (2.10)\n",
            "Requirement already satisfied: chardet<4,>=3.0.2 in /usr/local/lib/python3.6/dist-packages (from requests[socks]>=2.11.1->tweepy>=3.7.0->konlpy) (3.0.4)\n",
            "Requirement already satisfied: certifi>=2017.4.17 in /usr/local/lib/python3.6/dist-packages (from requests[socks]>=2.11.1->tweepy>=3.7.0->konlpy) (2020.12.5)\n",
            "Requirement already satisfied: PySocks!=1.5.7,>=1.5.6; extra == \"socks\" in /usr/local/lib/python3.6/dist-packages (from requests[socks]>=2.11.1->tweepy>=3.7.0->konlpy) (1.7.1)\n",
            "Installing collected packages: JPype1, beautifulsoup4, tweepy, colorama, konlpy\n",
            "  Found existing installation: beautifulsoup4 4.6.3\n",
            "    Uninstalling beautifulsoup4-4.6.3:\n",
            "      Successfully uninstalled beautifulsoup4-4.6.3\n",
            "  Found existing installation: tweepy 3.6.0\n",
            "    Uninstalling tweepy-3.6.0:\n",
            "      Successfully uninstalled tweepy-3.6.0\n",
            "Successfully installed JPype1-1.2.0 beautifulsoup4-4.6.0 colorama-0.4.4 konlpy-0.5.2 tweepy-3.10.0\n"
          ],
          "name": "stdout"
        }
      ]
    },
    {
      "cell_type": "code",
      "metadata": {
        "trusted": true,
        "id": "KZcW872104JU",
        "outputId": "8bc351ad-f990-443a-d9a2-3cc9feb8b087",
        "colab": {
          "base_uri": "https://localhost:8080/"
        }
      },
      "source": [
        "# keras module for building LSTM \n",
        "from keras.preprocessing.sequence import pad_sequences\n",
        "from keras.layers import Input, Embedding, LSTM, Dense, Dropout,Conv1D, MaxPooling1D, Flatten, Add, LeakyReLU\n",
        "from keras.preprocessing.text import Tokenizer\n",
        "from keras.callbacks import EarlyStopping\n",
        "from keras.models import Sequential, model_from_json\n",
        "from tensorflow.python.framework import tensor_shape\n",
        "import keras.utils as ku \n",
        "\n",
        "import tensorflow as tf\n",
        "from tensorflow.keras.models import Model\n",
        "from tensorflow.keras.layers import (Input,\n",
        "                                     Dense, \n",
        "                                     BatchNormalization, \n",
        "                                     LeakyReLU,\n",
        "                                     Softmax,\n",
        "                                     Reshape, \n",
        "                                     Conv2DTranspose,\n",
        "                                     Conv2D,\n",
        "                                     Dropout,\n",
        "                                     Flatten,\n",
        "                                     Concatenate,\n",
        "                                     Lambda)\n",
        "import matplotlib.pyplot as plt\n",
        "# set seeds for reproducability\n",
        "from tensorflow.random import set_seed\n",
        "from numpy.random import seed\n",
        "set_seed(2)\n",
        "seed(1)\n",
        "\n",
        "import pandas as pd\n",
        "import numpy as np\n",
        "import string, os \n",
        "\n",
        "import urllib.request\n",
        "import nltk\n",
        "nltk.download('punkt')\n",
        "\n",
        "from konlpy.tag import Okt\n",
        "\n",
        "import warnings\n",
        "warnings.filterwarnings(\"ignore\")\n",
        "warnings.simplefilter(action='ignore', category=FutureWarning)"
      ],
      "execution_count": 4,
      "outputs": [
        {
          "output_type": "stream",
          "text": [
            "[nltk_data] Downloading package punkt to /root/nltk_data...\n",
            "[nltk_data]   Unzipping tokenizers/punkt.zip.\n"
          ],
          "name": "stdout"
        }
      ]
    },
    {
      "cell_type": "markdown",
      "metadata": {
        "id": "fk6Ud-nJOCUY"
      },
      "source": [
        "##4.2 한국어 Sample data 수집"
      ]
    },
    {
      "cell_type": "code",
      "metadata": {
        "trusted": true,
        "id": "za5UL6kk04JV"
      },
      "source": [
        "# 간단한 전처리\n",
        "def clean_text(txt):\n",
        "    txt = txt.replace('\\n',' ')\n",
        "    txt = txt.replace('\\r',' ')    \n",
        "    txt = txt.replace('=','')\n",
        "    txt = txt.replace('\\\"','')   \n",
        "    txt = txt.replace('\\'','')\n",
        "    txt = txt.replace(',','')\n",
        "    txt = txt.replace('..','')\n",
        "    txt = txt.replace('.','. ')\n",
        "    txt = txt.replace('  ',' ')\n",
        "    txt = txt.replace('  ',' ')    \n",
        "    txt = txt.replace('  ',' ')   \n",
        "    txt = txt.replace('  ',' ')           \n",
        "    return txt "
      ],
      "execution_count": 5,
      "outputs": []
    },
    {
      "cell_type": "code",
      "metadata": {
        "trusted": true,
        "id": "biAzDhZx04JW"
      },
      "source": [
        "# load ascii text and covert to lowercase\n",
        "\n",
        "def get_sample_text(target_url):\n",
        "    raw_text = urllib.request.urlopen(target_url).read().decode('utf-8')\n",
        "    return nltk.sent_tokenize(clean_text(raw_text))"
      ],
      "execution_count": 6,
      "outputs": []
    },
    {
      "cell_type": "code",
      "metadata": {
        "trusted": true,
        "id": "IiMMX5-304JW"
      },
      "source": [
        "ko_sentences_dataset = []\n",
        "if USE_PRETRAINED_MODEL:\n",
        "    ko_sentences_dataset += get_sample_text(\"https://raw.githubusercontent.com/dolmani38/Summary/master/data/korean_sample.txt\")\n",
        "    # 여기서 계속 수집...\n",
        "    ko_sentences_dataset += get_sample_text(\"https://raw.githubusercontent.com/dolmani38/Summary/master/data/%EC%95%A0%EA%B1%B0%EC%84%9C%ED%81%AC%EB%A6%AC%EC%8A%A4%ED%8B%B0-ABC%20%EC%82%B4%EC%9D%B8%EC%82%AC%EA%B1%B4.txt\")\n",
        "\n",
        "    ko_sentences_dataset += get_sample_text(\"https://raw.githubusercontent.com/dolmani38/Summary/master/data/%EC%95%A0%EA%B1%B0%EC%84%9C%ED%81%AC%EB%A6%AC%EC%8A%A4%ED%8B%B0-%EA%B7%B8%EB%A6%AC%EA%B3%A0%20%EC%95%84%EB%AC%B4%EB%8F%84%20%EC%97%86%EC%97%88%EB%8B%A4.txt\")"
      ],
      "execution_count": 7,
      "outputs": []
    },
    {
      "cell_type": "code",
      "metadata": {
        "trusted": true,
        "id": "blAfBUjg04JY"
      },
      "source": [
        "\n",
        "# false 문장을 만들기 위해 shffle 함수 준비\n",
        "import random\n",
        "\n",
        "def shuffling(txt):\n",
        "    txt_list = txt.split(' ')\n",
        "    random.shuffle(txt_list)\n",
        "    return ' '.join(txt_list)\n"
      ],
      "execution_count": 8,
      "outputs": []
    },
    {
      "cell_type": "markdown",
      "metadata": {
        "id": "7C3Ty4amRcQy"
      },
      "source": [
        "## 4.3 한국어 문법 Discriminator 구현"
      ]
    },
    {
      "cell_type": "markdown",
      "metadata": {
        "id": "023xPd72JRoK"
      },
      "source": [
        "###4.3.1 형태소를 feature하는 DNN 모델에 의한 regression 방법\n",
        "\n",
        "koNLPy로 형태소 분석한 (None,128,23) 을 이용하여 regression 하는 방법."
      ]
    },
    {
      "cell_type": "code",
      "metadata": {
        "id": "kSdnpuIDJMku",
        "trusted": false
      },
      "source": [
        "# true 문장, false 문장의 생성\n",
        "ko_grammar_dataset = []\n",
        "\n",
        "if USE_PRETRAINED_MODEL:\n",
        "    for txt in ko_sentences_dataset:\n",
        "        txt = txt.strip()\n",
        "        if len(txt) > 40:\n",
        "            #ko_grammar_dataset.append([txt,1])\n",
        "            txt = txt.replace('.','')\n",
        "            ko_grammar_dataset.append([txt,1]) # '.'의 위치를 보고 True, False를 판단 하기 땜에...\n",
        "            ko_grammar_dataset.append([shuffling(txt),0])\n",
        "        \n",
        "    # dataset을 전체적으로 다시 썩는다.\n",
        "    random.shuffle(ko_grammar_dataset)"
      ],
      "execution_count": null,
      "outputs": []
    },
    {
      "cell_type": "code",
      "metadata": {
        "trusted": true,
        "id": "2-5l3heO04Jb"
      },
      "source": [
        "okt = Okt()\n",
        "\n",
        "# 형태소 Code table의 구성\n",
        "\n",
        "_MAX_MORP_LENGTH = 128\n",
        "_PADDING_CODE = 0  # padding code\n",
        "_MISMATCH_CODE = 1 # mismatch word code               ex) @@@\n",
        "_MISMATCH_WORD = '@@@' # 이거 아래에서 쓴다.\n",
        "\n",
        "morpheme_table = {}\n",
        "morp_code = _MISMATCH_CODE+1\n",
        "morpheme_table['Pad'] = _PADDING_CODE \n",
        "morpheme_table['Mst'] = _MISMATCH_CODE \n",
        "'''\n",
        " Pad               0\n",
        " Mst               1\n",
        " Noun              2\n",
        " Punctuation       3\n",
        " Foreign           4\n",
        " Josa              5\n",
        " Verb              6\n",
        " Modifier          7\n",
        " Adjective         8\n",
        " Suffix            9\n",
        " Adverb            10\n",
        " Number            11\n",
        " Alpha             12\n",
        " Determiner        13\n",
        " Conjunction       14\n",
        " Exclamation       15\n",
        " KoreanParticle    16\n",
        " URL               17\n",
        " VerbPrefix        18\n",
        " Eomi              19\n",
        " Hashtag           20\n",
        " PreEomi           21\n",
        "'''\n",
        "morpheme_table['Noun']=2\n",
        "morpheme_table['Punctuation']=3\n",
        "morpheme_table['Foreign']=4\n",
        "morpheme_table['Josa']=5\n",
        "morpheme_table['Verb']=6\n",
        "morpheme_table['Modifier']=7\n",
        "morpheme_table['Adjective']=8\n",
        "morpheme_table['Suffix']=9\n",
        "morpheme_table['Adverb']=10\n",
        "morpheme_table['Number']=11\n",
        "morpheme_table['Alpha']=12\n",
        "morpheme_table['Determiner']=13\n",
        "morpheme_table['Conjunction']=14\n",
        "morpheme_table['Exclamation']=15\n",
        "morpheme_table['KoreanParticle']=16\n",
        "morpheme_table['URL']=17\n",
        "morpheme_table['VerbPrefix']=18\n",
        "morpheme_table['Eomi']=19\n",
        "morpheme_table['Hashtag']=20\n",
        "morpheme_table['PreEomi']=21\n",
        "morpheme_table['Email']=22"
      ],
      "execution_count": null,
      "outputs": []
    },
    {
      "cell_type": "code",
      "metadata": {
        "trusted": true,
        "id": "AZSOLBzT04Je"
      },
      "source": [
        "\n",
        "print('Korean morpheme code table')\n",
        "print('----------------------------------------------------------')\n",
        "print('  Morpheme        Code')\n",
        "print('')\n",
        "for morp in morpheme_table.keys():\n",
        "    print(f' {morp.ljust(15)}   {morpheme_table[morp]}')\n",
        "print('----------------------------------------------------------')"
      ],
      "execution_count": null,
      "outputs": []
    },
    {
      "cell_type": "code",
      "metadata": {
        "trusted": true,
        "id": "oZeukKit04Jf",
        "outputId": "de745dc8-81c7-402f-d30a-26517a0a5cba"
      },
      "source": [
        "\n",
        "# morpheme 코드 변환기 준비\n",
        "def morpheme_encode(sentence):\n",
        "    encode=[]\n",
        "    morphemes = okt.pos(sentence)\n",
        "    x = np.zeros((_MAX_MORP_LENGTH, len(morpheme_table)), dtype=np.bool)\n",
        "    for i, (word,morp) in enumerate(morphemes):\n",
        "        if i < _MAX_MORP_LENGTH:\n",
        "            code = _MISMATCH_CODE if word==_MISMATCH_WORD else morpheme_table[morp]\n",
        "            x[i,code] = 1.0   \n",
        "    return x\n",
        "\n",
        "ko_morpheme_x = []\n",
        "ko_morpheme_y = []\n",
        "\n",
        "if USE_PRETRAINED_MODEL:\n",
        "    try:\n",
        "        ko_morpheme_x = np.load('ko_morpheme_x.npy')\n",
        "        ko_morpheme_y = np.load('ko_morpheme_y.npy')\n",
        "        print('dataset load from file.')\n",
        "        print('ko_morpheme_x.shape',ko_morpheme_x.shape)\n",
        "        print('ko_morpheme_y.shape',ko_morpheme_y.shape)\n",
        "    except Exception as ex:\n",
        "        print(ex)\n",
        "else:\n",
        "    #true / false 문장을 morpheme 코드로 모두 변환\n",
        "    tc = len(ko_grammar_dataset)\n",
        "\n",
        "    for i, (txt,label) in enumerate(ko_grammar_dataset):\n",
        "        print(f'\\r {i+1}/{tc}', end=\"\", flush=True)\n",
        "        ko_morpheme_x.append(morpheme_encode(txt))\n",
        "        ko_morpheme_y.append([label])\n",
        "\n",
        "    ko_morpheme_x = np.asarray(ko_morpheme_x)\n",
        "    ko_morpheme_y = np.asarray(ko_morpheme_y)\n",
        "    np.save('ko_morpheme_x',ko_morpheme_x)\n",
        "    np.save('ko_morpheme_y',ko_morpheme_y)\n"
      ],
      "execution_count": null,
      "outputs": [
        {
          "output_type": "stream",
          "text": [
            "[Errno 2] No such file or directory: 'ko_morpheme_x.npy'\n"
          ],
          "name": "stdout"
        }
      ]
    },
    {
      "cell_type": "code",
      "metadata": {
        "trusted": true,
        "id": "NMkYGX0u04Jh"
      },
      "source": [
        "\n",
        "from sklearn.model_selection import train_test_split\n",
        "try: \n",
        "    # 20%를 testset으로 사용.,,\n",
        "    X_train, X_test, y_train, y_test = train_test_split(ko_morpheme_x,ko_morpheme_y,test_size=0.2)\n",
        "\n",
        "    print(f'Shape of X_train;{X_train.shape}')\n",
        "    print(f'Shape of X_test ;{X_test.shape}')\n",
        "    print(f'Shape of y_train;{y_train.shape}')\n",
        "    print(f'Shape of y_test ;{y_test.shape}')\n",
        "except Exception as ex:\n",
        "    print(ex)    "
      ],
      "execution_count": null,
      "outputs": []
    },
    {
      "cell_type": "code",
      "metadata": {
        "trusted": true,
        "id": "gv0ScAn304Ji"
      },
      "source": [
        "from keras import backend as K\n",
        "\n",
        "def r2(y_true, y_pred):\n",
        "    \"\"\"\n",
        "    # custom R2-score metrics for keras backend\n",
        "    :param y_true: 실측 데이터\n",
        "    :param y_pred: 모델에 의한 예측 데이테\n",
        "    :return: R^2 value, 이 값이 높다고 (예:0.99)해서 예측 값이 정확 하다고 할 수 는 없음...\n",
        "    \"\"\"\n",
        "    SS_res = K.sum(K.square(y_true - y_pred))\n",
        "    SS_tot = K.sum(K.square(y_true - K.mean(y_true)))\n",
        "    return (1 - SS_res / (SS_tot + K.epsilon()))"
      ],
      "execution_count": null,
      "outputs": []
    },
    {
      "cell_type": "code",
      "metadata": {
        "id": "4x0pHoNB3MSe",
        "trusted": false
      },
      "source": [
        "if USE_PRETRAINED_MODEL:\n",
        "    model_json_url = \"https://raw.githubusercontent.com/dolmani38/Summary/master/models/morpheme_model.json\"\n",
        "    model_weight_url = \"https://github.com/dolmani38/Summary/blob/master/models/morpheme_model.h5?raw=true\"\n",
        "    loaded_model_json = urllib.request.urlopen(model_json_url).read().decode('utf-8')\n",
        "    morpheme_model = model_from_json(loaded_model_json)\n",
        "    urllib.request.urlretrieve(model_weight_url, \"morpheme_model.h5\")\n",
        "    morpheme_model.load_weights(\"morpheme_model.h5\")\n",
        "    morpheme_model.compile(loss= \"mean_squared_error\" , optimizer=\"adam\", metrics=[r2])\n",
        "    print('Use pretrained model...')\n",
        "else:\n",
        "    # model build\n",
        "    morpheme_model = Sequential()\n",
        "    morpheme_model.add(Conv1D(filters=256, kernel_size=4, padding='same',activation='relu',input_shape=(_MAX_MORP_LENGTH, len(morpheme_table))))\n",
        "    morpheme_model.add(MaxPooling1D(pool_size=2))\n",
        "    morpheme_model.add(Conv1D(filters=128, kernel_size=4, padding=\"same\",activation='relu'))\n",
        "    morpheme_model.add(MaxPooling1D(pool_size=2))\n",
        "    morpheme_model.add(Flatten())\n",
        "    morpheme_model.add(Dense(128))\n",
        "    morpheme_model.add(Dense(1, activation='linear'))\n",
        "    morpheme_model.summary() #Print model Summary\n",
        "\n",
        "    morpheme_model.compile(loss= \"mean_squared_error\" , optimizer=\"adam\", metrics=[r2])\n",
        "    hist = morpheme_model.fit(X_train, y_train, epochs=30)\n",
        "\n",
        "discriminator = morpheme_model"
      ],
      "execution_count": null,
      "outputs": []
    },
    {
      "cell_type": "code",
      "metadata": {
        "trusted": true,
        "id": "Sxzfhkx804Jm"
      },
      "source": [
        "\n",
        "# 학습결과 확인\n",
        "try:\n",
        "    results = morpheme_model.evaluate(X_test, y_test)\n",
        "    print('mean_squared_error:',results)\n",
        "\n",
        "    # 학습 결과의 확인\n",
        "    predicts = morpheme_model.predict(X_test)\n",
        "    predicts = np.asarray(predicts)\n",
        "    predicts = [ 1 if x>0.5 else 0 for [x] in predicts]\n",
        "    y = np.asarray(y_test)\n",
        "    y = y.reshape(y.shape[0],)\n",
        "\n",
        "    from sklearn.metrics import classification_report\n",
        "    print(classification_report(y, predicts))\n",
        "except Exception as ex:\n",
        "    print(ex)"
      ],
      "execution_count": null,
      "outputs": []
    },
    {
      "cell_type": "code",
      "metadata": {
        "trusted": true,
        "id": "adKbX4Pg04Jn"
      },
      "source": [
        "if USE_PRETRAINED_MODEL:\n",
        "    pass\n",
        "else:\n",
        "    model_json = morpheme_model.to_json()\n",
        "    with open(\"morpheme_model.json\", \"w\") as json_file:\n",
        "        json_file.write(model_json)\n",
        "    json_file.close()\n",
        "    print(\"save network to morpheme_model.json\")\n",
        "\n",
        "    morpheme_model.save_weights(\"morpheme_model.h5\")\n",
        "    print(\"save weights to morpheme_model.h5\")"
      ],
      "execution_count": null,
      "outputs": []
    },
    {
      "cell_type": "code",
      "metadata": {
        "trusted": true,
        "id": "jAQW6z-F04Jn"
      },
      "source": [
        "def morpheme_discriminator(queries):\n",
        "    # queries : 복수의 문장의 2차원 배열 (None,1)\n",
        "    # return : 결과 score 배열 (None,)\n",
        "    x_codes = []\n",
        "    for query in queries:\n",
        "        x_codes.append(morpheme_encode(query))\n",
        "    scores = morpheme_model.predict(np.array(x_codes))\n",
        "    return scores #1.0 if scores > 0.5 else 0.0 "
      ],
      "execution_count": null,
      "outputs": []
    },
    {
      "cell_type": "code",
      "metadata": {
        "trusted": true,
        "id": "KnNY6kDt04Jo"
      },
      "source": [
        "morpheme_discriminator([' 무럭무럭 자라서, 아기는 소녀가 예쁘고 마음씨 고운 되었어요'])"
      ],
      "execution_count": null,
      "outputs": []
    },
    {
      "cell_type": "markdown",
      "metadata": {
        "id": "lK-Cz12oJzCg"
      },
      "source": [
        "###4.3.2 koBERT에 의한 BertForSequenceClassification 사용 방법\n",
        "\n",
        "koBERT를 이용하여 transformer의 BertForSequenceClassification 을 이용하는 방법."
      ]
    },
    {
      "cell_type": "markdown",
      "metadata": {
        "id": "ROSAkUFsSGwG"
      },
      "source": [
        "#### 4.3.2.1 prepare dataset & train"
      ]
    },
    {
      "cell_type": "code",
      "metadata": {
        "id": "mGAvebzmKKY7",
        "trusted": true,
        "outputId": "cbdf8bd3-8ac0-460a-eeb5-a7efc35a9ddf",
        "colab": {
          "base_uri": "https://localhost:8080/",
          "height": 203
        }
      },
      "source": [
        "# Get the GPU device name.\n",
        "device_name = tf.test.gpu_device_name()\n",
        "\n",
        "# The device name should look like the following:\n",
        "if device_name == '/device:GPU:0':\n",
        "    print('Found GPU at: {}'.format(device_name))\n",
        "else:\n",
        "    raise SystemError('GPU device not found')"
      ],
      "execution_count": 9,
      "outputs": [
        {
          "output_type": "error",
          "ename": "SystemError",
          "evalue": "ignored",
          "traceback": [
            "\u001b[0;31m---------------------------------------------------------------------------\u001b[0m",
            "\u001b[0;31mSystemError\u001b[0m                               Traceback (most recent call last)",
            "\u001b[0;32m<ipython-input-9-fe7b262a03d3>\u001b[0m in \u001b[0;36m<module>\u001b[0;34m()\u001b[0m\n\u001b[1;32m      6\u001b[0m     \u001b[0mprint\u001b[0m\u001b[0;34m(\u001b[0m\u001b[0;34m'Found GPU at: {}'\u001b[0m\u001b[0;34m.\u001b[0m\u001b[0mformat\u001b[0m\u001b[0;34m(\u001b[0m\u001b[0mdevice_name\u001b[0m\u001b[0;34m)\u001b[0m\u001b[0;34m)\u001b[0m\u001b[0;34m\u001b[0m\u001b[0;34m\u001b[0m\u001b[0m\n\u001b[1;32m      7\u001b[0m \u001b[0;32melse\u001b[0m\u001b[0;34m:\u001b[0m\u001b[0;34m\u001b[0m\u001b[0;34m\u001b[0m\u001b[0m\n\u001b[0;32m----> 8\u001b[0;31m     \u001b[0;32mraise\u001b[0m \u001b[0mSystemError\u001b[0m\u001b[0;34m(\u001b[0m\u001b[0;34m'GPU device not found'\u001b[0m\u001b[0;34m)\u001b[0m\u001b[0;34m\u001b[0m\u001b[0;34m\u001b[0m\u001b[0m\n\u001b[0m",
            "\u001b[0;31mSystemError\u001b[0m: GPU device not found"
          ]
        }
      ]
    },
    {
      "cell_type": "code",
      "metadata": {
        "id": "CiJA8T6HKP4k",
        "trusted": true,
        "outputId": "85276291-41cd-41af-ff2f-240126f707ba",
        "colab": {
          "base_uri": "https://localhost:8080/"
        }
      },
      "source": [
        "import torch\n",
        "\n",
        "# If there's a GPU available...\n",
        "if torch.cuda.is_available():    \n",
        "\n",
        "    # Tell PyTorch to use the GPU.    \n",
        "    device = torch.device(\"cuda\")\n",
        "\n",
        "    print('There are %d GPU(s) available.' % torch.cuda.device_count())\n",
        "\n",
        "    print('We will use the GPU:', torch.cuda.get_device_name(0))\n",
        "\n",
        "# If not...\n",
        "else:\n",
        "    print('No GPU available, using the CPU instead.')\n",
        "    device = torch.device(\"cpu\")"
      ],
      "execution_count": 20,
      "outputs": [
        {
          "output_type": "stream",
          "text": [
            "No GPU available, using the CPU instead.\n"
          ],
          "name": "stdout"
        }
      ]
    },
    {
      "cell_type": "code",
      "metadata": {
        "id": "mBoNR8W9KSci",
        "trusted": true
      },
      "source": [
        "\n",
        "# true 문장, false 문장의 생성\n",
        "# Get the lists of sentences and their labels.\n",
        "sentences = []\n",
        "labels = []\n",
        "\n",
        "if USE_PRETRAINED_MODEL:\n",
        "    for txt in ko_sentences_dataset:\n",
        "        txt = txt.strip()\n",
        "        if len(txt) > 40:\n",
        "            #ko_grammar_dataset.append([txt,1])\n",
        "            txt = txt.replace('.','')\n",
        "            sentences.append(txt) # '.'의 위치를 보고 True, False를 판단 하기 땜에...\n",
        "            labels.append(1)\n",
        "            sentences.append(shuffling(txt))\n",
        "            labels.append(0)"
      ],
      "execution_count": 21,
      "outputs": []
    },
    {
      "cell_type": "code",
      "metadata": {
        "id": "JwZt1SivKdpE",
        "trusted": true,
        "outputId": "48d215af-bc9b-45a3-d824-060b569b1770",
        "colab": {
          "base_uri": "https://localhost:8080/"
        }
      },
      "source": [
        "sentences = np.asarray(sentences)\n",
        "labels = np.asarray(labels)\n",
        "\n",
        "print(sentences.shape)\n",
        "print(labels.shape)\n"
      ],
      "execution_count": 22,
      "outputs": [
        {
          "output_type": "stream",
          "text": [
            "(33086,)\n",
            "(33086,)\n"
          ],
          "name": "stdout"
        }
      ]
    },
    {
      "cell_type": "markdown",
      "metadata": {
        "id": "pU9yPEH0Kg_d"
      },
      "source": [
        "* BERT Tokenizer\n",
        "\n",
        "\n",
        "To feed our text to BERT, it must be split into tokens, and then these tokens must be mapped to their index in the tokenizer vocabulary.\n",
        "\n",
        "The tokenization must be performed by the tokenizer included with BERT--the below cell will download this for us. We'll be using the \"uncased\" version here."
      ]
    },
    {
      "cell_type": "markdown",
      "metadata": {
        "id": "JiDPjkegKtGx"
      },
      "source": [
        "ref : https://github.com/monologg/KoBERT-Transformers\n"
      ]
    },
    {
      "cell_type": "code",
      "metadata": {
        "id": "3YGQF2yxKk-i",
        "trusted": true
      },
      "source": [
        "# coding=utf-8\n",
        "# Copyright 2018 Google AI, Google Brain and Carnegie Mellon University Authors and the HuggingFace Inc. team and Jangwon Park\n",
        "#\n",
        "# Licensed under the Apache License, Version 2.0 (the \"License\");\n",
        "# you may not use this file except in compliance with the License.\n",
        "# You may obtain a copy of the License at\n",
        "#\n",
        "#     http://www.apache.org/licenses/LICENSE-2.0\n",
        "#\n",
        "# Unless required by applicable law or agreed to in writing, software\n",
        "# distributed under the License is distributed on an \"AS IS\" BASIS,\n",
        "# WITHOUT WARRANTIES OR CONDITIONS OF ANY KIND, either express or implied.\n",
        "# See the License for the specific language governing permissions and\n",
        "# limitations under the License.\n",
        "\"\"\" Tokenization classes for KoBert model.\"\"\"\n",
        "\n",
        "\n",
        "import logging\n",
        "import os\n",
        "import unicodedata\n",
        "from shutil import copyfile\n",
        "\n",
        "from transformers import PreTrainedTokenizer\n",
        "\n",
        "\n",
        "logger = logging.getLogger(__name__)\n",
        "\n",
        "VOCAB_FILES_NAMES = {\"vocab_file\": \"tokenizer_78b3253a26.model\",\n",
        "                     \"vocab_txt\": \"vocab.txt\"}\n",
        "\n",
        "PRETRAINED_VOCAB_FILES_MAP = {\n",
        "    \"vocab_file\": {\n",
        "        \"monologg/kobert\": \"https://s3.amazonaws.com/models.huggingface.co/bert/monologg/kobert/tokenizer_78b3253a26.model\",\n",
        "        \"monologg/kobert-lm\": \"https://s3.amazonaws.com/models.huggingface.co/bert/monologg/kobert-lm/tokenizer_78b3253a26.model\",\n",
        "        \"monologg/distilkobert\": \"https://s3.amazonaws.com/models.huggingface.co/bert/monologg/distilkobert/tokenizer_78b3253a26.model\"\n",
        "    },\n",
        "    \"vocab_txt\": {\n",
        "        \"monologg/kobert\": \"https://s3.amazonaws.com/models.huggingface.co/bert/monologg/kobert/vocab.txt\",\n",
        "        \"monologg/kobert-lm\": \"https://s3.amazonaws.com/models.huggingface.co/bert/monologg/kobert-lm/vocab.txt\",\n",
        "        \"monologg/distilkobert\": \"https://s3.amazonaws.com/models.huggingface.co/bert/monologg/distilkobert/vocab.txt\"\n",
        "    }\n",
        "}\n",
        "\n",
        "PRETRAINED_POSITIONAL_EMBEDDINGS_SIZES = {\n",
        "    \"monologg/kobert\": 512,\n",
        "    \"monologg/kobert-lm\": 512,\n",
        "    \"monologg/distilkobert\": 512\n",
        "}\n",
        "\n",
        "PRETRAINED_INIT_CONFIGURATION = {\n",
        "    \"monologg/kobert\": {\"do_lower_case\": False},\n",
        "    \"monologg/kobert-lm\": {\"do_lower_case\": False},\n",
        "    \"monologg/distilkobert\": {\"do_lower_case\": False}\n",
        "}\n",
        "\n",
        "SPIECE_UNDERLINE = u'▁'\n",
        "\n",
        "\n",
        "class KoBertTokenizer(PreTrainedTokenizer):\n",
        "    \"\"\"\n",
        "        SentencePiece based tokenizer. Peculiarities:\n",
        "            - requires `SentencePiece <https://github.com/google/sentencepiece>`_\n",
        "    \"\"\"\n",
        "    vocab_files_names = VOCAB_FILES_NAMES\n",
        "    pretrained_vocab_files_map = PRETRAINED_VOCAB_FILES_MAP\n",
        "    pretrained_init_configuration = PRETRAINED_INIT_CONFIGURATION\n",
        "    max_model_input_sizes = PRETRAINED_POSITIONAL_EMBEDDINGS_SIZES\n",
        "\n",
        "    def __init__(\n",
        "            self,\n",
        "            vocab_file,\n",
        "            vocab_txt,\n",
        "            do_lower_case=False,\n",
        "            remove_space=True,\n",
        "            keep_accents=False,\n",
        "            unk_token=\"[UNK]\",\n",
        "            sep_token=\"[SEP]\",\n",
        "            pad_token=\"[PAD]\",\n",
        "            cls_token=\"[CLS]\",\n",
        "            mask_token=\"[MASK]\",\n",
        "            **kwargs):\n",
        "        super().__init__(\n",
        "            unk_token=unk_token,\n",
        "            sep_token=sep_token,\n",
        "            pad_token=pad_token,\n",
        "            cls_token=cls_token,\n",
        "            mask_token=mask_token,\n",
        "            **kwargs\n",
        "        )\n",
        "\n",
        "        # Build vocab\n",
        "        self.token2idx = dict()\n",
        "        self.idx2token = []\n",
        "        with open(vocab_txt, 'r', encoding='utf-8') as f:\n",
        "            for idx, token in enumerate(f):\n",
        "                token = token.strip()\n",
        "                self.token2idx[token] = idx\n",
        "                self.idx2token.append(token)\n",
        "\n",
        "        try:\n",
        "            import sentencepiece as spm\n",
        "        except ImportError:\n",
        "            logger.warning(\"You need to install SentencePiece to use KoBertTokenizer: https://github.com/google/sentencepiece\"\n",
        "                           \"pip install sentencepiece\")\n",
        "\n",
        "        self.do_lower_case = do_lower_case\n",
        "        self.remove_space = remove_space\n",
        "        self.keep_accents = keep_accents\n",
        "        self.vocab_file = vocab_file\n",
        "        self.vocab_txt = vocab_txt\n",
        "\n",
        "        self.sp_model = spm.SentencePieceProcessor()\n",
        "        self.sp_model.Load(vocab_file)\n",
        "\n",
        "    @property\n",
        "    def vocab_size(self):\n",
        "        return len(self.idx2token)\n",
        "\n",
        "    def get_vocab(self):\n",
        "        return dict(self.token2idx, **self.added_tokens_encoder)\n",
        "\n",
        "    def __getstate__(self):\n",
        "        state = self.__dict__.copy()\n",
        "        state[\"sp_model\"] = None\n",
        "        return state\n",
        "\n",
        "    def __setstate__(self, d):\n",
        "        self.__dict__ = d\n",
        "        try:\n",
        "            import sentencepiece as spm\n",
        "        except ImportError:\n",
        "            logger.warning(\"You need to install SentencePiece to use KoBertTokenizer: https://github.com/google/sentencepiece\"\n",
        "                           \"pip install sentencepiece\")\n",
        "        self.sp_model = spm.SentencePieceProcessor()\n",
        "        self.sp_model.Load(self.vocab_file)\n",
        "\n",
        "    def preprocess_text(self, inputs):\n",
        "        if self.remove_space:\n",
        "            outputs = \" \".join(inputs.strip().split())\n",
        "        else:\n",
        "            outputs = inputs\n",
        "        outputs = outputs.replace(\"``\", '\"').replace(\"''\", '\"')\n",
        "\n",
        "        if not self.keep_accents:\n",
        "            outputs = unicodedata.normalize('NFKD', outputs)\n",
        "            outputs = \"\".join([c for c in outputs if not unicodedata.combining(c)])\n",
        "        if self.do_lower_case:\n",
        "            outputs = outputs.lower()\n",
        "\n",
        "        return outputs\n",
        "\n",
        "    def _tokenize(self, text, return_unicode=True, sample=False):\n",
        "        \"\"\" Tokenize a string. \"\"\"\n",
        "        text = self.preprocess_text(text)\n",
        "\n",
        "        if not sample:\n",
        "            pieces = self.sp_model.EncodeAsPieces(text)\n",
        "        else:\n",
        "            pieces = self.sp_model.SampleEncodeAsPieces(text, 64, 0.1)\n",
        "        new_pieces = []\n",
        "        for piece in pieces:\n",
        "            if len(piece) > 1 and piece[-1] == str(\",\") and piece[-2].isdigit():\n",
        "                cur_pieces = self.sp_model.EncodeAsPieces(piece[:-1].replace(SPIECE_UNDERLINE, \"\"))\n",
        "                if piece[0] != SPIECE_UNDERLINE and cur_pieces[0][0] == SPIECE_UNDERLINE:\n",
        "                    if len(cur_pieces[0]) == 1:\n",
        "                        cur_pieces = cur_pieces[1:]\n",
        "                    else:\n",
        "                        cur_pieces[0] = cur_pieces[0][1:]\n",
        "                cur_pieces.append(piece[-1])\n",
        "                new_pieces.extend(cur_pieces)\n",
        "            else:\n",
        "                new_pieces.append(piece)\n",
        "\n",
        "        return new_pieces\n",
        "\n",
        "    def _convert_token_to_id(self, token):\n",
        "        \"\"\" Converts a token (str/unicode) in an id using the vocab. \"\"\"\n",
        "        return self.token2idx.get(token, self.token2idx[self.unk_token])\n",
        "\n",
        "    def _convert_id_to_token(self, index, return_unicode=True):\n",
        "        \"\"\"Converts an index (integer) in a token (string/unicode) using the vocab.\"\"\"\n",
        "        return self.idx2token[index]\n",
        "\n",
        "    def convert_tokens_to_string(self, tokens):\n",
        "        \"\"\"Converts a sequence of tokens (strings for sub-words) in a single string.\"\"\"\n",
        "        out_string = \"\".join(tokens).replace(SPIECE_UNDERLINE, \" \").strip()\n",
        "        return out_string\n",
        "\n",
        "    def build_inputs_with_special_tokens(self, token_ids_0, token_ids_1=None):\n",
        "        \"\"\"\n",
        "        Build model inputs from a sequence or a pair of sequence for sequence classification tasks\n",
        "        by concatenating and adding special tokens.\n",
        "        A KoBERT sequence has the following format:\n",
        "            single sequence: [CLS] X [SEP]\n",
        "            pair of sequences: [CLS] A [SEP] B [SEP]\n",
        "        \"\"\"\n",
        "        if token_ids_1 is None:\n",
        "            return [self.cls_token_id] + token_ids_0 + [self.sep_token_id]\n",
        "        cls = [self.cls_token_id]\n",
        "        sep = [self.sep_token_id]\n",
        "        return cls + token_ids_0 + sep + token_ids_1 + sep\n",
        "\n",
        "    def get_special_tokens_mask(self, token_ids_0, token_ids_1=None, already_has_special_tokens=False):\n",
        "        \"\"\"\n",
        "        Retrieves sequence ids from a token list that has no special tokens added. This method is called when adding\n",
        "        special tokens using the tokenizer ``prepare_for_model`` or ``encode_plus`` methods.\n",
        "        Args:\n",
        "            token_ids_0: list of ids (must not contain special tokens)\n",
        "            token_ids_1: Optional list of ids (must not contain special tokens), necessary when fetching sequence ids\n",
        "                for sequence pairs\n",
        "            already_has_special_tokens: (default False) Set to True if the token list is already formated with\n",
        "                special tokens for the model\n",
        "        Returns:\n",
        "            A list of integers in the range [0, 1]: 0 for a special token, 1 for a sequence token.\n",
        "        \"\"\"\n",
        "\n",
        "        if already_has_special_tokens:\n",
        "            if token_ids_1 is not None:\n",
        "                raise ValueError(\n",
        "                    \"You should not supply a second sequence if the provided sequence of \"\n",
        "                    \"ids is already formated with special tokens for the model.\"\n",
        "                )\n",
        "            return list(map(lambda x: 1 if x in [self.sep_token_id, self.cls_token_id] else 0, token_ids_0))\n",
        "\n",
        "        if token_ids_1 is not None:\n",
        "            return [1] + ([0] * len(token_ids_0)) + [1] + ([0] * len(token_ids_1)) + [1]\n",
        "        return [1] + ([0] * len(token_ids_0)) + [1]\n",
        "\n",
        "    def create_token_type_ids_from_sequences(self, token_ids_0, token_ids_1=None):\n",
        "        \"\"\"\n",
        "        Creates a mask from the two sequences passed to be used in a sequence-pair classification task.\n",
        "        A KoBERT sequence pair mask has the following format:\n",
        "        0 0 0 0 0 0 0 0 0 0 1 1 1 1 1 1 1 1 1 1 1\n",
        "        | first sequence    | second sequence\n",
        "        if token_ids_1 is None, only returns the first portion of the mask (0's).\n",
        "        \"\"\"\n",
        "        sep = [self.sep_token_id]\n",
        "        cls = [self.cls_token_id]\n",
        "        if token_ids_1 is None:\n",
        "            return len(cls + token_ids_0 + sep) * [0]\n",
        "        return len(cls + token_ids_0 + sep) * [0] + len(token_ids_1 + sep) * [1]\n",
        "\n",
        "    def save_vocabulary(self, save_directory):\n",
        "        \"\"\" Save the sentencepiece vocabulary (copy original file) and special tokens file\n",
        "            to a directory.\n",
        "        \"\"\"\n",
        "        if not os.path.isdir(save_directory):\n",
        "            logger.error(\"Vocabulary path ({}) should be a directory\".format(save_directory))\n",
        "            return\n",
        "\n",
        "        # 1. Save sentencepiece model\n",
        "        out_vocab_model = os.path.join(save_directory, VOCAB_FILES_NAMES[\"vocab_file\"])\n",
        "\n",
        "        if os.path.abspath(self.vocab_file) != os.path.abspath(out_vocab_model):\n",
        "            copyfile(self.vocab_file, out_vocab_model)\n",
        "\n",
        "        # 2. Save vocab.txt\n",
        "        index = 0\n",
        "        out_vocab_txt = os.path.join(save_directory, VOCAB_FILES_NAMES[\"vocab_txt\"])\n",
        "        with open(out_vocab_txt, \"w\", encoding=\"utf-8\") as writer:\n",
        "            for token, token_index in sorted(self.token2idx.items(), key=lambda kv: kv[1]):\n",
        "                if index != token_index:\n",
        "                    logger.warning(\n",
        "                        \"Saving vocabulary to {}: vocabulary indices are not consecutive.\"\n",
        "                        \" Please check that the vocabulary is not corrupted!\".format(out_vocab_txt)\n",
        "                    )\n",
        "                    index = token_index\n",
        "                writer.write(token + \"\\n\")\n",
        "                index += 1\n",
        "\n",
        "        return out_vocab_model, out_vocab_txt"
      ],
      "execution_count": 23,
      "outputs": []
    },
    {
      "cell_type": "code",
      "metadata": {
        "id": "InKjfah3Kw1x",
        "trusted": true,
        "outputId": "7ab54c05-a8dd-4b03-8b1b-e855f5f496bd",
        "colab": {
          "base_uri": "https://localhost:8080/"
        }
      },
      "source": [
        "from transformers import BertTokenizer, AutoTokenizer\n",
        "\n",
        "# Load the BERT tokenizer.\n",
        "print('Loading BERT tokenizer...')\n",
        "# 한국어 pre-trained model을 사용해야 하는데.... 일단 이거 사용 'monologg/kobert'\n",
        "tokenizer = KoBertTokenizer.from_pretrained('monologg/kobert')"
      ],
      "execution_count": 25,
      "outputs": [
        {
          "output_type": "stream",
          "text": [
            "Loading BERT tokenizer...\n"
          ],
          "name": "stdout"
        }
      ]
    },
    {
      "cell_type": "code",
      "metadata": {
        "id": "0_2qKTCrK57d",
        "trusted": true,
        "outputId": "c5f4bc15-fa57-4678-c45d-1a8e9a548515",
        "colab": {
          "base_uri": "https://localhost:8080/"
        }
      },
      "source": [
        "# Print the original sentence.\n",
        "print(' Original: ', sentences[0])\n",
        "\n",
        "# Print the sentence split into tokens.\n",
        "print('Tokenized: ', tokenizer.tokenize(sentences[0]))\n",
        "\n",
        "# Print the sentence mapped to token ids.\n",
        "print('Token IDs: ', tokenizer.convert_tokens_to_ids(tokenizer.tokenize(sentences[0])))"
      ],
      "execution_count": 26,
      "outputs": [
        {
          "output_type": "stream",
          "text": [
            " Original:  빌어먹을 이제 겨우 18세인 자신이 벌써 약혼을 하고 일 년 후 결혼을 해야 하다니어이가없다\n",
            "Tokenized:  ['▁빌', '어', '먹', '을', '▁이제', '▁', '겨', '우', '▁18', '세', '인', '▁자신이', '▁벌써', '▁약', '혼', '을', '▁하고', '▁일', '▁', '년', '▁후', '▁결혼', '을', '▁해야', '▁하다', '니', '어', '이', '가', '없', '다']\n",
            "Token IDs:  [2549, 6855, 6183, 7088, 3742, 517, 5411, 7005, 547, 6579, 7119, 3914, 2311, 3211, 7931, 7088, 4926, 3803, 517, 5712, 5176, 950, 7088, 5010, 4932, 5770, 6855, 7096, 5330, 6881, 5782]\n"
          ],
          "name": "stdout"
        }
      ]
    },
    {
      "cell_type": "code",
      "metadata": {
        "id": "NL-k91RJK8SZ",
        "trusted": true,
        "outputId": "1900e2b9-0f7f-4d52-bc0f-d3b86ddf8e9a",
        "colab": {
          "base_uri": "https://localhost:8080/"
        }
      },
      "source": [
        "# Tokenize all of the sentences and map the tokens to thier word IDs.\n",
        "input_ids = []\n",
        "attention_masks = []\n",
        "\n",
        "# For every sentence...\n",
        "for sent in sentences:\n",
        "    # `encode_plus` will:\n",
        "    #   (1) Tokenize the sentence.\n",
        "    #   (2) Prepend the `[CLS]` token to the start.\n",
        "    #   (3) Append the `[SEP]` token to the end.\n",
        "    #   (4) Map tokens to their IDs.\n",
        "    #   (5) Pad or truncate the sentence to `max_length`\n",
        "    #   (6) Create attention masks for [PAD] tokens.\n",
        "    encoded_dict = tokenizer.encode_plus(\n",
        "                        sent,                      # Sentence to encode.\n",
        "                        add_special_tokens = True, # Add '[CLS]' and '[SEP]'\n",
        "                        max_length = 64,           # Pad & truncate all sentences.\n",
        "                        pad_to_max_length = True,\n",
        "                        return_attention_mask = True,   # Construct attn. masks.\n",
        "                        return_tensors = 'pt',     # Return pytorch tensors.\n",
        "                        truncation = True,\n",
        "                   )\n",
        "    \n",
        "    # Add the encoded sentence to the list.    \n",
        "    input_ids.append(encoded_dict['input_ids'])\n",
        "    \n",
        "    # And its attention mask (simply differentiates padding from non-padding).\n",
        "    attention_masks.append(encoded_dict['attention_mask'])\n",
        "\n",
        "# Convert the lists into tensors.\n",
        "input_ids = torch.cat(input_ids, dim=0)\n",
        "attention_masks = torch.cat(attention_masks, dim=0)\n",
        "labels = torch.tensor(labels)\n",
        "\n",
        "# Print sentence 0, now as a list of IDs.\n",
        "print('Original: ', sentences[0])\n",
        "print('Token IDs:', input_ids[0])"
      ],
      "execution_count": 27,
      "outputs": [
        {
          "output_type": "stream",
          "text": [
            "Original:  빌어먹을 이제 겨우 18세인 자신이 벌써 약혼을 하고 일 년 후 결혼을 해야 하다니어이가없다\n",
            "Token IDs: tensor([   2, 2549, 6855, 6183, 7088, 3742,  517, 5411, 7005,  547, 6579, 7119,\n",
            "        3914, 2311, 3211, 7931, 7088, 4926, 3803,  517, 5712, 5176,  950, 7088,\n",
            "        5010, 4932, 5770, 6855, 7096, 5330, 6881, 5782,    3,    1,    1,    1,\n",
            "           1,    1,    1,    1,    1,    1,    1,    1,    1,    1,    1,    1,\n",
            "           1,    1,    1,    1,    1,    1,    1,    1,    1,    1,    1,    1,\n",
            "           1,    1,    1,    1])\n"
          ],
          "name": "stdout"
        }
      ]
    },
    {
      "cell_type": "code",
      "metadata": {
        "id": "m07ebNTSLD7U",
        "trusted": true,
        "outputId": "5b0e7d89-53f5-4b06-cf8a-11404bfff166",
        "colab": {
          "base_uri": "https://localhost:8080/"
        }
      },
      "source": [
        "# Training & Validation Split\n",
        "# Divide up our training set to use 90% for training and 10% for validation.\n",
        "\n",
        "from torch.utils.data import TensorDataset, random_split\n",
        "\n",
        "# Combine the training inputs into a TensorDataset.\n",
        "dataset = TensorDataset(input_ids, attention_masks, labels)\n",
        "\n",
        "# Create a 90-10 train-validation split.\n",
        "\n",
        "# Calculate the number of samples to include in each set.\n",
        "train_size = int(0.9 * len(dataset))\n",
        "val_size = len(dataset) - train_size\n",
        "\n",
        "# Divide the dataset by randomly selecting samples.\n",
        "train_dataset, val_dataset = random_split(dataset, [train_size, val_size])\n",
        "\n",
        "print('{:>5,} training samples'.format(train_size))\n",
        "print('{:>5,} validation samples'.format(val_size))"
      ],
      "execution_count": 28,
      "outputs": [
        {
          "output_type": "stream",
          "text": [
            "29,777 training samples\n",
            "3,309 validation samples\n"
          ],
          "name": "stdout"
        }
      ]
    },
    {
      "cell_type": "code",
      "metadata": {
        "id": "vwvA_z7DLM_n",
        "trusted": true
      },
      "source": [
        "from torch.utils.data import DataLoader, RandomSampler, SequentialSampler\n",
        "\n",
        "# The DataLoader needs to know our batch size for training, so we specify it \n",
        "# here. For fine-tuning BERT on a specific task, the authors recommend a batch \n",
        "# size of 16 or 32.\n",
        "batch_size = 32\n",
        "\n",
        "# Create the DataLoaders for our training and validation sets.\n",
        "# We'll take training samples in random order. \n",
        "train_dataloader = DataLoader(\n",
        "            train_dataset,  # The training samples.\n",
        "            sampler = RandomSampler(train_dataset), # Select batches randomly\n",
        "            batch_size = batch_size # Trains with this batch size.\n",
        "        )\n",
        "\n",
        "# For validation the order doesn't matter, so we'll just read them sequentially.\n",
        "validation_dataloader = DataLoader(\n",
        "            val_dataset, # The validation samples.\n",
        "            sampler = SequentialSampler(val_dataset), # Pull out batches sequentially.\n",
        "            batch_size = batch_size # Evaluate with this batch size.\n",
        "        )"
      ],
      "execution_count": 29,
      "outputs": []
    },
    {
      "cell_type": "code",
      "metadata": {
        "id": "2uKWUDkSLPoa",
        "trusted": true
      },
      "source": [
        "# BertForSequenceClassification\n",
        "\n",
        "from transformers import BertForSequenceClassification, AdamW, BertConfig\n",
        "\n",
        "# Load BertForSequenceClassification, the pretrained BERT model with a single \n",
        "# linear classification layer on top. \n",
        "model = BertForSequenceClassification.from_pretrained(\n",
        "    \"monologg/kobert\", # Use the 12-layer BERT model, with an uncased vocab.\n",
        "    num_labels = 2, # The number of output labels--2 for binary classification.\n",
        "                    # You can increase this for multi-class tasks.   \n",
        "    output_attentions = False, # Whether the model returns attentions weights.\n",
        "    output_hidden_states = False, # Whether the model returns all hidden-states.\n",
        ")\n",
        "\n",
        "# Tell pytorch to run this model on the GPU.\n",
        "model.cuda()"
      ],
      "execution_count": null,
      "outputs": []
    },
    {
      "cell_type": "code",
      "metadata": {
        "id": "PnLoRebHLVQf",
        "trusted": true
      },
      "source": [
        "# Get all of the model's parameters as a list of tuples.\n",
        "params = list(model.named_parameters())\n",
        "\n",
        "print('The BERT model has {:} different named parameters.\\n'.format(len(params)))\n",
        "\n",
        "print('==== Embedding Layer ====\\n')\n",
        "\n",
        "for p in params[0:5]:\n",
        "    print(\"{:<55} {:>12}\".format(p[0], str(tuple(p[1].size()))))\n",
        "\n",
        "print('\\n==== First Transformer ====\\n')\n",
        "\n",
        "for p in params[5:21]:\n",
        "    print(\"{:<55} {:>12}\".format(p[0], str(tuple(p[1].size()))))\n",
        "\n",
        "print('\\n==== Output Layer ====\\n')\n",
        "\n",
        "for p in params[-4:]:\n",
        "    print(\"{:<55} {:>12}\".format(p[0], str(tuple(p[1].size()))))"
      ],
      "execution_count": null,
      "outputs": []
    },
    {
      "cell_type": "code",
      "metadata": {
        "id": "GnBpRs9WLZj5",
        "trusted": true
      },
      "source": [
        "# Note: AdamW is a class from the huggingface library (as opposed to pytorch) \n",
        "# I believe the 'W' stands for 'Weight Decay fix\"\n",
        "optimizer = AdamW(model.parameters(),\n",
        "                  lr = 2e-5, # args.learning_rate - default is 5e-5, our notebook had 2e-5\n",
        "                  eps = 1e-8 # args.adam_epsilon  - default is 1e-8.\n",
        "                )\n"
      ],
      "execution_count": null,
      "outputs": []
    },
    {
      "cell_type": "code",
      "metadata": {
        "id": "Va3f2zjfLc6r",
        "trusted": true
      },
      "source": [
        "from transformers import get_linear_schedule_with_warmup\n",
        "\n",
        "# Number of training epochs. The BERT authors recommend between 2 and 4. \n",
        "# We chose to run for 4, but we'll see later that this may be over-fitting the\n",
        "# training data.\n",
        "epochs = 2\n",
        "\n",
        "# Total number of training steps is [number of batches] x [number of epochs]. \n",
        "# (Note that this is not the same as the number of training samples).\n",
        "total_steps = len(train_dataloader) * epochs\n",
        "\n",
        "# Create the learning rate scheduler.\n",
        "scheduler = get_linear_schedule_with_warmup(optimizer, \n",
        "                                            num_warmup_steps = 0, # Default value in run_glue.py\n",
        "                                            num_training_steps = total_steps)"
      ],
      "execution_count": null,
      "outputs": []
    },
    {
      "cell_type": "code",
      "metadata": {
        "id": "61iQLb8yLftE",
        "trusted": true
      },
      "source": [
        "# Function to calculate the accuracy of our predictions vs labels\n",
        "def flat_accuracy(preds, labels):\n",
        "    pred_flat = np.argmax(preds, axis=1).flatten()\n",
        "    labels_flat = labels.flatten()\n",
        "    return np.sum(pred_flat == labels_flat) / len(labels_flat)"
      ],
      "execution_count": null,
      "outputs": []
    },
    {
      "cell_type": "code",
      "metadata": {
        "id": "ER96qcKFLh7k",
        "trusted": true
      },
      "source": [
        "import time\n",
        "import datetime\n",
        "\n",
        "def format_time(elapsed):\n",
        "    '''\n",
        "    Takes a time in seconds and returns a string hh:mm:ss\n",
        "    '''\n",
        "    # Round to the nearest second.\n",
        "    elapsed_rounded = int(round((elapsed)))\n",
        "    \n",
        "    # Format as hh:mm:ss\n",
        "    return str(datetime.timedelta(seconds=elapsed_rounded))"
      ],
      "execution_count": null,
      "outputs": []
    },
    {
      "cell_type": "code",
      "metadata": {
        "id": "h6oEFBayLkVv",
        "trusted": true
      },
      "source": [
        "# train model\n",
        "\n",
        "import random\n",
        "import numpy as np\n",
        "\n",
        "# This training code is based on the `run_glue.py` script here:\n",
        "# https://github.com/huggingface/transformers/blob/5bfcd0485ece086ebcbed2d008813037968a9e58/examples/run_glue.py#L128\n",
        "\n",
        "# Set the seed value all over the place to make this reproducible.\n",
        "seed_val = 42\n",
        "\n",
        "random.seed(seed_val)\n",
        "np.random.seed(seed_val)\n",
        "torch.manual_seed(seed_val)\n",
        "torch.cuda.manual_seed_all(seed_val)\n",
        "\n",
        "# We'll store a number of quantities such as training and validation loss, \n",
        "# validation accuracy, and timings.\n",
        "training_stats = []\n",
        "\n",
        "# Measure the total training time for the whole run.\n",
        "total_t0 = time.time()\n",
        "\n",
        "# For each epoch...\n",
        "for epoch_i in range(0, epochs):\n",
        "    \n",
        "    # ========================================\n",
        "    #               Training\n",
        "    # ========================================\n",
        "    \n",
        "    # Perform one full pass over the training set.\n",
        "\n",
        "    print(\"\")\n",
        "    print('======== Epoch {:} / {:} ========'.format(epoch_i + 1, epochs))\n",
        "    print('Training...')\n",
        "\n",
        "    # Measure how long the training epoch takes.\n",
        "    t0 = time.time()\n",
        "\n",
        "    # Reset the total loss for this epoch.\n",
        "    total_train_loss = 0\n",
        "\n",
        "    # Put the model into training mode. Don't be mislead--the call to \n",
        "    # `train` just changes the *mode*, it doesn't *perform* the training.\n",
        "    # `dropout` and `batchnorm` layers behave differently during training\n",
        "    # vs. test (source: https://stackoverflow.com/questions/51433378/what-does-model-train-do-in-pytorch)\n",
        "    model.train()\n",
        "\n",
        "    # For each batch of training data...\n",
        "    for step, batch in enumerate(train_dataloader):\n",
        "\n",
        "        # Progress update every 40 batches.\n",
        "        if step % 40 == 0 and not step == 0:\n",
        "            # Calculate elapsed time in minutes.\n",
        "            elapsed = format_time(time.time() - t0)\n",
        "            \n",
        "            # Report progress.\n",
        "            print('  Batch {:>5,}  of  {:>5,}.    Elapsed: {:}.'.format(step, len(train_dataloader), elapsed))\n",
        "\n",
        "        # Unpack this training batch from our dataloader. \n",
        "        #\n",
        "        # As we unpack the batch, we'll also copy each tensor to the GPU using the \n",
        "        # `to` method.\n",
        "        #\n",
        "        # `batch` contains three pytorch tensors:\n",
        "        #   [0]: input ids \n",
        "        #   [1]: attention masks\n",
        "        #   [2]: labels \n",
        "        b_input_ids = batch[0].to(device)\n",
        "        b_input_mask = batch[1].to(device)\n",
        "        b_labels = batch[2].to(device)\n",
        "\n",
        "        # Always clear any previously calculated gradients before performing a\n",
        "        # backward pass. PyTorch doesn't do this automatically because \n",
        "        # accumulating the gradients is \"convenient while training RNNs\". \n",
        "        # (source: https://stackoverflow.com/questions/48001598/why-do-we-need-to-call-zero-grad-in-pytorch)\n",
        "        model.zero_grad()        \n",
        "\n",
        "        # Perform a forward pass (evaluate the model on this training batch).\n",
        "        # The documentation for this `model` function is here: \n",
        "        # https://huggingface.co/transformers/v2.2.0/model_doc/bert.html#transformers.BertForSequenceClassification\n",
        "        # It returns different numbers of parameters depending on what arguments\n",
        "        # arge given and what flags are set. For our useage here, it returns\n",
        "        # the loss (because we provided labels) and the \"logits\"--the model\n",
        "        # outputs prior to activation.\n",
        "        loss, logits = model(b_input_ids, \n",
        "                             token_type_ids=None, \n",
        "                             attention_mask=b_input_mask, \n",
        "                             labels=b_labels)\n",
        "\n",
        "        # Accumulate the training loss over all of the batches so that we can\n",
        "        # calculate the average loss at the end. `loss` is a Tensor containing a\n",
        "        # single value; the `.item()` function just returns the Python value \n",
        "        # from the tensor.\n",
        "        total_train_loss += loss.item()\n",
        "\n",
        "        # Perform a backward pass to calculate the gradients.\n",
        "        loss.backward()\n",
        "\n",
        "        # Clip the norm of the gradients to 1.0.\n",
        "        # This is to help prevent the \"exploding gradients\" problem.\n",
        "        torch.nn.utils.clip_grad_norm_(model.parameters(), 1.0)\n",
        "\n",
        "        # Update parameters and take a step using the computed gradient.\n",
        "        # The optimizer dictates the \"update rule\"--how the parameters are\n",
        "        # modified based on their gradients, the learning rate, etc.\n",
        "        optimizer.step()\n",
        "\n",
        "        # Update the learning rate.\n",
        "        scheduler.step()\n",
        "\n",
        "    # Calculate the average loss over all of the batches.\n",
        "    avg_train_loss = total_train_loss / len(train_dataloader)            \n",
        "    \n",
        "    # Measure how long this epoch took.\n",
        "    training_time = format_time(time.time() - t0)\n",
        "\n",
        "    print(\"\")\n",
        "    print(\"  Average training loss: {0:.2f}\".format(avg_train_loss))\n",
        "    print(\"  Training epcoh took: {:}\".format(training_time))\n",
        "        \n",
        "    # ========================================\n",
        "    #               Validation\n",
        "    # ========================================\n",
        "    # After the completion of each training epoch, measure our performance on\n",
        "    # our validation set.\n",
        "\n",
        "    print(\"\")\n",
        "    print(\"Running Validation...\")\n",
        "\n",
        "    t0 = time.time()\n",
        "\n",
        "    # Put the model in evaluation mode--the dropout layers behave differently\n",
        "    # during evaluation.\n",
        "    model.eval()\n",
        "\n",
        "    # Tracking variables \n",
        "    total_eval_accuracy = 0\n",
        "    total_eval_loss = 0\n",
        "    nb_eval_steps = 0\n",
        "\n",
        "    # Evaluate data for one epoch\n",
        "    for batch in validation_dataloader:\n",
        "        \n",
        "        # Unpack this training batch from our dataloader. \n",
        "        #\n",
        "        # As we unpack the batch, we'll also copy each tensor to the GPU using \n",
        "        # the `to` method.\n",
        "        #\n",
        "        # `batch` contains three pytorch tensors:\n",
        "        #   [0]: input ids \n",
        "        #   [1]: attention masks\n",
        "        #   [2]: labels \n",
        "        b_input_ids = batch[0].to(device)\n",
        "        b_input_mask = batch[1].to(device)\n",
        "        b_labels = batch[2].to(device)\n",
        "        \n",
        "        # Tell pytorch not to bother with constructing the compute graph during\n",
        "        # the forward pass, since this is only needed for backprop (training).\n",
        "        with torch.no_grad():        \n",
        "\n",
        "            # Forward pass, calculate logit predictions.\n",
        "            # token_type_ids is the same as the \"segment ids\", which \n",
        "            # differentiates sentence 1 and 2 in 2-sentence tasks.\n",
        "            # The documentation for this `model` function is here: \n",
        "            # https://huggingface.co/transformers/v2.2.0/model_doc/bert.html#transformers.BertForSequenceClassification\n",
        "            # Get the \"logits\" output by the model. The \"logits\" are the output\n",
        "            # values prior to applying an activation function like the softmax.\n",
        "            (loss, logits) = model(b_input_ids, \n",
        "                                   token_type_ids=None, \n",
        "                                   attention_mask=b_input_mask,\n",
        "                                   labels=b_labels)\n",
        "            \n",
        "        # Accumulate the validation loss.\n",
        "        total_eval_loss += loss.item()\n",
        "\n",
        "        # Move logits and labels to CPU\n",
        "        logits = logits.detach().cpu().numpy()\n",
        "        label_ids = b_labels.to('cpu').numpy()\n",
        "\n",
        "        # Calculate the accuracy for this batch of test sentences, and\n",
        "        # accumulate it over all batches.\n",
        "        total_eval_accuracy += flat_accuracy(logits, label_ids)\n",
        "        \n",
        "\n",
        "    # Report the final accuracy for this validation run.\n",
        "    avg_val_accuracy = total_eval_accuracy / len(validation_dataloader)\n",
        "    print(\"  Accuracy: {0:.2f}\".format(avg_val_accuracy))\n",
        "\n",
        "    # Calculate the average loss over all of the batches.\n",
        "    avg_val_loss = total_eval_loss / len(validation_dataloader)\n",
        "    \n",
        "    # Measure how long the validation run took.\n",
        "    validation_time = format_time(time.time() - t0)\n",
        "    \n",
        "    print(\"  Validation Loss: {0:.2f}\".format(avg_val_loss))\n",
        "    print(\"  Validation took: {:}\".format(validation_time))\n",
        "\n",
        "    # Record all statistics from this epoch.\n",
        "    training_stats.append(\n",
        "        {\n",
        "            'epoch': epoch_i + 1,\n",
        "            'Training Loss': avg_train_loss,\n",
        "            'Valid. Loss': avg_val_loss,\n",
        "            'Valid. Accur.': avg_val_accuracy,\n",
        "            'Training Time': training_time,\n",
        "            'Validation Time': validation_time\n",
        "        }\n",
        "    )\n",
        "\n",
        "print(\"\")\n",
        "print(\"Training complete!\")\n",
        "\n",
        "print(\"Total training took {:} (h:mm:ss)\".format(format_time(time.time()-total_t0)))"
      ],
      "execution_count": null,
      "outputs": []
    },
    {
      "cell_type": "code",
      "metadata": {
        "id": "F7sJlb0OLrto",
        "trusted": true
      },
      "source": [
        "#Let's view the summary of the training process.\n",
        "\n",
        "\n",
        "import pandas as pd\n",
        "\n",
        "# Display floats with two decimal places.\n",
        "pd.set_option('precision', 2)\n",
        "\n",
        "# Create a DataFrame from our training statistics.\n",
        "df_stats = pd.DataFrame(data=training_stats)\n",
        "\n",
        "# Use the 'epoch' as the row index.\n",
        "df_stats = df_stats.set_index('epoch')\n",
        "\n",
        "# A hack to force the column headers to wrap.\n",
        "#df = df.style.set_table_styles([dict(selector=\"th\",props=[('max-width', '70px')])])\n",
        "\n",
        "# Display the table.\n",
        "df_stats"
      ],
      "execution_count": null,
      "outputs": []
    },
    {
      "cell_type": "code",
      "metadata": {
        "id": "5r8kEqm0Ly_S",
        "trusted": true
      },
      "source": [
        "import matplotlib.pyplot as plt\n",
        "#% matplotlib inline\n",
        "\n",
        "import seaborn as sns\n",
        "\n",
        "# Use plot styling from seaborn.\n",
        "sns.set(style='darkgrid')\n",
        "\n",
        "# Increase the plot size and font size.\n",
        "sns.set(font_scale=1.5)\n",
        "plt.rcParams[\"figure.figsize\"] = (12,6)\n",
        "\n",
        "# Plot the learning curve.\n",
        "plt.plot(df_stats['Training Loss'], 'b-o', label=\"Training\")\n",
        "plt.plot(df_stats['Valid. Loss'], 'g-o', label=\"Validation\")\n",
        "\n",
        "# Label the plot.\n",
        "plt.title(\"Training & Validation Loss\")\n",
        "plt.xlabel(\"Epoch\")\n",
        "plt.ylabel(\"Loss\")\n",
        "plt.legend()\n",
        "plt.xticks([1, 2, 3, 4])\n",
        "\n",
        "plt.show()"
      ],
      "execution_count": null,
      "outputs": []
    },
    {
      "cell_type": "markdown",
      "metadata": {
        "id": "I0QWumSOMGip"
      },
      "source": [
        "* model save"
      ]
    },
    {
      "cell_type": "code",
      "metadata": {
        "id": "E8yxqluKL1fx",
        "trusted": true
      },
      "source": [
        "import os\n",
        "\n",
        "# Saving best-practices: if you use defaults names for the model, you can reload it using from_pretrained()\n",
        "\n",
        "output_dir = './model_save/'\n",
        "\n",
        "# Create output directory if needed\n",
        "if not os.path.exists(output_dir):\n",
        "    os.makedirs(output_dir)\n",
        "\n",
        "print(\"Saving model to %s\" % output_dir)\n",
        "\n",
        "# Save a trained model, configuration and tokenizer using `save_pretrained()`.\n",
        "# They can then be reloaded using `from_pretrained()`\n",
        "model_to_save = model.module if hasattr(model, 'module') else model  # Take care of distributed/parallel training\n",
        "model_to_save.save_pretrained(output_dir)\n",
        "tokenizer.save_pretrained(output_dir)\n",
        "\n",
        "# Good practice: save your training arguments together with the trained model\n",
        "# torch.save(args, os.path.join(output_dir, 'training_args.bin'))"
      ],
      "execution_count": null,
      "outputs": []
    },
    {
      "cell_type": "markdown",
      "metadata": {
        "id": "JjKhJjayMQOn"
      },
      "source": [
        "####4.3.2.2 pretrained grammar check model의 load"
      ]
    },
    {
      "cell_type": "code",
      "metadata": {
        "id": "tB6HMcEaMIp0",
        "trusted": false
      },
      "source": [
        "\n",
        "import torch\n",
        "from transformers import BertForSequenceClassification\n",
        "\n",
        "output_dir = '/content/drive/MyDrive/Colab\\ Notebooks/summary/grammar_check_model'\n",
        "print('Loading BERT tokenizer...')\n",
        "tokenizer = KoBertTokenizer.from_pretrained(output_dir)\n",
        "model_loaded = BertForSequenceClassification.from_pretrained(output_dir)\n"
      ],
      "execution_count": null,
      "outputs": []
    },
    {
      "cell_type": "code",
      "metadata": {
        "id": "8wa8yb1UNPoR",
        "trusted": true
      },
      "source": [
        "# Let's check it for a given sentence\n",
        "sentences = [\"귀여운 여자 아기가 난롯가에 앉아서 울고있어요.\",\"귀여운 여자 아기가 난롯가에 앉아서 울고있어요.\"]\n",
        "input_ids = []\n",
        "attention_masks = []\n",
        "for sent in sentences:\n",
        "    encoded_dict = tokenizer.encode_plus(\n",
        "                            sent,                      # Sentence to encode.\n",
        "                            add_special_tokens = True, # Add '[CLS]' and '[SEP]'\n",
        "                            max_length = 64,           # Pad & truncate all sentences.\n",
        "                            pad_to_max_length = True,\n",
        "                            return_attention_mask = True,   # Construct attn. masks.\n",
        "                            return_tensors = 'pt',     # Return pytorch tensors.\n",
        "                            truncation = True,\n",
        "                       )\n",
        "\n",
        "        # Add the encoded sentence to the list.    \n",
        "    input_id = encoded_dict['input_ids']\n",
        "\n",
        "        # And its attention mask (simply differentiates padding from non-padding).\n",
        "    attention_mask = encoded_dict['attention_mask']\n",
        "    \n",
        "    input_ids.append(input_id)\n",
        "    attention_masks.append(attention_mask)\n",
        "    \n",
        "    \n",
        "    "
      ],
      "execution_count": null,
      "outputs": []
    },
    {
      "cell_type": "code",
      "metadata": {
        "id": "oH2KMm9INS1p",
        "trusted": true
      },
      "source": [
        "device = torch.device(\"cuda\" if torch.cuda.is_available() else \"cpu\")\n",
        "#model_loaded = model.to(device)\n",
        "input_id = input_id.to(device)\n",
        "attention_mask = attention_mask.to(device)"
      ],
      "execution_count": null,
      "outputs": []
    },
    {
      "cell_type": "code",
      "metadata": {
        "id": "qcY1_lT3NXxZ",
        "trusted": true
      },
      "source": [
        "with torch.no_grad():\n",
        "  # Forward pass, calculate logit predictions\n",
        "  outputs = model(input_id, token_type_ids=None, attention_mask=attention_mask)\n",
        "\n",
        "print(outputs)\n",
        "\n",
        "logits = outputs[0]\n",
        "\n",
        "index = logits.argmax()\n",
        "if index == 1:\n",
        "  print(\"Gramatically correct\")\n",
        "else:\n",
        "  print(\"Gramatically in-correct\")"
      ],
      "execution_count": null,
      "outputs": []
    },
    {
      "cell_type": "code",
      "metadata": {
        "trusted": true,
        "id": "gYEcbd1NijGR"
      },
      "source": [
        "def bert_discriminator(sentences):\n",
        "    \n",
        "    input_ids = []\n",
        "    attention_masks = []\n",
        "\n",
        "    # For every sentence...\n",
        "    for sent in sentences:\n",
        "        # `encode_plus` will:\n",
        "        #   (1) Tokenize the sentence.\n",
        "        #   (2) Prepend the `[CLS]` token to the start.\n",
        "        #   (3) Append the `[SEP]` token to the end.\n",
        "        #   (4) Map tokens to their IDs.\n",
        "        #   (5) Pad or truncate the sentence to `max_length`\n",
        "        #   (6) Create attention masks for [PAD] tokens.\n",
        "        encoded_dict = tokenizer.encode_plus(\n",
        "                            sent,                      # Sentence to encode.\n",
        "                            add_special_tokens = True, # Add '[CLS]' and '[SEP]'\n",
        "                            max_length = 64,           # Pad & truncate all sentences.\n",
        "                            pad_to_max_length = True,\n",
        "                            return_attention_mask = True,   # Construct attn. masks.\n",
        "                            return_tensors = 'pt',     # Return pytorch tensors.\n",
        "                            truncation = True,\n",
        "                       )\n",
        "\n",
        "        # Add the encoded sentence to the list.    \n",
        "        input_ids.append(encoded_dict['input_ids'])\n",
        "\n",
        "        # And its attention mask (simply differentiates padding from non-padding).\n",
        "        attention_masks.append(encoded_dict['attention_mask'])\n",
        "\n",
        "    # Convert the lists into tensors.\n",
        "    input_ids = torch.cat(input_ids, dim=0)\n",
        "    attention_masks = torch.cat(attention_masks, dim=0)\n",
        "    \n",
        "    device = torch.device(\"cuda\" if torch.cuda.is_available() else \"cpu\")\n",
        "    input_ids = input_ids.to(device)\n",
        "    attention_masks = attention_masks.to(device)\n",
        "\n",
        "    with torch.no_grad():        \n",
        "        outputs = model(input_ids, \n",
        "                               token_type_ids=None, \n",
        "                               attention_mask=attention_masks)\n",
        "    return outputs[0][:,1]"
      ],
      "execution_count": null,
      "outputs": []
    },
    {
      "cell_type": "code",
      "metadata": {
        "trusted": true,
        "id": "aZWL0g7SijGR"
      },
      "source": [
        "score = bert_discriminator(['귀여운아기가 난롯가에 앉아서 울고있어요.','나는  학교에 갑니다. 오늘도'])\n",
        "score"
      ],
      "execution_count": null,
      "outputs": []
    },
    {
      "cell_type": "markdown",
      "metadata": {
        "id": "mFqWGJ6HOn7M"
      },
      "source": [
        "##4.4 한국어 요약 Generator "
      ]
    },
    {
      "cell_type": "markdown",
      "metadata": {
        "id": "zD_eargdS7AY"
      },
      "source": [
        "###4.4.1 Similarity function"
      ]
    },
    {
      "cell_type": "code",
      "metadata": {
        "id": "WX2yrJqIa5dD",
        "trusted": true
      },
      "source": [
        "org_text = \"\"\"나무꾼이 나무를 하다가 숲 속에서 도망치는 사슴을 만났는데, 이 사슴이 사냥꾼이 쫓아오고 있으니 자신을 숨겨달라고 말했다. \n",
        "말하는 사슴을 신기하게 여긴 나무꾼이 사슴을 숨겨줬고, 뒤쫓아 온 사냥꾼을 다른 방향으로 보내서 구해주었다.\n",
        "사슴은 은혜를 갚겠다고 하면서, 나무꾼에게 선녀들이 하늘에서 내려와서 목욕하는 선녀탕이라는 샘과 선녀들이 목욕을 하러 오는 시기, \n",
        "선녀의 옷을 훔쳐 그를 아내로 삼도록 하는 꾀를 나무꾼에게 가르쳐 주었다. \n",
        "나무꾼은 반신반의 하면서도 사슴이 가르쳐준 시기에 선녀들이 목욕을 하러 내려온다는 샘으로 찾아가 몸을 숨겼다. \n",
        "그렇게 잠시간 기다리자 과연, 선녀들이 하늘에서 내려와 날개옷을 벗고 선녀탕에서 목욕을 하는 것이었다. 나무꾼은 사슴이 가르쳐준 대로 날개옷을 하나 훔쳤다.\n",
        "날개옷이 없어진 탓에 한 명의 선녀는 하늘로 올라가지 못했으며 다른 선녀들은 날개옷이 없는 선녀를 내버려두고 하늘로 돌아갔다. \n",
        "이때 나무꾼이 홀로 남은 선녀에게 자신의 아내가 되어달라고 하자, 하늘나라로 올라가지 못하게 된 선녀는 할 수 없이 나무꾼에게 의탁하게 되었다.\n",
        "\"\"\""
      ],
      "execution_count": null,
      "outputs": []
    },
    {
      "cell_type": "code",
      "metadata": {
        "trusted": true,
        "id": "Ew7U_2hd04Jo"
      },
      "source": [
        "org_text = \"\"\"옛날 어느 집에 귀여운 여자 아기가 태어났어요.\n",
        "아기는 무럭무럭 자라서, 예쁘고 마음씨 고운 소녀가 되었어요.\n",
        "그러던 어느날, 소녀의 어머니가 병이들어 그만 세상을 떠나고 말았어요.\n",
        "소녀의 아버지는 홀로 남은 소녀가 걱정되었어요.\n",
        "그래서 얼마 후 새어머니를 맞이했어요.\n",
        "새어머니는 소녀보다 나이가 위인 두 딸을 데리고 왔어요.\n",
        "그러나 새어머니와 언니들은 성질이 고약한 심술쟁이들이었어요.\n",
        "새어머니는 소녀가 자기 딸들보다 예쁘고 착한 게 못마땅했어요.\n",
        "그런데 이번에는 아버지마저 돌아가셨어요.\n",
        "소녀는 하녀처럼 하루 종일 쓸고, 닦고, 집안일을 도맡아 했어요.\n",
        "해도 해도 끝이 없는 집안일이 힘들어 지칠때면\n",
        "난롯가에 앉아서 잠시 쉬곤 했지요.\n",
        "\"엄마, 저애를 신데렐라라고 불러야겠어요.\"\n",
        "\"온통 재투성이잖아요. 호호호!\" 두 언니는 소녀를 놀려 댔어요.\n",
        "어느 날, 왕궁에서 무도회가 열렸어요.\n",
        "신데렐라의 집에도 초대장이 왔어요.\n",
        "새어머니는 언니들을 데리고 무도회장으로 떠났어요.\n",
        "신데렐라도 무도회에 가고 싶었어요.\n",
        "혼자 남은 신데렐라는 훌쩍훌쩍 울기 시작했어요.\n",
        "\"신데렐라, 너도 무도회에 가고 싶니?\"\n",
        "신데렐라가 고개를 들어보니, 마법사 할머니가 빙그레 웃고 있었어요.\n",
        "\"내가 너를 무도회에 보내주마 호박 한개와 생쥐 두마리, 도마뱀을 구해 오렴.\"\n",
        "마법사 할머니가 주문을 외웠어요.\n",
        "그리고 지팡이로 호박을 건드리자, 호박이 화려한 황금 마차로 변했어요.\n",
        "이번에는 생쥐와 도마뱀을 건드렸어요.\n",
        "그랬더니 생쥐는 흰말로, 도마뱀은 멋진 마부로 변했답니다.\n",
        "신데렐라의 옷도 구슬 장식이 반짝이는 예쁜 드레스로 바뀌웠어요.\n",
        "\"신데렐라, 발을 내밀어 보거라.\"\n",
        "할머니는 신데렐라에게 반짝반짝 빛나는 유리 구두를 신겨 주었어요.\n",
        "\"신데렐라, 밤 열두시가 되면 모든게 처음대로 돌아간단다. 황금 마차는 호박으로, 흰말은 생쥐로, 마부는 도마뱀으로 변하게 돼. 그러니까 반드시 밤 열두 시가 되기 전에 돌아와야 해. 알겠지?\"\n",
        "왕자님도 아름다운 신데렐라에게 마음을 빼았겼어요.\n",
        "왕자님은 무도회장에 모인 다른 아가씨들은 쳐다보지도 않고,신데렐라하고만 춤을 추었어요.\n",
        "신데렐라는 왕자님과 춤을 추느라 시간 가는 줄도 몰랐어요.\n",
        "땡, 땡, 땡...... 벽시계가 열두 시를 알리는 소리에 신데렐라는 화들짝 놀랐어요.\n",
        "신데렐라가 허둥지둥 왕궁을 빠져나가는데,\n",
        "유리 구두 한 짝이 벗겨졌어요.\n",
        "하지만 구두를 주울 틈이 없었어요.\n",
        "신데렐라를 뛰쫓아오던 왕자님은 층계에서 유리 구두 한 짝을 주웠어요.\n",
        "왕자님은 유리 구두를 가지고 임금님께 가서 말했어요.\n",
        "\"이 유리 구두의 주인과 결혼하겠어요.\"\n",
        "그래서 신하들은 유리 구두의 주인을 찾아 온 나라를 돌아다녔어요.\n",
        "언니들은 발을 오므려도 보고, 구두를 늘려도 보았지만 한눈에 보기에도 유리 구두는 너무 작았어요.\n",
        "그때, 신데렐라가 조용히 다가와 말했어요.\n",
        "\"저도 한번 신어 볼 수 있나요?\"\n",
        "신데렐라는 신하게 건넨 유리 구두를 신었어요,\n",
        "유리 구두는 신데렐라의 발에 꼭 맞았어요.\n",
        "신하들은 신데렐라를 왕궁으로 데리고 갔어요.\n",
        "그 뒤 신데렐라는 왕자님과 결혼하여 오래오래 행복하게 살았대요.\"\"\""
      ],
      "execution_count": null,
      "outputs": []
    },
    {
      "cell_type": "code",
      "metadata": {
        "trusted": true,
        "id": "3ZoF9CLZ04Jp",
        "outputId": "36ba8ec7-986b-4cb1-fb12-e03781edf22a"
      },
      "source": [
        "org_text = clean_text(org_text).strip()\n",
        "org_text"
      ],
      "execution_count": null,
      "outputs": [
        {
          "output_type": "execute_result",
          "data": {
            "text/plain": [
              "'나무꾼이 나무를 하다가 숲 속에서 도망치는 사슴을 만났는데 이 사슴이 사냥꾼이 쫓아오고 있으니 자신을 숨겨달라고 말했다. 말하는 사슴을 신기하게 여긴 나무꾼이 사슴을 숨겨줬고 뒤쫓아 온 사냥꾼을 다른 방향으로 보내서 구해주었다. 사슴은 은혜를 갚겠다고 하면서 나무꾼에게 선녀들이 하늘에서 내려와서 목욕하는 선녀탕이라는 샘과 선녀들이 목욕을 하러 오는 시기 선녀의 옷을 훔쳐 그를 아내로 삼도록 하는 꾀를 나무꾼에게 가르쳐 주었다. 나무꾼은 반신반의 하면서도 사슴이 가르쳐준 시기에 선녀들이 목욕을 하러 내려온다는 샘으로 찾아가 몸을 숨겼다. 그렇게 잠시간 기다리자 과연 선녀들이 하늘에서 내려와 날개옷을 벗고 선녀탕에서 목욕을 하는 것이었다. 나무꾼은 사슴이 가르쳐준 대로 날개옷을 하나 훔쳤다. 날개옷이 없어진 탓에 한 명의 선녀는 하늘로 올라가지 못했으며 다른 선녀들은 날개옷이 없는 선녀를 내버려두고 하늘로 돌아갔다. 이때 나무꾼이 홀로 남은 선녀에게 자신의 아내가 되어달라고 하자 하늘나라로 올라가지 못하게 된 선녀는 할 수 없이 나무꾼에게 의탁하게 되었다.'"
            ]
          },
          "metadata": {
            "tags": []
          },
          "execution_count": 238
        }
      ]
    },
    {
      "cell_type": "code",
      "metadata": {
        "id": "r85RVIBinB8G",
        "trusted": true,
        "outputId": "7094cd04-9784-43f7-bca8-514722b2c8c6"
      },
      "source": [
        "org_sentence_dataset = nltk.sent_tokenize(clean_text(org_text))\n",
        "org_morpheme_x = []\n",
        "for sentence in org_sentence_dataset:\n",
        "    org_morpheme_x.append(morpheme_encode(sentence))\n",
        "#np.random.choice(5, 3)\n",
        "\n",
        "def get_org_morpheme_sample(num):\n",
        "    return np.asarray(org_morpheme_x)[np.random.choice(len(org_morpheme_x), num)]\n",
        "\n",
        "def get_org_sample(num):\n",
        "    return np.asarray(org_sentence_dataset)[np.random.choice(len(org_sentence_dataset), num)]\n",
        "\n",
        "\n",
        "get_org_sample(3).shape"
      ],
      "execution_count": null,
      "outputs": [
        {
          "output_type": "execute_result",
          "data": {
            "text/plain": [
              "(3,)"
            ]
          },
          "metadata": {
            "tags": []
          },
          "execution_count": 180
        }
      ]
    },
    {
      "cell_type": "code",
      "metadata": {
        "trusted": true,
        "id": "WLhpskVk04Jq"
      },
      "source": [
        "from sentence_transformers import SentenceTransformer\n",
        "from transformers import BertTokenizer\n",
        "\n",
        "if DO_ALL:\n",
        "    # embedder download...\n",
        "    embedder = SentenceTransformer('xlm-r-large-en-ko-nli-ststb')"
      ],
      "execution_count": null,
      "outputs": []
    },
    {
      "cell_type": "code",
      "metadata": {
        "trusted": true,
        "id": "CCX6a7Gk04Jq"
      },
      "source": [
        "# 생성된 문장의 원문 유사도를 측정하기 위한 함수\n",
        "\n",
        "import scipy\n",
        "#print(doc_emb)\n",
        "def similarity_discriminator(queries,org_embedding):\n",
        "    # queries : 복수의 문장의 2차원 배열 (None,1)\n",
        "    # org_embedding : 비교 대상의 원문 embedding 1차원 배열 (1,)\n",
        "    # return : 결과 score 배열 (None,)\n",
        "    total_score = 0\n",
        "    query_embeddings = embedder.encode(queries,show_progress_bar=False)\n",
        "    for query, query_embedding in zip(queries, query_embeddings):\n",
        "        distances = scipy.spatial.distance.cdist([query_embedding], [org_embedding], \"cosine\")[0]\n",
        "        results = zip(range(len(distances)), distances)\n",
        "        for idx, distance in results:\n",
        "            total_score += 1-distance\n",
        "    return total_score"
      ],
      "execution_count": null,
      "outputs": []
    },
    {
      "cell_type": "code",
      "metadata": {
        "trusted": true,
        "id": "c3c6mcWX04Js",
        "outputId": "bbbd8051-42b3-4d1e-d029-52efc3695fa8"
      },
      "source": [
        "\n",
        "# 원문의 embedding...\n",
        "org_text_emb = embedder.encode([org_text],show_progress_bar=False)[0]\n",
        "org_text_emb"
      ],
      "execution_count": null,
      "outputs": [
        {
          "output_type": "execute_result",
          "data": {
            "text/plain": [
              "array([ 0.3711018 , -0.19225664, -0.25144777, ..., -0.17844199,\n",
              "        0.41149   ,  0.53386384], dtype=float32)"
            ]
          },
          "metadata": {
            "tags": []
          },
          "execution_count": 239
        }
      ]
    },
    {
      "cell_type": "code",
      "metadata": {
        "trusted": true,
        "id": "axpKfKxJ04Ju",
        "outputId": "f8137ce6-ce6f-43ac-9cf3-38fff1355405"
      },
      "source": [
        "org_term_set = (' ' + org_text + ' ').split(' ')\n",
        "\n",
        "_MAX_GEN_TOKEN = 40\n",
        "_NOISE_DIM = len(org_term_set)\n",
        "\n",
        "word_table = {}\n",
        "#morp_table = {}\n",
        "\n",
        "for index, word in zip(range(len(org_term_set)),org_term_set):\n",
        "    word_table[index] = word\n",
        "    #m = okt.pos(word)\n",
        "    #morp_table[index] = m[0][1] if len(m) > 0 else ''\n",
        "    \n",
        "print('Token table of origin text')\n",
        "print('---------------------------------------------')\n",
        "print(' Code     Morp           Token     ')\n",
        "print('')\n",
        "for k in word_table.keys():\n",
        "  #print( f'  {str(k).ljust(5)} {morp_table[k].ljust(10)}  {word_table[k]}')\n",
        "    print( f'  {str(k).ljust(5)}                  {word_table[k]}')\n",
        "print('---------------------------------------------')"
      ],
      "execution_count": null,
      "outputs": [
        {
          "output_type": "stream",
          "text": [
            "Token table of origin text\n",
            "---------------------------------------------\n",
            " Code     Morp           Token     \n",
            "\n",
            "  0                      \n",
            "  1                      나무꾼이\n",
            "  2                      나무를\n",
            "  3                      하다가\n",
            "  4                      숲\n",
            "  5                      속에서\n",
            "  6                      도망치는\n",
            "  7                      사슴을\n",
            "  8                      만났는데\n",
            "  9                      이\n",
            "  10                     사슴이\n",
            "  11                     사냥꾼이\n",
            "  12                     쫓아오고\n",
            "  13                     있으니\n",
            "  14                     자신을\n",
            "  15                     숨겨달라고\n",
            "  16                     말했다.\n",
            "  17                     말하는\n",
            "  18                     사슴을\n",
            "  19                     신기하게\n",
            "  20                     여긴\n",
            "  21                     나무꾼이\n",
            "  22                     사슴을\n",
            "  23                     숨겨줬고\n",
            "  24                     뒤쫓아\n",
            "  25                     온\n",
            "  26                     사냥꾼을\n",
            "  27                     다른\n",
            "  28                     방향으로\n",
            "  29                     보내서\n",
            "  30                     구해주었다.\n",
            "  31                     사슴은\n",
            "  32                     은혜를\n",
            "  33                     갚겠다고\n",
            "  34                     하면서\n",
            "  35                     나무꾼에게\n",
            "  36                     선녀들이\n",
            "  37                     하늘에서\n",
            "  38                     내려와서\n",
            "  39                     목욕하는\n",
            "  40                     선녀탕이라는\n",
            "  41                     샘과\n",
            "  42                     선녀들이\n",
            "  43                     목욕을\n",
            "  44                     하러\n",
            "  45                     오는\n",
            "  46                     시기\n",
            "  47                     선녀의\n",
            "  48                     옷을\n",
            "  49                     훔쳐\n",
            "  50                     그를\n",
            "  51                     아내로\n",
            "  52                     삼도록\n",
            "  53                     하는\n",
            "  54                     꾀를\n",
            "  55                     나무꾼에게\n",
            "  56                     가르쳐\n",
            "  57                     주었다.\n",
            "  58                     나무꾼은\n",
            "  59                     반신반의\n",
            "  60                     하면서도\n",
            "  61                     사슴이\n",
            "  62                     가르쳐준\n",
            "  63                     시기에\n",
            "  64                     선녀들이\n",
            "  65                     목욕을\n",
            "  66                     하러\n",
            "  67                     내려온다는\n",
            "  68                     샘으로\n",
            "  69                     찾아가\n",
            "  70                     몸을\n",
            "  71                     숨겼다.\n",
            "  72                     그렇게\n",
            "  73                     잠시간\n",
            "  74                     기다리자\n",
            "  75                     과연\n",
            "  76                     선녀들이\n",
            "  77                     하늘에서\n",
            "  78                     내려와\n",
            "  79                     날개옷을\n",
            "  80                     벗고\n",
            "  81                     선녀탕에서\n",
            "  82                     목욕을\n",
            "  83                     하는\n",
            "  84                     것이었다.\n",
            "  85                     나무꾼은\n",
            "  86                     사슴이\n",
            "  87                     가르쳐준\n",
            "  88                     대로\n",
            "  89                     날개옷을\n",
            "  90                     하나\n",
            "  91                     훔쳤다.\n",
            "  92                     날개옷이\n",
            "  93                     없어진\n",
            "  94                     탓에\n",
            "  95                     한\n",
            "  96                     명의\n",
            "  97                     선녀는\n",
            "  98                     하늘로\n",
            "  99                     올라가지\n",
            "  100                    못했으며\n",
            "  101                    다른\n",
            "  102                    선녀들은\n",
            "  103                    날개옷이\n",
            "  104                    없는\n",
            "  105                    선녀를\n",
            "  106                    내버려두고\n",
            "  107                    하늘로\n",
            "  108                    돌아갔다.\n",
            "  109                    이때\n",
            "  110                    나무꾼이\n",
            "  111                    홀로\n",
            "  112                    남은\n",
            "  113                    선녀에게\n",
            "  114                    자신의\n",
            "  115                    아내가\n",
            "  116                    되어달라고\n",
            "  117                    하자\n",
            "  118                    하늘나라로\n",
            "  119                    올라가지\n",
            "  120                    못하게\n",
            "  121                    된\n",
            "  122                    선녀는\n",
            "  123                    할\n",
            "  124                    수\n",
            "  125                    없이\n",
            "  126                    나무꾼에게\n",
            "  127                    의탁하게\n",
            "  128                    되었다.\n",
            "  129                    \n",
            "---------------------------------------------\n"
          ],
          "name": "stdout"
        }
      ]
    },
    {
      "cell_type": "code",
      "metadata": {
        "trusted": true,
        "id": "AaxM8FAa04Jv"
      },
      "source": [
        "sota_text = \"\"\"소녀의 언니들은 심술쟁이들 이었어요. 소녀는 집안일을 도맡아 했어요. 신데렐라도 무도회에 가고 싶었어요. \n",
        "마법사 할머니가 주문을 외웠어요. 황금 마차로 드레스로 바뀌웠어요. 밤 열두시가 되면 처음대로 돌아간단다. \n",
        "왕자님도 신데렐라에게 마음을 빼았겼어요. 벽시계가 열두 시를 알리는 소리에 놀랐어요. 유리 구두 벗겨졌어요. \n",
        "왕자님은 주인을 찾아 돌아다녔어요. 구두는 신데렐라의 발에 맞았어요.\"\"\""
      ],
      "execution_count": null,
      "outputs": []
    },
    {
      "cell_type": "code",
      "metadata": {
        "trusted": true,
        "id": "cvGKdVCR04Jv",
        "outputId": "14ff5bf3-5da3-4237-9675-a5bbb6614a2b"
      },
      "source": [
        "print('Similarity of sota:',similarity_discriminator([sota_text],org_text_emb))"
      ],
      "execution_count": null,
      "outputs": [
        {
          "output_type": "stream",
          "text": [
            "Similarity of sota: 0.3937315377549393\n"
          ],
          "name": "stdout"
        }
      ]
    },
    {
      "cell_type": "code",
      "metadata": {
        "trusted": true,
        "id": "vEcz3jme04Jv"
      },
      "source": [
        "# Print iterations progress\n",
        "class ProgressBar:\n",
        "\n",
        "    def __init__(self,total=20, prefix = '', suffix = '', decimals = 1, length = 20, fill = '|', printEnd = \"\\r\"):\n",
        "        self.total = total\n",
        "        self.prefix = prefix\n",
        "        self.suffix = suffix\n",
        "        self.decimals = decimals\n",
        "        self.length = length\n",
        "        self.fill = fill\n",
        "        self.printEnd = printEnd\n",
        "        self.ite = 0\n",
        "\n",
        "    def printProgress(self,iteration, text):\n",
        "        self.ite += iteration\n",
        "        percent = (\"{0:.\" + str(self.decimals) + \"f}\").format(100 * (self.ite / float(self.total)))\n",
        "\n",
        "        filledLength = int(self.length * self.ite // self.total)\n",
        "        bar = self.fill * filledLength + '.' * (self.length - filledLength)\n",
        "        print(f'\\r{self.prefix} |{bar}| {percent}% {self.suffix}  {text}', end=\"\", flush=True)\n",
        "        # Print New Line on Complete\n",
        "        if self.ite == self.total: \n",
        "            print()"
      ],
      "execution_count": null,
      "outputs": []
    },
    {
      "cell_type": "markdown",
      "metadata": {
        "id": "7heJzf8tO4L3"
      },
      "source": [
        "###4.4.2 Skeleton term의 추출"
      ]
    },
    {
      "cell_type": "code",
      "metadata": {
        "trusted": true,
        "id": "OAL_rOIT04Jw",
        "outputId": "21b297ed-9bc7-4f24-d9d3-26c229ac34bc"
      },
      "source": [
        "from scipy.signal import find_peaks\n",
        "import matplotlib.pyplot as plt\n",
        "from scipy.misc import electrocardiogram\n",
        "\n",
        "\n",
        "# weight 들의 초기화\n",
        "terms = np.array(list(word_table.values()))\n",
        "\n",
        "story_filters=np.array([[0,1],[0,1,2],[0,1,2,3]]) # ,[0,1,2,3,4],[0,2,4,6]])#,[0,2],[0,2,4],[0,2,4,6],[0,2,4,6,8]])\n",
        "word_filters=np.array([[0]])\n",
        "\n",
        "story_weights = np.zeros(_NOISE_DIM,)\n",
        "word_weights = np.zeros(_NOISE_DIM,)\n",
        "\n",
        "#filters=np.array([[0,2],[0,2,4],[0,2,4,6],[0,2,4,6,8]])\n",
        "#filters=np.array([[0,1,2,3,4,5]])\n",
        "terms = np.array(list(word_table.values()))\n",
        "#morps = np.array(list(morp_table.values()))\n",
        "\n",
        "# story에 지배적인 word를 찾는다.\n",
        "\n",
        "# 먼저 word의 강세 분석\n",
        "for filter in word_filters:\n",
        "    #print(filter)\n",
        "    last_idx = len(terms)-(max(filter)+1)\n",
        "    pb = ProgressBar(last_idx,prefix='word density scan :')\n",
        "    for conv in range(last_idx,0,-1):\n",
        "        pb.printProgress(+1,f'filer:{filter} {conv}/{last_idx}       ')\n",
        "        t = np.array(filter) + conv\n",
        "        '''\n",
        "        w = terms[t][0]\n",
        "        if w.endswith('.'):  # '.'으로 끝나는 동사 - '술어' 는 대부분 스토리상중요한 내용 포함. 하여... 이건 제외 단어에서 skip시킴\n",
        "            score = 0.0\n",
        "        else:\n",
        "            #part_sen = ' '.join(terms[t]) \n",
        "            #score = similarity_discriminator([part_sen],org_text_emb)\n",
        "            score = similarity_discriminator([w],org_text_emb)\n",
        "        '''\n",
        "        '''\n",
        "        if morps[t][0] in ('Adjective ','Adverb','Conjunction'):\n",
        "            pass\n",
        "        else:\n",
        "            part_sen = ' '.join(terms[t]) \n",
        "            score = similarity_discriminator(part_sen.strip(),org_text_emb)\n",
        "            word_weights[t] += score\n",
        "        '''            \n",
        "        part_sen = ' '.join(terms[t]) \n",
        "        score = similarity_discriminator(part_sen.strip(),org_text_emb)\n",
        "        word_weights[t] += score\n",
        "        \n",
        "# story의 강세 분석\n",
        "for filter in story_filters:\n",
        "    #print(filter)\n",
        "    last_idx = len(terms)-(max(filter)+1)\n",
        "    pb = ProgressBar(last_idx,prefix='story density scan:')\n",
        "    for conv in range(last_idx,0,-1):\n",
        "        pb.printProgress(+1,f'filer:{filter} {conv}/{last_idx}       ')\n",
        "        t = np.array(filter) + conv\n",
        "        part_sen = ' '.join(terms[t]) \n",
        "        score = similarity_discriminator([part_sen],org_text_emb)\n",
        "        story_weights[t] += score\n",
        "\n",
        "#각각의 peak를 산출\n",
        "word_peaks, _ = find_peaks(word_weights, height=0)\n",
        "story_peaks, _ = find_peaks(story_weights, height=0)\n",
        "\n",
        "#두개의 peak가 겹치는 word에 대해 한개 word가 유사도에 미치는 영향이 큰것으로 간주\n",
        "#해당 word를 유사도 판단 필터에서 제외하고 다시 필터링...\n",
        "#이를 통해 story에 대한 word를 최대한 추출 한다.\n",
        "\n",
        "dup_order = []\n",
        "for i in range(_NOISE_DIM):\n",
        "    #lst = \"\"\n",
        "    if (i in word_peaks) and (i in story_peaks):\n",
        "        if terms[i].endswith('.'):\n",
        "            pass\n",
        "        else:\n",
        "            dup_order.append(i)\n",
        "# Story에 대한 weight을 추출하기 위해, word에 유독 강세가 있는 term을 제외 시킨다.\n",
        "print('Negative words:',terms[dup_order])\n",
        "terms[dup_order] = '---'\n",
        "'''\n",
        "print('Token table of origin text')\n",
        "print('---------------------------------------------')\n",
        "print(' Code         Token      ')\n",
        "print('')\n",
        "for index, word in zip(range(len(terms)),terms):\n",
        "    print( f'  {str(index).ljust(8)}    {word}')\n",
        "print('---------------------------------------------')\n",
        "'''\n",
        "story_weights = np.zeros(_NOISE_DIM,)\n",
        "# 그리고 다시 story 분석 스캔\n",
        "for filter in story_filters:\n",
        "    #print(filter)\n",
        "    last_idx = len(terms)-(max(filter)+1)\n",
        "    pb = ProgressBar(last_idx,prefix='story density scan:')\n",
        "    for conv in range(last_idx):\n",
        "        pb.printProgress(+1,f'filer:{filter} {conv}/{last_idx}       ')\n",
        "        t = np.array(filter) + conv\n",
        "        part_sen = ' '.join(terms[t]) \n",
        "        part_sen = part_sen.replace('소녀','---')\n",
        "        score = similarity_discriminator([part_sen],org_text_emb)\n",
        "        story_weights[t] += score"
      ],
      "execution_count": null,
      "outputs": [
        {
          "output_type": "stream",
          "text": [
            "word density scan : |||||||||||||||||||||| 100.0%   filer:[0] 1/129        \n",
            "story density scan: |||||||||||||||||||||| 100.0%   filer:[0, 1] 1/128        \n",
            "story density scan: |||||||||||||||||||||| 100.0%   filer:[0, 1, 2] 1/127        \n",
            "story density scan: |||||||||||||||||||||| 100.0%   filer:[0, 1, 2, 3] 1/126        \n",
            "Negative words: ['사슴을' '사슴을' '사슴을' '사슴은' '나무꾼에게' '훔쳐' '나무꾼에게' '사슴이' '벗고' '사슴이' '나무꾼이'\n",
            " '나무꾼에게']\n",
            "story density scan: |||||||||||||||||||||| 100.0%   filer:[0, 1] 127/128       \n",
            "story density scan: |||||||||||||||||||||| 100.0%   filer:[0, 1, 2] 126/127       \n",
            "story density scan: |||||||||||||||||||||| 100.0%   filer:[0, 1, 2, 3] 125/126       \n"
          ],
          "name": "stdout"
        }
      ]
    },
    {
      "cell_type": "code",
      "metadata": {
        "id": "dWlYtVM-Al-E",
        "trusted": true,
        "outputId": "a3b03d33-2bfc-431e-d630-31dbc4cf9306"
      },
      "source": [
        "\n",
        "# base line\n",
        "base_line = 0.0\n",
        "# 다시 peak 추출\n",
        "story_peaks, _ = find_peaks(story_weights, height=base_line)\n",
        "story_peaks = np.append(story_peaks,len(story_weights)-2)\n",
        "print(story_peaks)\n",
        "# story density 표출\n",
        "plt.figure(figsize=(12, 6))\n",
        "plt.plot(story_weights)\n",
        "plt.plot(story_peaks, story_weights[story_peaks], \"x\")\n",
        "plt.plot(np.zeros_like(story_weights)+base_line, \"--\", color=\"gray\")\n",
        "plt.show() \n",
        "print('Peak count:',len(story_peaks))"
      ],
      "execution_count": null,
      "outputs": [
        {
          "output_type": "stream",
          "text": [
            "[  4  11  21  24  26  33  39  43  47  51  58  65  71  76  78  85  93 102\n",
            " 105 114 120 128]\n"
          ],
          "name": "stdout"
        },
        {
          "output_type": "display_data",
          "data": {
            "text/plain": [
              "<Figure size 864x432 with 1 Axes>"
            ],
            "image/png": "[encoded data removed]"
          },
          "metadata": {
            "tags": []
          }
        },
        {
          "output_type": "stream",
          "text": [
            "Peak count: 22\n"
          ],
          "name": "stdout"
        }
      ]
    },
    {
      "cell_type": "code",
      "metadata": {
        "id": "qodcFmj9Amtg",
        "trusted": true,
        "outputId": "8a78eb52-8b68-4d70-8436-11b588c3c665"
      },
      "source": [
        "\n",
        "# story skeleton 추출\n",
        "skel_text = \"\"\n",
        "for k in story_peaks:\n",
        "    #print(k,term_weight[k],word_table[k])\n",
        "    skel_text += word_table[k]+' '  \n",
        "\n",
        "print(skel_text)\n",
        "print('')\n",
        "print(f'Peak count:{len(story_peaks)}   Similarity : {similarity_discriminator([skel_text],org_text_emb)}')"
      ],
      "execution_count": null,
      "outputs": [
        {
          "output_type": "stream",
          "text": [
            "숲 사냥꾼이 나무꾼이 뒤쫓아 사냥꾼을 갚겠다고 목욕하는 목욕을 선녀의 아내로 나무꾼은 목욕을 숨겼다. 선녀들이 내려와 나무꾼은 없어진 선녀들은 선녀를 자신의 못하게 되었다. \n",
            "\n",
            "Peak count:22   Similarity : 0.7400025861278826\n"
          ],
          "name": "stdout"
        }
      ]
    },
    {
      "cell_type": "code",
      "metadata": {
        "trusted": true,
        "id": "vXjghLDh04Jw",
        "outputId": "ddc4b3c6-a80c-487c-bd76-b24eda4a072a"
      },
      "source": [
        "for index, word in zip(range(len(org_term_set)),org_term_set):\n",
        "    word_table[index] = word\n",
        "    \n",
        "print('Token table of origin text')\n",
        "print('---------------------------------------------')\n",
        "print(' Code     Score        Token              ')\n",
        "print('')\n",
        "for k in word_table.keys(): \n",
        "  print( f'  {str(k).ljust(5)}   {str(round(story_weights[k],4)).ljust(8)}  {word_table[k]}')\n",
        "print('---------------------------------------------')"
      ],
      "execution_count": null,
      "outputs": [
        {
          "output_type": "stream",
          "text": [
            "Token table of origin text\n",
            "---------------------------------------------\n",
            " Code     Score        Token              \n",
            "\n",
            "  0       1.0106    \n",
            "  1       2.1436    나무꾼이\n",
            "  2       2.7355    나무를\n",
            "  3       3.2579    하다가\n",
            "  4       3.5454    숲\n",
            "  5       2.7416    속에서\n",
            "  6       2.0499    도망치는\n",
            "  7       1.0844    사슴을\n",
            "  8       1.3335    만났는데\n",
            "  9       3.017     이\n",
            "  10      5.2377    사슴이\n",
            "  11      5.7677    사냥꾼이\n",
            "  12      5.1314    쫓아오고\n",
            "  13      3.7684    있으니\n",
            "  14      2.7738    자신을\n",
            "  15      2.1454    숨겨달라고\n",
            "  16      0.9635    말했다.\n",
            "  17      0.1297    말하는\n",
            "  18      -0.0664   사슴을\n",
            "  19      0.5978    신기하게\n",
            "  20      1.8763    여긴\n",
            "  21      3.6514    나무꾼이\n",
            "  22      3.4731    사슴을\n",
            "  23      3.8915    숨겨줬고\n",
            "  24      4.1165    뒤쫓아\n",
            "  25      3.9547    온\n",
            "  26      4.2119    사냥꾼을\n",
            "  27      2.8076    다른\n",
            "  28      1.4461    방향으로\n",
            "  29      1.0509    보내서\n",
            "  30      0.909     구해주었다.\n",
            "  31      0.4012    사슴은\n",
            "  32      0.3125    은혜를\n",
            "  33      0.4176    갚겠다고\n",
            "  34      0.1729    하면서\n",
            "  35      0.1153    나무꾼에게\n",
            "  36      0.4772    선녀들이\n",
            "  37      0.5698    하늘에서\n",
            "  38      0.9423    내려와서\n",
            "  39      1.0362    목욕하는\n",
            "  40      0.8589    선녀탕이라는\n",
            "  41      0.8701    샘과\n",
            "  42      1.159     선녀들이\n",
            "  43      1.1837    목욕을\n",
            "  44      0.7906    하러\n",
            "  45      0.3006    오는\n",
            "  46      -0.0419   시기\n",
            "  47      0.1095    선녀의\n",
            "  48      0.0338    옷을\n",
            "  49      0.1017    훔쳐\n",
            "  50      0.6472    그를\n",
            "  51      1.2454    아내로\n",
            "  52      1.087     삼도록\n",
            "  53      0.5203    하는\n",
            "  54      0.2488    꾀를\n",
            "  55      0.0372    나무꾼에게\n",
            "  56      0.492     가르쳐\n",
            "  57      1.4784    주었다.\n",
            "  58      2.7038    나무꾼은\n",
            "  59      2.077     반신반의\n",
            "  60      1.1164    하면서도\n",
            "  61      0.2714    사슴이\n",
            "  62      0.1519    가르쳐준\n",
            "  63      0.3403    시기에\n",
            "  64      1.0319    선녀들이\n",
            "  65      1.2065    목욕을\n",
            "  66      1.147     하러\n",
            "  67      1.0516    내려온다는\n",
            "  68      1.0428    샘으로\n",
            "  69      1.4646    찾아가\n",
            "  70      1.7167    몸을\n",
            "  71      1.893     숨겼다.\n",
            "  72      1.3611    그렇게\n",
            "  73      1.2421    잠시간\n",
            "  74      0.816     기다리자\n",
            "  75      0.7162    과연\n",
            "  76      0.7364    선녀들이\n",
            "  77      0.3618    하늘에서\n",
            "  78      0.4748    내려와\n",
            "  79      0.194     날개옷을\n",
            "  80      0.1944    벗고\n",
            "  81      0.4888    선녀탕에서\n",
            "  82      0.7698    목욕을\n",
            "  83      1.0108    하는\n",
            "  84      1.7491    것이었다.\n",
            "  85      2.6976    나무꾼은\n",
            "  86      1.6124    사슴이\n",
            "  87      0.7262    가르쳐준\n",
            "  88      -0.009    대로\n",
            "  89      -0.1307   날개옷을\n",
            "  90      0.2603    하나\n",
            "  91      0.973     훔쳤다.\n",
            "  92      1.1035    날개옷이\n",
            "  93      1.2037    없어진\n",
            "  94      0.8074    탓에\n",
            "  95      0.2199    한\n",
            "  96      -0.1237   명의\n",
            "  97      -0.0671   선녀는\n",
            "  98      -0.1333   하늘로\n",
            "  99      0.2805    올라가지\n",
            "  100     0.7569    못했으며\n",
            "  101     1.0525    다른\n",
            "  102     1.0603    선녀들은\n",
            "  103     0.7202    날개옷이\n",
            "  104     0.8215    없는\n",
            "  105     0.9296    선녀를\n",
            "  106     0.6459    내버려두고\n",
            "  107     -0.2009   하늘로\n",
            "  108     -0.6011   돌아갔다.\n",
            "  109     -0.6387   이때\n",
            "  110     -0.1038   나무꾼이\n",
            "  111     0.7767    홀로\n",
            "  112     0.9961    남은\n",
            "  113     1.3268    선녀에게\n",
            "  114     1.5716    자신의\n",
            "  115     1.4608    아내가\n",
            "  116     0.954     되어달라고\n",
            "  117     0.3721    하자\n",
            "  118     0.0667    하늘나라로\n",
            "  119     0.2353    올라가지\n",
            "  120     0.4798    못하게\n",
            "  121     0.3464    된\n",
            "  122     0.2466    선녀는\n",
            "  123     -0.2869   할\n",
            "  124     -0.8056   수\n",
            "  125     -0.4972   없이\n",
            "  126     -0.5172   나무꾼에게\n",
            "  127     -0.3491   의탁하게\n",
            "  128     -0.1448   되었다.\n",
            "  129     0.0       \n",
            "---------------------------------------------\n"
          ],
          "name": "stdout"
        }
      ]
    },
    {
      "cell_type": "code",
      "metadata": {
        "trusted": true,
        "id": "o1aRT1k904Jx"
      },
      "source": [
        "\n",
        "# text의 생성\n",
        "def text_gen(noise, term_length):\n",
        "    gtext = []\n",
        "    sorted_noise = np.sort(noise)[::-1]\n",
        "    order = np.where(noise > sorted_noise[term_length+1])[0][-term_length:]\n",
        "    assert len(order) == term_length\n",
        "    for k in order:\n",
        "        gtext.append((word_table[k],k))\n",
        "        #text += word_table[k]+' '    \n",
        "    return gtext "
      ],
      "execution_count": null,
      "outputs": []
    },
    {
      "cell_type": "markdown",
      "metadata": {
        "id": "ess3HmCZPDUw"
      },
      "source": [
        "###4.4.3 Generator model의 생성"
      ]
    },
    {
      "cell_type": "code",
      "metadata": {
        "id": "zlCHabi4oupu",
        "trusted": true
      },
      "source": [
        "# 효과적으로 구성된 것인지는 모르겠음... 이것은 아직 많은 연구가 필요함.\n",
        "# 또한 LSTM으로 바꾸어 길이의 한게를 극복해야 할 것...\n",
        "\n",
        "def make_generator_model(term_length):\n",
        "    input = Input(shape=(term_length), dtype='float64') \n",
        "    bias_input = Input(shape=(term_length), dtype='float64') \n",
        "    output = Dense(term_length*2, use_bias=False)(input)\n",
        "    output = LeakyReLU(0.2)(output)\n",
        "    output = Dense(term_length*4, use_bias=False)(output)\n",
        "    output = LeakyReLU(0.2)(output)\n",
        "    #output = Dense(term_length, use_bias=False,activation='linear')(output)\n",
        "    output = Dense(term_length, use_bias=False,activation='sigmoid')(output)\n",
        "    output = Add()([output, bias_input])\n",
        "    model = Model([input,bias_input],output)\n",
        "    \n",
        "    model.summary()\n",
        "    return model\n"
      ],
      "execution_count": null,
      "outputs": []
    },
    {
      "cell_type": "code",
      "metadata": {
        "id": "9E7Bhf0dsknD",
        "trusted": true,
        "outputId": "8c622603-6d33-4a0b-8287-636bd4d563fb"
      },
      "source": [
        "generator = make_generator_model(_NOISE_DIM)"
      ],
      "execution_count": null,
      "outputs": [
        {
          "output_type": "stream",
          "text": [
            "Model: \"functional_17\"\n",
            "__________________________________________________________________________________________________\n",
            "Layer (type)                    Output Shape         Param #     Connected to                     \n",
            "==================================================================================================\n",
            "input_17 (InputLayer)           [(None, 130)]        0                                            \n",
            "__________________________________________________________________________________________________\n",
            "dense_24 (Dense)                (None, 260)          33800       input_17[0][0]                   \n",
            "__________________________________________________________________________________________________\n",
            "leaky_re_lu_16 (LeakyReLU)      (None, 260)          0           dense_24[0][0]                   \n",
            "__________________________________________________________________________________________________\n",
            "dense_25 (Dense)                (None, 520)          135200      leaky_re_lu_16[0][0]             \n",
            "__________________________________________________________________________________________________\n",
            "leaky_re_lu_17 (LeakyReLU)      (None, 520)          0           dense_25[0][0]                   \n",
            "__________________________________________________________________________________________________\n",
            "dense_26 (Dense)                (None, 130)          67600       leaky_re_lu_17[0][0]             \n",
            "__________________________________________________________________________________________________\n",
            "input_18 (InputLayer)           [(None, 130)]        0                                            \n",
            "__________________________________________________________________________________________________\n",
            "add_8 (Add)                     (None, 130)          0           dense_26[0][0]                   \n",
            "                                                                 input_18[0][0]                   \n",
            "==================================================================================================\n",
            "Total params: 236,600\n",
            "Trainable params: 236,600\n",
            "Non-trainable params: 0\n",
            "__________________________________________________________________________________________________\n"
          ],
          "name": "stdout"
        }
      ]
    },
    {
      "cell_type": "markdown",
      "metadata": {
        "id": "eh24UswLPO3B"
      },
      "source": [
        "##4.5 Cross-entropy를 구성하기 위한 Discriminator output 변환 function"
      ]
    },
    {
      "cell_type": "code",
      "metadata": {
        "id": "nGQygTH2CqlQ",
        "trusted": true
      },
      "source": [
        "def discrete_discriminator2(weights,term_length,verbose=0):\n",
        "    fake_gen_out = np.zeros(weights.shape)\n",
        "    real_morphemes = get_org_morpheme_sample(weights.shape[0])\n",
        "    fake_morps = []\n",
        "    real_morps = []\n",
        "    apply_order = []\n",
        "    for i, noise in enumerate(weights):\n",
        "        gtext = text_gen(noise,term_length)\n",
        "        tw = \"\"\n",
        "        tk = []\n",
        "        fake_scores = []\n",
        "        for (w,k) in gtext:\n",
        "            tw += w + ' '\n",
        "            tk.append(k)\n",
        "            if w.endswith('.'):\n",
        "                fake_morps.append(morpheme_encode(tw))\n",
        "                real_morps.append(real_morphemes[i])\n",
        "                apply_order.append((i,tk))\n",
        "                tw = \"\"\n",
        "                tk = []\n",
        "                \n",
        "        if len(tk) > 0:\n",
        "            fake_morps.append(morpheme_encode(tw))\n",
        "            real_morps.append(real_morphemes[i])\n",
        "            apply_order.append((i,tk))\n",
        "\n",
        "    fake_dis_out=discriminator(np.asarray(fake_morps))\n",
        "    real_dis_out=discriminator(np.asarray(real_morps))\n",
        "    for j, (i,tk) in enumerate(apply_order):\n",
        "        fake_gen_out[i,tk] += fake_dis_out[j].numpy()\n",
        "\n",
        "    return tf.constant(fake_gen_out,tf.float64), fake_dis_out, real_dis_out"
      ],
      "execution_count": null,
      "outputs": []
    },
    {
      "cell_type": "code",
      "metadata": {
        "trusted": true,
        "id": "5TqM9vWBijGY"
      },
      "source": [
        "def discrete_discriminator3(weights,term_length,verbose=0):\n",
        "    fake_gen_out = np.zeros(weights.shape)\n",
        "    real_text = get_org_sample(weights.shape[0])\n",
        "    fake_outs = []\n",
        "    real_outs = []\n",
        "    apply_order = []\n",
        "    for i, noise in enumerate(weights):\n",
        "        gtext = text_gen(noise,term_length)\n",
        "        tw = \"\"\n",
        "        tk = []\n",
        "        fake_scores = []\n",
        "        for (w,k) in gtext:\n",
        "            tw += w + ' '\n",
        "            tk.append(k)\n",
        "            if w.endswith('.'):\n",
        "                fake_outs.append(tw.strip())\n",
        "                real_outs.append(real_text[i])\n",
        "                apply_order.append((i,tk))\n",
        "                tw = \"\"\n",
        "                tk = []\n",
        "                \n",
        "        if len(tk) > 0:\n",
        "            fake_outs.append(tw.strip())\n",
        "            real_outs.append(real_text[i])\n",
        "            apply_order.append((i,tk))\n",
        "\n",
        "    fake_dis_out=bert_discriminator(fake_outs)\n",
        "    real_dis_out=bert_discriminator(real_outs)\n",
        "    for j, (i,tk) in enumerate(apply_order):\n",
        "        #fake_gen_out[i,tk] += fake_dis_out[j].numpy() --> 이거는 tf 용...\n",
        "        fake_gen_out[i,tk] += fake_dis_out[j].cpu().detach().numpy()\n",
        "\n",
        "    #return tf.constant(fake_gen_out,tf.float64), fake_dis_out, real_dis_out\n",
        "    # --> torch.tensor 로 수정 해야...\n",
        "    \n",
        "    return tf.constant(fake_gen_out,tf.float64), fake_dis_out, real_dis_out"
      ],
      "execution_count": null,
      "outputs": []
    },
    {
      "cell_type": "code",
      "metadata": {
        "id": "WnedA6uHxi8i",
        "trusted": true
      },
      "source": [
        "N = 1\n",
        "count = tf.Variable(1.0)\n",
        "tf_term_weight = tf.zeros([_NOISE_DIM])\n",
        "noise = np.random.rand(N,_NOISE_DIM)\n",
        "biased_noise = np.random.rand(N,_NOISE_DIM)\n",
        "# stroy peak에 해당하는 term에게 평균값에 해당하는 bias를 추가 한다.\n",
        "biased_noise[:,story_peaks] += np.mean(noise) "
      ],
      "execution_count": null,
      "outputs": []
    },
    {
      "cell_type": "code",
      "metadata": {
        "id": "-5fJ5VHctssK",
        "trusted": true,
        "outputId": "1df87b3d-1f11-4cd4-f939-4022f08ff62e"
      },
      "source": [
        "sw = generator([noise,biased_noise], training=False)\n",
        "sw"
      ],
      "execution_count": null,
      "outputs": [
        {
          "output_type": "execute_result",
          "data": {
            "text/plain": [
              "<tf.Tensor: shape=(1, 340), dtype=float32, numpy=\n",
              "array([[ 6.02345288e-01,  5.90184987e-01,  4.71650660e-01,\n",
              "         1.07953930e+00,  7.51483798e-01,  7.34965026e-01,\n",
              "         1.44104362e-01,  1.08915651e+00,  3.07381123e-01,\n",
              "         1.18944240e+00,  1.06582105e+00,  5.67496836e-01,\n",
              "         2.32763082e-01,  2.44994611e-01,  9.16293025e-01,\n",
              "         6.94302320e-01,  7.54362822e-01,  2.53780521e-02,\n",
              "         2.29036063e-01,  7.06784666e-01,  1.16615236e+00,\n",
              "         4.24595058e-01,  6.45502806e-02,  1.08672988e+00,\n",
              "         1.12577960e-01,  7.77800083e-01,  4.99900669e-01,\n",
              "         1.33812463e+00,  3.81798267e-01,  8.49308848e-01,\n",
              "         9.91540432e-01,  4.42751497e-01,  9.93483484e-01,\n",
              "         1.07695147e-01,  6.28783822e-01,  8.52825999e-01,\n",
              "         3.28905702e-01,  2.15323746e-01,  1.20282757e+00,\n",
              "         4.23714370e-01,  3.79756719e-01,  8.21706295e-01,\n",
              "        -9.34823453e-02,  2.25381821e-01,  5.42480886e-01,\n",
              "         8.87947798e-01,  5.68398118e-01,  9.55811381e-01,\n",
              "         3.50223720e-01,  8.07510376e-01,  3.82813096e-01,\n",
              "         2.11332589e-01,  3.04258257e-01,  1.44725859e-01,\n",
              "         5.62652946e-03,  4.80399489e-01,  5.44025362e-01,\n",
              "         1.21123874e+00,  3.63550425e-01,  6.80792868e-01,\n",
              "        -2.67083347e-02,  7.50875354e-01, -8.01331401e-02,\n",
              "         8.13803613e-01,  4.69698817e-01,  5.47262549e-01,\n",
              "         7.33954608e-01,  5.77875853e-01,  8.73500705e-02,\n",
              "         1.08724594e+00, -3.12576443e-03,  6.96740508e-01,\n",
              "         5.41259468e-01,  2.47989237e-01,  1.02713573e+00,\n",
              "         1.38222620e-01,  4.63634610e-01,  5.61609447e-01,\n",
              "         2.51362860e-01,  4.28321272e-01,  5.20075977e-01,\n",
              "         1.38309360e+00,  6.25709295e-01,  7.62189507e-01,\n",
              "         9.42668319e-02,  1.25941789e+00,  1.09274399e+00,\n",
              "         1.75585762e-01,  6.26787603e-01,  1.05718172e+00,\n",
              "         4.15914178e-01,  2.69713044e-01,  1.16879195e-01,\n",
              "         1.19846475e+00,  4.92461652e-01,  9.78489459e-01,\n",
              "         6.13875747e-01, -3.49276334e-01,  5.03607571e-01,\n",
              "         7.87568867e-01,  8.11614990e-01,  1.93662792e-01,\n",
              "        -3.36563885e-02,  2.71230578e-01,  6.96428418e-01,\n",
              "         7.32402027e-01,  2.11568952e-01,  2.32039720e-01,\n",
              "         7.68063724e-01,  5.50714016e-01,  9.06658411e-01,\n",
              "         4.97384369e-01,  9.48335648e-01,  1.02573669e+00,\n",
              "         3.40886265e-01,  4.83589351e-01,  1.06491268e+00,\n",
              "         8.59065950e-01,  6.62425458e-01,  9.19493854e-01,\n",
              "         7.17482388e-01,  1.23794544e+00,  6.33851349e-01,\n",
              "         9.21690047e-01,  4.61935997e-04,  1.01002681e+00,\n",
              "         7.32856512e-01,  9.31577861e-01,  9.78354812e-01,\n",
              "         6.12803996e-01,  1.21845007e+00, -3.23132217e-01,\n",
              "         2.82155722e-02,  1.23808396e+00,  3.48594606e-01,\n",
              "         5.37253737e-01,  3.11272711e-01,  1.45167187e-01,\n",
              "         4.86122549e-01,  9.83578384e-01,  9.01065767e-01,\n",
              "         4.31121677e-01,  1.47308111e-01,  1.54413891e+00,\n",
              "         8.77203643e-01,  5.26829839e-01,  7.91638196e-01,\n",
              "         5.34683347e-01,  5.66719711e-01,  1.25199544e+00,\n",
              "         5.48747718e-01, -1.44131482e-01,  1.51585209e+00,\n",
              "        -6.07053488e-02,  1.75605237e-01,  7.12491393e-01,\n",
              "         9.03641760e-01,  9.17078197e-01,  6.52457237e-01,\n",
              "         6.34018123e-01,  8.74542356e-01,  6.91506267e-03,\n",
              "         8.90233636e-01,  1.64270401e-01,  1.47584498e+00,\n",
              "         3.45391572e-01,  6.97675228e-01,  1.09456778e-02,\n",
              "         7.03571796e-01,  3.55145723e-01,  1.85598493e-01,\n",
              "         3.17782760e-01,  4.38409358e-01, -1.03325024e-01,\n",
              "         4.96036738e-01,  4.83968258e-01,  3.88002783e-01,\n",
              "         1.05326939e+00, -3.73291075e-01,  5.40280640e-02,\n",
              "         2.59743005e-01,  2.08545625e-02,  6.19697094e-01,\n",
              "         4.19457495e-01,  7.51056492e-01,  1.52849957e-01,\n",
              "        -2.65389532e-01,  6.87747061e-01,  4.51399297e-01,\n",
              "         6.67539656e-01,  9.75646675e-01,  6.28851533e-01,\n",
              "        -1.76072747e-01, -6.47749007e-03,  5.58711290e-01,\n",
              "        -2.99895823e-01,  2.89012790e-01,  1.13420177e+00,\n",
              "         8.17442894e-01,  7.08282053e-01,  7.05073953e-01,\n",
              "         3.05150062e-01,  5.09345949e-01,  3.01439673e-01,\n",
              "         8.56298134e-02,  1.28769660e+00,  1.04970241e+00,\n",
              "        -9.55797583e-02,  5.16853034e-01,  5.79572737e-01,\n",
              "        -1.75418168e-01,  5.91746807e-01,  1.17100763e+00,\n",
              "         2.87624955e-01,  2.49867931e-01,  8.60983968e-01,\n",
              "         7.22371161e-01,  6.24141634e-01,  5.95109105e-01,\n",
              "         8.65890205e-01,  1.31692398e+00,  3.95224154e-01,\n",
              "         1.02235448e+00,  8.96427989e-01,  1.03975701e+00,\n",
              "         7.94876516e-01,  2.59037077e-01,  2.77812779e-01,\n",
              "         1.74712017e-02,  4.07065809e-01,  4.63308692e-01,\n",
              "         3.76658618e-01,  4.20058638e-01,  9.56375480e-01,\n",
              "         4.43420619e-01,  4.41041231e-01,  7.19851434e-01,\n",
              "         6.20725930e-01,  3.24769437e-01,  6.18685782e-02,\n",
              "         1.55054748e-01,  1.88935861e-01,  8.95999014e-01,\n",
              "         8.85448635e-01,  6.40496969e-01,  2.91643351e-01,\n",
              "         2.47385353e-01,  1.39007854e+00,  1.64711118e-01,\n",
              "         1.01438665e+00,  4.81665820e-01, -4.36751395e-02,\n",
              "        -2.03187451e-01,  7.54013538e-01,  7.78526068e-01,\n",
              "         5.99729002e-01,  5.52569747e-01,  1.11896729e+00,\n",
              "         4.77140158e-01,  5.82735658e-01,  7.48809159e-01,\n",
              "         6.51754797e-01,  8.02815318e-01,  5.79912484e-01,\n",
              "         8.51263762e-01,  8.28142881e-01,  3.44491601e-01,\n",
              "         2.94867694e-01,  4.59975898e-01,  4.90784585e-01,\n",
              "         1.32156834e-01,  2.21269548e-01,  6.03100732e-02,\n",
              "         9.00521040e-01,  4.19235587e-01,  5.91764867e-01,\n",
              "         6.45854354e-01,  7.26452827e-01,  4.39088464e-01,\n",
              "         2.97408700e-01,  7.11528957e-01,  3.92075598e-01,\n",
              "         2.28608668e-01,  1.19574618e+00,  1.04893959e+00,\n",
              "         5.39899945e-01,  6.66103482e-01,  4.46116388e-01,\n",
              "         1.52197337e+00, -1.49911910e-01,  2.91622311e-01,\n",
              "        -1.94112435e-02,  1.22445631e+00,  4.36770439e-01,\n",
              "         7.00161338e-01,  1.00789368e+00,  9.99371409e-01,\n",
              "        -2.74248093e-01,  2.94814408e-01,  2.92805761e-01,\n",
              "         1.44362402e+00,  8.33316445e-01,  1.05190814e+00,\n",
              "         4.87737626e-01,  3.69870543e-01,  5.06040633e-01,\n",
              "         1.18099952e+00,  5.20275414e-01,  5.58874011e-01,\n",
              "         4.85166132e-01,  9.89960909e-01,  3.67933095e-01,\n",
              "         5.19150198e-01,  8.41772735e-01,  8.08506012e-01,\n",
              "         1.07792127e+00,  1.25103474e+00,  6.47636950e-02,\n",
              "         2.02036768e-01,  1.39621830e+00,  5.03958285e-01,\n",
              "         1.87005281e-01,  4.81340915e-01,  5.99348247e-01,\n",
              "         6.94324017e-01,  1.05504084e+00,  7.18397677e-01,\n",
              "         7.49847651e-01,  8.05602133e-01,  9.04769748e-02,\n",
              "         5.03663659e-01,  6.44528270e-01,  1.59355581e-01,\n",
              "         4.58610535e-01,  1.17339456e+00,  1.10017478e+00,\n",
              "        -5.79023808e-02, -2.39360064e-01,  8.12658310e-01,\n",
              "         1.64996505e-01]], dtype=float32)>"
            ]
          },
          "metadata": {
            "tags": []
          },
          "execution_count": 127
        }
      ]
    },
    {
      "cell_type": "code",
      "metadata": {
        "id": "xRdqMTNC6SAV",
        "trusted": true,
        "outputId": "c2d4f272-255e-4a05-e0d1-dd79378c6d84"
      },
      "source": [
        "# skeleton_length + N%의 길이로 생성\n",
        "gen_length = len(story_peaks) + int(len(story_peaks)*1.0)\n",
        "sw = generator([noise,biased_noise], training=False)\n",
        "#fake_gen_out, fake_dis_out, real_dis_out = discrete_discriminator2(sw,gen_length,verbose=0)\n",
        "fake_gen_out, fake_dis_out, real_dis_out = discrete_discriminator3(sw,gen_length,verbose=0)\n",
        "print(fake_gen_out)\n",
        "print(fake_dis_out)\n",
        "print(real_dis_out)"
      ],
      "execution_count": null,
      "outputs": [
        {
          "output_type": "stream",
          "text": [
            "tf.Tensor(\n",
            "[[ 0.          0.          0.          0.          0.          0.\n",
            "   0.          1.44418728  0.          2.00751114  2.00751114  0.\n",
            "   0.          0.          2.00751114  0.          0.          0.\n",
            "   0.          0.          2.00751114  0.          0.          2.00751114\n",
            "   0.          2.00751114  0.          2.00751114  0.          2.00751114\n",
            "   2.00751114  0.         -1.98603404  0.          0.         -1.98603404\n",
            "   0.          0.         -3.5452733   0.          0.         -3.5452733\n",
            "   0.          0.          0.         -3.5452733   0.         -3.5452733\n",
            "   0.         -3.5452733   0.          0.          0.          0.\n",
            "   0.          0.          0.          2.52224541  0.          0.\n",
            "   0.          0.          0.          1.86804318  0.          0.\n",
            "   0.          0.          0.          1.86804318  0.          0.\n",
            "   0.          0.          1.86804318  0.          0.          0.\n",
            "   0.          0.          0.          1.86804318  0.          1.86804318\n",
            "   0.          1.86804318  1.86804318  0.          0.         -2.67671776\n",
            "   0.          0.          0.         -2.67671776  0.         -2.67671776\n",
            "   0.          0.          0.         -2.67671776 -3.26297951  0.\n",
            "   0.          0.          0.          0.          0.          0.\n",
            "  -3.26297951  0.         -1.89663208  0.         -1.89663208 -3.4011364\n",
            "   0.          0.         -3.4011364  -3.4011364   0.         -3.4011364\n",
            "   0.         -3.4011364   0.         -3.4011364   0.         -3.4011364\n",
            "   0.         -3.4011364  -3.4011364   0.         -3.4011364   0.\n",
            "   0.         -3.4011364   0.          0.          0.          0.\n",
            "   0.         -3.4011364  -3.4011364   0.          0.         -3.4011364\n",
            "  -3.4011364   0.         -3.4011364   0.          0.         -4.04383326\n",
            "   0.          0.         -4.04383326  0.          0.          0.\n",
            "  -4.04383326 -4.04383326  0.          0.         -4.04383326  0.\n",
            "  -4.04383326  0.         -4.04383326  0.          0.          0.\n",
            "   0.          0.          0.          0.          0.          0.\n",
            "   0.          0.          0.         -4.04383326  0.          0.\n",
            "   0.          0.          0.          0.          0.          0.\n",
            "   0.          0.          0.          0.         -4.04383326  0.\n",
            "   0.          0.          0.          0.          0.         -4.04383326\n",
            "  -4.04383326  0.          0.          0.          0.          0.\n",
            "   0.         -4.04383326 -4.04383326  0.          0.          0.\n",
            "   0.          0.         -4.04383326  0.          0.         -4.04383326\n",
            "   0.          0.          0.         -4.04383326 -4.04383326  0.\n",
            "  -4.04383326 -4.04383326 -4.04383326 -4.04383326  0.          0.\n",
            "   0.          0.          0.          0.          0.         -4.04383326\n",
            "   0.          0.          0.          0.          0.          0.\n",
            "   0.          0.         -4.04383326 -4.04383326  0.          0.\n",
            "   0.         -4.04383326  0.         -4.04383326  0.          0.\n",
            "   0.          0.         -4.04383326  0.          0.          1.60561442\n",
            "   0.          0.          0.          0.          1.60561442  0.\n",
            "   1.60561442  1.60561442  0.          0.          0.          0.\n",
            "   0.          0.          0.          1.60561442  0.          0.\n",
            "   0.          0.          0.          0.          0.          0.\n",
            "   0.          1.60561442  1.60561442  0.          0.          0.\n",
            "   1.60561442  0.          0.          0.          1.60561442  0.\n",
            "   0.          1.60561442  1.60561442  0.          0.          0.\n",
            "   1.60561442  1.60561442  1.60561442  0.          0.          0.\n",
            "  -3.3545742   0.          0.          0.         -3.3545742   0.\n",
            "   0.         -3.3545742  -3.3545742  -3.3545742  -3.3545742   0.\n",
            "   0.         -3.3545742   0.          0.          0.          0.\n",
            "   0.         -3.3545742   0.          0.          2.61041307  0.\n",
            "   0.          0.          0.          0.          2.61041307  2.61041307\n",
            "   0.          0.          2.61041307  0.        ]], shape=(1, 340), dtype=float64)\n",
            "tensor([ 1.4442,  2.0075, -1.9860, -3.5453,  2.5222,  1.8680, -2.6767, -3.2630,\n",
            "        -1.8966, -3.4011, -4.0438,  1.6056, -3.3546,  2.6104], device='cuda:0')\n",
            "tensor([2.9905, 2.9905, 2.9905, 2.9905, 2.9905, 2.9905, 2.9905, 2.9905, 2.9905,\n",
            "        2.9905, 2.9905, 2.9905, 2.9905, 2.9905], device='cuda:0')\n"
          ],
          "name": "stdout"
        }
      ]
    },
    {
      "cell_type": "markdown",
      "metadata": {
        "id": "yzqGJerjPdLq"
      },
      "source": [
        "##4.6 GAN Traning..."
      ]
    },
    {
      "cell_type": "code",
      "metadata": {
        "id": "ZhTzyHuN60Dd",
        "trusted": false
      },
      "source": [
        "## generator의 학습!!!\n",
        "\n",
        "def train(epochs=10,batch_size=10):\n",
        "    # In the Deepmind paper they use RMSProp however then Adam optimizer\n",
        "    # improves training time\n",
        "    generator_optimizer = tf.keras.optimizers.Adam(1e-4)\n",
        "    # This method returns a helper function to compute cross entropy loss\n",
        "    cross_entropy = tf.keras.losses.BinaryCrossentropy(from_logits=True)\n",
        "\n",
        "    gen_length = len(story_peaks) + int(len(story_peaks)*0.6)\n",
        "    pb = ProgressBar(epochs,prefix='Train...')\n",
        "    gen_loss_history = []\n",
        "    dis_loss_history = []    \n",
        "    for i in range(epochs):\n",
        "        noise = np.random.rand(batch_size,_NOISE_DIM)\n",
        "        biased_noise = np.random.rand(batch_size,_NOISE_DIM)\n",
        "        # stroy peak에 해당하는 term에게 평균값에 해당하는 bias를 추가 한다.\n",
        "        biased_noise[:,story_peaks] += np.mean(noise)\n",
        "\n",
        "        with tf.GradientTape() as tape:\n",
        "        \n",
        "            sw = generator([noise,biased_noise], training=True)\n",
        "            fake_gen_out, fake_dis_out, real_dis_out = discrete_discriminator2(sw,gen_length)\n",
        "        \n",
        "            gen_loss = cross_entropy(fake_gen_out, sw)\n",
        "\n",
        "            # 진짜를 넣은 것에 대한 output\n",
        "            real_loss = cross_entropy(tf.ones_like(real_dis_out), real_dis_out)\n",
        "            fake_loss = cross_entropy(tf.zeros_like(fake_dis_out), fake_dis_out)\n",
        "            dis_loss = real_loss + fake_loss\n",
        "\n",
        "        # Backpropagation\n",
        "        dis_grads = tape.gradient(dis_loss, discriminator.trainable_variables)\n",
        "        generator_optimizer.apply_gradients(zip(dis_grads, discriminator.trainable_variables))\n",
        "\n",
        "\n",
        "        noise = np.random.rand(batch_size,_NOISE_DIM)\n",
        "        biased_noise = np.random.rand(batch_size,_NOISE_DIM)\n",
        "        # stroy peak에 해당하는 term에게 평균값에 해당하는 bias를 추가 한다.\n",
        "        biased_noise[:,story_peaks] += np.mean(noise)\n",
        "\n",
        "        with tf.GradientTape() as tape:\n",
        "            sw = generator([noise,biased_noise], training=True)\n",
        "            fake_gen_out, fake_dis_out, real_dis_out = discrete_discriminator2(sw,gen_length)\n",
        "            gen_loss = cross_entropy(fake_gen_out, sw)\n",
        "\n",
        "        gen_grads = tape.gradient(gen_loss, generator.trainable_variables)\n",
        "        generator_optimizer.apply_gradients(zip(gen_grads, generator.trainable_variables))\n",
        "\n",
        "        gen_loss_history.append(gen_loss)\n",
        "        dis_loss_history.append(dis_loss)\n",
        "\n",
        "        pb.printProgress(+1,f'{i+1}/{epochs} epochs, gen_loss:{gen_loss}, dis_loss:{dis_loss}             ')\n",
        "\n",
        "    return  {'gen_loss':gen_loss_history,'dis_loss':dis_loss_history}"
      ],
      "execution_count": null,
      "outputs": []
    },
    {
      "cell_type": "code",
      "metadata": {
        "id": "bbn613VWeW7z",
        "trusted": true
      },
      "source": [
        "def genere_summary(count):\n",
        "    texts = []\n",
        "    gen_length = len(story_peaks) + int(len(story_peaks)*1.0)\n",
        "    noise = np.random.rand(count,_NOISE_DIM)\n",
        "    biased_noise = np.random.rand(count,_NOISE_DIM)\n",
        "    # stroy peak에 해당하는 term에게 평균값에 해당하는 bias를 추가 한다.\n",
        "    biased_noise[:,story_peaks] += np.mean(noise)\n",
        "    sw = generator.predict([noise,biased_noise])\n",
        "    for noise in sw:\n",
        "        gtext = text_gen(noise,gen_length)\n",
        "        text = ' '.join([w for (w,k) in gtext])\n",
        "        #print(text)\n",
        "        texts.append(text)\n",
        "    return texts\n"
      ],
      "execution_count": null,
      "outputs": []
    },
    {
      "cell_type": "code",
      "metadata": {
        "trusted": true,
        "id": "2vxlZwidijGZ",
        "outputId": "00433450-8a7d-4648-cfc6-f770fd8b4127"
      },
      "source": [
        "a = np.array([[0,1,2,3,4,5,6,7,8,9]])\n",
        "\n",
        "from sklearn.preprocessing import normalize\n",
        "b = normalize(a, norm='max')\n",
        "\n",
        "print(a)\n",
        "print(b)"
      ],
      "execution_count": null,
      "outputs": [
        {
          "output_type": "stream",
          "text": [
            "[[0 1 2 3 4 5 6 7 8 9]]\n",
            "[[0.         0.11111111 0.22222222 0.33333333 0.44444444 0.55555556\n",
            "  0.66666667 0.77777778 0.88888889 1.        ]]\n"
          ],
          "name": "stdout"
        }
      ]
    },
    {
      "cell_type": "code",
      "metadata": {
        "trusted": true,
        "id": "8d8BzSQ7ijGa"
      },
      "source": [
        "## generator의 학습!!! --> torch 용... 먼저, D의 학습은 제외하고, G의 학습만... Try!\n",
        "from sklearn.preprocessing import normalize\n",
        "\n",
        "def train2(epochs=10,batch_size=10):\n",
        "    # In the Deepmind paper they use RMSProp however then Adam optimizer\n",
        "    # improves training time\n",
        "    generator_optimizer = tf.keras.optimizers.Adam(1e-4)\n",
        "    # This method returns a helper function to compute cross entropy loss\n",
        "    cross_entropy = tf.keras.losses.BinaryCrossentropy(from_logits=True)\n",
        "\n",
        "    gen_length = len(story_peaks) + int(len(story_peaks)*1.0)\n",
        "    pb = ProgressBar(epochs,prefix='Train...')\n",
        "    gen_loss_history = []\n",
        "    dis_loss_history = []    \n",
        "    \n",
        "    model.eval()          #evaluation 모드로 전환\n",
        "    \n",
        "    for i in range(epochs):\n",
        "        noise = np.random.rand(batch_size,_NOISE_DIM)\n",
        "        \n",
        "        # bias를 주지 않을 경우...????\n",
        "        #biased_noise = np.zeros((batch_size,_NOISE_DIM)) \n",
        "        # stroy peak에 해당하는 term에게 평균값에 해당하는 bias를 추가 한다.\n",
        "        biased_noise = np.random.rand(batch_size,_NOISE_DIM)\n",
        "        biased_noise[:,story_peaks] += np.mean(noise) * 2  #--> 강하게 주기!\n",
        "        # 그리고 normailization 한다!\n",
        "        biased_noise = normalize(biased_noise, norm='max')\n",
        "\n",
        "        with tf.GradientTape() as tape:\n",
        "        \n",
        "            sw = generator([noise,biased_noise], training=True)\n",
        "            fake_gen_out, fake_dis_out, real_dis_out = discrete_discriminator3(sw,gen_length)\n",
        "        \n",
        "            gen_loss = cross_entropy(fake_gen_out, sw)\n",
        "            '''\n",
        "            # 진짜를 넣은 것에 대한 output\n",
        "            real_loss = cross_entropy(tf.ones_like(real_dis_out), real_dis_out)\n",
        "            fake_loss = cross_entropy(tf.zeros_like(fake_dis_out), fake_dis_out)\n",
        "            dis_loss = real_loss + fake_loss\n",
        "            '''\n",
        "            \n",
        "            \n",
        "        # Backpropagation\n",
        "        '''\n",
        "        dis_grads = tape.gradient(dis_loss, discriminator.trainable_variables)\n",
        "        generator_optimizer.apply_gradients(zip(dis_grads, discriminator.trainable_variables))\n",
        "\n",
        "\n",
        "        noise = np.random.rand(batch_size,_NOISE_DIM)\n",
        "        biased_noise = np.random.rand(batch_size,_NOISE_DIM)\n",
        "        # stroy peak에 해당하는 term에게 평균값에 해당하는 bias를 추가 한다.\n",
        "        biased_noise[:,story_peaks] += np.mean(noise)\n",
        "\n",
        "        with tf.GradientTape() as tape:\n",
        "            sw = generator([noise,biased_noise], training=True)\n",
        "            fake_gen_out, fake_dis_out, real_dis_out = discrete_discriminator2(sw,gen_length)\n",
        "            gen_loss = cross_entropy(fake_gen_out, sw)\n",
        "        '''\n",
        "        gen_grads = tape.gradient(gen_loss, generator.trainable_variables)\n",
        "        generator_optimizer.apply_gradients(zip(gen_grads, generator.trainable_variables))\n",
        "\n",
        "        gen_loss_history.append(gen_loss)\n",
        "        #dis_loss_history.append(dis_loss)\n",
        "\n",
        "        pb.printProgress(+1,f'{i+1}/{epochs} epochs, gen_loss:{gen_loss}            ')\n",
        "\n",
        "    return  {'gen_loss':gen_loss_history}"
      ],
      "execution_count": null,
      "outputs": []
    },
    {
      "cell_type": "code",
      "metadata": {
        "id": "wR1NDncNdqwI",
        "trusted": true,
        "outputId": "8998cef9-3fb7-4622-f504-cebb501e04e9"
      },
      "source": [
        "history = train2(epochs=200,batch_size=10)"
      ],
      "execution_count": null,
      "outputs": [
        {
          "output_type": "stream",
          "text": [
            "Train... |||||||||||||||||||||| 100.0%   200/200 epochs, gen_loss:0.24244184792041779              \n"
          ],
          "name": "stdout"
        }
      ]
    },
    {
      "cell_type": "code",
      "metadata": {
        "id": "iG_akbkqzBcZ",
        "trusted": true,
        "outputId": "f695d4ad-170b-488c-a636-107a4382c762"
      },
      "source": [
        "plt.figure(figsize=(12, 6))\n",
        "plt.plot(history['gen_loss'],label='generator loss')\n",
        "#plt.plot(history['dis_loss'],label='discriminator loss')\n",
        "plt.legend()\n",
        "plt.show() "
      ],
      "execution_count": null,
      "outputs": [
        {
          "output_type": "display_data",
          "data": {
            "text/plain": [
              "<Figure size 864x432 with 1 Axes>"
            ],
            "image/png": "[encoded data removed]"
          },
          "metadata": {
            "tags": []
          }
        }
      ]
    },
    {
      "cell_type": "code",
      "metadata": {
        "id": "nrrq79vlfJDk",
        "trusted": true,
        "outputId": "b3cb2fe7-b122-45fd-ca7e-8767ced59d83"
      },
      "source": [
        "texts = genere_summary(10)\n",
        "for txt in texts:\n",
        "    print('text:',txt)\n",
        "print('skel:',skel_text)"
      ],
      "execution_count": null,
      "outputs": [
        {
          "output_type": "stream",
          "text": [
            "text: 속에서 만났는데 이 사슴이 사냥꾼이 쫓아오고 있으니 자신을 숨겨달라고 말했다. 사슴을 나무꾼이 뒤쫓아 온 사냥꾼을 다른 방향으로 보내서 구해주었다. 목욕을 선녀의 아내로 과연 선녀들이 하늘에서 내려와 벗고 나무꾼은 사슴이 하나 없어진 한 올라가지 선녀들은 선녀를 내버려두고 이때 나무꾼이 선녀에게 자신의 올라가지 못하게 의탁하게 되었다.\n",
            "text: 만났는데 이 사슴이 사냥꾼이 쫓아오고 있으니 자신을 숨겨달라고 말했다. 사슴을 나무꾼이 뒤쫓아 사냥꾼을 다른 방향으로 보내서 구해주었다. 갚겠다고 내려와서 목욕을 목욕을 과연 선녀들이 하늘에서 내려와 선녀탕에서 나무꾼은 사슴이 하나 없어진 한 올라가지 선녀들은 선녀를 내버려두고 이때 나무꾼이 선녀에게 자신의 올라가지 못하게 된 의탁하게 되었다.\n",
            "skel: 숲 사냥꾼이 나무꾼이 뒤쫓아 사냥꾼을 갚겠다고 목욕하는 목욕을 선녀의 아내로 나무꾼은 목욕을 숨겼다. 선녀들이 내려와 나무꾼은 없어진 선녀들은 선녀를 자신의 못하게 되었다. \n"
          ],
          "name": "stdout"
        }
      ]
    }
  ]
}