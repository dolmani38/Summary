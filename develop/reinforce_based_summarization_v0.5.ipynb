{
  "nbformat": 4,
  "nbformat_minor": 0,
  "metadata": {
    "kernelspec": {
      "name": "python3",
      "display_name": "Python 3",
      "language": "python"
    },
    "language_info": {
      "name": "python",
      "version": "3.7.6",
      "mimetype": "text/x-python",
      "codemirror_mode": {
        "name": "ipython",
        "version": 3
      },
      "pygments_lexer": "ipython3",
      "nbconvert_exporter": "python",
      "file_extension": ".py"
    },
    "colab": {
      "name": "reinforce_based_summarization_v0.5.ipynb",
      "provenance": [],
      "include_colab_link": true
    },
    "accelerator": "GPU"
  },
  "cells": [
    {
      "cell_type": "markdown",
      "metadata": {
        "id": "view-in-github",
        "colab_type": "text"
      },
      "source": [
        "<a href=\"https://colab.research.google.com/github/dolmani38/Summary/blob/master/reinforce_based_summarization_v0.5.ipynb\" target=\"_parent\"><img src=\"https://colab.research.google.com/assets/colab-badge.svg\" alt=\"Open In Colab\"/></a>"
      ]
    },
    {
      "cell_type": "code",
      "metadata": {
        "_uuid": "8f2839f25d086af736a60e9eeb907d3b93b6e0e5",
        "_cell_guid": "b1076dfc-b9ad-4769-8c92-a6c4dae69d19",
        "trusted": true,
        "id": "mirI18ac04JB"
      },
      "source": [
        "DO_ALL = True # 전체 실행하면서 시간 걸리는 걸 Pass 하려면 이걸 False ...\n",
        "## print(f'\\r{self.prefix} |{bar}| {percent}% {self.suffix}  {text}', end=\"\", flush=True)\n",
        "USE_PRETRAINED_MODEL = True # 이미 학습한 모델을 사용하려면.. true"
      ],
      "execution_count": 1,
      "outputs": []
    },
    {
      "cell_type": "code",
      "metadata": {
        "_uuid": "d629ff2d2480ee46fbb7e2d37f6b5fab8052498a",
        "_cell_guid": "79c7e3d0-c299-4dcb-8224-4455121ee9b0",
        "trusted": true,
        "id": "VL9PuKQz04JS",
        "outputId": "edc670a7-2f49-450c-b2c6-2481dba98367",
        "colab": {
          "base_uri": "https://localhost:8080/"
        }
      },
      "source": [
        "if DO_ALL:\n",
        "    !pip install sentence-transformers==0.3.0\n",
        "    !pip install transformers==3.0.2\n",
        "    !pip install wikipedia\n",
        "    !pip install konlpy"
      ],
      "execution_count": 2,
      "outputs": [
        {
          "output_type": "stream",
          "text": [
            "Requirement already satisfied: sentence-transformers==0.3.0 in /usr/local/lib/python3.6/dist-packages (0.3.0)\n",
            "Requirement already satisfied: numpy in /usr/local/lib/python3.6/dist-packages (from sentence-transformers==0.3.0) (1.19.4)\n",
            "Requirement already satisfied: nltk in /usr/local/lib/python3.6/dist-packages (from sentence-transformers==0.3.0) (3.2.5)\n",
            "Requirement already satisfied: torch>=1.0.1 in /usr/local/lib/python3.6/dist-packages (from sentence-transformers==0.3.0) (1.7.0+cu101)\n",
            "Requirement already satisfied: tqdm in /usr/local/lib/python3.6/dist-packages (from sentence-transformers==0.3.0) (4.41.1)\n",
            "Requirement already satisfied: transformers>=3.0.2 in /usr/local/lib/python3.6/dist-packages (from sentence-transformers==0.3.0) (3.0.2)\n",
            "Requirement already satisfied: scipy in /usr/local/lib/python3.6/dist-packages (from sentence-transformers==0.3.0) (1.4.1)\n",
            "Requirement already satisfied: scikit-learn in /usr/local/lib/python3.6/dist-packages (from sentence-transformers==0.3.0) (0.22.2.post1)\n",
            "Requirement already satisfied: six in /usr/local/lib/python3.6/dist-packages (from nltk->sentence-transformers==0.3.0) (1.15.0)\n",
            "Requirement already satisfied: future in /usr/local/lib/python3.6/dist-packages (from torch>=1.0.1->sentence-transformers==0.3.0) (0.16.0)\n",
            "Requirement already satisfied: typing-extensions in /usr/local/lib/python3.6/dist-packages (from torch>=1.0.1->sentence-transformers==0.3.0) (3.7.4.3)\n",
            "Requirement already satisfied: dataclasses in /usr/local/lib/python3.6/dist-packages (from torch>=1.0.1->sentence-transformers==0.3.0) (0.8)\n",
            "Requirement already satisfied: tokenizers==0.8.1.rc1 in /usr/local/lib/python3.6/dist-packages (from transformers>=3.0.2->sentence-transformers==0.3.0) (0.8.1rc1)\n",
            "Requirement already satisfied: requests in /usr/local/lib/python3.6/dist-packages (from transformers>=3.0.2->sentence-transformers==0.3.0) (2.23.0)\n",
            "Requirement already satisfied: sentencepiece!=0.1.92 in /usr/local/lib/python3.6/dist-packages (from transformers>=3.0.2->sentence-transformers==0.3.0) (0.1.94)\n",
            "Requirement already satisfied: sacremoses in /usr/local/lib/python3.6/dist-packages (from transformers>=3.0.2->sentence-transformers==0.3.0) (0.0.43)\n",
            "Requirement already satisfied: filelock in /usr/local/lib/python3.6/dist-packages (from transformers>=3.0.2->sentence-transformers==0.3.0) (3.0.12)\n",
            "Requirement already satisfied: regex!=2019.12.17 in /usr/local/lib/python3.6/dist-packages (from transformers>=3.0.2->sentence-transformers==0.3.0) (2019.12.20)\n",
            "Requirement already satisfied: packaging in /usr/local/lib/python3.6/dist-packages (from transformers>=3.0.2->sentence-transformers==0.3.0) (20.8)\n",
            "Requirement already satisfied: joblib>=0.11 in /usr/local/lib/python3.6/dist-packages (from scikit-learn->sentence-transformers==0.3.0) (1.0.0)\n",
            "Requirement already satisfied: chardet<4,>=3.0.2 in /usr/local/lib/python3.6/dist-packages (from requests->transformers>=3.0.2->sentence-transformers==0.3.0) (3.0.4)\n",
            "Requirement already satisfied: certifi>=2017.4.17 in /usr/local/lib/python3.6/dist-packages (from requests->transformers>=3.0.2->sentence-transformers==0.3.0) (2020.12.5)\n",
            "Requirement already satisfied: idna<3,>=2.5 in /usr/local/lib/python3.6/dist-packages (from requests->transformers>=3.0.2->sentence-transformers==0.3.0) (2.10)\n",
            "Requirement already satisfied: urllib3!=1.25.0,!=1.25.1,<1.26,>=1.21.1 in /usr/local/lib/python3.6/dist-packages (from requests->transformers>=3.0.2->sentence-transformers==0.3.0) (1.24.3)\n",
            "Requirement already satisfied: click in /usr/local/lib/python3.6/dist-packages (from sacremoses->transformers>=3.0.2->sentence-transformers==0.3.0) (7.1.2)\n",
            "Requirement already satisfied: pyparsing>=2.0.2 in /usr/local/lib/python3.6/dist-packages (from packaging->transformers>=3.0.2->sentence-transformers==0.3.0) (2.4.7)\n",
            "Requirement already satisfied: transformers==3.0.2 in /usr/local/lib/python3.6/dist-packages (3.0.2)\n",
            "Requirement already satisfied: filelock in /usr/local/lib/python3.6/dist-packages (from transformers==3.0.2) (3.0.12)\n",
            "Requirement already satisfied: dataclasses; python_version < \"3.7\" in /usr/local/lib/python3.6/dist-packages (from transformers==3.0.2) (0.8)\n",
            "Requirement already satisfied: requests in /usr/local/lib/python3.6/dist-packages (from transformers==3.0.2) (2.23.0)\n",
            "Requirement already satisfied: numpy in /usr/local/lib/python3.6/dist-packages (from transformers==3.0.2) (1.19.4)\n",
            "Requirement already satisfied: tokenizers==0.8.1.rc1 in /usr/local/lib/python3.6/dist-packages (from transformers==3.0.2) (0.8.1rc1)\n",
            "Requirement already satisfied: sentencepiece!=0.1.92 in /usr/local/lib/python3.6/dist-packages (from transformers==3.0.2) (0.1.94)\n",
            "Requirement already satisfied: sacremoses in /usr/local/lib/python3.6/dist-packages (from transformers==3.0.2) (0.0.43)\n",
            "Requirement already satisfied: regex!=2019.12.17 in /usr/local/lib/python3.6/dist-packages (from transformers==3.0.2) (2019.12.20)\n",
            "Requirement already satisfied: packaging in /usr/local/lib/python3.6/dist-packages (from transformers==3.0.2) (20.8)\n",
            "Requirement already satisfied: tqdm>=4.27 in /usr/local/lib/python3.6/dist-packages (from transformers==3.0.2) (4.41.1)\n",
            "Requirement already satisfied: idna<3,>=2.5 in /usr/local/lib/python3.6/dist-packages (from requests->transformers==3.0.2) (2.10)\n",
            "Requirement already satisfied: urllib3!=1.25.0,!=1.25.1,<1.26,>=1.21.1 in /usr/local/lib/python3.6/dist-packages (from requests->transformers==3.0.2) (1.24.3)\n",
            "Requirement already satisfied: certifi>=2017.4.17 in /usr/local/lib/python3.6/dist-packages (from requests->transformers==3.0.2) (2020.12.5)\n",
            "Requirement already satisfied: chardet<4,>=3.0.2 in /usr/local/lib/python3.6/dist-packages (from requests->transformers==3.0.2) (3.0.4)\n",
            "Requirement already satisfied: click in /usr/local/lib/python3.6/dist-packages (from sacremoses->transformers==3.0.2) (7.1.2)\n",
            "Requirement already satisfied: six in /usr/local/lib/python3.6/dist-packages (from sacremoses->transformers==3.0.2) (1.15.0)\n",
            "Requirement already satisfied: joblib in /usr/local/lib/python3.6/dist-packages (from sacremoses->transformers==3.0.2) (1.0.0)\n",
            "Requirement already satisfied: pyparsing>=2.0.2 in /usr/local/lib/python3.6/dist-packages (from packaging->transformers==3.0.2) (2.4.7)\n",
            "Requirement already satisfied: wikipedia in /usr/local/lib/python3.6/dist-packages (1.4.0)\n",
            "Requirement already satisfied: beautifulsoup4 in /usr/local/lib/python3.6/dist-packages (from wikipedia) (4.6.0)\n",
            "Requirement already satisfied: requests<3.0.0,>=2.0.0 in /usr/local/lib/python3.6/dist-packages (from wikipedia) (2.23.0)\n",
            "Requirement already satisfied: urllib3!=1.25.0,!=1.25.1,<1.26,>=1.21.1 in /usr/local/lib/python3.6/dist-packages (from requests<3.0.0,>=2.0.0->wikipedia) (1.24.3)\n",
            "Requirement already satisfied: chardet<4,>=3.0.2 in /usr/local/lib/python3.6/dist-packages (from requests<3.0.0,>=2.0.0->wikipedia) (3.0.4)\n",
            "Requirement already satisfied: certifi>=2017.4.17 in /usr/local/lib/python3.6/dist-packages (from requests<3.0.0,>=2.0.0->wikipedia) (2020.12.5)\n",
            "Requirement already satisfied: idna<3,>=2.5 in /usr/local/lib/python3.6/dist-packages (from requests<3.0.0,>=2.0.0->wikipedia) (2.10)\n",
            "Requirement already satisfied: konlpy in /usr/local/lib/python3.6/dist-packages (0.5.2)\n",
            "Requirement already satisfied: JPype1>=0.7.0 in /usr/local/lib/python3.6/dist-packages (from konlpy) (1.2.0)\n",
            "Requirement already satisfied: beautifulsoup4==4.6.0 in /usr/local/lib/python3.6/dist-packages (from konlpy) (4.6.0)\n",
            "Requirement already satisfied: numpy>=1.6 in /usr/local/lib/python3.6/dist-packages (from konlpy) (1.19.4)\n",
            "Requirement already satisfied: lxml>=4.1.0 in /usr/local/lib/python3.6/dist-packages (from konlpy) (4.2.6)\n",
            "Requirement already satisfied: tweepy>=3.7.0 in /usr/local/lib/python3.6/dist-packages (from konlpy) (3.10.0)\n",
            "Requirement already satisfied: colorama in /usr/local/lib/python3.6/dist-packages (from konlpy) (0.4.4)\n",
            "Requirement already satisfied: typing-extensions; python_version < \"3.8\" in /usr/local/lib/python3.6/dist-packages (from JPype1>=0.7.0->konlpy) (3.7.4.3)\n",
            "Requirement already satisfied: six>=1.10.0 in /usr/local/lib/python3.6/dist-packages (from tweepy>=3.7.0->konlpy) (1.15.0)\n",
            "Requirement already satisfied: requests[socks]>=2.11.1 in /usr/local/lib/python3.6/dist-packages (from tweepy>=3.7.0->konlpy) (2.23.0)\n",
            "Requirement already satisfied: requests-oauthlib>=0.7.0 in /usr/local/lib/python3.6/dist-packages (from tweepy>=3.7.0->konlpy) (1.3.0)\n",
            "Requirement already satisfied: idna<3,>=2.5 in /usr/local/lib/python3.6/dist-packages (from requests[socks]>=2.11.1->tweepy>=3.7.0->konlpy) (2.10)\n",
            "Requirement already satisfied: certifi>=2017.4.17 in /usr/local/lib/python3.6/dist-packages (from requests[socks]>=2.11.1->tweepy>=3.7.0->konlpy) (2020.12.5)\n",
            "Requirement already satisfied: chardet<4,>=3.0.2 in /usr/local/lib/python3.6/dist-packages (from requests[socks]>=2.11.1->tweepy>=3.7.0->konlpy) (3.0.4)\n",
            "Requirement already satisfied: urllib3!=1.25.0,!=1.25.1,<1.26,>=1.21.1 in /usr/local/lib/python3.6/dist-packages (from requests[socks]>=2.11.1->tweepy>=3.7.0->konlpy) (1.24.3)\n",
            "Requirement already satisfied: PySocks!=1.5.7,>=1.5.6; extra == \"socks\" in /usr/local/lib/python3.6/dist-packages (from requests[socks]>=2.11.1->tweepy>=3.7.0->konlpy) (1.7.1)\n",
            "Requirement already satisfied: oauthlib>=3.0.0 in /usr/local/lib/python3.6/dist-packages (from requests-oauthlib>=0.7.0->tweepy>=3.7.0->konlpy) (3.1.0)\n"
          ],
          "name": "stdout"
        }
      ]
    },
    {
      "cell_type": "code",
      "metadata": {
        "trusted": true,
        "id": "KZcW872104JU",
        "outputId": "d124b2a4-b5ea-4c57-af36-910191ac6b2b",
        "colab": {
          "base_uri": "https://localhost:8080/"
        }
      },
      "source": [
        "# keras module for building LSTM \n",
        "from keras.preprocessing.sequence import pad_sequences\n",
        "from keras.layers import Embedding, LSTM, Dense, Dropout,Conv1D, MaxPooling1D, Flatten\n",
        "from keras.preprocessing.text import Tokenizer\n",
        "from keras.callbacks import EarlyStopping\n",
        "from keras.models import Sequential, model_from_json\n",
        "from tensorflow.python.framework import tensor_shape\n",
        "import keras.utils as ku \n",
        "\n",
        "# set seeds for reproducability\n",
        "from tensorflow.random import set_seed\n",
        "from numpy.random import seed\n",
        "set_seed(2)\n",
        "seed(1)\n",
        "\n",
        "import pandas as pd\n",
        "import numpy as np\n",
        "import string, os \n",
        "\n",
        "import urllib.request\n",
        "import nltk\n",
        "nltk.download('punkt')\n",
        "\n",
        "from konlpy.tag import Okt\n",
        "\n",
        "import warnings\n",
        "warnings.filterwarnings(\"ignore\")\n",
        "warnings.simplefilter(action='ignore', category=FutureWarning)"
      ],
      "execution_count": 3,
      "outputs": [
        {
          "output_type": "stream",
          "text": [
            "[nltk_data] Downloading package punkt to /root/nltk_data...\n",
            "[nltk_data]   Package punkt is already up-to-date!\n"
          ],
          "name": "stdout"
        }
      ]
    },
    {
      "cell_type": "code",
      "metadata": {
        "trusted": true,
        "id": "za5UL6kk04JV"
      },
      "source": [
        "# 간단한 전처리\n",
        "def clean_text(txt):\n",
        "    txt = txt.replace('\\n',' ')\n",
        "    txt = txt.replace('\\r',' ')    \n",
        "    txt = txt.replace('=','')\n",
        "    txt = txt.replace('\\\"','')   \n",
        "    txt = txt.replace('\\'','')\n",
        "    txt = txt.replace(',','')\n",
        "    txt = txt.replace('..','')\n",
        "    txt = txt.replace('.','. ')\n",
        "    txt = txt.replace('  ',' ')\n",
        "    txt = txt.replace('  ',' ')    \n",
        "    txt = txt.replace('  ',' ')   \n",
        "    txt = txt.replace('  ',' ')           \n",
        "    return txt "
      ],
      "execution_count": 4,
      "outputs": []
    },
    {
      "cell_type": "code",
      "metadata": {
        "trusted": true,
        "id": "biAzDhZx04JW"
      },
      "source": [
        "# load ascii text and covert to lowercase\n",
        "\n",
        "def get_sample_text(target_url):\n",
        "    raw_text = urllib.request.urlopen(target_url).read().decode('utf-8')\n",
        "    return nltk.sent_tokenize(clean_text(raw_text))"
      ],
      "execution_count": 5,
      "outputs": []
    },
    {
      "cell_type": "code",
      "metadata": {
        "trusted": true,
        "id": "IiMMX5-304JW"
      },
      "source": [
        "ko_sentences_dataset = []\n",
        "\n",
        "ko_sentences_dataset += get_sample_text(\"https://raw.githubusercontent.com/dolmani38/Summary/master/data/korean_sample.txt\")\n",
        "# 여기서 계속 수집...\n",
        "ko_sentences_dataset += get_sample_text(\"https://raw.githubusercontent.com/dolmani38/Summary/master/data/%EC%95%A0%EA%B1%B0%EC%84%9C%ED%81%AC%EB%A6%AC%EC%8A%A4%ED%8B%B0-ABC%20%EC%82%B4%EC%9D%B8%EC%82%AC%EA%B1%B4.txt\")\n",
        "\n",
        "ko_sentences_dataset += get_sample_text(\"https://raw.githubusercontent.com/dolmani38/Summary/master/data/%EC%95%A0%EA%B1%B0%EC%84%9C%ED%81%AC%EB%A6%AC%EC%8A%A4%ED%8B%B0-%EA%B7%B8%EB%A6%AC%EA%B3%A0%20%EC%95%84%EB%AC%B4%EB%8F%84%20%EC%97%86%EC%97%88%EB%8B%A4.txt\")"
      ],
      "execution_count": 6,
      "outputs": []
    },
    {
      "cell_type": "code",
      "metadata": {
        "trusted": true,
        "id": "hAswtzdg04JX",
        "outputId": "3c1b8766-6918-4bd8-ce22-c360d021ccaa",
        "colab": {
          "base_uri": "https://localhost:8080/"
        }
      },
      "source": [
        "len(ko_sentences_dataset)"
      ],
      "execution_count": 7,
      "outputs": [
        {
          "output_type": "execute_result",
          "data": {
            "text/plain": [
              "54730"
            ]
          },
          "metadata": {
            "tags": []
          },
          "execution_count": 7
        }
      ]
    },
    {
      "cell_type": "code",
      "metadata": {
        "trusted": true,
        "id": "XMxHCUBJ04JX",
        "outputId": "18aac37d-307e-45cc-eacb-e11c06d9a315",
        "colab": {
          "base_uri": "https://localhost:8080/",
          "height": 36
        }
      },
      "source": [
        "ko_sentences_dataset[50002]"
      ],
      "execution_count": 8,
      "outputs": [
        {
          "output_type": "execute_result",
          "data": {
            "application/vnd.google.colaboratory.intrinsic+json": {
              "type": "string"
            },
            "text/plain": [
              "'그러나 올리버 부인이라는 사람도 미스 올턴이라는 여자도 만난 적은 없어요.'"
            ]
          },
          "metadata": {
            "tags": []
          },
          "execution_count": 8
        }
      ]
    },
    {
      "cell_type": "code",
      "metadata": {
        "trusted": true,
        "id": "blAfBUjg04JY"
      },
      "source": [
        "\n",
        "# false 문장을 만들기 위해 shffle 함수 준비\n",
        "import random\n",
        "\n",
        "def shuffling(txt):\n",
        "    txt_list = txt.split(' ')\n",
        "    random.shuffle(txt_list)\n",
        "    return ' '.join(txt_list)\n",
        "\n",
        "# true 문장, false 문장의 생성\n",
        "ko_grammar_dataset = []\n",
        "for txt in ko_sentences_dataset:\n",
        "    txt = txt.strip()\n",
        "    if len(txt) > 40:\n",
        "        #ko_grammar_dataset.append([txt,1])\n",
        "        txt = txt.replace('.','')\n",
        "        ko_grammar_dataset.append([txt,1]) # '.'의 위치를 보고 True, False를 판단 하기 땜에...\n",
        "        ko_grammar_dataset.append([shuffling(txt),0])\n",
        "    \n",
        "# dataset을 전체적으로 다시 썩는다.\n",
        "random.shuffle(ko_grammar_dataset)"
      ],
      "execution_count": 9,
      "outputs": []
    },
    {
      "cell_type": "code",
      "metadata": {
        "trusted": true,
        "id": "pKIpoAyD04JZ",
        "outputId": "441f5063-d733-4de8-9b6a-ba124d94a240",
        "colab": {
          "base_uri": "https://localhost:8080/"
        }
      },
      "source": [
        "ko_grammar_dataset[11]"
      ],
      "execution_count": 10,
      "outputs": [
        {
          "output_type": "execute_result",
          "data": {
            "text/plain": [
              "['변했다 핏물로 기병은 말발굽에 한줌 틸라크 말에서 일순간에 떨어진 울부짖는 적아의', 0]"
            ]
          },
          "metadata": {
            "tags": []
          },
          "execution_count": 10
        }
      ]
    },
    {
      "cell_type": "code",
      "metadata": {
        "trusted": true,
        "id": "2-5l3heO04Jb"
      },
      "source": [
        "okt = Okt()\n",
        "\n",
        "# 형태소 Code table의 구성\n",
        "\n",
        "_MAX_MORP_LENGTH = 128\n",
        "_PADDING_CODE = 0  # padding code\n",
        "_MISMATCH_CODE = 1 # mismatch word code               ex) @@@\n",
        "_MISMATCH_WORD = '@@@' # 이거 아래에서 쓴다.\n",
        "\n",
        "morpheme_table = {}\n",
        "morp_code = _MISMATCH_CODE+1\n",
        "morpheme_table['Pad'] = _PADDING_CODE \n",
        "morpheme_table['Mst'] = _MISMATCH_CODE \n",
        "'''\n",
        " Pad               0\n",
        " Mst               1\n",
        " Noun              2\n",
        " Punctuation       3\n",
        " Foreign           4\n",
        " Josa              5\n",
        " Verb              6\n",
        " Modifier          7\n",
        " Adjective         8\n",
        " Suffix            9\n",
        " Adverb            10\n",
        " Number            11\n",
        " Alpha             12\n",
        " Determiner        13\n",
        " Conjunction       14\n",
        " Exclamation       15\n",
        " KoreanParticle    16\n",
        " URL               17\n",
        " VerbPrefix        18\n",
        " Eomi              19\n",
        " Hashtag           20\n",
        " PreEomi           21\n",
        "'''\n",
        "morpheme_table['Noun']=2\n",
        "morpheme_table['Punctuation']=3\n",
        "morpheme_table['Foreign']=4\n",
        "morpheme_table['Josa']=5\n",
        "morpheme_table['Verb']=6\n",
        "morpheme_table['Modifier']=7\n",
        "morpheme_table['Adjective']=8\n",
        "morpheme_table['Suffix']=9\n",
        "morpheme_table['Adverb']=10\n",
        "morpheme_table['Number']=11\n",
        "morpheme_table['Alpha']=12\n",
        "morpheme_table['Determiner']=13\n",
        "morpheme_table['Conjunction']=14\n",
        "morpheme_table['Exclamation']=15\n",
        "morpheme_table['KoreanParticle']=16\n",
        "morpheme_table['URL']=17\n",
        "morpheme_table['VerbPrefix']=18\n",
        "morpheme_table['Eomi']=19\n",
        "morpheme_table['Hashtag']=20\n",
        "morpheme_table['PreEomi']=21\n",
        "morpheme_table['Email']=22"
      ],
      "execution_count": 11,
      "outputs": []
    },
    {
      "cell_type": "code",
      "metadata": {
        "trusted": true,
        "id": "AZSOLBzT04Je",
        "outputId": "445630ad-e854-4885-b348-05bc08b8aa39",
        "colab": {
          "base_uri": "https://localhost:8080/"
        }
      },
      "source": [
        "\n",
        "print('Korean morpheme code table')\n",
        "print('----------------------------------------------------------')\n",
        "print('  Morpheme        Code')\n",
        "print('')\n",
        "for morp in morpheme_table.keys():\n",
        "    print(f' {morp.ljust(15)}   {morpheme_table[morp]}')\n",
        "print('----------------------------------------------------------')"
      ],
      "execution_count": 12,
      "outputs": [
        {
          "output_type": "stream",
          "text": [
            "Korean morpheme code table\n",
            "----------------------------------------------------------\n",
            "  Morpheme        Code\n",
            "\n",
            " Pad               0\n",
            " Mst               1\n",
            " Noun              2\n",
            " Punctuation       3\n",
            " Foreign           4\n",
            " Josa              5\n",
            " Verb              6\n",
            " Modifier          7\n",
            " Adjective         8\n",
            " Suffix            9\n",
            " Adverb            10\n",
            " Number            11\n",
            " Alpha             12\n",
            " Determiner        13\n",
            " Conjunction       14\n",
            " Exclamation       15\n",
            " KoreanParticle    16\n",
            " URL               17\n",
            " VerbPrefix        18\n",
            " Eomi              19\n",
            " Hashtag           20\n",
            " PreEomi           21\n",
            " Email             22\n",
            "----------------------------------------------------------\n"
          ],
          "name": "stdout"
        }
      ]
    },
    {
      "cell_type": "code",
      "metadata": {
        "trusted": true,
        "id": "oZeukKit04Jf",
        "outputId": "05fb1641-ab63-4f5b-e654-a52b790cd7f2",
        "colab": {
          "base_uri": "https://localhost:8080/"
        }
      },
      "source": [
        "\n",
        "# morpheme 코드 변환기 준비\n",
        "def morpheme_encode(sentence):\n",
        "    encode=[]\n",
        "    morphemes = okt.pos(sentence)\n",
        "    x = np.zeros((_MAX_MORP_LENGTH, len(morpheme_table)), dtype=np.bool)\n",
        "    for i, (word,morp) in enumerate(morphemes):\n",
        "        if i < _MAX_MORP_LENGTH:\n",
        "            code = _MISMATCH_CODE if word==_MISMATCH_WORD else morpheme_table[morp]\n",
        "            x[i,code] = 1.0   \n",
        "    return x\n",
        "\n",
        "ko_morpheme_x = []\n",
        "ko_morpheme_y = []\n",
        "\n",
        "if USE_PRETRAINED_MODEL:\n",
        "    ko_morpheme_x = np.load('ko_morpheme_x.npy')\n",
        "    ko_morpheme_y = np.load('ko_morpheme_y.npy')\n",
        "    print('dataset load from file.')\n",
        "else:\n",
        "    #true / false 문장을 morpheme 코드로 모두 변환\n",
        "    tc = len(ko_grammar_dataset)\n",
        "\n",
        "    for i, (txt,label) in enumerate(ko_grammar_dataset):\n",
        "        print(f'\\r {i+1}/{tc}', end=\"\", flush=True)\n",
        "        ko_morpheme_x.append(morpheme_encode(txt))\n",
        "        ko_morpheme_y.append([label])\n",
        "\n",
        "    ko_morpheme_x = np.asarray(ko_morpheme_x)\n",
        "    ko_morpheme_y = np.asarray(ko_morpheme_y)\n",
        "    np.save('ko_morpheme_x',ko_morpheme_x)\n",
        "    np.save('ko_morpheme_y',ko_morpheme_y)\n"
      ],
      "execution_count": 13,
      "outputs": [
        {
          "output_type": "stream",
          "text": [
            "dataset load from file.\n"
          ],
          "name": "stdout"
        }
      ]
    },
    {
      "cell_type": "code",
      "metadata": {
        "trusted": true,
        "id": "NMkYGX0u04Jh",
        "outputId": "9838ba04-427a-4636-9d82-f204c10ec324",
        "colab": {
          "base_uri": "https://localhost:8080/"
        }
      },
      "source": [
        "\n",
        "from sklearn.model_selection import train_test_split\n",
        "# 20%를 testset으로 사용.,,\n",
        "X_train, X_test, y_train, y_test = train_test_split(ko_morpheme_x,ko_morpheme_y,test_size=0.2)\n",
        "\n",
        "print(f'Shape of X_train;{X_train.shape}')\n",
        "print(f'Shape of X_test ;{X_test.shape}')\n",
        "print(f'Shape of y_train;{y_train.shape}')\n",
        "print(f'Shape of y_test ;{y_test.shape}')"
      ],
      "execution_count": 14,
      "outputs": [
        {
          "output_type": "stream",
          "text": [
            "Shape of X_train;(26468, 128, 23)\n",
            "Shape of X_test ;(6618, 128, 23)\n",
            "Shape of y_train;(26468, 1)\n",
            "Shape of y_test ;(6618, 1)\n"
          ],
          "name": "stdout"
        }
      ]
    },
    {
      "cell_type": "code",
      "metadata": {
        "trusted": true,
        "id": "gv0ScAn304Ji"
      },
      "source": [
        "from keras import backend as K\n",
        "\n",
        "def r2(y_true, y_pred):\n",
        "    \"\"\"\n",
        "    # custom R2-score metrics for keras backend\n",
        "    :param y_true: 실측 데이터\n",
        "    :param y_pred: 모델에 의한 예측 데이테\n",
        "    :return: R^2 value, 이 값이 높다고 (예:0.99)해서 예측 값이 정확 하다고 할 수 는 없음...\n",
        "    \"\"\"\n",
        "    SS_res = K.sum(K.square(y_true - y_pred))\n",
        "    SS_tot = K.sum(K.square(y_true - K.mean(y_true)))\n",
        "    return (1 - SS_res / (SS_tot + K.epsilon()))"
      ],
      "execution_count": 15,
      "outputs": []
    },
    {
      "cell_type": "code",
      "metadata": {
        "id": "4x0pHoNB3MSe",
        "outputId": "8b6df048-4ab9-442a-b10c-410dc9deb83d",
        "colab": {
          "base_uri": "https://localhost:8080/"
        }
      },
      "source": [
        "if USE_PRETRAINED_MODEL:\r\n",
        "    model_json_url = \"https://raw.githubusercontent.com/dolmani38/Summary/master/models/morpheme_model.json\"\r\n",
        "    model_weight_url = \"https://github.com/dolmani38/Summary/blob/master/models/morpheme_model.h5?raw=true\"\r\n",
        "    loaded_model_json = urllib.request.urlopen(model_json_url).read().decode('utf-8')\r\n",
        "    morpheme_model = model_from_json(loaded_model_json)\r\n",
        "    urllib.request.urlretrieve(model_weight_url, \"morpheme_model.h5\")\r\n",
        "    morpheme_model.load_weights(\"morpheme_model.h5\")\r\n",
        "    morpheme_model.compile(loss= \"mean_squared_error\" , optimizer=\"adam\", metrics=[r2])\r\n",
        "    print('Use pretrained model...')\r\n",
        "else:\r\n",
        "    # model build\r\n",
        "    morpheme_model = Sequential()\r\n",
        "    morpheme_model.add(Conv1D(filters=256, kernel_size=4, padding='same',activation='relu',input_shape=(_MAX_MORP_LENGTH, len(morpheme_table))))\r\n",
        "    morpheme_model.add(MaxPooling1D(pool_size=2))\r\n",
        "    morpheme_model.add(Conv1D(filters=128, kernel_size=4, padding=\"same\",activation='relu'))\r\n",
        "    morpheme_model.add(MaxPooling1D(pool_size=2))\r\n",
        "    morpheme_model.add(Flatten())\r\n",
        "    morpheme_model.add(Dense(128))\r\n",
        "    morpheme_model.add(Dense(1, activation='linear'))\r\n",
        "    morpheme_model.summary() #Print model Summary\r\n",
        "\r\n",
        "    morpheme_model.compile(loss= \"mean_squared_error\" , optimizer=\"adam\", metrics=[r2])\r\n",
        "    hist = morpheme_model.fit(X_train, y_train, epochs=30)"
      ],
      "execution_count": 16,
      "outputs": [
        {
          "output_type": "stream",
          "text": [
            "Use pretrained model...\n"
          ],
          "name": "stdout"
        }
      ]
    },
    {
      "cell_type": "code",
      "metadata": {
        "trusted": true,
        "id": "Sxzfhkx804Jm",
        "outputId": "523f5f67-9360-47df-8da6-ce6a32c3457a",
        "colab": {
          "base_uri": "https://localhost:8080/"
        }
      },
      "source": [
        "\n",
        "# 학습결과 확인\n",
        "\n",
        "results = morpheme_model.evaluate(X_test, y_test)\n",
        "print('mean_squared_error:',results)\n",
        "\n",
        "# 학습 결과의 확인\n",
        "predicts = morpheme_model.predict(X_test)\n",
        "predicts = np.asarray(predicts)\n",
        "predicts = [ 1 if x>0.5 else 0 for [x] in predicts]\n",
        "y = np.asarray(y_test)\n",
        "y = y.reshape(y.shape[0],)\n",
        "\n",
        "from sklearn.metrics import classification_report\n",
        "print(classification_report(y, predicts))"
      ],
      "execution_count": 17,
      "outputs": [
        {
          "output_type": "stream",
          "text": [
            "207/207 [==============================] - 8s 4ms/step - loss: 0.1427 - r2: 0.4137\n",
            "mean_squared_error: [0.14861345291137695, 0.38426852226257324]\n",
            "              precision    recall  f1-score   support\n",
            "\n",
            "           0       0.92      0.75      0.82      3327\n",
            "           1       0.78      0.93      0.85      3291\n",
            "\n",
            "    accuracy                           0.84      6618\n",
            "   macro avg       0.85      0.84      0.84      6618\n",
            "weighted avg       0.85      0.84      0.84      6618\n",
            "\n"
          ],
          "name": "stdout"
        }
      ]
    },
    {
      "cell_type": "code",
      "metadata": {
        "trusted": true,
        "id": "adKbX4Pg04Jn"
      },
      "source": [
        "if USE_PRETRAINED_MODEL:\n",
        "    pass\n",
        "else:\n",
        "    model_json = morpheme_model.to_json()\n",
        "    with open(\"morpheme_model.json\", \"w\") as json_file:\n",
        "        json_file.write(model_json)\n",
        "    json_file.close()\n",
        "    print(\"save network to morpheme_model.json\")\n",
        "\n",
        "    morpheme_model.save_weights(\"morpheme_model.h5\")\n",
        "    print(\"save weights to morpheme_model.h5\")"
      ],
      "execution_count": 18,
      "outputs": []
    },
    {
      "cell_type": "code",
      "metadata": {
        "trusted": true,
        "id": "jAQW6z-F04Jn"
      },
      "source": [
        "def morpheme_discriminator(queries):\n",
        "    # queries : 복수의 문장의 2차원 배열 (None,1)\n",
        "    # return : 결과 score 배열 (None,)\n",
        "    x_codes = []\n",
        "    for query in queries:\n",
        "        x_codes.append(morpheme_encode(query))\n",
        "    scores = morpheme_model.predict(np.array(x_codes))\n",
        "    return scores #1.0 if scores > 0.5 else 0.0 "
      ],
      "execution_count": 19,
      "outputs": []
    },
    {
      "cell_type": "code",
      "metadata": {
        "trusted": true,
        "id": "KnNY6kDt04Jo",
        "outputId": "d6664277-5fbe-47b6-c2b6-c2a6be31f674",
        "colab": {
          "base_uri": "https://localhost:8080/"
        }
      },
      "source": [
        "morpheme_discriminator([' 무럭무럭 자라서, 아기는 소녀가 예쁘고 마음씨 고운 되었어요'])"
      ],
      "execution_count": 20,
      "outputs": [
        {
          "output_type": "execute_result",
          "data": {
            "text/plain": [
              "array([[0.20912042]], dtype=float32)"
            ]
          },
          "metadata": {
            "tags": []
          },
          "execution_count": 20
        }
      ]
    },
    {
      "cell_type": "code",
      "metadata": {
        "id": "WX2yrJqIa5dD"
      },
      "source": [
        "org_text = \"\"\"나무꾼이 나무를 하다가 숲 속에서 도망치는 사슴을 만났는데, 이 사슴이 사냥꾼이 쫓아오고 있으니 자신을 숨겨달라고 말했다. 말하는 사슴을 신기하게 여긴 나무꾼이 사슴을 숨겨줬고, 뒤쫓아 온 사냥꾼을 다른 방향으로 보내서 구해주었다.\r\n",
        "사슴은 은혜를 갚겠다고 하면서, 나무꾼에게 선녀들이 하늘에서 내려와서 목욕하는 선녀탕이라는 샘과 선녀들이 목욕을 하러 오는 시기, 선녀의 옷을 훔쳐 그를 아내로 삼도록 하는 꾀를 나무꾼에게 가르쳐 주었다. 나무꾼은 반신반의 하면서도 사슴이 가르쳐준 시기에 선녀들이 목욕을 하러 내려온다는 샘으로 찾아가 몸을 숨겼다. 그렇게 잠시간 기다리자 과연, 선녀들이 하늘에서 내려와 날개옷을 벗고 선녀탕에서 목욕을 하는 것이었다. 나무꾼은 사슴이 가르쳐준 대로 날개옷을 하나 훔쳤다.\r\n",
        "날개옷이 없어진 탓에 한 명의 선녀는 하늘로 올라가지 못했으며 다른 선녀들은 날개옷이 없는 선녀를 내버려두고 하늘로 돌아갔다. 이때 나무꾼이 홀로 남은 선녀에게 자신의 아내가 되어달라고 하자, 하늘나라로 올라가지 못하게 된 선녀는 할 수 없이 나무꾼에게 의탁하게 되었다.\r\n",
        "\"\"\""
      ],
      "execution_count": 80,
      "outputs": []
    },
    {
      "cell_type": "code",
      "metadata": {
        "trusted": true,
        "id": "Ew7U_2hd04Jo"
      },
      "source": [
        "org_text = \"\"\"옛날 어느 집에 귀여운 여자 아기가 태어났어요.\n",
        "아기는 무럭무럭 자라서, 예쁘고 마음씨 고운 소녀가 되었어요.\n",
        "그러던 어느날, 소녀의 어머니가 병이들어 그만 세상을 떠나고 말았어요.\n",
        "소녀의 아버지는 홀로 남은 소녀가 걱정되었어요.\n",
        "그래서 얼마 후 새어머니를 맞이했어요.\n",
        "새어머니는 소녀보다 나이가 위인 두 딸을 데리고 왔어요.\n",
        "그러나 새어머니와 언니들은 성질이 고약한 심술쟁이들이었어요.\n",
        "새어머니는 소녀가 자기 딸들보다 예쁘고 착한 게 못마땅했어요.\n",
        "그런데 이번에는 아버지마저 돌아가셨어요.\n",
        "소녀는 하녀처럼 하루 종일 쓸고, 닦고, 집안일을 도맡아 했어요.\n",
        "해도 해도 끝이 없는 집안일이 힘들어 지칠때면\n",
        "난롯가에 앉아서 잠시 쉬곤 했지요.\n",
        "\"엄마, 저애를 신데렐라라고 불러야겠어요.\"\n",
        "\"온통 재투성이잖아요. 호호호!\" 두 언니는 소녀를 놀려 댔어요.\n",
        "어느 날, 왕궁에서 무도회가 열렸어요.\n",
        "신데렐라의 집에도 초대장이 왔어요.\n",
        "새어머니는 언니들을 데리고 무도회장으로 떠났어요.\n",
        "신데렐라도 무도회에 가고 싶었어요.\n",
        "혼자 남은 신데렐라는 훌쩍훌쩍 울기 시작했어요.\n",
        "\"신데렐라, 너도 무도회에 가고 싶니?\"\n",
        "신데렐라가 고개를 들어보니, 마법사 할머니가 빙그레 웃고 있었어요.\n",
        "\"내가 너를 무도회에 보내주마 호박 한개와 생쥐 두마리, 도마뱀을 구해 오렴.\"\n",
        "마법사 할머니가 주문을 외웠어요.\n",
        "그리고 지팡이로 호박을 건드리자, 호박이 화려한 황금 마차로 변했어요.\n",
        "이번에는 생쥐와 도마뱀을 건드렸어요.\n",
        "그랬더니 생쥐는 흰말로, 도마뱀은 멋진 마부로 변했답니다.\n",
        "신데렐라의 옷도 구슬 장식이 반짝이는 예쁜 드레스로 바뀌웠어요.\n",
        "\"신데렐라, 발을 내밀어 보거라.\"\n",
        "할머니는 신데렐라에게 반짝반짝 빛나는 유리 구두를 신겨 주었어요.\n",
        "\"신데렐라, 밤 열두시가 되면 모든게 처음대로 돌아간단다. 황금 마차는 호박으로, 흰말은 생쥐로, 마부는 도마뱀으로 변하게 돼. 그러니까 반드시 밤 열두 시가 되기 전에 돌아와야 해. 알겠지?\"\n",
        "왕자님도 아름다운 신데렐라에게 마음을 빼았겼어요.\n",
        "왕자님은 무도회장에 모인 다른 아가씨들은 쳐다보지도 않고,신데렐라하고만 춤을 추었어요.\n",
        "신데렐라는 왕자님과 춤을 추느라 시간 가는 줄도 몰랐어요.\n",
        "땡, 땡, 땡...... 벽시계가 열두 시를 알리는 소리에 신데렐라는 화들짝 놀랐어요.\n",
        "신데렐라가 허둥지둥 왕궁을 빠져나가는데,\n",
        "유리 구두 한 짝이 벗겨졌어요.\n",
        "하지만 구두를 주울 틈이 없었어요.\n",
        "신데렐라를 뛰쫓아오던 왕자님은 층계에서 유리 구두 한 짝을 주웠어요.\n",
        "왕자님은 유리 구두를 가지고 임금님께 가서 말했어요.\n",
        "\"이 유리 구두의 주인과 결혼하겠어요.\"\n",
        "그래서 신하들은 유리 구두의 주인을 찾아 온 나라를 돌아다녔어요.\n",
        "언니들은 발을 오므려도 보고, 구두를 늘려도 보았지만 한눈에 보기에도 유리 구두는 너무 작았어요.\n",
        "그때, 신데렐라가 조용히 다가와 말했어요.\n",
        "\"저도 한번 신어 볼 수 있나요?\"\n",
        "신데렐라는 신하게 건넨 유리 구두를 신었어요,\n",
        "유리 구두는 신데렐라의 발에 꼭 맞았어요.\n",
        "신하들은 신데렐라를 왕궁으로 데리고 갔어요.\n",
        "그 뒤 신데렐라는 왕자님과 결혼하여 오래오래 행복하게 살았대요.\"\"\""
      ],
      "execution_count": 21,
      "outputs": []
    },
    {
      "cell_type": "code",
      "metadata": {
        "trusted": true,
        "id": "3ZoF9CLZ04Jp",
        "outputId": "ad79e36c-04df-4e8c-e28b-5487ace049a3",
        "colab": {
          "base_uri": "https://localhost:8080/",
          "height": 148
        }
      },
      "source": [
        "org_text = clean_text(org_text).strip()\n",
        "org_text"
      ],
      "execution_count": 81,
      "outputs": [
        {
          "output_type": "execute_result",
          "data": {
            "application/vnd.google.colaboratory.intrinsic+json": {
              "type": "string"
            },
            "text/plain": [
              "'나무꾼이 나무를 하다가 숲 속에서 도망치는 사슴을 만났는데 이 사슴이 사냥꾼이 쫓아오고 있으니 자신을 숨겨달라고 말했다. 말하는 사슴을 신기하게 여긴 나무꾼이 사슴을 숨겨줬고 뒤쫓아 온 사냥꾼을 다른 방향으로 보내서 구해주었다. 사슴은 은혜를 갚겠다고 하면서 나무꾼에게 선녀들이 하늘에서 내려와서 목욕하는 선녀탕이라는 샘과 선녀들이 목욕을 하러 오는 시기 선녀의 옷을 훔쳐 그를 아내로 삼도록 하는 꾀를 나무꾼에게 가르쳐 주었다. 나무꾼은 반신반의 하면서도 사슴이 가르쳐준 시기에 선녀들이 목욕을 하러 내려온다는 샘으로 찾아가 몸을 숨겼다. 그렇게 잠시간 기다리자 과연 선녀들이 하늘에서 내려와 날개옷을 벗고 선녀탕에서 목욕을 하는 것이었다. 나무꾼은 사슴이 가르쳐준 대로 날개옷을 하나 훔쳤다. 날개옷이 없어진 탓에 한 명의 선녀는 하늘로 올라가지 못했으며 다른 선녀들은 날개옷이 없는 선녀를 내버려두고 하늘로 돌아갔다. 이때 나무꾼이 홀로 남은 선녀에게 자신의 아내가 되어달라고 하자 하늘나라로 올라가지 못하게 된 선녀는 할 수 없이 나무꾼에게 의탁하게 되었다.'"
            ]
          },
          "metadata": {
            "tags": []
          },
          "execution_count": 81
        }
      ]
    },
    {
      "cell_type": "code",
      "metadata": {
        "trusted": true,
        "id": "WLhpskVk04Jq"
      },
      "source": [
        "from sentence_transformers import SentenceTransformer\n",
        "from transformers import BertTokenizer\n",
        "\n",
        "if DO_ALL:\n",
        "    # embedder download...\n",
        "    embedder = SentenceTransformer('xlm-r-large-en-ko-nli-ststb')"
      ],
      "execution_count": 23,
      "outputs": []
    },
    {
      "cell_type": "code",
      "metadata": {
        "trusted": true,
        "id": "CCX6a7Gk04Jq"
      },
      "source": [
        "# 생성된 문장의 원문 유사도를 측정하기 위한 함수\n",
        "\n",
        "import scipy\n",
        "#print(doc_emb)\n",
        "def similarity_discriminator(queries,org_embedding):\n",
        "    # queries : 복수의 문장의 2차원 배열 (None,1)\n",
        "    # org_embedding : 비교 대상의 원문 embedding 1차원 배열 (1,)\n",
        "    # return : 결과 score 배열 (None,)\n",
        "    total_score = 0\n",
        "    query_embeddings = embedder.encode(queries,show_progress_bar=False)\n",
        "    for query, query_embedding in zip(queries, query_embeddings):\n",
        "        distances = scipy.spatial.distance.cdist([query_embedding], [org_embedding], \"cosine\")[0]\n",
        "        results = zip(range(len(distances)), distances)\n",
        "        for idx, distance in results:\n",
        "            total_score += 1-distance\n",
        "    return total_score"
      ],
      "execution_count": 24,
      "outputs": []
    },
    {
      "cell_type": "code",
      "metadata": {
        "trusted": true,
        "id": "c3c6mcWX04Js",
        "outputId": "a00e778c-3cea-479d-8caa-969b67b8b24d",
        "colab": {
          "base_uri": "https://localhost:8080/"
        }
      },
      "source": [
        "\n",
        "# 원문의 embedding...\n",
        "org_text_emb = embedder.encode([org_text],show_progress_bar=False)[0]\n",
        "org_text_emb"
      ],
      "execution_count": 82,
      "outputs": [
        {
          "output_type": "execute_result",
          "data": {
            "text/plain": [
              "array([ 0.37110198, -0.19225626, -0.25144747, ..., -0.17844155,\n",
              "        0.41148975,  0.53386396], dtype=float32)"
            ]
          },
          "metadata": {
            "tags": []
          },
          "execution_count": 82
        }
      ]
    },
    {
      "cell_type": "code",
      "metadata": {
        "trusted": true,
        "id": "axpKfKxJ04Ju",
        "outputId": "256aab25-cdb1-4d60-be4a-130d815d86af",
        "colab": {
          "base_uri": "https://localhost:8080/"
        }
      },
      "source": [
        "org_term_set = (' ' + org_text + ' ').split(' ')\n",
        "\n",
        "_MAX_GEN_TOKEN = 40\n",
        "_NOISE_DIM = len(org_term_set)\n",
        "\n",
        "word_table = {}\n",
        "morp_table = {}\n",
        "\n",
        "for index, word in zip(range(len(org_term_set)),org_term_set):\n",
        "    word_table[index] = word\n",
        "    m = okt.pos(word)\n",
        "    morp_table[index] = m[0][1] if len(m) > 0 else ''\n",
        "    \n",
        "print('Token table of origin text')\n",
        "print('---------------------------------------------')\n",
        "print(' Code         Token         Morp')\n",
        "print('')\n",
        "for k in word_table.keys():\n",
        "  print( f'  {str(k).ljust(8)}    {word_table[k]}       {morp_table[k]}')\n",
        "print('---------------------------------------------')"
      ],
      "execution_count": 83,
      "outputs": [
        {
          "output_type": "stream",
          "text": [
            "Token table of origin text\n",
            "---------------------------------------------\n",
            " Code         Token         Morp\n",
            "\n",
            "  0                  \n",
            "  1           나무꾼이       Noun\n",
            "  2           나무를       Noun\n",
            "  3           하다가       Verb\n",
            "  4           숲       Noun\n",
            "  5           속에서       Noun\n",
            "  6           도망치는       Verb\n",
            "  7           사슴을       Noun\n",
            "  8           만났는데       Verb\n",
            "  9           이       Noun\n",
            "  10          사슴이       Noun\n",
            "  11          사냥꾼이       Noun\n",
            "  12          쫓아오고       Verb\n",
            "  13          있으니       Adjective\n",
            "  14          자신을       Noun\n",
            "  15          숨겨달라고       Verb\n",
            "  16          말했다.       Noun\n",
            "  17          말하는       Noun\n",
            "  18          사슴을       Noun\n",
            "  19          신기하게       Adjective\n",
            "  20          여긴       Verb\n",
            "  21          나무꾼이       Noun\n",
            "  22          사슴을       Noun\n",
            "  23          숨겨줬고       Verb\n",
            "  24          뒤쫓아       Noun\n",
            "  25          온       Noun\n",
            "  26          사냥꾼을       Noun\n",
            "  27          다른       Noun\n",
            "  28          방향으로       Noun\n",
            "  29          보내서       Verb\n",
            "  30          구해주었다.       Noun\n",
            "  31          사슴은       Noun\n",
            "  32          은혜를       Noun\n",
            "  33          갚겠다고       Verb\n",
            "  34          하면서       Verb\n",
            "  35          나무꾼에게       Noun\n",
            "  36          선녀들이       Noun\n",
            "  37          하늘에서       Noun\n",
            "  38          내려와서       Verb\n",
            "  39          목욕하는       Noun\n",
            "  40          선녀탕이라는       Noun\n",
            "  41          샘과       Noun\n",
            "  42          선녀들이       Noun\n",
            "  43          목욕을       Noun\n",
            "  44          하러       Verb\n",
            "  45          오는       Verb\n",
            "  46          시기       Noun\n",
            "  47          선녀의       Noun\n",
            "  48          옷을       Noun\n",
            "  49          훔쳐       Verb\n",
            "  50          그를       Noun\n",
            "  51          아내로       Noun\n",
            "  52          삼도록       Modifier\n",
            "  53          하는       Verb\n",
            "  54          꾀를       Noun\n",
            "  55          나무꾼에게       Noun\n",
            "  56          가르쳐       Verb\n",
            "  57          주었다.       Verb\n",
            "  58          나무꾼은       Noun\n",
            "  59          반신반의       Noun\n",
            "  60          하면서도       Verb\n",
            "  61          사슴이       Noun\n",
            "  62          가르쳐준       Verb\n",
            "  63          시기에       Noun\n",
            "  64          선녀들이       Noun\n",
            "  65          목욕을       Noun\n",
            "  66          하러       Verb\n",
            "  67          내려온다는       Verb\n",
            "  68          샘으로       Noun\n",
            "  69          찾아가       Verb\n",
            "  70          몸을       Noun\n",
            "  71          숨겼다.       Verb\n",
            "  72          그렇게       Adverb\n",
            "  73          잠시간       Noun\n",
            "  74          기다리자       Verb\n",
            "  75          과연       Noun\n",
            "  76          선녀들이       Noun\n",
            "  77          하늘에서       Noun\n",
            "  78          내려와       Verb\n",
            "  79          날개옷을       Noun\n",
            "  80          벗고       Verb\n",
            "  81          선녀탕에서       Noun\n",
            "  82          목욕을       Noun\n",
            "  83          하는       Verb\n",
            "  84          것이었다.       Noun\n",
            "  85          나무꾼은       Noun\n",
            "  86          사슴이       Noun\n",
            "  87          가르쳐준       Verb\n",
            "  88          대로       Noun\n",
            "  89          날개옷을       Noun\n",
            "  90          하나       Noun\n",
            "  91          훔쳤다.       Verb\n",
            "  92          날개옷이       Noun\n",
            "  93          없어진       Verb\n",
            "  94          탓에       Noun\n",
            "  95          한       Verb\n",
            "  96          명의       Noun\n",
            "  97          선녀는       Noun\n",
            "  98          하늘로       Noun\n",
            "  99          올라가지       Verb\n",
            "  100         못했으며       VerbPrefix\n",
            "  101         다른       Noun\n",
            "  102         선녀들은       Noun\n",
            "  103         날개옷이       Noun\n",
            "  104         없는       Adjective\n",
            "  105         선녀를       Noun\n",
            "  106         내버려두고       Verb\n",
            "  107         하늘로       Noun\n",
            "  108         돌아갔다.       Verb\n",
            "  109         이때       Determiner\n",
            "  110         나무꾼이       Noun\n",
            "  111         홀로       Noun\n",
            "  112         남은       Verb\n",
            "  113         선녀에게       Noun\n",
            "  114         자신의       Noun\n",
            "  115         아내가       Noun\n",
            "  116         되어달라고       Verb\n",
            "  117         하자       Noun\n",
            "  118         하늘나라로       Noun\n",
            "  119         올라가지       Verb\n",
            "  120         못하게       VerbPrefix\n",
            "  121         된       Verb\n",
            "  122         선녀는       Noun\n",
            "  123         할       Verb\n",
            "  124         수       Noun\n",
            "  125         없이       Adverb\n",
            "  126         나무꾼에게       Noun\n",
            "  127         의탁하게       Noun\n",
            "  128         되었다.       Verb\n",
            "  129                \n",
            "---------------------------------------------\n"
          ],
          "name": "stdout"
        }
      ]
    },
    {
      "cell_type": "code",
      "metadata": {
        "trusted": true,
        "id": "AaxM8FAa04Jv"
      },
      "source": [
        "sota_text = \"\"\"소녀의 언니들은 심술쟁이들 이었어요. 소녀는 집안일을 도맡아 했어요. 신데렐라도 무도회에 가고 싶었어요. \n",
        "마법사 할머니가 주문을 외웠어요. 황금 마차로 드레스로 바뀌웠어요. 밤 열두시가 되면 처음대로 돌아간단다. \n",
        "왕자님도 신데렐라에게 마음을 빼았겼어요. 벽시계가 열두 시를 알리는 소리에 놀랐어요. 유리 구두 벗겨졌어요. \n",
        "왕자님은 주인을 찾아 돌아다녔어요. 구두는 신데렐라의 발에 맞았어요.\"\"\""
      ],
      "execution_count": 27,
      "outputs": []
    },
    {
      "cell_type": "code",
      "metadata": {
        "trusted": true,
        "id": "cvGKdVCR04Jv",
        "outputId": "b4b8c92d-8c01-4ce9-918a-0e25c6907a4c",
        "colab": {
          "base_uri": "https://localhost:8080/"
        }
      },
      "source": [
        "print('Similarity of sota:',similarity_discriminator([sota_text],org_text_emb))"
      ],
      "execution_count": 28,
      "outputs": [
        {
          "output_type": "stream",
          "text": [
            "Similarity of sota: 0.5623786453438347\n"
          ],
          "name": "stdout"
        }
      ]
    },
    {
      "cell_type": "code",
      "metadata": {
        "trusted": true,
        "id": "vEcz3jme04Jv"
      },
      "source": [
        "# Print iterations progress\n",
        "class ProgressBar:\n",
        "\n",
        "    def __init__(self,total=20, prefix = '', suffix = '', decimals = 1, length = 20, fill = '|', printEnd = \"\\r\"):\n",
        "        self.total = total\n",
        "        self.prefix = prefix\n",
        "        self.suffix = suffix\n",
        "        self.decimals = decimals\n",
        "        self.length = length\n",
        "        self.fill = fill\n",
        "        self.printEnd = printEnd\n",
        "        self.ite = 0\n",
        "\n",
        "    def printProgress(self,iteration, text):\n",
        "        self.ite += iteration\n",
        "        percent = (\"{0:.\" + str(self.decimals) + \"f}\").format(100 * (self.ite / float(self.total)))\n",
        "\n",
        "        filledLength = int(self.length * self.ite // self.total)\n",
        "        bar = self.fill * filledLength + '.' * (self.length - filledLength)\n",
        "        print(f'\\r{self.prefix} |{bar}| {percent}% {self.suffix}  {text}', end=\"\", flush=True)\n",
        "        # Print New Line on Complete\n",
        "        if self.ite == self.total: \n",
        "            print()"
      ],
      "execution_count": 29,
      "outputs": []
    },
    {
      "cell_type": "code",
      "metadata": {
        "trusted": true,
        "id": "OAL_rOIT04Jw",
        "outputId": "096c8d91-1bd7-4485-b2c5-078aeb237196",
        "colab": {
          "base_uri": "https://localhost:8080/"
        }
      },
      "source": [
        "from scipy.signal import find_peaks\n",
        "import matplotlib.pyplot as plt\n",
        "from scipy.misc import electrocardiogram\n",
        "\n",
        "\n",
        "# weight 들의 초기화\n",
        "terms = np.array(list(word_table.values()))\n",
        "\n",
        "story_filters=np.array([[0,1],[0,1,2],[0,1,2,3]]) # ,[0,1,2,3,4],[0,2,4,6]])#,[0,2],[0,2,4],[0,2,4,6],[0,2,4,6,8]])\n",
        "word_filters=np.array([[0]])\n",
        "\n",
        "story_weights = np.zeros(_NOISE_DIM,)\n",
        "word_weights = np.zeros(_NOISE_DIM,)\n",
        "\n",
        "#filters=np.array([[0,2],[0,2,4],[0,2,4,6],[0,2,4,6,8]])\n",
        "#filters=np.array([[0,1,2,3,4,5]])\n",
        "terms = np.array(list(word_table.values()))\n",
        "morps = np.array(list(morp_table.values()))\n",
        "\n",
        "# story에 지배적인 word를 찾는다.\n",
        "\n",
        "# 먼저 word의 강세 분석\n",
        "for filter in word_filters:\n",
        "    #print(filter)\n",
        "    last_idx = len(terms)-(max(filter)+1)\n",
        "    pb = ProgressBar(last_idx,prefix='word density scan :')\n",
        "    for conv in range(last_idx,0,-1):\n",
        "        pb.printProgress(+1,f'filer:{filter} {conv}/{last_idx}       ')\n",
        "        t = np.array(filter) + conv\n",
        "        '''\n",
        "        w = terms[t][0]\n",
        "        if w.endswith('.'):  # '.'으로 끝나는 동사 - '술어' 는 대부분 스토리상중요한 내용 포함. 하여... 이건 제외 단어에서 skip시킴\n",
        "            score = 0.0\n",
        "        else:\n",
        "            #part_sen = ' '.join(terms[t]) \n",
        "            #score = similarity_discriminator([part_sen],org_text_emb)\n",
        "            score = similarity_discriminator([w],org_text_emb)\n",
        "        '''\n",
        "\n",
        "        if morps[t][0] in ('Adjective ','Adverb','Conjunction'):\n",
        "            pass\n",
        "        else:\n",
        "            part_sen = ' '.join(terms[t]) \n",
        "            score = similarity_discriminator(part_sen.strip(),org_text_emb)\n",
        "            word_weights[t] += score\n",
        "        \n",
        "# story의 강세 분석\n",
        "for filter in story_filters:\n",
        "    #print(filter)\n",
        "    last_idx = len(terms)-(max(filter)+1)\n",
        "    pb = ProgressBar(last_idx,prefix='story density scan:')\n",
        "    for conv in range(last_idx,0,-1):\n",
        "        pb.printProgress(+1,f'filer:{filter} {conv}/{last_idx}       ')\n",
        "        t = np.array(filter) + conv\n",
        "        part_sen = ' '.join(terms[t]) \n",
        "        score = similarity_discriminator([part_sen],org_text_emb)\n",
        "        story_weights[t] += score\n",
        "\n",
        "#각각의 peak를 산출\n",
        "word_peaks, _ = find_peaks(word_weights, height=0)\n",
        "story_peaks, _ = find_peaks(story_weights, height=0)\n",
        "\n",
        "#두개의 peak가 겹치는 word에 대해 한개 word가 유사도에 미치는 영향이 큰것으로 간주\n",
        "#해당 word를 유사도 판단 필터에서 제외하고 다시 필터링...\n",
        "#이를 통해 story에 대한 word를 최대한 추출 한다.\n",
        "\n",
        "dup_order = []\n",
        "for i in range(_NOISE_DIM):\n",
        "    #lst = \"\"\n",
        "    if (i in word_peaks) and (i in story_peaks):\n",
        "        if terms[i].endswith('.'):\n",
        "            pass\n",
        "        else:\n",
        "            dup_order.append(i)\n",
        "# Story에 대한 weight을 추출하기 위해, word에 유독 강세가 있는 term을 제외 시킨다.\n",
        "print('Negative words:',terms[dup_order])\n",
        "terms[dup_order] = '---'\n",
        "'''\n",
        "print('Token table of origin text')\n",
        "print('---------------------------------------------')\n",
        "print(' Code         Token      ')\n",
        "print('')\n",
        "for index, word in zip(range(len(terms)),terms):\n",
        "    print( f'  {str(index).ljust(8)}    {word}')\n",
        "print('---------------------------------------------')\n",
        "'''\n",
        "story_weights = np.zeros(_NOISE_DIM,)\n",
        "# 그리고 다시 story 분석 스캔\n",
        "for filter in story_filters:\n",
        "    #print(filter)\n",
        "    last_idx = len(terms)-(max(filter)+1)\n",
        "    pb = ProgressBar(last_idx,prefix='story density scan:')\n",
        "    for conv in range(last_idx):\n",
        "        pb.printProgress(+1,f'filer:{filter} {conv}/{last_idx}       ')\n",
        "        t = np.array(filter) + conv\n",
        "        part_sen = ' '.join(terms[t]) \n",
        "        #part_sen = part_sen.replace('소녀','---')\n",
        "        score = similarity_discriminator([part_sen],org_text_emb)\n",
        "        story_weights[t] += score"
      ],
      "execution_count": 100,
      "outputs": [
        {
          "output_type": "stream",
          "text": [
            "word density scan : |||||||||||||||||||||| 100.0%   filer:[0] 1/129       \n",
            "story density scan: |||||||||||||||||||||| 100.0%   filer:[0, 1] 1/128       \n",
            "story density scan: |||||||||||||||||||||| 100.0%   filer:[0, 1, 2] 1/127       \n",
            "story density scan: |||||||||||||||||||||| 100.0%   filer:[0, 1, 2, 3] 1/126       \n",
            "Negative words: ['사슴을' '사슴을' '사슴을' '사슴은' '나무꾼에게' '훔쳐' '나무꾼에게' '사슴이' '벗고' '사슴이' '나무꾼이'\n",
            " '나무꾼에게']\n",
            "story density scan: |||||||||||||||||||||| 100.0%   filer:[0, 1] 127/128       \n",
            "story density scan: |||||||||||||||||||||| 100.0%   filer:[0, 1, 2] 126/127       \n",
            "story density scan: |||||||||||||||||||||| 100.0%   filer:[0, 1, 2, 3] 125/126       \n"
          ],
          "name": "stdout"
        }
      ]
    },
    {
      "cell_type": "code",
      "metadata": {
        "id": "dWlYtVM-Al-E",
        "outputId": "b885eb9e-6006-4b15-84f4-17d0bd6ec91e",
        "colab": {
          "base_uri": "https://localhost:8080/",
          "height": 430
        }
      },
      "source": [
        "\r\n",
        "# base line\r\n",
        "base_line = 0.0\r\n",
        "# 다시 peak 추출\r\n",
        "story_peaks, _ = find_peaks(story_weights, height=base_line)\r\n",
        "story_peaks = np.append(story_peaks,len(story_weights)-2)\r\n",
        "print(story_peaks)\r\n",
        "# story density 표출\r\n",
        "plt.figure(figsize=(12, 6))\r\n",
        "plt.plot(story_weights)\r\n",
        "plt.plot(story_peaks, story_weights[story_peaks], \"x\")\r\n",
        "plt.plot(np.zeros_like(story_weights)+base_line, \"--\", color=\"gray\")\r\n",
        "plt.show() \r\n",
        "print('Peak count:',len(story_peaks))"
      ],
      "execution_count": 107,
      "outputs": [
        {
          "output_type": "stream",
          "text": [
            "[  4  11  21  24  26  33  39  43  47  51  58  65  71  76  78  85  93 102\n",
            " 105 114 120 128]\n"
          ],
          "name": "stdout"
        },
        {
          "output_type": "display_data",
          "data": {
            "image/png": "[encoded data removed]",
            "text/plain": [
              "<Figure size 864x432 with 1 Axes>"
            ]
          },
          "metadata": {
            "tags": [],
            "needs_background": "light"
          }
        },
        {
          "output_type": "stream",
          "text": [
            "Peak count: 22\n"
          ],
          "name": "stdout"
        }
      ]
    },
    {
      "cell_type": "code",
      "metadata": {
        "id": "qodcFmj9Amtg",
        "outputId": "b4937a9f-a8b3-4c16-ccf7-950a37f6dee1",
        "colab": {
          "base_uri": "https://localhost:8080/"
        }
      },
      "source": [
        "\r\n",
        "# story skeleton 추출\r\n",
        "skel_text = \"\"\r\n",
        "for k in story_peaks:\r\n",
        "    #print(k,term_weight[k],word_table[k])\r\n",
        "    skel_text += word_table[k]+' '  \r\n",
        "\r\n",
        "print(skel_text)\r\n",
        "print('')\r\n",
        "print(f'Peak count:{len(story_peaks)}   Similarity : {similarity_discriminator([skel_text],org_text_emb)}')"
      ],
      "execution_count": 108,
      "outputs": [
        {
          "output_type": "stream",
          "text": [
            "숲 사냥꾼이 나무꾼이 뒤쫓아 사냥꾼을 갚겠다고 목욕하는 목욕을 선녀의 아내로 나무꾼은 목욕을 숨겼다. 선녀들이 내려와 나무꾼은 없어진 선녀들은 선녀를 자신의 못하게 되었다. \n",
            "\n",
            "Peak count:22   Similarity : 0.7400025289317711\n"
          ],
          "name": "stdout"
        }
      ]
    },
    {
      "cell_type": "code",
      "metadata": {
        "trusted": true,
        "id": "vXjghLDh04Jw",
        "outputId": "d6c5bf60-a8b9-4472-971a-91aa50b45da5",
        "colab": {
          "base_uri": "https://localhost:8080/"
        }
      },
      "source": [
        "for index, word in zip(range(len(org_term_set)),org_term_set):\n",
        "    word_table[index] = word\n",
        "    \n",
        "print('Token table of origin text')\n",
        "print('---------------------------------------------')\n",
        "print(' Code         Token              Score')\n",
        "print('')\n",
        "for k in word_table.keys(): \n",
        "  print( f'  {str(k).ljust(8)}    {word_table[k].ljust(10)}    {story_weights[k]}')\n",
        "print('---------------------------------------------')"
      ],
      "execution_count": 109,
      "outputs": [
        {
          "output_type": "stream",
          "text": [
            "Token table of origin text\n",
            "---------------------------------------------\n",
            " Code         Token              Score\n",
            "\n",
            "  0                         1.0105617673969496\n",
            "  1           나무꾼이          2.1435749298001454\n",
            "  2           나무를           2.7355104794818104\n",
            "  3           하다가           3.257948956335863\n",
            "  4           숲             3.545386846508379\n",
            "  5           속에서           2.7415858723774837\n",
            "  6           도망치는          2.0499202646325805\n",
            "  7           사슴을           1.0844162143697529\n",
            "  8           만났는데          1.3335253490589603\n",
            "  9           이             3.017028709479995\n",
            "  10          사슴이           5.237668029209363\n",
            "  11          사냥꾼이          5.767665511471762\n",
            "  12          쫓아오고          5.131361933675175\n",
            "  13          있으니           3.768357779161742\n",
            "  14          자신을           2.773769383758024\n",
            "  15          숨겨달라고         2.1454399040106695\n",
            "  16          말했다.          0.9635126667428264\n",
            "  17          말하는           0.1297303766730702\n",
            "  18          사슴을           -0.06641453160310384\n",
            "  19          신기하게          0.5977838799853041\n",
            "  20          여긴            1.8763438434641884\n",
            "  21          나무꾼이          3.6513804490572994\n",
            "  22          사슴을           3.4730837510811803\n",
            "  23          숨겨줬고          3.8915483865194958\n",
            "  24          뒤쫓아           4.116453201577766\n",
            "  25          온             3.954696807756018\n",
            "  26          사냥꾼을          4.211922885871535\n",
            "  27          다른            2.807562665064597\n",
            "  28          방향으로          1.4461173302613823\n",
            "  29          보내서           1.0508635424666775\n",
            "  30          구해주었다.        0.908962222829461\n",
            "  31          사슴은           0.4011835981668721\n",
            "  32          은혜를           0.31250467897334777\n",
            "  33          갚겠다고          0.41762532205152303\n",
            "  34          하면서           0.1729453006351127\n",
            "  35          나무꾼에게         0.1153119853903265\n",
            "  36          선녀들이          0.47720011752447467\n",
            "  37          하늘에서          0.5698473890992992\n",
            "  38          내려와서          0.9423012660487624\n",
            "  39          목욕하는          1.0361720768891973\n",
            "  40          선녀탕이라는        0.8588721981856594\n",
            "  41          샘과            0.8700576083812995\n",
            "  42          선녀들이          1.1590450108249348\n",
            "  43          목욕을           1.1836546321667987\n",
            "  44          하러            0.7905534946341866\n",
            "  45          오는            0.30056292443273314\n",
            "  46          시기            -0.04185862935083173\n",
            "  47          선녀의           0.10945811862024557\n",
            "  48          옷을            0.03377134094234002\n",
            "  49          훔쳐            0.10165884875354525\n",
            "  50          그를            0.6472381860862061\n",
            "  51          아내로           1.2453624154163472\n",
            "  52          삼도록           1.0870134592472787\n",
            "  53          하는            0.5202839480779241\n",
            "  54          꾀를            0.2487795484461779\n",
            "  55          나무꾼에게         0.03723109445962136\n",
            "  56          가르쳐           0.4919737594034965\n",
            "  57          주었다.          1.4783686314814135\n",
            "  58          나무꾼은          2.703843405639609\n",
            "  59          반신반의          2.0769920247814055\n",
            "  60          하면서도          1.1164312144763058\n",
            "  61          사슴이           0.27139369271026714\n",
            "  62          가르쳐준          0.15193692379742585\n",
            "  63          시기에           0.34034542657956335\n",
            "  64          선녀들이          1.0319195337551712\n",
            "  65          목욕을           1.2065013063968515\n",
            "  66          하러            1.1470419389538196\n",
            "  67          내려온다는         1.051640383394541\n",
            "  68          샘으로           1.042822981991108\n",
            "  69          찾아가           1.4645915788146604\n",
            "  70          몸을            1.716746822821522\n",
            "  71          숨겼다.          1.8930058604819626\n",
            "  72          그렇게           1.3610641136340345\n",
            "  73          잠시간           1.242083173987909\n",
            "  74          기다리자          0.8159647946676174\n",
            "  75          과연            0.7162128120902967\n",
            "  76          선녀들이          0.7363532585582849\n",
            "  77          하늘에서          0.36178375194483536\n",
            "  78          내려와           0.474755389709959\n",
            "  79          날개옷을          0.19397600539786286\n",
            "  80          벗고            0.1944441027799788\n",
            "  81          선녀탕에서         0.4887517753547058\n",
            "  82          목욕을           0.7697775395515215\n",
            "  83          하는            1.0107819140146774\n",
            "  84          것이었다.         1.7491326497640145\n",
            "  85          나무꾼은          2.6975514068244584\n",
            "  86          사슴이           1.6123887696892005\n",
            "  87          가르쳐준          0.7262009120266425\n",
            "  88          대로            -0.009048267691740275\n",
            "  89          날개옷을          -0.13069256426663167\n",
            "  90          하나            0.26025713809618156\n",
            "  91          훔쳤다.          0.9730287883854173\n",
            "  92          날개옷이          1.1034987834150956\n",
            "  93          없어진           1.2036827197308493\n",
            "  94          탓에            0.8073823512082019\n",
            "  95          한             0.21986564944615916\n",
            "  96          명의            -0.12372065737188154\n",
            "  97          선녀는           -0.06709774165756754\n",
            "  98          하늘로           -0.13331132490501407\n",
            "  99          올라가지          0.28049070574303014\n",
            "  100         못했으며          0.75689769536116\n",
            "  101         다른            1.0524661329929086\n",
            "  102         선녀들은          1.060274628052964\n",
            "  103         날개옷이          0.7202122920865182\n",
            "  104         없는            0.8214586741299704\n",
            "  105         선녀를           0.9295566403099194\n",
            "  106         내버려두고         0.6459497328282142\n",
            "  107         하늘로           -0.20086040409811412\n",
            "  108         돌아갔다.         -0.6011448665224274\n",
            "  109         이때            -0.6386847830056378\n",
            "  110         나무꾼이          -0.10375555907416778\n",
            "  111         홀로            0.7767440342402243\n",
            "  112         남은            0.9960721489419733\n",
            "  113         선녀에게          1.3268045123538934\n",
            "  114         자신의           1.571586283494022\n",
            "  115         아내가           1.4607797234334394\n",
            "  116         되어달라고         0.9540030951342645\n",
            "  117         하자            0.3721449337377709\n",
            "  118         하늘나라로         0.06667844178900462\n",
            "  119         올라가지          0.23527249616629364\n",
            "  120         못하게           0.4797741288509567\n",
            "  121         된             0.3464169552500086\n",
            "  122         선녀는           0.2465691356402564\n",
            "  123         할             -0.2868500928903692\n",
            "  124         수             -0.8055704379733855\n",
            "  125         없이            -0.49720172065643964\n",
            "  126         나무꾼에게         -0.517197619801721\n",
            "  127         의탁하게          -0.34908246738937954\n",
            "  128         되었다.          -0.1447682133169328\n",
            "  129                       0.0\n",
            "---------------------------------------------\n"
          ],
          "name": "stdout"
        }
      ]
    },
    {
      "cell_type": "code",
      "metadata": {
        "trusted": true,
        "id": "o1aRT1k904Jx"
      },
      "source": [
        "\n",
        "# text의 생성\n",
        "def text_gen(noise, term_length):\n",
        "    gtext = []\n",
        "    sorted_noise = np.sort(noise)[::-1]\n",
        "    order = np.where(noise > sorted_noise[term_length+1])[0][-term_length:]\n",
        "    assert len(order) == term_length\n",
        "    for k in order:\n",
        "        gtext.append((word_table[k],k))\n",
        "        #text += word_table[k]+' '    \n",
        "    return gtext "
      ],
      "execution_count": 78,
      "outputs": []
    },
    {
      "cell_type": "code",
      "metadata": {
        "trusted": true,
        "id": "yO6KzT4c04Jx",
        "outputId": "eebe9ded-0812-4ee2-db85-4ecee6ab81fb",
        "colab": {
          "base_uri": "https://localhost:8080/",
          "height": 360
        }
      },
      "source": [
        "term_weight = np.zeros(_NOISE_DIM,)\n",
        "\n",
        "verbose = False\n",
        "p_score = 0\n",
        "scale = 50\n",
        "epochs = 5000\n",
        "sum_length = len(story_peaks) + int(len(story_peaks)*1.0)\n",
        "pb = ProgressBar(epochs/scale,prefix='Train...')\n",
        "count = 1\n",
        "for epoch in range(epochs):\n",
        "    noise = np.random.rand(_NOISE_DIM,)\n",
        "    # stroy peak에 해당하는 term에게 평균값에 해당하는 bias를 추가 한다.\n",
        "    noise[story_peaks] += np.mean(noise) / 2\n",
        "    noise += term_weight / count\n",
        "    gtext = text_gen(noise,sum_length)\n",
        "    #print(' '.join([w for (w,k) in gtext]))\n",
        "    #print([k for (w,k) in gtext])    \n",
        "    # 문장 단위로 잘라서 문법 체크...\n",
        "    total_score = []\n",
        "    tw = \"\"\n",
        "    tk = []\n",
        "    for (w,k) in gtext:\n",
        "        tw += w + ' '\n",
        "        tk.append(k)\n",
        "        if w.endswith('.'):\n",
        "            # morpheme_discriminator\n",
        "            #print(tk)\n",
        "            score = morpheme_discriminator([tw])[0]\n",
        "            if verbose:\n",
        "                print(f'score:{score} text:{tw}')\n",
        "            term_weight[tk] += score\n",
        "            total_score.append(score)\n",
        "            tw = \"\"\n",
        "            tk = []\n",
        "            \n",
        "    if len(tk) > 0:\n",
        "        # morpheme_discriminator\n",
        "        #print(tw)\n",
        "        #print(tk)        \n",
        "        score = morpheme_discriminator([tw])[0]\n",
        "        if verbose:\n",
        "            print(f'score:{score} text:{tw}')\n",
        "        term_weight[tk] += score\n",
        "        total_score.append(score)\n",
        "        tw = \"\"\n",
        "        tk = []        \n",
        "            \n",
        "    #term_weight[order] += score\n",
        "    '''\n",
        "    reward = p_score - score\n",
        "    if (p_score ==0):\n",
        "        pass\n",
        "    else:\n",
        "        term_weight[order] += reward\n",
        "    p_score = score\n",
        "    '''\n",
        "    text = ' '.join([w for (w,k) in gtext])\n",
        "\n",
        "    score = similarity_discriminator([text],org_text_emb)\n",
        "\n",
        "    reward = p_score - score\n",
        "    if (p_score ==0):\n",
        "        pass\n",
        "    else:\n",
        "        term_weight[order] += reward\n",
        "    s_score = score\n",
        "\n",
        "    count += 1\n",
        "    if epoch%scale == 0:\n",
        "        pb.printProgress(+1,f'{epoch+scale}/{epochs} epochs, m_score:{np.mean(total_score)} s_score:{score} {text}                                            ')\n",
        "\n",
        "        \n",
        "#plt.plot(term_weight)\n",
        "plt.plot(term_weight)\n",
        "plt.show()\n",
        "gtext = text_gen(term_weight,sum_length)\n",
        "text = ' '.join([w for (w,k) in gtext])\n",
        "score = similarity_discriminator([text],org_text_emb)\n",
        "print('result text : ',text)\n",
        "print('result score : ',score)\n",
        "print('skel_text : ',skel_text)"
      ],
      "execution_count": 114,
      "outputs": [
        {
          "output_type": "stream",
          "text": [
            "Train... |||||||||||||||||||||| 100.0%   5000/5000 epochs, m_score:1.1507176160812378 s_score:0.8347366241403736 속에서 만났는데 사슴이 사냥꾼이 있으니 자신을 숨겨달라고 말했다. 사슴을 신기하게 나무꾼이 뒤쫓아 사냥꾼을 구해주었다. 은혜를 갚겠다고 선녀들이 하늘에서 목욕하는 목욕을 선녀의 아내로 나무꾼은 하면서도 가르쳐준 목욕을 하러 내려온다는 숨겼다. 그렇게 기다리자 선녀들이 하늘에서 내려와 선녀탕에서 나무꾼은 가르쳐준 없어진 한 선녀는 선녀들은 없는 선녀를 되었다.                                            \n"
          ],
          "name": "stdout"
        },
        {
          "output_type": "display_data",
          "data": {
            "image/png": "[encoded data removed]",
            "text/plain": [
              "<Figure size 432x288 with 1 Axes>"
            ]
          },
          "metadata": {
            "tags": [],
            "needs_background": "light"
          }
        },
        {
          "output_type": "stream",
          "text": [
            "result text :  만났는데 이 사슴이 사냥꾼이 쫓아오고 있으니 자신을 숨겨달라고 말했다. 사슴을 나무꾼이 뒤쫓아 사냥꾼을 사슴은 갚겠다고 선녀들이 하늘에서 목욕하는 선녀들이 목욕을 시기 선녀의 아내로 주었다. 나무꾼은 목욕을 숨겼다. 잠시간 선녀들이 하늘에서 내려와 선녀탕에서 목욕을 나무꾼은 하나 날개옷이 없어진 탓에 한 다른 선녀들은 선녀를 내버려두고 돌아갔다.\n",
            "result score :  0.8545003183331901\n",
            "skel_text :  숲 사냥꾼이 나무꾼이 뒤쫓아 사냥꾼을 갚겠다고 목욕하는 목욕을 선녀의 아내로 나무꾼은 목욕을 숨겼다. 선녀들이 내려와 나무꾼은 없어진 선녀들은 선녀를 자신의 못하게 되었다. \n"
          ],
          "name": "stdout"
        }
      ]
    }
  ]
}