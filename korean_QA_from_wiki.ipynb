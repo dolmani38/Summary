{
  "nbformat": 4,
  "nbformat_minor": 0,
  "metadata": {
    "colab": {
      "name": "Untitled9.ipynb",
      "provenance": [],
      "authorship_tag": "ABX9TyNHY9f/4zNuZ9Tm9oMV7S59",
      "include_colab_link": true
    },
    "kernelspec": {
      "name": "python3",
      "display_name": "Python 3"
    },
    "widgets": {
      "application/vnd.jupyter.widget-state+json": {
        "e86f5ee5e49e4a33ac78d2763747eb22": {
          "model_module": "@jupyter-widgets/controls",
          "model_name": "HBoxModel",
          "state": {
            "_view_name": "HBoxView",
            "_dom_classes": [],
            "_model_name": "HBoxModel",
            "_view_module": "@jupyter-widgets/controls",
            "_model_module_version": "1.5.0",
            "_view_count": null,
            "_view_module_version": "1.5.0",
            "box_style": "",
            "layout": "IPY_MODEL_768692752d4f4dd2ab0bd0d85d0b246b",
            "_model_module": "@jupyter-widgets/controls",
            "children": [
              "IPY_MODEL_bad642a6a9df4b83ab37c09f28e48ab8",
              "IPY_MODEL_eacd570edc5b4535b4dc72fa3a14efd6"
            ]
          }
        },
        "768692752d4f4dd2ab0bd0d85d0b246b": {
          "model_module": "@jupyter-widgets/base",
          "model_name": "LayoutModel",
          "state": {
            "_view_name": "LayoutView",
            "grid_template_rows": null,
            "right": null,
            "justify_content": null,
            "_view_module": "@jupyter-widgets/base",
            "overflow": null,
            "_model_module_version": "1.2.0",
            "_view_count": null,
            "flex_flow": null,
            "width": null,
            "min_width": null,
            "border": null,
            "align_items": null,
            "bottom": null,
            "_model_module": "@jupyter-widgets/base",
            "top": null,
            "grid_column": null,
            "overflow_y": null,
            "overflow_x": null,
            "grid_auto_flow": null,
            "grid_area": null,
            "grid_template_columns": null,
            "flex": null,
            "_model_name": "LayoutModel",
            "justify_items": null,
            "grid_row": null,
            "max_height": null,
            "align_content": null,
            "visibility": null,
            "align_self": null,
            "height": null,
            "min_height": null,
            "padding": null,
            "grid_auto_rows": null,
            "grid_gap": null,
            "max_width": null,
            "order": null,
            "_view_module_version": "1.2.0",
            "grid_template_areas": null,
            "object_position": null,
            "object_fit": null,
            "grid_auto_columns": null,
            "margin": null,
            "display": null,
            "left": null
          }
        },
        "bad642a6a9df4b83ab37c09f28e48ab8": {
          "model_module": "@jupyter-widgets/controls",
          "model_name": "FloatProgressModel",
          "state": {
            "_view_name": "ProgressView",
            "style": "IPY_MODEL_ec3fcfdecc0746d3beb7b0d3d319144d",
            "_dom_classes": [],
            "description": "Downloading: 100%",
            "_model_name": "FloatProgressModel",
            "bar_style": "success",
            "max": 591,
            "_view_module": "@jupyter-widgets/controls",
            "_model_module_version": "1.5.0",
            "value": 591,
            "_view_count": null,
            "_view_module_version": "1.5.0",
            "orientation": "horizontal",
            "min": 0,
            "description_tooltip": null,
            "_model_module": "@jupyter-widgets/controls",
            "layout": "IPY_MODEL_db253b4f319e4b6e9a4054ceeff63d4f"
          }
        },
        "eacd570edc5b4535b4dc72fa3a14efd6": {
          "model_module": "@jupyter-widgets/controls",
          "model_name": "HTMLModel",
          "state": {
            "_view_name": "HTMLView",
            "style": "IPY_MODEL_3cde61eed5cf4300ac7a9d8e482b9dd8",
            "_dom_classes": [],
            "description": "",
            "_model_name": "HTMLModel",
            "placeholder": "​",
            "_view_module": "@jupyter-widgets/controls",
            "_model_module_version": "1.5.0",
            "value": " 591/591 [00:01&lt;00:00, 541B/s]",
            "_view_count": null,
            "_view_module_version": "1.5.0",
            "description_tooltip": null,
            "_model_module": "@jupyter-widgets/controls",
            "layout": "IPY_MODEL_93e67e3442f248b7a782f47db9974cfb"
          }
        },
        "ec3fcfdecc0746d3beb7b0d3d319144d": {
          "model_module": "@jupyter-widgets/controls",
          "model_name": "ProgressStyleModel",
          "state": {
            "_view_name": "StyleView",
            "_model_name": "ProgressStyleModel",
            "description_width": "initial",
            "_view_module": "@jupyter-widgets/base",
            "_model_module_version": "1.5.0",
            "_view_count": null,
            "_view_module_version": "1.2.0",
            "bar_color": null,
            "_model_module": "@jupyter-widgets/controls"
          }
        },
        "db253b4f319e4b6e9a4054ceeff63d4f": {
          "model_module": "@jupyter-widgets/base",
          "model_name": "LayoutModel",
          "state": {
            "_view_name": "LayoutView",
            "grid_template_rows": null,
            "right": null,
            "justify_content": null,
            "_view_module": "@jupyter-widgets/base",
            "overflow": null,
            "_model_module_version": "1.2.0",
            "_view_count": null,
            "flex_flow": null,
            "width": null,
            "min_width": null,
            "border": null,
            "align_items": null,
            "bottom": null,
            "_model_module": "@jupyter-widgets/base",
            "top": null,
            "grid_column": null,
            "overflow_y": null,
            "overflow_x": null,
            "grid_auto_flow": null,
            "grid_area": null,
            "grid_template_columns": null,
            "flex": null,
            "_model_name": "LayoutModel",
            "justify_items": null,
            "grid_row": null,
            "max_height": null,
            "align_content": null,
            "visibility": null,
            "align_self": null,
            "height": null,
            "min_height": null,
            "padding": null,
            "grid_auto_rows": null,
            "grid_gap": null,
            "max_width": null,
            "order": null,
            "_view_module_version": "1.2.0",
            "grid_template_areas": null,
            "object_position": null,
            "object_fit": null,
            "grid_auto_columns": null,
            "margin": null,
            "display": null,
            "left": null
          }
        },
        "3cde61eed5cf4300ac7a9d8e482b9dd8": {
          "model_module": "@jupyter-widgets/controls",
          "model_name": "DescriptionStyleModel",
          "state": {
            "_view_name": "StyleView",
            "_model_name": "DescriptionStyleModel",
            "description_width": "",
            "_view_module": "@jupyter-widgets/base",
            "_model_module_version": "1.5.0",
            "_view_count": null,
            "_view_module_version": "1.2.0",
            "_model_module": "@jupyter-widgets/controls"
          }
        },
        "93e67e3442f248b7a782f47db9974cfb": {
          "model_module": "@jupyter-widgets/base",
          "model_name": "LayoutModel",
          "state": {
            "_view_name": "LayoutView",
            "grid_template_rows": null,
            "right": null,
            "justify_content": null,
            "_view_module": "@jupyter-widgets/base",
            "overflow": null,
            "_model_module_version": "1.2.0",
            "_view_count": null,
            "flex_flow": null,
            "width": null,
            "min_width": null,
            "border": null,
            "align_items": null,
            "bottom": null,
            "_model_module": "@jupyter-widgets/base",
            "top": null,
            "grid_column": null,
            "overflow_y": null,
            "overflow_x": null,
            "grid_auto_flow": null,
            "grid_area": null,
            "grid_template_columns": null,
            "flex": null,
            "_model_name": "LayoutModel",
            "justify_items": null,
            "grid_row": null,
            "max_height": null,
            "align_content": null,
            "visibility": null,
            "align_self": null,
            "height": null,
            "min_height": null,
            "padding": null,
            "grid_auto_rows": null,
            "grid_gap": null,
            "max_width": null,
            "order": null,
            "_view_module_version": "1.2.0",
            "grid_template_areas": null,
            "object_position": null,
            "object_fit": null,
            "grid_auto_columns": null,
            "margin": null,
            "display": null,
            "left": null
          }
        },
        "4dfe21e57217436a88115c8fcc52e416": {
          "model_module": "@jupyter-widgets/controls",
          "model_name": "HBoxModel",
          "state": {
            "_view_name": "HBoxView",
            "_dom_classes": [],
            "_model_name": "HBoxModel",
            "_view_module": "@jupyter-widgets/controls",
            "_model_module_version": "1.5.0",
            "_view_count": null,
            "_view_module_version": "1.5.0",
            "box_style": "",
            "layout": "IPY_MODEL_190695bfbe964e12b815e43cf80857ed",
            "_model_module": "@jupyter-widgets/controls",
            "children": [
              "IPY_MODEL_770d76b5684e424ab7916aacedb92d91",
              "IPY_MODEL_b164326f58eb4f1badab252e6f417b4f"
            ]
          }
        },
        "190695bfbe964e12b815e43cf80857ed": {
          "model_module": "@jupyter-widgets/base",
          "model_name": "LayoutModel",
          "state": {
            "_view_name": "LayoutView",
            "grid_template_rows": null,
            "right": null,
            "justify_content": null,
            "_view_module": "@jupyter-widgets/base",
            "overflow": null,
            "_model_module_version": "1.2.0",
            "_view_count": null,
            "flex_flow": null,
            "width": null,
            "min_width": null,
            "border": null,
            "align_items": null,
            "bottom": null,
            "_model_module": "@jupyter-widgets/base",
            "top": null,
            "grid_column": null,
            "overflow_y": null,
            "overflow_x": null,
            "grid_auto_flow": null,
            "grid_area": null,
            "grid_template_columns": null,
            "flex": null,
            "_model_name": "LayoutModel",
            "justify_items": null,
            "grid_row": null,
            "max_height": null,
            "align_content": null,
            "visibility": null,
            "align_self": null,
            "height": null,
            "min_height": null,
            "padding": null,
            "grid_auto_rows": null,
            "grid_gap": null,
            "max_width": null,
            "order": null,
            "_view_module_version": "1.2.0",
            "grid_template_areas": null,
            "object_position": null,
            "object_fit": null,
            "grid_auto_columns": null,
            "margin": null,
            "display": null,
            "left": null
          }
        },
        "770d76b5684e424ab7916aacedb92d91": {
          "model_module": "@jupyter-widgets/controls",
          "model_name": "FloatProgressModel",
          "state": {
            "_view_name": "ProgressView",
            "style": "IPY_MODEL_2b1c7d16cab641c7bfe29ab537365169",
            "_dom_classes": [],
            "description": "Downloading: 100%",
            "_model_name": "FloatProgressModel",
            "bar_style": "success",
            "max": 263327,
            "_view_module": "@jupyter-widgets/controls",
            "_model_module_version": "1.5.0",
            "value": 263327,
            "_view_count": null,
            "_view_module_version": "1.5.0",
            "orientation": "horizontal",
            "min": 0,
            "description_tooltip": null,
            "_model_module": "@jupyter-widgets/controls",
            "layout": "IPY_MODEL_4dc6ec5c44644bda89aef0b08e6ce134"
          }
        },
        "b164326f58eb4f1badab252e6f417b4f": {
          "model_module": "@jupyter-widgets/controls",
          "model_name": "HTMLModel",
          "state": {
            "_view_name": "HTMLView",
            "style": "IPY_MODEL_06cfee341afa462a9423092e72f4632f",
            "_dom_classes": [],
            "description": "",
            "_model_name": "HTMLModel",
            "placeholder": "​",
            "_view_module": "@jupyter-widgets/controls",
            "_model_module_version": "1.5.0",
            "value": " 263k/263k [00:00&lt;00:00, 661kB/s]",
            "_view_count": null,
            "_view_module_version": "1.5.0",
            "description_tooltip": null,
            "_model_module": "@jupyter-widgets/controls",
            "layout": "IPY_MODEL_0066107657644d24833b77bc1919ead5"
          }
        },
        "2b1c7d16cab641c7bfe29ab537365169": {
          "model_module": "@jupyter-widgets/controls",
          "model_name": "ProgressStyleModel",
          "state": {
            "_view_name": "StyleView",
            "_model_name": "ProgressStyleModel",
            "description_width": "initial",
            "_view_module": "@jupyter-widgets/base",
            "_model_module_version": "1.5.0",
            "_view_count": null,
            "_view_module_version": "1.2.0",
            "bar_color": null,
            "_model_module": "@jupyter-widgets/controls"
          }
        },
        "4dc6ec5c44644bda89aef0b08e6ce134": {
          "model_module": "@jupyter-widgets/base",
          "model_name": "LayoutModel",
          "state": {
            "_view_name": "LayoutView",
            "grid_template_rows": null,
            "right": null,
            "justify_content": null,
            "_view_module": "@jupyter-widgets/base",
            "overflow": null,
            "_model_module_version": "1.2.0",
            "_view_count": null,
            "flex_flow": null,
            "width": null,
            "min_width": null,
            "border": null,
            "align_items": null,
            "bottom": null,
            "_model_module": "@jupyter-widgets/base",
            "top": null,
            "grid_column": null,
            "overflow_y": null,
            "overflow_x": null,
            "grid_auto_flow": null,
            "grid_area": null,
            "grid_template_columns": null,
            "flex": null,
            "_model_name": "LayoutModel",
            "justify_items": null,
            "grid_row": null,
            "max_height": null,
            "align_content": null,
            "visibility": null,
            "align_self": null,
            "height": null,
            "min_height": null,
            "padding": null,
            "grid_auto_rows": null,
            "grid_gap": null,
            "max_width": null,
            "order": null,
            "_view_module_version": "1.2.0",
            "grid_template_areas": null,
            "object_position": null,
            "object_fit": null,
            "grid_auto_columns": null,
            "margin": null,
            "display": null,
            "left": null
          }
        },
        "06cfee341afa462a9423092e72f4632f": {
          "model_module": "@jupyter-widgets/controls",
          "model_name": "DescriptionStyleModel",
          "state": {
            "_view_name": "StyleView",
            "_model_name": "DescriptionStyleModel",
            "description_width": "",
            "_view_module": "@jupyter-widgets/base",
            "_model_module_version": "1.5.0",
            "_view_count": null,
            "_view_module_version": "1.2.0",
            "_model_module": "@jupyter-widgets/controls"
          }
        },
        "0066107657644d24833b77bc1919ead5": {
          "model_module": "@jupyter-widgets/base",
          "model_name": "LayoutModel",
          "state": {
            "_view_name": "LayoutView",
            "grid_template_rows": null,
            "right": null,
            "justify_content": null,
            "_view_module": "@jupyter-widgets/base",
            "overflow": null,
            "_model_module_version": "1.2.0",
            "_view_count": null,
            "flex_flow": null,
            "width": null,
            "min_width": null,
            "border": null,
            "align_items": null,
            "bottom": null,
            "_model_module": "@jupyter-widgets/base",
            "top": null,
            "grid_column": null,
            "overflow_y": null,
            "overflow_x": null,
            "grid_auto_flow": null,
            "grid_area": null,
            "grid_template_columns": null,
            "flex": null,
            "_model_name": "LayoutModel",
            "justify_items": null,
            "grid_row": null,
            "max_height": null,
            "align_content": null,
            "visibility": null,
            "align_self": null,
            "height": null,
            "min_height": null,
            "padding": null,
            "grid_auto_rows": null,
            "grid_gap": null,
            "max_width": null,
            "order": null,
            "_view_module_version": "1.2.0",
            "grid_template_areas": null,
            "object_position": null,
            "object_fit": null,
            "grid_auto_columns": null,
            "margin": null,
            "display": null,
            "left": null
          }
        },
        "343c3bff3f814eeaa2427406c25d4c2a": {
          "model_module": "@jupyter-widgets/controls",
          "model_name": "HBoxModel",
          "state": {
            "_view_name": "HBoxView",
            "_dom_classes": [],
            "_model_name": "HBoxModel",
            "_view_module": "@jupyter-widgets/controls",
            "_model_module_version": "1.5.0",
            "_view_count": null,
            "_view_module_version": "1.5.0",
            "box_style": "",
            "layout": "IPY_MODEL_73d2220bb467460a96202402bdb63b39",
            "_model_module": "@jupyter-widgets/controls",
            "children": [
              "IPY_MODEL_f31cc2db059e476ea7bf872e544dbe5b",
              "IPY_MODEL_3eadb6ca2f3e4e12a9fc85c5067e36ee"
            ]
          }
        },
        "73d2220bb467460a96202402bdb63b39": {
          "model_module": "@jupyter-widgets/base",
          "model_name": "LayoutModel",
          "state": {
            "_view_name": "LayoutView",
            "grid_template_rows": null,
            "right": null,
            "justify_content": null,
            "_view_module": "@jupyter-widgets/base",
            "overflow": null,
            "_model_module_version": "1.2.0",
            "_view_count": null,
            "flex_flow": null,
            "width": null,
            "min_width": null,
            "border": null,
            "align_items": null,
            "bottom": null,
            "_model_module": "@jupyter-widgets/base",
            "top": null,
            "grid_column": null,
            "overflow_y": null,
            "overflow_x": null,
            "grid_auto_flow": null,
            "grid_area": null,
            "grid_template_columns": null,
            "flex": null,
            "_model_name": "LayoutModel",
            "justify_items": null,
            "grid_row": null,
            "max_height": null,
            "align_content": null,
            "visibility": null,
            "align_self": null,
            "height": null,
            "min_height": null,
            "padding": null,
            "grid_auto_rows": null,
            "grid_gap": null,
            "max_width": null,
            "order": null,
            "_view_module_version": "1.2.0",
            "grid_template_areas": null,
            "object_position": null,
            "object_fit": null,
            "grid_auto_columns": null,
            "margin": null,
            "display": null,
            "left": null
          }
        },
        "f31cc2db059e476ea7bf872e544dbe5b": {
          "model_module": "@jupyter-widgets/controls",
          "model_name": "FloatProgressModel",
          "state": {
            "_view_name": "ProgressView",
            "style": "IPY_MODEL_2756cee7e4c943409fe5c7a78d120b57",
            "_dom_classes": [],
            "description": "Downloading: 100%",
            "_model_name": "FloatProgressModel",
            "bar_style": "success",
            "max": 112,
            "_view_module": "@jupyter-widgets/controls",
            "_model_module_version": "1.5.0",
            "value": 112,
            "_view_count": null,
            "_view_module_version": "1.5.0",
            "orientation": "horizontal",
            "min": 0,
            "description_tooltip": null,
            "_model_module": "@jupyter-widgets/controls",
            "layout": "IPY_MODEL_8acdcc0ed5e249d2a774cb4a28d05f6d"
          }
        },
        "3eadb6ca2f3e4e12a9fc85c5067e36ee": {
          "model_module": "@jupyter-widgets/controls",
          "model_name": "HTMLModel",
          "state": {
            "_view_name": "HTMLView",
            "style": "IPY_MODEL_4978a6832b9a46e7823649ec717f7384",
            "_dom_classes": [],
            "description": "",
            "_model_name": "HTMLModel",
            "placeholder": "​",
            "_view_module": "@jupyter-widgets/controls",
            "_model_module_version": "1.5.0",
            "value": " 112/112 [00:00&lt;00:00, 268B/s]",
            "_view_count": null,
            "_view_module_version": "1.5.0",
            "description_tooltip": null,
            "_model_module": "@jupyter-widgets/controls",
            "layout": "IPY_MODEL_22babb7583664736bfc8551ca2ea6ff8"
          }
        },
        "2756cee7e4c943409fe5c7a78d120b57": {
          "model_module": "@jupyter-widgets/controls",
          "model_name": "ProgressStyleModel",
          "state": {
            "_view_name": "StyleView",
            "_model_name": "ProgressStyleModel",
            "description_width": "initial",
            "_view_module": "@jupyter-widgets/base",
            "_model_module_version": "1.5.0",
            "_view_count": null,
            "_view_module_version": "1.2.0",
            "bar_color": null,
            "_model_module": "@jupyter-widgets/controls"
          }
        },
        "8acdcc0ed5e249d2a774cb4a28d05f6d": {
          "model_module": "@jupyter-widgets/base",
          "model_name": "LayoutModel",
          "state": {
            "_view_name": "LayoutView",
            "grid_template_rows": null,
            "right": null,
            "justify_content": null,
            "_view_module": "@jupyter-widgets/base",
            "overflow": null,
            "_model_module_version": "1.2.0",
            "_view_count": null,
            "flex_flow": null,
            "width": null,
            "min_width": null,
            "border": null,
            "align_items": null,
            "bottom": null,
            "_model_module": "@jupyter-widgets/base",
            "top": null,
            "grid_column": null,
            "overflow_y": null,
            "overflow_x": null,
            "grid_auto_flow": null,
            "grid_area": null,
            "grid_template_columns": null,
            "flex": null,
            "_model_name": "LayoutModel",
            "justify_items": null,
            "grid_row": null,
            "max_height": null,
            "align_content": null,
            "visibility": null,
            "align_self": null,
            "height": null,
            "min_height": null,
            "padding": null,
            "grid_auto_rows": null,
            "grid_gap": null,
            "max_width": null,
            "order": null,
            "_view_module_version": "1.2.0",
            "grid_template_areas": null,
            "object_position": null,
            "object_fit": null,
            "grid_auto_columns": null,
            "margin": null,
            "display": null,
            "left": null
          }
        },
        "4978a6832b9a46e7823649ec717f7384": {
          "model_module": "@jupyter-widgets/controls",
          "model_name": "DescriptionStyleModel",
          "state": {
            "_view_name": "StyleView",
            "_model_name": "DescriptionStyleModel",
            "description_width": "",
            "_view_module": "@jupyter-widgets/base",
            "_model_module_version": "1.5.0",
            "_view_count": null,
            "_view_module_version": "1.2.0",
            "_model_module": "@jupyter-widgets/controls"
          }
        },
        "22babb7583664736bfc8551ca2ea6ff8": {
          "model_module": "@jupyter-widgets/base",
          "model_name": "LayoutModel",
          "state": {
            "_view_name": "LayoutView",
            "grid_template_rows": null,
            "right": null,
            "justify_content": null,
            "_view_module": "@jupyter-widgets/base",
            "overflow": null,
            "_model_module_version": "1.2.0",
            "_view_count": null,
            "flex_flow": null,
            "width": null,
            "min_width": null,
            "border": null,
            "align_items": null,
            "bottom": null,
            "_model_module": "@jupyter-widgets/base",
            "top": null,
            "grid_column": null,
            "overflow_y": null,
            "overflow_x": null,
            "grid_auto_flow": null,
            "grid_area": null,
            "grid_template_columns": null,
            "flex": null,
            "_model_name": "LayoutModel",
            "justify_items": null,
            "grid_row": null,
            "max_height": null,
            "align_content": null,
            "visibility": null,
            "align_self": null,
            "height": null,
            "min_height": null,
            "padding": null,
            "grid_auto_rows": null,
            "grid_gap": null,
            "max_width": null,
            "order": null,
            "_view_module_version": "1.2.0",
            "grid_template_areas": null,
            "object_position": null,
            "object_fit": null,
            "grid_auto_columns": null,
            "margin": null,
            "display": null,
            "left": null
          }
        },
        "11ee204afb294f34974b04b68762698f": {
          "model_module": "@jupyter-widgets/controls",
          "model_name": "HBoxModel",
          "state": {
            "_view_name": "HBoxView",
            "_dom_classes": [],
            "_model_name": "HBoxModel",
            "_view_module": "@jupyter-widgets/controls",
            "_model_module_version": "1.5.0",
            "_view_count": null,
            "_view_module_version": "1.5.0",
            "box_style": "",
            "layout": "IPY_MODEL_477984db72894815bf39a7e6b933b232",
            "_model_module": "@jupyter-widgets/controls",
            "children": [
              "IPY_MODEL_3f034674536e46c6a2733f90ec816590",
              "IPY_MODEL_d2764851fdd245e791bddd79724d9309"
            ]
          }
        },
        "477984db72894815bf39a7e6b933b232": {
          "model_module": "@jupyter-widgets/base",
          "model_name": "LayoutModel",
          "state": {
            "_view_name": "LayoutView",
            "grid_template_rows": null,
            "right": null,
            "justify_content": null,
            "_view_module": "@jupyter-widgets/base",
            "overflow": null,
            "_model_module_version": "1.2.0",
            "_view_count": null,
            "flex_flow": null,
            "width": null,
            "min_width": null,
            "border": null,
            "align_items": null,
            "bottom": null,
            "_model_module": "@jupyter-widgets/base",
            "top": null,
            "grid_column": null,
            "overflow_y": null,
            "overflow_x": null,
            "grid_auto_flow": null,
            "grid_area": null,
            "grid_template_columns": null,
            "flex": null,
            "_model_name": "LayoutModel",
            "justify_items": null,
            "grid_row": null,
            "max_height": null,
            "align_content": null,
            "visibility": null,
            "align_self": null,
            "height": null,
            "min_height": null,
            "padding": null,
            "grid_auto_rows": null,
            "grid_gap": null,
            "max_width": null,
            "order": null,
            "_view_module_version": "1.2.0",
            "grid_template_areas": null,
            "object_position": null,
            "object_fit": null,
            "grid_auto_columns": null,
            "margin": null,
            "display": null,
            "left": null
          }
        },
        "3f034674536e46c6a2733f90ec816590": {
          "model_module": "@jupyter-widgets/controls",
          "model_name": "FloatProgressModel",
          "state": {
            "_view_name": "ProgressView",
            "style": "IPY_MODEL_eea42904124040cfab3b093add0bbf35",
            "_dom_classes": [],
            "description": "Downloading: 100%",
            "_model_name": "FloatProgressModel",
            "bar_style": "success",
            "max": 111,
            "_view_module": "@jupyter-widgets/controls",
            "_model_module_version": "1.5.0",
            "value": 111,
            "_view_count": null,
            "_view_module_version": "1.5.0",
            "orientation": "horizontal",
            "min": 0,
            "description_tooltip": null,
            "_model_module": "@jupyter-widgets/controls",
            "layout": "IPY_MODEL_66bc857eff374ca1813d63bbfaa34573"
          }
        },
        "d2764851fdd245e791bddd79724d9309": {
          "model_module": "@jupyter-widgets/controls",
          "model_name": "HTMLModel",
          "state": {
            "_view_name": "HTMLView",
            "style": "IPY_MODEL_f6b0f0d3f4434cc8aac835e2c2f63780",
            "_dom_classes": [],
            "description": "",
            "_model_name": "HTMLModel",
            "placeholder": "​",
            "_view_module": "@jupyter-widgets/controls",
            "_model_module_version": "1.5.0",
            "value": " 111/111 [00:00&lt;00:00, 686B/s]",
            "_view_count": null,
            "_view_module_version": "1.5.0",
            "description_tooltip": null,
            "_model_module": "@jupyter-widgets/controls",
            "layout": "IPY_MODEL_b5ae6e9795ad466aaa1b78d74bf1b10a"
          }
        },
        "eea42904124040cfab3b093add0bbf35": {
          "model_module": "@jupyter-widgets/controls",
          "model_name": "ProgressStyleModel",
          "state": {
            "_view_name": "StyleView",
            "_model_name": "ProgressStyleModel",
            "description_width": "initial",
            "_view_module": "@jupyter-widgets/base",
            "_model_module_version": "1.5.0",
            "_view_count": null,
            "_view_module_version": "1.2.0",
            "bar_color": null,
            "_model_module": "@jupyter-widgets/controls"
          }
        },
        "66bc857eff374ca1813d63bbfaa34573": {
          "model_module": "@jupyter-widgets/base",
          "model_name": "LayoutModel",
          "state": {
            "_view_name": "LayoutView",
            "grid_template_rows": null,
            "right": null,
            "justify_content": null,
            "_view_module": "@jupyter-widgets/base",
            "overflow": null,
            "_model_module_version": "1.2.0",
            "_view_count": null,
            "flex_flow": null,
            "width": null,
            "min_width": null,
            "border": null,
            "align_items": null,
            "bottom": null,
            "_model_module": "@jupyter-widgets/base",
            "top": null,
            "grid_column": null,
            "overflow_y": null,
            "overflow_x": null,
            "grid_auto_flow": null,
            "grid_area": null,
            "grid_template_columns": null,
            "flex": null,
            "_model_name": "LayoutModel",
            "justify_items": null,
            "grid_row": null,
            "max_height": null,
            "align_content": null,
            "visibility": null,
            "align_self": null,
            "height": null,
            "min_height": null,
            "padding": null,
            "grid_auto_rows": null,
            "grid_gap": null,
            "max_width": null,
            "order": null,
            "_view_module_version": "1.2.0",
            "grid_template_areas": null,
            "object_position": null,
            "object_fit": null,
            "grid_auto_columns": null,
            "margin": null,
            "display": null,
            "left": null
          }
        },
        "f6b0f0d3f4434cc8aac835e2c2f63780": {
          "model_module": "@jupyter-widgets/controls",
          "model_name": "DescriptionStyleModel",
          "state": {
            "_view_name": "StyleView",
            "_model_name": "DescriptionStyleModel",
            "description_width": "",
            "_view_module": "@jupyter-widgets/base",
            "_model_module_version": "1.5.0",
            "_view_count": null,
            "_view_module_version": "1.2.0",
            "_model_module": "@jupyter-widgets/controls"
          }
        },
        "b5ae6e9795ad466aaa1b78d74bf1b10a": {
          "model_module": "@jupyter-widgets/base",
          "model_name": "LayoutModel",
          "state": {
            "_view_name": "LayoutView",
            "grid_template_rows": null,
            "right": null,
            "justify_content": null,
            "_view_module": "@jupyter-widgets/base",
            "overflow": null,
            "_model_module_version": "1.2.0",
            "_view_count": null,
            "flex_flow": null,
            "width": null,
            "min_width": null,
            "border": null,
            "align_items": null,
            "bottom": null,
            "_model_module": "@jupyter-widgets/base",
            "top": null,
            "grid_column": null,
            "overflow_y": null,
            "overflow_x": null,
            "grid_auto_flow": null,
            "grid_area": null,
            "grid_template_columns": null,
            "flex": null,
            "_model_name": "LayoutModel",
            "justify_items": null,
            "grid_row": null,
            "max_height": null,
            "align_content": null,
            "visibility": null,
            "align_self": null,
            "height": null,
            "min_height": null,
            "padding": null,
            "grid_auto_rows": null,
            "grid_gap": null,
            "max_width": null,
            "order": null,
            "_view_module_version": "1.2.0",
            "grid_template_areas": null,
            "object_position": null,
            "object_fit": null,
            "grid_auto_columns": null,
            "margin": null,
            "display": null,
            "left": null
          }
        },
        "85ea5a0433a94a2db07a4c213732e0cf": {
          "model_module": "@jupyter-widgets/controls",
          "model_name": "HBoxModel",
          "state": {
            "_view_name": "HBoxView",
            "_dom_classes": [],
            "_model_name": "HBoxModel",
            "_view_module": "@jupyter-widgets/controls",
            "_model_module_version": "1.5.0",
            "_view_count": null,
            "_view_module_version": "1.5.0",
            "box_style": "",
            "layout": "IPY_MODEL_3f0f230f7eed413d8a9e25bc7a92a605",
            "_model_module": "@jupyter-widgets/controls",
            "children": [
              "IPY_MODEL_193e6a0f15844e2d90c5b30a4553292a",
              "IPY_MODEL_b6c9d60b67e24a049a5bc2b46011c7e4"
            ]
          }
        },
        "3f0f230f7eed413d8a9e25bc7a92a605": {
          "model_module": "@jupyter-widgets/base",
          "model_name": "LayoutModel",
          "state": {
            "_view_name": "LayoutView",
            "grid_template_rows": null,
            "right": null,
            "justify_content": null,
            "_view_module": "@jupyter-widgets/base",
            "overflow": null,
            "_model_module_version": "1.2.0",
            "_view_count": null,
            "flex_flow": null,
            "width": null,
            "min_width": null,
            "border": null,
            "align_items": null,
            "bottom": null,
            "_model_module": "@jupyter-widgets/base",
            "top": null,
            "grid_column": null,
            "overflow_y": null,
            "overflow_x": null,
            "grid_auto_flow": null,
            "grid_area": null,
            "grid_template_columns": null,
            "flex": null,
            "_model_name": "LayoutModel",
            "justify_items": null,
            "grid_row": null,
            "max_height": null,
            "align_content": null,
            "visibility": null,
            "align_self": null,
            "height": null,
            "min_height": null,
            "padding": null,
            "grid_auto_rows": null,
            "grid_gap": null,
            "max_width": null,
            "order": null,
            "_view_module_version": "1.2.0",
            "grid_template_areas": null,
            "object_position": null,
            "object_fit": null,
            "grid_auto_columns": null,
            "margin": null,
            "display": null,
            "left": null
          }
        },
        "193e6a0f15844e2d90c5b30a4553292a": {
          "model_module": "@jupyter-widgets/controls",
          "model_name": "FloatProgressModel",
          "state": {
            "_view_name": "ProgressView",
            "style": "IPY_MODEL_13b5524c864444a9bfb89cfd3c556529",
            "_dom_classes": [],
            "description": "Downloading: 100%",
            "_model_name": "FloatProgressModel",
            "bar_style": "success",
            "max": 449418935,
            "_view_module": "@jupyter-widgets/controls",
            "_model_module_version": "1.5.0",
            "value": 449418935,
            "_view_count": null,
            "_view_module_version": "1.5.0",
            "orientation": "horizontal",
            "min": 0,
            "description_tooltip": null,
            "_model_module": "@jupyter-widgets/controls",
            "layout": "IPY_MODEL_92c81081f2c04eecb316f2add260bad9"
          }
        },
        "b6c9d60b67e24a049a5bc2b46011c7e4": {
          "model_module": "@jupyter-widgets/controls",
          "model_name": "HTMLModel",
          "state": {
            "_view_name": "HTMLView",
            "style": "IPY_MODEL_51e173970f1e48719b5f50fc5db461f7",
            "_dom_classes": [],
            "description": "",
            "_model_name": "HTMLModel",
            "placeholder": "​",
            "_view_module": "@jupyter-widgets/controls",
            "_model_module_version": "1.5.0",
            "value": " 449M/449M [00:09&lt;00:00, 45.1MB/s]",
            "_view_count": null,
            "_view_module_version": "1.5.0",
            "description_tooltip": null,
            "_model_module": "@jupyter-widgets/controls",
            "layout": "IPY_MODEL_a8de38df1af5415f918dadd82a6a1865"
          }
        },
        "13b5524c864444a9bfb89cfd3c556529": {
          "model_module": "@jupyter-widgets/controls",
          "model_name": "ProgressStyleModel",
          "state": {
            "_view_name": "StyleView",
            "_model_name": "ProgressStyleModel",
            "description_width": "initial",
            "_view_module": "@jupyter-widgets/base",
            "_model_module_version": "1.5.0",
            "_view_count": null,
            "_view_module_version": "1.2.0",
            "bar_color": null,
            "_model_module": "@jupyter-widgets/controls"
          }
        },
        "92c81081f2c04eecb316f2add260bad9": {
          "model_module": "@jupyter-widgets/base",
          "model_name": "LayoutModel",
          "state": {
            "_view_name": "LayoutView",
            "grid_template_rows": null,
            "right": null,
            "justify_content": null,
            "_view_module": "@jupyter-widgets/base",
            "overflow": null,
            "_model_module_version": "1.2.0",
            "_view_count": null,
            "flex_flow": null,
            "width": null,
            "min_width": null,
            "border": null,
            "align_items": null,
            "bottom": null,
            "_model_module": "@jupyter-widgets/base",
            "top": null,
            "grid_column": null,
            "overflow_y": null,
            "overflow_x": null,
            "grid_auto_flow": null,
            "grid_area": null,
            "grid_template_columns": null,
            "flex": null,
            "_model_name": "LayoutModel",
            "justify_items": null,
            "grid_row": null,
            "max_height": null,
            "align_content": null,
            "visibility": null,
            "align_self": null,
            "height": null,
            "min_height": null,
            "padding": null,
            "grid_auto_rows": null,
            "grid_gap": null,
            "max_width": null,
            "order": null,
            "_view_module_version": "1.2.0",
            "grid_template_areas": null,
            "object_position": null,
            "object_fit": null,
            "grid_auto_columns": null,
            "margin": null,
            "display": null,
            "left": null
          }
        },
        "51e173970f1e48719b5f50fc5db461f7": {
          "model_module": "@jupyter-widgets/controls",
          "model_name": "DescriptionStyleModel",
          "state": {
            "_view_name": "StyleView",
            "_model_name": "DescriptionStyleModel",
            "description_width": "",
            "_view_module": "@jupyter-widgets/base",
            "_model_module_version": "1.5.0",
            "_view_count": null,
            "_view_module_version": "1.2.0",
            "_model_module": "@jupyter-widgets/controls"
          }
        },
        "a8de38df1af5415f918dadd82a6a1865": {
          "model_module": "@jupyter-widgets/base",
          "model_name": "LayoutModel",
          "state": {
            "_view_name": "LayoutView",
            "grid_template_rows": null,
            "right": null,
            "justify_content": null,
            "_view_module": "@jupyter-widgets/base",
            "overflow": null,
            "_model_module_version": "1.2.0",
            "_view_count": null,
            "flex_flow": null,
            "width": null,
            "min_width": null,
            "border": null,
            "align_items": null,
            "bottom": null,
            "_model_module": "@jupyter-widgets/base",
            "top": null,
            "grid_column": null,
            "overflow_y": null,
            "overflow_x": null,
            "grid_auto_flow": null,
            "grid_area": null,
            "grid_template_columns": null,
            "flex": null,
            "_model_name": "LayoutModel",
            "justify_items": null,
            "grid_row": null,
            "max_height": null,
            "align_content": null,
            "visibility": null,
            "align_self": null,
            "height": null,
            "min_height": null,
            "padding": null,
            "grid_auto_rows": null,
            "grid_gap": null,
            "max_width": null,
            "order": null,
            "_view_module_version": "1.2.0",
            "grid_template_areas": null,
            "object_position": null,
            "object_fit": null,
            "grid_auto_columns": null,
            "margin": null,
            "display": null,
            "left": null
          }
        }
      }
    }
  },
  "cells": [
    {
      "cell_type": "markdown",
      "metadata": {
        "id": "view-in-github",
        "colab_type": "text"
      },
      "source": [
        "<a href=\"https://colab.research.google.com/github/dolmani38/Summary/blob/master/korean_QA_from_wiki.ipynb\" target=\"_parent\"><img src=\"https://colab.research.google.com/assets/colab-badge.svg\" alt=\"Open In Colab\"/></a>"
      ]
    },
    {
      "cell_type": "code",
      "metadata": {
        "id": "xpy8qkjNcVT_"
      },
      "source": [
        ""
      ],
      "execution_count": null,
      "outputs": []
    },
    {
      "cell_type": "markdown",
      "metadata": {
        "id": "zbL_9uvPcWCZ"
      },
      "source": [
        "## Building a QA System with BERT on Wikipedia\r\n",
        "\r\n",
        "https://qa.fastforwardlabs.com/pytorch/hugging%20face/wikipedia/bert/transformers/2020/05/19/Getting_Started_with_QA.html"
      ]
    },
    {
      "cell_type": "markdown",
      "metadata": {
        "id": "pJgz62VzccZg"
      },
      "source": [
        "위의 내용을 한국어 QA로 변경"
      ]
    },
    {
      "cell_type": "code",
      "metadata": {
        "colab": {
          "base_uri": "https://localhost:8080/"
        },
        "id": "RH_yZUf3ciqj",
        "outputId": "29db82ca-365c-4f1a-faa2-e5361ca349f1"
      },
      "source": [
        "!pip install transformers==3\r\n",
        "!pip install wikipedia"
      ],
      "execution_count": 1,
      "outputs": [
        {
          "output_type": "stream",
          "text": [
            "Collecting transformers==3\n",
            "\u001b[?25l  Downloading https://files.pythonhosted.org/packages/9c/35/1c3f6e62d81f5f0daff1384e6d5e6c5758682a8357ebc765ece2b9def62b/transformers-3.0.0-py3-none-any.whl (754kB)\n",
            "\r\u001b[K     |▍                               | 10kB 16.1MB/s eta 0:00:01\r\u001b[K     |▉                               | 20kB 11.1MB/s eta 0:00:01\r\u001b[K     |█▎                              | 30kB 9.0MB/s eta 0:00:01\r\u001b[K     |█▊                              | 40kB 6.8MB/s eta 0:00:01\r\u001b[K     |██▏                             | 51kB 4.5MB/s eta 0:00:01\r\u001b[K     |██▋                             | 61kB 4.3MB/s eta 0:00:01\r\u001b[K     |███                             | 71kB 4.8MB/s eta 0:00:01\r\u001b[K     |███▌                            | 81kB 5.0MB/s eta 0:00:01\r\u001b[K     |████                            | 92kB 5.0MB/s eta 0:00:01\r\u001b[K     |████▍                           | 102kB 5.1MB/s eta 0:00:01\r\u001b[K     |████▊                           | 112kB 5.1MB/s eta 0:00:01\r\u001b[K     |█████▏                          | 122kB 5.1MB/s eta 0:00:01\r\u001b[K     |█████▋                          | 133kB 5.1MB/s eta 0:00:01\r\u001b[K     |██████                          | 143kB 5.1MB/s eta 0:00:01\r\u001b[K     |██████▌                         | 153kB 5.1MB/s eta 0:00:01\r\u001b[K     |███████                         | 163kB 5.1MB/s eta 0:00:01\r\u001b[K     |███████▍                        | 174kB 5.1MB/s eta 0:00:01\r\u001b[K     |███████▉                        | 184kB 5.1MB/s eta 0:00:01\r\u001b[K     |████████▎                       | 194kB 5.1MB/s eta 0:00:01\r\u001b[K     |████████▊                       | 204kB 5.1MB/s eta 0:00:01\r\u001b[K     |█████████▏                      | 215kB 5.1MB/s eta 0:00:01\r\u001b[K     |█████████▌                      | 225kB 5.1MB/s eta 0:00:01\r\u001b[K     |██████████                      | 235kB 5.1MB/s eta 0:00:01\r\u001b[K     |██████████▍                     | 245kB 5.1MB/s eta 0:00:01\r\u001b[K     |██████████▉                     | 256kB 5.1MB/s eta 0:00:01\r\u001b[K     |███████████▎                    | 266kB 5.1MB/s eta 0:00:01\r\u001b[K     |███████████▊                    | 276kB 5.1MB/s eta 0:00:01\r\u001b[K     |████████████▏                   | 286kB 5.1MB/s eta 0:00:01\r\u001b[K     |████████████▋                   | 296kB 5.1MB/s eta 0:00:01\r\u001b[K     |█████████████                   | 307kB 5.1MB/s eta 0:00:01\r\u001b[K     |█████████████▌                  | 317kB 5.1MB/s eta 0:00:01\r\u001b[K     |██████████████                  | 327kB 5.1MB/s eta 0:00:01\r\u001b[K     |██████████████▎                 | 337kB 5.1MB/s eta 0:00:01\r\u001b[K     |██████████████▊                 | 348kB 5.1MB/s eta 0:00:01\r\u001b[K     |███████████████▏                | 358kB 5.1MB/s eta 0:00:01\r\u001b[K     |███████████████▋                | 368kB 5.1MB/s eta 0:00:01\r\u001b[K     |████████████████                | 378kB 5.1MB/s eta 0:00:01\r\u001b[K     |████████████████▌               | 389kB 5.1MB/s eta 0:00:01\r\u001b[K     |█████████████████               | 399kB 5.1MB/s eta 0:00:01\r\u001b[K     |█████████████████▍              | 409kB 5.1MB/s eta 0:00:01\r\u001b[K     |█████████████████▉              | 419kB 5.1MB/s eta 0:00:01\r\u001b[K     |██████████████████▎             | 430kB 5.1MB/s eta 0:00:01\r\u001b[K     |██████████████████▊             | 440kB 5.1MB/s eta 0:00:01\r\u001b[K     |███████████████████             | 450kB 5.1MB/s eta 0:00:01\r\u001b[K     |███████████████████▌            | 460kB 5.1MB/s eta 0:00:01\r\u001b[K     |████████████████████            | 471kB 5.1MB/s eta 0:00:01\r\u001b[K     |████████████████████▍           | 481kB 5.1MB/s eta 0:00:01\r\u001b[K     |████████████████████▉           | 491kB 5.1MB/s eta 0:00:01\r\u001b[K     |█████████████████████▎          | 501kB 5.1MB/s eta 0:00:01\r\u001b[K     |█████████████████████▊          | 512kB 5.1MB/s eta 0:00:01\r\u001b[K     |██████████████████████▏         | 522kB 5.1MB/s eta 0:00:01\r\u001b[K     |██████████████████████▋         | 532kB 5.1MB/s eta 0:00:01\r\u001b[K     |███████████████████████         | 542kB 5.1MB/s eta 0:00:01\r\u001b[K     |███████████████████████▌        | 552kB 5.1MB/s eta 0:00:01\r\u001b[K     |███████████████████████▉        | 563kB 5.1MB/s eta 0:00:01\r\u001b[K     |████████████████████████▎       | 573kB 5.1MB/s eta 0:00:01\r\u001b[K     |████████████████████████▊       | 583kB 5.1MB/s eta 0:00:01\r\u001b[K     |█████████████████████████▏      | 593kB 5.1MB/s eta 0:00:01\r\u001b[K     |█████████████████████████▋      | 604kB 5.1MB/s eta 0:00:01\r\u001b[K     |██████████████████████████      | 614kB 5.1MB/s eta 0:00:01\r\u001b[K     |██████████████████████████▌     | 624kB 5.1MB/s eta 0:00:01\r\u001b[K     |███████████████████████████     | 634kB 5.1MB/s eta 0:00:01\r\u001b[K     |███████████████████████████▍    | 645kB 5.1MB/s eta 0:00:01\r\u001b[K     |███████████████████████████▉    | 655kB 5.1MB/s eta 0:00:01\r\u001b[K     |████████████████████████████▎   | 665kB 5.1MB/s eta 0:00:01\r\u001b[K     |████████████████████████████▋   | 675kB 5.1MB/s eta 0:00:01\r\u001b[K     |█████████████████████████████   | 686kB 5.1MB/s eta 0:00:01\r\u001b[K     |█████████████████████████████▌  | 696kB 5.1MB/s eta 0:00:01\r\u001b[K     |██████████████████████████████  | 706kB 5.1MB/s eta 0:00:01\r\u001b[K     |██████████████████████████████▍ | 716kB 5.1MB/s eta 0:00:01\r\u001b[K     |██████████████████████████████▉ | 727kB 5.1MB/s eta 0:00:01\r\u001b[K     |███████████████████████████████▎| 737kB 5.1MB/s eta 0:00:01\r\u001b[K     |███████████████████████████████▊| 747kB 5.1MB/s eta 0:00:01\r\u001b[K     |████████████████████████████████| 757kB 5.1MB/s \n",
            "\u001b[?25hRequirement already satisfied: packaging in /usr/local/lib/python3.6/dist-packages (from transformers==3) (20.8)\n",
            "Requirement already satisfied: requests in /usr/local/lib/python3.6/dist-packages (from transformers==3) (2.23.0)\n",
            "Requirement already satisfied: tqdm>=4.27 in /usr/local/lib/python3.6/dist-packages (from transformers==3) (4.41.1)\n",
            "Requirement already satisfied: filelock in /usr/local/lib/python3.6/dist-packages (from transformers==3) (3.0.12)\n",
            "Requirement already satisfied: numpy in /usr/local/lib/python3.6/dist-packages (from transformers==3) (1.19.4)\n",
            "Requirement already satisfied: regex!=2019.12.17 in /usr/local/lib/python3.6/dist-packages (from transformers==3) (2019.12.20)\n",
            "Collecting tokenizers==0.8.0-rc4\n",
            "\u001b[?25l  Downloading https://files.pythonhosted.org/packages/e8/bd/e5abec46af977c8a1375c1dca7cb1e5b3ec392ef279067af7f6bc50491a0/tokenizers-0.8.0rc4-cp36-cp36m-manylinux1_x86_64.whl (3.0MB)\n",
            "\u001b[K     |████████████████████████████████| 3.0MB 8.0MB/s \n",
            "\u001b[?25hCollecting sacremoses\n",
            "\u001b[?25l  Downloading https://files.pythonhosted.org/packages/7d/34/09d19aff26edcc8eb2a01bed8e98f13a1537005d31e95233fd48216eed10/sacremoses-0.0.43.tar.gz (883kB)\n",
            "\u001b[K     |████████████████████████████████| 890kB 28.0MB/s \n",
            "\u001b[?25hCollecting sentencepiece\n",
            "\u001b[?25l  Downloading https://files.pythonhosted.org/packages/e5/2d/6d4ca4bef9a67070fa1cac508606328329152b1df10bdf31fb6e4e727894/sentencepiece-0.1.94-cp36-cp36m-manylinux2014_x86_64.whl (1.1MB)\n",
            "\u001b[K     |████████████████████████████████| 1.1MB 34.6MB/s \n",
            "\u001b[?25hRequirement already satisfied: dataclasses; python_version < \"3.7\" in /usr/local/lib/python3.6/dist-packages (from transformers==3) (0.8)\n",
            "Requirement already satisfied: pyparsing>=2.0.2 in /usr/local/lib/python3.6/dist-packages (from packaging->transformers==3) (2.4.7)\n",
            "Requirement already satisfied: certifi>=2017.4.17 in /usr/local/lib/python3.6/dist-packages (from requests->transformers==3) (2020.12.5)\n",
            "Requirement already satisfied: urllib3!=1.25.0,!=1.25.1,<1.26,>=1.21.1 in /usr/local/lib/python3.6/dist-packages (from requests->transformers==3) (1.24.3)\n",
            "Requirement already satisfied: idna<3,>=2.5 in /usr/local/lib/python3.6/dist-packages (from requests->transformers==3) (2.10)\n",
            "Requirement already satisfied: chardet<4,>=3.0.2 in /usr/local/lib/python3.6/dist-packages (from requests->transformers==3) (3.0.4)\n",
            "Requirement already satisfied: six in /usr/local/lib/python3.6/dist-packages (from sacremoses->transformers==3) (1.15.0)\n",
            "Requirement already satisfied: click in /usr/local/lib/python3.6/dist-packages (from sacremoses->transformers==3) (7.1.2)\n",
            "Requirement already satisfied: joblib in /usr/local/lib/python3.6/dist-packages (from sacremoses->transformers==3) (1.0.0)\n",
            "Building wheels for collected packages: sacremoses\n",
            "  Building wheel for sacremoses (setup.py) ... \u001b[?25l\u001b[?25hdone\n",
            "  Created wheel for sacremoses: filename=sacremoses-0.0.43-cp36-none-any.whl size=893261 sha256=d274f02b27e13d2eefddc66142d48ea287f862cceaa0785a94c0dd0ab27be65b\n",
            "  Stored in directory: /root/.cache/pip/wheels/29/3c/fd/7ce5c3f0666dab31a50123635e6fb5e19ceb42ce38d4e58f45\n",
            "Successfully built sacremoses\n",
            "Installing collected packages: tokenizers, sacremoses, sentencepiece, transformers\n",
            "Successfully installed sacremoses-0.0.43 sentencepiece-0.1.94 tokenizers-0.8.0rc4 transformers-3.0.0\n",
            "Collecting wikipedia\n",
            "  Downloading https://files.pythonhosted.org/packages/67/35/25e68fbc99e672127cc6fbb14b8ec1ba3dfef035bf1e4c90f78f24a80b7d/wikipedia-1.4.0.tar.gz\n",
            "Requirement already satisfied: beautifulsoup4 in /usr/local/lib/python3.6/dist-packages (from wikipedia) (4.6.3)\n",
            "Requirement already satisfied: requests<3.0.0,>=2.0.0 in /usr/local/lib/python3.6/dist-packages (from wikipedia) (2.23.0)\n",
            "Requirement already satisfied: chardet<4,>=3.0.2 in /usr/local/lib/python3.6/dist-packages (from requests<3.0.0,>=2.0.0->wikipedia) (3.0.4)\n",
            "Requirement already satisfied: certifi>=2017.4.17 in /usr/local/lib/python3.6/dist-packages (from requests<3.0.0,>=2.0.0->wikipedia) (2020.12.5)\n",
            "Requirement already satisfied: idna<3,>=2.5 in /usr/local/lib/python3.6/dist-packages (from requests<3.0.0,>=2.0.0->wikipedia) (2.10)\n",
            "Requirement already satisfied: urllib3!=1.25.0,!=1.25.1,<1.26,>=1.21.1 in /usr/local/lib/python3.6/dist-packages (from requests<3.0.0,>=2.0.0->wikipedia) (1.24.3)\n",
            "Building wheels for collected packages: wikipedia\n",
            "  Building wheel for wikipedia (setup.py) ... \u001b[?25l\u001b[?25hdone\n",
            "  Created wheel for wikipedia: filename=wikipedia-1.4.0-cp36-none-any.whl size=11686 sha256=95b5e6c7bcd37409236bdcb0c513e2589aeefee28ce737e7520aac6b5b494272\n",
            "  Stored in directory: /root/.cache/pip/wheels/87/2a/18/4e471fd96d12114d16fe4a446d00c3b38fb9efcb744bd31f4a\n",
            "Successfully built wikipedia\n",
            "Installing collected packages: wikipedia\n",
            "Successfully installed wikipedia-1.4.0\n"
          ],
          "name": "stdout"
        }
      ]
    },
    {
      "cell_type": "code",
      "metadata": {
        "colab": {
          "base_uri": "https://localhost:8080/",
          "height": 347,
          "referenced_widgets": [
            "e86f5ee5e49e4a33ac78d2763747eb22",
            "768692752d4f4dd2ab0bd0d85d0b246b",
            "bad642a6a9df4b83ab37c09f28e48ab8",
            "eacd570edc5b4535b4dc72fa3a14efd6",
            "ec3fcfdecc0746d3beb7b0d3d319144d",
            "db253b4f319e4b6e9a4054ceeff63d4f",
            "3cde61eed5cf4300ac7a9d8e482b9dd8",
            "93e67e3442f248b7a782f47db9974cfb",
            "4dfe21e57217436a88115c8fcc52e416",
            "190695bfbe964e12b815e43cf80857ed",
            "770d76b5684e424ab7916aacedb92d91",
            "b164326f58eb4f1badab252e6f417b4f",
            "2b1c7d16cab641c7bfe29ab537365169",
            "4dc6ec5c44644bda89aef0b08e6ce134",
            "06cfee341afa462a9423092e72f4632f",
            "0066107657644d24833b77bc1919ead5",
            "343c3bff3f814eeaa2427406c25d4c2a",
            "73d2220bb467460a96202402bdb63b39",
            "f31cc2db059e476ea7bf872e544dbe5b",
            "3eadb6ca2f3e4e12a9fc85c5067e36ee",
            "2756cee7e4c943409fe5c7a78d120b57",
            "8acdcc0ed5e249d2a774cb4a28d05f6d",
            "4978a6832b9a46e7823649ec717f7384",
            "22babb7583664736bfc8551ca2ea6ff8",
            "11ee204afb294f34974b04b68762698f",
            "477984db72894815bf39a7e6b933b232",
            "3f034674536e46c6a2733f90ec816590",
            "d2764851fdd245e791bddd79724d9309",
            "eea42904124040cfab3b093add0bbf35",
            "66bc857eff374ca1813d63bbfaa34573",
            "f6b0f0d3f4434cc8aac835e2c2f63780",
            "b5ae6e9795ad466aaa1b78d74bf1b10a",
            "85ea5a0433a94a2db07a4c213732e0cf",
            "3f0f230f7eed413d8a9e25bc7a92a605",
            "193e6a0f15844e2d90c5b30a4553292a",
            "b6c9d60b67e24a049a5bc2b46011c7e4",
            "13b5524c864444a9bfb89cfd3c556529",
            "92c81081f2c04eecb316f2add260bad9",
            "51e173970f1e48719b5f50fc5db461f7",
            "a8de38df1af5415f918dadd82a6a1865"
          ]
        },
        "id": "_vZL_joKc8X0",
        "outputId": "b3635843-0b7a-49a1-e50c-282356890899"
      },
      "source": [
        "import torch\r\n",
        "from transformers import AutoTokenizer, AutoModelForQuestionAnswering\r\n",
        "\r\n",
        "# executing these commands for the first time initiates a download of the \r\n",
        "# model weights to ~/.cache/torch/transformers/\r\n",
        "tokenizer = AutoTokenizer.from_pretrained(\"monologg/koelectra-base-v3-finetuned-korquad\") \r\n",
        "model = AutoModelForQuestionAnswering.from_pretrained(\"monologg/koelectra-base-v3-finetuned-korquad\")"
      ],
      "execution_count": 2,
      "outputs": [
        {
          "output_type": "display_data",
          "data": {
            "application/vnd.jupyter.widget-view+json": {
              "model_id": "e86f5ee5e49e4a33ac78d2763747eb22",
              "version_minor": 0,
              "version_major": 2
            },
            "text/plain": [
              "HBox(children=(FloatProgress(value=0.0, description='Downloading', max=591.0, style=ProgressStyle(description_…"
            ]
          },
          "metadata": {
            "tags": []
          }
        },
        {
          "output_type": "stream",
          "text": [
            "\n"
          ],
          "name": "stdout"
        },
        {
          "output_type": "display_data",
          "data": {
            "application/vnd.jupyter.widget-view+json": {
              "model_id": "4dfe21e57217436a88115c8fcc52e416",
              "version_minor": 0,
              "version_major": 2
            },
            "text/plain": [
              "HBox(children=(FloatProgress(value=0.0, description='Downloading', max=263327.0, style=ProgressStyle(descripti…"
            ]
          },
          "metadata": {
            "tags": []
          }
        },
        {
          "output_type": "stream",
          "text": [
            "\n"
          ],
          "name": "stdout"
        },
        {
          "output_type": "display_data",
          "data": {
            "application/vnd.jupyter.widget-view+json": {
              "model_id": "343c3bff3f814eeaa2427406c25d4c2a",
              "version_minor": 0,
              "version_major": 2
            },
            "text/plain": [
              "HBox(children=(FloatProgress(value=0.0, description='Downloading', max=112.0, style=ProgressStyle(description_…"
            ]
          },
          "metadata": {
            "tags": []
          }
        },
        {
          "output_type": "stream",
          "text": [
            "\n"
          ],
          "name": "stdout"
        },
        {
          "output_type": "display_data",
          "data": {
            "application/vnd.jupyter.widget-view+json": {
              "model_id": "11ee204afb294f34974b04b68762698f",
              "version_minor": 0,
              "version_major": 2
            },
            "text/plain": [
              "HBox(children=(FloatProgress(value=0.0, description='Downloading', max=111.0, style=ProgressStyle(description_…"
            ]
          },
          "metadata": {
            "tags": []
          }
        },
        {
          "output_type": "stream",
          "text": [
            "\n"
          ],
          "name": "stdout"
        },
        {
          "output_type": "display_data",
          "data": {
            "application/vnd.jupyter.widget-view+json": {
              "model_id": "85ea5a0433a94a2db07a4c213732e0cf",
              "version_minor": 0,
              "version_major": 2
            },
            "text/plain": [
              "HBox(children=(FloatProgress(value=0.0, description='Downloading', max=449418935.0, style=ProgressStyle(descri…"
            ]
          },
          "metadata": {
            "tags": []
          }
        },
        {
          "output_type": "stream",
          "text": [
            "\n"
          ],
          "name": "stdout"
        },
        {
          "output_type": "stream",
          "text": [
            "Some weights of the model checkpoint at monologg/koelectra-base-v3-finetuned-korquad were not used when initializing ElectraForQuestionAnswering: ['electra.embeddings.position_ids']\n",
            "- This IS expected if you are initializing ElectraForQuestionAnswering from the checkpoint of a model trained on another task or with another architecture (e.g. initializing a BertForSequenceClassification model from a BertForPretraining model).\n",
            "- This IS NOT expected if you are initializing ElectraForQuestionAnswering from the checkpoint of a model that you expect to be exactly identical (initializing a BertForSequenceClassification model from a BertForSequenceClassification model).\n"
          ],
          "name": "stderr"
        }
      ]
    },
    {
      "cell_type": "code",
      "metadata": {
        "colab": {
          "base_uri": "https://localhost:8080/",
          "height": 36
        },
        "id": "yxFA0hyidB8v",
        "outputId": "2b1b1b55-dc82-41b5-941b-24e3fea09de8"
      },
      "source": [
        "question = \"마케도니아를 통치 한 왕조는?\"\r\n",
        "\r\n",
        "context = \"\"\"마케도니아는 고대 그리스와 고전 그리스 주변의 고대 왕국이었습니다.\r\n",
        "그리고 나중에 헬레니즘 그리스의 지배 국가. 왕국이 설립되고 처음에 통치\r\n",
        "Argead 왕조, Antipatrid 및 Antigonid 왕조가 그 뒤를이었습니다. 고대의 고향\r\n",
        "마케도니아인, 그리스 반도의 북동부에서 시작되었습니다. 4 일 이전\r\n",
        "기원전 세기, 아테네의 도시 국가가 지배하는 지역 밖의 작은 왕국이었습니다.\r\n",
        "스파르타와 테베, 그리고 잠시 아케 메니 드 페르시아에 종속됩니다.\"\"\"\r\n",
        "\r\n",
        "\r\n",
        "# 1. TOKENIZE THE INPUT\r\n",
        "# note: if you don't include return_tensors='pt' you'll get a list of lists which is easier for \r\n",
        "# exploration but you cannot feed that into a model. \r\n",
        "inputs = tokenizer.encode_plus(question, context, return_tensors=\"pt\") \r\n",
        "\r\n",
        "# 2. OBTAIN MODEL SCORES\r\n",
        "# the AutoModelForQuestionAnswering class includes a span predictor on top of the model. \r\n",
        "# the model returns answer start and end scores for each word in the text\r\n",
        "answer_start_scores, answer_end_scores = model(**inputs)\r\n",
        "\r\n",
        "answer_start = torch.argmax(answer_start_scores)  # get the most likely beginning of answer with the argmax of the score\r\n",
        "answer_end = torch.argmax(answer_end_scores) + 1  # get the most likely end of answer with the argmax of the score\r\n",
        "\r\n",
        "# 3. GET THE ANSWER SPAN\r\n",
        "# once we have the most likely start and end tokens, we grab all the tokens between them\r\n",
        "# and convert tokens back to words!\r\n",
        "tokenizer.convert_tokens_to_string(tokenizer.convert_ids_to_tokens(inputs[\"input_ids\"][0][answer_start:answer_end]))"
      ],
      "execution_count": 3,
      "outputs": [
        {
          "output_type": "execute_result",
          "data": {
            "application/vnd.google.colaboratory.intrinsic+json": {
              "type": "string"
            },
            "text/plain": [
              "'Argead 왕조'"
            ]
          },
          "metadata": {
            "tags": []
          },
          "execution_count": 3
        }
      ]
    },
    {
      "cell_type": "code",
      "metadata": {
        "id": "N1MhgZMEdIau"
      },
      "source": [
        "from transformers import AutoTokenizer, AutoModelForQuestionAnswering\r\n",
        "import wikipedia as wiki\r\n",
        "import pprint as pp\r\n",
        "from collections import OrderedDict\r\n",
        "\r\n",
        "class DocumentReader:\r\n",
        "    def __init__(self, pretrained_model_name_or_path='monologg/koelectra-base-v3-finetuned-korquad'):\r\n",
        "        self.READER_PATH = pretrained_model_name_or_path\r\n",
        "        self.tokenizer = AutoTokenizer.from_pretrained(self.READER_PATH)\r\n",
        "        self.model = AutoModelForQuestionAnswering.from_pretrained(self.READER_PATH)\r\n",
        "        self.max_len = self.model.config.max_position_embeddings\r\n",
        "        self.chunked = False\r\n",
        "\r\n",
        "    def tokenize(self, question, text):\r\n",
        "        self.inputs = self.tokenizer.encode_plus(question, text, add_special_tokens=True, return_tensors=\"pt\")\r\n",
        "        self.input_ids = self.inputs[\"input_ids\"].tolist()[0]\r\n",
        "\r\n",
        "        if len(self.input_ids) > self.max_len:\r\n",
        "            self.inputs = self.chunkify()\r\n",
        "            self.chunked = True\r\n",
        "\r\n",
        "    def chunkify(self):\r\n",
        "        \"\"\" \r\n",
        "        Break up a long article into chunks that fit within the max token\r\n",
        "        requirement for that Transformer model. \r\n",
        "\r\n",
        "        Calls to BERT / RoBERTa / ALBERT require the following format:\r\n",
        "        [CLS] question tokens [SEP] context tokens [SEP].\r\n",
        "        \"\"\"\r\n",
        "\r\n",
        "        # create question mask based on token_type_ids\r\n",
        "        # value is 0 for question tokens, 1 for context tokens\r\n",
        "        qmask = self.inputs['token_type_ids'].lt(1)\r\n",
        "        qt = torch.masked_select(self.inputs['input_ids'], qmask)\r\n",
        "        chunk_size = self.max_len - qt.size()[0] - 1 # the \"-1\" accounts for\r\n",
        "        # having to add an ending [SEP] token to the end\r\n",
        "\r\n",
        "        # create a dict of dicts; each sub-dict mimics the structure of pre-chunked model input\r\n",
        "        chunked_input = OrderedDict()\r\n",
        "        for k,v in self.inputs.items():\r\n",
        "            q = torch.masked_select(v, qmask)\r\n",
        "            c = torch.masked_select(v, ~qmask)\r\n",
        "            chunks = torch.split(c, chunk_size)\r\n",
        "            \r\n",
        "            for i, chunk in enumerate(chunks):\r\n",
        "                if i not in chunked_input:\r\n",
        "                    chunked_input[i] = {}\r\n",
        "\r\n",
        "                thing = torch.cat((q, chunk))\r\n",
        "                if i != len(chunks)-1:\r\n",
        "                    if k == 'input_ids':\r\n",
        "                        thing = torch.cat((thing, torch.tensor([102])))\r\n",
        "                    else:\r\n",
        "                        thing = torch.cat((thing, torch.tensor([1])))\r\n",
        "\r\n",
        "                chunked_input[i][k] = torch.unsqueeze(thing, dim=0)\r\n",
        "        return chunked_input\r\n",
        "\r\n",
        "    def get_answer(self):\r\n",
        "        if self.chunked:\r\n",
        "            answer = ''\r\n",
        "            for k, chunk in self.inputs.items():\r\n",
        "                answer_start_scores, answer_end_scores = self.model(**chunk)\r\n",
        "\r\n",
        "                answer_start = torch.argmax(answer_start_scores)\r\n",
        "                answer_end = torch.argmax(answer_end_scores) + 1\r\n",
        "\r\n",
        "                ans = self.convert_ids_to_string(chunk['input_ids'][0][answer_start:answer_end])\r\n",
        "                if ans != '[CLS]':\r\n",
        "                    answer += ans + \" / \"\r\n",
        "            return answer\r\n",
        "        else:\r\n",
        "            answer_start_scores, answer_end_scores = self.model(**self.inputs)\r\n",
        "\r\n",
        "            answer_start = torch.argmax(answer_start_scores)  # get the most likely beginning of answer with the argmax of the score\r\n",
        "            answer_end = torch.argmax(answer_end_scores) + 1  # get the most likely end of answer with the argmax of the score\r\n",
        "        \r\n",
        "            return self.convert_ids_to_string(self.inputs['input_ids'][0][\r\n",
        "                                              answer_start:answer_end])\r\n",
        "\r\n",
        "    def convert_ids_to_string(self, input_ids):\r\n",
        "        return self.tokenizer.convert_tokens_to_string(self.tokenizer.convert_ids_to_tokens(input_ids))"
      ],
      "execution_count": 8,
      "outputs": []
    },
    {
      "cell_type": "code",
      "metadata": {
        "colab": {
          "base_uri": "https://localhost:8080/"
        },
        "id": "RENllyandSEB",
        "outputId": "0d8e7ebd-6e19-48a1-9dec-ac13651bed7f"
      },
      "source": [
        "questions = [\r\n",
        "    '물의 원자 구성은 어떻게 되는가?'\r\n",
        "]\r\n",
        "\r\n",
        "reader = DocumentReader(\"monologg/koelectra-base-v3-finetuned-korquad\") \r\n",
        "\r\n",
        "# if you trained your own model using the training cell earlier, you can access it with this:\r\n",
        "#reader = DocumentReader(\"./models/bert/bbu_squad2\")\r\n",
        "wiki.set_lang('ko')\r\n",
        "for question in questions:\r\n",
        "    print(f\"Question: {question}\")\r\n",
        "    results = wiki.search(question)\r\n",
        "    print(results)\r\n",
        "    page = \"\"\r\n",
        "    text = \"\"\r\n",
        "    for result in results:\r\n",
        "      try:\r\n",
        "        page = wiki.page(result)\r\n",
        "        print(f\"Top wiki result: {page}\")\r\n",
        "        text = page.content\r\n",
        "        reader.tokenize(question, text)\r\n",
        "        print(f\"Answer: {reader.get_answer()}\")\r\n",
        "      except Exception as ex:\r\n",
        "        print(ex)\r\n"
      ],
      "execution_count": 9,
      "outputs": [
        {
          "output_type": "stream",
          "text": [
            "Some weights of the model checkpoint at monologg/koelectra-base-v3-finetuned-korquad were not used when initializing ElectraForQuestionAnswering: ['electra.embeddings.position_ids']\n",
            "- This IS expected if you are initializing ElectraForQuestionAnswering from the checkpoint of a model trained on another task or with another architecture (e.g. initializing a BertForSequenceClassification model from a BertForPretraining model).\n",
            "- This IS NOT expected if you are initializing ElectraForQuestionAnswering from the checkpoint of a model that you expect to be exactly identical (initializing a BertForSequenceClassification model from a BertForSequenceClassification model).\n"
          ],
          "name": "stderr"
        },
        {
          "output_type": "stream",
          "text": [
            "Question: 물의 원자 구성은 어떻게 되는가?\n",
            "['원자', '물', '원자 번호', '화학', '원자론', '원자 반지름', '질소', '분자', '원자력 발전소', '화학식']\n",
            "Top wiki result: <WikipediaPage '원자'>\n",
            "Answer: 원소 / 기본적인 질량단위 / ° /  /  /  /  / 대략 1 . 07 A 3 { \\ displaystyle 1 . 07 { \\ sqrt [ { 3 } ] { A } } } 펨토미터로 근사된다 . 핵자들은 굉장히 짧은 거리에 작용하는 힘인 핵력으로 서로 결합되어있는데 , 2 . 5 펨토미터까지는 이 힘이 정전기력보다 강하기 때문에 양성자들이 서로 밀어내는 힘보다 끌어당기는 힘이 더 ° / ° / 원자로 / \n",
            "Top wiki result: <WikipediaPage '물'>\n",
            "Answer: 산소와 수소 /  / [SEP] /  /  / [SEP]는 성질이 있다 . 철의 경우 반응성이 크나 직접적으로는 산소와 잘 반응하지 않으며 아주 천천히 산화철을 생성한다 . 하지만 물이 묻은 철은 상황이 다른데 , 그 원인은 물이 철을 이온화하면서 전자를 내놓고 이 전자를 받은 산소원자가 양이온으로 하전된 철 분자와 결합을 하면서 이루어지기 때문이다 . 이러한 산화는 물기가 완전히 없어질 때까지 멈추지 않아 결국 속까지 모두 산화시키고 만다 . 금속의 산화를 막기 위해 기름칠을 하는 경우가 많은데 이는 기름과 물 사이의 반발력을 이용한 것이다 . 한편 찬물에서 급격히 반응하는 금속은 포타슘 , 칼슘 , 소듐 등이 있고 , 뜨거운 물에서 급격히 반응하는 금속은 마그네슘 , 알루미늄 , 아연 등이 있다 . = = = 공학에서의 물 = = = 수리학에서 1기압 하에서 물의 단위 중량은 보통 [UNK] [UNK] 쓰며 , 1000kg중 / m³ ( 1t중 / m³ = 1g중 / cm³ ) 으로 나타낸다 . 지구상에서 물의 단위중량을 다룰 때는 편의상 ' 중 ' ( force ) 을 빼고 1000kg / m³ ( 1t / m³ = 1g / cm³ ) 으로 쓴다 . = = 맛과 냄새 그리고 색깔 = = 물은 수많은 물질을 녹일 수 있어서 맛과 냄새가 다양하다 . 사람과 다른 짐승들은 너무 염도가 높거나 부패한 물을 피하기 위하여 마실 수 있는지를 평가할 수 있는 진보된 감각을 갖고 있다 . 샘이나 광천수로 광고하는 맛은 그 안에 녹아있는 광물에서 비롯한 것이다 . 순수 H2O는 무취무미하다 . 물의 색깔과 냄새는 식수로서 일차적인 주요한 판단 기준으로 사용될 수 있다 . = = 자연의 물 = = = = = 우주 속의 물 = = = = = = 물과 거주가능 영역 = = = 우리가 알고 있듯이 액체와 기체 , 고체로서의 물은 지구 위에 사는 생물의 생존에 필수적이다 . 지구는 태양계의 생명체 거주가능 영역에 위치하여 있다 . 태양으로부터 살짝 더 가까이 있거나 살짝 더 멀리 있었 ° / [SEP] / [CLS] 물의 원자 구성은 어떻게 되는가 ? [SEP]으로 강과 주된 물길을 중심으로 번성하여 왔다 . 이른바 문명의 요람이라 불리는 메소포타미아는 티그리스와 유프라테스 강을 끼고 있었다 . 고대 이집트 민족은 나일 강에 온전히 의지하였다 . 로테르담 , 런던 , 몬트리올 , 파리 , 뉴욕 , 부에노스아이레스 , 상하이 , 도쿄 , 시카고 , 홍콩과 같은 거대 도시들은 물에 다가가기 쉬운 곳에 있고 결과적으로 무역이 팽창하여 성공할 수 있었다 . 싱가포르도 이와 같은 까닭으로 번성하였다 . 물이 더 부족한 북아프리카와 중동과 같은 지역에서 마실 물을 구하는 것은 인간 발전에 주된 요인이 되었고 지금도 그러하다 . = = = 건강과 오염 = = = 사람이 마실 수 있는 물은 음료수라고 한다 . 마시기에 알맞지 않은 물은 걸러내거나 정제하는 등의 다양한 물 처리로 말미암아 마실 물로 바꿀 수 있다 . 마실 수는 없으나 헤엄을 치거나 몸을 씻는 데 사람에게 해가 없는 물은 다양한 이름으로 불리는데 이를 안전한 물로 부른다 . 개발도상국에서 모든 폐수의 90 % 가 정화 및 처리되지 않은 채로 지역 강과 개울로 흘러간다 . 또한 물의 섭취는 동물의 기초대사량을 증가시켜 체중감량과의 유의미한 상관관계를 보인다 . = = = 사람의 이용 = = = = = = = 농업 = = = = 농업에서 물은 관개에 이용하며 이는 충분한 식량을 생산하는 주된 요소로 자리잡혀 있다 . 관개는 몇몇 개발도상국에서 최대 90 % 물을 차지하며 선진국에서도 중요한 부분으로 잡혀 있다 . ( 미국의 경우 민물의 30 % 가 관개에 이용된다 ) = = = = 음수 = = = = 사람의 몸은 체형에 따라 최저 55 % 에서 최고 95 % 의 물을 지닌다 . 몸이 정상적으로 기능하려면 날마다 1 ~ 5리터의 물을 마시어야 탈수 현상을 막을 수 있다 . 섭취하여야 하는 정확한 물의 양은 활동 수준 , 온도 , 습도 등의 요인에 따라 다를 수 있다 . 대부분은 물을 직접 마시는 것보다 음식이나 음료수를 통하여 소화시켜 물을 흡수한다 . 건강한 ° / 2리터 / \n",
            "Top wiki result: <WikipediaPage '원자 번호'>\n",
            "Answer: 약간 / [CLS] 물의 원자 구성은 어떻게 되는가 ? [SEP] / ° / 헬륨 / [SEP] / \n",
            "Top wiki result: <WikipediaPage '화학'>\n",
            "Answer: ° /  /  / [SEP] 물리화학이 다루는 대상은 유기 화합물 , 무기 화합물 , 혼합물을 모두 포함한다 . = = = 분석화학 = = = 분석화학은 물질의 조성이나 혼합물의 구성요소 등을 결정하는 방법에 대해서 연구하는 화학의 분과이다 . 혼합물을 이루고 있는 성분의 탐색 , 분리 , 정량과 분자 /  / \n",
            "Top wiki result: <WikipediaPage '원자론'>\n",
            "Answer:  / 화학의 기본 개념 / \n",
            "Top wiki result: <WikipediaPage '원자 반지름'>\n",
            "Answer: [SEP] / [SEP] / \n",
            "Top wiki result: <WikipediaPage '질소'>\n",
            "Answer: [SEP] / [CLS] 물의 원자 구성은 어떻게 되는가 ? [SEP] / [CLS] 물의 원자 구성은 어떻게 되는가 ? [SEP] 있는 산화수는 - 3에서 + 5까지로 넓은 편이다 . 각각의 산화수는 모두 안정한 화합물을 만들 수 있다 . 이원자 분자 상태로 존재하는 질소는 삼중 결합을 포함하고 있어 3000°C 이상으로 가열해도 약간 / 기포 / \n",
            "Top wiki result: <WikipediaPage '분자'>\n",
            "Answer: 분자 / [CLS] 물의 원자 구성은 어떻게 되는가 ? [SEP] / 수소 / [CLS] 물의 원자 구성은 어떻게 되는가 ? [SEP] = = = 분자식 = = = 분자식은 분자를 구성하는 원자들의 정확한 수를 반영한다 . 이성질체 / 안정된 상태 / 분자 이온 / [SEP] / \n",
            "Top wiki result: <WikipediaPage '원자력 발전소'>\n",
            "Answer:  / [SEP] / [SEP] /  /  /  / [SEP] / [CLS] 물의 원자 구성은 어떻게 되는가 ? [SEP] /  / \n",
            "Top wiki result: <WikipediaPage '화학식'>\n",
            "Answer: [CLS] 물의 원자 구성은 어떻게 되는가 ? [SEP] 화학식 ( 化 學 式 , 영어 : chemical formula ) 은 특정한 화합물 / [SEP] /  /  / \n"
          ],
          "name": "stdout"
        }
      ]
    },
    {
      "cell_type": "markdown",
      "metadata": {
        "id": "fFPo2AQWeg7z"
      },
      "source": [
        "여기서 부터는 최적의 답을 찾기 위해 문서 유사도 혼합"
      ]
    },
    {
      "cell_type": "code",
      "metadata": {
        "colab": {
          "base_uri": "https://localhost:8080/",
          "height": 1000
        },
        "id": "WF0ymsvjegDm",
        "outputId": "7243912d-99ce-4748-d253-e3fb2f932351"
      },
      "source": [
        "!pip install -U sentence-transformers"
      ],
      "execution_count": 10,
      "outputs": [
        {
          "output_type": "stream",
          "text": [
            "Collecting sentence-transformers\n",
            "\u001b[?25l  Downloading https://files.pythonhosted.org/packages/f5/5a/6e41e8383913dd2ba923cdcd02be2e03911595f4d2f9de559ecbed80d2d3/sentence-transformers-0.3.9.tar.gz (64kB)\n",
            "\u001b[K     |████████████████████████████████| 71kB 3.1MB/s \n",
            "\u001b[?25hCollecting transformers<3.6.0,>=3.1.0\n",
            "\u001b[?25l  Downloading https://files.pythonhosted.org/packages/3a/83/e74092e7f24a08d751aa59b37a9fc572b2e4af3918cb66f7766c3affb1b4/transformers-3.5.1-py3-none-any.whl (1.3MB)\n",
            "\u001b[K     |████████████████████████████████| 1.3MB 5.6MB/s \n",
            "\u001b[?25hRequirement already satisfied, skipping upgrade: tqdm in /usr/local/lib/python3.6/dist-packages (from sentence-transformers) (4.41.1)\n",
            "Requirement already satisfied, skipping upgrade: torch>=1.6.0 in /usr/local/lib/python3.6/dist-packages (from sentence-transformers) (1.7.0+cu101)\n",
            "Requirement already satisfied, skipping upgrade: numpy in /usr/local/lib/python3.6/dist-packages (from sentence-transformers) (1.19.4)\n",
            "Requirement already satisfied, skipping upgrade: scikit-learn in /usr/local/lib/python3.6/dist-packages (from sentence-transformers) (0.22.2.post1)\n",
            "Requirement already satisfied, skipping upgrade: scipy in /usr/local/lib/python3.6/dist-packages (from sentence-transformers) (1.4.1)\n",
            "Requirement already satisfied, skipping upgrade: nltk in /usr/local/lib/python3.6/dist-packages (from sentence-transformers) (3.2.5)\n",
            "Requirement already satisfied, skipping upgrade: filelock in /usr/local/lib/python3.6/dist-packages (from transformers<3.6.0,>=3.1.0->sentence-transformers) (3.0.12)\n",
            "Requirement already satisfied, skipping upgrade: regex!=2019.12.17 in /usr/local/lib/python3.6/dist-packages (from transformers<3.6.0,>=3.1.0->sentence-transformers) (2019.12.20)\n",
            "Requirement already satisfied, skipping upgrade: dataclasses; python_version < \"3.7\" in /usr/local/lib/python3.6/dist-packages (from transformers<3.6.0,>=3.1.0->sentence-transformers) (0.8)\n",
            "Collecting tokenizers==0.9.3\n",
            "\u001b[?25l  Downloading https://files.pythonhosted.org/packages/4c/34/b39eb9994bc3c999270b69c9eea40ecc6f0e97991dba28282b9fd32d44ee/tokenizers-0.9.3-cp36-cp36m-manylinux1_x86_64.whl (2.9MB)\n",
            "\u001b[K     |████████████████████████████████| 2.9MB 14.9MB/s \n",
            "\u001b[?25hRequirement already satisfied, skipping upgrade: packaging in /usr/local/lib/python3.6/dist-packages (from transformers<3.6.0,>=3.1.0->sentence-transformers) (20.8)\n",
            "Collecting sentencepiece==0.1.91\n",
            "\u001b[?25l  Downloading https://files.pythonhosted.org/packages/d4/a4/d0a884c4300004a78cca907a6ff9a5e9fe4f090f5d95ab341c53d28cbc58/sentencepiece-0.1.91-cp36-cp36m-manylinux1_x86_64.whl (1.1MB)\n",
            "\u001b[K     |████████████████████████████████| 1.1MB 32.2MB/s \n",
            "\u001b[?25hRequirement already satisfied, skipping upgrade: sacremoses in /usr/local/lib/python3.6/dist-packages (from transformers<3.6.0,>=3.1.0->sentence-transformers) (0.0.43)\n",
            "Requirement already satisfied, skipping upgrade: requests in /usr/local/lib/python3.6/dist-packages (from transformers<3.6.0,>=3.1.0->sentence-transformers) (2.23.0)\n",
            "Requirement already satisfied, skipping upgrade: protobuf in /usr/local/lib/python3.6/dist-packages (from transformers<3.6.0,>=3.1.0->sentence-transformers) (3.12.4)\n",
            "Requirement already satisfied, skipping upgrade: future in /usr/local/lib/python3.6/dist-packages (from torch>=1.6.0->sentence-transformers) (0.16.0)\n",
            "Requirement already satisfied, skipping upgrade: typing-extensions in /usr/local/lib/python3.6/dist-packages (from torch>=1.6.0->sentence-transformers) (3.7.4.3)\n",
            "Requirement already satisfied, skipping upgrade: joblib>=0.11 in /usr/local/lib/python3.6/dist-packages (from scikit-learn->sentence-transformers) (1.0.0)\n",
            "Requirement already satisfied, skipping upgrade: six in /usr/local/lib/python3.6/dist-packages (from nltk->sentence-transformers) (1.15.0)\n",
            "Requirement already satisfied, skipping upgrade: pyparsing>=2.0.2 in /usr/local/lib/python3.6/dist-packages (from packaging->transformers<3.6.0,>=3.1.0->sentence-transformers) (2.4.7)\n",
            "Requirement already satisfied, skipping upgrade: click in /usr/local/lib/python3.6/dist-packages (from sacremoses->transformers<3.6.0,>=3.1.0->sentence-transformers) (7.1.2)\n",
            "Requirement already satisfied, skipping upgrade: chardet<4,>=3.0.2 in /usr/local/lib/python3.6/dist-packages (from requests->transformers<3.6.0,>=3.1.0->sentence-transformers) (3.0.4)\n",
            "Requirement already satisfied, skipping upgrade: idna<3,>=2.5 in /usr/local/lib/python3.6/dist-packages (from requests->transformers<3.6.0,>=3.1.0->sentence-transformers) (2.10)\n",
            "Requirement already satisfied, skipping upgrade: certifi>=2017.4.17 in /usr/local/lib/python3.6/dist-packages (from requests->transformers<3.6.0,>=3.1.0->sentence-transformers) (2020.12.5)\n",
            "Requirement already satisfied, skipping upgrade: urllib3!=1.25.0,!=1.25.1,<1.26,>=1.21.1 in /usr/local/lib/python3.6/dist-packages (from requests->transformers<3.6.0,>=3.1.0->sentence-transformers) (1.24.3)\n",
            "Requirement already satisfied, skipping upgrade: setuptools in /usr/local/lib/python3.6/dist-packages (from protobuf->transformers<3.6.0,>=3.1.0->sentence-transformers) (50.3.2)\n",
            "Building wheels for collected packages: sentence-transformers\n",
            "  Building wheel for sentence-transformers (setup.py) ... \u001b[?25l\u001b[?25hdone\n",
            "  Created wheel for sentence-transformers: filename=sentence_transformers-0.3.9-cp36-none-any.whl size=101035 sha256=04c0df7702be15af734c9ec7dc684778b79e27df20f749c017d4806115653d4f\n",
            "  Stored in directory: /root/.cache/pip/wheels/fc/89/43/f2f5bc00b03ef9724b0f6254a97eaf159a4c4ddc024b33e07a\n",
            "Successfully built sentence-transformers\n",
            "Installing collected packages: tokenizers, sentencepiece, transformers, sentence-transformers\n",
            "  Found existing installation: tokenizers 0.8.0rc4\n",
            "    Uninstalling tokenizers-0.8.0rc4:\n",
            "      Successfully uninstalled tokenizers-0.8.0rc4\n",
            "  Found existing installation: sentencepiece 0.1.94\n",
            "    Uninstalling sentencepiece-0.1.94:\n",
            "      Successfully uninstalled sentencepiece-0.1.94\n",
            "  Found existing installation: transformers 3.0.0\n",
            "    Uninstalling transformers-3.0.0:\n",
            "      Successfully uninstalled transformers-3.0.0\n",
            "Successfully installed sentence-transformers-0.3.9 sentencepiece-0.1.91 tokenizers-0.9.3 transformers-3.5.1\n"
          ],
          "name": "stdout"
        },
        {
          "output_type": "display_data",
          "data": {
            "application/vnd.colab-display-data+json": {
              "pip_warning": {
                "packages": [
                  "sentencepiece",
                  "tokenizers",
                  "transformers"
                ]
              }
            }
          },
          "metadata": {
            "tags": []
          }
        }
      ]
    },
    {
      "cell_type": "code",
      "metadata": {
        "colab": {
          "base_uri": "https://localhost:8080/"
        },
        "id": "J0LwfkLmexIJ",
        "outputId": "8ad72baf-093a-4e59-c227-2aa553204215"
      },
      "source": [
        "from sentence_transformers import SentenceTransformer\r\n",
        "# embedder download...\r\n",
        "embedder = SentenceTransformer('xlm-r-large-en-ko-nli-ststb')"
      ],
      "execution_count": 11,
      "outputs": [
        {
          "output_type": "stream",
          "text": [
            "100%|██████████| 1.80G/1.80G [01:56<00:00, 15.5MB/s]\n"
          ],
          "name": "stderr"
        }
      ]
    },
    {
      "cell_type": "code",
      "metadata": {
        "id": "-PVN8g3Cfqvr"
      },
      "source": [
        "\r\n",
        "questions = [\r\n",
        "    '물의 원자 구성은 어떻게 되는가?'\r\n",
        "]\r\n",
        "\r\n",
        "reader = DocumentReader(\"monologg/koelectra-base-v3-finetuned-korquad\") \r\n",
        "\r\n",
        "# if you trained your own model using the training cell earlier, you can access it with this:\r\n",
        "#reader = DocumentReader(\"./models/bert/bbu_squad2\")\r\n",
        "wiki.set_lang('ko')\r\n",
        "corpus = []\r\n",
        "for question in questions:\r\n",
        "    print(f\"Question: {question}\")\r\n",
        "    results = wiki.search(question)\r\n",
        "    print(results)\r\n",
        "    page = \"\"\r\n",
        "    text = \"\"\r\n",
        "    for result in results:\r\n",
        "      try:\r\n",
        "        page = wiki.page(result)\r\n",
        "        print(f\"Top wiki result: {page}\")\r\n",
        "        text = page.content\r\n",
        "        corpus.add(text)\r\n",
        "        reader.tokenize(question, text)\r\n",
        "\r\n",
        "      except Exception as ex:\r\n",
        "        print(ex)\r\n",
        "\r\n",
        "corpus_embeddings = embedder.encode(corpus,show_progress_bar=True) "
      ],
      "execution_count": null,
      "outputs": []
    }
  ]
}