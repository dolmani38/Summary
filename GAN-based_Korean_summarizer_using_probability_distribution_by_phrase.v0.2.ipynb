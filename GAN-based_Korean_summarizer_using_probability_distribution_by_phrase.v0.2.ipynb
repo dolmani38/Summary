{
  "nbformat": 4,
  "nbformat_minor": 0,
  "metadata": {
    "kernelspec": {
      "name": "python3",
      "display_name": "Python 3",
      "language": "python"
    },
    "language_info": {
      "name": "python",
      "version": "3.7.6",
      "mimetype": "text/x-python",
      "codemirror_mode": {
        "name": "ipython",
        "version": 3
      },
      "pygments_lexer": "ipython3",
      "nbconvert_exporter": "python",
      "file_extension": ".py"
    },
    "colab": {
      "name": "GAN based Korean summarizer using probability distribution by phrase",
      "provenance": [],
      "include_colab_link": true
    },
    "accelerator": "GPU"
  },
  "cells": [
    {
      "cell_type": "markdown",
      "metadata": {
        "id": "view-in-github",
        "colab_type": "text"
      },
      "source": [
        "<a href=\"https://colab.research.google.com/github/dolmani38/Summary/blob/master/GAN-based_Korean_summarizer_using_probability_distribution_by_phrase.v0.2.ipynb\" target=\"_parent\"><img src=\"https://colab.research.google.com/assets/colab-badge.svg\" alt=\"Open In Colab\"/></a>"
      ]
    },
    {
      "cell_type": "markdown",
      "metadata": {
        "id": "GkQCxNatSIOk"
      },
      "source": [
        "# GAN based Korean summarizer using probability distribution by phrase\r\n",
        "\r\n",
        "---\r\n",
        "이훈석(1), 안순홍(2), 김승훈(교신)\r\n",
        "\r\n",
        "---\r\n",
        "\r\n",
        "\r\n",
        "\r\n",
        "## Abstract\r\n",
        "\r\n",
        " 영어의 경우 Sate of art를 달성한 요약 알고리즘 및 모델들이 개발 되어 졌다. 대부분 GAN 이나 AVE 알고리즘을 이용하여 문장을 생성하는 방식을 기반으로 한다.\r\n",
        "영어의 경우 English Gigaword와 같이 원문과 요약문 데이터셋을 대량으로 구비하고 있어, 요약 모델을 생성하는데 유리하다. 하지만 아직 한국어의 경우 양질의 대량 여약 데이터셋이 준비되어 있지 않다. 하여, 한국어의 경우 좋은 성능의 요약 알고리즘이 아직 연구가 미비하다.\r\n",
        " 본 연구에서는 원문에 대한 유사 확율을 구문(?)별 추출하고 높은 확률의 구문만을 골자로 하여 나머지 원문의 구문을 재활용 추출하여 한국에 문법에 맞게 재조합 시키는 방법으로 원문을 요약하기 방법을 제안한다.[방식의 명칭을 지어야 함]\r\n",
        "이를 통해, 대량의 요약문 데이터셋이 없어도 원문을 요약할 수 있으며, 특히, 스토리 흐름이 있는 문성의 경우, 일부 발췌가 아닌 전체 스토리를 요약할 수 있는 장점을 갖는다.\r\n",
        "\r\n"
      ]
    },
    {
      "cell_type": "markdown",
      "metadata": {
        "id": "vBmgUn9GV7Fm"
      },
      "source": [
        "##1. Introduction\r\n",
        "\r\n",
        "ref : https://www.machinelearningplus.com/nlp/text-summarization-approaches-nlp-example/\r\n",
        "\r\n",
        "When you open news sites, do you just start reading every news article? Probably not. We typically glance the short news summary and then read more details if interested. Short, informative summaries of the news is now everywhere like magazines, news aggregator apps, research sites, etc.\r\n",
        "\r\n",
        "Well, It is possible to create the summaries automatically as the news comes in from various sources around the world.\r\n",
        "\r\n",
        "The method of extracting these summaries from the original huge text without losing vital information is called as Text Summarization. It is essential for the summary to be a fluent, continuous and depict the significant.\r\n",
        "\r\n",
        "In fact, the google news, the inshorts app and various other news aggregator apps take advantage of text summarization algorithms.\r\n",
        "\r\n",
        "In this post, I discuss and use various traditional and advanced methods to implement automatic Text Summarization.\r\n",
        "\r\n",
        "\r\n",
        "\r\n",
        "\r\n",
        "\r\n",
        "> * Types of Text Summarization\r\n",
        "\r\n",
        "> Text summarization methods can be grouped into two main categories: Extractive and Abstractive methods\r\n",
        "\r\n",
        "> * Extractive Text Summarization\r\n",
        "\r\n",
        "> It is the traditional method developed first. The main objective is to identify the significant sentences of the text and add them to the summary. You need to note that the summary obtained contains exact sentences from the original text.\r\n",
        "\r\n",
        "> * Abstractive Text Summarization\r\n",
        "\r\n",
        "> It is a more advanced method, many advancements keep coming out frequently(I will cover some of the best here). The approach is to identify the important sections, interpret the context and reproduce in a new way. This ensures that the core information is conveyed through shortest text possible. Note that here, the sentences in summary are generated, not just extracted from original text.\r\n",
        "\r\n",
        "In the next sections, I will discuss different extractive and abstractive methods. At the end, you can compare the results and know for yourself the advantages and limitations of each method."
      ]
    },
    {
      "cell_type": "markdown",
      "metadata": {
        "id": "aADtcrL_XtG1"
      },
      "source": [
        "#2. Related Work\r\n",
        "\r\n",
        "* Text Summarization using Gensim with TextRank\r\n",
        "\r\n",
        "> gensim is a very handy python library for performing NLP tasks. The text summarization process using gensim library is based on TextRank Algorithm\r\n",
        "\r\n",
        "> What is TextRank algorithm?\r\n",
        "\r\n",
        "> TextRank is an extractive summarization technique. It is based on the concept that words which occur more frequently are significant. Hence , the sentences containing highly frequent words are important .\r\n",
        "\r\n",
        "> Based on this , the algorithm assigns scores to each sentence in the text . The top-ranked sentences make it to the summary.\r\n",
        "\r\n",
        "* Text Summarization with Sumy\r\n",
        "> Along with TextRank , there are various other algorithms to summarize text.<br>\r\n",
        "> Don’t you think it would be very smooth and beneficial to have a library, which will let you perform summarization through multiple algorithms?<br>\r\n",
        "> Fortunately, we already have the sumy library for it !\r\n",
        "sumy libraray provides you several algorithms to implement Text Summarzation. Just import your desired algorithm rather having to code it on your own.<br>\r\n",
        "> In this section, I shall discuss on implementation of the below algorithms for summarization using sumy :\r\n",
        ">> LexRank<br>\r\n",
        "> Luhn<br>\r\n",
        "> Latent Semantic Analysis, LSA<br>\r\n",
        "> KL-Sum<br>\r\n",
        "\r\n",
        "* LexRank (ref : G¨une¸s Erkan. (2004). LexRank: Graph-based Lexical Centrality as Salience in Text Summarization, https://arxiv.org/pdf/1109.2128.pdf)\r\n",
        "> First, let me introduce you to summarization with LexRank.\r\n",
        "> How does LexRank work?\r\n",
        "> A sentence which is similar to many other sentences of the text has a high probability of being important. The approach of LexRank is that a particular sentence is recommended by other similar sentences and hence is ranked higher.\r\n",
        "> Higher the rank, higher is the priority of being included in the summarized text.\r\n",
        "\r\n",
        "* LSA (Latent semantic analysis) (ref:참조논문 찾기)\r\n",
        "> Latent Semantic Analysis is a unsupervised learning algorithm that can be used for extractive text summarization.<br>\r\n",
        "> It extracts semantically significant sentences by applying singular value decomposition(SVD) to the matrix of term-document frequency. To learn more about this algorithm, check out here <br>\r\n",
        "> Let me demonstrate how to use LSA for summarization . First, import the summarizer from sumy.\r\n",
        "\r\n",
        "* Luhn (ref:참조논문 찾기)\r\n",
        "> Luhn Summarization algorithm’s approach is based on TF-IDF (Term Frequency-Inverse Document Frequency). It is useful when very low frequent words as well as highly frequent words(stopwords) are both not significant.<br>\r\n",
        "> Based on this, sentence scoring is carried out and the high ranking sentences make it to the summary.\r\n",
        "\r\n",
        "* KL-Sum (ref:참조논문 찾기)\r\n",
        "> Another extractive method is the KL-Sum algorithm. <br>\r\n",
        "> It selects sentences based on similarity of word distribution as the original text. It aims to lower the KL-divergence criteria (learn more). It uses greedy optimization approach and keeps adding sentences till the KL-divergence decreases."
      ]
    },
    {
      "cell_type": "markdown",
      "metadata": {
        "id": "JUP5F_L_Z99t"
      },
      "source": [
        "* What is Abstractive Text Summarization?\r\n",
        "\r\n",
        "> Abstractive summarization is the new state of art method, which generates new sentences that could best represent the whole text. This is better than extractive methods where sentences are just selected from original text for the summary.<br>\r\n",
        "\r\n",
        "> HuggingFace supports state of the art models to implement tasks such as summarization, classification, etc.. Some common models are GPT-2, GPT-3, BERT , OpenAI, GPT, T5.\r\n",
        "\r\n",
        ">Another awesome feature with transformers is that it provides PreTrained models with weights that can be easily instantiated through from_pretrained() method.\r\n",
        "\r\n",
        ">You can check the list of currently available PreTrained models here\r\n",
        "\r\n",
        ">This section will show you text summarization through different models of transformers library\r\n",
        "\r\n",
        "* Summarization with T5 Transformers (ref : Colin Raffel. (2020). Exploring the Limits of Transfer Learning with a Unified\r\n",
        "Text-to-Text Transformer, https://arxiv.org/pdf/1910.10683.pdf)\r\n",
        ">T5 is an encoder-decoder model. It converts all language problems into a text-to-text format.<br>\r\n",
        ">First, you need to import the tokenizer and corresponding model through below command.<br>\r\n",
        ">It is preferred to use T5ForConditionalGeneration model when the input and output are both sequences.\r\n",
        "\r\n",
        "* Summarization with BART Transformers (ref : Mike Lewis, (2019). BART: Denoising Sequence-to-Sequence Pre-training for Natural\r\n",
        "Language Generation, Translation, and Comprehension, https://arxiv.org/pdf/1910.13461.pdf)\r\n",
        "> transformers library of HuggingFace supports summarization with BART models.\r\n",
        "> Import the model and tokenizer. For problems where there is need to generate sequences , it is preferred to use BartForConditionalGeneration model.\r\n",
        "\r\n",
        "* Summarization with GPT-2 Transformers (ref : Alec Radford, (2018). Language Models are Unsupervised Multitask Learners, https://d4mucfpksywv.cloudfront.net/better-language-models/language_models_are_unsupervised_multitask_learners.pdf)\r\n",
        ">GPT-2 transformer is another major player in text summarization, introduced by OpenAI. Thanks to transformers, the process followed is same just like with BART Transformers.<br>\r\n",
        "> First, you have to import the tokenizer and model. Make sure that you import a LM Head type model, as it is necessary to generate sequences. Next, load the pretrained gpt-2 model and tokenizer .<br>\r\n",
        ">After loading the model, you have to encode the input text and pass it as an input to model.generate().\r\n",
        "\r\n",
        "* Summarization with XLM Transformers (ref : Guillaume Lample, (2019). Cross-lingual Language Model Pretraining, https://arxiv.org/pdf/1901.07291.pdf)\r\n",
        ">Another transformer type that could be used for summarization are XLM Transformers.<br>\r\n",
        ">You can import the XLMWithLMHeadModel as it supports generation of sequences.You can load the pretrained xlm-mlm-en-2048 model and tokenizer with weights using from_pretrained() method.<br>\r\n",
        ">The nexts steps are same as the last three cases. The encoded input text is passed to generate() function with returns id sequence for the summary. You can decode and print the summary.<br>\r\n",
        "\r\n",
        "* GAN for Language Generation\r\n",
        "> In this paper, we borrow the idea of GAN to make the generator output human-readable. The major challenge in applying GAN to sentence generation is the discrete nature of natural language. To generate a word sequence, the generator usually has non-differential parts such as argmax or other sample functions which cause the original GAN to fail.\r\n",
        "In (Gulrajani et al., 2017), instead of feeding a discrete word sequence, the authors directly feed the generator output layer to the discriminator.\r\n",
        "This method works because they use the earth mover’s distance on GAN as proposed in (Arjovsky et al., 2017), which is able to evaluate the distance between a discrete and a continuous distribution.\r\n",
        "SeqGAN (Yu et al., 2017) tackles the sequence generation problem with reinforcement learning. Here, we refer to this approach as adversarial REINFORCE. However, the discriminator only measures the quality of whole sequence, and thus the rewards are extremely sparse and the rewards assigned to all the generation steps are all the same. MC search (Yu et al., 2017) is proposed to evaluate the approximate reward at each time step, but this method suffers from high time complexity.\r\n",
        "Following this idea, (Li et al., 2017) proposes partial evaluation approach to evaluate the expected reward at each time step.\r\n"
      ]
    },
    {
      "cell_type": "markdown",
      "metadata": {
        "id": "Jj_hGNp_KzYX"
      },
      "source": [
        "#3. Proposed Method\r\n",
        "\r\n",
        "##3.1 Skeleton term의 추출\r\n",
        "\r\n",
        "Document를 Term 단위로 나눈다. 각각의 Term을 xi 라고 할 때 Document는 다음과 같이 나타낼 수 있다.\r\n",
        "\r\n",
        "Document ![image.png](data:image/png;base64,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)\r\n",
        "\r\n",
        "Document의 유사 확률을 측정하는 함수를 S라고 하면, xi 에 대한 유사성 Probability는 다음과 같이 나타낼 수 있다.\r\n",
        "\r\n",
        "![image.png](data:image/png;base64,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)\r\n",
        "\r\n",
        "전체 document의 flow는 Similarity Probability Distribution, SPD를 아래와 같이 나타낼 수 있다.\r\n",
        "\r\n",
        "![image.png](data:image/png;base64,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)\r\n",
        "\r\n",
        "이를 연속적 Signal 이라 보고, Signal의 peak에 해당하는 term을 추출하여 이를 전체 document의 요약에 해당하는 skeleton term으로 구성하고자 한다.\r\n",
        "\r\n",
        "\r\n",
        "그러나 document story상, 주인공을 지칭하는 term의 경우 전체 Similarity에 지배적 영향을 주게되고 signal의 peak는 해당 term들로만 구성 될 수가 있다. 결국, 원하는 skeleton을 얻지 못하게 된다. 이를 극복하기 위한 방법으로 복수의 term으로 구성된 story line의 SPD를 산출하여 사용한다. 만약 2개의 term인 경우 Similarity Probability는 다음과 같다.\r\n",
        "\r\n",
        "![image.png](data:image/png;base64,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)\r\n",
        "\r\n",
        "이때, ![image.png](data:image/png;base64,iVBORw0KGgoAAAANSUhEUgAAAHkAAAAoCAYAAADaKFUbAAAEFklEQVR4Ae1bIWzrMBANLBwsHJwUUjg4OFhiqbBwcHAwrLBwcLBSyODgYGFJpMLCwcHC+3qO3TpdkjrxOdZvbGlK2ti+u/d85/OlSyi2m0cguXkLo4EUSR7BIogkR5JHgMAITIyeHEkeAQIjMDF6ciR5BAiMwMToyZHk/gh8f3/T6+tr/wlGNPLl5YW22603i9k9Gco+PT3RdDql9/d3b4rfysTH45HW6zXd3d1J3Ha7HbtprCRDQSi7XC7p9/eXXdlbnhB4LRYLid/hcGA1lY1kKHZ/f0+Pj4+E1RlbdwSA28PDg8SR00nYSH5+fvayCrtD9X+P2O/3NJlMaD6fsxnCQjIUS5JEhmk2zUY8ERwGeP78/LCgwEIysmgo9fX1xaLU2Cf5+PiQeHKdTlhIRnhBwtW6FxcZiTSRyidpRrnJZJGfnonKA7NTj/sQMnuoeTkE+zGcBphyNGeStUJIuhpbkVGaZlQQUZGl0oA0wye0nESiyE9ElXzVo9clhMxeitYPwhEURHMkYM4k49gEZXA2tmoAH6RKly0og3erBWA1vk+nEDL76GmMQZYNXJHvuDZnkrEPQxn7bPBMbAavvkZwLuT8bmE8hEw3auA0wJUjz3EmWScJKIDYtlzovfl6eC77pnSK7rZCLvqFkHmhQqePmuTNZtNpXF1nZ5JRo+4Uro192c0768xp/k7nAiwyVfi3nkslluc8pFlP/QRFJeAKfF2bM8modEGZ2Wxmp4veH0/7st0wp17cMm1JLnLKRJloAqMuJCORxRiOEqczyTg2QZnW7FozhBWdJCRylVG37cdqL+4KjhZ1uvqQaUMy+qSCsrwgUrZ0IRnHUtjO0VhmgRc3rjoYiLimwC6zatiNfbl9r20NsXoR1MVMXzI14jYk6764diQZb/KAp3V0NGXV3LOQjFdlUGq1Wv0RoYnCczOT1t+XqxvZ71/Cyz5/v5dCWkjWc7PL1NZ5Jvnt7U3iyfWqloVkhGyEFyQLl01ntakoiyHn53l5Rpbki9rsWY5tCuktJHPLrCwa6Nv0VxdVYHBHT8bWh2JIawXxDOTVOxaSIUWvPhypeJratxuA08A3PO6pQrvM06QePRnei0UEPLkaG8lQCG9P4NEcVRpSQNYnKyUZKS/DqLnKaly9TANyTyTr14z48QBnYyUZ4QVEI9R8fn466dm2H+PZVSJ6SG+TWZnOA8nAC7gBP64wrXVmJVlPipCNfcW6nq0HGlcT8CIXXkg1xMlba5kdSS7nLev1+rWMKRs4AS++rc6cnfz+V6NTtUYBiWOWcK1pVm1u/mQr04pkVS+vTdKq5Vyfv9SEsV48uRnF+CQEApHkEKgPLDOSPDDgIcRFkkOgPrDMSPLAgIcQF0kOgfrAMiPJAwMeQtw/l14Wzf4yXzIAAAAASUVORK5CYII=) 의 구성은 일종의 partial story 로서 filter의 역할을 하고, 전체 document를 convolution 한다.\r\n",
        "만약 N개의 term을 filter로 사용한다면, \r\n",
        "\r\n",
        "![image.png](data:image/png;base64,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)\r\n",
        "\r\n",
        "과 같이 된다. \r\n",
        "\r\n",
        "m개의 filter를 이용하여 skeleton terms = s 를 아래와 같이 구성한다면\r\n",
        "\r\n",
        "![image.png](data:image/png;base64,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)\r\n",
        "\r\n",
        "![image.png](data:image/png;base64,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)\r\n",
        "\r\n",
        "하지만 여기서 문제점은 SPD1~m 에서도 역시 주인공과 같은 지배적 term에 peak가 몰리고 story line에 해당하는 skeleton이 추출되지 못 할 수 있다는 것이다. 이를 극복하기 위해, peak를 추출하기 전에 SPD1의 값을 빼서 지배적 term의 peak를 회피하고 story line에 해당하는 skeleton을 추출 할 수 있도록 한다.\r\n",
        "\r\n",
        "![image.png](data:image/png;base64,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)"
      ]
    },
    {
      "cell_type": "markdown",
      "metadata": {
        "id": "lLLJ8nNcXP2g"
      },
      "source": [
        "##3.2 Similarity function, S \r\n",
        "\r\n",
        "*3.2.1 Sentence-BERT\r\n",
        "\r\n",
        "(ref :Nils Reimers and Iryna Gurevych, (2019). Sentence-BERT: Sentence Embeddings using Siamese BERT-Networks ,https://arxiv.org/pdf/1908.10084.pdf)\r\n",
        "를 기반으로 구현한다.\r\n",
        "\r\n",
        "BERT (Devlin et al., 2018) is a pre-trained transformer network (Vaswani et al., 2017), which set for various NLP tasks new state-of-the-art results, including question answering, sentence classification, and sentence-pair regression. The input for BERT for sentence-pair regression consists of the two sentences, separated by a special [SEP]\r\n",
        "token. Multi-head attention over 12 (base-model) or 24 layers (large-model) is applied and the output is passed to a simple regression function to derive the final label. Using this setup, BERT set a new state-of-the-art performance on the Semantic Textual Semilarity (STS) benchmark (Cer et al.,2017). RoBERTa (Liu et al., 2019) showed, that\r\n",
        "the performance of BERT can further improved by small adaptations to the pre-training process. We also tested XLNet (Yang et al., 2019), but it led in general to worse results than BERT.\r\n",
        "\r\n",
        "Sentence-BERT(SBERT), a modification of the pretrained BERT network that use siamese and triplet network structures to derive semantically meaningful sentence embeddings that can be compared using cosine-similarity. This reduces the effort for finding the most similar pair from 65 hours with BERT / RoBERTa to about 5 seconds with SBERT, while maintaining the accuracy from BERT.\r\n",
        "\r\n",
        "SBERT adds a pooling operation to the output of BERT / RoBERTa to derive a fixed sized sentence embedding. We experiment with three pooling strategies: Using the output of the CLS-token, computing the mean of all output vectors (MEAN strategy), and computing a max-over-time of the output vectors (MAX-strategy). The default configuration is MEAN.\r\n",
        "\r\n",
        "![image.png](data:image/png;base64,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)\r\n",
        "\r\n",
        "SBERT를 활용할 수 있는 pretrained model은 https://www.sbert.net/docs/pretrained_models.html 여기서 확인 할 수 있다.\r\n",
        "\r\n",
        "본 논문에서는  한국어로 학습된 'xlm-r-large-en-ko-nli-ststb' 모델을 사용하였고, 이 모델의 STS Benchmark score는 84.05% 이다.\r\n",
        "\r\n"
      ]
    },
    {
      "cell_type": "markdown",
      "metadata": {
        "id": "AjndPnYrf7FX"
      },
      "source": [
        "#3.3 한국어 문법 Discriminator\r\n",
        "\r\n",
        "skeleton terms이 추출된 이후, 개별 skeleton term 사이를 채워 줄 적절한 term을 원문에서 찾아 넣어 주어 사람이 읽을 수 있는 완성된 문장을 만들어야 한다. generator에 의해서 다양한 term을 후보로 채울것이나 이의 적절성 여부를 판단 하는 것이 '한국어 문번 discriminator'이다. 높은 score를 받을 수록 해당 term의 weight를 상승 시켜 결국에는 사람이 읽을 수 있는 요약문장을 만들게 된다.\r\n",
        "\r\n",
        "'한국어 문번 discriminator' 는 한국어 Sample 문서를 수집하여 문장별로 나누어 koNLPy (ref:https://konlpy-ko.readthedocs.io/ko/v0.4.3/)에 의해 형태소 분석을 하여, 최대 길이 128 word, word 별 23 차원의 one-hot ecode하여 (None,128,23)의 shape을 갖는 feature를 구성하여 term이 shuffling된 문장은 label 0, 정상 문장은 label 1로 regression 학습하여 사용한다.\r\n",
        "\r\n",
        "본 논문에서는 장편소설 2개의 text를 사용하여, 총 35,000개의 문장을 학습하였다.  "
      ]
    },
    {
      "cell_type": "code",
      "metadata": {
        "id": "qVI_ewF7SIt1"
      },
      "source": [
        "DO_ALL = True # 전체 실행하면서 시간 걸리는 걸 Pass 하려면 이걸 False ...\r\n",
        "USE_PRETRAINED_MODEL = True # 이미 학습한 모델을 사용하려면.. true"
      ],
      "execution_count": null,
      "outputs": []
    },
    {
      "cell_type": "code",
      "metadata": {
        "id": "nj2s2BOKVVQ4"
      },
      "source": [
        ""
      ],
      "execution_count": null,
      "outputs": []
    },
    {
      "cell_type": "code",
      "metadata": {
        "_uuid": "d629ff2d2480ee46fbb7e2d37f6b5fab8052498a",
        "_cell_guid": "79c7e3d0-c299-4dcb-8224-4455121ee9b0",
        "trusted": true,
        "colab": {
          "base_uri": "https://localhost:8080/"
        },
        "id": "VL9PuKQz04JS",
        "outputId": "2ebf2088-638d-4488-9cbc-54d5dc0281bc"
      },
      "source": [
        "if DO_ALL:\n",
        "    !pip install sentence-transformers==0.3.0\n",
        "    !pip install transformers==3.0.2\n",
        "    !pip install wikipedia\n",
        "    !pip install konlpy"
      ],
      "execution_count": null,
      "outputs": [
        {
          "output_type": "stream",
          "text": [
            "Collecting sentence-transformers==0.3.0\n",
            "\u001b[?25l  Downloading https://files.pythonhosted.org/packages/d5/23/833e0620753a36cb2f18e2e4a4f72fd8c49c123c3f07744b69f8a592e083/sentence-transformers-0.3.0.tar.gz (61kB)\n",
            "\u001b[K     |████████████████████████████████| 71kB 3.4MB/s \n",
            "\u001b[?25hCollecting transformers>=3.0.2\n",
            "\u001b[?25l  Downloading https://files.pythonhosted.org/packages/50/0c/7d5950fcd80b029be0a8891727ba21e0cd27692c407c51261c3c921f6da3/transformers-4.1.1-py3-none-any.whl (1.5MB)\n",
            "\u001b[K     |████████████████████████████████| 1.5MB 7.7MB/s \n",
            "\u001b[?25hRequirement already satisfied: tqdm in /usr/local/lib/python3.6/dist-packages (from sentence-transformers==0.3.0) (4.41.1)\n",
            "Requirement already satisfied: torch>=1.0.1 in /usr/local/lib/python3.6/dist-packages (from sentence-transformers==0.3.0) (1.7.0+cu101)\n",
            "Requirement already satisfied: numpy in /usr/local/lib/python3.6/dist-packages (from sentence-transformers==0.3.0) (1.19.4)\n",
            "Requirement already satisfied: scikit-learn in /usr/local/lib/python3.6/dist-packages (from sentence-transformers==0.3.0) (0.22.2.post1)\n",
            "Requirement already satisfied: scipy in /usr/local/lib/python3.6/dist-packages (from sentence-transformers==0.3.0) (1.4.1)\n",
            "Requirement already satisfied: nltk in /usr/local/lib/python3.6/dist-packages (from sentence-transformers==0.3.0) (3.2.5)\n",
            "Requirement already satisfied: packaging in /usr/local/lib/python3.6/dist-packages (from transformers>=3.0.2->sentence-transformers==0.3.0) (20.8)\n",
            "Collecting sacremoses\n",
            "\u001b[?25l  Downloading https://files.pythonhosted.org/packages/7d/34/09d19aff26edcc8eb2a01bed8e98f13a1537005d31e95233fd48216eed10/sacremoses-0.0.43.tar.gz (883kB)\n",
            "\u001b[K     |████████████████████████████████| 890kB 44.4MB/s \n",
            "\u001b[?25hRequirement already satisfied: filelock in /usr/local/lib/python3.6/dist-packages (from transformers>=3.0.2->sentence-transformers==0.3.0) (3.0.12)\n",
            "Requirement already satisfied: dataclasses; python_version < \"3.7\" in /usr/local/lib/python3.6/dist-packages (from transformers>=3.0.2->sentence-transformers==0.3.0) (0.8)\n",
            "Requirement already satisfied: requests in /usr/local/lib/python3.6/dist-packages (from transformers>=3.0.2->sentence-transformers==0.3.0) (2.23.0)\n",
            "Collecting tokenizers==0.9.4\n",
            "\u001b[?25l  Downloading https://files.pythonhosted.org/packages/0f/1c/e789a8b12e28be5bc1ce2156cf87cb522b379be9cadc7ad8091a4cc107c4/tokenizers-0.9.4-cp36-cp36m-manylinux2010_x86_64.whl (2.9MB)\n",
            "\u001b[K     |████████████████████████████████| 2.9MB 47.2MB/s \n",
            "\u001b[?25hRequirement already satisfied: regex!=2019.12.17 in /usr/local/lib/python3.6/dist-packages (from transformers>=3.0.2->sentence-transformers==0.3.0) (2019.12.20)\n",
            "Requirement already satisfied: typing-extensions in /usr/local/lib/python3.6/dist-packages (from torch>=1.0.1->sentence-transformers==0.3.0) (3.7.4.3)\n",
            "Requirement already satisfied: future in /usr/local/lib/python3.6/dist-packages (from torch>=1.0.1->sentence-transformers==0.3.0) (0.16.0)\n",
            "Requirement already satisfied: joblib>=0.11 in /usr/local/lib/python3.6/dist-packages (from scikit-learn->sentence-transformers==0.3.0) (1.0.0)\n",
            "Requirement already satisfied: six in /usr/local/lib/python3.6/dist-packages (from nltk->sentence-transformers==0.3.0) (1.15.0)\n",
            "Requirement already satisfied: pyparsing>=2.0.2 in /usr/local/lib/python3.6/dist-packages (from packaging->transformers>=3.0.2->sentence-transformers==0.3.0) (2.4.7)\n",
            "Requirement already satisfied: click in /usr/local/lib/python3.6/dist-packages (from sacremoses->transformers>=3.0.2->sentence-transformers==0.3.0) (7.1.2)\n",
            "Requirement already satisfied: idna<3,>=2.5 in /usr/local/lib/python3.6/dist-packages (from requests->transformers>=3.0.2->sentence-transformers==0.3.0) (2.10)\n",
            "Requirement already satisfied: certifi>=2017.4.17 in /usr/local/lib/python3.6/dist-packages (from requests->transformers>=3.0.2->sentence-transformers==0.3.0) (2020.12.5)\n",
            "Requirement already satisfied: chardet<4,>=3.0.2 in /usr/local/lib/python3.6/dist-packages (from requests->transformers>=3.0.2->sentence-transformers==0.3.0) (3.0.4)\n",
            "Requirement already satisfied: urllib3!=1.25.0,!=1.25.1,<1.26,>=1.21.1 in /usr/local/lib/python3.6/dist-packages (from requests->transformers>=3.0.2->sentence-transformers==0.3.0) (1.24.3)\n",
            "Building wheels for collected packages: sentence-transformers, sacremoses\n",
            "  Building wheel for sentence-transformers (setup.py) ... \u001b[?25l\u001b[?25hdone\n",
            "  Created wheel for sentence-transformers: filename=sentence_transformers-0.3.0-cp36-none-any.whl size=86754 sha256=a59412b8c2df2ec12aa5376910b5487d23598d5869dc12307283d6b519b4cf74\n",
            "  Stored in directory: /root/.cache/pip/wheels/b8/23/85/85d6a9a6c68f0625a1ecdaad903bb0a78df058c10cf74f9de4\n",
            "  Building wheel for sacremoses (setup.py) ... \u001b[?25l\u001b[?25hdone\n",
            "  Created wheel for sacremoses: filename=sacremoses-0.0.43-cp36-none-any.whl size=893261 sha256=9aec4dafaa48ddda45f40c99fa4a51d2be84d0a4c787cb9a63a3bc481aeea06a\n",
            "  Stored in directory: /root/.cache/pip/wheels/29/3c/fd/7ce5c3f0666dab31a50123635e6fb5e19ceb42ce38d4e58f45\n",
            "Successfully built sentence-transformers sacremoses\n",
            "Installing collected packages: sacremoses, tokenizers, transformers, sentence-transformers\n",
            "Successfully installed sacremoses-0.0.43 sentence-transformers-0.3.0 tokenizers-0.9.4 transformers-4.1.1\n",
            "Collecting transformers==3.0.2\n",
            "\u001b[?25l  Downloading https://files.pythonhosted.org/packages/27/3c/91ed8f5c4e7ef3227b4119200fc0ed4b4fd965b1f0172021c25701087825/transformers-3.0.2-py3-none-any.whl (769kB)\n",
            "\u001b[K     |████████████████████████████████| 778kB 4.2MB/s \n",
            "\u001b[?25hRequirement already satisfied: filelock in /usr/local/lib/python3.6/dist-packages (from transformers==3.0.2) (3.0.12)\n",
            "Collecting sentencepiece!=0.1.92\n",
            "\u001b[?25l  Downloading https://files.pythonhosted.org/packages/e5/2d/6d4ca4bef9a67070fa1cac508606328329152b1df10bdf31fb6e4e727894/sentencepiece-0.1.94-cp36-cp36m-manylinux2014_x86_64.whl (1.1MB)\n",
            "\u001b[K     |████████████████████████████████| 1.1MB 38.6MB/s \n",
            "\u001b[?25hRequirement already satisfied: regex!=2019.12.17 in /usr/local/lib/python3.6/dist-packages (from transformers==3.0.2) (2019.12.20)\n",
            "Requirement already satisfied: requests in /usr/local/lib/python3.6/dist-packages (from transformers==3.0.2) (2.23.0)\n",
            "Requirement already satisfied: packaging in /usr/local/lib/python3.6/dist-packages (from transformers==3.0.2) (20.8)\n",
            "Requirement already satisfied: numpy in /usr/local/lib/python3.6/dist-packages (from transformers==3.0.2) (1.19.4)\n",
            "Requirement already satisfied: tqdm>=4.27 in /usr/local/lib/python3.6/dist-packages (from transformers==3.0.2) (4.41.1)\n",
            "Requirement already satisfied: sacremoses in /usr/local/lib/python3.6/dist-packages (from transformers==3.0.2) (0.0.43)\n",
            "Requirement already satisfied: dataclasses; python_version < \"3.7\" in /usr/local/lib/python3.6/dist-packages (from transformers==3.0.2) (0.8)\n",
            "Collecting tokenizers==0.8.1.rc1\n",
            "\u001b[?25l  Downloading https://files.pythonhosted.org/packages/40/d0/30d5f8d221a0ed981a186c8eb986ce1c94e3a6e87f994eae9f4aa5250217/tokenizers-0.8.1rc1-cp36-cp36m-manylinux1_x86_64.whl (3.0MB)\n",
            "\u001b[K     |████████████████████████████████| 3.0MB 37.2MB/s \n",
            "\u001b[?25hRequirement already satisfied: urllib3!=1.25.0,!=1.25.1,<1.26,>=1.21.1 in /usr/local/lib/python3.6/dist-packages (from requests->transformers==3.0.2) (1.24.3)\n",
            "Requirement already satisfied: certifi>=2017.4.17 in /usr/local/lib/python3.6/dist-packages (from requests->transformers==3.0.2) (2020.12.5)\n",
            "Requirement already satisfied: chardet<4,>=3.0.2 in /usr/local/lib/python3.6/dist-packages (from requests->transformers==3.0.2) (3.0.4)\n",
            "Requirement already satisfied: idna<3,>=2.5 in /usr/local/lib/python3.6/dist-packages (from requests->transformers==3.0.2) (2.10)\n",
            "Requirement already satisfied: pyparsing>=2.0.2 in /usr/local/lib/python3.6/dist-packages (from packaging->transformers==3.0.2) (2.4.7)\n",
            "Requirement already satisfied: joblib in /usr/local/lib/python3.6/dist-packages (from sacremoses->transformers==3.0.2) (1.0.0)\n",
            "Requirement already satisfied: click in /usr/local/lib/python3.6/dist-packages (from sacremoses->transformers==3.0.2) (7.1.2)\n",
            "Requirement already satisfied: six in /usr/local/lib/python3.6/dist-packages (from sacremoses->transformers==3.0.2) (1.15.0)\n",
            "Installing collected packages: sentencepiece, tokenizers, transformers\n",
            "  Found existing installation: tokenizers 0.9.4\n",
            "    Uninstalling tokenizers-0.9.4:\n",
            "      Successfully uninstalled tokenizers-0.9.4\n",
            "  Found existing installation: transformers 4.1.1\n",
            "    Uninstalling transformers-4.1.1:\n",
            "      Successfully uninstalled transformers-4.1.1\n",
            "Successfully installed sentencepiece-0.1.94 tokenizers-0.8.1rc1 transformers-3.0.2\n",
            "Collecting wikipedia\n",
            "  Downloading https://files.pythonhosted.org/packages/67/35/25e68fbc99e672127cc6fbb14b8ec1ba3dfef035bf1e4c90f78f24a80b7d/wikipedia-1.4.0.tar.gz\n",
            "Requirement already satisfied: beautifulsoup4 in /usr/local/lib/python3.6/dist-packages (from wikipedia) (4.6.3)\n",
            "Requirement already satisfied: requests<3.0.0,>=2.0.0 in /usr/local/lib/python3.6/dist-packages (from wikipedia) (2.23.0)\n",
            "Requirement already satisfied: idna<3,>=2.5 in /usr/local/lib/python3.6/dist-packages (from requests<3.0.0,>=2.0.0->wikipedia) (2.10)\n",
            "Requirement already satisfied: chardet<4,>=3.0.2 in /usr/local/lib/python3.6/dist-packages (from requests<3.0.0,>=2.0.0->wikipedia) (3.0.4)\n",
            "Requirement already satisfied: certifi>=2017.4.17 in /usr/local/lib/python3.6/dist-packages (from requests<3.0.0,>=2.0.0->wikipedia) (2020.12.5)\n",
            "Requirement already satisfied: urllib3!=1.25.0,!=1.25.1,<1.26,>=1.21.1 in /usr/local/lib/python3.6/dist-packages (from requests<3.0.0,>=2.0.0->wikipedia) (1.24.3)\n",
            "Building wheels for collected packages: wikipedia\n",
            "  Building wheel for wikipedia (setup.py) ... \u001b[?25l\u001b[?25hdone\n",
            "  Created wheel for wikipedia: filename=wikipedia-1.4.0-cp36-none-any.whl size=11686 sha256=e35ba9692bbe78a4d4c01b7159e715f1e2977cf350c268fce19e537a23372be7\n",
            "  Stored in directory: /root/.cache/pip/wheels/87/2a/18/4e471fd96d12114d16fe4a446d00c3b38fb9efcb744bd31f4a\n",
            "Successfully built wikipedia\n",
            "Installing collected packages: wikipedia\n",
            "Successfully installed wikipedia-1.4.0\n",
            "Collecting konlpy\n",
            "\u001b[?25l  Downloading https://files.pythonhosted.org/packages/85/0e/f385566fec837c0b83f216b2da65db9997b35dd675e107752005b7d392b1/konlpy-0.5.2-py2.py3-none-any.whl (19.4MB)\n",
            "\u001b[K     |████████████████████████████████| 19.4MB 52.8MB/s \n",
            "\u001b[?25hRequirement already satisfied: lxml>=4.1.0 in /usr/local/lib/python3.6/dist-packages (from konlpy) (4.2.6)\n",
            "Requirement already satisfied: numpy>=1.6 in /usr/local/lib/python3.6/dist-packages (from konlpy) (1.19.4)\n",
            "Collecting colorama\n",
            "  Downloading https://files.pythonhosted.org/packages/44/98/5b86278fbbf250d239ae0ecb724f8572af1c91f4a11edf4d36a206189440/colorama-0.4.4-py2.py3-none-any.whl\n",
            "Collecting beautifulsoup4==4.6.0\n",
            "\u001b[?25l  Downloading https://files.pythonhosted.org/packages/9e/d4/10f46e5cfac773e22707237bfcd51bbffeaf0a576b0a847ec7ab15bd7ace/beautifulsoup4-4.6.0-py3-none-any.whl (86kB)\n",
            "\u001b[K     |████████████████████████████████| 92kB 8.3MB/s \n",
            "\u001b[?25hCollecting tweepy>=3.7.0\n",
            "  Downloading https://files.pythonhosted.org/packages/67/c3/6bed87f3b1e5ed2f34bd58bf7978e308c86e255193916be76e5a5ce5dfca/tweepy-3.10.0-py2.py3-none-any.whl\n",
            "Collecting JPype1>=0.7.0\n",
            "\u001b[?25l  Downloading https://files.pythonhosted.org/packages/b7/21/9e2c0dbf9df856e6392a1aec1d18006c60b175aa4e31d351e8278a8a63c0/JPype1-1.2.0-cp36-cp36m-manylinux2010_x86_64.whl (453kB)\n",
            "\u001b[K     |████████████████████████████████| 460kB 46.9MB/s \n",
            "\u001b[?25hRequirement already satisfied: requests[socks]>=2.11.1 in /usr/local/lib/python3.6/dist-packages (from tweepy>=3.7.0->konlpy) (2.23.0)\n",
            "Requirement already satisfied: requests-oauthlib>=0.7.0 in /usr/local/lib/python3.6/dist-packages (from tweepy>=3.7.0->konlpy) (1.3.0)\n",
            "Requirement already satisfied: six>=1.10.0 in /usr/local/lib/python3.6/dist-packages (from tweepy>=3.7.0->konlpy) (1.15.0)\n",
            "Requirement already satisfied: typing-extensions; python_version < \"3.8\" in /usr/local/lib/python3.6/dist-packages (from JPype1>=0.7.0->konlpy) (3.7.4.3)\n",
            "Requirement already satisfied: chardet<4,>=3.0.2 in /usr/local/lib/python3.6/dist-packages (from requests[socks]>=2.11.1->tweepy>=3.7.0->konlpy) (3.0.4)\n",
            "Requirement already satisfied: idna<3,>=2.5 in /usr/local/lib/python3.6/dist-packages (from requests[socks]>=2.11.1->tweepy>=3.7.0->konlpy) (2.10)\n",
            "Requirement already satisfied: certifi>=2017.4.17 in /usr/local/lib/python3.6/dist-packages (from requests[socks]>=2.11.1->tweepy>=3.7.0->konlpy) (2020.12.5)\n",
            "Requirement already satisfied: urllib3!=1.25.0,!=1.25.1,<1.26,>=1.21.1 in /usr/local/lib/python3.6/dist-packages (from requests[socks]>=2.11.1->tweepy>=3.7.0->konlpy) (1.24.3)\n",
            "Requirement already satisfied: PySocks!=1.5.7,>=1.5.6; extra == \"socks\" in /usr/local/lib/python3.6/dist-packages (from requests[socks]>=2.11.1->tweepy>=3.7.0->konlpy) (1.7.1)\n",
            "Requirement already satisfied: oauthlib>=3.0.0 in /usr/local/lib/python3.6/dist-packages (from requests-oauthlib>=0.7.0->tweepy>=3.7.0->konlpy) (3.1.0)\n",
            "Installing collected packages: colorama, beautifulsoup4, tweepy, JPype1, konlpy\n",
            "  Found existing installation: beautifulsoup4 4.6.3\n",
            "    Uninstalling beautifulsoup4-4.6.3:\n",
            "      Successfully uninstalled beautifulsoup4-4.6.3\n",
            "  Found existing installation: tweepy 3.6.0\n",
            "    Uninstalling tweepy-3.6.0:\n",
            "      Successfully uninstalled tweepy-3.6.0\n",
            "Successfully installed JPype1-1.2.0 beautifulsoup4-4.6.0 colorama-0.4.4 konlpy-0.5.2 tweepy-3.10.0\n"
          ],
          "name": "stdout"
        }
      ]
    },
    {
      "cell_type": "code",
      "metadata": {
        "trusted": true,
        "colab": {
          "base_uri": "https://localhost:8080/"
        },
        "id": "KZcW872104JU",
        "outputId": "fa0f00db-00b4-4635-e1eb-00353612071c"
      },
      "source": [
        "# keras module for building LSTM \n",
        "from keras.preprocessing.sequence import pad_sequences\n",
        "from keras.layers import Input, Embedding, LSTM, Dense, Dropout,Conv1D, MaxPooling1D, Flatten, Add, LeakyReLU\n",
        "from keras.preprocessing.text import Tokenizer\n",
        "from keras.callbacks import EarlyStopping\n",
        "from keras.models import Sequential, model_from_json\n",
        "from tensorflow.python.framework import tensor_shape\n",
        "import keras.utils as ku \n",
        "\n",
        "import tensorflow as tf\n",
        "from tensorflow.keras.models import Model\n",
        "from tensorflow.keras.layers import (Input,\n",
        "                                     Dense, \n",
        "                                     BatchNormalization, \n",
        "                                     LeakyReLU,\n",
        "                                     Softmax,\n",
        "                                     Reshape, \n",
        "                                     Conv2DTranspose,\n",
        "                                     Conv2D,\n",
        "                                     Dropout,\n",
        "                                     Flatten,\n",
        "                                     Concatenate,\n",
        "                                     Lambda)\n",
        "import matplotlib.pyplot as plt\n",
        "# set seeds for reproducability\n",
        "from tensorflow.random import set_seed\n",
        "from numpy.random import seed\n",
        "set_seed(2)\n",
        "seed(1)\n",
        "\n",
        "import pandas as pd\n",
        "import numpy as np\n",
        "import string, os \n",
        "\n",
        "import urllib.request\n",
        "import nltk\n",
        "nltk.download('punkt')\n",
        "\n",
        "from konlpy.tag import Okt\n",
        "\n",
        "import warnings\n",
        "warnings.filterwarnings(\"ignore\")\n",
        "warnings.simplefilter(action='ignore', category=FutureWarning)"
      ],
      "execution_count": null,
      "outputs": [
        {
          "output_type": "stream",
          "text": [
            "[nltk_data] Downloading package punkt to /root/nltk_data...\n",
            "[nltk_data]   Package punkt is already up-to-date!\n"
          ],
          "name": "stdout"
        }
      ]
    },
    {
      "cell_type": "code",
      "metadata": {
        "trusted": true,
        "id": "za5UL6kk04JV"
      },
      "source": [
        "# 간단한 전처리\n",
        "def clean_text(txt):\n",
        "    txt = txt.replace('\\n',' ')\n",
        "    txt = txt.replace('\\r',' ')    \n",
        "    txt = txt.replace('=','')\n",
        "    txt = txt.replace('\\\"','')   \n",
        "    txt = txt.replace('\\'','')\n",
        "    txt = txt.replace(',','')\n",
        "    txt = txt.replace('..','')\n",
        "    txt = txt.replace('.','. ')\n",
        "    txt = txt.replace('  ',' ')\n",
        "    txt = txt.replace('  ',' ')    \n",
        "    txt = txt.replace('  ',' ')   \n",
        "    txt = txt.replace('  ',' ')           \n",
        "    return txt "
      ],
      "execution_count": null,
      "outputs": []
    },
    {
      "cell_type": "code",
      "metadata": {
        "trusted": true,
        "id": "biAzDhZx04JW"
      },
      "source": [
        "# load ascii text and covert to lowercase\n",
        "\n",
        "def get_sample_text(target_url):\n",
        "    raw_text = urllib.request.urlopen(target_url).read().decode('utf-8')\n",
        "    return nltk.sent_tokenize(clean_text(raw_text))"
      ],
      "execution_count": null,
      "outputs": []
    },
    {
      "cell_type": "code",
      "metadata": {
        "trusted": true,
        "id": "IiMMX5-304JW"
      },
      "source": [
        "ko_sentences_dataset = []\n",
        "if USE_PRETRAINED_MODEL:\n",
        "    ko_sentences_dataset += get_sample_text(\"https://raw.githubusercontent.com/dolmani38/Summary/master/data/korean_sample.txt\")\n",
        "    # 여기서 계속 수집...\n",
        "    ko_sentences_dataset += get_sample_text(\"https://raw.githubusercontent.com/dolmani38/Summary/master/data/%EC%95%A0%EA%B1%B0%EC%84%9C%ED%81%AC%EB%A6%AC%EC%8A%A4%ED%8B%B0-ABC%20%EC%82%B4%EC%9D%B8%EC%82%AC%EA%B1%B4.txt\")\n",
        "\n",
        "    ko_sentences_dataset += get_sample_text(\"https://raw.githubusercontent.com/dolmani38/Summary/master/data/%EC%95%A0%EA%B1%B0%EC%84%9C%ED%81%AC%EB%A6%AC%EC%8A%A4%ED%8B%B0-%EA%B7%B8%EB%A6%AC%EA%B3%A0%20%EC%95%84%EB%AC%B4%EB%8F%84%20%EC%97%86%EC%97%88%EB%8B%A4.txt\")"
      ],
      "execution_count": null,
      "outputs": []
    },
    {
      "cell_type": "code",
      "metadata": {
        "trusted": true,
        "id": "blAfBUjg04JY"
      },
      "source": [
        "\n",
        "# false 문장을 만들기 위해 shffle 함수 준비\n",
        "import random\n",
        "\n",
        "def shuffling(txt):\n",
        "    txt_list = txt.split(' ')\n",
        "    random.shuffle(txt_list)\n",
        "    return ' '.join(txt_list)\n",
        "\n",
        "# true 문장, false 문장의 생성\n",
        "ko_grammar_dataset = []\n",
        "\n",
        "if USE_PRETRAINED_MODEL:\n",
        "    for txt in ko_sentences_dataset:\n",
        "        txt = txt.strip()\n",
        "        if len(txt) > 40:\n",
        "            #ko_grammar_dataset.append([txt,1])\n",
        "            txt = txt.replace('.','')\n",
        "            ko_grammar_dataset.append([txt,1]) # '.'의 위치를 보고 True, False를 판단 하기 땜에...\n",
        "            ko_grammar_dataset.append([shuffling(txt),0])\n",
        "        \n",
        "    # dataset을 전체적으로 다시 썩는다.\n",
        "    random.shuffle(ko_grammar_dataset)"
      ],
      "execution_count": null,
      "outputs": []
    },
    {
      "cell_type": "code",
      "metadata": {
        "trusted": true,
        "id": "2-5l3heO04Jb"
      },
      "source": [
        "okt = Okt()\n",
        "\n",
        "# 형태소 Code table의 구성\n",
        "\n",
        "_MAX_MORP_LENGTH = 128\n",
        "_PADDING_CODE = 0  # padding code\n",
        "_MISMATCH_CODE = 1 # mismatch word code               ex) @@@\n",
        "_MISMATCH_WORD = '@@@' # 이거 아래에서 쓴다.\n",
        "\n",
        "morpheme_table = {}\n",
        "morp_code = _MISMATCH_CODE+1\n",
        "morpheme_table['Pad'] = _PADDING_CODE \n",
        "morpheme_table['Mst'] = _MISMATCH_CODE \n",
        "'''\n",
        " Pad               0\n",
        " Mst               1\n",
        " Noun              2\n",
        " Punctuation       3\n",
        " Foreign           4\n",
        " Josa              5\n",
        " Verb              6\n",
        " Modifier          7\n",
        " Adjective         8\n",
        " Suffix            9\n",
        " Adverb            10\n",
        " Number            11\n",
        " Alpha             12\n",
        " Determiner        13\n",
        " Conjunction       14\n",
        " Exclamation       15\n",
        " KoreanParticle    16\n",
        " URL               17\n",
        " VerbPrefix        18\n",
        " Eomi              19\n",
        " Hashtag           20\n",
        " PreEomi           21\n",
        "'''\n",
        "morpheme_table['Noun']=2\n",
        "morpheme_table['Punctuation']=3\n",
        "morpheme_table['Foreign']=4\n",
        "morpheme_table['Josa']=5\n",
        "morpheme_table['Verb']=6\n",
        "morpheme_table['Modifier']=7\n",
        "morpheme_table['Adjective']=8\n",
        "morpheme_table['Suffix']=9\n",
        "morpheme_table['Adverb']=10\n",
        "morpheme_table['Number']=11\n",
        "morpheme_table['Alpha']=12\n",
        "morpheme_table['Determiner']=13\n",
        "morpheme_table['Conjunction']=14\n",
        "morpheme_table['Exclamation']=15\n",
        "morpheme_table['KoreanParticle']=16\n",
        "morpheme_table['URL']=17\n",
        "morpheme_table['VerbPrefix']=18\n",
        "morpheme_table['Eomi']=19\n",
        "morpheme_table['Hashtag']=20\n",
        "morpheme_table['PreEomi']=21\n",
        "morpheme_table['Email']=22"
      ],
      "execution_count": null,
      "outputs": []
    },
    {
      "cell_type": "code",
      "metadata": {
        "trusted": true,
        "colab": {
          "base_uri": "https://localhost:8080/"
        },
        "id": "AZSOLBzT04Je",
        "outputId": "fffb8bc3-2d11-464c-d05d-b9acd006bfb6"
      },
      "source": [
        "\n",
        "print('Korean morpheme code table')\n",
        "print('----------------------------------------------------------')\n",
        "print('  Morpheme        Code')\n",
        "print('')\n",
        "for morp in morpheme_table.keys():\n",
        "    print(f' {morp.ljust(15)}   {morpheme_table[morp]}')\n",
        "print('----------------------------------------------------------')"
      ],
      "execution_count": null,
      "outputs": [
        {
          "output_type": "stream",
          "text": [
            "Korean morpheme code table\n",
            "----------------------------------------------------------\n",
            "  Morpheme        Code\n",
            "\n",
            " Pad               0\n",
            " Mst               1\n",
            " Noun              2\n",
            " Punctuation       3\n",
            " Foreign           4\n",
            " Josa              5\n",
            " Verb              6\n",
            " Modifier          7\n",
            " Adjective         8\n",
            " Suffix            9\n",
            " Adverb            10\n",
            " Number            11\n",
            " Alpha             12\n",
            " Determiner        13\n",
            " Conjunction       14\n",
            " Exclamation       15\n",
            " KoreanParticle    16\n",
            " URL               17\n",
            " VerbPrefix        18\n",
            " Eomi              19\n",
            " Hashtag           20\n",
            " PreEomi           21\n",
            " Email             22\n",
            "----------------------------------------------------------\n"
          ],
          "name": "stdout"
        }
      ]
    },
    {
      "cell_type": "code",
      "metadata": {
        "trusted": true,
        "colab": {
          "base_uri": "https://localhost:8080/"
        },
        "id": "oZeukKit04Jf",
        "outputId": "b95eecec-6991-4937-d440-dbf61f33676c"
      },
      "source": [
        "\n",
        "# morpheme 코드 변환기 준비\n",
        "def morpheme_encode(sentence):\n",
        "    encode=[]\n",
        "    morphemes = okt.pos(sentence)\n",
        "    x = np.zeros((_MAX_MORP_LENGTH, len(morpheme_table)), dtype=np.bool)\n",
        "    for i, (word,morp) in enumerate(morphemes):\n",
        "        if i < _MAX_MORP_LENGTH:\n",
        "            code = _MISMATCH_CODE if word==_MISMATCH_WORD else morpheme_table[morp]\n",
        "            x[i,code] = 1.0   \n",
        "    return x\n",
        "\n",
        "ko_morpheme_x = []\n",
        "ko_morpheme_y = []\n",
        "\n",
        "if USE_PRETRAINED_MODEL:\n",
        "    try:\n",
        "        ko_morpheme_x = np.load('ko_morpheme_x.npy')\n",
        "        ko_morpheme_y = np.load('ko_morpheme_y.npy')\n",
        "        print('dataset load from file.')\n",
        "        print('ko_morpheme_x.shape',ko_morpheme_x.shape)\n",
        "        print('ko_morpheme_y.shape',ko_morpheme_y.shape)\n",
        "    except Exception as ex:\n",
        "        print(ex)\n",
        "else:\n",
        "    #true / false 문장을 morpheme 코드로 모두 변환\n",
        "    tc = len(ko_grammar_dataset)\n",
        "\n",
        "    for i, (txt,label) in enumerate(ko_grammar_dataset):\n",
        "        print(f'\\r {i+1}/{tc}', end=\"\", flush=True)\n",
        "        ko_morpheme_x.append(morpheme_encode(txt))\n",
        "        ko_morpheme_y.append([label])\n",
        "\n",
        "    ko_morpheme_x = np.asarray(ko_morpheme_x)\n",
        "    ko_morpheme_y = np.asarray(ko_morpheme_y)\n",
        "    np.save('ko_morpheme_x',ko_morpheme_x)\n",
        "    np.save('ko_morpheme_y',ko_morpheme_y)\n"
      ],
      "execution_count": null,
      "outputs": [
        {
          "output_type": "stream",
          "text": [
            "[Errno 2] No such file or directory: 'ko_morpheme_x.npy'\n"
          ],
          "name": "stdout"
        }
      ]
    },
    {
      "cell_type": "code",
      "metadata": {
        "trusted": true,
        "colab": {
          "base_uri": "https://localhost:8080/"
        },
        "id": "NMkYGX0u04Jh",
        "outputId": "86ca8c06-f5ca-4073-b152-11710900fe52"
      },
      "source": [
        "\n",
        "from sklearn.model_selection import train_test_split\n",
        "try: \n",
        "    # 20%를 testset으로 사용.,,\n",
        "    X_train, X_test, y_train, y_test = train_test_split(ko_morpheme_x,ko_morpheme_y,test_size=0.2)\n",
        "\n",
        "    print(f'Shape of X_train;{X_train.shape}')\n",
        "    print(f'Shape of X_test ;{X_test.shape}')\n",
        "    print(f'Shape of y_train;{y_train.shape}')\n",
        "    print(f'Shape of y_test ;{y_test.shape}')\n",
        "except Exception as ex:\n",
        "    print(ex)    "
      ],
      "execution_count": null,
      "outputs": [
        {
          "output_type": "stream",
          "text": [
            "With n_samples=0, test_size=0.2 and train_size=None, the resulting train set will be empty. Adjust any of the aforementioned parameters.\n"
          ],
          "name": "stdout"
        }
      ]
    },
    {
      "cell_type": "code",
      "metadata": {
        "trusted": true,
        "id": "gv0ScAn304Ji"
      },
      "source": [
        "from keras import backend as K\n",
        "\n",
        "def r2(y_true, y_pred):\n",
        "    \"\"\"\n",
        "    # custom R2-score metrics for keras backend\n",
        "    :param y_true: 실측 데이터\n",
        "    :param y_pred: 모델에 의한 예측 데이테\n",
        "    :return: R^2 value, 이 값이 높다고 (예:0.99)해서 예측 값이 정확 하다고 할 수 는 없음...\n",
        "    \"\"\"\n",
        "    SS_res = K.sum(K.square(y_true - y_pred))\n",
        "    SS_tot = K.sum(K.square(y_true - K.mean(y_true)))\n",
        "    return (1 - SS_res / (SS_tot + K.epsilon()))"
      ],
      "execution_count": null,
      "outputs": []
    },
    {
      "cell_type": "code",
      "metadata": {
        "colab": {
          "base_uri": "https://localhost:8080/"
        },
        "id": "4x0pHoNB3MSe",
        "outputId": "c15bab39-37fa-4313-fdc9-96e0b3a801ae"
      },
      "source": [
        "if USE_PRETRAINED_MODEL:\r\n",
        "    model_json_url = \"https://raw.githubusercontent.com/dolmani38/Summary/master/models/morpheme_model.json\"\r\n",
        "    model_weight_url = \"https://github.com/dolmani38/Summary/blob/master/models/morpheme_model.h5?raw=true\"\r\n",
        "    loaded_model_json = urllib.request.urlopen(model_json_url).read().decode('utf-8')\r\n",
        "    morpheme_model = model_from_json(loaded_model_json)\r\n",
        "    urllib.request.urlretrieve(model_weight_url, \"morpheme_model.h5\")\r\n",
        "    morpheme_model.load_weights(\"morpheme_model.h5\")\r\n",
        "    morpheme_model.compile(loss= \"mean_squared_error\" , optimizer=\"adam\", metrics=[r2])\r\n",
        "    print('Use pretrained model...')\r\n",
        "else:\r\n",
        "    # model build\r\n",
        "    morpheme_model = Sequential()\r\n",
        "    morpheme_model.add(Conv1D(filters=256, kernel_size=4, padding='same',activation='relu',input_shape=(_MAX_MORP_LENGTH, len(morpheme_table))))\r\n",
        "    morpheme_model.add(MaxPooling1D(pool_size=2))\r\n",
        "    morpheme_model.add(Conv1D(filters=128, kernel_size=4, padding=\"same\",activation='relu'))\r\n",
        "    morpheme_model.add(MaxPooling1D(pool_size=2))\r\n",
        "    morpheme_model.add(Flatten())\r\n",
        "    morpheme_model.add(Dense(128))\r\n",
        "    morpheme_model.add(Dense(1, activation='linear'))\r\n",
        "    morpheme_model.summary() #Print model Summary\r\n",
        "\r\n",
        "    morpheme_model.compile(loss= \"mean_squared_error\" , optimizer=\"adam\", metrics=[r2])\r\n",
        "    hist = morpheme_model.fit(X_train, y_train, epochs=30)\r\n",
        "\r\n",
        "discriminator = morpheme_model"
      ],
      "execution_count": null,
      "outputs": [
        {
          "output_type": "stream",
          "text": [
            "Use pretrained model...\n"
          ],
          "name": "stdout"
        }
      ]
    },
    {
      "cell_type": "code",
      "metadata": {
        "trusted": true,
        "colab": {
          "base_uri": "https://localhost:8080/"
        },
        "id": "Sxzfhkx804Jm",
        "outputId": "971b1073-6e66-486c-b8a0-07dacb4bd5cd"
      },
      "source": [
        "\n",
        "# 학습결과 확인\n",
        "try:\n",
        "    results = morpheme_model.evaluate(X_test, y_test)\n",
        "    print('mean_squared_error:',results)\n",
        "\n",
        "    # 학습 결과의 확인\n",
        "    predicts = morpheme_model.predict(X_test)\n",
        "    predicts = np.asarray(predicts)\n",
        "    predicts = [ 1 if x>0.5 else 0 for [x] in predicts]\n",
        "    y = np.asarray(y_test)\n",
        "    y = y.reshape(y.shape[0],)\n",
        "\n",
        "    from sklearn.metrics import classification_report\n",
        "    print(classification_report(y, predicts))\n",
        "except Exception as ex:\n",
        "    print(ex)"
      ],
      "execution_count": null,
      "outputs": [
        {
          "output_type": "stream",
          "text": [
            "name 'X_test' is not defined\n"
          ],
          "name": "stdout"
        }
      ]
    },
    {
      "cell_type": "code",
      "metadata": {
        "trusted": true,
        "id": "adKbX4Pg04Jn"
      },
      "source": [
        "if USE_PRETRAINED_MODEL:\n",
        "    pass\n",
        "else:\n",
        "    model_json = morpheme_model.to_json()\n",
        "    with open(\"morpheme_model.json\", \"w\") as json_file:\n",
        "        json_file.write(model_json)\n",
        "    json_file.close()\n",
        "    print(\"save network to morpheme_model.json\")\n",
        "\n",
        "    morpheme_model.save_weights(\"morpheme_model.h5\")\n",
        "    print(\"save weights to morpheme_model.h5\")"
      ],
      "execution_count": null,
      "outputs": []
    },
    {
      "cell_type": "code",
      "metadata": {
        "trusted": true,
        "id": "jAQW6z-F04Jn"
      },
      "source": [
        "def morpheme_discriminator(queries):\n",
        "    # queries : 복수의 문장의 2차원 배열 (None,1)\n",
        "    # return : 결과 score 배열 (None,)\n",
        "    x_codes = []\n",
        "    for query in queries:\n",
        "        x_codes.append(morpheme_encode(query))\n",
        "    scores = morpheme_model.predict(np.array(x_codes))\n",
        "    return scores #1.0 if scores > 0.5 else 0.0 "
      ],
      "execution_count": null,
      "outputs": []
    },
    {
      "cell_type": "code",
      "metadata": {
        "trusted": true,
        "colab": {
          "base_uri": "https://localhost:8080/"
        },
        "id": "KnNY6kDt04Jo",
        "outputId": "143add6b-b81b-4877-9673-53999725080b"
      },
      "source": [
        "morpheme_discriminator([' 무럭무럭 자라서, 아기는 소녀가 예쁘고 마음씨 고운 되었어요'])"
      ],
      "execution_count": null,
      "outputs": [
        {
          "output_type": "execute_result",
          "data": {
            "text/plain": [
              "array([[0.20912033]], dtype=float32)"
            ]
          },
          "metadata": {
            "tags": []
          },
          "execution_count": 17
        }
      ]
    },
    {
      "cell_type": "code",
      "metadata": {
        "id": "WX2yrJqIa5dD"
      },
      "source": [
        "org_text = \"\"\"나무꾼이 나무를 하다가 숲 속에서 도망치는 사슴을 만났는데, 이 사슴이 사냥꾼이 쫓아오고 있으니 자신을 숨겨달라고 말했다. 말하는 사슴을 신기하게 여긴 나무꾼이 사슴을 숨겨줬고, 뒤쫓아 온 사냥꾼을 다른 방향으로 보내서 구해주었다.\r\n",
        "사슴은 은혜를 갚겠다고 하면서, 나무꾼에게 선녀들이 하늘에서 내려와서 목욕하는 선녀탕이라는 샘과 선녀들이 목욕을 하러 오는 시기, 선녀의 옷을 훔쳐 그를 아내로 삼도록 하는 꾀를 나무꾼에게 가르쳐 주었다. 나무꾼은 반신반의 하면서도 사슴이 가르쳐준 시기에 선녀들이 목욕을 하러 내려온다는 샘으로 찾아가 몸을 숨겼다. 그렇게 잠시간 기다리자 과연, 선녀들이 하늘에서 내려와 날개옷을 벗고 선녀탕에서 목욕을 하는 것이었다. 나무꾼은 사슴이 가르쳐준 대로 날개옷을 하나 훔쳤다.\r\n",
        "날개옷이 없어진 탓에 한 명의 선녀는 하늘로 올라가지 못했으며 다른 선녀들은 날개옷이 없는 선녀를 내버려두고 하늘로 돌아갔다. 이때 나무꾼이 홀로 남은 선녀에게 자신의 아내가 되어달라고 하자, 하늘나라로 올라가지 못하게 된 선녀는 할 수 없이 나무꾼에게 의탁하게 되었다.\r\n",
        "\"\"\""
      ],
      "execution_count": null,
      "outputs": []
    },
    {
      "cell_type": "code",
      "metadata": {
        "trusted": true,
        "id": "Ew7U_2hd04Jo"
      },
      "source": [
        "org_text = \"\"\"옛날 어느 집에 귀여운 여자 아기가 태어났어요.\n",
        "아기는 무럭무럭 자라서, 예쁘고 마음씨 고운 소녀가 되었어요.\n",
        "그러던 어느날, 소녀의 어머니가 병이들어 그만 세상을 떠나고 말았어요.\n",
        "소녀의 아버지는 홀로 남은 소녀가 걱정되었어요.\n",
        "그래서 얼마 후 새어머니를 맞이했어요.\n",
        "새어머니는 소녀보다 나이가 위인 두 딸을 데리고 왔어요.\n",
        "그러나 새어머니와 언니들은 성질이 고약한 심술쟁이들이었어요.\n",
        "새어머니는 소녀가 자기 딸들보다 예쁘고 착한 게 못마땅했어요.\n",
        "그런데 이번에는 아버지마저 돌아가셨어요.\n",
        "소녀는 하녀처럼 하루 종일 쓸고, 닦고, 집안일을 도맡아 했어요.\n",
        "해도 해도 끝이 없는 집안일이 힘들어 지칠때면\n",
        "난롯가에 앉아서 잠시 쉬곤 했지요.\n",
        "\"엄마, 저애를 신데렐라라고 불러야겠어요.\"\n",
        "\"온통 재투성이잖아요. 호호호!\" 두 언니는 소녀를 놀려 댔어요.\n",
        "어느 날, 왕궁에서 무도회가 열렸어요.\n",
        "신데렐라의 집에도 초대장이 왔어요.\n",
        "새어머니는 언니들을 데리고 무도회장으로 떠났어요.\n",
        "신데렐라도 무도회에 가고 싶었어요.\n",
        "혼자 남은 신데렐라는 훌쩍훌쩍 울기 시작했어요.\n",
        "\"신데렐라, 너도 무도회에 가고 싶니?\"\n",
        "신데렐라가 고개를 들어보니, 마법사 할머니가 빙그레 웃고 있었어요.\n",
        "\"내가 너를 무도회에 보내주마 호박 한개와 생쥐 두마리, 도마뱀을 구해 오렴.\"\n",
        "마법사 할머니가 주문을 외웠어요.\n",
        "그리고 지팡이로 호박을 건드리자, 호박이 화려한 황금 마차로 변했어요.\n",
        "이번에는 생쥐와 도마뱀을 건드렸어요.\n",
        "그랬더니 생쥐는 흰말로, 도마뱀은 멋진 마부로 변했답니다.\n",
        "신데렐라의 옷도 구슬 장식이 반짝이는 예쁜 드레스로 바뀌웠어요.\n",
        "\"신데렐라, 발을 내밀어 보거라.\"\n",
        "할머니는 신데렐라에게 반짝반짝 빛나는 유리 구두를 신겨 주었어요.\n",
        "\"신데렐라, 밤 열두시가 되면 모든게 처음대로 돌아간단다. 황금 마차는 호박으로, 흰말은 생쥐로, 마부는 도마뱀으로 변하게 돼. 그러니까 반드시 밤 열두 시가 되기 전에 돌아와야 해. 알겠지?\"\n",
        "왕자님도 아름다운 신데렐라에게 마음을 빼았겼어요.\n",
        "왕자님은 무도회장에 모인 다른 아가씨들은 쳐다보지도 않고,신데렐라하고만 춤을 추었어요.\n",
        "신데렐라는 왕자님과 춤을 추느라 시간 가는 줄도 몰랐어요.\n",
        "땡, 땡, 땡...... 벽시계가 열두 시를 알리는 소리에 신데렐라는 화들짝 놀랐어요.\n",
        "신데렐라가 허둥지둥 왕궁을 빠져나가는데,\n",
        "유리 구두 한 짝이 벗겨졌어요.\n",
        "하지만 구두를 주울 틈이 없었어요.\n",
        "신데렐라를 뛰쫓아오던 왕자님은 층계에서 유리 구두 한 짝을 주웠어요.\n",
        "왕자님은 유리 구두를 가지고 임금님께 가서 말했어요.\n",
        "\"이 유리 구두의 주인과 결혼하겠어요.\"\n",
        "그래서 신하들은 유리 구두의 주인을 찾아 온 나라를 돌아다녔어요.\n",
        "언니들은 발을 오므려도 보고, 구두를 늘려도 보았지만 한눈에 보기에도 유리 구두는 너무 작았어요.\n",
        "그때, 신데렐라가 조용히 다가와 말했어요.\n",
        "\"저도 한번 신어 볼 수 있나요?\"\n",
        "신데렐라는 신하게 건넨 유리 구두를 신었어요,\n",
        "유리 구두는 신데렐라의 발에 꼭 맞았어요.\n",
        "신하들은 신데렐라를 왕궁으로 데리고 갔어요.\n",
        "그 뒤 신데렐라는 왕자님과 결혼하여 오래오래 행복하게 살았대요.\"\"\""
      ],
      "execution_count": null,
      "outputs": []
    },
    {
      "cell_type": "code",
      "metadata": {
        "trusted": true,
        "colab": {
          "base_uri": "https://localhost:8080/",
          "height": 159
        },
        "id": "3ZoF9CLZ04Jp",
        "outputId": "a575020d-e7fa-4228-cd9d-b74a4946ba7d"
      },
      "source": [
        "org_text = clean_text(org_text).strip()\n",
        "org_text"
      ],
      "execution_count": null,
      "outputs": [
        {
          "output_type": "execute_result",
          "data": {
            "application/vnd.google.colaboratory.intrinsic+json": {
              "type": "string"
            },
            "text/plain": [
              "'나무꾼이 나무를 하다가 숲 속에서 도망치는 사슴을 만났는데 이 사슴이 사냥꾼이 쫓아오고 있으니 자신을 숨겨달라고 말했다. 말하는 사슴을 신기하게 여긴 나무꾼이 사슴을 숨겨줬고 뒤쫓아 온 사냥꾼을 다른 방향으로 보내서 구해주었다. 사슴은 은혜를 갚겠다고 하면서 나무꾼에게 선녀들이 하늘에서 내려와서 목욕하는 선녀탕이라는 샘과 선녀들이 목욕을 하러 오는 시기 선녀의 옷을 훔쳐 그를 아내로 삼도록 하는 꾀를 나무꾼에게 가르쳐 주었다. 나무꾼은 반신반의 하면서도 사슴이 가르쳐준 시기에 선녀들이 목욕을 하러 내려온다는 샘으로 찾아가 몸을 숨겼다. 그렇게 잠시간 기다리자 과연 선녀들이 하늘에서 내려와 날개옷을 벗고 선녀탕에서 목욕을 하는 것이었다. 나무꾼은 사슴이 가르쳐준 대로 날개옷을 하나 훔쳤다. 날개옷이 없어진 탓에 한 명의 선녀는 하늘로 올라가지 못했으며 다른 선녀들은 날개옷이 없는 선녀를 내버려두고 하늘로 돌아갔다. 이때 나무꾼이 홀로 남은 선녀에게 자신의 아내가 되어달라고 하자 하늘나라로 올라가지 못하게 된 선녀는 할 수 없이 나무꾼에게 의탁하게 되었다.'"
            ]
          },
          "metadata": {
            "tags": []
          },
          "execution_count": 85
        }
      ]
    },
    {
      "cell_type": "code",
      "metadata": {
        "colab": {
          "base_uri": "https://localhost:8080/"
        },
        "id": "r85RVIBinB8G",
        "outputId": "179c5592-4a8e-40a4-ffae-06c6ac88a60b"
      },
      "source": [
        "org_sentence_dataset = nltk.sent_tokenize(clean_text(org_text))\r\n",
        "org_morpheme_x = []\r\n",
        "for sentence in org_sentence_dataset:\r\n",
        "    org_morpheme_x.append(morpheme_encode(sentence))\r\n",
        "#np.random.choice(5, 3)\r\n",
        "\r\n",
        "def get_org_morpheme_sample(num):\r\n",
        "    return np.asarray(org_morpheme_x)[np.random.choice(len(org_morpheme_x), num)]\r\n",
        "\r\n",
        "get_org_morpheme_sample(3).shape"
      ],
      "execution_count": null,
      "outputs": [
        {
          "output_type": "execute_result",
          "data": {
            "text/plain": [
              "(3, 128, 23)"
            ]
          },
          "metadata": {
            "tags": []
          },
          "execution_count": 110
        }
      ]
    },
    {
      "cell_type": "code",
      "metadata": {
        "trusted": true,
        "colab": {
          "base_uri": "https://localhost:8080/"
        },
        "id": "WLhpskVk04Jq",
        "outputId": "48bdcefd-f328-4b61-b971-e19a790cc3f4"
      },
      "source": [
        "from sentence_transformers import SentenceTransformer\n",
        "from transformers import BertTokenizer\n",
        "\n",
        "if DO_ALL:\n",
        "    # embedder download...\n",
        "    embedder = SentenceTransformer('xlm-r-large-en-ko-nli-ststb')"
      ],
      "execution_count": null,
      "outputs": [
        {
          "output_type": "stream",
          "text": [
            "100%|██████████| 1.80G/1.80G [02:10<00:00, 13.7MB/s]\n"
          ],
          "name": "stderr"
        }
      ]
    },
    {
      "cell_type": "code",
      "metadata": {
        "trusted": true,
        "id": "CCX6a7Gk04Jq"
      },
      "source": [
        "# 생성된 문장의 원문 유사도를 측정하기 위한 함수\n",
        "\n",
        "import scipy\n",
        "#print(doc_emb)\n",
        "def similarity_discriminator(queries,org_embedding):\n",
        "    # queries : 복수의 문장의 2차원 배열 (None,1)\n",
        "    # org_embedding : 비교 대상의 원문 embedding 1차원 배열 (1,)\n",
        "    # return : 결과 score 배열 (None,)\n",
        "    total_score = 0\n",
        "    query_embeddings = embedder.encode(queries,show_progress_bar=False)\n",
        "    for query, query_embedding in zip(queries, query_embeddings):\n",
        "        distances = scipy.spatial.distance.cdist([query_embedding], [org_embedding], \"cosine\")[0]\n",
        "        results = zip(range(len(distances)), distances)\n",
        "        for idx, distance in results:\n",
        "            total_score += 1-distance\n",
        "    return total_score"
      ],
      "execution_count": null,
      "outputs": []
    },
    {
      "cell_type": "code",
      "metadata": {
        "trusted": true,
        "colab": {
          "base_uri": "https://localhost:8080/"
        },
        "id": "c3c6mcWX04Js",
        "outputId": "670c3860-bb85-419e-de50-66e81f5484a6"
      },
      "source": [
        "\n",
        "# 원문의 embedding...\n",
        "org_text_emb = embedder.encode([org_text],show_progress_bar=False)[0]\n",
        "org_text_emb"
      ],
      "execution_count": null,
      "outputs": [
        {
          "output_type": "execute_result",
          "data": {
            "text/plain": [
              "array([ 0.37110206, -0.19225682, -0.25144747, ..., -0.17844181,\n",
              "        0.41148984,  0.5338639 ], dtype=float32)"
            ]
          },
          "metadata": {
            "tags": []
          },
          "execution_count": 86
        }
      ]
    },
    {
      "cell_type": "code",
      "metadata": {
        "trusted": true,
        "colab": {
          "base_uri": "https://localhost:8080/"
        },
        "id": "axpKfKxJ04Ju",
        "outputId": "63d7d267-929f-43de-a67f-8169fd00583c"
      },
      "source": [
        "org_term_set = (' ' + org_text + ' ').split(' ')\n",
        "\n",
        "_MAX_GEN_TOKEN = 40\n",
        "_NOISE_DIM = len(org_term_set)\n",
        "\n",
        "word_table = {}\n",
        "morp_table = {}\n",
        "\n",
        "for index, word in zip(range(len(org_term_set)),org_term_set):\n",
        "    word_table[index] = word\n",
        "    m = okt.pos(word)\n",
        "    morp_table[index] = m[0][1] if len(m) > 0 else ''\n",
        "    \n",
        "print('Token table of origin text')\n",
        "print('---------------------------------------------')\n",
        "print(' Code     Morp           Token     ')\n",
        "print('')\n",
        "for k in word_table.keys():\n",
        "  print( f'  {str(k).ljust(5)} {morp_table[k].ljust(10)}  {word_table[k]}')\n",
        "print('---------------------------------------------')"
      ],
      "execution_count": null,
      "outputs": [
        {
          "output_type": "stream",
          "text": [
            "Token table of origin text\n",
            "---------------------------------------------\n",
            " Code     Morp           Token     \n",
            "\n",
            "  0                 \n",
            "  1     Noun        나무꾼이\n",
            "  2     Noun        나무를\n",
            "  3     Verb        하다가\n",
            "  4     Noun        숲\n",
            "  5     Noun        속에서\n",
            "  6     Verb        도망치는\n",
            "  7     Noun        사슴을\n",
            "  8     Verb        만났는데\n",
            "  9     Noun        이\n",
            "  10    Noun        사슴이\n",
            "  11    Noun        사냥꾼이\n",
            "  12    Verb        쫓아오고\n",
            "  13    Adjective   있으니\n",
            "  14    Noun        자신을\n",
            "  15    Verb        숨겨달라고\n",
            "  16    Noun        말했다.\n",
            "  17    Noun        말하는\n",
            "  18    Noun        사슴을\n",
            "  19    Adjective   신기하게\n",
            "  20    Verb        여긴\n",
            "  21    Noun        나무꾼이\n",
            "  22    Noun        사슴을\n",
            "  23    Verb        숨겨줬고\n",
            "  24    Noun        뒤쫓아\n",
            "  25    Noun        온\n",
            "  26    Noun        사냥꾼을\n",
            "  27    Noun        다른\n",
            "  28    Noun        방향으로\n",
            "  29    Verb        보내서\n",
            "  30    Noun        구해주었다.\n",
            "  31    Noun        사슴은\n",
            "  32    Noun        은혜를\n",
            "  33    Verb        갚겠다고\n",
            "  34    Verb        하면서\n",
            "  35    Noun        나무꾼에게\n",
            "  36    Noun        선녀들이\n",
            "  37    Noun        하늘에서\n",
            "  38    Verb        내려와서\n",
            "  39    Noun        목욕하는\n",
            "  40    Noun        선녀탕이라는\n",
            "  41    Noun        샘과\n",
            "  42    Noun        선녀들이\n",
            "  43    Noun        목욕을\n",
            "  44    Verb        하러\n",
            "  45    Verb        오는\n",
            "  46    Noun        시기\n",
            "  47    Noun        선녀의\n",
            "  48    Noun        옷을\n",
            "  49    Verb        훔쳐\n",
            "  50    Noun        그를\n",
            "  51    Noun        아내로\n",
            "  52    Modifier    삼도록\n",
            "  53    Verb        하는\n",
            "  54    Noun        꾀를\n",
            "  55    Noun        나무꾼에게\n",
            "  56    Verb        가르쳐\n",
            "  57    Verb        주었다.\n",
            "  58    Noun        나무꾼은\n",
            "  59    Noun        반신반의\n",
            "  60    Verb        하면서도\n",
            "  61    Noun        사슴이\n",
            "  62    Verb        가르쳐준\n",
            "  63    Noun        시기에\n",
            "  64    Noun        선녀들이\n",
            "  65    Noun        목욕을\n",
            "  66    Verb        하러\n",
            "  67    Verb        내려온다는\n",
            "  68    Noun        샘으로\n",
            "  69    Verb        찾아가\n",
            "  70    Noun        몸을\n",
            "  71    Verb        숨겼다.\n",
            "  72    Adverb      그렇게\n",
            "  73    Noun        잠시간\n",
            "  74    Verb        기다리자\n",
            "  75    Noun        과연\n",
            "  76    Noun        선녀들이\n",
            "  77    Noun        하늘에서\n",
            "  78    Verb        내려와\n",
            "  79    Noun        날개옷을\n",
            "  80    Verb        벗고\n",
            "  81    Noun        선녀탕에서\n",
            "  82    Noun        목욕을\n",
            "  83    Verb        하는\n",
            "  84    Noun        것이었다.\n",
            "  85    Noun        나무꾼은\n",
            "  86    Noun        사슴이\n",
            "  87    Verb        가르쳐준\n",
            "  88    Noun        대로\n",
            "  89    Noun        날개옷을\n",
            "  90    Noun        하나\n",
            "  91    Verb        훔쳤다.\n",
            "  92    Noun        날개옷이\n",
            "  93    Verb        없어진\n",
            "  94    Noun        탓에\n",
            "  95    Verb        한\n",
            "  96    Noun        명의\n",
            "  97    Noun        선녀는\n",
            "  98    Noun        하늘로\n",
            "  99    Verb        올라가지\n",
            "  100   VerbPrefix  못했으며\n",
            "  101   Noun        다른\n",
            "  102   Noun        선녀들은\n",
            "  103   Noun        날개옷이\n",
            "  104   Adjective   없는\n",
            "  105   Noun        선녀를\n",
            "  106   Verb        내버려두고\n",
            "  107   Noun        하늘로\n",
            "  108   Verb        돌아갔다.\n",
            "  109   Determiner  이때\n",
            "  110   Noun        나무꾼이\n",
            "  111   Noun        홀로\n",
            "  112   Verb        남은\n",
            "  113   Noun        선녀에게\n",
            "  114   Noun        자신의\n",
            "  115   Noun        아내가\n",
            "  116   Verb        되어달라고\n",
            "  117   Noun        하자\n",
            "  118   Noun        하늘나라로\n",
            "  119   Verb        올라가지\n",
            "  120   VerbPrefix  못하게\n",
            "  121   Verb        된\n",
            "  122   Noun        선녀는\n",
            "  123   Verb        할\n",
            "  124   Noun        수\n",
            "  125   Adverb      없이\n",
            "  126   Noun        나무꾼에게\n",
            "  127   Noun        의탁하게\n",
            "  128   Verb        되었다.\n",
            "  129               \n",
            "---------------------------------------------\n"
          ],
          "name": "stdout"
        }
      ]
    },
    {
      "cell_type": "code",
      "metadata": {
        "trusted": true,
        "id": "AaxM8FAa04Jv"
      },
      "source": [
        "sota_text = \"\"\"소녀의 언니들은 심술쟁이들 이었어요. 소녀는 집안일을 도맡아 했어요. 신데렐라도 무도회에 가고 싶었어요. \n",
        "마법사 할머니가 주문을 외웠어요. 황금 마차로 드레스로 바뀌웠어요. 밤 열두시가 되면 처음대로 돌아간단다. \n",
        "왕자님도 신데렐라에게 마음을 빼았겼어요. 벽시계가 열두 시를 알리는 소리에 놀랐어요. 유리 구두 벗겨졌어요. \n",
        "왕자님은 주인을 찾아 돌아다녔어요. 구두는 신데렐라의 발에 맞았어요.\"\"\""
      ],
      "execution_count": null,
      "outputs": []
    },
    {
      "cell_type": "code",
      "metadata": {
        "trusted": true,
        "colab": {
          "base_uri": "https://localhost:8080/"
        },
        "id": "cvGKdVCR04Jv",
        "outputId": "c072cc96-1bb6-49e0-daa1-131d19b9fc1f"
      },
      "source": [
        "print('Similarity of sota:',similarity_discriminator([sota_text],org_text_emb))"
      ],
      "execution_count": null,
      "outputs": [
        {
          "output_type": "stream",
          "text": [
            "Similarity of sota: 0.5623787199364326\n"
          ],
          "name": "stdout"
        }
      ]
    },
    {
      "cell_type": "code",
      "metadata": {
        "trusted": true,
        "id": "vEcz3jme04Jv"
      },
      "source": [
        "# Print iterations progress\n",
        "class ProgressBar:\n",
        "\n",
        "    def __init__(self,total=20, prefix = '', suffix = '', decimals = 1, length = 20, fill = '|', printEnd = \"\\r\"):\n",
        "        self.total = total\n",
        "        self.prefix = prefix\n",
        "        self.suffix = suffix\n",
        "        self.decimals = decimals\n",
        "        self.length = length\n",
        "        self.fill = fill\n",
        "        self.printEnd = printEnd\n",
        "        self.ite = 0\n",
        "\n",
        "    def printProgress(self,iteration, text):\n",
        "        self.ite += iteration\n",
        "        percent = (\"{0:.\" + str(self.decimals) + \"f}\").format(100 * (self.ite / float(self.total)))\n",
        "\n",
        "        filledLength = int(self.length * self.ite // self.total)\n",
        "        bar = self.fill * filledLength + '.' * (self.length - filledLength)\n",
        "        print(f'\\r{self.prefix} |{bar}| {percent}% {self.suffix}  {text}', end=\"\", flush=True)\n",
        "        # Print New Line on Complete\n",
        "        if self.ite == self.total: \n",
        "            print()"
      ],
      "execution_count": null,
      "outputs": []
    },
    {
      "cell_type": "code",
      "metadata": {
        "trusted": true,
        "colab": {
          "base_uri": "https://localhost:8080/"
        },
        "id": "OAL_rOIT04Jw",
        "outputId": "3e2e566d-a676-4954-aec5-bde7c2d61612"
      },
      "source": [
        "from scipy.signal import find_peaks\n",
        "import matplotlib.pyplot as plt\n",
        "from scipy.misc import electrocardiogram\n",
        "\n",
        "\n",
        "# weight 들의 초기화\n",
        "terms = np.array(list(word_table.values()))\n",
        "\n",
        "story_filters=np.array([[0,1],[0,1,2],[0,1,2,3]]) # ,[0,1,2,3,4],[0,2,4,6]])#,[0,2],[0,2,4],[0,2,4,6],[0,2,4,6,8]])\n",
        "word_filters=np.array([[0]])\n",
        "\n",
        "story_weights = np.zeros(_NOISE_DIM,)\n",
        "word_weights = np.zeros(_NOISE_DIM,)\n",
        "\n",
        "#filters=np.array([[0,2],[0,2,4],[0,2,4,6],[0,2,4,6,8]])\n",
        "#filters=np.array([[0,1,2,3,4,5]])\n",
        "terms = np.array(list(word_table.values()))\n",
        "morps = np.array(list(morp_table.values()))\n",
        "\n",
        "# story에 지배적인 word를 찾는다.\n",
        "\n",
        "# 먼저 word의 강세 분석\n",
        "for filter in word_filters:\n",
        "    #print(filter)\n",
        "    last_idx = len(terms)-(max(filter)+1)\n",
        "    pb = ProgressBar(last_idx,prefix='word density scan :')\n",
        "    for conv in range(last_idx,0,-1):\n",
        "        pb.printProgress(+1,f'filer:{filter} {conv}/{last_idx}       ')\n",
        "        t = np.array(filter) + conv\n",
        "        '''\n",
        "        w = terms[t][0]\n",
        "        if w.endswith('.'):  # '.'으로 끝나는 동사 - '술어' 는 대부분 스토리상중요한 내용 포함. 하여... 이건 제외 단어에서 skip시킴\n",
        "            score = 0.0\n",
        "        else:\n",
        "            #part_sen = ' '.join(terms[t]) \n",
        "            #score = similarity_discriminator([part_sen],org_text_emb)\n",
        "            score = similarity_discriminator([w],org_text_emb)\n",
        "        '''\n",
        "\n",
        "        if morps[t][0] in ('Adjective ','Adverb','Conjunction'):\n",
        "            pass\n",
        "        else:\n",
        "            part_sen = ' '.join(terms[t]) \n",
        "            score = similarity_discriminator(part_sen.strip(),org_text_emb)\n",
        "            word_weights[t] += score\n",
        "        \n",
        "# story의 강세 분석\n",
        "for filter in story_filters:\n",
        "    #print(filter)\n",
        "    last_idx = len(terms)-(max(filter)+1)\n",
        "    pb = ProgressBar(last_idx,prefix='story density scan:')\n",
        "    for conv in range(last_idx,0,-1):\n",
        "        pb.printProgress(+1,f'filer:{filter} {conv}/{last_idx}       ')\n",
        "        t = np.array(filter) + conv\n",
        "        part_sen = ' '.join(terms[t]) \n",
        "        score = similarity_discriminator([part_sen],org_text_emb)\n",
        "        story_weights[t] += score\n",
        "\n",
        "#각각의 peak를 산출\n",
        "word_peaks, _ = find_peaks(word_weights, height=0)\n",
        "story_peaks, _ = find_peaks(story_weights, height=0)\n",
        "\n",
        "#두개의 peak가 겹치는 word에 대해 한개 word가 유사도에 미치는 영향이 큰것으로 간주\n",
        "#해당 word를 유사도 판단 필터에서 제외하고 다시 필터링...\n",
        "#이를 통해 story에 대한 word를 최대한 추출 한다.\n",
        "\n",
        "dup_order = []\n",
        "for i in range(_NOISE_DIM):\n",
        "    #lst = \"\"\n",
        "    if (i in word_peaks) and (i in story_peaks):\n",
        "        if terms[i].endswith('.'):\n",
        "            pass\n",
        "        else:\n",
        "            dup_order.append(i)\n",
        "# Story에 대한 weight을 추출하기 위해, word에 유독 강세가 있는 term을 제외 시킨다.\n",
        "print('Negative words:',terms[dup_order])\n",
        "terms[dup_order] = '---'\n",
        "'''\n",
        "print('Token table of origin text')\n",
        "print('---------------------------------------------')\n",
        "print(' Code         Token      ')\n",
        "print('')\n",
        "for index, word in zip(range(len(terms)),terms):\n",
        "    print( f'  {str(index).ljust(8)}    {word}')\n",
        "print('---------------------------------------------')\n",
        "'''\n",
        "story_weights = np.zeros(_NOISE_DIM,)\n",
        "# 그리고 다시 story 분석 스캔\n",
        "for filter in story_filters:\n",
        "    #print(filter)\n",
        "    last_idx = len(terms)-(max(filter)+1)\n",
        "    pb = ProgressBar(last_idx,prefix='story density scan:')\n",
        "    for conv in range(last_idx):\n",
        "        pb.printProgress(+1,f'filer:{filter} {conv}/{last_idx}       ')\n",
        "        t = np.array(filter) + conv\n",
        "        part_sen = ' '.join(terms[t]) \n",
        "        #part_sen = part_sen.replace('소녀','---')\n",
        "        score = similarity_discriminator([part_sen],org_text_emb)\n",
        "        story_weights[t] += score"
      ],
      "execution_count": null,
      "outputs": [
        {
          "output_type": "stream",
          "text": [
            "word density scan : |||||||||||||||||||||| 100.0%   filer:[0] 1/129       \n",
            "story density scan: |||||||||||||||||||||| 100.0%   filer:[0, 1] 1/128       \n",
            "story density scan: |||||||||||||||||||||| 100.0%   filer:[0, 1, 2] 1/127       \n",
            "story density scan: |||||||||||||||||||||| 100.0%   filer:[0, 1, 2, 3] 1/126       \n",
            "Negative words: ['사슴을' '사슴을' '사슴을' '사슴은' '나무꾼에게' '훔쳐' '나무꾼에게' '사슴이' '벗고' '사슴이' '나무꾼이'\n",
            " '나무꾼에게']\n",
            "story density scan: |||||||||||||||||||||| 100.0%   filer:[0, 1] 127/128       \n",
            "story density scan: |||||||||||||||||||||| 100.0%   filer:[0, 1, 2] 126/127       \n",
            "story density scan: |||||||||||||||||||||| 100.0%   filer:[0, 1, 2, 3] 125/126       \n"
          ],
          "name": "stdout"
        }
      ]
    },
    {
      "cell_type": "code",
      "metadata": {
        "colab": {
          "base_uri": "https://localhost:8080/",
          "height": 427
        },
        "id": "dWlYtVM-Al-E",
        "outputId": "46298df7-49bc-41af-d7a1-6e04db4d450d"
      },
      "source": [
        "\r\n",
        "# base line\r\n",
        "base_line = 0.0\r\n",
        "# 다시 peak 추출\r\n",
        "story_peaks, _ = find_peaks(story_weights, height=base_line)\r\n",
        "story_peaks = np.append(story_peaks,len(story_weights)-2)\r\n",
        "print(story_peaks)\r\n",
        "# story density 표출\r\n",
        "plt.figure(figsize=(12, 6))\r\n",
        "plt.plot(story_weights)\r\n",
        "plt.plot(story_peaks, story_weights[story_peaks], \"x\")\r\n",
        "plt.plot(np.zeros_like(story_weights)+base_line, \"--\", color=\"gray\")\r\n",
        "plt.show() \r\n",
        "print('Peak count:',len(story_peaks))"
      ],
      "execution_count": null,
      "outputs": [
        {
          "output_type": "stream",
          "text": [
            "[  4  11  21  24  26  33  39  43  47  51  58  65  71  76  78  85  93 102\n",
            " 105 114 120 128]\n"
          ],
          "name": "stdout"
        },
        {
          "output_type": "display_data",
          "data": {
            "image/png": "[encoded data removed]",
            "text/plain": [
              "<Figure size 864x432 with 1 Axes>"
            ]
          },
          "metadata": {
            "tags": [],
            "needs_background": "light"
          }
        },
        {
          "output_type": "stream",
          "text": [
            "Peak count: 22\n"
          ],
          "name": "stdout"
        }
      ]
    },
    {
      "cell_type": "code",
      "metadata": {
        "colab": {
          "base_uri": "https://localhost:8080/"
        },
        "id": "qodcFmj9Amtg",
        "outputId": "9b808abf-36a7-4e5c-e12e-717eef95d181"
      },
      "source": [
        "\r\n",
        "# story skeleton 추출\r\n",
        "skel_text = \"\"\r\n",
        "for k in story_peaks:\r\n",
        "    #print(k,term_weight[k],word_table[k])\r\n",
        "    skel_text += word_table[k]+' '  \r\n",
        "\r\n",
        "print(skel_text)\r\n",
        "print('')\r\n",
        "print(f'Peak count:{len(story_peaks)}   Similarity : {similarity_discriminator([skel_text],org_text_emb)}')"
      ],
      "execution_count": null,
      "outputs": [
        {
          "output_type": "stream",
          "text": [
            "숲 사냥꾼이 나무꾼이 뒤쫓아 사냥꾼을 갚겠다고 목욕하는 목욕을 선녀의 아내로 나무꾼은 목욕을 숨겼다. 선녀들이 내려와 나무꾼은 없어진 선녀들은 선녀를 자신의 못하게 되었다. \n",
            "\n",
            "Peak count:22   Similarity : 0.7400024623268161\n"
          ],
          "name": "stdout"
        }
      ]
    },
    {
      "cell_type": "code",
      "metadata": {
        "trusted": true,
        "colab": {
          "base_uri": "https://localhost:8080/"
        },
        "id": "vXjghLDh04Jw",
        "outputId": "6542e1e5-66a3-4a05-b0be-e6e7c42a0ff3"
      },
      "source": [
        "for index, word in zip(range(len(org_term_set)),org_term_set):\n",
        "    word_table[index] = word\n",
        "    \n",
        "print('Token table of origin text')\n",
        "print('---------------------------------------------')\n",
        "print(' Code     Score        Token              ')\n",
        "print('')\n",
        "for k in word_table.keys(): \n",
        "  print( f'  {str(k).ljust(5)}   {str(round(story_weights[k],4)).ljust(8)}  {word_table[k]}')\n",
        "print('---------------------------------------------')"
      ],
      "execution_count": null,
      "outputs": [
        {
          "output_type": "stream",
          "text": [
            "Token table of origin text\n",
            "---------------------------------------------\n",
            " Code     Score        Token              \n",
            "\n",
            "  0       1.0106    \n",
            "  1       2.1436    나무꾼이\n",
            "  2       2.7355    나무를\n",
            "  3       3.2579    하다가\n",
            "  4       3.5454    숲\n",
            "  5       2.7416    속에서\n",
            "  6       2.0499    도망치는\n",
            "  7       1.0844    사슴을\n",
            "  8       1.3335    만났는데\n",
            "  9       3.017     이\n",
            "  10      5.2377    사슴이\n",
            "  11      5.7677    사냥꾼이\n",
            "  12      5.1314    쫓아오고\n",
            "  13      3.7684    있으니\n",
            "  14      2.7738    자신을\n",
            "  15      2.1454    숨겨달라고\n",
            "  16      0.9635    말했다.\n",
            "  17      0.1297    말하는\n",
            "  18      -0.0664   사슴을\n",
            "  19      0.5978    신기하게\n",
            "  20      1.8763    여긴\n",
            "  21      3.6514    나무꾼이\n",
            "  22      3.4731    사슴을\n",
            "  23      3.8915    숨겨줬고\n",
            "  24      4.1165    뒤쫓아\n",
            "  25      3.9547    온\n",
            "  26      4.2119    사냥꾼을\n",
            "  27      2.8076    다른\n",
            "  28      1.4461    방향으로\n",
            "  29      1.0509    보내서\n",
            "  30      0.909     구해주었다.\n",
            "  31      0.4012    사슴은\n",
            "  32      0.3125    은혜를\n",
            "  33      0.4176    갚겠다고\n",
            "  34      0.1729    하면서\n",
            "  35      0.1153    나무꾼에게\n",
            "  36      0.4772    선녀들이\n",
            "  37      0.5698    하늘에서\n",
            "  38      0.9423    내려와서\n",
            "  39      1.0362    목욕하는\n",
            "  40      0.8589    선녀탕이라는\n",
            "  41      0.8701    샘과\n",
            "  42      1.159     선녀들이\n",
            "  43      1.1837    목욕을\n",
            "  44      0.7906    하러\n",
            "  45      0.3006    오는\n",
            "  46      -0.0419   시기\n",
            "  47      0.1095    선녀의\n",
            "  48      0.0338    옷을\n",
            "  49      0.1017    훔쳐\n",
            "  50      0.6472    그를\n",
            "  51      1.2454    아내로\n",
            "  52      1.087     삼도록\n",
            "  53      0.5203    하는\n",
            "  54      0.2488    꾀를\n",
            "  55      0.0372    나무꾼에게\n",
            "  56      0.492     가르쳐\n",
            "  57      1.4784    주었다.\n",
            "  58      2.7038    나무꾼은\n",
            "  59      2.077     반신반의\n",
            "  60      1.1164    하면서도\n",
            "  61      0.2714    사슴이\n",
            "  62      0.1519    가르쳐준\n",
            "  63      0.3403    시기에\n",
            "  64      1.0319    선녀들이\n",
            "  65      1.2065    목욕을\n",
            "  66      1.147     하러\n",
            "  67      1.0516    내려온다는\n",
            "  68      1.0428    샘으로\n",
            "  69      1.4646    찾아가\n",
            "  70      1.7167    몸을\n",
            "  71      1.893     숨겼다.\n",
            "  72      1.3611    그렇게\n",
            "  73      1.2421    잠시간\n",
            "  74      0.816     기다리자\n",
            "  75      0.7162    과연\n",
            "  76      0.7364    선녀들이\n",
            "  77      0.3618    하늘에서\n",
            "  78      0.4748    내려와\n",
            "  79      0.194     날개옷을\n",
            "  80      0.1944    벗고\n",
            "  81      0.4888    선녀탕에서\n",
            "  82      0.7698    목욕을\n",
            "  83      1.0108    하는\n",
            "  84      1.7491    것이었다.\n",
            "  85      2.6976    나무꾼은\n",
            "  86      1.6124    사슴이\n",
            "  87      0.7262    가르쳐준\n",
            "  88      -0.009    대로\n",
            "  89      -0.1307   날개옷을\n",
            "  90      0.2603    하나\n",
            "  91      0.973     훔쳤다.\n",
            "  92      1.1035    날개옷이\n",
            "  93      1.2037    없어진\n",
            "  94      0.8074    탓에\n",
            "  95      0.2199    한\n",
            "  96      -0.1237   명의\n",
            "  97      -0.0671   선녀는\n",
            "  98      -0.1333   하늘로\n",
            "  99      0.2805    올라가지\n",
            "  100     0.7569    못했으며\n",
            "  101     1.0525    다른\n",
            "  102     1.0603    선녀들은\n",
            "  103     0.7202    날개옷이\n",
            "  104     0.8215    없는\n",
            "  105     0.9296    선녀를\n",
            "  106     0.646     내버려두고\n",
            "  107     -0.2009   하늘로\n",
            "  108     -0.6011   돌아갔다.\n",
            "  109     -0.6387   이때\n",
            "  110     -0.1038   나무꾼이\n",
            "  111     0.7767    홀로\n",
            "  112     0.9961    남은\n",
            "  113     1.3268    선녀에게\n",
            "  114     1.5716    자신의\n",
            "  115     1.4608    아내가\n",
            "  116     0.954     되어달라고\n",
            "  117     0.3721    하자\n",
            "  118     0.0667    하늘나라로\n",
            "  119     0.2353    올라가지\n",
            "  120     0.4798    못하게\n",
            "  121     0.3464    된\n",
            "  122     0.2466    선녀는\n",
            "  123     -0.2869   할\n",
            "  124     -0.8056   수\n",
            "  125     -0.4972   없이\n",
            "  126     -0.5172   나무꾼에게\n",
            "  127     -0.3491   의탁하게\n",
            "  128     -0.1448   되었다.\n",
            "  129     0.0       \n",
            "---------------------------------------------\n"
          ],
          "name": "stdout"
        }
      ]
    },
    {
      "cell_type": "code",
      "metadata": {
        "trusted": true,
        "id": "o1aRT1k904Jx"
      },
      "source": [
        "\n",
        "# text의 생성\n",
        "def text_gen(noise, term_length):\n",
        "    gtext = []\n",
        "    sorted_noise = np.sort(noise)[::-1]\n",
        "    order = np.where(noise > sorted_noise[term_length+1])[0][-term_length:]\n",
        "    assert len(order) == term_length\n",
        "    for k in order:\n",
        "        gtext.append((word_table[k],k))\n",
        "        #text += word_table[k]+' '    \n",
        "    return gtext "
      ],
      "execution_count": null,
      "outputs": []
    },
    {
      "cell_type": "code",
      "metadata": {
        "trusted": true,
        "colab": {
          "base_uri": "https://localhost:8080/",
          "height": 427
        },
        "id": "yO6KzT4c04Jx",
        "outputId": "70616ddc-69d7-4048-ebac-28d99aa2a977"
      },
      "source": [
        "term_weight = np.zeros(_NOISE_DIM,)\n",
        "\n",
        "verbose = False\n",
        "p_score = 0\n",
        "scale = 50\n",
        "epochs = 1000\n",
        "sum_length = len(story_peaks) + int(len(story_peaks)*1.0)\n",
        "pb = ProgressBar(epochs/scale,prefix='Train...')\n",
        "count = 1\n",
        "for epoch in range(epochs):\n",
        "    noise = np.random.rand(_NOISE_DIM,)\n",
        "    # stroy peak에 해당하는 term에게 평균값에 해당하는 bias를 추가 한다.\n",
        "    noise[story_peaks] += np.mean(noise) \n",
        "    noise += term_weight / count\n",
        "    gtext = text_gen(noise,sum_length)\n",
        "    #print(' '.join([w for (w,k) in gtext]))\n",
        "    #print([k for (w,k) in gtext])    \n",
        "    # 문장 단위로 잘라서 문법 체크...\n",
        "    total_score = []\n",
        "    tw = \"\"\n",
        "    tk = []\n",
        "    for (w,k) in gtext:\n",
        "        tw += w + ' '\n",
        "        tk.append(k)\n",
        "        if w.endswith('.'):\n",
        "            # morpheme_discriminator\n",
        "            #print(tk)\n",
        "            score = morpheme_discriminator([tw])[0]\n",
        "            if verbose:\n",
        "                print(f'score:{score} text:{tw}')\n",
        "            term_weight[tk] += score\n",
        "            total_score.append(score)\n",
        "            tw = \"\"\n",
        "            tk = []\n",
        "            \n",
        "    if len(tk) > 0:\n",
        "        # morpheme_discriminator\n",
        "        #print(tw)\n",
        "        #print(tk)        \n",
        "        score = morpheme_discriminator([tw])[0]\n",
        "        if verbose:\n",
        "            print(f'score:{score} text:{tw}')\n",
        "        term_weight[tk] += score\n",
        "        total_score.append(score)\n",
        "        tw = \"\"\n",
        "        tk = []        \n",
        "            \n",
        "    #term_weight[order] += score\n",
        "    '''\n",
        "    reward = p_score - score\n",
        "    if (p_score ==0):\n",
        "        pass\n",
        "    else:\n",
        "        term_weight[order] += reward\n",
        "    p_score = score\n",
        "    '''\n",
        "    text = ' '.join([w for (w,k) in gtext])\n",
        "\n",
        "    score = similarity_discriminator([text],org_text_emb)\n",
        "\n",
        "    reward = p_score - score\n",
        "    if (p_score ==0):\n",
        "        pass\n",
        "    else:\n",
        "        term_weight[order] += reward\n",
        "    s_score = score\n",
        "\n",
        "    count += 1\n",
        "    if epoch%scale == 0:\n",
        "        pb.printProgress(+1,f'{epoch+scale}/{epochs} epochs, m_score:{str( np.mean(total_score)).ljust(8)} s_score:{score} {text}                                            ')\n",
        "\n",
        "        \n",
        "#plt.plot(term_weight)\n",
        "plt.plot(term_weight)\n",
        "plt.show()\n",
        "gtext = text_gen(term_weight,sum_length)\n",
        "text = ' '.join([w for (w,k) in gtext])\n",
        "score = similarity_discriminator([text],org_text_emb)\n",
        "print('result text : ',text)\n",
        "print('result score : ',score)\n",
        "print('skel_text : ',skel_text)"
      ],
      "execution_count": null,
      "outputs": [
        {
          "output_type": "stream",
          "text": [
            "\rTrain... ||...................| 5.0%   50/1000 epochs, m_score:0.18609184 s_score:0.8493128221981614 여자 아기가 태어났어요. 예쁘고 마음씨 어느날 소녀의 소녀의 아버지는 새어머니를 새어머니는 소녀보다 딸을 왔어요. 언니들은 심술쟁이들이었어요. 자기 게 못마땅했어요. 그런데 아버지마저 소녀는 하녀처럼 종일 쓸고 도맡아 해도 끝이 집안일이 힘들어 쉬곤 재투성이잖아요. 두 소녀를 신데렐라의 집에도 왔어요. 언니들을 데리고 신데렐라도 무도회에 신데렐라는 훌쩍훌쩍 신데렐라 너도 싶니? 고개를 마법사 내가 무도회에 변했어요. 도마뱀은 멋진 장식이 예쁜 신데렐라 발을 신데렐라에게 구두를 신겨 신데렐라 열두시가 마부는 돼. 반드시 밤 아름다운 마음을 왕자님은 다른 쳐다보지도 추었어요. 줄도 몰랐어요. 땡 신데렐라는 신데렐라가 허둥지둥 벗겨졌어요. 하지만 주울 없었어요. 층계에서 구두 결혼하겠어요. 그래서 유리 나라를 발을 오므려도 보고 보았지만 작았어요. 저도 한번 신어 신하게 신었어요 구두는 신데렐라의 발에 뒤                                            "
          ],
          "name": "stdout"
        },
        {
          "output_type": "error",
          "ename": "KeyboardInterrupt",
          "evalue": "ignored",
          "traceback": [
            "\u001b[0;31m---------------------------------------------------------------------------\u001b[0m",
            "\u001b[0;31mKeyboardInterrupt\u001b[0m                         Traceback (most recent call last)",
            "\u001b[0;32m<ipython-input-46-3f9a0b287778>\u001b[0m in \u001b[0;36m<module>\u001b[0;34m()\u001b[0m\n\u001b[1;32m     57\u001b[0m     \u001b[0mtext\u001b[0m \u001b[0;34m=\u001b[0m \u001b[0;34m' '\u001b[0m\u001b[0;34m.\u001b[0m\u001b[0mjoin\u001b[0m\u001b[0;34m(\u001b[0m\u001b[0;34m[\u001b[0m\u001b[0mw\u001b[0m \u001b[0;32mfor\u001b[0m \u001b[0;34m(\u001b[0m\u001b[0mw\u001b[0m\u001b[0;34m,\u001b[0m\u001b[0mk\u001b[0m\u001b[0;34m)\u001b[0m \u001b[0;32min\u001b[0m \u001b[0mgtext\u001b[0m\u001b[0;34m]\u001b[0m\u001b[0;34m)\u001b[0m\u001b[0;34m\u001b[0m\u001b[0;34m\u001b[0m\u001b[0m\n\u001b[1;32m     58\u001b[0m \u001b[0;34m\u001b[0m\u001b[0m\n\u001b[0;32m---> 59\u001b[0;31m     \u001b[0mscore\u001b[0m \u001b[0;34m=\u001b[0m \u001b[0msimilarity_discriminator\u001b[0m\u001b[0;34m(\u001b[0m\u001b[0;34m[\u001b[0m\u001b[0mtext\u001b[0m\u001b[0;34m]\u001b[0m\u001b[0;34m,\u001b[0m\u001b[0morg_text_emb\u001b[0m\u001b[0;34m)\u001b[0m\u001b[0;34m\u001b[0m\u001b[0;34m\u001b[0m\u001b[0m\n\u001b[0m\u001b[1;32m     60\u001b[0m \u001b[0;34m\u001b[0m\u001b[0m\n\u001b[1;32m     61\u001b[0m     \u001b[0mreward\u001b[0m \u001b[0;34m=\u001b[0m \u001b[0mp_score\u001b[0m \u001b[0;34m-\u001b[0m \u001b[0mscore\u001b[0m\u001b[0;34m\u001b[0m\u001b[0;34m\u001b[0m\u001b[0m\n",
            "\u001b[0;32m<ipython-input-22-e55a48fe9200>\u001b[0m in \u001b[0;36msimilarity_discriminator\u001b[0;34m(queries, org_embedding)\u001b[0m\n\u001b[1;32m      8\u001b[0m     \u001b[0;31m# return : 결과 score 배열 (None,)\u001b[0m\u001b[0;34m\u001b[0m\u001b[0;34m\u001b[0m\u001b[0;34m\u001b[0m\u001b[0m\n\u001b[1;32m      9\u001b[0m     \u001b[0mtotal_score\u001b[0m \u001b[0;34m=\u001b[0m \u001b[0;36m0\u001b[0m\u001b[0;34m\u001b[0m\u001b[0;34m\u001b[0m\u001b[0m\n\u001b[0;32m---> 10\u001b[0;31m     \u001b[0mquery_embeddings\u001b[0m \u001b[0;34m=\u001b[0m \u001b[0membedder\u001b[0m\u001b[0;34m.\u001b[0m\u001b[0mencode\u001b[0m\u001b[0;34m(\u001b[0m\u001b[0mqueries\u001b[0m\u001b[0;34m,\u001b[0m\u001b[0mshow_progress_bar\u001b[0m\u001b[0;34m=\u001b[0m\u001b[0;32mFalse\u001b[0m\u001b[0;34m)\u001b[0m\u001b[0;34m\u001b[0m\u001b[0;34m\u001b[0m\u001b[0m\n\u001b[0m\u001b[1;32m     11\u001b[0m     \u001b[0;32mfor\u001b[0m \u001b[0mquery\u001b[0m\u001b[0;34m,\u001b[0m \u001b[0mquery_embedding\u001b[0m \u001b[0;32min\u001b[0m \u001b[0mzip\u001b[0m\u001b[0;34m(\u001b[0m\u001b[0mqueries\u001b[0m\u001b[0;34m,\u001b[0m \u001b[0mquery_embeddings\u001b[0m\u001b[0;34m)\u001b[0m\u001b[0;34m:\u001b[0m\u001b[0;34m\u001b[0m\u001b[0;34m\u001b[0m\u001b[0m\n\u001b[1;32m     12\u001b[0m         \u001b[0mdistances\u001b[0m \u001b[0;34m=\u001b[0m \u001b[0mscipy\u001b[0m\u001b[0;34m.\u001b[0m\u001b[0mspatial\u001b[0m\u001b[0;34m.\u001b[0m\u001b[0mdistance\u001b[0m\u001b[0;34m.\u001b[0m\u001b[0mcdist\u001b[0m\u001b[0;34m(\u001b[0m\u001b[0;34m[\u001b[0m\u001b[0mquery_embedding\u001b[0m\u001b[0;34m]\u001b[0m\u001b[0;34m,\u001b[0m \u001b[0;34m[\u001b[0m\u001b[0morg_embedding\u001b[0m\u001b[0;34m]\u001b[0m\u001b[0;34m,\u001b[0m \u001b[0;34m\"cosine\"\u001b[0m\u001b[0;34m)\u001b[0m\u001b[0;34m[\u001b[0m\u001b[0;36m0\u001b[0m\u001b[0;34m]\u001b[0m\u001b[0;34m\u001b[0m\u001b[0;34m\u001b[0m\u001b[0m\n",
            "\u001b[0;32m/usr/local/lib/python3.6/dist-packages/sentence_transformers/SentenceTransformer.py\u001b[0m in \u001b[0;36mencode\u001b[0;34m(self, sentences, batch_size, show_progress_bar, output_value, convert_to_numpy, is_pretokenized)\u001b[0m\n\u001b[1;32m    156\u001b[0m \u001b[0;34m\u001b[0m\u001b[0m\n\u001b[1;32m    157\u001b[0m             \u001b[0;32mwith\u001b[0m \u001b[0mtorch\u001b[0m\u001b[0;34m.\u001b[0m\u001b[0mno_grad\u001b[0m\u001b[0;34m(\u001b[0m\u001b[0;34m)\u001b[0m\u001b[0;34m:\u001b[0m\u001b[0;34m\u001b[0m\u001b[0;34m\u001b[0m\u001b[0m\n\u001b[0;32m--> 158\u001b[0;31m                 \u001b[0mout_features\u001b[0m \u001b[0;34m=\u001b[0m \u001b[0mself\u001b[0m\u001b[0;34m.\u001b[0m\u001b[0mforward\u001b[0m\u001b[0;34m(\u001b[0m\u001b[0mfeatures\u001b[0m\u001b[0;34m)\u001b[0m\u001b[0;34m\u001b[0m\u001b[0;34m\u001b[0m\u001b[0m\n\u001b[0m\u001b[1;32m    159\u001b[0m                 \u001b[0membeddings\u001b[0m \u001b[0;34m=\u001b[0m \u001b[0mout_features\u001b[0m\u001b[0;34m[\u001b[0m\u001b[0moutput_value\u001b[0m\u001b[0;34m]\u001b[0m\u001b[0;34m\u001b[0m\u001b[0;34m\u001b[0m\u001b[0m\n\u001b[1;32m    160\u001b[0m \u001b[0;34m\u001b[0m\u001b[0m\n",
            "\u001b[0;32m/usr/local/lib/python3.6/dist-packages/torch/nn/modules/container.py\u001b[0m in \u001b[0;36mforward\u001b[0;34m(self, input)\u001b[0m\n\u001b[1;32m    115\u001b[0m     \u001b[0;32mdef\u001b[0m \u001b[0mforward\u001b[0m\u001b[0;34m(\u001b[0m\u001b[0mself\u001b[0m\u001b[0;34m,\u001b[0m \u001b[0minput\u001b[0m\u001b[0;34m)\u001b[0m\u001b[0;34m:\u001b[0m\u001b[0;34m\u001b[0m\u001b[0;34m\u001b[0m\u001b[0m\n\u001b[1;32m    116\u001b[0m         \u001b[0;32mfor\u001b[0m \u001b[0mmodule\u001b[0m \u001b[0;32min\u001b[0m \u001b[0mself\u001b[0m\u001b[0;34m:\u001b[0m\u001b[0;34m\u001b[0m\u001b[0;34m\u001b[0m\u001b[0m\n\u001b[0;32m--> 117\u001b[0;31m             \u001b[0minput\u001b[0m \u001b[0;34m=\u001b[0m \u001b[0mmodule\u001b[0m\u001b[0;34m(\u001b[0m\u001b[0minput\u001b[0m\u001b[0;34m)\u001b[0m\u001b[0;34m\u001b[0m\u001b[0;34m\u001b[0m\u001b[0m\n\u001b[0m\u001b[1;32m    118\u001b[0m         \u001b[0;32mreturn\u001b[0m \u001b[0minput\u001b[0m\u001b[0;34m\u001b[0m\u001b[0;34m\u001b[0m\u001b[0m\n\u001b[1;32m    119\u001b[0m \u001b[0;34m\u001b[0m\u001b[0m\n",
            "\u001b[0;32m/usr/local/lib/python3.6/dist-packages/torch/nn/modules/module.py\u001b[0m in \u001b[0;36m_call_impl\u001b[0;34m(self, *input, **kwargs)\u001b[0m\n\u001b[1;32m    725\u001b[0m             \u001b[0mresult\u001b[0m \u001b[0;34m=\u001b[0m \u001b[0mself\u001b[0m\u001b[0;34m.\u001b[0m\u001b[0m_slow_forward\u001b[0m\u001b[0;34m(\u001b[0m\u001b[0;34m*\u001b[0m\u001b[0minput\u001b[0m\u001b[0;34m,\u001b[0m \u001b[0;34m**\u001b[0m\u001b[0mkwargs\u001b[0m\u001b[0;34m)\u001b[0m\u001b[0;34m\u001b[0m\u001b[0;34m\u001b[0m\u001b[0m\n\u001b[1;32m    726\u001b[0m         \u001b[0;32melse\u001b[0m\u001b[0;34m:\u001b[0m\u001b[0;34m\u001b[0m\u001b[0;34m\u001b[0m\u001b[0m\n\u001b[0;32m--> 727\u001b[0;31m             \u001b[0mresult\u001b[0m \u001b[0;34m=\u001b[0m \u001b[0mself\u001b[0m\u001b[0;34m.\u001b[0m\u001b[0mforward\u001b[0m\u001b[0;34m(\u001b[0m\u001b[0;34m*\u001b[0m\u001b[0minput\u001b[0m\u001b[0;34m,\u001b[0m \u001b[0;34m**\u001b[0m\u001b[0mkwargs\u001b[0m\u001b[0;34m)\u001b[0m\u001b[0;34m\u001b[0m\u001b[0;34m\u001b[0m\u001b[0m\n\u001b[0m\u001b[1;32m    728\u001b[0m         for hook in itertools.chain(\n\u001b[1;32m    729\u001b[0m                 \u001b[0m_global_forward_hooks\u001b[0m\u001b[0;34m.\u001b[0m\u001b[0mvalues\u001b[0m\u001b[0;34m(\u001b[0m\u001b[0;34m)\u001b[0m\u001b[0;34m,\u001b[0m\u001b[0;34m\u001b[0m\u001b[0;34m\u001b[0m\u001b[0m\n",
            "\u001b[0;32m/usr/local/lib/python3.6/dist-packages/sentence_transformers/models/XLMRoBERTa.py\u001b[0m in \u001b[0;36mforward\u001b[0;34m(self, features)\u001b[0m\n\u001b[1;32m     33\u001b[0m         \u001b[0;34m\"\"\"Returns token_embeddings, cls_token\"\"\"\u001b[0m\u001b[0;34m\u001b[0m\u001b[0;34m\u001b[0m\u001b[0m\n\u001b[1;32m     34\u001b[0m         \u001b[0;31m#RoBERTa does not use token_type_ids\u001b[0m\u001b[0;34m\u001b[0m\u001b[0;34m\u001b[0m\u001b[0;34m\u001b[0m\u001b[0m\n\u001b[0;32m---> 35\u001b[0;31m         \u001b[0moutput_states\u001b[0m \u001b[0;34m=\u001b[0m \u001b[0mself\u001b[0m\u001b[0;34m.\u001b[0m\u001b[0mxlm_roberta\u001b[0m\u001b[0;34m(\u001b[0m\u001b[0;34m**\u001b[0m\u001b[0mfeatures\u001b[0m\u001b[0;34m)\u001b[0m\u001b[0;34m\u001b[0m\u001b[0;34m\u001b[0m\u001b[0m\n\u001b[0m\u001b[1;32m     36\u001b[0m         \u001b[0moutput_tokens\u001b[0m \u001b[0;34m=\u001b[0m \u001b[0moutput_states\u001b[0m\u001b[0;34m[\u001b[0m\u001b[0;36m0\u001b[0m\u001b[0;34m]\u001b[0m\u001b[0;34m\u001b[0m\u001b[0;34m\u001b[0m\u001b[0m\n\u001b[1;32m     37\u001b[0m         \u001b[0mcls_tokens\u001b[0m \u001b[0;34m=\u001b[0m \u001b[0moutput_tokens\u001b[0m\u001b[0;34m[\u001b[0m\u001b[0;34m:\u001b[0m\u001b[0;34m,\u001b[0m \u001b[0;36m0\u001b[0m\u001b[0;34m,\u001b[0m \u001b[0;34m:\u001b[0m\u001b[0;34m]\u001b[0m  \u001b[0;31m# CLS token is first token\u001b[0m\u001b[0;34m\u001b[0m\u001b[0;34m\u001b[0m\u001b[0m\n",
            "\u001b[0;32m/usr/local/lib/python3.6/dist-packages/torch/nn/modules/module.py\u001b[0m in \u001b[0;36m_call_impl\u001b[0;34m(self, *input, **kwargs)\u001b[0m\n\u001b[1;32m    725\u001b[0m             \u001b[0mresult\u001b[0m \u001b[0;34m=\u001b[0m \u001b[0mself\u001b[0m\u001b[0;34m.\u001b[0m\u001b[0m_slow_forward\u001b[0m\u001b[0;34m(\u001b[0m\u001b[0;34m*\u001b[0m\u001b[0minput\u001b[0m\u001b[0;34m,\u001b[0m \u001b[0;34m**\u001b[0m\u001b[0mkwargs\u001b[0m\u001b[0;34m)\u001b[0m\u001b[0;34m\u001b[0m\u001b[0;34m\u001b[0m\u001b[0m\n\u001b[1;32m    726\u001b[0m         \u001b[0;32melse\u001b[0m\u001b[0;34m:\u001b[0m\u001b[0;34m\u001b[0m\u001b[0;34m\u001b[0m\u001b[0m\n\u001b[0;32m--> 727\u001b[0;31m             \u001b[0mresult\u001b[0m \u001b[0;34m=\u001b[0m \u001b[0mself\u001b[0m\u001b[0;34m.\u001b[0m\u001b[0mforward\u001b[0m\u001b[0;34m(\u001b[0m\u001b[0;34m*\u001b[0m\u001b[0minput\u001b[0m\u001b[0;34m,\u001b[0m \u001b[0;34m**\u001b[0m\u001b[0mkwargs\u001b[0m\u001b[0;34m)\u001b[0m\u001b[0;34m\u001b[0m\u001b[0;34m\u001b[0m\u001b[0m\n\u001b[0m\u001b[1;32m    728\u001b[0m         for hook in itertools.chain(\n\u001b[1;32m    729\u001b[0m                 \u001b[0m_global_forward_hooks\u001b[0m\u001b[0;34m.\u001b[0m\u001b[0mvalues\u001b[0m\u001b[0;34m(\u001b[0m\u001b[0;34m)\u001b[0m\u001b[0;34m,\u001b[0m\u001b[0;34m\u001b[0m\u001b[0;34m\u001b[0m\u001b[0m\n",
            "\u001b[0;32m/usr/local/lib/python3.6/dist-packages/transformers/modeling_bert.py\u001b[0m in \u001b[0;36mforward\u001b[0;34m(self, input_ids, attention_mask, token_type_ids, position_ids, head_mask, inputs_embeds, encoder_hidden_states, encoder_attention_mask, output_attentions, output_hidden_states)\u001b[0m\n\u001b[1;32m    760\u001b[0m             \u001b[0mencoder_attention_mask\u001b[0m\u001b[0;34m=\u001b[0m\u001b[0mencoder_extended_attention_mask\u001b[0m\u001b[0;34m,\u001b[0m\u001b[0;34m\u001b[0m\u001b[0;34m\u001b[0m\u001b[0m\n\u001b[1;32m    761\u001b[0m             \u001b[0moutput_attentions\u001b[0m\u001b[0;34m=\u001b[0m\u001b[0moutput_attentions\u001b[0m\u001b[0;34m,\u001b[0m\u001b[0;34m\u001b[0m\u001b[0;34m\u001b[0m\u001b[0m\n\u001b[0;32m--> 762\u001b[0;31m             \u001b[0moutput_hidden_states\u001b[0m\u001b[0;34m=\u001b[0m\u001b[0moutput_hidden_states\u001b[0m\u001b[0;34m,\u001b[0m\u001b[0;34m\u001b[0m\u001b[0;34m\u001b[0m\u001b[0m\n\u001b[0m\u001b[1;32m    763\u001b[0m         )\n\u001b[1;32m    764\u001b[0m         \u001b[0msequence_output\u001b[0m \u001b[0;34m=\u001b[0m \u001b[0mencoder_outputs\u001b[0m\u001b[0;34m[\u001b[0m\u001b[0;36m0\u001b[0m\u001b[0;34m]\u001b[0m\u001b[0;34m\u001b[0m\u001b[0;34m\u001b[0m\u001b[0m\n",
            "\u001b[0;32m/usr/local/lib/python3.6/dist-packages/torch/nn/modules/module.py\u001b[0m in \u001b[0;36m_call_impl\u001b[0;34m(self, *input, **kwargs)\u001b[0m\n\u001b[1;32m    725\u001b[0m             \u001b[0mresult\u001b[0m \u001b[0;34m=\u001b[0m \u001b[0mself\u001b[0m\u001b[0;34m.\u001b[0m\u001b[0m_slow_forward\u001b[0m\u001b[0;34m(\u001b[0m\u001b[0;34m*\u001b[0m\u001b[0minput\u001b[0m\u001b[0;34m,\u001b[0m \u001b[0;34m**\u001b[0m\u001b[0mkwargs\u001b[0m\u001b[0;34m)\u001b[0m\u001b[0;34m\u001b[0m\u001b[0;34m\u001b[0m\u001b[0m\n\u001b[1;32m    726\u001b[0m         \u001b[0;32melse\u001b[0m\u001b[0;34m:\u001b[0m\u001b[0;34m\u001b[0m\u001b[0;34m\u001b[0m\u001b[0m\n\u001b[0;32m--> 727\u001b[0;31m             \u001b[0mresult\u001b[0m \u001b[0;34m=\u001b[0m \u001b[0mself\u001b[0m\u001b[0;34m.\u001b[0m\u001b[0mforward\u001b[0m\u001b[0;34m(\u001b[0m\u001b[0;34m*\u001b[0m\u001b[0minput\u001b[0m\u001b[0;34m,\u001b[0m \u001b[0;34m**\u001b[0m\u001b[0mkwargs\u001b[0m\u001b[0;34m)\u001b[0m\u001b[0;34m\u001b[0m\u001b[0;34m\u001b[0m\u001b[0m\n\u001b[0m\u001b[1;32m    728\u001b[0m         for hook in itertools.chain(\n\u001b[1;32m    729\u001b[0m                 \u001b[0m_global_forward_hooks\u001b[0m\u001b[0;34m.\u001b[0m\u001b[0mvalues\u001b[0m\u001b[0;34m(\u001b[0m\u001b[0;34m)\u001b[0m\u001b[0;34m,\u001b[0m\u001b[0;34m\u001b[0m\u001b[0;34m\u001b[0m\u001b[0m\n",
            "\u001b[0;32m/usr/local/lib/python3.6/dist-packages/transformers/modeling_bert.py\u001b[0m in \u001b[0;36mforward\u001b[0;34m(self, hidden_states, attention_mask, head_mask, encoder_hidden_states, encoder_attention_mask, output_attentions, output_hidden_states)\u001b[0m\n\u001b[1;32m    437\u001b[0m                     \u001b[0mencoder_hidden_states\u001b[0m\u001b[0;34m,\u001b[0m\u001b[0;34m\u001b[0m\u001b[0;34m\u001b[0m\u001b[0m\n\u001b[1;32m    438\u001b[0m                     \u001b[0mencoder_attention_mask\u001b[0m\u001b[0;34m,\u001b[0m\u001b[0;34m\u001b[0m\u001b[0;34m\u001b[0m\u001b[0m\n\u001b[0;32m--> 439\u001b[0;31m                     \u001b[0moutput_attentions\u001b[0m\u001b[0;34m,\u001b[0m\u001b[0;34m\u001b[0m\u001b[0;34m\u001b[0m\u001b[0m\n\u001b[0m\u001b[1;32m    440\u001b[0m                 )\n\u001b[1;32m    441\u001b[0m             \u001b[0mhidden_states\u001b[0m \u001b[0;34m=\u001b[0m \u001b[0mlayer_outputs\u001b[0m\u001b[0;34m[\u001b[0m\u001b[0;36m0\u001b[0m\u001b[0;34m]\u001b[0m\u001b[0;34m\u001b[0m\u001b[0;34m\u001b[0m\u001b[0m\n",
            "\u001b[0;32m/usr/local/lib/python3.6/dist-packages/torch/nn/modules/module.py\u001b[0m in \u001b[0;36m_call_impl\u001b[0;34m(self, *input, **kwargs)\u001b[0m\n\u001b[1;32m    725\u001b[0m             \u001b[0mresult\u001b[0m \u001b[0;34m=\u001b[0m \u001b[0mself\u001b[0m\u001b[0;34m.\u001b[0m\u001b[0m_slow_forward\u001b[0m\u001b[0;34m(\u001b[0m\u001b[0;34m*\u001b[0m\u001b[0minput\u001b[0m\u001b[0;34m,\u001b[0m \u001b[0;34m**\u001b[0m\u001b[0mkwargs\u001b[0m\u001b[0;34m)\u001b[0m\u001b[0;34m\u001b[0m\u001b[0;34m\u001b[0m\u001b[0m\n\u001b[1;32m    726\u001b[0m         \u001b[0;32melse\u001b[0m\u001b[0;34m:\u001b[0m\u001b[0;34m\u001b[0m\u001b[0;34m\u001b[0m\u001b[0m\n\u001b[0;32m--> 727\u001b[0;31m             \u001b[0mresult\u001b[0m \u001b[0;34m=\u001b[0m \u001b[0mself\u001b[0m\u001b[0;34m.\u001b[0m\u001b[0mforward\u001b[0m\u001b[0;34m(\u001b[0m\u001b[0;34m*\u001b[0m\u001b[0minput\u001b[0m\u001b[0;34m,\u001b[0m \u001b[0;34m**\u001b[0m\u001b[0mkwargs\u001b[0m\u001b[0;34m)\u001b[0m\u001b[0;34m\u001b[0m\u001b[0;34m\u001b[0m\u001b[0m\n\u001b[0m\u001b[1;32m    728\u001b[0m         for hook in itertools.chain(\n\u001b[1;32m    729\u001b[0m                 \u001b[0m_global_forward_hooks\u001b[0m\u001b[0;34m.\u001b[0m\u001b[0mvalues\u001b[0m\u001b[0;34m(\u001b[0m\u001b[0;34m)\u001b[0m\u001b[0;34m,\u001b[0m\u001b[0;34m\u001b[0m\u001b[0;34m\u001b[0m\u001b[0m\n",
            "\u001b[0;32m/usr/local/lib/python3.6/dist-packages/transformers/modeling_bert.py\u001b[0m in \u001b[0;36mforward\u001b[0;34m(self, hidden_states, attention_mask, head_mask, encoder_hidden_states, encoder_attention_mask, output_attentions)\u001b[0m\n\u001b[1;32m    369\u001b[0m     ):\n\u001b[1;32m    370\u001b[0m         self_attention_outputs = self.attention(\n\u001b[0;32m--> 371\u001b[0;31m             \u001b[0mhidden_states\u001b[0m\u001b[0;34m,\u001b[0m \u001b[0mattention_mask\u001b[0m\u001b[0;34m,\u001b[0m \u001b[0mhead_mask\u001b[0m\u001b[0;34m,\u001b[0m \u001b[0moutput_attentions\u001b[0m\u001b[0;34m=\u001b[0m\u001b[0moutput_attentions\u001b[0m\u001b[0;34m,\u001b[0m\u001b[0;34m\u001b[0m\u001b[0;34m\u001b[0m\u001b[0m\n\u001b[0m\u001b[1;32m    372\u001b[0m         )\n\u001b[1;32m    373\u001b[0m         \u001b[0mattention_output\u001b[0m \u001b[0;34m=\u001b[0m \u001b[0mself_attention_outputs\u001b[0m\u001b[0;34m[\u001b[0m\u001b[0;36m0\u001b[0m\u001b[0;34m]\u001b[0m\u001b[0;34m\u001b[0m\u001b[0;34m\u001b[0m\u001b[0m\n",
            "\u001b[0;32m/usr/local/lib/python3.6/dist-packages/torch/nn/modules/module.py\u001b[0m in \u001b[0;36m_call_impl\u001b[0;34m(self, *input, **kwargs)\u001b[0m\n\u001b[1;32m    725\u001b[0m             \u001b[0mresult\u001b[0m \u001b[0;34m=\u001b[0m \u001b[0mself\u001b[0m\u001b[0;34m.\u001b[0m\u001b[0m_slow_forward\u001b[0m\u001b[0;34m(\u001b[0m\u001b[0;34m*\u001b[0m\u001b[0minput\u001b[0m\u001b[0;34m,\u001b[0m \u001b[0;34m**\u001b[0m\u001b[0mkwargs\u001b[0m\u001b[0;34m)\u001b[0m\u001b[0;34m\u001b[0m\u001b[0;34m\u001b[0m\u001b[0m\n\u001b[1;32m    726\u001b[0m         \u001b[0;32melse\u001b[0m\u001b[0;34m:\u001b[0m\u001b[0;34m\u001b[0m\u001b[0;34m\u001b[0m\u001b[0m\n\u001b[0;32m--> 727\u001b[0;31m             \u001b[0mresult\u001b[0m \u001b[0;34m=\u001b[0m \u001b[0mself\u001b[0m\u001b[0;34m.\u001b[0m\u001b[0mforward\u001b[0m\u001b[0;34m(\u001b[0m\u001b[0;34m*\u001b[0m\u001b[0minput\u001b[0m\u001b[0;34m,\u001b[0m \u001b[0;34m**\u001b[0m\u001b[0mkwargs\u001b[0m\u001b[0;34m)\u001b[0m\u001b[0;34m\u001b[0m\u001b[0;34m\u001b[0m\u001b[0m\n\u001b[0m\u001b[1;32m    728\u001b[0m         for hook in itertools.chain(\n\u001b[1;32m    729\u001b[0m                 \u001b[0m_global_forward_hooks\u001b[0m\u001b[0;34m.\u001b[0m\u001b[0mvalues\u001b[0m\u001b[0;34m(\u001b[0m\u001b[0;34m)\u001b[0m\u001b[0;34m,\u001b[0m\u001b[0;34m\u001b[0m\u001b[0;34m\u001b[0m\u001b[0m\n",
            "\u001b[0;32m/usr/local/lib/python3.6/dist-packages/transformers/modeling_bert.py\u001b[0m in \u001b[0;36mforward\u001b[0;34m(self, hidden_states, attention_mask, head_mask, encoder_hidden_states, encoder_attention_mask, output_attentions)\u001b[0m\n\u001b[1;32m    313\u001b[0m     ):\n\u001b[1;32m    314\u001b[0m         self_outputs = self.self(\n\u001b[0;32m--> 315\u001b[0;31m             \u001b[0mhidden_states\u001b[0m\u001b[0;34m,\u001b[0m \u001b[0mattention_mask\u001b[0m\u001b[0;34m,\u001b[0m \u001b[0mhead_mask\u001b[0m\u001b[0;34m,\u001b[0m \u001b[0mencoder_hidden_states\u001b[0m\u001b[0;34m,\u001b[0m \u001b[0mencoder_attention_mask\u001b[0m\u001b[0;34m,\u001b[0m \u001b[0moutput_attentions\u001b[0m\u001b[0;34m,\u001b[0m\u001b[0;34m\u001b[0m\u001b[0;34m\u001b[0m\u001b[0m\n\u001b[0m\u001b[1;32m    316\u001b[0m         )\n\u001b[1;32m    317\u001b[0m         \u001b[0mattention_output\u001b[0m \u001b[0;34m=\u001b[0m \u001b[0mself\u001b[0m\u001b[0;34m.\u001b[0m\u001b[0moutput\u001b[0m\u001b[0;34m(\u001b[0m\u001b[0mself_outputs\u001b[0m\u001b[0;34m[\u001b[0m\u001b[0;36m0\u001b[0m\u001b[0;34m]\u001b[0m\u001b[0;34m,\u001b[0m \u001b[0mhidden_states\u001b[0m\u001b[0;34m)\u001b[0m\u001b[0;34m\u001b[0m\u001b[0;34m\u001b[0m\u001b[0m\n",
            "\u001b[0;32m/usr/local/lib/python3.6/dist-packages/torch/nn/modules/module.py\u001b[0m in \u001b[0;36m_call_impl\u001b[0;34m(self, *input, **kwargs)\u001b[0m\n\u001b[1;32m    725\u001b[0m             \u001b[0mresult\u001b[0m \u001b[0;34m=\u001b[0m \u001b[0mself\u001b[0m\u001b[0;34m.\u001b[0m\u001b[0m_slow_forward\u001b[0m\u001b[0;34m(\u001b[0m\u001b[0;34m*\u001b[0m\u001b[0minput\u001b[0m\u001b[0;34m,\u001b[0m \u001b[0;34m**\u001b[0m\u001b[0mkwargs\u001b[0m\u001b[0;34m)\u001b[0m\u001b[0;34m\u001b[0m\u001b[0;34m\u001b[0m\u001b[0m\n\u001b[1;32m    726\u001b[0m         \u001b[0;32melse\u001b[0m\u001b[0;34m:\u001b[0m\u001b[0;34m\u001b[0m\u001b[0;34m\u001b[0m\u001b[0m\n\u001b[0;32m--> 727\u001b[0;31m             \u001b[0mresult\u001b[0m \u001b[0;34m=\u001b[0m \u001b[0mself\u001b[0m\u001b[0;34m.\u001b[0m\u001b[0mforward\u001b[0m\u001b[0;34m(\u001b[0m\u001b[0;34m*\u001b[0m\u001b[0minput\u001b[0m\u001b[0;34m,\u001b[0m \u001b[0;34m**\u001b[0m\u001b[0mkwargs\u001b[0m\u001b[0;34m)\u001b[0m\u001b[0;34m\u001b[0m\u001b[0;34m\u001b[0m\u001b[0m\n\u001b[0m\u001b[1;32m    728\u001b[0m         for hook in itertools.chain(\n\u001b[1;32m    729\u001b[0m                 \u001b[0m_global_forward_hooks\u001b[0m\u001b[0;34m.\u001b[0m\u001b[0mvalues\u001b[0m\u001b[0;34m(\u001b[0m\u001b[0;34m)\u001b[0m\u001b[0;34m,\u001b[0m\u001b[0;34m\u001b[0m\u001b[0;34m\u001b[0m\u001b[0m\n",
            "\u001b[0;32m/usr/local/lib/python3.6/dist-packages/transformers/modeling_bert.py\u001b[0m in \u001b[0;36mforward\u001b[0;34m(self, hidden_states, attention_mask, head_mask, encoder_hidden_states, encoder_attention_mask, output_attentions)\u001b[0m\n\u001b[1;32m    229\u001b[0m             \u001b[0mattention_mask\u001b[0m \u001b[0;34m=\u001b[0m \u001b[0mencoder_attention_mask\u001b[0m\u001b[0;34m\u001b[0m\u001b[0;34m\u001b[0m\u001b[0m\n\u001b[1;32m    230\u001b[0m         \u001b[0;32melse\u001b[0m\u001b[0;34m:\u001b[0m\u001b[0;34m\u001b[0m\u001b[0;34m\u001b[0m\u001b[0m\n\u001b[0;32m--> 231\u001b[0;31m             \u001b[0mmixed_key_layer\u001b[0m \u001b[0;34m=\u001b[0m \u001b[0mself\u001b[0m\u001b[0;34m.\u001b[0m\u001b[0mkey\u001b[0m\u001b[0;34m(\u001b[0m\u001b[0mhidden_states\u001b[0m\u001b[0;34m)\u001b[0m\u001b[0;34m\u001b[0m\u001b[0;34m\u001b[0m\u001b[0m\n\u001b[0m\u001b[1;32m    232\u001b[0m             \u001b[0mmixed_value_layer\u001b[0m \u001b[0;34m=\u001b[0m \u001b[0mself\u001b[0m\u001b[0;34m.\u001b[0m\u001b[0mvalue\u001b[0m\u001b[0;34m(\u001b[0m\u001b[0mhidden_states\u001b[0m\u001b[0;34m)\u001b[0m\u001b[0;34m\u001b[0m\u001b[0;34m\u001b[0m\u001b[0m\n\u001b[1;32m    233\u001b[0m \u001b[0;34m\u001b[0m\u001b[0m\n",
            "\u001b[0;32m/usr/local/lib/python3.6/dist-packages/torch/nn/modules/module.py\u001b[0m in \u001b[0;36m_call_impl\u001b[0;34m(self, *input, **kwargs)\u001b[0m\n\u001b[1;32m    725\u001b[0m             \u001b[0mresult\u001b[0m \u001b[0;34m=\u001b[0m \u001b[0mself\u001b[0m\u001b[0;34m.\u001b[0m\u001b[0m_slow_forward\u001b[0m\u001b[0;34m(\u001b[0m\u001b[0;34m*\u001b[0m\u001b[0minput\u001b[0m\u001b[0;34m,\u001b[0m \u001b[0;34m**\u001b[0m\u001b[0mkwargs\u001b[0m\u001b[0;34m)\u001b[0m\u001b[0;34m\u001b[0m\u001b[0;34m\u001b[0m\u001b[0m\n\u001b[1;32m    726\u001b[0m         \u001b[0;32melse\u001b[0m\u001b[0;34m:\u001b[0m\u001b[0;34m\u001b[0m\u001b[0;34m\u001b[0m\u001b[0m\n\u001b[0;32m--> 727\u001b[0;31m             \u001b[0mresult\u001b[0m \u001b[0;34m=\u001b[0m \u001b[0mself\u001b[0m\u001b[0;34m.\u001b[0m\u001b[0mforward\u001b[0m\u001b[0;34m(\u001b[0m\u001b[0;34m*\u001b[0m\u001b[0minput\u001b[0m\u001b[0;34m,\u001b[0m \u001b[0;34m**\u001b[0m\u001b[0mkwargs\u001b[0m\u001b[0;34m)\u001b[0m\u001b[0;34m\u001b[0m\u001b[0;34m\u001b[0m\u001b[0m\n\u001b[0m\u001b[1;32m    728\u001b[0m         for hook in itertools.chain(\n\u001b[1;32m    729\u001b[0m                 \u001b[0m_global_forward_hooks\u001b[0m\u001b[0;34m.\u001b[0m\u001b[0mvalues\u001b[0m\u001b[0;34m(\u001b[0m\u001b[0;34m)\u001b[0m\u001b[0;34m,\u001b[0m\u001b[0;34m\u001b[0m\u001b[0;34m\u001b[0m\u001b[0m\n",
            "\u001b[0;32m/usr/local/lib/python3.6/dist-packages/torch/nn/modules/linear.py\u001b[0m in \u001b[0;36mforward\u001b[0;34m(self, input)\u001b[0m\n\u001b[1;32m     91\u001b[0m \u001b[0;34m\u001b[0m\u001b[0m\n\u001b[1;32m     92\u001b[0m     \u001b[0;32mdef\u001b[0m \u001b[0mforward\u001b[0m\u001b[0;34m(\u001b[0m\u001b[0mself\u001b[0m\u001b[0;34m,\u001b[0m \u001b[0minput\u001b[0m\u001b[0;34m:\u001b[0m \u001b[0mTensor\u001b[0m\u001b[0;34m)\u001b[0m \u001b[0;34m->\u001b[0m \u001b[0mTensor\u001b[0m\u001b[0;34m:\u001b[0m\u001b[0;34m\u001b[0m\u001b[0;34m\u001b[0m\u001b[0m\n\u001b[0;32m---> 93\u001b[0;31m         \u001b[0;32mreturn\u001b[0m \u001b[0mF\u001b[0m\u001b[0;34m.\u001b[0m\u001b[0mlinear\u001b[0m\u001b[0;34m(\u001b[0m\u001b[0minput\u001b[0m\u001b[0;34m,\u001b[0m \u001b[0mself\u001b[0m\u001b[0;34m.\u001b[0m\u001b[0mweight\u001b[0m\u001b[0;34m,\u001b[0m \u001b[0mself\u001b[0m\u001b[0;34m.\u001b[0m\u001b[0mbias\u001b[0m\u001b[0;34m)\u001b[0m\u001b[0;34m\u001b[0m\u001b[0;34m\u001b[0m\u001b[0m\n\u001b[0m\u001b[1;32m     94\u001b[0m \u001b[0;34m\u001b[0m\u001b[0m\n\u001b[1;32m     95\u001b[0m     \u001b[0;32mdef\u001b[0m \u001b[0mextra_repr\u001b[0m\u001b[0;34m(\u001b[0m\u001b[0mself\u001b[0m\u001b[0;34m)\u001b[0m \u001b[0;34m->\u001b[0m \u001b[0mstr\u001b[0m\u001b[0;34m:\u001b[0m\u001b[0;34m\u001b[0m\u001b[0;34m\u001b[0m\u001b[0m\n",
            "\u001b[0;32m/usr/local/lib/python3.6/dist-packages/torch/nn/functional.py\u001b[0m in \u001b[0;36mlinear\u001b[0;34m(input, weight, bias)\u001b[0m\n\u001b[1;32m   1690\u001b[0m         \u001b[0mret\u001b[0m \u001b[0;34m=\u001b[0m \u001b[0mtorch\u001b[0m\u001b[0;34m.\u001b[0m\u001b[0maddmm\u001b[0m\u001b[0;34m(\u001b[0m\u001b[0mbias\u001b[0m\u001b[0;34m,\u001b[0m \u001b[0minput\u001b[0m\u001b[0;34m,\u001b[0m \u001b[0mweight\u001b[0m\u001b[0;34m.\u001b[0m\u001b[0mt\u001b[0m\u001b[0;34m(\u001b[0m\u001b[0;34m)\u001b[0m\u001b[0;34m)\u001b[0m\u001b[0;34m\u001b[0m\u001b[0;34m\u001b[0m\u001b[0m\n\u001b[1;32m   1691\u001b[0m     \u001b[0;32melse\u001b[0m\u001b[0;34m:\u001b[0m\u001b[0;34m\u001b[0m\u001b[0;34m\u001b[0m\u001b[0m\n\u001b[0;32m-> 1692\u001b[0;31m         \u001b[0moutput\u001b[0m \u001b[0;34m=\u001b[0m \u001b[0minput\u001b[0m\u001b[0;34m.\u001b[0m\u001b[0mmatmul\u001b[0m\u001b[0;34m(\u001b[0m\u001b[0mweight\u001b[0m\u001b[0;34m.\u001b[0m\u001b[0mt\u001b[0m\u001b[0;34m(\u001b[0m\u001b[0;34m)\u001b[0m\u001b[0;34m)\u001b[0m\u001b[0;34m\u001b[0m\u001b[0;34m\u001b[0m\u001b[0m\n\u001b[0m\u001b[1;32m   1693\u001b[0m         \u001b[0;32mif\u001b[0m \u001b[0mbias\u001b[0m \u001b[0;32mis\u001b[0m \u001b[0;32mnot\u001b[0m \u001b[0;32mNone\u001b[0m\u001b[0;34m:\u001b[0m\u001b[0;34m\u001b[0m\u001b[0;34m\u001b[0m\u001b[0m\n\u001b[1;32m   1694\u001b[0m             \u001b[0moutput\u001b[0m \u001b[0;34m+=\u001b[0m \u001b[0mbias\u001b[0m\u001b[0;34m\u001b[0m\u001b[0;34m\u001b[0m\u001b[0m\n",
            "\u001b[0;31mKeyboardInterrupt\u001b[0m: "
          ]
        }
      ]
    },
    {
      "cell_type": "code",
      "metadata": {
        "id": "zlCHabi4oupu"
      },
      "source": [
        "# 효과적으로 구성된 것인지는 모르겠음... 이것은 아직 많은 연구가 필요함.\r\n",
        "# 또한 LSTM으로 바꾸어 길이의 한게를 극복해야 할 것...\r\n",
        "\r\n",
        "def make_generator_model(term_length):\r\n",
        "    input = Input(shape=(term_length), dtype='float64') \r\n",
        "    bias_input = Input(shape=(term_length), dtype='float64') \r\n",
        "    output = Dense(term_length*2, use_bias=False)(input)\r\n",
        "    output = LeakyReLU(0.2)(output)\r\n",
        "    output = Dense(term_length*4, use_bias=False)(output)\r\n",
        "    output = LeakyReLU(0.2)(output)\r\n",
        "    output = Dense(term_length, use_bias=False,activation='linear')(output)\r\n",
        "    output = Add()([output, bias_input])\r\n",
        "    model = Model([input,bias_input],output)\r\n",
        "    \r\n",
        "    model.summary()\r\n",
        "    return model\r\n"
      ],
      "execution_count": null,
      "outputs": []
    },
    {
      "cell_type": "code",
      "metadata": {
        "colab": {
          "base_uri": "https://localhost:8080/"
        },
        "id": "9E7Bhf0dsknD",
        "outputId": "4159f53a-9a27-48a1-950a-eb623cd37692"
      },
      "source": [
        "generator = make_generator_model(_NOISE_DIM)"
      ],
      "execution_count": null,
      "outputs": [
        {
          "output_type": "stream",
          "text": [
            "Model: \"model_1\"\n",
            "__________________________________________________________________________________________________\n",
            "Layer (type)                    Output Shape         Param #     Connected to                     \n",
            "==================================================================================================\n",
            "input_7 (InputLayer)            [(None, 130)]        0                                            \n",
            "__________________________________________________________________________________________________\n",
            "dense_7 (Dense)                 (None, 260)          33800       input_7[0][0]                    \n",
            "__________________________________________________________________________________________________\n",
            "leaky_re_lu_4 (LeakyReLU)       (None, 260)          0           dense_7[0][0]                    \n",
            "__________________________________________________________________________________________________\n",
            "dense_8 (Dense)                 (None, 520)          135200      leaky_re_lu_4[0][0]              \n",
            "__________________________________________________________________________________________________\n",
            "leaky_re_lu_5 (LeakyReLU)       (None, 520)          0           dense_8[0][0]                    \n",
            "__________________________________________________________________________________________________\n",
            "dense_9 (Dense)                 (None, 130)          67600       leaky_re_lu_5[0][0]              \n",
            "__________________________________________________________________________________________________\n",
            "input_8 (InputLayer)            [(None, 130)]        0                                            \n",
            "__________________________________________________________________________________________________\n",
            "add_2 (Add)                     (None, 130)          0           dense_9[0][0]                    \n",
            "                                                                 input_8[0][0]                    \n",
            "==================================================================================================\n",
            "Total params: 236,600\n",
            "Trainable params: 236,600\n",
            "Non-trainable params: 0\n",
            "__________________________________________________________________________________________________\n"
          ],
          "name": "stdout"
        }
      ]
    },
    {
      "cell_type": "code",
      "metadata": {
        "id": "RVM6VlUE5arZ"
      },
      "source": [
        "def discrete_discriminator(weights,term_length,verbose=0):\r\n",
        "    fake_gen_out = np.zeros(weights.shape)\r\n",
        "    fake_dis_out = []\r\n",
        "    real_dis_out = []\r\n",
        "    real_morphemes = get_org_morpheme_sample(weights.shape[0])\r\n",
        "    for i, noise in enumerate(weights):\r\n",
        "        gtext = text_gen(noise,term_length)\r\n",
        "        tw = \"\"\r\n",
        "        tk = []\r\n",
        "        fake_scores = []\r\n",
        "        for (w,k) in gtext:\r\n",
        "            tw += w + ' '\r\n",
        "            tk.append(k)\r\n",
        "            if w.endswith('.'):\r\n",
        "                # morpheme_discriminator\r\n",
        "                #print(tk)\r\n",
        "                fake_score = morpheme_discriminator([tw])[0]\r\n",
        "                fake_gen_out[i,tk] += fake_score\r\n",
        "                fake_dis_out.append(fake_score[0])\r\n",
        "                real_score = morpheme_model(np.array([real_morphemes[i]]))[0]\r\n",
        "                #print(real_score)\r\n",
        "                real_dis_out.append(real_score[0])\r\n",
        "                if verbose:\r\n",
        "                    print(f'score:{str(fake_score).ljust(12)} text:{tw}')\r\n",
        "                tw = \"\"\r\n",
        "                tk = []\r\n",
        "                \r\n",
        "        if len(tk) > 0:\r\n",
        "            # morpheme_discriminator\r\n",
        "            #print(tw)\r\n",
        "            #print(tk)        \r\n",
        "            fake_score = morpheme_discriminator([tw])[0]\r\n",
        "            fake_gen_out[i,tk] += fake_score\r\n",
        "            fake_dis_out.append(fake_score[0])\r\n",
        "            real_score = morpheme_model(np.array([real_morphemes[i]]))[0]\r\n",
        "            #print(real_score)            \r\n",
        "            real_dis_out.append(real_score.numpy()[0])\r\n",
        "            if verbose:\r\n",
        "                print(f'score:{str(fake_score).ljust(12)} text:{tw}')\r\n",
        "            tw = \"\"\r\n",
        "            tk = []\r\n",
        "        #print(fake_gen_out)\r\n",
        "        #print(fake_dis_out)\r\n",
        "        #print(real_dis_out)\r\n",
        "    return tf.constant(fake_gen_out,tf.float64), tf.constant(fake_dis_out,tf.float64), tf.constant(real_dis_out,tf.float64)"
      ],
      "execution_count": null,
      "outputs": []
    },
    {
      "cell_type": "code",
      "metadata": {
        "id": "nGQygTH2CqlQ"
      },
      "source": [
        "def discrete_discriminator2(weights,term_length,verbose=0):\r\n",
        "    fake_gen_out = np.zeros(weights.shape)\r\n",
        "    real_morphemes = get_org_morpheme_sample(weights.shape[0])\r\n",
        "    fake_morps = []\r\n",
        "    real_morps = []\r\n",
        "    apply_order = []\r\n",
        "    for i, noise in enumerate(weights):\r\n",
        "        gtext = text_gen(noise,term_length)\r\n",
        "        tw = \"\"\r\n",
        "        tk = []\r\n",
        "        fake_scores = []\r\n",
        "        for (w,k) in gtext:\r\n",
        "            tw += w + ' '\r\n",
        "            tk.append(k)\r\n",
        "            if w.endswith('.'):\r\n",
        "                fake_morps.append(morpheme_encode(tw))\r\n",
        "                real_morps.append(real_morphemes[i])\r\n",
        "                apply_order.append((i,tk))\r\n",
        "                tw = \"\"\r\n",
        "                tk = []\r\n",
        "                \r\n",
        "        if len(tk) > 0:\r\n",
        "            fake_morps.append(morpheme_encode(tw))\r\n",
        "            real_morps.append(real_morphemes[i])\r\n",
        "            apply_order.append((i,tk))\r\n",
        "\r\n",
        "    fake_dis_out=discriminator(np.asarray(fake_morps))\r\n",
        "    real_dis_out=discriminator(np.asarray(real_morps))\r\n",
        "    for j, (i,tk) in enumerate(apply_order):\r\n",
        "        fake_gen_out[i,tk] += fake_dis_out[j].numpy()\r\n",
        "\r\n",
        "    return tf.constant(fake_gen_out,tf.float64), fake_dis_out, real_dis_out"
      ],
      "execution_count": null,
      "outputs": []
    },
    {
      "cell_type": "code",
      "metadata": {
        "id": "WnedA6uHxi8i"
      },
      "source": [
        "N = 1\r\n",
        "count = tf.Variable(1.0)\r\n",
        "tf_term_weight = tf.zeros([_NOISE_DIM])\r\n",
        "noise = np.random.rand(N,_NOISE_DIM)\r\n",
        "biased_noise = np.random.rand(N,_NOISE_DIM)\r\n",
        "# stroy peak에 해당하는 term에게 평균값에 해당하는 bias를 추가 한다.\r\n",
        "biased_noise[:,story_peaks] += np.mean(noise) "
      ],
      "execution_count": null,
      "outputs": []
    },
    {
      "cell_type": "code",
      "metadata": {
        "colab": {
          "base_uri": "https://localhost:8080/"
        },
        "id": "-5fJ5VHctssK",
        "outputId": "63e35c16-07a1-4b52-d544-28b99d8443c6"
      },
      "source": [
        "sw = generator([noise,biased_noise], training=False)\r\n",
        "sw"
      ],
      "execution_count": null,
      "outputs": [
        {
          "output_type": "execute_result",
          "data": {
            "text/plain": [
              "<tf.Tensor: shape=(1, 130), dtype=float32, numpy=\n",
              "array([[-2.727211  , -2.6566296 , -3.6468713 , -2.353024  , -3.4145613 ,\n",
              "        -3.4427161 , -1.8853716 , -3.9607382 , -5.070578  ,  0.8872408 ,\n",
              "         0.81301165,  2.5031197 , -4.3385944 , -4.8531575 , -4.7797728 ,\n",
              "        -3.7902186 , -3.879929  , -3.5928535 , -4.661707  ,  1.4843042 ,\n",
              "        -3.5804267 ,  3.280509  ,  2.9683967 , -1.8485756 ,  2.2089078 ,\n",
              "        -2.4236448 , -3.9157438 , -4.749207  , -4.957942  , -3.4112616 ,\n",
              "         1.4930211 , -4.7299266 ,  2.6713061 ,  1.5714413 , -4.384794  ,\n",
              "        -4.3578877 , -5.3620815 ,  2.0236015 , -3.5562139 ,  3.928235  ,\n",
              "        -3.722928  , -5.015372  , -3.6316612 ,  3.305924  , -2.8360155 ,\n",
              "        -4.8435287 , -3.9334033 ,  2.181071  , -4.46212   , -4.0843196 ,\n",
              "        -3.4476504 ,  3.0143917 , -4.195564  , -2.8834424 , -4.6018543 ,\n",
              "        -3.2716677 , -3.0480032 ,  2.8386292 ,  4.289023  , -3.6119418 ,\n",
              "         2.9379623 ,  6.4975004 , -4.3132772 , -2.8354778 , -3.7726412 ,\n",
              "         1.8866329 ,  2.0881302 ,  3.2979114 , -2.7376719 , -2.8378897 ,\n",
              "         1.365592  , -4.549559  , -3.9934297 , -4.0529556 ,  4.2603116 ,\n",
              "        -3.7750697 ,  4.1004558 , -3.9679816 ,  5.503526  , -3.6207592 ,\n",
              "        -3.5306451 , -2.1393378 , -4.013399  , -2.9705186 , -2.5656986 ,\n",
              "         5.564089  , -2.9556785 ,  3.9128675 , -3.0598147 , -4.4023967 ,\n",
              "        -3.6520445 , -3.8980827 ,  4.934049  ,  5.6173735 , -3.27919   ,\n",
              "        -3.1637058 , -4.7076674 ,  3.0646863 , -4.857986  , -3.504841  ,\n",
              "        -0.2616485 , -3.1821663 ,  3.5653179 , -3.6037881 , -3.485555  ,\n",
              "         2.7928405 , -4.0903397 ,  3.571803  ,  3.9127061 , -4.4447236 ,\n",
              "         3.0645638 ,  2.8372536 ,  2.2655306 , -4.0572624 ,  4.281524  ,\n",
              "        -3.3159833 , -4.4838715 , -2.9480796 , -4.078302  , -2.1968544 ,\n",
              "         4.1455274 , -4.090524  ,  4.9983053 ,  6.357575  , -1.8331937 ,\n",
              "        -3.4866436 , -3.55341   , -5.5684237 ,  4.78827   , -1.9401534 ]],\n",
              "      dtype=float32)>"
            ]
          },
          "metadata": {
            "tags": []
          },
          "execution_count": 125
        }
      ]
    },
    {
      "cell_type": "code",
      "metadata": {
        "colab": {
          "base_uri": "https://localhost:8080/"
        },
        "id": "QlE7dPry5BfF",
        "outputId": "bbad14d2-75e2-49d4-f15b-7f0daca30afc"
      },
      "source": [
        ".shape"
      ],
      "execution_count": null,
      "outputs": [
        {
          "output_type": "execute_result",
          "data": {
            "text/plain": [
              "(1, 128, 23)"
            ]
          },
          "metadata": {
            "tags": []
          },
          "execution_count": 129
        }
      ]
    },
    {
      "cell_type": "code",
      "metadata": {
        "colab": {
          "base_uri": "https://localhost:8080/"
        },
        "id": "xRdqMTNC6SAV",
        "outputId": "12aaaee2-a62f-47a6-c112-edf4836e5306"
      },
      "source": [
        "# skeleton_length + N%의 길이로 생성\r\n",
        "gen_length = len(story_peaks) + int(len(story_peaks)*1.0)\r\n",
        "sw = generator([noise,biased_noise], training=False)\r\n",
        "fake_gen_out, fake_dis_out, real_dis_out = discrete_discriminator2(sw,gen_length,verbose=0)\r\n",
        "print(fake_gen_out)\r\n",
        "print(fake_dis_out)\r\n",
        "print(real_dis_out)"
      ],
      "execution_count": null,
      "outputs": [
        {
          "output_type": "stream",
          "text": [
            "tf.Tensor(\n",
            "[[0.         0.         0.         0.         0.         0.\n",
            "  0.         0.         0.         0.         0.80133879 0.80133879\n",
            "  0.         0.         0.         0.         0.         0.\n",
            "  0.         0.80133879 0.         0.80133879 0.80133879 0.80133879\n",
            "  0.80133879 0.         0.         0.         0.         0.\n",
            "  0.80133879 0.         1.17922378 1.17922378 0.         0.\n",
            "  0.         1.17922378 0.         1.17922378 0.         0.\n",
            "  0.         1.17922378 0.         0.         0.         1.17922378\n",
            "  0.         0.         0.         1.17922378 0.         0.\n",
            "  0.         0.         0.         1.17922378 1.15970588 0.\n",
            "  1.15970588 1.15970588 0.         0.         0.         1.15970588\n",
            "  1.15970588 1.15970588 0.         0.         1.15970588 0.\n",
            "  0.         0.         1.15970588 0.         1.15970588 0.\n",
            "  1.15970588 0.         0.         0.         0.         0.\n",
            "  0.         1.15970588 0.         1.15970588 0.         0.\n",
            "  0.         0.         1.15970588 1.15970588 0.         0.\n",
            "  0.         1.15970588 0.         0.         1.15970588 0.\n",
            "  1.15970588 0.         0.         1.15970588 0.         1.15970588\n",
            "  1.15970588 0.         1.08138812 1.08138812 1.08138812 0.\n",
            "  1.08138812 0.         0.         0.         0.         0.\n",
            "  1.08138812 0.         1.08138812 1.08138812 0.         0.\n",
            "  0.         0.         1.08138812 0.        ]], shape=(1, 130), dtype=float64)\n",
            "tf.Tensor(\n",
            "[[0.8013388]\n",
            " [1.1792238]\n",
            " [1.1597059]\n",
            " [1.0813881]], shape=(4, 1), dtype=float32)\n",
            "tf.Tensor(\n",
            "[[1.0651408]\n",
            " [1.0651408]\n",
            " [1.0651408]\n",
            " [1.0651408]], shape=(4, 1), dtype=float32)\n"
          ],
          "name": "stdout"
        }
      ]
    },
    {
      "cell_type": "code",
      "metadata": {
        "id": "ZhTzyHuN60Dd"
      },
      "source": [
        "## generator의 학습!!!\r\n",
        "\r\n",
        "def train(epochs=10,batch_size=10):\r\n",
        "    # In the Deepmind paper they use RMSProp however then Adam optimizer\r\n",
        "    # improves training time\r\n",
        "    generator_optimizer = tf.keras.optimizers.Adam(1e-4)\r\n",
        "    # This method returns a helper function to compute cross entropy loss\r\n",
        "    cross_entropy = tf.keras.losses.BinaryCrossentropy(from_logits=True)\r\n",
        "\r\n",
        "    gen_length = len(story_peaks) + int(len(story_peaks)*1.0)\r\n",
        "    pb = ProgressBar(epochs,prefix='Train...')\r\n",
        "    gen_loss_history = []\r\n",
        "    dis_loss_history = []    \r\n",
        "    for i in range(epochs):\r\n",
        "        noise = np.random.rand(batch_size,_NOISE_DIM)\r\n",
        "        biased_noise = np.random.rand(batch_size,_NOISE_DIM)\r\n",
        "        # stroy peak에 해당하는 term에게 평균값에 해당하는 bias를 추가 한다.\r\n",
        "        biased_noise[:,story_peaks] += np.mean(noise)\r\n",
        "\r\n",
        "        with tf.GradientTape() as tape:\r\n",
        "        \r\n",
        "            sw = generator([noise,biased_noise], training=True)\r\n",
        "            fake_gen_out, fake_dis_out, real_dis_out = discrete_discriminator2(sw,gen_length)\r\n",
        "        \r\n",
        "            gen_loss = cross_entropy(fake_gen_out, sw)\r\n",
        "\r\n",
        "            # 진짜를 넣은 것에 대한 output\r\n",
        "            real_loss = cross_entropy(tf.ones_like(real_dis_out), real_dis_out)\r\n",
        "            fake_loss = cross_entropy(tf.zeros_like(fake_dis_out), fake_dis_out)\r\n",
        "            dis_loss = real_loss + fake_loss\r\n",
        "\r\n",
        "        # Backpropagation\r\n",
        "        dis_grads = tape.gradient(dis_loss, discriminator.trainable_variables)\r\n",
        "        generator_optimizer.apply_gradients(zip(dis_grads, discriminator.trainable_variables))\r\n",
        "\r\n",
        "\r\n",
        "        noise = np.random.rand(batch_size,_NOISE_DIM)\r\n",
        "        biased_noise = np.random.rand(batch_size,_NOISE_DIM)\r\n",
        "        # stroy peak에 해당하는 term에게 평균값에 해당하는 bias를 추가 한다.\r\n",
        "        biased_noise[:,story_peaks] += np.mean(noise)\r\n",
        "\r\n",
        "        with tf.GradientTape() as tape:\r\n",
        "            sw = generator([noise,biased_noise], training=True)\r\n",
        "            fake_gen_out, fake_dis_out, real_dis_out = discrete_discriminator2(sw,gen_length)\r\n",
        "            gen_loss = cross_entropy(fake_gen_out, sw)\r\n",
        "\r\n",
        "        gen_grads = tape.gradient(gen_loss, generator.trainable_variables)\r\n",
        "        generator_optimizer.apply_gradients(zip(gen_grads, generator.trainable_variables))\r\n",
        "\r\n",
        "        gen_loss_history.append(gen_loss)\r\n",
        "        dis_loss_history.append(dis_loss)\r\n",
        "\r\n",
        "        pb.printProgress(+1,f'{i+1}/{epochs} epochs, gen_loss:{gen_loss}, dis_loss:{dis_loss}             ')\r\n",
        "\r\n",
        "    return  {'gen_loss':gen_loss_history,'dis_loss':dis_loss_history}"
      ],
      "execution_count": null,
      "outputs": []
    },
    {
      "cell_type": "code",
      "metadata": {
        "id": "bbn613VWeW7z"
      },
      "source": [
        "def genere_summary(count):\r\n",
        "    texts = []\r\n",
        "    gen_length = len(story_peaks) + int(len(story_peaks)*1.0)\r\n",
        "    noise = np.random.rand(count,_NOISE_DIM)\r\n",
        "    biased_noise = np.random.rand(count,_NOISE_DIM)\r\n",
        "    # stroy peak에 해당하는 term에게 평균값에 해당하는 bias를 추가 한다.\r\n",
        "    biased_noise[:,story_peaks] += np.mean(noise)\r\n",
        "    sw = generator.predict([noise,biased_noise])\r\n",
        "    for noise in sw:\r\n",
        "        gtext = text_gen(noise,gen_length)\r\n",
        "        text = ' '.join([w for (w,k) in gtext])\r\n",
        "        #print(text)\r\n",
        "        texts.append(text)\r\n",
        "    return texts\r\n"
      ],
      "execution_count": null,
      "outputs": []
    },
    {
      "cell_type": "code",
      "metadata": {
        "colab": {
          "base_uri": "https://localhost:8080/"
        },
        "id": "wR1NDncNdqwI",
        "outputId": "c307f5e2-75ad-483a-d825-5ad9553b2fd9"
      },
      "source": [
        "history = train(epochs=50,batch_size=10)"
      ],
      "execution_count": null,
      "outputs": [
        {
          "output_type": "stream",
          "text": [
            "Train... |||||||||||||||||||||| 100.0%   50/50 epochs, gen_loss:0.3115934729576111, dis_loss:1.0081886053085327             \n"
          ],
          "name": "stdout"
        }
      ]
    },
    {
      "cell_type": "code",
      "metadata": {
        "colab": {
          "base_uri": "https://localhost:8080/"
        },
        "id": "nrrq79vlfJDk",
        "outputId": "abdf7246-fca7-49d1-fdba-cda1d17e044c"
      },
      "source": [
        "texts = genere_summary(2)\r\n",
        "for txt in texts:\r\n",
        "    print('text:',txt)\r\n",
        "print('skel:',skel_text)"
      ],
      "execution_count": null,
      "outputs": [
        {
          "output_type": "stream",
          "text": [
            "text: 이 사슴이 사냥꾼이 신기하게 나무꾼이 사슴을 숨겨줬고 뒤쫓아 구해주었다. 은혜를 갚겠다고 하늘에서 목욕하는 선녀들이 목욕을 선녀의 아내로 주었다. 나무꾼은 하면서도 사슴이 목욕을 하러 내려온다는 몸을 기다리자 선녀들이 내려와 선녀탕에서 나무꾼은 날개옷이 없어진 선녀는 선녀들은 선녀를 하늘로 돌아갔다. 홀로 자신의 올라가지 못하게 선녀는 할 되었다.\n",
            "text: 이 사슴이 사냥꾼이 신기하게 나무꾼이 사슴을 숨겨줬고 뒤쫓아 구해주었다. 은혜를 갚겠다고 하늘에서 목욕하는 목욕을 선녀의 아내로 주었다. 나무꾼은 하면서도 사슴이 목욕을 하러 내려온다는 몸을 기다리자 선녀들이 내려와 선녀탕에서 나무꾼은 날개옷이 없어진 선녀는 선녀들은 선녀를 하늘로 돌아갔다. 나무꾼이 홀로 자신의 올라가지 못하게 선녀는 할 되었다.\n",
            "skel: 숲 사냥꾼이 나무꾼이 뒤쫓아 사냥꾼을 갚겠다고 목욕하는 목욕을 선녀의 아내로 나무꾼은 목욕을 숨겼다. 선녀들이 내려와 나무꾼은 없어진 선녀들은 선녀를 자신의 못하게 되었다. \n"
          ],
          "name": "stdout"
        }
      ]
    },
    {
      "cell_type": "code",
      "metadata": {
        "id": "qNQLESjyeONH"
      },
      "source": [
        ""
      ],
      "execution_count": null,
      "outputs": []
    }
  ]
}